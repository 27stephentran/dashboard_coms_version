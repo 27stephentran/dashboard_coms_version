{
  "cells": [
    {
      "attachments": {},
      "cell_type": "markdown",
      "metadata": {},
      "source": [
        "import modules"
      ]
    },
    {
      "cell_type": "code",
      "execution_count": 1,
      "metadata": {
        "id": "IDuTDwRMGKQj"
      },
      "outputs": [],
      "source": [
        "import requests\n",
        "from bs4 import BeautifulSoup\n",
        "from rich.progress import track\n",
        "from datetime import date, timedelta\n",
        "from dateutil.relativedelta import relativedelta\n",
        "import time\n",
        "from google.oauth2.credentials import Credentials\n",
        "from google_auth_oauthlib.flow import InstalledAppFlow\n",
        "from googleapiclient.discovery import build\n",
        "from googleapiclient.errors import HttpError\n",
        "import json"
      ]
    },
    {
      "attachments": {},
      "cell_type": "markdown",
      "metadata": {},
      "source": [
        "declairce must have variable and constants"
      ]
    },
    {
      "cell_type": "code",
      "execution_count": 2,
      "metadata": {
        "id": "dKGH0Dtzz15s"
      },
      "outputs": [],
      "source": [
        "time_start = time.time()\n",
        "SCOPES =  ['https://www.googleapis.com/auth/spreadsheets']\n",
        "\n",
        "\n",
        "DOMAINS = 'https://lms.logika.asia/group?'\n",
        "CPR_DOMAINS = 'https://lms.logika.asia/group/default/schedule'\n",
        "\n",
        "date_now = date.today()\n",
        "date_start = date_now - relativedelta(years=1)\n",
        "date_end = date_now + relativedelta(years=1)\n",
        "\n",
        "s = requests.Session()\n",
        "try:\n",
        "    creds = Credentials.from_authorized_user_file('token.json', SCOPES)\n",
        "except FileNotFoundError:\n",
        "    flow = InstalledAppFlow.from_client_secrets_file(\n",
        "        'credentials.json', SCOPES)\n",
        "    creds = flow.run_local_server(port=0)\n",
        "    with open('token.json', 'w') as token:\n",
        "        token.write(creds.to_json())\n",
        "service = build('sheets', 'v4', credentials=creds)\n",
        "sheet = service.spreadsheets()\n",
        "class_report = []\n",
        "bases = ['NLB', \"NVH\", \"PXL\", \"VCP\"]\n",
        "# bases = [\"VCP\"]\n",
        "date = {\"MON\" : 2,\"TUE\" : 3,\"WED\" : 4,\"THU\" : 5,\"FRI\" : 6,\"SAT\" : 7,\"SUN\" : 8}"
      ]
    },
    {
      "attachments": {},
      "cell_type": "markdown",
      "metadata": {},
      "source": [
        "get percentage for each class happend the day before"
      ]
    },
    {
      "cell_type": "code",
      "execution_count": 8,
      "metadata": {
        "id": "03AcjDYLlC8X"
      },
      "outputs": [
        {
          "name": "stdout",
          "output_type": "stream",
          "text": [
            "{'WK_CK1_MON/WED_OFF': ['2\\xa0(0)', 27], 'WK_DL1_MON/WED_OFF': ['2\\xa0(0)', 55], 'NVH_VP24_MON_OFF': ['2\\xa0(0)', 27], 'NVH_GD31_MON_OFF': ['2\\xa0(0)', 26], 'NVH_DL9_MON_OFF': ['1\\xa0(0)', 9], 'NLB_PTSY1.52_MON_OFF': ['2\\xa0(0)', 7], 'VCP_GD10_MON_OFF': ['1\\xa0(0)', 30], 'NVH_PTSY2.22_MON_OFF (PRIVATE)': ['1\\xa0(0)', 24], 'NLB_PTSY2.18_MON_OFF': ['2\\xa0(0)', 15], 'NVH_VP27_MON_OFF': ['2\\xa0(0)', 24], 'NVH_PTSY2.30_MON_OFF': ['7\\xa0(0)', 18], 'NLB_PTSY2.14_MON_OFF': ['6\\xa0(0)', 22], 'NLB_DL7_MON_ONL': ['1\\xa0(0)', 22], 'NVH_CK28_MON_OFF': ['2\\xa0(0)', 26], 'NLB_VP20_MON_OFF': ['3\\xa0(0)', 32], 'NVH_WDY1.4_MON_OFF': ['3\\xa0(0)', 31], 'NLB_CK22_MON_OFF': ['1\\xa0(0)', 30], 'NVH_GD48_MON_ONL': ['2\\xa0(0)', 5], 'NLB_GD57_MON_OFF': ['6\\xa0(0)', 4], 'PXL_VP13_MON_OFF': ['1\\xa0(0)', 9], 'VCP_GD14_MON_OFF': ['3\\xa0(0)', 17], 'NVH_WDY2.2_MON_ONL (PRIVATE)': ['1\\xa0(0)', 23], 'NVH_VP18_MON_OFF': ['2\\xa0(0)', 32], 'NVH_DL14_MON_OFF': ['2\\xa0(0)', 4], 'NLB_VP39_MON_OFF': ['1\\xa0(0)', 7], 'PXL_VP14_MON_OFF': ['3\\xa0(0)', 8], 'PXL_GD9_MON_OFF': ['2\\xa0(0)', 8], 'PXL_WDY1.3_MON_OFF': ['1\\xa0(0)', 8], 'VCP_PTSY1.13_MON_ONL': ['1\\xa0(0)', 11], 'NVH_GD46_MON_OFF': ['2\\xa0(0)', 11], 'NVH_VP23_MON_ONL': ['1\\xa0(0)', 27], 'NVH_PTSY1.39_MON_OFF': ['3\\xa0(0)', 26], 'NLB_PTSY1.56_MON_ONL': ['1\\xa0(0)', 5], 'PXL_VP12_MON_OFF': ['1\\xa0(0)', 12], 'NLB_VP32_MON_ONL': ['1\\xa0(0)', 17], 'NVH_PTSY2.31_MON/WED_OFF (PRIVATE)': ['1\\xa0(0)', 19], 'NLB_CK24_SUN_ONL': ['1\\xa0(0)', 30], 'NLB_GD51_TUE_ONL': ['0\\xa0(0)', 13], 'NEW PTSY2 Schedule Template - TAMMY USE': ['0\\xa0(0)', 12], 'NEW PTSY1 Schedule Template - TAMMY USE': ['0\\xa0(0)', 12], 'NVH_PTPY1.18_TUE/THU_OFF (PRIVATE)': ['1\\xa0(0)', 3], 'NVH_PTSY2.24_TUE_ONLNVH_PTSY2.24_TUE_ONL': ['3\\xa0(0)', 22], 'NVH_GD42_TUE_OFF': ['1\\xa0(0)', 13], 'VCP_PTSY1.14_TUE_OFF': ['1\\xa0(0)', 7], 'NVH_CK29_TUE_OFF': ['1\\xa0(0)', 24], 'VCP_VP14_TUE_OFF': ['1\\xa0(0)', 27], 'NVH_GD53_TUE_OFF': ['1\\xa0(0)', 1], 'VCP_PTSY2.5_TUE_OFF (PRIVATE)': ['2\\xa0(0)', 19], 'NVH_PTPY2.8_TUE_ONL': ['1\\xa0(0)', 20], 'NLB_GD40_TUE_OFF': ['1\\xa0(0)', 21], 'NLB_PTSY1.37_TUE_OFF': ['6\\xa0(0)', 32], 'NLB_VP34_TUE_OFF': ['3\\xa0(0)', 13], 'NVH_VP35_TUE_OFF': ['1\\xa0(0)', 14], 'NEW Python Pro Year 1 Schedule Template - TAMMY USE': ['0\\xa0(0)', 12], 'NVH_PTSY1.53_TUE_ONL': ['1\\xa0(0)', 4], 'NVH_WDY1.8_TUE_ONL': ['1\\xa0(0)', 5], 'NLB_PTSY2.19_TUE_OFF': ['4\\xa0(0)', 7], 'NVH_CK31_TUE_OFF': ['3\\xa0(0)', 18], 'VCP_PTPY1.2_TUE_OFF': ['2\\xa0(0)', 29], 'NLB_GD32_TUE_ONL': ['1\\xa0(0)', 30], 'NVH_VP20_TUE_OFF': ['1\\xa0(0)', 31], 'PXL_VP16_TUE_OFF': ['3\\xa0(0)', 11], 'PXL_CK6_TUE_OFF': ['2\\xa0(0)', 19], 'NVH_PTSY2.25_TUE_ONL': ['1\\xa0(0)', 20], 'NLB_GD39_TUE_ONL': ['2\\xa0(0)', 24], 'VCP_GD11_TUE_OFF': ['2\\xa0(0)', 24], 'PXL_GD5_TUE_OFF': ['6\\xa0(0)', 27], 'PXL_VP7_TUE_OFF': ['3\\xa0(0)', 27], 'NLB_GD33_TUE_OFF': ['1\\xa0(0)', 29], 'NVH_GD52_TUE_OFF': ['2\\xa0(0)', 2], 'VCP_GD19_TUE_OFF': ['2\\xa0(0)', 5], 'NLB_PTPY2.4_TUE_ONL': ['2\\xa0(0)', 31], 'NVH_CK33_TUE_ONL': ['1\\xa0(0)', 12], 'NVH_VP36_TUE_ONL': ['1\\xa0(0)', 12], 'NLB_CK30_TUE_OFF': ['1\\xa0(0)', 16], 'NLB_GD45_TUE_OFF': ['7\\xa0(0)', 16], 'NVH_VP34_WED_OFF': ['2\\xa0(0)', 15], 'NVH_GD30_WED_OFF': ['1\\xa0(0)', 28], 'NVH_GD43_WED_OFF': ['4\\xa0(0)', 11], 'NLB_WDY1.10_WED_OFF': ['1\\xa0(0)', 14], 'NLB_GD44_WED_OFF': ['4\\xa0(0)', 15], 'NVH_PTPY1.19_FRI_OFF (PRIVATE)': ['1\\xa0(0)', 11], 'NVH_PTSY1.48_WED_OFF': ['5\\xa0(0)', 14], 'VCP_DL1_WED_OFF': ['1\\xa0(0)', 32], 'PXL_GD11_WED_OFF (PRIVATE)': ['1\\xa0(0)', 1], 'VCP_GD16_WED_OFF': ['3\\xa0(0)', 15], 'NLB_GD55_WED_OFF': ['6\\xa0(0)', 5], 'NVH_GD36_WED_OFF': ['5\\xa0(0)', 17], 'NVH_WDY1.5_WED_OFF': ['3\\xa0(0)', 21], 'NEW Python Pro Year 2 Schedule Template - TAMMY USE': ['0\\xa0(0)', 12], 'NVH_GD38_WED_OFF': ['3\\xa0(0)', 12], 'NLB_WDY1.6_WED_ONL': ['1\\xa0(0)', 26], 'NVH_CK20_TUE/WED_OFF': ['1\\xa0(0)', 32], 'PXL_CK10_WED_OFF': ['2\\xa0(0)', 9], 'NLB_GD38_WED_ONL': ['1\\xa0(0)', 25], 'VCP_PTSY1.12_WED_OFF': ['4\\xa0(0)', 11], 'NVH_PTPY1.17_WED_ONL (PRIVATE)': ['1\\xa0(0)', 12], 'NVH_PTSY2.26_WED_OFF': ['1\\xa0(0)', 20], 'PXL_CK5_WED_OFF': ['1\\xa0(0)', 25], 'VCP_WDY1.4_WED_OFF': ['1\\xa0(0)', 24], 'NVH_VP25_WED_OFF': ['1\\xa0(0)', 19], 'VCP_GD23_WED_ONL': ['1\\xa0(0)', 1], 'NLB_DL8_WED_ONL': ['1\\xa0(0)', 19], 'NVH_PTPY1.22_MON/THU_ONL (PRIVATE)': ['1\\xa0(0)', 1], 'NVH_GD37_THU_OFF': ['1\\xa0(0)', 20], 'NVH_PTPY1.16_THU_OFF': ['2\\xa0(0)', 18], 'VCP_VP13_THU_OFF': ['1\\xa0(0)', 32], 'NVH_PTSY1.50_THU_OFF': ['2\\xa0(0)', 8], 'NVH_WDY1.6_THU_OFF': ['1\\xa0(0)', 17], 'NLB_VP40_THU_OFF': ['2\\xa0(0)', 8], 'VCP_PTSY2.3_THU_OFF': ['1\\xa0(0)', 22], 'NVH_VP40_THU_ONL': ['2\\xa0(0)', 8], 'NLB_PTSY1.50_THU_OFF': ['4\\xa0(0)', 13], 'VCP_VP17_THU_OFF': ['1\\xa0(0)', 26], 'NLB_PTSY2.11_THU_ONL': ['3\\xa0(0)', 28], 'NVH_PTPY1.12_THU_ONL (PRIVATE)': ['1\\xa0(0)', 30], 'NEW Python Pro Year 1 - MODIFIED': ['0\\xa0(0)', 11], 'NLB_GD50_THU_ONL': ['2\\xa0(0)', 15], 'NLB_GD49_THU_OFF': ['1\\xa0(0)', 13], 'NLB_PTSY1.48_THU_ONL': ['2\\xa0(0)', 15], 'NLB_CK37_THU_OFF': ['1\\xa0(0)', 2], 'NLB_PTSY2.21_THU_ONL': ['4\\xa0(0)', 11], 'VCP_VP19_THU_OFF': ['3\\xa0(0)', 10], 'NVH_VP32_THU_OFF': ['2\\xa0(0)', 17], 'NVH_DL8_THU_OFF': ['2\\xa0(0)', 19], 'NVH_PTSY1.43_THU_ONL': ['1\\xa0(0)', 21], 'NVH_GD50_THU_ONL': ['2\\xa0(0)', 4], 'NLB_PTPY1.10_THU_OFF': ['1\\xa0(0)', 6], 'VCP_CK8_THU_OFF': ['2\\xa0(0)', 17], 'NVH_GD25_SUN_ONL': ['1\\xa0(0)', 31], 'VCP_PTSY1.11_THU_ONL': ['3\\xa0(0)', 13], 'NLB_VP28_THU_ONL': ['1\\xa0(0)', 23], 'NLB_DL3_THU_ONL': ['3\\xa0(0)', 28], 'PXL_VP10_FRI_OFF': ['2\\xa0(0)', 21], 'NLB_PTSY1.58_FRI_ONL': ['1\\xa0(0)', 2], 'NVH_PTSY1.40_FRI_OFF': ['1\\xa0(0)', 24], 'NLB_WDY1.8_FRI_ONL': ['1\\xa0(0)', 21], 'VCP_CK11_FRI_OFF': ['1\\xa0(0)', 24], 'VCP_GD13_FRI_OFF': ['3\\xa0(0)', 23], 'NVH_VP42_FRI_OFF': ['1\\xa0(0)', 4], 'NVH_PTSY2.34_FRI_OFF': ['2\\xa0(0)', 7], 'VCP_PTSY1.7_FRI_OFF': ['1\\xa0(0)', 25], 'NLB_PTSY1.44_FRI_OFF': ['3\\xa0(0)', 21], 'NLB_PTPY1.8_FRI_OFF': ['2\\xa0(0)', 15], 'NVH_PTPY2.12_FRI_ONL (PRIVATE)': ['1\\xa0(0)', 2], 'NLB_GD37_FRI_OFF': ['2\\xa0(0)', 25], 'NLB_DL5_FRI_OFF': ['2\\xa0(0)', 29], 'NVH_GD45_FRI_OFF': ['2\\xa0(0)', 11], 'NLB_PTSY1.36_FRI_ONL': ['3\\xa0(0)', 32], 'VCP_VP16_FRI_OFF': ['4\\xa0(0)', 25], 'PXL_DL5_FRI_OFF': ['1\\xa0(0)', 3], 'NVH_DL13_FRI_OFF': ['2\\xa0(0)', 6], 'NVH_PTSY1.52_FRI_OFF': ['1\\xa0(0)', 7], 'VCP_GD15_FRI_ONL': ['1\\xa0(0)', 18], 'NLB_VP23_FRI_OFF': ['3\\xa0(0)', 29], 'VCP_CK9_FRI_OFF': ['2\\xa0(0)', 30], 'VCP_VP12_FRI_OFF\\xa0': ['2\\xa0(0)', 29], 'NLB_PTPY1.5_FRI_OFF': ['1\\xa0(0)', 32], 'NVH_PTSY2.29_FRI_ONL': ['2\\xa0(0)', 16], 'NLB_PTSY2.17_FRI_ONL': ['3\\xa0(0)', 18], 'NVH_VP31_FRI_OFF': ['3\\xa0(0)', 18], 'NVH_DL4_FRI_OFF': ['2\\xa0(0)', 23], 'NVH_GD33_FRI_OFF': ['2\\xa0(0)', 21], 'NLB_PTSY1.42_FRI_OFF': ['3\\xa0(0)', 21], 'NLB_PTPY2.5_FRI_OFF': ['1\\xa0(0)', 29], 'VCP_PTSY1.10_FRI_OFF': ['1\\xa0(0)', 21], 'NLB_CK23_FRI_OFF': ['1\\xa0(0)', 31], 'NLB_VP18_FRI_ONL': ['1\\xa0(0)', 32], 'VCP_GD17_FRI_OFF': ['1\\xa0(0)', 15], 'NLB_PTSY2.25_FRI_ONL': ['2\\xa0(0)', 2], 'NLB_PTSY1.57_FRI_OFF': ['2\\xa0(0)', 1], 'NVH_PTPY2.9_FRI_OFF': ['4\\xa0(0)', 11], 'NVH_VP37_FRI_ONL': ['1\\xa0(0)', 13], 'NLB_GD48_FRI_ONL': ['2\\xa0(0)', 17], 'NLB_WDY1.7_FRI_OFF': ['1\\xa0(0)', 25], 'NLB_DL4_FRI_ONL': ['2\\xa0(0)', 31], 'NLB_CK33_FRI_ONL': ['1\\xa0(0)', 12], 'NLB_CK26_FRI_ONL': ['3\\xa0(0)', 28], 'VCP_CK12_SAT_OFF': ['4\\xa0(0)', 16], 'PXL_DL1_SAT_OFF': ['1\\xa0(0)', 28], 'PXL_VP1_SAT_OFF': ['3\\xa0(0)', 32], 'PXL_DL4_SAT_OFF': ['1\\xa0(0)', 2], 'NVH_GD44_SAT_OFF': ['2\\xa0(0)', 14], 'NVH_GD40_SAT_ONL': ['2\\xa0(0)', 15], 'NLB_CK32_SAT_OFF': ['2\\xa0(0)', 14], 'NLB_DL9_SAT_OFF': ['5\\xa0(0)', 10], 'NLB_GD46_SAT_OFF': ['8\\xa0(0)', 16], 'NLB_VP29_SAT_ONL': ['2\\xa0(0)', 18], 'VCP_PTPY1.3_SAT_OFF': ['2\\xa0(0)', 19], 'NVH_GD29_SAT_OFF': ['7\\xa0(0)', 27], 'NLB_GD28_SAT_OFF': ['1\\xa0(0)', 29], 'VCP_GD20_SAT_OFF': ['3\\xa0(0)', 2], 'NVH_WDY1.9_SAT_OFF': ['1\\xa0(0)', 5], 'NVH_GD49_SAT_OFF': ['1\\xa0(0)', 5], 'PXL_CK11_SAT_OFF': ['2\\xa0(0)', 8], 'NLB_PTSY1.49_SAT_OFF': ['4\\xa0(0)', 15], 'PXL_VP8_SAT_OFF': ['3\\xa0(0)', 19], 'NVH_PTPY1.15_SAT_ONL': ['1\\xa0(0)', 19], 'NVH_PTPY1.13_SAT_OFF': ['3\\xa0(0)', 19], 'VCP_WDY1.3_SAT_OFF': ['1\\xa0(0)', 32], 'NLB_PTSY1.41_SAT_ONL': ['2\\xa0(0)', 26], 'NLB_VP24_SAT_ONL': ['3\\xa0(0)', 26], 'NVH_PTSY1.54_SAT_OFF': ['1\\xa0(0)', 5], 'NVH_VP39_SAT_OFF': ['1\\xa0(0)', 10], 'NVH_PTSY2.30_SAT_OFF': ['3\\xa0(0)', 11], 'NVH_PTSY1.44_SAT_ONL': ['2\\xa0(0)', 20], 'NVH_PTSY2.29_SAT_OFF': ['3\\xa0(0)', 17], 'NLB_VP22_SAT_ONL': ['2\\xa0(0)', 29], 'NLB_PTSY2.15_SAT_ONL': ['1\\xa0(0)', 19], 'NLB_VP27_SAT_OFF': ['4\\xa0(0)', 25], 'NLB_WDY1.12_SAT_ONL': ['2\\xa0(0)', 5], 'NVH_PTPY2.11_SAT_ONL': ['1\\xa0(0)', 8], 'NLB_PTSY1.51_SAT_ONL': ['2\\xa0(0)', 15], 'NLB_VP33_SAT_OFF': ['6\\xa0(0)', 16], 'NLB_WDY1.9_SAT_OFF': ['2\\xa0(0)', 17], 'NLB_WDY2.1_SAT_OFF': ['2\\xa0(0)', 20], 'NLB_PTPY1.6_SAT_OFF': ['3\\xa0(0)', 25], 'NVH_PTPY1.8_SAT_OFF': ['8\\xa0(0)', 33], 'VCP_DL3_SAT_OFF': ['3\\xa0(0)', 19], 'VCP_GD12_SAT_OFF': ['2\\xa0(0)', 24], 'NLB_PTSY1.55_SAT_ONL': ['1\\xa0(0)', 6], 'NVH_CK23_SAT_OFF': ['3\\xa0(0)', 32], 'NVH_PTPY1.21_SAT_OFF': ['3\\xa0(0)', 5], 'NVH_PTSY2.28_SAT_OFF (PRIVATE)': ['1\\xa0(0)', 19], 'NVH_DL7_SAT_OFF (PRIVATE)': ['1\\xa0(0)', 16], 'VCP_PTPY1.1_SAT_OFF': ['1\\xa0(0)', 31], 'NLB_PTSY1.54_SAT_OFF': ['3\\xa0(0)', 5], 'NLB_DL10_SAT_OFF': ['2\\xa0(0)', 8], 'NLB_VP38_SAT_OFF': ['2\\xa0(0)', 5], 'NLB_GD52_SAT_OFF': ['4\\xa0(0)', 5], 'NLB_PTPY1.9_SAT_ONL': ['2\\xa0(0)', 10], 'PXL_PTSY2.1_SAT_OFF': ['2\\xa0(0)', 16], 'VCP_PTSY1.8_SAT_OFF': ['1\\xa0(0)', 22], 'PXL_GD16_SAT_OFF': ['5\\xa0(0)', 1], 'NVH_PTPY1.20_SAT_OFF': ['1\\xa0(0)', 8], 'NLB_PTSY2.20_SAT_OFF': ['7\\xa0(0)', 10], 'NVH_PTSY1.46_SAT_OFF': ['1\\xa0(0)', 14], 'PXL_VP5_SAT_OFF': ['1\\xa0(0)', 29], 'NVH_PTSY2.38_SAT_ONL': ['1\\xa0(0)', 1], 'NVH_PTPY2.10_SAT_OFF': ['1\\xa0(0)', 8], 'PXL_VP11_SAT_OFF': ['2\\xa0(0)', 15], 'VCP_PTSY2.4_SAT_OFF': ['2\\xa0(0)', 20], 'NVH_PTSY2.36_SAT_OFF': ['2\\xa0(0)', 3], 'VCP_DL5_SAT_OFF': ['2\\xa0(0)', 6], 'NLB_GD47_SAT_ONL': ['4\\xa0(0)', 17], 'PXL_DL3_SAT_OFF': ['1\\xa0(0)', 20], 'NLB_PTSY2.13_SAT_OFF': ['2\\xa0(0)', 21], 'NLB_VP26_SAT_OFF': ['4\\xa0(0)', 23], 'PXL_CK4_SAT_OFF': ['2\\xa0(0)', 27], 'NLB_UGD1_SAT_OFF': ['1\\xa0(0)', 23], 'NVH_WDY1.2_SAT_OFF': ['1\\xa0(0)', 31], 'NVH_VP43_SAT_OFF': ['3\\xa0(0)', 5], 'NLB_PTPY1.7_SAT_OFF': ['1\\xa0(0)', 12], 'NLB_UGD2_SAT_OFF': ['1\\xa0(0)', 15], 'PXL_GD6_SAT_OFF': ['3\\xa0(0)', 25], 'NVH_GD27_SAT_OFF': ['2\\xa0(0)', 31], 'NVH_PTSY2.35_SAT_ONL': ['1\\xa0(0)', 3], 'VCP_UGD1_SAT_OFF': ['1\\xa0(0)', 9], 'PXL_DL2_SAT_OFF': ['1\\xa0(0)', 22], 'NVH_CK25_SAT_OFF': ['1\\xa0(0)', 24], 'VCP_GD18_SAT_OFF': ['2\\xa0(0)', 7], 'VCP_PTSY2.6_SAT_OFF': ['1\\xa0(0)', 10], 'NVH_GD41_SAT_OFF': ['4\\xa0(0)', 16], 'NVH_VP29_SAT_OFF': ['5\\xa0(0)', 22], 'NLB_GD41_SAT_ONL (PRIVATE)': ['1\\xa0(0)', 25], 'NLB_CK25_SAT_OFF': ['2\\xa0(0)', 26], 'NLB_VP37_SAT_OFF': ['2\\xa0(0)', 10], 'NVH_VP38_SAT_OFF': ['2\\xa0(0)', 11], 'PXL_WDY1.2_SAT_OFF': ['1\\xa0(0)', 14], 'NVH_CK30_SAT_OFF': ['2\\xa0(0)', 22], 'NLB_PTSY1.40_SAT_OFF': ['3\\xa0(0)', 26], 'NVH_PTPY2.6_SAT_ONL': ['1\\xa0(0)', 26], 'PXL_PTSY2.4_SAT_OFF': ['2\\xa0(0)', 1], 'NLB_PTSY1.53_SAT_OFF': ['3\\xa0(0)', 10], 'NLB_CK35_SAT_OFF': ['1\\xa0(0)', 10], 'PXL_CK8_SAT_OFF': ['2\\xa0(0)', 15], 'NLB_PTSY1.46_SAT_OFF': ['4\\xa0(0)', 17], 'PXL_GD3_SAT_OFF': ['5\\xa0(0)', 32], 'NVH_PTSY1.42_SAT_ONL': ['4\\xa0(0)', 20], 'NVH_PTSY1.49_SAT_OFF': ['2\\xa0(0)', 9], 'PXL_PTSY2.2_SAT_OFF': ['1\\xa0(0)', 3], 'NLB_PTSY2.10_SAT_ONL': ['4\\xa0(0)', 28], 'PXL_PTSY1.4_SUN_OFF': ['2\\xa0(0)', 32], 'PXL_VP19_SUN_OFF': ['1\\xa0(0)', 5], 'NLB_VP41_SUN_ONL': ['2\\xa0(0)', 6], 'NLB_VP36_SUN_OFF': ['1\\xa0(0)', 11], 'NLB_GD42_SUN_OFF': ['4\\xa0(0)', 19], 'NLB_CK28_SUN_OFF': ['4\\xa0(0)', 19], 'NLB_PTPY1.4_SUN_OFF (PRIVATE)': ['1\\xa0(0)', 33], 'PXL_PTSY2.3_SUN_OFF': ['1\\xa0(0)', 1], 'PXL_PTSY1.7_SUN_OFF': ['1\\xa0(0)', 3], 'NVH_PTSY2.33_SUN_OFF': ['3\\xa0(0)', 8], 'NVH_DL11_SUN_OFF': ['3\\xa0(0)', 14], 'VCP_DL4_SUN_OFF': ['2\\xa0(0)', 16], 'VCP_PTSY1.9_SUN_OFF': ['1\\xa0(0)', 21], 'VCP_CK10_SUN_OFF': ['1\\xa0(0)', 23], 'PXL_PTPY1.1_SUN_OFF': ['1\\xa0(0)', 31], 'NVH_CK26_SUN_OFF': ['1\\xa0(0)', 30], 'NVH_PTSY1.38_SUN_OFF': ['1\\xa0(0)', 23], 'NLB_GD34_SUN_OFF': ['3\\xa0(0)', 30], 'NLB_PTPY2.6_SUN_OFF': ['1\\xa0(0)', 5], 'NVH_GD47_SUN_OFF': ['4\\xa0(0)', 8], 'PXL_PTSY1.5_SUN_OFF': ['2\\xa0(0)', 3], 'NLB_GD54_SUN_OFF': ['4\\xa0(0)', 7], 'NLB_GD53_SUN_ONL': ['2\\xa0(0)', 7], 'NVH_CK32_SUN_OFF': ['2\\xa0(0)', 16], 'NLB_CK31_SUN_ONL': ['2\\xa0(0)', 12], 'NLB_PTSY2.12_SUN_OFF': ['2\\xa0(0)', 27], 'NLB_WDY2.2_SUN_ONL': ['1\\xa0(0)', 3], 'NVH_PTSY1.55_SUN_OFF': ['2\\xa0(0)', 2], 'PXL_GD10_SUN_OFF': ['3\\xa0(0)', 11], 'VCP_VP20_SUN_OFF': ['6\\xa0(0)', 10], 'NVH_WDY1.7_SUN_OFF': ['1\\xa0(0)', 16], 'NVH_PTSY1.47_SUN_OFF': ['3\\xa0(0)', 17], 'NLB_CK27_SUN_OFF': ['4\\xa0(0)', 22], 'NVH_GD34_SUN_OFF': ['3\\xa0(0)', 20], 'PXL_WDY2.1_SUN_OFF': ['1\\xa0(0)', 28], 'NLB_GD35_SUN_ONL': ['3\\xa0(0)', 28], 'NVH_GD26_SUN_OFF': ['4\\xa0(0)', 31], 'NLB_CK34_SUN_OFF': ['3\\xa0(0)', 11], 'NLB_VP21_SUN_OFF': ['1\\xa0(0)', 28], 'NVH_PTSY2.37_SUN_ONL': ['3\\xa0(0)', 1], 'VCP_GD22_SUN_OFF': ['7\\xa0(0)', 2], 'VCP_VP22_SUN_OFF': ['2\\xa0(0)', 2], 'NLB_WDY1.11_SUN_OFF': ['1\\xa0(0)', 5], 'PXL_GD8_SUN_OFF': ['4\\xa0(0)', 14], 'NLB_GD39_SUN_OFF': ['5\\xa0(0)', 24], 'NVH_GD28_SUN_OFF': ['3\\xa0(0)', 30], 'NVH_VP22_SUN_OFF': ['2\\xa0(0)', 29], 'VCP_PTSY1.6_SUN_OFF': ['3\\xa0(0)', 31], 'NVH_VP41_SUN_OFF': ['2\\xa0(0)', 7], 'NVH_CK35_SUN_OFF': ['4\\xa0(0)', 6], 'NVH_CK34_SUN_OFF': ['2\\xa0(0)', 8], 'NVH_VP33_SUN_ONL': ['2\\xa0(0)', 16], 'NLB_PTSY1.43_SUN_OFF (PRIVATE)': ['1\\xa0(0)', 20], 'NVH_PTSY2.21_SUN_OFF': ['2\\xa0(0)', 27], 'NLB_DL11_SUN_OFF': ['1\\xa0(0)', 1], 'NLB_WDY2.3_SUN_OFF': ['0\\xa0(0)', 1], 'VCP_PTSY1.15_SUN_OFF': ['2\\xa0(0)', 6], 'PXL_VP18_SUN_OFF': ['1\\xa0(0)', 7], 'PXL_GD12_SUN_OFF': ['2\\xa0(0)', 8], 'NLB_UGD3_SUN_OFF': ['2\\xa0(0)', 2], 'PXL_CK9_SUN_OFF': ['1\\xa0(0)', 14], 'NLB_VP30_SUN_ONL': ['3\\xa0(0)', 19], 'NLB_CK29_SUN_ONL': ['2\\xa0(0)', 19], 'VCP_GD9_SUN_OFF': ['3\\xa0(0)', 29], 'VCP_VP21_SUN_OFF': ['2\\xa0(0)', 5], 'NLB_PTSY2.22_SUN_OFF': ['6\\xa0(0)', 5], 'NLB_GD56_SUN_OFF': ['6\\xa0(0)', 5], 'NLB_VP16_SUN_ONL': ['2\\xa0(0)', 32], 'NLB_CK36_SUN_OFF': ['3\\xa0(0)', 5], 'NVH_PTSY2.32_SUN_ONL': ['2\\xa0(0)', 9], 'NVH_PTSY1.51_SUN_ONL': ['2\\xa0(0)', 8], 'VCP_CK13_SUN_OFF': ['1\\xa0(0)', 5], 'NLB_WDY1.13_SUN_OFF': ['1\\xa0(0)', 2], 'NLB_VP25_SUN_ONL': ['2\\xa0(0)', 24], 'NLB_PTPY1.11_SUN_OFF': ['1\\xa0(0)', 3], 'NVH_PTSY2.20_SUN_ONL': ['2\\xa0(0)', 31]}\n"
          ]
        }
      ],
      "source": [
        "def get_percentage():\n",
        "\n",
        "  percentages = {}\n",
        "  for base in bases:\n",
        "    for i in range(1,3):\n",
        "      date = date_now.today() - timedelta(i)\n",
        "      para = f'?GroupWithLessonSearch%5BnextLessonTime%5D={date}+-+{date}&GroupWithLessonSearch%5BnextLessonNumber%5D=&GroupWithLessonSearch%5BnextLessonTitle%5D=&GroupWithLessonSearch%5Bid%5D=&GroupWithLessonSearch%5Btitle%5D={base}&GroupWithLessonSearch%5Bvenue%5D=&GroupWithLessonSearch%5Bactive_student_count%5D=&GroupWithLessonSearch%5Bweekday%5D=&GroupWithLessonSearch%5BlessonTeacherName%5D=&GroupWithLessonSearch%5Bteacher%5D=&GroupWithLessonSearch%5Bcurator%5D=&GroupWithLessonSearch%5Btype%5D=&GroupWithLessonSearch%5Bstatus%5D=&GroupWithLessonSearch%5BlessonFormat%5D=&GroupWithLessonSearch%5Bis_online%5D=&export=true&name=default&exportType=html'\n",
        "      header =  {\n",
        "          \"accept\": \"text/html,application/xhtml+xml,application/xml;q=0.9,image/avif,image/webp,image/apng,*/*;q=0.8,application/signed-exchange;v=b3;q=0.7\",\n",
        "          \"accept-language\": \"en-US,en;q=0.9,vi-VN;q=0.8,vi;q=0.7\",\n",
        "          \"cache-control\": \"max-age=0\",\n",
        "          \"sec-ch-ua\": \"\\\"Not.A/Brand\\\";v=\\\"8\\\", \\\"Chromium\\\";v=\\\"114\\\", \\\"Google Chrome\\\";v=\\\"114\\\"\",\n",
        "          \"sec-ch-ua-mobile\": \"?0\",\n",
        "          \"sec-ch-ua-platform\": \"\\\"Windows\\\"\",\n",
        "          \"sec-fetch-dest\": \"document\",\n",
        "          \"sec-fetch-mode\": \"navigate\",\n",
        "          \"sec-fetch-site\": \"same-origin\",\n",
        "          \"sec-fetch-user\": \"?1\",\n",
        "          \"upgrade-insecure-requests\": \"1\",\n",
        "          \"cookie\": \"_ym_uid=1664966280852805697; intercom-device-id-ufjpx6k3=fd3080c1-5a63-4af6-bd1f-15268d549a7e; userId=30454; _grid_page_size_schedule=35d0980fa38e2255112d0c62698773cab8aa12a81c6735caf172064b5eb6ea47a%3A2%3A%7Bi%3A0%3Bs%3A24%3A%22_grid_page_size_schedule%22%3Bi%3A1%3Bs%3A3%3A%22200%22%3B%7D; _grid_page_size=d3ebbdf9ec9235bfc4ba59572a6d3dd403a563222be148e9c705e91612194e49a%3A2%3A%7Bi%3A0%3Bs%3A15%3A%22_grid_page_size%22%3Bi%3A1%3Bs%3A3%3A%22200%22%3B%7D; _ym_d=1680775536; sidebar-state=collapsed; studentId=1700942; _gid=GA1.2.1905923590.1685501187; studentAccessToken=dd3e27ac271a880d3828bd89fc2f361690522dc8b5f30fa1e35d2696b9c18e99; studentCreatedTimestamp=1685501221; intercom-session-ufjpx6k3=bFh2a3RNN2VVODJWSG9VOEhwWnpaMmVnSFI2WG9qRmQxUEZBVXVmL2xjQk9MTjRrM2hMTUxWcm5EZ3BmOEV0Qy0tK3h2YnV1a3dlVE1BbDl3a0JydGhuUT09--d98eb2edc5949eab40241a8fa7f8657fb4991710; previousPage=%2F; SERVERID=b450; createdTimestamp=1685604612; accessToken=12cb27d08f1ecb5d6d36771de2e09462efa4e98a878216b1427e3e6dfd1ce88d; SERVERID=b520; _backendMainSessionId=773e6a790225c56332767614b932ec91; _gat_gtag_UA_122842599_49=1; _ym_isad=2; _ym_visorc=w; _ga_3QSGZBLTE3=GS1.1.1685604614.81.1.1685604623.0.0.0; _ga=GA1.1.1620969847.1664966279\",\n",
        "          \"Referer\": f\"{CPR_DOMAINS}?GroupLessonSearch%5Bstart_time%5D={date}%20-%20{date}&GroupLessonSearch%5Bnumber%5D=&GroupLessonSearch%5Blesson.title%5D=&GroupLessonSearch%5Bgroup_id%5D=&GroupLessonSearch%5Bgroup.title%5D={base}&GroupLessonSearch%5Bgroup.active_student_count%5D=&GroupLessonSearch%5Bweekday%5D=&GroupLessonSearch%5Bteacher.name%5D=&GroupLessonSearch%5Bgroup.teacher.name%5D=&GroupLessonSearch%5Bis_online%5D=\",\n",
        "          \"Referrer-Policy\": \"strict-origin-when-cross-origin\"\n",
        "      }\n",
        "      end_point = CPR_DOMAINS + para\n",
        "      res = s.get(end_point, headers = header)\n",
        "      output = res.content.decode('utf-8')\n",
        "      soup = BeautifulSoup(output, 'html.parser', from_encoding='utf-8')\n",
        "      soup.find('tbody')\n",
        "      # get data \n",
        "      all_tr = soup.find_all('tr')\n",
        "      for i in range(len(all_tr)):\n",
        "        tr = all_tr[i]\n",
        "        all_td = tr.find_all('td')\n",
        "        next_les = all_td[1]\n",
        "        next_les = next_les.string\n",
        "        group_title = all_td[4].find('a')\n",
        "        \n",
        "        id = all_td[4].find('p')\n",
        "        class_occurrences = all_td[6].find('span')\n",
        "        if class_occurrences is None:\n",
        "          continue\n",
        "        class_occurrences = class_occurrences.string\n",
        "        if group_title is None:\n",
        "          continue\n",
        "        # print(str(class_occurrences))\n",
        "        group_title = group_title.string\n",
        "        percentages[str(group_title)] = [str(class_occurrences), int(next_les)]\n",
        "  \n",
        "  return percentages \n",
        "percentages = get_percentage()\n",
        "print(percentages)"
      ]
    },
    {
      "attachments": {},
      "cell_type": "markdown",
      "metadata": {},
      "source": [
        "main function \n",
        "will get update in the future and clean up soon."
      ]
    },
    {
      "cell_type": "code",
      "execution_count": 14,
      "metadata": {
        "id": "v1INZn-czjlm"
      },
      "outputs": [
        {
          "data": {
            "application/vnd.jupyter.widget-view+json": {
              "model_id": "569fe17fa65b49c7bf42ca4115bbc44f",
              "version_major": 2,
              "version_minor": 0
            },
            "text/plain": [
              "Output()"
            ]
          },
          "metadata": {},
          "output_type": "display_data"
        },
        {
          "data": {
            "text/html": [
              "<pre style=\"white-space:pre;overflow-x:auto;line-height:normal;font-family:Menlo,'DejaVu Sans Mono',consolas,'Courier New',monospace\">Non\n",
              "</pre>\n"
            ],
            "text/plain": [
              "Non\n"
            ]
          },
          "metadata": {},
          "output_type": "display_data"
        },
        {
          "name": "stdout",
          "output_type": "stream",
          "text": [
            "55\n"
          ]
        },
        {
          "data": {
            "text/html": [
              "<pre style=\"white-space:pre;overflow-x:auto;line-height:normal;font-family:Menlo,'DejaVu Sans Mono',consolas,'Courier New',monospace\">Non invalid literal for int() with base 10: 'S'\n",
              "</pre>\n"
            ],
            "text/plain": [
              "Non invalid literal for int() with base 10: 'S'\n"
            ]
          },
          "metadata": {},
          "output_type": "display_data"
        },
        {
          "data": {
            "text/html": [
              "<pre style=\"white-space:pre;overflow-x:auto;line-height:normal;font-family:Menlo,'DejaVu Sans Mono',consolas,'Courier New',monospace\">VCP_GD23_WED_ONL\n",
              "</pre>\n"
            ],
            "text/plain": [
              "VCP_GD23_WED_ONL\n"
            ]
          },
          "metadata": {},
          "output_type": "display_data"
        },
        {
          "data": {
            "text/html": [
              "<pre style=\"white-space:pre;overflow-x:auto;line-height:normal;font-family:Menlo,'DejaVu Sans Mono',consolas,'Courier New',monospace\">VCP_GD22_SUN_OFF\n",
              "</pre>\n"
            ],
            "text/plain": [
              "VCP_GD22_SUN_OFF\n"
            ]
          },
          "metadata": {},
          "output_type": "display_data"
        },
        {
          "data": {
            "text/html": [
              "<pre style=\"white-space:pre;overflow-x:auto;line-height:normal;font-family:Menlo,'DejaVu Sans Mono',consolas,'Courier New',monospace\">VCP_VP22_SUN_OFF\n",
              "</pre>\n"
            ],
            "text/plain": [
              "VCP_VP22_SUN_OFF\n"
            ]
          },
          "metadata": {},
          "output_type": "display_data"
        },
        {
          "data": {
            "text/html": [
              "<pre style=\"white-space:pre;overflow-x:auto;line-height:normal;font-family:Menlo,'DejaVu Sans Mono',consolas,'Courier New',monospace\">VCP_CK13_SUN_OFF\n",
              "</pre>\n"
            ],
            "text/plain": [
              "VCP_CK13_SUN_OFF\n"
            ]
          },
          "metadata": {},
          "output_type": "display_data"
        },
        {
          "data": {
            "text/html": [
              "<pre style=\"white-space:pre;overflow-x:auto;line-height:normal;font-family:Menlo,'DejaVu Sans Mono',consolas,'Courier New',monospace\">VCP_GD21_SAT_OFF\n",
              "</pre>\n"
            ],
            "text/plain": [
              "VCP_GD21_SAT_OFF\n"
            ]
          },
          "metadata": {},
          "output_type": "display_data"
        },
        {
          "data": {
            "text/html": [
              "<pre style=\"white-space:pre;overflow-x:auto;line-height:normal;font-family:Menlo,'DejaVu Sans Mono',consolas,'Courier New',monospace\">VCP_GD20_SAT_OFF\n",
              "</pre>\n"
            ],
            "text/plain": [
              "VCP_GD20_SAT_OFF\n"
            ]
          },
          "metadata": {},
          "output_type": "display_data"
        },
        {
          "data": {
            "text/html": [
              "<pre style=\"white-space:pre;overflow-x:auto;line-height:normal;font-family:Menlo,'DejaVu Sans Mono',consolas,'Courier New',monospace\">VCP_VP21_SUN_OFF\n",
              "</pre>\n"
            ],
            "text/plain": [
              "VCP_VP21_SUN_OFF\n"
            ]
          },
          "metadata": {},
          "output_type": "display_data"
        },
        {
          "data": {
            "text/html": [
              "<pre style=\"white-space:pre;overflow-x:auto;line-height:normal;font-family:Menlo,'DejaVu Sans Mono',consolas,'Courier New',monospace\">VCP_PTSY1.15_SUN_OFF\n",
              "</pre>\n"
            ],
            "text/plain": [
              "VCP_PTSY1.15_SUN_OFF\n"
            ]
          },
          "metadata": {},
          "output_type": "display_data"
        },
        {
          "data": {
            "text/html": [
              "<pre style=\"white-space:pre;overflow-x:auto;line-height:normal;font-family:Menlo,'DejaVu Sans Mono',consolas,'Courier New',monospace\">VCP_DL5_SAT_OFF\n",
              "</pre>\n"
            ],
            "text/plain": [
              "VCP_DL5_SAT_OFF\n"
            ]
          },
          "metadata": {},
          "output_type": "display_data"
        },
        {
          "data": {
            "text/html": [
              "<pre style=\"white-space:pre;overflow-x:auto;line-height:normal;font-family:Menlo,'DejaVu Sans Mono',consolas,'Courier New',monospace\">VCP_GD19_TUE_OFF\n",
              "</pre>\n"
            ],
            "text/plain": [
              "VCP_GD19_TUE_OFF\n"
            ]
          },
          "metadata": {},
          "output_type": "display_data"
        },
        {
          "data": {
            "text/html": [
              "<pre style=\"white-space:pre;overflow-x:auto;line-height:normal;font-family:Menlo,'DejaVu Sans Mono',consolas,'Courier New',monospace\">VCP_PTSY1.14_TUE_OFF\n",
              "</pre>\n"
            ],
            "text/plain": [
              "VCP_PTSY1.14_TUE_OFF\n"
            ]
          },
          "metadata": {},
          "output_type": "display_data"
        },
        {
          "data": {
            "text/html": [
              "<pre style=\"white-space:pre;overflow-x:auto;line-height:normal;font-family:Menlo,'DejaVu Sans Mono',consolas,'Courier New',monospace\">VCP_GD18_SAT_OFF\n",
              "</pre>\n"
            ],
            "text/plain": [
              "VCP_GD18_SAT_OFF\n"
            ]
          },
          "metadata": {},
          "output_type": "display_data"
        },
        {
          "data": {
            "text/html": [
              "<pre style=\"white-space:pre;overflow-x:auto;line-height:normal;font-family:Menlo,'DejaVu Sans Mono',consolas,'Courier New',monospace\">VCP_PTSY2.6_SAT_OFF\n",
              "</pre>\n"
            ],
            "text/plain": [
              "VCP_PTSY2.6_SAT_OFF\n"
            ]
          },
          "metadata": {},
          "output_type": "display_data"
        },
        {
          "data": {
            "text/html": [
              "<pre style=\"white-space:pre;overflow-x:auto;line-height:normal;font-family:Menlo,'DejaVu Sans Mono',consolas,'Courier New',monospace\">VCP_VP20_SUN_OFF\n",
              "</pre>\n"
            ],
            "text/plain": [
              "VCP_VP20_SUN_OFF\n"
            ]
          },
          "metadata": {},
          "output_type": "display_data"
        },
        {
          "data": {
            "text/html": [
              "<pre style=\"white-space:pre;overflow-x:auto;line-height:normal;font-family:Menlo,'DejaVu Sans Mono',consolas,'Courier New',monospace\">VCP_PTSY1.13_MON_ONL\n",
              "</pre>\n"
            ],
            "text/plain": [
              "VCP_PTSY1.13_MON_ONL\n"
            ]
          },
          "metadata": {},
          "output_type": "display_data"
        },
        {
          "data": {
            "text/html": [
              "<pre style=\"white-space:pre;overflow-x:auto;line-height:normal;font-family:Menlo,'DejaVu Sans Mono',consolas,'Courier New',monospace\">VCP_PTSY1.12_WED_OFF\n",
              "</pre>\n"
            ],
            "text/plain": [
              "VCP_PTSY1.12_WED_OFF\n"
            ]
          },
          "metadata": {},
          "output_type": "display_data"
        },
        {
          "data": {
            "text/html": [
              "<pre style=\"white-space:pre;overflow-x:auto;line-height:normal;font-family:Menlo,'DejaVu Sans Mono',consolas,'Courier New',monospace\">VCP_VP19_THU_OFF\n",
              "</pre>\n"
            ],
            "text/plain": [
              "VCP_VP19_THU_OFF\n"
            ]
          },
          "metadata": {},
          "output_type": "display_data"
        },
        {
          "data": {
            "text/html": [
              "<pre style=\"white-space:pre;overflow-x:auto;line-height:normal;font-family:Menlo,'DejaVu Sans Mono',consolas,'Courier New',monospace\">VCP_UGD1_SAT_OFF\n",
              "</pre>\n"
            ],
            "text/plain": [
              "VCP_UGD1_SAT_OFF\n"
            ]
          },
          "metadata": {},
          "output_type": "display_data"
        },
        {
          "data": {
            "text/html": [
              "<pre style=\"white-space:pre;overflow-x:auto;line-height:normal;font-family:Menlo,'DejaVu Sans Mono',consolas,'Courier New',monospace\">VCP_GD17_FRI_OFF\n",
              "</pre>\n"
            ],
            "text/plain": [
              "VCP_GD17_FRI_OFF\n"
            ]
          },
          "metadata": {},
          "output_type": "display_data"
        },
        {
          "data": {
            "text/html": [
              "<pre style=\"white-space:pre;overflow-x:auto;line-height:normal;font-family:Menlo,'DejaVu Sans Mono',consolas,'Courier New',monospace\">VCP_PTSY1.11_THU_ONL\n",
              "</pre>\n"
            ],
            "text/plain": [
              "VCP_PTSY1.11_THU_ONL\n"
            ]
          },
          "metadata": {},
          "output_type": "display_data"
        },
        {
          "data": {
            "text/html": [
              "<pre style=\"white-space:pre;overflow-x:auto;line-height:normal;font-family:Menlo,'DejaVu Sans Mono',consolas,'Courier New',monospace\">VCP_GD16_WED_OFF\n",
              "</pre>\n"
            ],
            "text/plain": [
              "VCP_GD16_WED_OFF\n"
            ]
          },
          "metadata": {},
          "output_type": "display_data"
        },
        {
          "data": {
            "text/html": [
              "<pre style=\"white-space:pre;overflow-x:auto;line-height:normal;font-family:Menlo,'DejaVu Sans Mono',consolas,'Courier New',monospace\">VCP_GD15_FRI_ONL\n",
              "</pre>\n"
            ],
            "text/plain": [
              "VCP_GD15_FRI_ONL\n"
            ]
          },
          "metadata": {},
          "output_type": "display_data"
        },
        {
          "data": {
            "text/html": [
              "<pre style=\"white-space:pre;overflow-x:auto;line-height:normal;font-family:Menlo,'DejaVu Sans Mono',consolas,'Courier New',monospace\">VCP_DL4_SUN_OFF\n",
              "</pre>\n"
            ],
            "text/plain": [
              "VCP_DL4_SUN_OFF\n"
            ]
          },
          "metadata": {},
          "output_type": "display_data"
        },
        {
          "data": {
            "text/html": [
              "<pre style=\"white-space:pre;overflow-x:auto;line-height:normal;font-family:Menlo,'DejaVu Sans Mono',consolas,'Courier New',monospace\">VCP_CK12_SAT_OFF\n",
              "</pre>\n"
            ],
            "text/plain": [
              "VCP_CK12_SAT_OFF\n"
            ]
          },
          "metadata": {},
          "output_type": "display_data"
        },
        {
          "data": {
            "text/html": [
              "<pre style=\"white-space:pre;overflow-x:auto;line-height:normal;font-family:Menlo,'DejaVu Sans Mono',consolas,'Courier New',monospace\">VCP_CK8_THU_OFF\n",
              "</pre>\n"
            ],
            "text/plain": [
              "VCP_CK8_THU_OFF\n"
            ]
          },
          "metadata": {},
          "output_type": "display_data"
        },
        {
          "data": {
            "text/html": [
              "<pre style=\"white-space:pre;overflow-x:auto;line-height:normal;font-family:Menlo,'DejaVu Sans Mono',consolas,'Courier New',monospace\">VCP_GD14_MON_OFF\n",
              "</pre>\n"
            ],
            "text/plain": [
              "VCP_GD14_MON_OFF\n"
            ]
          },
          "metadata": {},
          "output_type": "display_data"
        },
        {
          "data": {
            "text/html": [
              "<pre style=\"white-space:pre;overflow-x:auto;line-height:normal;font-family:Menlo,'DejaVu Sans Mono',consolas,'Courier New',monospace\">VCP_PTSY2.5_TUE_OFF (PRIVATE)\n",
              "</pre>\n"
            ],
            "text/plain": [
              "VCP_PTSY2.5_TUE_OFF (PRIVATE)\n"
            ]
          },
          "metadata": {},
          "output_type": "display_data"
        },
        {
          "data": {
            "text/html": [
              "<pre style=\"white-space:pre;overflow-x:auto;line-height:normal;font-family:Menlo,'DejaVu Sans Mono',consolas,'Courier New',monospace\">VCP_PTSY1.10_FRI_OFF\n",
              "</pre>\n"
            ],
            "text/plain": [
              "VCP_PTSY1.10_FRI_OFF\n"
            ]
          },
          "metadata": {},
          "output_type": "display_data"
        },
        {
          "data": {
            "text/html": [
              "<pre style=\"white-space:pre;overflow-x:auto;line-height:normal;font-family:Menlo,'DejaVu Sans Mono',consolas,'Courier New',monospace\">VCP_PTSY1.9_SUN_OFF\n",
              "</pre>\n"
            ],
            "text/plain": [
              "VCP_PTSY1.9_SUN_OFF\n"
            ]
          },
          "metadata": {},
          "output_type": "display_data"
        },
        {
          "data": {
            "text/html": [
              "<pre style=\"white-space:pre;overflow-x:auto;line-height:normal;font-family:Menlo,'DejaVu Sans Mono',consolas,'Courier New',monospace\">VCP_DL3_SAT_OFF\n",
              "</pre>\n"
            ],
            "text/plain": [
              "VCP_DL3_SAT_OFF\n"
            ]
          },
          "metadata": {},
          "output_type": "display_data"
        },
        {
          "data": {
            "text/html": [
              "<pre style=\"white-space:pre;overflow-x:auto;line-height:normal;font-family:Menlo,'DejaVu Sans Mono',consolas,'Courier New',monospace\">VCP_CK11_FRI_OFF\n",
              "</pre>\n"
            ],
            "text/plain": [
              "VCP_CK11_FRI_OFF\n"
            ]
          },
          "metadata": {},
          "output_type": "display_data"
        },
        {
          "data": {
            "text/html": [
              "<pre style=\"white-space:pre;overflow-x:auto;line-height:normal;font-family:Menlo,'DejaVu Sans Mono',consolas,'Courier New',monospace\">VCP_GD13_FRI_OFF\n",
              "</pre>\n"
            ],
            "text/plain": [
              "VCP_GD13_FRI_OFF\n"
            ]
          },
          "metadata": {},
          "output_type": "display_data"
        },
        {
          "data": {
            "text/html": [
              "<pre style=\"white-space:pre;overflow-x:auto;line-height:normal;font-family:Menlo,'DejaVu Sans Mono',consolas,'Courier New',monospace\">VCP_PTPY1.3_SAT_OFF\n",
              "</pre>\n"
            ],
            "text/plain": [
              "VCP_PTPY1.3_SAT_OFF\n"
            ]
          },
          "metadata": {},
          "output_type": "display_data"
        },
        {
          "data": {
            "text/html": [
              "<pre style=\"white-space:pre;overflow-x:auto;line-height:normal;font-family:Menlo,'DejaVu Sans Mono',consolas,'Courier New',monospace\">VCP_PTSY2.4_SAT_OFF\n",
              "</pre>\n"
            ],
            "text/plain": [
              "VCP_PTSY2.4_SAT_OFF\n"
            ]
          },
          "metadata": {},
          "output_type": "display_data"
        },
        {
          "data": {
            "text/html": [
              "<pre style=\"white-space:pre;overflow-x:auto;line-height:normal;font-family:Menlo,'DejaVu Sans Mono',consolas,'Courier New',monospace\">VCP_VP17_THU_OFF\n",
              "</pre>\n"
            ],
            "text/plain": [
              "VCP_VP17_THU_OFF\n"
            ]
          },
          "metadata": {},
          "output_type": "display_data"
        },
        {
          "data": {
            "text/html": [
              "<pre style=\"white-space:pre;overflow-x:auto;line-height:normal;font-family:Menlo,'DejaVu Sans Mono',consolas,'Courier New',monospace\">VCP_PTSY2.3_THU_OFF\n",
              "</pre>\n"
            ],
            "text/plain": [
              "VCP_PTSY2.3_THU_OFF\n"
            ]
          },
          "metadata": {},
          "output_type": "display_data"
        },
        {
          "data": {
            "text/html": [
              "<pre style=\"white-space:pre;overflow-x:auto;line-height:normal;font-family:Menlo,'DejaVu Sans Mono',consolas,'Courier New',monospace\">VCP_PTSY1.8_SAT_OFF\n",
              "</pre>\n"
            ],
            "text/plain": [
              "VCP_PTSY1.8_SAT_OFF\n"
            ]
          },
          "metadata": {},
          "output_type": "display_data"
        },
        {
          "data": {
            "text/html": [
              "<pre style=\"white-space:pre;overflow-x:auto;line-height:normal;font-family:Menlo,'DejaVu Sans Mono',consolas,'Courier New',monospace\">VCP_VP16_FRI_OFF\n",
              "</pre>\n"
            ],
            "text/plain": [
              "VCP_VP16_FRI_OFF\n"
            ]
          },
          "metadata": {},
          "output_type": "display_data"
        },
        {
          "data": {
            "text/html": [
              "<pre style=\"white-space:pre;overflow-x:auto;line-height:normal;font-family:Menlo,'DejaVu Sans Mono',consolas,'Courier New',monospace\">VCP_GD12_SAT_OFF\n",
              "</pre>\n"
            ],
            "text/plain": [
              "VCP_GD12_SAT_OFF\n"
            ]
          },
          "metadata": {},
          "output_type": "display_data"
        },
        {
          "data": {
            "text/html": [
              "<pre style=\"white-space:pre;overflow-x:auto;line-height:normal;font-family:Menlo,'DejaVu Sans Mono',consolas,'Courier New',monospace\">VCP_WDY1.4_WED_OFF\n",
              "</pre>\n"
            ],
            "text/plain": [
              "VCP_WDY1.4_WED_OFF\n"
            ]
          },
          "metadata": {},
          "output_type": "display_data"
        },
        {
          "data": {
            "text/html": [
              "<pre style=\"white-space:pre;overflow-x:auto;line-height:normal;font-family:Menlo,'DejaVu Sans Mono',consolas,'Courier New',monospace\">VCP_GD11_TUE_OFF\n",
              "</pre>\n"
            ],
            "text/plain": [
              "VCP_GD11_TUE_OFF\n"
            ]
          },
          "metadata": {},
          "output_type": "display_data"
        },
        {
          "data": {
            "text/html": [
              "<pre style=\"white-space:pre;overflow-x:auto;line-height:normal;font-family:Menlo,'DejaVu Sans Mono',consolas,'Courier New',monospace\">VCP_CK10_SUN_OFF\n",
              "</pre>\n"
            ],
            "text/plain": [
              "VCP_CK10_SUN_OFF\n"
            ]
          },
          "metadata": {},
          "output_type": "display_data"
        },
        {
          "data": {
            "text/html": [
              "<pre style=\"white-space:pre;overflow-x:auto;line-height:normal;font-family:Menlo,'DejaVu Sans Mono',consolas,'Courier New',monospace\">VCP_GD10_MON_OFF\n",
              "</pre>\n"
            ],
            "text/plain": [
              "VCP_GD10_MON_OFF\n"
            ]
          },
          "metadata": {},
          "output_type": "display_data"
        },
        {
          "data": {
            "text/html": [
              "<pre style=\"white-space:pre;overflow-x:auto;line-height:normal;font-family:Menlo,'DejaVu Sans Mono',consolas,'Courier New',monospace\">VCP_VP14_TUE_OFF\n",
              "</pre>\n"
            ],
            "text/plain": [
              "VCP_VP14_TUE_OFF\n"
            ]
          },
          "metadata": {},
          "output_type": "display_data"
        },
        {
          "data": {
            "text/html": [
              "<pre style=\"white-space:pre;overflow-x:auto;line-height:normal;font-family:Menlo,'DejaVu Sans Mono',consolas,'Courier New',monospace\">VCP_PTSY1.7_FRI_OFF\n",
              "</pre>\n"
            ],
            "text/plain": [
              "VCP_PTSY1.7_FRI_OFF\n"
            ]
          },
          "metadata": {},
          "output_type": "display_data"
        },
        {
          "data": {
            "text/html": [
              "<pre style=\"white-space:pre;overflow-x:auto;line-height:normal;font-family:Menlo,'DejaVu Sans Mono',consolas,'Courier New',monospace\">VCP_GD9_SUN_OFF\n",
              "</pre>\n"
            ],
            "text/plain": [
              "VCP_GD9_SUN_OFF\n"
            ]
          },
          "metadata": {},
          "output_type": "display_data"
        },
        {
          "data": {
            "text/html": [
              "<pre style=\"white-space:pre;overflow-x:auto;line-height:normal;font-family:Menlo,'DejaVu Sans Mono',consolas,'Courier New',monospace\">VCP_VP13_THU_OFF\n",
              "</pre>\n"
            ],
            "text/plain": [
              "VCP_VP13_THU_OFF\n"
            ]
          },
          "metadata": {},
          "output_type": "display_data"
        },
        {
          "data": {
            "text/html": [
              "<pre style=\"white-space:pre;overflow-x:auto;line-height:normal;font-family:Menlo,'DejaVu Sans Mono',consolas,'Courier New',monospace\">VCP_PTPY1.2_TUE_OFF\n",
              "</pre>\n"
            ],
            "text/plain": [
              "VCP_PTPY1.2_TUE_OFF\n"
            ]
          },
          "metadata": {},
          "output_type": "display_data"
        },
        {
          "data": {
            "text/html": [
              "<pre style=\"white-space:pre;overflow-x:auto;line-height:normal;font-family:Menlo,'DejaVu Sans Mono',consolas,'Courier New',monospace\">VCP_CK9_FRI_OFF\n",
              "</pre>\n"
            ],
            "text/plain": [
              "VCP_CK9_FRI_OFF\n"
            ]
          },
          "metadata": {},
          "output_type": "display_data"
        },
        {
          "data": {
            "text/html": [
              "<pre style=\"white-space:pre;overflow-x:auto;line-height:normal;font-family:Menlo,'DejaVu Sans Mono',consolas,'Courier New',monospace\">VCP_VP12_FRI_OFF \n",
              "</pre>\n"
            ],
            "text/plain": [
              "VCP_VP12_FRI_OFF \n"
            ]
          },
          "metadata": {},
          "output_type": "display_data"
        },
        {
          "data": {
            "text/html": [
              "<pre style=\"white-space:pre;overflow-x:auto;line-height:normal;font-family:Menlo,'DejaVu Sans Mono',consolas,'Courier New',monospace\">VCP_PTSY1.6_SUN_OFF\n",
              "</pre>\n"
            ],
            "text/plain": [
              "VCP_PTSY1.6_SUN_OFF\n"
            ]
          },
          "metadata": {},
          "output_type": "display_data"
        },
        {
          "data": {
            "text/html": [
              "<pre style=\"white-space:pre;overflow-x:auto;line-height:normal;font-family:Menlo,'DejaVu Sans Mono',consolas,'Courier New',monospace\">VCP_PTPY1.1_SAT_OFF\n",
              "</pre>\n"
            ],
            "text/plain": [
              "VCP_PTPY1.1_SAT_OFF\n"
            ]
          },
          "metadata": {},
          "output_type": "display_data"
        },
        {
          "data": {
            "text/html": [
              "<pre style=\"white-space:pre;overflow-x:auto;line-height:normal;font-family:Menlo,'DejaVu Sans Mono',consolas,'Courier New',monospace\">VCP_WDY1.3_SAT_OFF\n",
              "</pre>\n"
            ],
            "text/plain": [
              "VCP_WDY1.3_SAT_OFF\n"
            ]
          },
          "metadata": {},
          "output_type": "display_data"
        },
        {
          "data": {
            "text/html": [
              "<pre style=\"white-space:pre;overflow-x:auto;line-height:normal;font-family:Menlo,'DejaVu Sans Mono',consolas,'Courier New',monospace\">NLB_PTPY1.4_SUN_OFF (PRIVATE)\n",
              "</pre>\n"
            ],
            "text/plain": [
              "NLB_PTPY1.4_SUN_OFF (PRIVATE)\n"
            ]
          },
          "metadata": {},
          "output_type": "display_data"
        },
        {
          "data": {
            "text/html": [
              "<pre style=\"white-space:pre;overflow-x:auto;line-height:normal;font-family:Menlo,'DejaVu Sans Mono',consolas,'Courier New',monospace\"></pre>\n"
            ],
            "text/plain": []
          },
          "metadata": {},
          "output_type": "display_data"
        },
        {
          "data": {
            "text/html": [
              "<pre style=\"white-space:pre;overflow-x:auto;line-height:normal;font-family:Menlo,'DejaVu Sans Mono',consolas,'Courier New',monospace\">\n",
              "</pre>\n"
            ],
            "text/plain": [
              "\n"
            ]
          },
          "metadata": {},
          "output_type": "display_data"
        },
        {
          "name": "stdout",
          "output_type": "stream",
          "text": [
            "VCP has 54 groups  \n",
            "Done\n"
          ]
        },
        {
          "data": {
            "text/plain": [
              "{'VCP_GD23_WED_ONL': ['1jSoVQyNDAxnt86yUxQNmgiweC3jPUw-2GVMkpWH_Sr0', 2],\n",
              " 'VCP_GD22_SUN_OFF': ['1g6mFr451e9znNkj3eJT31s9_Vpm2u6p9s3d74fLda3Q', 2],\n",
              " 'VCP_VP22_SUN_OFF': ['1MmwHoVWbFXqU3Rx9Z7t7aU1AGzsqFDtfQwjD1SoPdVA', 2],\n",
              " 'VCP_CK13_SUN_OFF': ['1igm3fPDE4Tikyh-Fhl8XPmlM490dRXA2u09X0jUURgI', 5],\n",
              " 'VCP_GD20_SAT_OFF': ['1RIh9LeqmkBKLjOUBEjgEu9TLy8n6VtItWTMU19yg-QU', 2],\n",
              " 'VCP_VP21_SUN_OFF': ['1jAoXZNI-Fc0gxuOq_0znskoWCh4S-dWZOLs9cGHbAoQ', 5],\n",
              " 'VCP_UGD1_SAT_OFF': ['16uAq1mi5fIcrItr-QsUK-Rok1Kwc2kusjKBBt7jD5xA', 9],\n",
              " 'VCP_PTSY1.11_THU_ONL': ['1U_Iy8YHYGYFMbrIfcadHG5xqRbDCaQRjyDcx1OgXch8', 13],\n",
              " 'VCP_PTSY1.10_FRI_OFF': ['1PfGaH3oYqf3zwGQ_8qzbTis_Kyb8pyFfsH7jJu8VuUY', 21],\n",
              " 'VCP_PTSY1.9_SUN_OFF': ['1B9epI4xQRpR5fz3Imgi_vqJZiisUuIvJ3O6Ok8kjO7k', 21],\n",
              " 'VCP_VP16_FRI_OFF': ['1uQK28CO2s4eVB8bFSOKPbW-kBwWAo0gpWTKSX3RyuS0', 25],\n",
              " 'VCP_WDY1.4_WED_OFF': ['1H7wl2pLy_b8WjNRg2tVhirmDdNP2hqAoDUdvQ7jJlTw', 25],\n",
              " 'VCP_GD11_TUE_OFF': ['1m7Zjl3IAznenrDM3wg1GHWLmIrqdxbUPgi73aWQYrl0', 25],\n",
              " 'VCP_PTSY1.7_FRI_OFF': ['1TMQXVsNNqXW_PS4n8Y-HdjLFxOO39td7-fJHpWSpEB4', 25],\n",
              " 'VCP_GD9_SUN_OFF': ['1aT63OTrDoPaY1owUnbN1eqLvbsYU6txvydhfVqYCa90', 29],\n",
              " 'VCP_VP12_FRI_OFF\\xa0': ['1fsb4RtvBC11uC3-AQswX_lav9c_dKc4TYqPletIAFg4', 29]}"
            ]
          },
          "execution_count": 14,
          "metadata": {},
          "output_type": "execute_result"
        }
      ],
      "source": [
        "def get_data(percentages):\n",
        "  feedback_need = {}\n",
        "  bases = [\"VCP\"]\n",
        "  wday = ''\n",
        "  name_PT = ''\n",
        "  for base in bases:\n",
        "      new_start_time = time.time()\n",
        "      para = f'GroupSearch%5Bid%5D=&GroupSearch%5Btitle%5D={base}&GroupSearch%5Bvenue%5D=&GroupSearch%5Bactive_student_count%5D=&GroupSearch%5BnextLessonTime%5D=&GroupSearch%5BnextLessonNumber%5D=&GroupSearch%5BnextLessonTitle%5D=&GroupSearch%5Bteacher%5D=&GroupSearch%5Bcurator%5D=&GroupSearch%5Btype%5D=&GroupSearch%5Btype%5D%5B%5D=regular&GroupSearch%5Btype%5D%5B%5D=intensive&GroupSearch%5Bstatus%5D=&GroupSearch%5BcourseContentType%5D=&GroupSearch%5BcourseContentType%5D%5B%5D=course&GroupSearch%5BcourseContentType%5D%5B%5D=intensive&GroupSearch%5BcourseStartTime%5D={date_start}+-+{date_now}&GroupSearch%5BcourseEndTime%5D={date_now}+-+{date_end}&presetType=active&export=true&name=default&exportType=html'\n",
        "      header = {\n",
        "          \"accept\": \"text/html,application/xhtml+xml,application/xml;q=0.9,image/avif,image/webp,image/apng,*/*;q=0.8,application/signed-exchange;v=b3;q=0.7\",\n",
        "          \"accept-language\": \"en-US,en;q=0.9,vi-VN;q=0.8,vi;q=0.7\",\n",
        "          \"cache-control\": \"max-age=0\",\n",
        "          \"sec-ch-ua\": \"\\\"Not.A/Brand\\\";v=\\\"8\\\", \\\"Chromium\\\";v=\\\"114\\\", \\\"Google Chrome\\\";v=\\\"114\\\"\",\n",
        "          \"sec-ch-ua-mobile\": \"?0\",\n",
        "          \"sec-ch-ua-platform\": \"\\\"Windows\\\"\",\n",
        "          \"sec-fetch-dest\": \"document\",\n",
        "          \"sec-fetch-mode\": \"navigate\",\n",
        "          \"sec-fetch-site\": \"same-origin\",\n",
        "          \"sec-fetch-user\": \"?1\",\n",
        "          \"upgrade-insecure-requests\": \"1\",\n",
        "          \"cookie\": \"_ym_uid=1664966280852805697; intercom-device-id-ufjpx6k3=fd3080c1-5a63-4af6-bd1f-15268d549a7e; userId=30454; _grid_page_size_schedule=35d0980fa38e2255112d0c62698773cab8aa12a81c6735caf172064b5eb6ea47a%3A2%3A%7Bi%3A0%3Bs%3A24%3A%22_grid_page_size_schedule%22%3Bi%3A1%3Bs%3A3%3A%22200%22%3B%7D; _grid_page_size=d3ebbdf9ec9235bfc4ba59572a6d3dd403a563222be148e9c705e91612194e49a%3A2%3A%7Bi%3A0%3Bs%3A15%3A%22_grid_page_size%22%3Bi%3A1%3Bs%3A3%3A%22200%22%3B%7D; _ym_d=1680775536; sidebar-state=collapsed; studentId=1700942; _gid=GA1.2.1905923590.1685501187; studentAccessToken=dd3e27ac271a880d3828bd89fc2f361690522dc8b5f30fa1e35d2696b9c18e99; studentCreatedTimestamp=1685501221; intercom-session-ufjpx6k3=bFh2a3RNN2VVODJWSG9VOEhwWnpaMmVnSFI2WG9qRmQxUEZBVXVmL2xjQk9MTjRrM2hMTUxWcm5EZ3BmOEV0Qy0tK3h2YnV1a3dlVE1BbDl3a0JydGhuUT09--d98eb2edc5949eab40241a8fa7f8657fb4991710; previousPage=%2F; SERVERID=b450; createdTimestamp=1685604612; accessToken=12cb27d08f1ecb5d6d36771de2e09462efa4e98a878216b1427e3e6dfd1ce88d; SERVERID=b520; _backendMainSessionId=773e6a790225c56332767614b932ec91; _ym_isad=2; _ym_visorc=w; _ga_3QSGZBLTE3=GS1.1.1685604614.81.1.1685605385.0.0.0; _ga=GA1.2.1620969847.1664966279; _gat_gtag_UA_122842599_49=1\",\n",
        "          \"Referer\": f\"{DOMAINS}?GroupSearch%5Bid%5D=&GroupSearch%5Btitle%5D={base}&GroupSearch%5Bvenue%5D=&GroupSearch%5Bactive_student_count%5D=&GroupSearch%5BnextLessonTime%5D=&GroupSearch%5BnextLessonNumber%5D=&GroupSearch%5BnextLessonTitle%5D=&GroupSearch%5Bteacher%5D=&GroupSearch%5Bcurator%5D=&GroupSearch%5Btype%5D=&GroupSearch%5Btype%5D%5B%5D=regular&GroupSearch%5Btype%5D%5B%5D=intensive&GroupSearch%5Bstatus%5D=&GroupSearch%5BcourseContentType%5D=&GroupSearch%5BcourseContentType%5D%5B%5D=course&GroupSearch%5BcourseContentType%5D%5B%5D=intensive&GroupSearch%5BcourseStartTime%5D={date_start}%20-%20{date_now}&GroupSearch%5BcourseEndTime%5D={date_now}%20-%20{date_end}&presetType=active\",\n",
        "          \"Referrer-Policy\": \"strict-origin-when-cross-origin\"\n",
        "        }\n",
        "\n",
        "\n",
        "      end_point = DOMAINS + para\n",
        "      res = s.get(end_point, headers = header)\n",
        "      output = res.content.decode('utf-8')\n",
        "\n",
        "      soup = BeautifulSoup(output, 'html.parser', from_encoding='utf-8')\n",
        "      soup.find('tbody')\n",
        "\n",
        "      table_rows = soup.find_all('tr')\n",
        "      groups = []\n",
        "      feedback_need = {}\n",
        "      # table_rows = list(table_rows)\n",
        "      # print(len(table_rows))\n",
        "\n",
        "      # table_rows.remove(table_rows[0])\n",
        "      date_str = ''\n",
        "      print(len(table_rows))\n",
        "      for tr in track(table_rows, description= f\"Processing {base}...\"):\n",
        "          lessons = []\n",
        "          group = []\n",
        "          all_td = tr.find_all('td')\n",
        "          group_id = all_td[0].string\n",
        "          group_name = all_td[1].find('a')\n",
        "          group_name = str(group_name)[str(group_name).find('>')+1:str(group_name).find('</a>')]\n",
        "          teacher_name = all_td[7].find('a')\n",
        "          teacher_name = str(teacher_name)[str(teacher_name).find('>')+1:str(teacher_name).find('</a>')]\n",
        "          for key in date.keys():\n",
        "            if key in group_name:\n",
        "                date_str = key\n",
        "                break\n",
        "          if date_str:\n",
        "            wday = date[date_str]\n",
        "          all_li = all_td[1].find('p')\n",
        "          if group_name is None or str(group_name) == \"NVH_UGD2_MON/WED_OFF (PRIVATE)\":\n",
        "                continue\n",
        "          campus = all_td[2].string\n",
        "          amount_student = all_td[3].string\n",
        "          next_lesson_time = all_td[4].string\n",
        "          next_lesson_time = str(next_lesson_time)\n",
        "          next_lesson_index = all_td[5].string\n",
        "          next_lesson_index = str(next_lesson_index)\n",
        "          next_lesson_name = all_td[6].find('div')\n",
        "          next_lesson_name = str(next_lesson_name)[str(next_lesson_name).find('>')+1:str(next_lesson_name).find('</div>')]   \n",
        "          course_start_date = all_td[12].string\n",
        "          course_end_date = all_td[13].string\n",
        "          all_li = str(all_li)\n",
        "          class_time = next_lesson_time[next_lesson_time.find(\":\")-2:]\n",
        "          url = all_li[all_li.find(\"https\"):all_li.find(\"</p>\")]\n",
        "          start = url.find(\"d/\")\n",
        "          end = url.find(\"/edit\")\n",
        "          id = url[start+2:end]\n",
        "          print(group_name)\n",
        "          try:\n",
        "              result = sheet.values().get(spreadsheetId=id, range='Report!AC3:AC40').execute()\n",
        "              values = result.get('values', [])\n",
        "             \n",
        "              for j in values:\n",
        "                  if j[0] != \"#DIV/0!\":\n",
        "                      score = j[0]\n",
        "                      lessons.append(round(float(score), 2)) \n",
        "                  else:\n",
        "                      lessons.append(j[0])\n",
        "                  \n",
        "              if len(lessons) == 0:\n",
        "                  result = sheet.values().get(spreadsheetId=id, range='Report!AE3:AE40').execute()\n",
        "                  values = result.get('values', [])\n",
        "                  \n",
        "                  for j in values:\n",
        "                      if j[0] != \"#DIV/0!\":\n",
        "                          score = j[0]\n",
        "                          lessons.append(float(score)) \n",
        "                      else:\n",
        "                          lessons.append(j[0])\n",
        "              if next_lesson_index == \"2\" or next_lesson_index == \"5\" or next_lesson_index == \"9\" or next_lesson_index == \"13\" or next_lesson_index == \"21\" or next_lesson_index == \"25\" or next_lesson_index == \"29\":\n",
        "                  feedback_need[group_name] = [id,int(next_lesson_index)]\n",
        "              \n",
        "              programT_name = sheet.values().get(spreadsheetId=id, range='Report!E6:M6').execute()\n",
        "              values = programT_name.get('values', [])\n",
        "              try:\n",
        "                name_PT = str(values[0][0])\n",
        "              except:\n",
        "                name_PT = \"None\"\n",
        "          except HttpError as err:\n",
        "              time.sleep(10)\n",
        "          all_li = str(all_li)\n",
        "          \n",
        "          url = all_li[all_li.find(\"https\"):all_li.find(\"</p>\")]\n",
        "          try:\n",
        "            try:\n",
        "              group = [group_id, wday, str(group_name), str(teacher_name), name_PT , class_time, str(url), str(campus), int(amount_student[0]), next_lesson_time, int(next_lesson_index), percentages[str(group_name)][0], next_lesson_name, course_start_date, course_end_date]\n",
        "\n",
        "            except:\n",
        "              group = [group_id, wday, str(group_name), str(teacher_name), name_PT , class_time, str(url), str(campus), int(amount_student[0]), next_lesson_time, int(next_lesson_index), \"TBU\", next_lesson_name, course_start_date, course_end_date]\n",
        "            # print(group_name)\n",
        "            group.extend(lessons)\n",
        "            groups.append(group)\n",
        "            \n",
        "          except ValueError as err:\n",
        "            print(group_name, err)\n",
        "          \n",
        "      time_end = time.time()\n",
        "      resource = {\n",
        "          \"majorDimension\": \"ROWS\",\n",
        "          \"values\": groups\n",
        "      }\n",
        "      cresult = sheet.values().clear(\n",
        "          spreadsheetId=\"1D8uRbAJXBJMcF0e8tXWKe5dRbiv-EW_by-SpNAxZ3qA\",\n",
        "          range=f\"{base}!A2:ZZZ\"\n",
        "        ).execute()\n",
        "      print(f\"{base} has {len(groups)} groups  \")\n",
        "\n",
        "      # 1EzB0-CpBYUe1J8z9jjDEPIBc3tcOwyBJZyPXN6HPZgE for testing\n",
        "      # 1D8uRbAJXBJMcF0e8tXWKe5dRbiv-EW_by-SpNAxZ3qA for real data update\n",
        "\n",
        "      result1 = sheet.values().update(\n",
        "          spreadsheetId= \"1D8uRbAJXBJMcF0e8tXWKe5dRbiv-EW_by-SpNAxZ3qA\",\n",
        "          range= f\"{base}!A2\",\n",
        "          valueInputOption=\"RAW\",\n",
        "          body=resource).execute()\n",
        "  print(\"Done\")\n",
        "  return feedback_need\n",
        "get_data(percentages)"
      ]
    },
    {
      "attachments": {},
      "cell_type": "markdown",
      "metadata": {},
      "source": [
        "get the feedback from teacher use as a data point to train AI NLP model"
      ]
    },
    {
      "cell_type": "code",
      "execution_count": 5,
      "metadata": {
        "id": "stuyAan09qPQ"
      },
      "outputs": [],
      "source": [
        "def get_feedback():\n",
        "  feedback_need = get_data(percentages)\n",
        "  student_sheet  = {2 : \"C36:D45\", 5 :\"C36:D45\", 9 : \"C69:D78\", 13 : \"C102:D111\", 21 : \"C168:D177\", 25 : \"C201:D210\", 29 : \"C234:D243\"}\n",
        "  feedback_sheet = {2 : \"M36:O45\", 5 :\"S36:V45\" ,9 : \"P69:S78\", 13 : \"P102:S111\", 21 : \"P168:S177\", 25 : \"P201:S210\", 29 : \"P234:S243\"}\n",
        "  # print(feedback_need)\n",
        "  class_report = []\n",
        "  \n",
        "  for group_name,value in feedback_need.items():\n",
        "  \n",
        "\n",
        "    link = value[0]\n",
        "    lesson = value[1]\n",
        "    feed = feedback_sheet[lesson]\n",
        "    student = student_sheet[lesson]\n",
        "    try:\n",
        "      result1 = sheet.values().get(spreadsheetId=link, range=f'Report!{student}').execute()\n",
        "      values1 = result1.get('values', [])\n",
        "      result2 = sheet.values().get(spreadsheetId=link, range=f'Report!{feed}').execute()\n",
        "      values2 = result2.get('values', [])\n",
        "      \n",
        "      for i in range(len(values1)):\n",
        "        try:\n",
        "          class_report.append([group_name,lesson,values1[i][0],values2[i][0].replace(\"\\n\", \" \").replace(\"\\t\", \" \")])\n",
        "        except:\n",
        "          try:\n",
        "            class_report.append([group_name,lesson,values1[i][0],\"not yet\"])\n",
        "          except:\n",
        "            pass\n",
        "    except HttpError:\n",
        "      time.sleep(60)\n",
        "\n",
        "  return class_report\n",
        "    \n",
        "# get_feedback()"
      ]
    },
    {
      "attachments": {},
      "cell_type": "markdown",
      "metadata": {},
      "source": [
        "push to Feedback Sheet "
      ]
    },
    {
      "cell_type": "code",
      "execution_count": 6,
      "metadata": {
        "id": "h6zOQVWyA1Vo"
      },
      "outputs": [
        {
          "data": {
            "application/vnd.jupyter.widget-view+json": {
              "model_id": "a230191a47f346dea7e005d09f78c591",
              "version_major": 2,
              "version_minor": 0
            },
            "text/plain": [
              "Output()"
            ]
          },
          "metadata": {},
          "output_type": "display_data"
        },
        {
          "name": "stdout",
          "output_type": "stream",
          "text": [
            "0\n"
          ]
        },
        {
          "data": {
            "text/html": [
              "<pre style=\"white-space:pre;overflow-x:auto;line-height:normal;font-family:Menlo,'DejaVu Sans Mono',consolas,'Courier New',monospace\"></pre>\n"
            ],
            "text/plain": []
          },
          "metadata": {},
          "output_type": "display_data"
        },
        {
          "data": {
            "text/html": [
              "<pre style=\"white-space:pre;overflow-x:auto;line-height:normal;font-family:Menlo,'DejaVu Sans Mono',consolas,'Courier New',monospace\">\n",
              "</pre>\n"
            ],
            "text/plain": [
              "\n"
            ]
          },
          "metadata": {},
          "output_type": "display_data"
        },
        {
          "name": "stdout",
          "output_type": "stream",
          "text": [
            "NLB has 0 groups  \n"
          ]
        },
        {
          "data": {
            "application/vnd.jupyter.widget-view+json": {
              "model_id": "6a13a431a6634912b37a50a14013aa51",
              "version_major": 2,
              "version_minor": 0
            },
            "text/plain": [
              "Output()"
            ]
          },
          "metadata": {},
          "output_type": "display_data"
        },
        {
          "name": "stdout",
          "output_type": "stream",
          "text": [
            "0\n"
          ]
        },
        {
          "data": {
            "text/html": [
              "<pre style=\"white-space:pre;overflow-x:auto;line-height:normal;font-family:Menlo,'DejaVu Sans Mono',consolas,'Courier New',monospace\"></pre>\n"
            ],
            "text/plain": []
          },
          "metadata": {},
          "output_type": "display_data"
        },
        {
          "data": {
            "text/html": [
              "<pre style=\"white-space:pre;overflow-x:auto;line-height:normal;font-family:Menlo,'DejaVu Sans Mono',consolas,'Courier New',monospace\">\n",
              "</pre>\n"
            ],
            "text/plain": [
              "\n"
            ]
          },
          "metadata": {},
          "output_type": "display_data"
        },
        {
          "name": "stdout",
          "output_type": "stream",
          "text": [
            "NVH has 0 groups  \n"
          ]
        },
        {
          "data": {
            "application/vnd.jupyter.widget-view+json": {
              "model_id": "da3f1f90025b4cacb2ba964919d15db4",
              "version_major": 2,
              "version_minor": 0
            },
            "text/plain": [
              "Output()"
            ]
          },
          "metadata": {},
          "output_type": "display_data"
        },
        {
          "name": "stdout",
          "output_type": "stream",
          "text": [
            "0\n"
          ]
        },
        {
          "data": {
            "text/html": [
              "<pre style=\"white-space:pre;overflow-x:auto;line-height:normal;font-family:Menlo,'DejaVu Sans Mono',consolas,'Courier New',monospace\"></pre>\n"
            ],
            "text/plain": []
          },
          "metadata": {},
          "output_type": "display_data"
        },
        {
          "data": {
            "text/html": [
              "<pre style=\"white-space:pre;overflow-x:auto;line-height:normal;font-family:Menlo,'DejaVu Sans Mono',consolas,'Courier New',monospace\">\n",
              "</pre>\n"
            ],
            "text/plain": [
              "\n"
            ]
          },
          "metadata": {},
          "output_type": "display_data"
        },
        {
          "name": "stdout",
          "output_type": "stream",
          "text": [
            "PXL has 0 groups  \n"
          ]
        },
        {
          "data": {
            "application/vnd.jupyter.widget-view+json": {
              "model_id": "3c0034d379b3427ba63b7e9fb567fb2c",
              "version_major": 2,
              "version_minor": 0
            },
            "text/plain": [
              "Output()"
            ]
          },
          "metadata": {},
          "output_type": "display_data"
        },
        {
          "name": "stdout",
          "output_type": "stream",
          "text": [
            "0\n"
          ]
        },
        {
          "data": {
            "text/html": [
              "<pre style=\"white-space:pre;overflow-x:auto;line-height:normal;font-family:Menlo,'DejaVu Sans Mono',consolas,'Courier New',monospace\"></pre>\n"
            ],
            "text/plain": []
          },
          "metadata": {},
          "output_type": "display_data"
        },
        {
          "data": {
            "text/html": [
              "<pre style=\"white-space:pre;overflow-x:auto;line-height:normal;font-family:Menlo,'DejaVu Sans Mono',consolas,'Courier New',monospace\">\n",
              "</pre>\n"
            ],
            "text/plain": [
              "\n"
            ]
          },
          "metadata": {},
          "output_type": "display_data"
        },
        {
          "name": "stdout",
          "output_type": "stream",
          "text": [
            "VCP has 0 groups  \n",
            "Done\n"
          ]
        }
      ],
      "source": [
        "def push_to_sheet():\n",
        "  # print(data)\n",
        "  # 1EzB0-CpBYUe1J8z9jjDEPIBc3tcOwyBJZyPXN6HPZgE for testing\n",
        "  # 1D8uRbAJXBJMcF0e8tXWKe5dRbiv-EW_by-SpNAxZ3qA for real data update\n",
        "  class_report = get_feedback()\n",
        "  result = sheet.values().clear(\n",
        "          spreadsheetId=\"1D8uRbAJXBJMcF0e8tXWKe5dRbiv-EW_by-SpNAxZ3qA\",\n",
        "          range=\"Feedback Report!A1:ZZZ\"\n",
        "      ).execute()\n",
        "  resource2 = {\n",
        "        \"majorDimension\": \"ROWS\",\n",
        "        \"values\": class_report\n",
        "    }\n",
        "  result = sheet.values().update(\n",
        "            spreadsheetId= \"1D8uRbAJXBJMcF0e8tXWKe5dRbiv-EW_by-SpNAxZ3qA\",\n",
        "            range= f\"Feedback Report!A2\",\n",
        "            valueInputOption=\"RAW\",\n",
        "            body=resource2).execute()\n",
        "push_to_sheet()"
      ]
    }
  ],
  "metadata": {
    "colab": {
      "private_outputs": true,
      "provenance": []
    },
    "gpuClass": "standard",
    "kernelspec": {
      "display_name": "Python 3",
      "name": "python3"
    },
    "language_info": {
      "codemirror_mode": {
        "name": "ipython",
        "version": 3
      },
      "file_extension": ".py",
      "mimetype": "text/x-python",
      "name": "python",
      "nbconvert_exporter": "python",
      "pygments_lexer": "ipython3",
      "version": "3.9.13"
    }
  },
  "nbformat": 4,
  "nbformat_minor": 0
}
