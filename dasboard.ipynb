{
  "cells": [
    {
      "cell_type": "code",
      "execution_count": 1,
      "metadata": {
        "id": "IDuTDwRMGKQj"
      },
      "outputs": [],
      "source": [
        "import requests\n",
        "from bs4 import BeautifulSoup\n",
        "from rich.progress import track\n",
        "from datetime import date, timedelta\n",
        "from dateutil.relativedelta import relativedelta\n",
        "import time\n",
        "from google.oauth2.credentials import Credentials\n",
        "from google_auth_oauthlib.flow import InstalledAppFlow\n",
        "from googleapiclient.discovery import build\n",
        "from googleapiclient.errors import HttpError\n",
        "import json"
      ]
    },
    {
      "attachments": {},
      "cell_type": "markdown",
      "metadata": {},
      "source": [
        "declairce must have variable and constants"
      ]
    },
    {
      "cell_type": "code",
      "execution_count": 2,
      "metadata": {
        "id": "dKGH0Dtzz15s"
      },
      "outputs": [],
      "source": [
        "time_start = time.time()\n",
        "SCOPES =  ['https://www.googleapis.com/auth/spreadsheets']\n",
        "\n",
        "\n",
        "DOMAINS = 'https://lms.logika.asia/group?'\n",
        "CPR_DOMAINS = 'https://lms.logika.asia/group/default/schedule'\n",
        "\n",
        "date_now = date.today()\n",
        "date_start = date_now - relativedelta(years=1)\n",
        "date_end = date_now + relativedelta(years=1)\n",
        "\n",
        "s = requests.Session()\n",
        "try:\n",
        "    creds = Credentials.from_authorized_user_file('token.json', SCOPES)\n",
        "except FileNotFoundError:\n",
        "    flow = InstalledAppFlow.from_client_secrets_file(\n",
        "        'credentials.json', SCOPES)\n",
        "    creds = flow.run_local_server(port=0)\n",
        "    with open('token.json', 'w') as token:\n",
        "        token.write(creds.to_json())\n",
        "service = build('sheets', 'v4', credentials=creds)\n",
        "sheet = service.spreadsheets()\n",
        "class_report = []\n",
        "bases = ['NLB', \"NVH\", \"PXL\", \"VCP\"]\n",
        "# bases = [\"NLB\"]\n",
        "date = {\"MON\" : 2,\"TUE\" : 3,\"WED\" : 4,\"THU\" : 5,\"FRI\" : 6,\"SAT\" : 7,\"SUN\" : 8}"
      ]
    },
    {
      "attachments": {},
      "cell_type": "markdown",
      "metadata": {},
      "source": [
        "get percentage for each class happend the day before"
      ]
    },
    {
      "cell_type": "code",
      "execution_count": 3,
      "metadata": {
        "id": "03AcjDYLlC8X"
      },
      "outputs": [
        {
          "name": "stderr",
          "output_type": "stream",
          "text": [
            "c:\\Users\\hazaz\\AppData\\Local\\Programs\\Python\\Python310\\lib\\site-packages\\bs4\\__init__.py:228: UserWarning: You provided Unicode markup but also provided a value for from_encoding. Your from_encoding will be ignored.\n",
            "  warnings.warn(\"You provided Unicode markup but also provided a value for from_encoding. Your from_encoding will be ignored.\")\n"
          ]
        },
        {
          "name": "stdout",
          "output_type": "stream",
          "text": [
            "{'[Campus]_PTSY1.[No]_[Day]_[Format]': ['0%', 8], '[Campus]_PTPY1.[No]_[Day]_[Format]': ['0%', 8], 'NVH_GD39_TUE_OFF (PRIVATE)': ['0%', 28], 'NLB_GD51_WED_ONL': ['100%', 17], 'NEW PTSY2 Schedule Template - TAMMY USE': ['0%', 26], 'NEW PTSY1 Schedule Template - TAMMY USE': ['0%', 24], 'NVH_GD42_TUE_OFF': ['100%', 24], 'PXL_GD21_TUE_OFF': ['100%', 10], 'NVH_CK37_TUE_OFF': ['0%', 13], 'VCP_PTSY1.14_TUE_OFF': ['100%', 19], 'NVH_GD62_TUE_OFF': ['134%', 3], '[Campus]_GD.[No]_[Day]_[Format]': ['0%', 8], '[Campus]_VP.[No]_[Day]_[Format]': ['0%', 8], '[Campus]_CK.[No]_[Day]_[Format]': ['0%', 8], 'NVH_GD53_TUE_OFF': ['100%', 10], 'NLB_PTSY2.24_TUE_OFF': ['100%', 13], 'VCP_PTSY2.5_TUE_OFF (PRIVATE)': ['100%', 29], 'NVH_PTPY2.8_TUE_ONL': ['100%', 32], 'VCP_WDY1.5_TUE_ONL': ['100%', 11], 'NLB_VP34_TUE_OFF': ['67%', 27], 'NVH_VP35_TUE_OFF': ['100%', 24], 'NEW Python Pro Year 1 Schedule Template - TAMMY USE': ['0%', 26], 'NLB_CK40_TUE_OFF': ['100%', 1], 'VCP_GD28_TUE_OFF': ['75%', 5], 'PXL_CK12_TUE_OFF': ['100%', 10], 'NLB_PTSY1.60_TUE_ONL': ['100%', 11], 'NVH_PTSY1.53_TUE_ONL': ['100%', 10], 'NVH_WDY1.8_TUE_ONL': ['100%', 18], 'NVH_CK31_TUE_OFF': ['50%', 32], 'PXL_UGD2_TUE_OFF': ['100%', 6], 'VCP_WDY1.7_TUE_OFF': ['100%', 5], 'PXL_PTSY1.10_TUE_OFF': ['100%', 8], 'NLB_PTSY1.62_TUE_ONL': ['100%', 5], 'PXL_GD18_TUE_OFF': ['100%', 8], 'PXL_VP16_TUE_OFF': ['100%', 25], 'NLB_PTSY2.19_TUE_OFF': ['100%', 21], 'PXL_WDY1.4_TUE_OFF': ['100%', 13], 'NVH_GD52_TUE_OFF': ['100%', 16], 'VCP_GD19_TUE_OFF': ['100%', 19], 'NVH_PTSY1.56_TUE_ONL (PRIVATE)': ['0%', 12], 'NVH_CK36_TUE_OFF': ['50%', 14], 'NVH_CK33_TUE_ONL': ['100%', 26], 'NVH_VP36_TUE_ONL': ['100%', 26], 'NLB_CK30_TUE_OFF': ['0%', 30], 'NLB_GD45_TUE_OFF': ['100%', 30], 'PXL_GD26_WED_ONL (PRIVATE)': ['100%', 1], 'NEW Python Pro Year 2 Schedule Template - TAMMY USE': ['0%', 26], '[Campus]_WDY1.[No]_[Day]_[Format]': ['0%', 8], '[Campus]_DL.[No]_[Day]_[Format]': ['0%', 8], 'NVH_UGD2_WED_OFF (PRIVATE)': ['0%', 24], 'NVH_VP34_WED_OFF': ['0%', 28], 'NVH_GD59_WED_OFF': ['0%', 5], 'NLB_GD63_WED_OFF': ['0%', 10], 'NVH_VP52_WED_OFF': ['0%', 4], 'NVH_GD43_WED_OFF': ['0%', 25], 'NLB_WDY1.10_WED_OFF': ['0%', 27], 'NLB_GD44_WED_OFF': ['0%', 29], 'NVH_PTSY1.48_WED_OFF': ['0%', 28], 'NLB_GD73_WED_OFF (PRIVATE)': ['0%', 2], 'NLB_VP50_WED_OFF': ['0%', 1], 'NLB_PTSY1.61_WED_OFF': ['0%', 7], 'VCP_GD16_WED_OFF': ['0%', 28], 'NVH_GD54_WED_OFF': ['0%', 14], 'NLB_GD55_WED_OFF': ['0%', 19], 'NVH_GD36_WED_OFF': ['0%', 27], 'NLB_GD66_WED_OFF': ['0%', 5], 'NVH_PTSY1.52_WED_OFF': ['0%', 20], 'NVH_GD38_WED_OFF': ['0%', 26], 'VCP_WDY2.3_WED_OFF': ['0%', 3], 'VCP_PTSY1.12_WED_OFF': ['0%', 24], 'NVH_PTSY2.26_WED_OFF': ['0%', 29], 'NVH_VP25_WED_OFF': ['0%', 26], 'VCP_GD23_WED_ONL': ['0%', 14], 'NLB_DL8_WED_ONL': ['0%', 31], 'NVH_PTPY1.22_MON/THU_ONL (PRIVATE)': ['0%', 26], 'NVH_CK41_THU_OFF': ['0%', 2], 'NVH_DL16_THU_OFF': ['0%', 9], 'VCP_GD24_THU_OFF': ['0%', 12], 'NVH_PTPY1.16_THU_OFF': ['0%', 32], 'VCP_GD25_THU_OFF': ['0%', 12], 'NVH_WDY1.6_THU_OFF': ['0%', 30], 'NLB_VP40_THU_OFF': ['0%', 18], 'VCP_PTPY2.3_THU_OFF': ['0%', 2], 'NVH_PTSY1.50_THU_OFF': ['0%', 21], 'NLB_PTPY2.10_THU_ONL': ['0%', 9], 'NVH_GD56_THU_ONL': ['0%', 13], 'NVH_PTPY2.14_THU_ONL (PRIVATE)': ['0%', 11], 'NVH_VP40_THU_ONL': ['0%', 22], 'NLB_PTSY1.50_THU_OFF': ['0%', 26], 'NEW Python Pro Year 1 - MODIFIED': ['0%', 25], 'NLB_GD50_THU_ONL': ['0%', 29], 'NLB_GD49_THU_OFF': ['0%', 12], 'NLB_PTSY1.48_THU_ONL': ['0%', 29], 'PXL_VP26_MON/THU_OFF (PRIVATE)': ['0%', 10], 'NVH_PTSY2.40_THU_ONL': ['0%', 2], 'NLB_CK37_THU_OFF': ['0%', 13], 'NLB_PTSY2.21_THU_ONL': ['0%', 25], 'VCP_VP19_THU_OFF': ['0%', 24], 'NVH_VP32_THU_OFF': ['0%', 31], 'NVH_GD50_THU_ONL': ['0%', 18], 'NLB_PTPY1.10_THU_OFF': ['0%', 19], 'VCP_CK8_THU_OFF': ['0%', 31], 'NLB_GD69_THU_ONL': ['0%', 1], 'NLB_WDY1.15_THU_OFF': ['0%', 7], 'VCP_PTSY1.11_THU_ONL': ['0%', 26], 'PXL_GD23_FRI_OFF': ['0%', 1], 'NLB_PTSY1.58_FRI_ONL': ['0%', 14], 'NVH_VP42_FRI_OFF': ['0%', 14], 'NVH_PTSY2.34_FRI_OFF': ['0%', 19], 'NVH_PTPY1.19_FRI_OFF (PRIVATE)': ['0%', 15], 'NLB_PTSY2.31_FRI_OFF': ['0%', 1], 'NLB_PTPY1.8_FRI_OFF': ['0%', 28], 'NLB_WDY1.14_FRI_OFF': ['0%', 6], 'NVH_CK38_FRI_OFF': ['0%', 11], 'NVH_PTPY2.12_FRI_ONL (PRIVATE)': ['0%', 13], 'VCP_WDY2.2_FRI_ONL': ['0%', 10], 'NLB_PTSY2.26_FRI_ONL': ['0%', 12], 'NVH_GD45_FRI_OFF': ['0%', 23], 'PXL_CK7_FRI_OFF': ['0%', 15], 'VCP_GD29_FRI_OFF': ['0%', 3], 'NLB_PTSY1.65_FRI_OFF': ['0%', 4], 'NLB_GD64_FRI_OFF': ['0%', 8], 'PXL_VP21_FRI_OFF': ['0%', 10], 'PXL_GD19_FRI_OFF': ['0%', 10], 'NLB_PTPY2.8_FRI_OFF': ['0%', 9], 'PXL_DL5_FRI_OFF': ['0%', 16], 'NVH_DL13_FRI_OFF': ['0%', 16], 'PXL_VP17_FRI_OFF': ['0%', 18], 'VCP_GD15_FRI_ONL': ['0%', 29], 'NLB_PTSY2.32_FRI_OFF': ['0%', 1], 'NVH_VP50_FRI_OFF': ['0%', 1], 'NLB_UGD4_FRI_OFF': ['0%', 8], 'PXL_WDY1.5_FRI_ONL': ['0%', 3], 'NVH_DL14_FRI_OFF': ['0%', 14], 'NVH_PTSY2.29_FRI_ONL': ['0%', 28], 'NLB_PTSY2.17_FRI_ONL': ['0%', 31], 'NVH_VP31_FRI_OFF': ['0%', 27], 'NVH_GD33_FRI_OFF': ['0%', 33], 'VCP_PTSY2.10_FRI_OFF': ['0%', 1], 'NLB_GD61_FRI_ONL': ['0%', 8], 'VCP_GD17_FRI_OFF': ['0%', 25], 'NLB_PTPY1.17_FRI_OFF': ['0%', 2], 'NLB_WDY2.4_FRI_OFF': ['0%', 5], 'NLB_VP47_FRI_ONL': ['0%', 7], 'NLB_VP46_FRI_ONL': ['0%', 5], 'NLB_PTSY2.25_FRI_ONL': ['0%', 15], 'NLB_PTSY1.57_FRI_OFF': ['0%', 14], 'NVH_PTPY2.9_FRI_OFF': ['0%', 21], 'NVH_VP37_FRI_ONL': ['0%', 26], 'NLB_GD48_FRI_ONL': ['0%', 30], 'NLB_CK33_FRI_ONL': ['0%', 25], 'NVH_WDY1.11_SAT_ONL (PRIVATE)': ['0%', 1], 'VCP_CK12_SAT_OFF': ['0%', 29], 'NLB_PTSY2.30_MON/SAT_ONL (PRIVATE)': ['0%', 9], 'NVH_VP48_SAT_OFF': ['0%', 4], 'NVH_GD58_SAT_OFF': ['0%', 5], 'NVH_PTSY1.58_SAT_OFF': ['0%', 6], 'PXL_GD13_SAT_OFF': ['0%', 13], 'PXL_DL4_SAT_OFF': ['0%', 14], 'NVH_GD44_SAT_OFF': ['0%', 27], 'NVH_GD40_SAT_ONL': ['0%', 28], 'NLB_CK32_SAT_OFF': ['0%', 27], 'NLB_DL9_SAT_OFF': ['0%', 23], 'NLB_GD46_SAT_OFF': ['0%', 29], 'NLB_VP29_SAT_ONL': ['0%', 31], 'VCP_PTPY1.3_SAT_OFF': ['0%', 31], 'NLB_VP49_SAT_OFF': ['0%', 1], 'PXL_VP23_SAT_OFF': ['0%', 9], 'PXL_GD20_SAT_OFF': ['0%', 4], 'VCP_WDY2.1_SAT_OFF': ['0%', 10], 'VCP_GD20_SAT_OFF': ['0%', 15], 'NVH_WDY1.9_SAT_OFF': ['0%', 13], 'NVH_GD49_SAT_OFF': ['0%', 13], 'PXL_CK11_SAT_OFF': ['0%', 20], 'NLB_PTSY1.49_SAT_OFF': ['0%', 28], 'PXL_VP8_SAT_OFF': ['0%', 30], 'NVH_PTPY1.15_SAT_ONL': ['0%', 31], 'NVH_PTPY1.13_SAT_OFF': ['0%', 32], 'NLB_GD67_SAT_ONL': ['0%', 4], 'NLB_PTSY2.27_SAT_ONL': ['0%', 4], 'PXL_PTPY1.3_SAT/SUN_OFF (PRIVATE)': ['0%', 15], 'NLB_GD62_SAT_ONL': ['0%', 9], 'NVH_PTSY1.54_SAT_OFF': ['0%', 14], 'NVH_VP39_SAT_OFF': ['0%', 22], 'NVH_PTSY2.30_SAT_OFF': ['0%', 24], 'NVH_PTSY1.44_SAT_ONL': ['0%', 31], 'NVH_PTSY2.29_SAT_OFF': ['0%', 30], 'NLB_PTSY2.15_SAT_ONL': ['0%', 29], 'NVH_PTPY2.15_SAT_OFF': ['0%', 4], 'NLB_GD70_SAT_OFF': ['0%', 4], 'VCP_VP24_SAT_OFF': ['0%', 6], 'PXL_WDY1.7_SAT_OFF': ['0%', 4], 'NLB_DL14_SAT_OFF': ['0%', 1], 'NLB_PTPY2.9_SAT_OFF': ['0%', 4], 'NVH_PTPY2.13_SAT_OFF': ['0%', 13], 'NLB_WDY1.12_SAT_ONL': ['0%', 18], 'NLB_PTSY1.55_SAT_ONL': ['0%', 19], 'NVH_PTPY2.11_SAT_ONL': ['0%', 21], 'NLB_PTSY1.51_SAT_ONL': ['0%', 28], 'NLB_VP33_SAT_OFF': ['0%', 29], 'NLB_WDY1.9_SAT_OFF': ['0%', 25], 'VCP_DL3_SAT_OFF': ['0%', 32], 'NVH_DL6_SAT_OFF': ['0%', 24], 'VCP_PTPY2.1_SAT_OFF': ['0%', 7], 'NVH_PTPY1.21_SAT_OFF': ['0%', 14], 'NVH_PTSY2.28_SAT_OFF (PRIVATE)': ['0%', 24], 'NVH_DL7_SAT_OFF (PRIVATE)': ['0%', 21], 'VCP_PTSY2.8_SAT_OFF': ['0%', 1], 'PXL_PTPY2.1_SAT_OFF': ['0%', 7], 'NVH_UGD3_SAT_OFF': ['0%', 13], 'NLB_PTSY1.54_SAT_OFF': ['0%', 17], 'NLB_DL10_SAT_OFF': ['0%', 20], 'NLB_VP38_SAT_OFF': ['0%', 18], 'NLB_GD52_SAT_OFF': ['0%', 18], 'PXL_VP25_SAT/SUN_ONL (PRIVATE)': ['0%', 12], 'VCP_CK14_SAT_OFF': ['0%', 9], 'PXL_GD16_SAT_OFF': ['0%', 14], 'NVH_PTPY1.20_SAT_OFF': ['0%', 21], '\\xa0NLB_PTSY2.20_SAT_OFF': ['0%', 23], 'NVH_PTSY1.46_SAT_OFF': ['0%', 21], 'VCP_PTPY1.5_SAT_OFF': ['0%', 1], 'PXL_VP11_SAT_OFF': ['0%', 28], 'NLB_GD68_SAT_OFF': ['0%', 3], 'NVH_WDY2.5_SAT_OFF': ['0%', 8], 'PXL_DL6_SAT_OFF': ['0%', 5], 'NVH_GD51_SAT_OFF': ['0%', 11], 'NVH_PTSY2.36_SAT_OFF': ['0%', 13], 'VCP_GD21_SAT_OFF': ['0%', 14], 'VCP_DL5_SAT_OFF': ['0%', 18], 'NLB_GD47_SAT_ONL': ['0%', 30], 'PXL_DL3_SAT_OFF': ['0%', 32], 'PXL_VP27_SAT_OFF': ['0%', 4], 'NVH_VP49_SAT_OFF': ['0%', 3], 'PXL_PTSY1.11_SAT_OFF': ['0%', 4], 'PXL_WDY1.6_SAT_ONL': ['0%', 4], 'NVH_VP43_SAT_OFF': ['0%', 18], 'NLB_PTPY1.7_SAT_OFF': ['0%', 24], 'NLB_UGD2_SAT_OFF': ['0%', 28], 'NVH_PTSY2.35_SAT_ONL': ['0%', 14], 'VCP_UGD1_SAT_OFF': ['0%', 21], 'NVH_CK40_SAT_OFF': ['0%', 3], 'NLB_DL13_SAT_OFF': ['0%', 6], 'VCP_GD18_SAT_OFF': ['0%', 20], 'VCP_PTSY2.6_SAT_OFF': ['0%', 19], 'NVH_GD41_SAT_OFF': ['0%', 27], 'NLB_PTSY2.28_SAT_OFF': ['0%', 6], 'NVH_VP46_SAT_OFF': ['0%', 12], 'NLB_VP37_SAT_OFF': ['0%', 23], 'NVH_VP38_SAT_OFF': ['0%', 23], 'PXL_WDY1.2_SAT_OFF': ['0%', 24], 'NVH_CK30_SAT_OFF': ['0%', 26], 'PXL_PTSY2.4_SAT_OFF': ['0%', 14], 'PXL_PTSY1.6_SAT_OFF': ['0%', 12], 'PXL_CK8_SAT_OFF': ['0%', 28], 'NLB_PTSY1.46_SAT_OFF': ['0%', 30], 'NVH_GD57_SAT_OFF': ['0%', 9], 'NVH_PTPY1.23_SAT_OFF': ['0%', 9], 'NVH_PTSY1.49_SAT_OFF': ['0%', 20], 'NLB_GD65_SAT_OFF': ['0%', 9], 'NLB_VP42_SAT_OFF': ['0%', 10], 'NLB_CK38_SAT_OFF': ['0%', 10], 'NLB_PTPY2.12_SAT_ONL': ['0%', 8], 'NVH_CK39_SAT_ONL': ['0%', 3], 'PXL_PTSY2.5_SUN_OFF': ['0%', 12], 'PXL_VP20_SUN_OFF': ['0%', 4], 'NVH_PTPY2.10_SUN_ONL': ['0%', 25], 'NLB_PTPY2.7_SUN_OFF (PRIVATE)': ['0%', 13], 'NLB_VP41_SUN_ONL': ['0%', 19], 'NLB_VP36_SUN_OFF': ['0%', 23], 'NLB_GD42_SUN_OFF': ['0%', 32], 'NLB_CK28_SUN_OFF': ['0%', 32], 'VCP_PTSY2.9_SUN_OFF': ['0%', 1], 'NVH_PTSY2.41_SUN_OFF': ['0%', 1], 'VCP_VP25_SUN_OFF': ['0%', 6], 'NLB_PTSY1.59_SUN_OFF': ['0%', 10], 'PXL_PTSY2.3_SUN_OFF': ['0%', 14], 'PXL_PTSY1.7_SUN_OFF': ['0%', 15], 'NVH_PTSY2.33_SUN_OFF': ['0%', 21], 'NVH_DL11_SUN_OFF': ['0%', 27], 'VCP_DL4_SUN_OFF': ['0%', 27], 'NVH_PTPY1.26_THU/SUN_OFF (PRIVATE)': ['0%', 7], 'NLB_PTPY2.6_SUN_OFF': ['0%', 15], 'NVH_GD47_SUN_OFF': ['0%', 20], 'PXL_UGD1_SUN_OFF': ['0%', 8], 'NLB_PTPY2.11_SUN_OFF': ['0%', 5], 'PXL_PTSY1.5_SUN_OFF': ['0%', 16], 'NLB_GD54_SUN_OFF': ['0%', 20], 'NLB_GD53_SUN_ONL': ['0%', 20], 'NLB_PTPY1.9_SUN_ONL': ['0%', 23], 'NVH_CK32_SUN_OFF': ['0%', 29], 'NLB_CK31_SUN_ONL': ['0%', 24], 'NVH_WDY1.10_SUN_OFF': ['0%', 1], 'NLB_DL15_SUN_OFF': ['0%', 1], 'NLB_PTSY1.64_SUN_ONL': ['0%', 7], 'NLB_PTPY1.14_SUN_OFF': ['0%', 9], 'VCP_GD27_SUN_OFF': ['0%', 5], 'VCP_WDY1.6_SUN_OFF': ['0%', 5], 'NVH_VP47_SUN_OFF': ['0%', 12], 'NLB_WDY2.2_SUN_ONL': ['0%', 15], 'NVH_PTSY1.55_SUN_OFF': ['0%', 15], 'PXL_GD10_SUN_OFF': ['0%', 23], 'VCP_VP20_SUN_OFF': ['0%', 23], 'NVH_WDY1.7_SUN_OFF': ['0%', 29], 'NVH_PTSY1.47_SUN_OFF': ['0%', 30], 'NVH_GD34_SUN_OFF': ['0%', 33], 'NLB_CK34_SUN_OFF': ['0%', 24], 'NVH_GD61_SUN_OFF': ['0%', 4], 'NVH_PTSY1.59_SUN_OFF': ['0%', 3], 'NVH_GD60_SUN_OFF': ['0%', 3], 'NLB_PTSY1.63_SUN_OFF': ['0%', 4], 'VCP_PTSY2.7_SUN_OFF': ['0%', 11], 'NLB_GD60_SUN_OFF': ['0%', 9], 'NVH_PTSY2.37_SUN_ONL': ['0%', 14], 'VCP_GD22_SUN_OFF': ['0%', 15], 'VCP_VP22_SUN_OFF': ['0%', 15], 'PXL_GD14_SUN_OFF': ['0%', 11], 'NLB_WDY1.11_SUN_OFF': ['0%', 16], 'PXL_GD8_SUN_OFF': ['0%', 27], 'NVH_VP41_SUN_OFF': ['0%', 15], 'PXL_CK13_SUN_OFF': ['0%', 6], 'NLB_CK39_SUN_OFF': ['0%', 9], 'NVH_CK35_SUN_OFF': ['0%', 11], 'NLB_PTSY2.33_SUN_OFF (PRIVATE)': ['0%', 1], 'NLB_PTSY2.29_SUN_ONL': ['0%', 6], 'NLB_VP44_SUN_ONL': ['0%', 10], 'NVH_CK34_SUN_OFF': ['0%', 21], 'NVH_VP33_SUN_ONL': ['0%', 29], 'PXL_GD22_SUN_ONL': ['0%', 5], 'NVH_PTSY1.57_SUN_OFF': ['0%', 7], 'NLB_DL11_SUN_OFF': ['0%', 11], 'NVH_VP44_SUN_OFF': ['0%', 9], 'NLB_WDY2.3_SUN_OFF': ['0%', 14], 'VCP_PTSY1.15_SUN_OFF': ['0%', 14], 'PXL_VP18_SUN_OFF': ['0%', 20], 'PXL_GD12_SUN_OFF': ['0%', 21], 'NLB_UGD3_SUN_OFF': ['0%', 15], 'PXL_GD11_SUN_OFF (PRIVATE)': ['0%', 14], 'PXL_CK9_SUN_OFF': ['0%', 27], 'NLB_VP30_SUN_ONL': ['0%', 32], 'NLB_CK29_SUN_ONL': ['0%', 32], 'NVH_PTPY1.28_SUN_OFF': ['0%', 1], 'NVH_PTPY1.27_SUN_OFF (PRIVATE)': ['0%', 3], 'NLB_GD59_SUN_ONL': ['0%', 12], 'VCP_VP21_SUN_OFF': ['0%', 16], 'NLB_PTSY2.22_SUN_OFF': ['0%', 18], 'NLB_GD56_SUN_OFF': ['0%', 17], 'NLB_CK36_SUN_OFF': ['0%', 18], 'NVH_PTSY2.32_SUN_ONL': ['0%', 17], 'NVH_PTSY1.51_SUN_ONL': ['0%', 21], 'VCP_PTPY1.4_SUN_ONL': ['0%', 4], 'VCP_CK13_SUN_OFF': ['0%', 17], 'NLB_WDY1.13_SUN_OFF': ['0%', 14], 'NLB_PTPY1.11_SUN_OFF': ['0%', 15], 'PXL_VP22_SUN_ONL': ['0%', 4], 'PXL_PTPY1.2_SUN_OFF': ['0%', 10]}\n"
          ]
        }
      ],
      "source": [
        "def get_percentage():\n",
        "  \n",
        "  percentages = {}\n",
        "  for base in bases:\n",
        "    for i in range(1,3):\n",
        "      date = date_now.today() - timedelta(i)\n",
        "      para = f'?GroupWithLessonSearch%5BnextLessonTime%5D={date}+-+{date}&GroupWithLessonSearch%5BnextLessonNumber%5D=&GroupWithLessonSearch%5BnextLessonTitle%5D=&GroupWithLessonSearch%5Bid%5D=&GroupWithLessonSearch%5Btitle%5D={base}&GroupWithLessonSearch%5Bvenue%5D=&GroupWithLessonSearch%5Bactive_student_count%5D=&GroupWithLessonSearch%5Bweekday%5D=&GroupWithLessonSearch%5BlessonTeacherName%5D=&GroupWithLessonSearch%5Bteacher%5D=&GroupWithLessonSearch%5Bcurator%5D=&GroupWithLessonSearch%5Btype%5D=&GroupWithLessonSearch%5Bstatus%5D=&GroupWithLessonSearch%5BlessonFormat%5D=&GroupWithLessonSearch%5Bis_online%5D=&export=true&name=default&exportType=html'\n",
        "      header =  {\n",
        "        \"accept\": \"text/html,application/xhtml+xml,application/xml;q=0.9,image/avif,image/webp,image/apng,*/*;q=0.8,application/signed-exchange;v=b3;q=0.7\",\n",
        "        \"accept-language\": \"en-US,en;q=0.9,vi-VN;q=0.8,vi;q=0.7\",\n",
        "        \"cache-control\": \"max-age=0\",\n",
        "        \"sec-ch-ua\": \"\\\"Chromium\\\";v=\\\"116\\\", \\\"Not)A;Brand\\\";v=\\\"24\\\", \\\"Google Chrome\\\";v=\\\"116\\\"\",\n",
        "        \"sec-ch-ua-mobile\": \"?0\",\n",
        "        \"sec-ch-ua-platform\": \"\\\"Windows\\\"\",\n",
        "        \"sec-fetch-dest\": \"document\",\n",
        "        \"sec-fetch-mode\": \"navigate\",\n",
        "        \"sec-fetch-site\": \"same-origin\",\n",
        "        \"sec-fetch-user\": \"?1\",\n",
        "        \"upgrade-insecure-requests\": \"1\",\n",
        "        \"cookie\": \"_ym_uid=1664966280852805697; intercom-device-id-ufjpx6k3=fd3080c1-5a63-4af6-bd1f-15268d549a7e; userId=30454; _grid_page_size_schedule=35d0980fa38e2255112d0c62698773cab8aa12a81c6735caf172064b5eb6ea47a%3A2%3A%7Bi%3A0%3Bs%3A24%3A%22_grid_page_size_schedule%22%3Bi%3A1%3Bs%3A3%3A%22200%22%3B%7D; _grid_page_size=d3ebbdf9ec9235bfc4ba59572a6d3dd403a563222be148e9c705e91612194e49a%3A2%3A%7Bi%3A0%3Bs%3A15%3A%22_grid_page_size%22%3Bi%3A1%3Bs%3A3%3A%22200%22%3B%7D; _ym_d=1680775536; studentId=1700942; studentAccessToken=59839bd5ef574b15cd869fa67e04fcdf4a97e278085dee7a21dfeb1f5a33cd62; studentCreatedTimestamp=1693481460; previousPage=%2F; createdTimestamp=1693978386; accessToken=6f7fa0398bac5ce10b0d85e00fc01725eae9b60c7188cfc1963c98ed73504e82; SERVERID=b440; _backendMainSessionId=81389387a907ff2840bad3c150bb2e76; _gid=GA1.2.1044467574.1693978385; _ym_isad=2; _ym_visorc=w; _ga=GA1.2.1620969847.1664966279; _ga_3QSGZBLTE3=GS1.1.1693978384.233.1.1693978511.59.0.0; _ga_4CL98HXNQK=GS1.1.1693978385.60.1.1693978530.0.0.0\",\n",
        "        \"Referer\": f\"{CPR_DOMAINS}?GroupLessonSearch%5Bstart_time%5D={date}%20-%20{date}&GroupLessonSearch%5Bnumber%5D=&GroupLessonSearch%5Blesson.title%5D=&GroupLessonSearch%5Bgroup_id%5D=&GroupLessonSearch%5Bgroup.title%5D={base}&GroupLessonSearch%5Bgroup.active_student_count%5D=&GroupLessonSearch%5Bweekday%5D=&GroupLessonSearch%5Bteacher.name%5D=&GroupLessonSearch%5Bgroup.teacher.name%5D=&GroupLessonSearch%5Bis_online%5D=\",\n",
        "        \"Referrer-Policy\": \"strict-origin-when-cross-origin\"\n",
        "      }\n",
        "      end_point = CPR_DOMAINS + para\n",
        "      res = s.get(end_point, headers = header)\n",
        "      output = res.content.decode('utf-8')\n",
        "      soup = BeautifulSoup(output, 'html.parser', from_encoding='utf-8')\n",
        "      soup.find('tbody')\n",
        "      # get data \n",
        "      all_tr = soup.find_all('tr')\n",
        "      for i in range(len(all_tr)):\n",
        "        tr = all_tr[i]\n",
        "        all_td = tr.find_all('td')\n",
        "        next_les = all_td[1]\n",
        "        next_les = next_les.string\n",
        "        group_title = all_td[4].find('a')\n",
        "        \n",
        "        id = all_td[4].find('p')\n",
        "        class_occurrences = all_td[5].find('span')\n",
        "        if class_occurrences is None:\n",
        "          continue\n",
        "        class_occurrences = class_occurrences.string\n",
        "        if group_title is None:\n",
        "          continue\n",
        "        # print(str(class_occurrences))\n",
        "        group_title = group_title.string\n",
        "        percentages[str(group_title)] = [str(class_occurrences), int(next_les)]\n",
        "  \n",
        "  return percentages \n",
        "percentages = get_percentage()\n",
        "print(percentages)"
      ]
    },
    {
      "attachments": {},
      "cell_type": "markdown",
      "metadata": {},
      "source": [
        "main function \n",
        "will get update in the future and clean up soon."
      ]
    },
    {
      "cell_type": "code",
      "execution_count": 4,
      "metadata": {
        "id": "v1INZn-czjlm"
      },
      "outputs": [
        {
          "data": {
            "application/vnd.jupyter.widget-view+json": {
              "model_id": "dcbe0039f79648aa8e2e2d0f3cfa1451",
              "version_major": 2,
              "version_minor": 0
            },
            "text/plain": [
              "Output()"
            ]
          },
          "metadata": {},
          "output_type": "display_data"
        },
        {
          "data": {
            "text/html": [
              "<pre style=\"white-space:pre;overflow-x:auto;line-height:normal;font-family:Menlo,'DejaVu Sans Mono',consolas,'Courier New',monospace\">Non\n",
              "</pre>\n"
            ],
            "text/plain": [
              "Non\n"
            ]
          },
          "metadata": {},
          "output_type": "display_data"
        },
        {
          "name": "stdout",
          "output_type": "stream",
          "text": [
            "125\n"
          ]
        },
        {
          "data": {
            "text/html": [
              "<pre style=\"white-space:pre;overflow-x:auto;line-height:normal;font-family:Menlo,'DejaVu Sans Mono',consolas,'Courier New',monospace\">Non invalid literal for int() with base 10: 'S'\n",
              "</pre>\n"
            ],
            "text/plain": [
              "Non invalid literal for int() with base 10: 'S'\n"
            ]
          },
          "metadata": {},
          "output_type": "display_data"
        },
        {
          "data": {
            "text/html": [
              "<pre style=\"white-space:pre;overflow-x:auto;line-height:normal;font-family:Menlo,'DejaVu Sans Mono',consolas,'Courier New',monospace\">NLB_GD73_WED_OFF (PRIVATE)\n",
              "</pre>\n"
            ],
            "text/plain": [
              "NLB_GD73_WED_OFF (PRIVATE)\n"
            ]
          },
          "metadata": {},
          "output_type": "display_data"
        },
        {
          "data": {
            "text/html": [
              "<pre style=\"white-space:pre;overflow-x:auto;line-height:normal;font-family:Menlo,'DejaVu Sans Mono',consolas,'Courier New',monospace\">NLB_CK40_TUE_OFF\n",
              "</pre>\n"
            ],
            "text/plain": [
              "NLB_CK40_TUE_OFF\n"
            ]
          },
          "metadata": {},
          "output_type": "display_data"
        },
        {
          "data": {
            "text/html": [
              "<pre style=\"white-space:pre;overflow-x:auto;line-height:normal;font-family:Menlo,'DejaVu Sans Mono',consolas,'Courier New',monospace\">NLB_VP50_WED_OFF\n",
              "</pre>\n"
            ],
            "text/plain": [
              "NLB_VP50_WED_OFF\n"
            ]
          },
          "metadata": {},
          "output_type": "display_data"
        },
        {
          "data": {
            "text/html": [
              "<pre style=\"white-space:pre;overflow-x:auto;line-height:normal;font-family:Menlo,'DejaVu Sans Mono',consolas,'Courier New',monospace\">NLB_PTPY1.17_FRI_OFF\n",
              "</pre>\n"
            ],
            "text/plain": [
              "NLB_PTPY1.17_FRI_OFF\n"
            ]
          },
          "metadata": {},
          "output_type": "display_data"
        },
        {
          "data": {
            "text/html": [
              "<pre style=\"white-space:pre;overflow-x:auto;line-height:normal;font-family:Menlo,'DejaVu Sans Mono',consolas,'Courier New',monospace\">NLB_PTSY2.30_MON/SAT_ONL (PRIVATE)\n",
              "</pre>\n"
            ],
            "text/plain": [
              "NLB_PTSY2.30_MON/SAT_ONL (PRIVATE)\n"
            ]
          },
          "metadata": {},
          "output_type": "display_data"
        },
        {
          "data": {
            "text/html": [
              "<pre style=\"white-space:pre;overflow-x:auto;line-height:normal;font-family:Menlo,'DejaVu Sans Mono',consolas,'Courier New',monospace\">NLB_WDY2.4_FRI_OFF\n",
              "</pre>\n"
            ],
            "text/plain": [
              "NLB_WDY2.4_FRI_OFF\n"
            ]
          },
          "metadata": {},
          "output_type": "display_data"
        },
        {
          "data": {
            "text/html": [
              "<pre style=\"white-space:pre;overflow-x:auto;line-height:normal;font-family:Menlo,'DejaVu Sans Mono',consolas,'Courier New',monospace\">NLB_GD70_SAT_OFF\n",
              "</pre>\n"
            ],
            "text/plain": [
              "NLB_GD70_SAT_OFF\n"
            ]
          },
          "metadata": {},
          "output_type": "display_data"
        },
        {
          "data": {
            "text/html": [
              "<pre style=\"white-space:pre;overflow-x:auto;line-height:normal;font-family:Menlo,'DejaVu Sans Mono',consolas,'Courier New',monospace\">NLB_PTSY2.29_SUN_ONL\n",
              "</pre>\n"
            ],
            "text/plain": [
              "NLB_PTSY2.29_SUN_ONL\n"
            ]
          },
          "metadata": {},
          "output_type": "display_data"
        },
        {
          "data": {
            "text/html": [
              "<pre style=\"white-space:pre;overflow-x:auto;line-height:normal;font-family:Menlo,'DejaVu Sans Mono',consolas,'Courier New',monospace\">NLB_VP47_FRI_ONL\n",
              "</pre>\n"
            ],
            "text/plain": [
              "NLB_VP47_FRI_ONL\n"
            ]
          },
          "metadata": {},
          "output_type": "display_data"
        },
        {
          "data": {
            "text/html": [
              "<pre style=\"white-space:pre;overflow-x:auto;line-height:normal;font-family:Menlo,'DejaVu Sans Mono',consolas,'Courier New',monospace\">NLB_PTPY2.13_MON_OFF\n",
              "</pre>\n"
            ],
            "text/plain": [
              "NLB_PTPY2.13_MON_OFF\n"
            ]
          },
          "metadata": {},
          "output_type": "display_data"
        },
        {
          "data": {
            "text/html": [
              "<pre style=\"white-space:pre;overflow-x:auto;line-height:normal;font-family:Menlo,'DejaVu Sans Mono',consolas,'Courier New',monospace\">NLB_PTSY1.65_FRI_OFF\n",
              "</pre>\n"
            ],
            "text/plain": [
              "NLB_PTSY1.65_FRI_OFF\n"
            ]
          },
          "metadata": {},
          "output_type": "display_data"
        },
        {
          "data": {
            "text/html": [
              "<pre style=\"white-space:pre;overflow-x:auto;line-height:normal;font-family:Menlo,'DejaVu Sans Mono',consolas,'Courier New',monospace\">NLB_PTSY1.64_SUN_ONL\n",
              "</pre>\n"
            ],
            "text/plain": [
              "NLB_PTSY1.64_SUN_ONL\n"
            ]
          },
          "metadata": {},
          "output_type": "display_data"
        },
        {
          "data": {
            "text/html": [
              "<pre style=\"white-space:pre;overflow-x:auto;line-height:normal;font-family:Menlo,'DejaVu Sans Mono',consolas,'Courier New',monospace\">NLB_PTSY2.28_SAT_OFF\n",
              "</pre>\n"
            ],
            "text/plain": [
              "NLB_PTSY2.28_SAT_OFF\n"
            ]
          },
          "metadata": {},
          "output_type": "display_data"
        },
        {
          "data": {
            "text/html": [
              "<pre style=\"white-space:pre;overflow-x:auto;line-height:normal;font-family:Menlo,'DejaVu Sans Mono',consolas,'Courier New',monospace\">NLB_GD68_SAT_OFF\n",
              "</pre>\n"
            ],
            "text/plain": [
              "NLB_GD68_SAT_OFF\n"
            ]
          },
          "metadata": {},
          "output_type": "display_data"
        },
        {
          "data": {
            "text/html": [
              "<pre style=\"white-space:pre;overflow-x:auto;line-height:normal;font-family:Menlo,'DejaVu Sans Mono',consolas,'Courier New',monospace\">NLB_GD67_SAT_ONL\n",
              "</pre>\n"
            ],
            "text/plain": [
              "NLB_GD67_SAT_ONL\n"
            ]
          },
          "metadata": {},
          "output_type": "display_data"
        },
        {
          "data": {
            "text/html": [
              "<pre style=\"white-space:pre;overflow-x:auto;line-height:normal;font-family:Menlo,'DejaVu Sans Mono',consolas,'Courier New',monospace\">NLB_PTPY2.12_SAT_ONL\n",
              "</pre>\n"
            ],
            "text/plain": [
              "NLB_PTPY2.12_SAT_ONL\n"
            ]
          },
          "metadata": {},
          "output_type": "display_data"
        },
        {
          "data": {
            "text/html": [
              "<pre style=\"white-space:pre;overflow-x:auto;line-height:normal;font-family:Menlo,'DejaVu Sans Mono',consolas,'Courier New',monospace\">NLB_PTSY2.27_SAT_ONL\n",
              "</pre>\n"
            ],
            "text/plain": [
              "NLB_PTSY2.27_SAT_ONL\n"
            ]
          },
          "metadata": {},
          "output_type": "display_data"
        },
        {
          "data": {
            "text/html": [
              "<pre style=\"white-space:pre;overflow-x:auto;line-height:normal;font-family:Menlo,'DejaVu Sans Mono',consolas,'Courier New',monospace\">NLB_PTSY1.63_SUN_OFF\n",
              "</pre>\n"
            ],
            "text/plain": [
              "NLB_PTSY1.63_SUN_OFF\n"
            ]
          },
          "metadata": {},
          "output_type": "display_data"
        },
        {
          "data": {
            "text/html": [
              "<pre style=\"white-space:pre;overflow-x:auto;line-height:normal;font-family:Menlo,'DejaVu Sans Mono',consolas,'Courier New',monospace\">NLB_VP46_FRI_ONL\n",
              "</pre>\n"
            ],
            "text/plain": [
              "NLB_VP46_FRI_ONL\n"
            ]
          },
          "metadata": {},
          "output_type": "display_data"
        },
        {
          "data": {
            "text/html": [
              "<pre style=\"white-space:pre;overflow-x:auto;line-height:normal;font-family:Menlo,'DejaVu Sans Mono',consolas,'Courier New',monospace\">NLB_GD66_WED_OFF\n",
              "</pre>\n"
            ],
            "text/plain": [
              "NLB_GD66_WED_OFF\n"
            ]
          },
          "metadata": {},
          "output_type": "display_data"
        },
        {
          "data": {
            "text/html": [
              "<pre style=\"white-space:pre;overflow-x:auto;line-height:normal;font-family:Menlo,'DejaVu Sans Mono',consolas,'Courier New',monospace\">NLB_VP45_MON_OFF\n",
              "</pre>\n"
            ],
            "text/plain": [
              "NLB_VP45_MON_OFF\n"
            ]
          },
          "metadata": {},
          "output_type": "display_data"
        },
        {
          "data": {
            "text/html": [
              "<pre style=\"white-space:pre;overflow-x:auto;line-height:normal;font-family:Menlo,'DejaVu Sans Mono',consolas,'Courier New',monospace\">NLB_WDY1.15_THU_OFF\n",
              "</pre>\n"
            ],
            "text/plain": [
              "NLB_WDY1.15_THU_OFF\n"
            ]
          },
          "metadata": {},
          "output_type": "display_data"
        },
        {
          "data": {
            "text/html": [
              "<pre style=\"white-space:pre;overflow-x:auto;line-height:normal;font-family:Menlo,'DejaVu Sans Mono',consolas,'Courier New',monospace\">NLB_DL13_SAT_OFF\n",
              "</pre>\n"
            ],
            "text/plain": [
              "NLB_DL13_SAT_OFF\n"
            ]
          },
          "metadata": {},
          "output_type": "display_data"
        },
        {
          "data": {
            "text/html": [
              "<pre style=\"white-space:pre;overflow-x:auto;line-height:normal;font-family:Menlo,'DejaVu Sans Mono',consolas,'Courier New',monospace\">NLB_PTPY1.14_SUN_OFF\n",
              "</pre>\n"
            ],
            "text/plain": [
              "NLB_PTPY1.14_SUN_OFF\n"
            ]
          },
          "metadata": {},
          "output_type": "display_data"
        },
        {
          "data": {
            "text/html": [
              "<pre style=\"white-space:pre;overflow-x:auto;line-height:normal;font-family:Menlo,'DejaVu Sans Mono',consolas,'Courier New',monospace\">NLB_UGD4_FRI_OFF\n",
              "</pre>\n"
            ],
            "text/plain": [
              "NLB_UGD4_FRI_OFF\n"
            ]
          },
          "metadata": {},
          "output_type": "display_data"
        },
        {
          "data": {
            "text/html": [
              "<pre style=\"white-space:pre;overflow-x:auto;line-height:normal;font-family:Menlo,'DejaVu Sans Mono',consolas,'Courier New',monospace\">NLB_PTSY1.62_TUE_ONL\n",
              "</pre>\n"
            ],
            "text/plain": [
              "NLB_PTSY1.62_TUE_ONL\n"
            ]
          },
          "metadata": {},
          "output_type": "display_data"
        },
        {
          "data": {
            "text/html": [
              "<pre style=\"white-space:pre;overflow-x:auto;line-height:normal;font-family:Menlo,'DejaVu Sans Mono',consolas,'Courier New',monospace\">NLB_GD65_SAT_OFF\n",
              "</pre>\n"
            ],
            "text/plain": [
              "NLB_GD65_SAT_OFF\n"
            ]
          },
          "metadata": {},
          "output_type": "display_data"
        },
        {
          "data": {
            "text/html": [
              "<pre style=\"white-space:pre;overflow-x:auto;line-height:normal;font-family:Menlo,'DejaVu Sans Mono',consolas,'Courier New',monospace\">NLB_PTPY2.11_SUN_OFF\n",
              "</pre>\n"
            ],
            "text/plain": [
              "NLB_PTPY2.11_SUN_OFF\n"
            ]
          },
          "metadata": {},
          "output_type": "display_data"
        },
        {
          "data": {
            "text/html": [
              "<pre style=\"white-space:pre;overflow-x:auto;line-height:normal;font-family:Menlo,'DejaVu Sans Mono',consolas,'Courier New',monospace\">NLB_PTPY2.10_THU_ONL\n",
              "</pre>\n"
            ],
            "text/plain": [
              "NLB_PTPY2.10_THU_ONL\n"
            ]
          },
          "metadata": {},
          "output_type": "display_data"
        },
        {
          "data": {
            "text/html": [
              "<pre style=\"white-space:pre;overflow-x:auto;line-height:normal;font-family:Menlo,'DejaVu Sans Mono',consolas,'Courier New',monospace\">NLB_GD64_FRI_OFF\n",
              "</pre>\n"
            ],
            "text/plain": [
              "NLB_GD64_FRI_OFF\n"
            ]
          },
          "metadata": {},
          "output_type": "display_data"
        },
        {
          "data": {
            "text/html": [
              "<pre style=\"white-space:pre;overflow-x:auto;line-height:normal;font-family:Menlo,'DejaVu Sans Mono',consolas,'Courier New',monospace\">NLB_PTSY1.61_WED_OFF\n",
              "</pre>\n"
            ],
            "text/plain": [
              "NLB_PTSY1.61_WED_OFF\n"
            ]
          },
          "metadata": {},
          "output_type": "display_data"
        },
        {
          "data": {
            "text/html": [
              "<pre style=\"white-space:pre;overflow-x:auto;line-height:normal;font-family:Menlo,'DejaVu Sans Mono',consolas,'Courier New',monospace\">NLB_GD63_WED_OFF\n",
              "</pre>\n"
            ],
            "text/plain": [
              "NLB_GD63_WED_OFF\n"
            ]
          },
          "metadata": {},
          "output_type": "display_data"
        },
        {
          "data": {
            "text/html": [
              "<pre style=\"white-space:pre;overflow-x:auto;line-height:normal;font-family:Menlo,'DejaVu Sans Mono',consolas,'Courier New',monospace\">NLB_PTSY2.26_FRI_ONL\n",
              "</pre>\n"
            ],
            "text/plain": [
              "NLB_PTSY2.26_FRI_ONL\n"
            ]
          },
          "metadata": {},
          "output_type": "display_data"
        },
        {
          "data": {
            "text/html": [
              "<pre style=\"white-space:pre;overflow-x:auto;line-height:normal;font-family:Menlo,'DejaVu Sans Mono',consolas,'Courier New',monospace\">NLB_CK39_SUN_OFF\n",
              "</pre>\n"
            ],
            "text/plain": [
              "NLB_CK39_SUN_OFF\n"
            ]
          },
          "metadata": {},
          "output_type": "display_data"
        },
        {
          "data": {
            "text/html": [
              "<pre style=\"white-space:pre;overflow-x:auto;line-height:normal;font-family:Menlo,'DejaVu Sans Mono',consolas,'Courier New',monospace\">NLB_WDY1.14_FRI_OFF\n",
              "</pre>\n"
            ],
            "text/plain": [
              "NLB_WDY1.14_FRI_OFF\n"
            ]
          },
          "metadata": {},
          "output_type": "display_data"
        },
        {
          "data": {
            "text/html": [
              "<pre style=\"white-space:pre;overflow-x:auto;line-height:normal;font-family:Menlo,'DejaVu Sans Mono',consolas,'Courier New',monospace\">NLB_DL12_MON_OFF\n",
              "</pre>\n"
            ],
            "text/plain": [
              "NLB_DL12_MON_OFF\n"
            ]
          },
          "metadata": {},
          "output_type": "display_data"
        },
        {
          "data": {
            "text/html": [
              "<pre style=\"white-space:pre;overflow-x:auto;line-height:normal;font-family:Menlo,'DejaVu Sans Mono',consolas,'Courier New',monospace\">NLB_VP44_SUN_ONL\n",
              "</pre>\n"
            ],
            "text/plain": [
              "NLB_VP44_SUN_ONL\n"
            ]
          },
          "metadata": {},
          "output_type": "display_data"
        },
        {
          "data": {
            "text/html": [
              "<pre style=\"white-space:pre;overflow-x:auto;line-height:normal;font-family:Menlo,'DejaVu Sans Mono',consolas,'Courier New',monospace\">NLB_PTSY1.60_TUE_ONL\n",
              "</pre>\n"
            ],
            "text/plain": [
              "NLB_PTSY1.60_TUE_ONL\n"
            ]
          },
          "metadata": {},
          "output_type": "display_data"
        },
        {
          "data": {
            "text/html": [
              "<pre style=\"white-space:pre;overflow-x:auto;line-height:normal;font-family:Menlo,'DejaVu Sans Mono',consolas,'Courier New',monospace\">NLB_PTSY1.59_SUN_OFF\n",
              "</pre>\n"
            ],
            "text/plain": [
              "NLB_PTSY1.59_SUN_OFF\n"
            ]
          },
          "metadata": {},
          "output_type": "display_data"
        },
        {
          "data": {
            "text/html": [
              "<pre style=\"white-space:pre;overflow-x:auto;line-height:normal;font-family:Menlo,'DejaVu Sans Mono',consolas,'Courier New',monospace\">NLB_GD62_SAT_ONL\n",
              "</pre>\n"
            ],
            "text/plain": [
              "NLB_GD62_SAT_ONL\n"
            ]
          },
          "metadata": {},
          "output_type": "display_data"
        },
        {
          "data": {
            "text/html": [
              "<pre style=\"white-space:pre;overflow-x:auto;line-height:normal;font-family:Menlo,'DejaVu Sans Mono',consolas,'Courier New',monospace\">NLB_GD61_FRI_ONL\n",
              "</pre>\n"
            ],
            "text/plain": [
              "NLB_GD61_FRI_ONL\n"
            ]
          },
          "metadata": {},
          "output_type": "display_data"
        },
        {
          "data": {
            "text/html": [
              "<pre style=\"white-space:pre;overflow-x:auto;line-height:normal;font-family:Menlo,'DejaVu Sans Mono',consolas,'Courier New',monospace\">NLB_GD60_SUN_OFF\n",
              "</pre>\n"
            ],
            "text/plain": [
              "NLB_GD60_SUN_OFF\n"
            ]
          },
          "metadata": {},
          "output_type": "display_data"
        },
        {
          "data": {
            "text/html": [
              "<pre style=\"white-space:pre;overflow-x:auto;line-height:normal;font-family:Menlo,'DejaVu Sans Mono',consolas,'Courier New',monospace\">NLB_PTPY2.9_SAT_OFF\n",
              "</pre>\n"
            ],
            "text/plain": [
              "NLB_PTPY2.9_SAT_OFF\n"
            ]
          },
          "metadata": {},
          "output_type": "display_data"
        },
        {
          "data": {
            "text/html": [
              "<pre style=\"white-space:pre;overflow-x:auto;line-height:normal;font-family:Menlo,'DejaVu Sans Mono',consolas,'Courier New',monospace\">NLB_GD59_SUN_ONL\n",
              "</pre>\n"
            ],
            "text/plain": [
              "NLB_GD59_SUN_ONL\n"
            ]
          },
          "metadata": {},
          "output_type": "display_data"
        },
        {
          "data": {
            "text/html": [
              "<pre style=\"white-space:pre;overflow-x:auto;line-height:normal;font-family:Menlo,'DejaVu Sans Mono',consolas,'Courier New',monospace\">NLB_PTPY2.8_FRI_OFF\n",
              "</pre>\n"
            ],
            "text/plain": [
              "NLB_PTPY2.8_FRI_OFF\n"
            ]
          },
          "metadata": {},
          "output_type": "display_data"
        },
        {
          "data": {
            "text/html": [
              "<pre style=\"white-space:pre;overflow-x:auto;line-height:normal;font-family:Menlo,'DejaVu Sans Mono',consolas,'Courier New',monospace\">NLB_DL11_SUN_OFF\n",
              "</pre>\n"
            ],
            "text/plain": [
              "NLB_DL11_SUN_OFF\n"
            ]
          },
          "metadata": {},
          "output_type": "display_data"
        },
        {
          "data": {
            "text/html": [
              "<pre style=\"white-space:pre;overflow-x:auto;line-height:normal;font-family:Menlo,'DejaVu Sans Mono',consolas,'Courier New',monospace\">NLB_PTSY2.25_FRI_ONL\n",
              "</pre>\n"
            ],
            "text/plain": [
              "NLB_PTSY2.25_FRI_ONL\n"
            ]
          },
          "metadata": {},
          "output_type": "display_data"
        },
        {
          "data": {
            "text/html": [
              "<pre style=\"white-space:pre;overflow-x:auto;line-height:normal;font-family:Menlo,'DejaVu Sans Mono',consolas,'Courier New',monospace\">NLB_GD58_MON_OFF\n",
              "</pre>\n"
            ],
            "text/plain": [
              "NLB_GD58_MON_OFF\n"
            ]
          },
          "metadata": {},
          "output_type": "display_data"
        },
        {
          "data": {
            "text/html": [
              "<pre style=\"white-space:pre;overflow-x:auto;line-height:normal;font-family:Menlo,'DejaVu Sans Mono',consolas,'Courier New',monospace\">NLB_VP42_SAT_OFF\n",
              "</pre>\n"
            ],
            "text/plain": [
              "NLB_VP42_SAT_OFF\n"
            ]
          },
          "metadata": {},
          "output_type": "display_data"
        },
        {
          "data": {
            "text/html": [
              "<pre style=\"white-space:pre;overflow-x:auto;line-height:normal;font-family:Menlo,'DejaVu Sans Mono',consolas,'Courier New',monospace\">NLB_CK38_SAT_OFF\n",
              "</pre>\n"
            ],
            "text/plain": [
              "NLB_CK38_SAT_OFF\n"
            ]
          },
          "metadata": {},
          "output_type": "display_data"
        },
        {
          "data": {
            "text/html": [
              "<pre style=\"white-space:pre;overflow-x:auto;line-height:normal;font-family:Menlo,'DejaVu Sans Mono',consolas,'Courier New',monospace\">NLB_PTSY2.24_TUE_OFF\n",
              "</pre>\n"
            ],
            "text/plain": [
              "NLB_PTSY2.24_TUE_OFF\n"
            ]
          },
          "metadata": {},
          "output_type": "display_data"
        },
        {
          "data": {
            "text/html": [
              "<pre style=\"white-space:pre;overflow-x:auto;line-height:normal;font-family:Menlo,'DejaVu Sans Mono',consolas,'Courier New',monospace\">NLB_PTSY1.58_FRI_ONL\n",
              "</pre>\n"
            ],
            "text/plain": [
              "NLB_PTSY1.58_FRI_ONL\n"
            ]
          },
          "metadata": {},
          "output_type": "display_data"
        },
        {
          "data": {
            "text/html": [
              "<pre style=\"white-space:pre;overflow-x:auto;line-height:normal;font-family:Menlo,'DejaVu Sans Mono',consolas,'Courier New',monospace\">NLB_PTPY2.7_SUN_OFF (PRIVATE)\n",
              "</pre>\n"
            ],
            "text/plain": [
              "NLB_PTPY2.7_SUN_OFF (PRIVATE)\n"
            ]
          },
          "metadata": {},
          "output_type": "display_data"
        },
        {
          "data": {
            "text/html": [
              "<pre style=\"white-space:pre;overflow-x:auto;line-height:normal;font-family:Menlo,'DejaVu Sans Mono',consolas,'Courier New',monospace\">NLB_WDY2.3_SUN_OFF\n",
              "</pre>\n"
            ],
            "text/plain": [
              "NLB_WDY2.3_SUN_OFF\n"
            ]
          },
          "metadata": {},
          "output_type": "display_data"
        },
        {
          "data": {
            "text/html": [
              "<pre style=\"white-space:pre;overflow-x:auto;line-height:normal;font-family:Menlo,'DejaVu Sans Mono',consolas,'Courier New',monospace\">NLB_CK37_THU_OFF\n",
              "</pre>\n"
            ],
            "text/plain": [
              "NLB_CK37_THU_OFF\n"
            ]
          },
          "metadata": {},
          "output_type": "display_data"
        },
        {
          "data": {
            "text/html": [
              "<pre style=\"white-space:pre;overflow-x:auto;line-height:normal;font-family:Menlo,'DejaVu Sans Mono',consolas,'Courier New',monospace\">NLB_PTPY1.11_SUN_OFF\n",
              "</pre>\n"
            ],
            "text/plain": [
              "NLB_PTPY1.11_SUN_OFF\n"
            ]
          },
          "metadata": {},
          "output_type": "display_data"
        },
        {
          "data": {
            "text/html": [
              "<pre style=\"white-space:pre;overflow-x:auto;line-height:normal;font-family:Menlo,'DejaVu Sans Mono',consolas,'Courier New',monospace\">NLB_WDY2.2_SUN_ONL\n",
              "</pre>\n"
            ],
            "text/plain": [
              "NLB_WDY2.2_SUN_ONL\n"
            ]
          },
          "metadata": {},
          "output_type": "display_data"
        },
        {
          "data": {
            "text/html": [
              "<pre style=\"white-space:pre;overflow-x:auto;line-height:normal;font-family:Menlo,'DejaVu Sans Mono',consolas,'Courier New',monospace\">NLB_WDY1.13_SUN_OFF\n",
              "</pre>\n"
            ],
            "text/plain": [
              "NLB_WDY1.13_SUN_OFF\n"
            ]
          },
          "metadata": {},
          "output_type": "display_data"
        },
        {
          "data": {
            "text/html": [
              "<pre style=\"white-space:pre;overflow-x:auto;line-height:normal;font-family:Menlo,'DejaVu Sans Mono',consolas,'Courier New',monospace\">NLB_PTSY1.57_FRI_OFF\n",
              "</pre>\n"
            ],
            "text/plain": [
              "NLB_PTSY1.57_FRI_OFF\n"
            ]
          },
          "metadata": {},
          "output_type": "display_data"
        },
        {
          "data": {
            "text/html": [
              "<pre style=\"white-space:pre;overflow-x:auto;line-height:normal;font-family:Menlo,'DejaVu Sans Mono',consolas,'Courier New',monospace\">NLB_PTPY2.6_SUN_OFF\n",
              "</pre>\n"
            ],
            "text/plain": [
              "NLB_PTPY2.6_SUN_OFF\n"
            ]
          },
          "metadata": {},
          "output_type": "display_data"
        },
        {
          "data": {
            "text/html": [
              "<pre style=\"white-space:pre;overflow-x:auto;line-height:normal;font-family:Menlo,'DejaVu Sans Mono',consolas,'Courier New',monospace\">NLB_PTSY1.56_MON_ONL\n",
              "</pre>\n"
            ],
            "text/plain": [
              "NLB_PTSY1.56_MON_ONL\n"
            ]
          },
          "metadata": {},
          "output_type": "display_data"
        },
        {
          "data": {
            "text/html": [
              "<pre style=\"white-space:pre;overflow-x:auto;line-height:normal;font-family:Menlo,'DejaVu Sans Mono',consolas,'Courier New',monospace\">NLB_GD57_MON_OFF\n",
              "</pre>\n"
            ],
            "text/plain": [
              "NLB_GD57_MON_OFF\n"
            ]
          },
          "metadata": {},
          "output_type": "display_data"
        },
        {
          "data": {
            "text/html": [
              "<pre style=\"white-space:pre;overflow-x:auto;line-height:normal;font-family:Menlo,'DejaVu Sans Mono',consolas,'Courier New',monospace\">NLB_PTSY2.22_SUN_OFF\n",
              "</pre>\n"
            ],
            "text/plain": [
              "NLB_PTSY2.22_SUN_OFF\n"
            ]
          },
          "metadata": {},
          "output_type": "display_data"
        },
        {
          "data": {
            "text/html": [
              "<pre style=\"white-space:pre;overflow-x:auto;line-height:normal;font-family:Menlo,'DejaVu Sans Mono',consolas,'Courier New',monospace\">NLB_WDY1.12_SAT_ONL\n",
              "</pre>\n"
            ],
            "text/plain": [
              "NLB_WDY1.12_SAT_ONL\n"
            ]
          },
          "metadata": {},
          "output_type": "display_data"
        },
        {
          "data": {
            "text/html": [
              "<pre style=\"white-space:pre;overflow-x:auto;line-height:normal;font-family:Menlo,'DejaVu Sans Mono',consolas,'Courier New',monospace\">NLB_PTSY1.55_SAT_ONL\n",
              "</pre>\n"
            ],
            "text/plain": [
              "NLB_PTSY1.55_SAT_ONL\n"
            ]
          },
          "metadata": {},
          "output_type": "display_data"
        },
        {
          "data": {
            "text/html": [
              "<pre style=\"white-space:pre;overflow-x:auto;line-height:normal;font-family:Menlo,'DejaVu Sans Mono',consolas,'Courier New',monospace\">NLB_PTPY1.10_THU_OFF\n",
              "</pre>\n"
            ],
            "text/plain": [
              "NLB_PTPY1.10_THU_OFF\n"
            ]
          },
          "metadata": {},
          "output_type": "display_data"
        },
        {
          "data": {
            "text/html": [
              "<pre style=\"white-space:pre;overflow-x:auto;line-height:normal;font-family:Menlo,'DejaVu Sans Mono',consolas,'Courier New',monospace\">NLB_VP41_SUN_ONL\n",
              "</pre>\n"
            ],
            "text/plain": [
              "NLB_VP41_SUN_ONL\n"
            ]
          },
          "metadata": {},
          "output_type": "display_data"
        },
        {
          "data": {
            "text/html": [
              "<pre style=\"white-space:pre;overflow-x:auto;line-height:normal;font-family:Menlo,'DejaVu Sans Mono',consolas,'Courier New',monospace\">NLB_GD56_SUN_OFF\n",
              "</pre>\n"
            ],
            "text/plain": [
              "NLB_GD56_SUN_OFF\n"
            ]
          },
          "metadata": {},
          "output_type": "display_data"
        },
        {
          "data": {
            "text/html": [
              "<pre style=\"white-space:pre;overflow-x:auto;line-height:normal;font-family:Menlo,'DejaVu Sans Mono',consolas,'Courier New',monospace\">NLB_CK36_SUN_OFF\n",
              "</pre>\n"
            ],
            "text/plain": [
              "NLB_CK36_SUN_OFF\n"
            ]
          },
          "metadata": {},
          "output_type": "display_data"
        },
        {
          "data": {
            "text/html": [
              "<pre style=\"white-space:pre;overflow-x:auto;line-height:normal;font-family:Menlo,'DejaVu Sans Mono',consolas,'Courier New',monospace\">NLB_PTSY1.54_SAT_OFF\n",
              "</pre>\n"
            ],
            "text/plain": [
              "NLB_PTSY1.54_SAT_OFF\n"
            ]
          },
          "metadata": {},
          "output_type": "display_data"
        },
        {
          "data": {
            "text/html": [
              "<pre style=\"white-space:pre;overflow-x:auto;line-height:normal;font-family:Menlo,'DejaVu Sans Mono',consolas,'Courier New',monospace\">NLB_GD55_WED_OFF\n",
              "</pre>\n"
            ],
            "text/plain": [
              "NLB_GD55_WED_OFF\n"
            ]
          },
          "metadata": {},
          "output_type": "display_data"
        },
        {
          "data": {
            "text/html": [
              "<pre style=\"white-space:pre;overflow-x:auto;line-height:normal;font-family:Menlo,'DejaVu Sans Mono',consolas,'Courier New',monospace\">NLB_VP40_THU_OFF\n",
              "</pre>\n"
            ],
            "text/plain": [
              "NLB_VP40_THU_OFF\n"
            ]
          },
          "metadata": {},
          "output_type": "display_data"
        },
        {
          "data": {
            "text/html": [
              "<pre style=\"white-space:pre;overflow-x:auto;line-height:normal;font-family:Menlo,'DejaVu Sans Mono',consolas,'Courier New',monospace\">NLB_VP39_MON_OFF\n",
              "</pre>\n"
            ],
            "text/plain": [
              "NLB_VP39_MON_OFF\n"
            ]
          },
          "metadata": {},
          "output_type": "display_data"
        },
        {
          "data": {
            "text/html": [
              "<pre style=\"white-space:pre;overflow-x:auto;line-height:normal;font-family:Menlo,'DejaVu Sans Mono',consolas,'Courier New',monospace\">NLB_UGD3_SUN_OFF\n",
              "</pre>\n"
            ],
            "text/plain": [
              "NLB_UGD3_SUN_OFF\n"
            ]
          },
          "metadata": {},
          "output_type": "display_data"
        },
        {
          "data": {
            "text/html": [
              "<pre style=\"white-space:pre;overflow-x:auto;line-height:normal;font-family:Menlo,'DejaVu Sans Mono',consolas,'Courier New',monospace\">NLB_GD54_SUN_OFF\n",
              "</pre>\n"
            ],
            "text/plain": [
              "NLB_GD54_SUN_OFF\n"
            ]
          },
          "metadata": {},
          "output_type": "display_data"
        },
        {
          "data": {
            "text/html": [
              "<pre style=\"white-space:pre;overflow-x:auto;line-height:normal;font-family:Menlo,'DejaVu Sans Mono',consolas,'Courier New',monospace\">NLB_WDY1.11_SUN_OFF\n",
              "</pre>\n"
            ],
            "text/plain": [
              "NLB_WDY1.11_SUN_OFF\n"
            ]
          },
          "metadata": {},
          "output_type": "display_data"
        },
        {
          "data": {
            "text/html": [
              "<pre style=\"white-space:pre;overflow-x:auto;line-height:normal;font-family:Menlo,'DejaVu Sans Mono',consolas,'Courier New',monospace\">NLB_GD53_SUN_ONL\n",
              "</pre>\n"
            ],
            "text/plain": [
              "NLB_GD53_SUN_ONL\n"
            ]
          },
          "metadata": {},
          "output_type": "display_data"
        },
        {
          "data": {
            "text/html": [
              "<pre style=\"white-space:pre;overflow-x:auto;line-height:normal;font-family:Menlo,'DejaVu Sans Mono',consolas,'Courier New',monospace\">NLB_DL10_SAT_OFF\n",
              "</pre>\n"
            ],
            "text/plain": [
              "NLB_DL10_SAT_OFF\n"
            ]
          },
          "metadata": {},
          "output_type": "display_data"
        },
        {
          "data": {
            "text/html": [
              "<pre style=\"white-space:pre;overflow-x:auto;line-height:normal;font-family:Menlo,'DejaVu Sans Mono',consolas,'Courier New',monospace\">NLB_VP38_SAT_OFF\n",
              "</pre>\n"
            ],
            "text/plain": [
              "NLB_VP38_SAT_OFF\n"
            ]
          },
          "metadata": {},
          "output_type": "display_data"
        },
        {
          "data": {
            "text/html": [
              "<pre style=\"white-space:pre;overflow-x:auto;line-height:normal;font-family:Menlo,'DejaVu Sans Mono',consolas,'Courier New',monospace\">NLB_GD52_SAT_OFF\n",
              "</pre>\n"
            ],
            "text/plain": [
              "NLB_GD52_SAT_OFF\n"
            ]
          },
          "metadata": {},
          "output_type": "display_data"
        },
        {
          "data": {
            "text/html": [
              "<pre style=\"white-space:pre;overflow-x:auto;line-height:normal;font-family:Menlo,'DejaVu Sans Mono',consolas,'Courier New',monospace\">NLB_PTSY1.52_MON_OFF\n",
              "</pre>\n"
            ],
            "text/plain": [
              "NLB_PTSY1.52_MON_OFF\n"
            ]
          },
          "metadata": {},
          "output_type": "display_data"
        },
        {
          "data": {
            "text/html": [
              "<pre style=\"white-space:pre;overflow-x:auto;line-height:normal;font-family:Menlo,'DejaVu Sans Mono',consolas,'Courier New',monospace\">NLB_VP37_SAT_OFF\n",
              "</pre>\n"
            ],
            "text/plain": [
              "NLB_VP37_SAT_OFF\n"
            ]
          },
          "metadata": {},
          "output_type": "display_data"
        },
        {
          "data": {
            "text/html": [
              "<pre style=\"white-space:pre;overflow-x:auto;line-height:normal;font-family:Menlo,'DejaVu Sans Mono',consolas,'Courier New',monospace\">NLB_PTSY2.21_THU_ONL\n",
              "</pre>\n"
            ],
            "text/plain": [
              "NLB_PTSY2.21_THU_ONL\n"
            ]
          },
          "metadata": {},
          "output_type": "display_data"
        },
        {
          "data": {
            "text/html": [
              "<pre style=\"white-space:pre;overflow-x:auto;line-height:normal;font-family:Menlo,'DejaVu Sans Mono',consolas,'Courier New',monospace\">NLB_PTPY1.9_SUN_ONL\n",
              "</pre>\n"
            ],
            "text/plain": [
              "NLB_PTPY1.9_SUN_ONL\n"
            ]
          },
          "metadata": {},
          "output_type": "display_data"
        },
        {
          "data": {
            "text/html": [
              "<pre style=\"white-space:pre;overflow-x:auto;line-height:normal;font-family:Menlo,'DejaVu Sans Mono',consolas,'Courier New',monospace\"> NLB_PTSY2.20_SAT_OFF\n",
              "</pre>\n"
            ],
            "text/plain": [
              " NLB_PTSY2.20_SAT_OFF\n"
            ]
          },
          "metadata": {},
          "output_type": "display_data"
        },
        {
          "data": {
            "text/html": [
              "<pre style=\"white-space:pre;overflow-x:auto;line-height:normal;font-family:Menlo,'DejaVu Sans Mono',consolas,'Courier New',monospace\">NLB_CK34_SUN_OFF\n",
              "</pre>\n"
            ],
            "text/plain": [
              "NLB_CK34_SUN_OFF\n"
            ]
          },
          "metadata": {},
          "output_type": "display_data"
        },
        {
          "data": {
            "text/html": [
              "<pre style=\"white-space:pre;overflow-x:auto;line-height:normal;font-family:Menlo,'DejaVu Sans Mono',consolas,'Courier New',monospace\">NLB_PTSY2.19_TUE_OFF\n",
              "</pre>\n"
            ],
            "text/plain": [
              "NLB_PTSY2.19_TUE_OFF\n"
            ]
          },
          "metadata": {},
          "output_type": "display_data"
        },
        {
          "data": {
            "text/html": [
              "<pre style=\"white-space:pre;overflow-x:auto;line-height:normal;font-family:Menlo,'DejaVu Sans Mono',consolas,'Courier New',monospace\">NLB_VP36_SUN_OFF\n",
              "</pre>\n"
            ],
            "text/plain": [
              "NLB_VP36_SUN_OFF\n"
            ]
          },
          "metadata": {},
          "output_type": "display_data"
        },
        {
          "data": {
            "text/html": [
              "<pre style=\"white-space:pre;overflow-x:auto;line-height:normal;font-family:Menlo,'DejaVu Sans Mono',consolas,'Courier New',monospace\">NLB_CK33_FRI_ONL\n",
              "</pre>\n"
            ],
            "text/plain": [
              "NLB_CK33_FRI_ONL\n"
            ]
          },
          "metadata": {},
          "output_type": "display_data"
        },
        {
          "data": {
            "text/html": [
              "<pre style=\"white-space:pre;overflow-x:auto;line-height:normal;font-family:Menlo,'DejaVu Sans Mono',consolas,'Courier New',monospace\">NLB_VP35_MON_OFF\n",
              "</pre>\n"
            ],
            "text/plain": [
              "NLB_VP35_MON_OFF\n"
            ]
          },
          "metadata": {},
          "output_type": "display_data"
        },
        {
          "data": {
            "text/html": [
              "<pre style=\"white-space:pre;overflow-x:auto;line-height:normal;font-family:Menlo,'DejaVu Sans Mono',consolas,'Courier New',monospace\">NLB_VP34_TUE_OFF\n",
              "</pre>\n"
            ],
            "text/plain": [
              "NLB_VP34_TUE_OFF\n"
            ]
          },
          "metadata": {},
          "output_type": "display_data"
        },
        {
          "data": {
            "text/html": [
              "<pre style=\"white-space:pre;overflow-x:auto;line-height:normal;font-family:Menlo,'DejaVu Sans Mono',consolas,'Courier New',monospace\">NLB_WDY1.10_WED_OFF\n",
              "</pre>\n"
            ],
            "text/plain": [
              "NLB_WDY1.10_WED_OFF\n"
            ]
          },
          "metadata": {},
          "output_type": "display_data"
        },
        {
          "data": {
            "text/html": [
              "<pre style=\"white-space:pre;overflow-x:auto;line-height:normal;font-family:Menlo,'DejaVu Sans Mono',consolas,'Courier New',monospace\">NLB_GD51_WED_ONL\n",
              "</pre>\n"
            ],
            "text/plain": [
              "NLB_GD51_WED_ONL\n"
            ]
          },
          "metadata": {},
          "output_type": "display_data"
        },
        {
          "data": {
            "text/html": [
              "<pre style=\"white-space:pre;overflow-x:auto;line-height:normal;font-family:Menlo,'DejaVu Sans Mono',consolas,'Courier New',monospace\">NLB_GD50_THU_ONL\n",
              "</pre>\n"
            ],
            "text/plain": [
              "NLB_GD50_THU_ONL\n"
            ]
          },
          "metadata": {},
          "output_type": "display_data"
        },
        {
          "data": {
            "text/html": [
              "<pre style=\"white-space:pre;overflow-x:auto;line-height:normal;font-family:Menlo,'DejaVu Sans Mono',consolas,'Courier New',monospace\">NLB_GD49_THU_OFF\n",
              "</pre>\n"
            ],
            "text/plain": [
              "NLB_GD49_THU_OFF\n"
            ]
          },
          "metadata": {},
          "output_type": "display_data"
        },
        {
          "data": {
            "text/html": [
              "<pre style=\"white-space:pre;overflow-x:auto;line-height:normal;font-family:Menlo,'DejaVu Sans Mono',consolas,'Courier New',monospace\">NLB_PTSY1.51_SAT_ONL\n",
              "</pre>\n"
            ],
            "text/plain": [
              "NLB_PTSY1.51_SAT_ONL\n"
            ]
          },
          "metadata": {},
          "output_type": "display_data"
        },
        {
          "data": {
            "text/html": [
              "<pre style=\"white-space:pre;overflow-x:auto;line-height:normal;font-family:Menlo,'DejaVu Sans Mono',consolas,'Courier New',monospace\"> NLB_PTSY2.18_MON_OFF\n",
              "</pre>\n"
            ],
            "text/plain": [
              " NLB_PTSY2.18_MON_OFF\n"
            ]
          },
          "metadata": {},
          "output_type": "display_data"
        },
        {
          "data": {
            "text/html": [
              "<pre style=\"white-space:pre;overflow-x:auto;line-height:normal;font-family:Menlo,'DejaVu Sans Mono',consolas,'Courier New',monospace\">NLB_PTPY1.8_FRI_OFF\n",
              "</pre>\n"
            ],
            "text/plain": [
              "NLB_PTPY1.8_FRI_OFF\n"
            ]
          },
          "metadata": {},
          "output_type": "display_data"
        },
        {
          "data": {
            "text/html": [
              "<pre style=\"white-space:pre;overflow-x:auto;line-height:normal;font-family:Menlo,'DejaVu Sans Mono',consolas,'Courier New',monospace\">NLB_PTSY1.50_THU_OFF\n",
              "</pre>\n"
            ],
            "text/plain": [
              "NLB_PTSY1.50_THU_OFF\n"
            ]
          },
          "metadata": {},
          "output_type": "display_data"
        },
        {
          "data": {
            "text/html": [
              "<pre style=\"white-space:pre;overflow-x:auto;line-height:normal;font-family:Menlo,'DejaVu Sans Mono',consolas,'Courier New',monospace\">NLB_PTSY1.49_SAT_OFF\n",
              "</pre>\n"
            ],
            "text/plain": [
              "NLB_PTSY1.49_SAT_OFF\n"
            ]
          },
          "metadata": {},
          "output_type": "display_data"
        },
        {
          "data": {
            "text/html": [
              "<pre style=\"white-space:pre;overflow-x:auto;line-height:normal;font-family:Menlo,'DejaVu Sans Mono',consolas,'Courier New',monospace\">NLB_CK32_SAT_OFF\n",
              "</pre>\n"
            ],
            "text/plain": [
              "NLB_CK32_SAT_OFF\n"
            ]
          },
          "metadata": {},
          "output_type": "display_data"
        },
        {
          "data": {
            "text/html": [
              "<pre style=\"white-space:pre;overflow-x:auto;line-height:normal;font-family:Menlo,'DejaVu Sans Mono',consolas,'Courier New',monospace\">NLB_PTSY2.17_FRI_ONL\n",
              "</pre>\n"
            ],
            "text/plain": [
              "NLB_PTSY2.17_FRI_ONL\n"
            ]
          },
          "metadata": {},
          "output_type": "display_data"
        },
        {
          "data": {
            "text/html": [
              "<pre style=\"white-space:pre;overflow-x:auto;line-height:normal;font-family:Menlo,'DejaVu Sans Mono',consolas,'Courier New',monospace\">NLB_GD48_FRI_ONL\n",
              "</pre>\n"
            ],
            "text/plain": [
              "NLB_GD48_FRI_ONL\n"
            ]
          },
          "metadata": {},
          "output_type": "display_data"
        },
        {
          "data": {
            "text/html": [
              "<pre style=\"white-space:pre;overflow-x:auto;line-height:normal;font-family:Menlo,'DejaVu Sans Mono',consolas,'Courier New',monospace\">NLB_PTSY1.48_THU_ONL\n",
              "</pre>\n"
            ],
            "text/plain": [
              "NLB_PTSY1.48_THU_ONL\n"
            ]
          },
          "metadata": {},
          "output_type": "display_data"
        },
        {
          "data": {
            "text/html": [
              "<pre style=\"white-space:pre;overflow-x:auto;line-height:normal;font-family:Menlo,'DejaVu Sans Mono',consolas,'Courier New',monospace\">NLB_CK31_SUN_ONL\n",
              "</pre>\n"
            ],
            "text/plain": [
              "NLB_CK31_SUN_ONL\n"
            ]
          },
          "metadata": {},
          "output_type": "display_data"
        },
        {
          "data": {
            "text/html": [
              "<pre style=\"white-space:pre;overflow-x:auto;line-height:normal;font-family:Menlo,'DejaVu Sans Mono',consolas,'Courier New',monospace\">NLB_GD47_SAT_ONL\n",
              "</pre>\n"
            ],
            "text/plain": [
              "NLB_GD47_SAT_ONL\n"
            ]
          },
          "metadata": {},
          "output_type": "display_data"
        },
        {
          "data": {
            "text/html": [
              "<pre style=\"white-space:pre;overflow-x:auto;line-height:normal;font-family:Menlo,'DejaVu Sans Mono',consolas,'Courier New',monospace\">NLB_DL9_SAT_OFF\n",
              "</pre>\n"
            ],
            "text/plain": [
              "NLB_DL9_SAT_OFF\n"
            ]
          },
          "metadata": {},
          "output_type": "display_data"
        },
        {
          "data": {
            "text/html": [
              "<pre style=\"white-space:pre;overflow-x:auto;line-height:normal;font-family:Menlo,'DejaVu Sans Mono',consolas,'Courier New',monospace\">NLB_PTPY1.7_SAT_OFF\n",
              "</pre>\n"
            ],
            "text/plain": [
              "NLB_PTPY1.7_SAT_OFF\n"
            ]
          },
          "metadata": {},
          "output_type": "display_data"
        },
        {
          "data": {
            "text/html": [
              "<pre style=\"white-space:pre;overflow-x:auto;line-height:normal;font-family:Menlo,'DejaVu Sans Mono',consolas,'Courier New',monospace\">NLB_GD46_SAT_OFF\n",
              "</pre>\n"
            ],
            "text/plain": [
              "NLB_GD46_SAT_OFF\n"
            ]
          },
          "metadata": {},
          "output_type": "display_data"
        },
        {
          "data": {
            "text/html": [
              "<pre style=\"white-space:pre;overflow-x:auto;line-height:normal;font-family:Menlo,'DejaVu Sans Mono',consolas,'Courier New',monospace\">NLB_UGD2_SAT_OFF\n",
              "</pre>\n"
            ],
            "text/plain": [
              "NLB_UGD2_SAT_OFF\n"
            ]
          },
          "metadata": {},
          "output_type": "display_data"
        },
        {
          "data": {
            "text/html": [
              "<pre style=\"white-space:pre;overflow-x:auto;line-height:normal;font-family:Menlo,'DejaVu Sans Mono',consolas,'Courier New',monospace\">NLB_VP33_SAT_OFF\n",
              "</pre>\n"
            ],
            "text/plain": [
              "NLB_VP33_SAT_OFF\n"
            ]
          },
          "metadata": {},
          "output_type": "display_data"
        },
        {
          "data": {
            "text/html": [
              "<pre style=\"white-space:pre;overflow-x:auto;line-height:normal;font-family:Menlo,'DejaVu Sans Mono',consolas,'Courier New',monospace\">NLB_WDY1.9_SAT_OFF\n",
              "</pre>\n"
            ],
            "text/plain": [
              "NLB_WDY1.9_SAT_OFF\n"
            ]
          },
          "metadata": {},
          "output_type": "display_data"
        },
        {
          "data": {
            "text/html": [
              "<pre style=\"white-space:pre;overflow-x:auto;line-height:normal;font-family:Menlo,'DejaVu Sans Mono',consolas,'Courier New',monospace\">NLB_CK30_TUE_OFF\n",
              "</pre>\n"
            ],
            "text/plain": [
              "NLB_CK30_TUE_OFF\n"
            ]
          },
          "metadata": {},
          "output_type": "display_data"
        },
        {
          "data": {
            "text/html": [
              "<pre style=\"white-space:pre;overflow-x:auto;line-height:normal;font-family:Menlo,'DejaVu Sans Mono',consolas,'Courier New',monospace\">NLB_GD45_TUE_OFF\n",
              "</pre>\n"
            ],
            "text/plain": [
              "NLB_GD45_TUE_OFF\n"
            ]
          },
          "metadata": {},
          "output_type": "display_data"
        },
        {
          "data": {
            "text/html": [
              "<pre style=\"white-space:pre;overflow-x:auto;line-height:normal;font-family:Menlo,'DejaVu Sans Mono',consolas,'Courier New',monospace\">NLB_VP32_MON_ONL\n",
              "</pre>\n"
            ],
            "text/plain": [
              "NLB_VP32_MON_ONL\n"
            ]
          },
          "metadata": {},
          "output_type": "display_data"
        },
        {
          "data": {
            "text/html": [
              "<pre style=\"white-space:pre;overflow-x:auto;line-height:normal;font-family:Menlo,'DejaVu Sans Mono',consolas,'Courier New',monospace\">NLB_GD44_WED_OFF\n",
              "</pre>\n"
            ],
            "text/plain": [
              "NLB_GD44_WED_OFF\n"
            ]
          },
          "metadata": {},
          "output_type": "display_data"
        },
        {
          "data": {
            "text/html": [
              "<pre style=\"white-space:pre;overflow-x:auto;line-height:normal;font-family:Menlo,'DejaVu Sans Mono',consolas,'Courier New',monospace\">NLB_PTSY1.46_SAT_OFF\n",
              "</pre>\n"
            ],
            "text/plain": [
              "NLB_PTSY1.46_SAT_OFF\n"
            ]
          },
          "metadata": {},
          "output_type": "display_data"
        },
        {
          "data": {
            "text/html": [
              "<pre style=\"white-space:pre;overflow-x:auto;line-height:normal;font-family:Menlo,'DejaVu Sans Mono',consolas,'Courier New',monospace\">NLB_VP30_SUN_ONL\n",
              "</pre>\n"
            ],
            "text/plain": [
              "NLB_VP30_SUN_ONL\n"
            ]
          },
          "metadata": {},
          "output_type": "display_data"
        },
        {
          "data": {
            "text/html": [
              "<pre style=\"white-space:pre;overflow-x:auto;line-height:normal;font-family:Menlo,'DejaVu Sans Mono',consolas,'Courier New',monospace\">NLB_CK29_SUN_ONL\n",
              "</pre>\n"
            ],
            "text/plain": [
              "NLB_CK29_SUN_ONL\n"
            ]
          },
          "metadata": {},
          "output_type": "display_data"
        },
        {
          "data": {
            "text/html": [
              "<pre style=\"white-space:pre;overflow-x:auto;line-height:normal;font-family:Menlo,'DejaVu Sans Mono',consolas,'Courier New',monospace\">NLB_VP29_SAT_ONL\n",
              "</pre>\n"
            ],
            "text/plain": [
              "NLB_VP29_SAT_ONL\n"
            ]
          },
          "metadata": {},
          "output_type": "display_data"
        },
        {
          "data": {
            "text/html": [
              "<pre style=\"white-space:pre;overflow-x:auto;line-height:normal;font-family:Menlo,'DejaVu Sans Mono',consolas,'Courier New',monospace\">NLB_GD42_SUN_OFF\n",
              "</pre>\n"
            ],
            "text/plain": [
              "NLB_GD42_SUN_OFF\n"
            ]
          },
          "metadata": {},
          "output_type": "display_data"
        },
        {
          "data": {
            "text/html": [
              "<pre style=\"white-space:pre;overflow-x:auto;line-height:normal;font-family:Menlo,'DejaVu Sans Mono',consolas,'Courier New',monospace\">NLB_CK28_SUN_OFF\n",
              "</pre>\n"
            ],
            "text/plain": [
              "NLB_CK28_SUN_OFF\n"
            ]
          },
          "metadata": {},
          "output_type": "display_data"
        },
        {
          "data": {
            "text/html": [
              "<pre style=\"white-space:pre;overflow-x:auto;line-height:normal;font-family:Menlo,'DejaVu Sans Mono',consolas,'Courier New',monospace\">NLB_DL8_WED_ONL\n",
              "</pre>\n"
            ],
            "text/plain": [
              "NLB_DL8_WED_ONL\n"
            ]
          },
          "metadata": {},
          "output_type": "display_data"
        },
        {
          "data": {
            "text/html": [
              "<pre style=\"white-space:pre;overflow-x:auto;line-height:normal;font-family:Menlo,'DejaVu Sans Mono',consolas,'Courier New',monospace\">NLB_PTSY2.15_SAT_ONL\n",
              "</pre>\n"
            ],
            "text/plain": [
              "NLB_PTSY2.15_SAT_ONL\n"
            ]
          },
          "metadata": {},
          "output_type": "display_data"
        },
        {
          "data": {
            "text/html": [
              "<pre style=\"white-space:pre;overflow-x:auto;line-height:normal;font-family:Menlo,'DejaVu Sans Mono',consolas,'Courier New',monospace\"></pre>\n"
            ],
            "text/plain": []
          },
          "metadata": {},
          "output_type": "display_data"
        },
        {
          "data": {
            "text/html": [
              "<pre style=\"white-space:pre;overflow-x:auto;line-height:normal;font-family:Menlo,'DejaVu Sans Mono',consolas,'Courier New',monospace\">\n",
              "</pre>\n"
            ],
            "text/plain": [
              "\n"
            ]
          },
          "metadata": {},
          "output_type": "display_data"
        },
        {
          "name": "stdout",
          "output_type": "stream",
          "text": [
            "NLB has 124 groups  \n"
          ]
        },
        {
          "data": {
            "application/vnd.jupyter.widget-view+json": {
              "model_id": "cfdeea1f99db469eb7bc6d8a8804c502",
              "version_major": 2,
              "version_minor": 0
            },
            "text/plain": [
              "Output()"
            ]
          },
          "metadata": {},
          "output_type": "display_data"
        },
        {
          "data": {
            "text/html": [
              "<pre style=\"white-space:pre;overflow-x:auto;line-height:normal;font-family:Menlo,'DejaVu Sans Mono',consolas,'Courier New',monospace\">Non\n",
              "</pre>\n"
            ],
            "text/plain": [
              "Non\n"
            ]
          },
          "metadata": {},
          "output_type": "display_data"
        },
        {
          "name": "stdout",
          "output_type": "stream",
          "text": [
            "124\n"
          ]
        },
        {
          "data": {
            "text/html": [
              "<pre style=\"white-space:pre;overflow-x:auto;line-height:normal;font-family:Menlo,'DejaVu Sans Mono',consolas,'Courier New',monospace\">Non invalid literal for int() with base 10: 'S'\n",
              "</pre>\n"
            ],
            "text/plain": [
              "Non invalid literal for int() with base 10: 'S'\n"
            ]
          },
          "metadata": {},
          "output_type": "display_data"
        },
        {
          "data": {
            "text/html": [
              "<pre style=\"white-space:pre;overflow-x:auto;line-height:normal;font-family:Menlo,'DejaVu Sans Mono',consolas,'Courier New',monospace\">NVH_PTPY1.27_SUN_OFF (PRIVATE)\n",
              "</pre>\n"
            ],
            "text/plain": [
              "NVH_PTPY1.27_SUN_OFF (PRIVATE)\n"
            ]
          },
          "metadata": {},
          "output_type": "display_data"
        },
        {
          "data": {
            "text/html": [
              "<pre style=\"white-space:pre;overflow-x:auto;line-height:normal;font-family:Menlo,'DejaVu Sans Mono',consolas,'Courier New',monospace\">NVH_VP52_WED_OFF\n",
              "</pre>\n"
            ],
            "text/plain": [
              "NVH_VP52_WED_OFF\n"
            ]
          },
          "metadata": {},
          "output_type": "display_data"
        },
        {
          "data": {
            "text/html": [
              "<pre style=\"white-space:pre;overflow-x:auto;line-height:normal;font-family:Menlo,'DejaVu Sans Mono',consolas,'Courier New',monospace\">NVH_CK40_SAT_OFF\n",
              "</pre>\n"
            ],
            "text/plain": [
              "NVH_CK40_SAT_OFF\n"
            ]
          },
          "metadata": {},
          "output_type": "display_data"
        },
        {
          "data": {
            "text/html": [
              "<pre style=\"white-space:pre;overflow-x:auto;line-height:normal;font-family:Menlo,'DejaVu Sans Mono',consolas,'Courier New',monospace\">NVH_GD62_TUE_OFF\n",
              "</pre>\n"
            ],
            "text/plain": [
              "NVH_GD62_TUE_OFF\n"
            ]
          },
          "metadata": {},
          "output_type": "display_data"
        },
        {
          "data": {
            "text/html": [
              "<pre style=\"white-space:pre;overflow-x:auto;line-height:normal;font-family:Menlo,'DejaVu Sans Mono',consolas,'Courier New',monospace\">NVH_PTPY1.26_THU/SUN_OFF (PRIVATE)\n",
              "</pre>\n"
            ],
            "text/plain": [
              "NVH_PTPY1.26_THU/SUN_OFF (PRIVATE)\n"
            ]
          },
          "metadata": {},
          "output_type": "display_data"
        },
        {
          "data": {
            "text/html": [
              "<pre style=\"white-space:pre;overflow-x:auto;line-height:normal;font-family:Menlo,'DejaVu Sans Mono',consolas,'Courier New',monospace\">NVH_CK39_SAT_ONL\n",
              "</pre>\n"
            ],
            "text/plain": [
              "NVH_CK39_SAT_ONL\n"
            ]
          },
          "metadata": {},
          "output_type": "display_data"
        },
        {
          "data": {
            "text/html": [
              "<pre style=\"white-space:pre;overflow-x:auto;line-height:normal;font-family:Menlo,'DejaVu Sans Mono',consolas,'Courier New',monospace\">NVH_GD61_SUN_OFF\n",
              "</pre>\n"
            ],
            "text/plain": [
              "NVH_GD61_SUN_OFF\n"
            ]
          },
          "metadata": {},
          "output_type": "display_data"
        },
        {
          "data": {
            "text/html": [
              "<pre style=\"white-space:pre;overflow-x:auto;line-height:normal;font-family:Menlo,'DejaVu Sans Mono',consolas,'Courier New',monospace\">NVH_PTPY2.15_SAT_OFF\n",
              "</pre>\n"
            ],
            "text/plain": [
              "NVH_PTPY2.15_SAT_OFF\n"
            ]
          },
          "metadata": {},
          "output_type": "display_data"
        },
        {
          "data": {
            "text/html": [
              "<pre style=\"white-space:pre;overflow-x:auto;line-height:normal;font-family:Menlo,'DejaVu Sans Mono',consolas,'Courier New',monospace\">NVH_PTSY2.40_THU_ONL\n",
              "</pre>\n"
            ],
            "text/plain": [
              "NVH_PTSY2.40_THU_ONL\n"
            ]
          },
          "metadata": {},
          "output_type": "display_data"
        },
        {
          "data": {
            "text/html": [
              "<pre style=\"white-space:pre;overflow-x:auto;line-height:normal;font-family:Menlo,'DejaVu Sans Mono',consolas,'Courier New',monospace\">NVH_VP49_SAT_OFF\n",
              "</pre>\n"
            ],
            "text/plain": [
              "NVH_VP49_SAT_OFF\n"
            ]
          },
          "metadata": {},
          "output_type": "display_data"
        },
        {
          "data": {
            "text/html": [
              "<pre style=\"white-space:pre;overflow-x:auto;line-height:normal;font-family:Menlo,'DejaVu Sans Mono',consolas,'Courier New',monospace\">NVH_VP48_SAT_OFF\n",
              "</pre>\n"
            ],
            "text/plain": [
              "NVH_VP48_SAT_OFF\n"
            ]
          },
          "metadata": {},
          "output_type": "display_data"
        },
        {
          "data": {
            "text/html": [
              "<pre style=\"white-space:pre;overflow-x:auto;line-height:normal;font-family:Menlo,'DejaVu Sans Mono',consolas,'Courier New',monospace\">NVH_PTSY1.59_SUN_OFF\n",
              "</pre>\n"
            ],
            "text/plain": [
              "NVH_PTSY1.59_SUN_OFF\n"
            ]
          },
          "metadata": {},
          "output_type": "display_data"
        },
        {
          "data": {
            "text/html": [
              "<pre style=\"white-space:pre;overflow-x:auto;line-height:normal;font-family:Menlo,'DejaVu Sans Mono',consolas,'Courier New',monospace\">NVH_GD60_SUN_OFF\n",
              "</pre>\n"
            ],
            "text/plain": [
              "NVH_GD60_SUN_OFF\n"
            ]
          },
          "metadata": {},
          "output_type": "display_data"
        },
        {
          "data": {
            "text/html": [
              "<pre style=\"white-space:pre;overflow-x:auto;line-height:normal;font-family:Menlo,'DejaVu Sans Mono',consolas,'Courier New',monospace\">NVH_GD59_WED_OFF\n",
              "</pre>\n"
            ],
            "text/plain": [
              "NVH_GD59_WED_OFF\n"
            ]
          },
          "metadata": {},
          "output_type": "display_data"
        },
        {
          "data": {
            "text/html": [
              "<pre style=\"white-space:pre;overflow-x:auto;line-height:normal;font-family:Menlo,'DejaVu Sans Mono',consolas,'Courier New',monospace\">NVH_PTPY1.24_MON_OFF (PRIVATE)\n",
              "</pre>\n"
            ],
            "text/plain": [
              "NVH_PTPY1.24_MON_OFF (PRIVATE)\n"
            ]
          },
          "metadata": {},
          "output_type": "display_data"
        },
        {
          "data": {
            "text/html": [
              "<pre style=\"white-space:pre;overflow-x:auto;line-height:normal;font-family:Menlo,'DejaVu Sans Mono',consolas,'Courier New',monospace\">NVH_GD58_SAT_OFF\n",
              "</pre>\n"
            ],
            "text/plain": [
              "NVH_GD58_SAT_OFF\n"
            ]
          },
          "metadata": {},
          "output_type": "display_data"
        },
        {
          "data": {
            "text/html": [
              "<pre style=\"white-space:pre;overflow-x:auto;line-height:normal;font-family:Menlo,'DejaVu Sans Mono',consolas,'Courier New',monospace\">NVH_PTSY1.58_SAT_OFF\n",
              "</pre>\n"
            ],
            "text/plain": [
              "NVH_PTSY1.58_SAT_OFF\n"
            ]
          },
          "metadata": {},
          "output_type": "display_data"
        },
        {
          "data": {
            "text/html": [
              "<pre style=\"white-space:pre;overflow-x:auto;line-height:normal;font-family:Menlo,'DejaVu Sans Mono',consolas,'Courier New',monospace\">NVH_PTSY2.39_MON_OFF\n",
              "</pre>\n"
            ],
            "text/plain": [
              "NVH_PTSY2.39_MON_OFF\n"
            ]
          },
          "metadata": {},
          "output_type": "display_data"
        },
        {
          "data": {
            "text/html": [
              "<pre style=\"white-space:pre;overflow-x:auto;line-height:normal;font-family:Menlo,'DejaVu Sans Mono',consolas,'Courier New',monospace\">NVH_WDY2.5_SAT_OFF\n",
              "</pre>\n"
            ],
            "text/plain": [
              "NVH_WDY2.5_SAT_OFF\n"
            ]
          },
          "metadata": {},
          "output_type": "display_data"
        },
        {
          "data": {
            "text/html": [
              "<pre style=\"white-space:pre;overflow-x:auto;line-height:normal;font-family:Menlo,'DejaVu Sans Mono',consolas,'Courier New',monospace\">NVH_GD57_SAT_OFF\n",
              "</pre>\n"
            ],
            "text/plain": [
              "NVH_GD57_SAT_OFF\n"
            ]
          },
          "metadata": {},
          "output_type": "display_data"
        },
        {
          "data": {
            "text/html": [
              "<pre style=\"white-space:pre;overflow-x:auto;line-height:normal;font-family:Menlo,'DejaVu Sans Mono',consolas,'Courier New',monospace\">NVH_PTPY1.23_SAT_OFF\n",
              "</pre>\n"
            ],
            "text/plain": [
              "NVH_PTPY1.23_SAT_OFF\n"
            ]
          },
          "metadata": {},
          "output_type": "display_data"
        },
        {
          "data": {
            "text/html": [
              "<pre style=\"white-space:pre;overflow-x:auto;line-height:normal;font-family:Menlo,'DejaVu Sans Mono',consolas,'Courier New',monospace\">NVH_DL16_THU_OFF\n",
              "</pre>\n"
            ],
            "text/plain": [
              "NVH_DL16_THU_OFF\n"
            ]
          },
          "metadata": {},
          "output_type": "display_data"
        },
        {
          "data": {
            "text/html": [
              "<pre style=\"white-space:pre;overflow-x:auto;line-height:normal;font-family:Menlo,'DejaVu Sans Mono',consolas,'Courier New',monospace\">NVH_PTSY1.57_SUN_OFF\n",
              "</pre>\n"
            ],
            "text/plain": [
              "NVH_PTSY1.57_SUN_OFF\n"
            ]
          },
          "metadata": {},
          "output_type": "display_data"
        },
        {
          "data": {
            "text/html": [
              "<pre style=\"white-space:pre;overflow-x:auto;line-height:normal;font-family:Menlo,'DejaVu Sans Mono',consolas,'Courier New',monospace\">NVH_PTSY1.56_TUE_ONL (PRIVATE)\n",
              "</pre>\n"
            ],
            "text/plain": [
              "NVH_PTSY1.56_TUE_ONL (PRIVATE)\n"
            ]
          },
          "metadata": {},
          "output_type": "display_data"
        },
        {
          "data": {
            "text/html": [
              "<pre style=\"white-space:pre;overflow-x:auto;line-height:normal;font-family:Menlo,'DejaVu Sans Mono',consolas,'Courier New',monospace\">NVH_GD56_THU_ONL\n",
              "</pre>\n"
            ],
            "text/plain": [
              "NVH_GD56_THU_ONL\n"
            ]
          },
          "metadata": {},
          "output_type": "display_data"
        },
        {
          "data": {
            "text/html": [
              "<pre style=\"white-space:pre;overflow-x:auto;line-height:normal;font-family:Menlo,'DejaVu Sans Mono',consolas,'Courier New',monospace\">NVH_CK38_FRI_OFF\n",
              "</pre>\n"
            ],
            "text/plain": [
              "NVH_CK38_FRI_OFF\n"
            ]
          },
          "metadata": {},
          "output_type": "display_data"
        },
        {
          "data": {
            "text/html": [
              "<pre style=\"white-space:pre;overflow-x:auto;line-height:normal;font-family:Menlo,'DejaVu Sans Mono',consolas,'Courier New',monospace\">NVH_CK37_TUE_OFF\n",
              "</pre>\n"
            ],
            "text/plain": [
              "NVH_CK37_TUE_OFF\n"
            ]
          },
          "metadata": {},
          "output_type": "display_data"
        },
        {
          "data": {
            "text/html": [
              "<pre style=\"white-space:pre;overflow-x:auto;line-height:normal;font-family:Menlo,'DejaVu Sans Mono',consolas,'Courier New',monospace\">NVH_VP47_SUN_OFF\n",
              "</pre>\n"
            ],
            "text/plain": [
              "NVH_VP47_SUN_OFF\n"
            ]
          },
          "metadata": {},
          "output_type": "display_data"
        },
        {
          "data": {
            "text/html": [
              "<pre style=\"white-space:pre;overflow-x:auto;line-height:normal;font-family:Menlo,'DejaVu Sans Mono',consolas,'Courier New',monospace\">NVH_CK36_TUE_OFF\n",
              "</pre>\n"
            ],
            "text/plain": [
              "NVH_CK36_TUE_OFF\n"
            ]
          },
          "metadata": {},
          "output_type": "display_data"
        },
        {
          "data": {
            "text/html": [
              "<pre style=\"white-space:pre;overflow-x:auto;line-height:normal;font-family:Menlo,'DejaVu Sans Mono',consolas,'Courier New',monospace\">NVH_PTPY2.14_THU_ONL (PRIVATE)\n",
              "</pre>\n"
            ],
            "text/plain": [
              "NVH_PTPY2.14_THU_ONL (PRIVATE)\n"
            ]
          },
          "metadata": {},
          "output_type": "display_data"
        },
        {
          "data": {
            "text/html": [
              "<pre style=\"white-space:pre;overflow-x:auto;line-height:normal;font-family:Menlo,'DejaVu Sans Mono',consolas,'Courier New',monospace\">NVH_VP46_SAT_OFF\n",
              "</pre>\n"
            ],
            "text/plain": [
              "NVH_VP46_SAT_OFF\n"
            ]
          },
          "metadata": {},
          "output_type": "display_data"
        },
        {
          "data": {
            "text/html": [
              "<pre style=\"white-space:pre;overflow-x:auto;line-height:normal;font-family:Menlo,'DejaVu Sans Mono',consolas,'Courier New',monospace\">NVH_UGD3_SAT_OFF\n",
              "</pre>\n"
            ],
            "text/plain": [
              "NVH_UGD3_SAT_OFF\n"
            ]
          },
          "metadata": {},
          "output_type": "display_data"
        },
        {
          "data": {
            "text/html": [
              "<pre style=\"white-space:pre;overflow-x:auto;line-height:normal;font-family:Menlo,'DejaVu Sans Mono',consolas,'Courier New',monospace\">NVH_GD55_MON/WED_OFF (PRIVATE)\n",
              "</pre>\n"
            ],
            "text/plain": [
              "NVH_GD55_MON/WED_OFF (PRIVATE)\n"
            ]
          },
          "metadata": {},
          "output_type": "display_data"
        },
        {
          "data": {
            "text/html": [
              "<pre style=\"white-space:pre;overflow-x:auto;line-height:normal;font-family:Menlo,'DejaVu Sans Mono',consolas,'Courier New',monospace\">NVH_WDY2.3_MON_OFF\n",
              "</pre>\n"
            ],
            "text/plain": [
              "NVH_WDY2.3_MON_OFF\n"
            ]
          },
          "metadata": {},
          "output_type": "display_data"
        },
        {
          "data": {
            "text/html": [
              "<pre style=\"white-space:pre;overflow-x:auto;line-height:normal;font-family:Menlo,'DejaVu Sans Mono',consolas,'Courier New',monospace\">NVH_GD54_WED_OFF\n",
              "</pre>\n"
            ],
            "text/plain": [
              "NVH_GD54_WED_OFF\n"
            ]
          },
          "metadata": {},
          "output_type": "display_data"
        },
        {
          "data": {
            "text/html": [
              "<pre style=\"white-space:pre;overflow-x:auto;line-height:normal;font-family:Menlo,'DejaVu Sans Mono',consolas,'Courier New',monospace\">NVH_PTPY1.22_MON/THU_ONL (PRIVATE)\n",
              "</pre>\n"
            ],
            "text/plain": [
              "NVH_PTPY1.22_MON/THU_ONL (PRIVATE)\n"
            ]
          },
          "metadata": {},
          "output_type": "display_data"
        },
        {
          "data": {
            "text/html": [
              "<pre style=\"white-space:pre;overflow-x:auto;line-height:normal;font-family:Menlo,'DejaVu Sans Mono',consolas,'Courier New',monospace\">NVH_PTPY2.13_SAT_OFF\n",
              "</pre>\n"
            ],
            "text/plain": [
              "NVH_PTPY2.13_SAT_OFF\n"
            ]
          },
          "metadata": {},
          "output_type": "display_data"
        },
        {
          "data": {
            "text/html": [
              "<pre style=\"white-space:pre;overflow-x:auto;line-height:normal;font-family:Menlo,'DejaVu Sans Mono',consolas,'Courier New',monospace\">NVH_GD53_TUE_OFF\n",
              "</pre>\n"
            ],
            "text/plain": [
              "NVH_GD53_TUE_OFF\n"
            ]
          },
          "metadata": {},
          "output_type": "display_data"
        },
        {
          "data": {
            "text/html": [
              "<pre style=\"white-space:pre;overflow-x:auto;line-height:normal;font-family:Menlo,'DejaVu Sans Mono',consolas,'Courier New',monospace\">NVH_VP44_SUN_OFF\n",
              "</pre>\n"
            ],
            "text/plain": [
              "NVH_VP44_SUN_OFF\n"
            ]
          },
          "metadata": {},
          "output_type": "display_data"
        },
        {
          "data": {
            "text/html": [
              "<pre style=\"white-space:pre;overflow-x:auto;line-height:normal;font-family:Menlo,'DejaVu Sans Mono',consolas,'Courier New',monospace\">NVH_GD52_TUE_OFF\n",
              "</pre>\n"
            ],
            "text/plain": [
              "NVH_GD52_TUE_OFF\n"
            ]
          },
          "metadata": {},
          "output_type": "display_data"
        },
        {
          "data": {
            "text/html": [
              "<pre style=\"white-space:pre;overflow-x:auto;line-height:normal;font-family:Menlo,'DejaVu Sans Mono',consolas,'Courier New',monospace\">NVH_PTPY2.12_FRI_ONL (PRIVATE)\n",
              "</pre>\n"
            ],
            "text/plain": [
              "NVH_PTPY2.12_FRI_ONL (PRIVATE)\n"
            ]
          },
          "metadata": {},
          "output_type": "display_data"
        },
        {
          "data": {
            "text/html": [
              "<pre style=\"white-space:pre;overflow-x:auto;line-height:normal;font-family:Menlo,'DejaVu Sans Mono',consolas,'Courier New',monospace\">NVH_GD51_SAT_OFF\n",
              "</pre>\n"
            ],
            "text/plain": [
              "NVH_GD51_SAT_OFF\n"
            ]
          },
          "metadata": {},
          "output_type": "display_data"
        },
        {
          "data": {
            "text/html": [
              "<pre style=\"white-space:pre;overflow-x:auto;line-height:normal;font-family:Menlo,'DejaVu Sans Mono',consolas,'Courier New',monospace\">PXL_PTSY1.6_SAT_OFF\n",
              "</pre>\n"
            ],
            "text/plain": [
              "PXL_PTSY1.6_SAT_OFF\n"
            ]
          },
          "metadata": {},
          "output_type": "display_data"
        },
        {
          "data": {
            "text/html": [
              "<pre style=\"white-space:pre;overflow-x:auto;line-height:normal;font-family:Menlo,'DejaVu Sans Mono',consolas,'Courier New',monospace\">NVH_PTSY2.37_SUN_ONL\n",
              "</pre>\n"
            ],
            "text/plain": [
              "NVH_PTSY2.37_SUN_ONL\n"
            ]
          },
          "metadata": {},
          "output_type": "display_data"
        },
        {
          "data": {
            "text/html": [
              "<pre style=\"white-space:pre;overflow-x:auto;line-height:normal;font-family:Menlo,'DejaVu Sans Mono',consolas,'Courier New',monospace\">NVH_PTSY2.36_SAT_OFF\n",
              "</pre>\n"
            ],
            "text/plain": [
              "NVH_PTSY2.36_SAT_OFF\n"
            ]
          },
          "metadata": {},
          "output_type": "display_data"
        },
        {
          "data": {
            "text/html": [
              "<pre style=\"white-space:pre;overflow-x:auto;line-height:normal;font-family:Menlo,'DejaVu Sans Mono',consolas,'Courier New',monospace\">NVH_GD50_THU_ONL\n",
              "</pre>\n"
            ],
            "text/plain": [
              "NVH_GD50_THU_ONL\n"
            ]
          },
          "metadata": {},
          "output_type": "display_data"
        },
        {
          "data": {
            "text/html": [
              "<pre style=\"white-space:pre;overflow-x:auto;line-height:normal;font-family:Menlo,'DejaVu Sans Mono',consolas,'Courier New',monospace\">NVH_VP43_SAT_OFF\n",
              "</pre>\n"
            ],
            "text/plain": [
              "NVH_VP43_SAT_OFF\n"
            ]
          },
          "metadata": {},
          "output_type": "display_data"
        },
        {
          "data": {
            "text/html": [
              "<pre style=\"white-space:pre;overflow-x:auto;line-height:normal;font-family:Menlo,'DejaVu Sans Mono',consolas,'Courier New',monospace\">NVH_CK35_SUN_OFF\n",
              "</pre>\n"
            ],
            "text/plain": [
              "NVH_CK35_SUN_OFF\n"
            ]
          },
          "metadata": {},
          "output_type": "display_data"
        },
        {
          "data": {
            "text/html": [
              "<pre style=\"white-space:pre;overflow-x:auto;line-height:normal;font-family:Menlo,'DejaVu Sans Mono',consolas,'Courier New',monospace\">NVH_WDY1.9_SAT_OFF\n",
              "</pre>\n"
            ],
            "text/plain": [
              "NVH_WDY1.9_SAT_OFF\n"
            ]
          },
          "metadata": {},
          "output_type": "display_data"
        },
        {
          "data": {
            "text/html": [
              "<pre style=\"white-space:pre;overflow-x:auto;line-height:normal;font-family:Menlo,'DejaVu Sans Mono',consolas,'Courier New',monospace\">NVH_GD49_SAT_OFF\n",
              "</pre>\n"
            ],
            "text/plain": [
              "NVH_GD49_SAT_OFF\n"
            ]
          },
          "metadata": {},
          "output_type": "display_data"
        },
        {
          "data": {
            "text/html": [
              "<pre style=\"white-space:pre;overflow-x:auto;line-height:normal;font-family:Menlo,'DejaVu Sans Mono',consolas,'Courier New',monospace\">NVH_GD48_MON_ONL\n",
              "</pre>\n"
            ],
            "text/plain": [
              "NVH_GD48_MON_ONL\n"
            ]
          },
          "metadata": {},
          "output_type": "display_data"
        },
        {
          "data": {
            "text/html": [
              "<pre style=\"white-space:pre;overflow-x:auto;line-height:normal;font-family:Menlo,'DejaVu Sans Mono',consolas,'Courier New',monospace\">NVH_DL14_FRI_OFF\n",
              "</pre>\n"
            ],
            "text/plain": [
              "NVH_DL14_FRI_OFF\n"
            ]
          },
          "metadata": {},
          "output_type": "display_data"
        },
        {
          "data": {
            "text/html": [
              "<pre style=\"white-space:pre;overflow-x:auto;line-height:normal;font-family:Menlo,'DejaVu Sans Mono',consolas,'Courier New',monospace\">NVH_PTSY2.35_SAT_ONL\n",
              "</pre>\n"
            ],
            "text/plain": [
              "NVH_PTSY2.35_SAT_ONL\n"
            ]
          },
          "metadata": {},
          "output_type": "display_data"
        },
        {
          "data": {
            "text/html": [
              "<pre style=\"white-space:pre;overflow-x:auto;line-height:normal;font-family:Menlo,'DejaVu Sans Mono',consolas,'Courier New',monospace\">NVH_PTSY1.55_SUN_OFF\n",
              "</pre>\n"
            ],
            "text/plain": [
              "NVH_PTSY1.55_SUN_OFF\n"
            ]
          },
          "metadata": {},
          "output_type": "display_data"
        },
        {
          "data": {
            "text/html": [
              "<pre style=\"white-space:pre;overflow-x:auto;line-height:normal;font-family:Menlo,'DejaVu Sans Mono',consolas,'Courier New',monospace\">NVH_VP42_FRI_OFF\n",
              "</pre>\n"
            ],
            "text/plain": [
              "NVH_VP42_FRI_OFF\n"
            ]
          },
          "metadata": {},
          "output_type": "display_data"
        },
        {
          "data": {
            "text/html": [
              "<pre style=\"white-space:pre;overflow-x:auto;line-height:normal;font-family:Menlo,'DejaVu Sans Mono',consolas,'Courier New',monospace\">NVH_PTPY1.21_SAT_OFF\n",
              "</pre>\n"
            ],
            "text/plain": [
              "NVH_PTPY1.21_SAT_OFF\n"
            ]
          },
          "metadata": {},
          "output_type": "display_data"
        },
        {
          "data": {
            "text/html": [
              "<pre style=\"white-space:pre;overflow-x:auto;line-height:normal;font-family:Menlo,'DejaVu Sans Mono',consolas,'Courier New',monospace\">NVH_PTSY2.34_FRI_OFF\n",
              "</pre>\n"
            ],
            "text/plain": [
              "NVH_PTSY2.34_FRI_OFF\n"
            ]
          },
          "metadata": {},
          "output_type": "display_data"
        },
        {
          "data": {
            "text/html": [
              "<pre style=\"white-space:pre;overflow-x:auto;line-height:normal;font-family:Menlo,'DejaVu Sans Mono',consolas,'Courier New',monospace\">NVH_PTSY1.54_SAT_OFF\n",
              "</pre>\n"
            ],
            "text/plain": [
              "NVH_PTSY1.54_SAT_OFF\n"
            ]
          },
          "metadata": {},
          "output_type": "display_data"
        },
        {
          "data": {
            "text/html": [
              "<pre style=\"white-space:pre;overflow-x:auto;line-height:normal;font-family:Menlo,'DejaVu Sans Mono',consolas,'Courier New',monospace\">NVH_PTSY1.53_TUE_ONL\n",
              "</pre>\n"
            ],
            "text/plain": [
              "NVH_PTSY1.53_TUE_ONL\n"
            ]
          },
          "metadata": {},
          "output_type": "display_data"
        },
        {
          "data": {
            "text/html": [
              "<pre style=\"white-space:pre;overflow-x:auto;line-height:normal;font-family:Menlo,'DejaVu Sans Mono',consolas,'Courier New',monospace\">NVH_DL13_FRI_OFF\n",
              "</pre>\n"
            ],
            "text/plain": [
              "NVH_DL13_FRI_OFF\n"
            ]
          },
          "metadata": {},
          "output_type": "display_data"
        },
        {
          "data": {
            "text/html": [
              "<pre style=\"white-space:pre;overflow-x:auto;line-height:normal;font-family:Menlo,'DejaVu Sans Mono',consolas,'Courier New',monospace\">NVH_WDY1.8_TUE_ONL\n",
              "</pre>\n"
            ],
            "text/plain": [
              "NVH_WDY1.8_TUE_ONL\n"
            ]
          },
          "metadata": {},
          "output_type": "display_data"
        },
        {
          "data": {
            "text/html": [
              "<pre style=\"white-space:pre;overflow-x:auto;line-height:normal;font-family:Menlo,'DejaVu Sans Mono',consolas,'Courier New',monospace\">NVH_PTPY2.11_SAT_ONL\n",
              "</pre>\n"
            ],
            "text/plain": [
              "NVH_PTPY2.11_SAT_ONL\n"
            ]
          },
          "metadata": {},
          "output_type": "display_data"
        },
        {
          "data": {
            "text/html": [
              "<pre style=\"white-space:pre;overflow-x:auto;line-height:normal;font-family:Menlo,'DejaVu Sans Mono',consolas,'Courier New',monospace\">NVH_CK34_SUN_OFF\n",
              "</pre>\n"
            ],
            "text/plain": [
              "NVH_CK34_SUN_OFF\n"
            ]
          },
          "metadata": {},
          "output_type": "display_data"
        },
        {
          "data": {
            "text/html": [
              "<pre style=\"white-space:pre;overflow-x:auto;line-height:normal;font-family:Menlo,'DejaVu Sans Mono',consolas,'Courier New',monospace\">NVH_PTPY2.10_SUN_ONL\n",
              "</pre>\n"
            ],
            "text/plain": [
              "NVH_PTPY2.10_SUN_ONL\n"
            ]
          },
          "metadata": {},
          "output_type": "display_data"
        },
        {
          "data": {
            "text/html": [
              "<pre style=\"white-space:pre;overflow-x:auto;line-height:normal;font-family:Menlo,'DejaVu Sans Mono',consolas,'Courier New',monospace\">NVH_PTSY2.33_SUN_OFF\n",
              "</pre>\n"
            ],
            "text/plain": [
              "NVH_PTSY2.33_SUN_OFF\n"
            ]
          },
          "metadata": {},
          "output_type": "display_data"
        },
        {
          "data": {
            "text/html": [
              "<pre style=\"white-space:pre;overflow-x:auto;line-height:normal;font-family:Menlo,'DejaVu Sans Mono',consolas,'Courier New',monospace\">NVH_PTSY2.32_SUN_ONL\n",
              "</pre>\n"
            ],
            "text/plain": [
              "NVH_PTSY2.32_SUN_ONL\n"
            ]
          },
          "metadata": {},
          "output_type": "display_data"
        },
        {
          "data": {
            "text/html": [
              "<pre style=\"white-space:pre;overflow-x:auto;line-height:normal;font-family:Menlo,'DejaVu Sans Mono',consolas,'Courier New',monospace\">NVH_VP41_SUN_OFF\n",
              "</pre>\n"
            ],
            "text/plain": [
              "NVH_VP41_SUN_OFF\n"
            ]
          },
          "metadata": {},
          "output_type": "display_data"
        },
        {
          "data": {
            "text/html": [
              "<pre style=\"white-space:pre;overflow-x:auto;line-height:normal;font-family:Menlo,'DejaVu Sans Mono',consolas,'Courier New',monospace\">NVH_PTPY1.20_SAT_OFF\n",
              "</pre>\n"
            ],
            "text/plain": [
              "NVH_PTPY1.20_SAT_OFF\n"
            ]
          },
          "metadata": {},
          "output_type": "display_data"
        },
        {
          "data": {
            "text/html": [
              "<pre style=\"white-space:pre;overflow-x:auto;line-height:normal;font-family:Menlo,'DejaVu Sans Mono',consolas,'Courier New',monospace\">NVH_VP40_THU_ONL\n",
              "</pre>\n"
            ],
            "text/plain": [
              "NVH_VP40_THU_ONL\n"
            ]
          },
          "metadata": {},
          "output_type": "display_data"
        },
        {
          "data": {
            "text/html": [
              "<pre style=\"white-space:pre;overflow-x:auto;line-height:normal;font-family:Menlo,'DejaVu Sans Mono',consolas,'Courier New',monospace\">NVH_PTSY1.52_WED_OFF\n",
              "</pre>\n"
            ],
            "text/plain": [
              "NVH_PTSY1.52_WED_OFF\n"
            ]
          },
          "metadata": {},
          "output_type": "display_data"
        },
        {
          "data": {
            "text/html": [
              "<pre style=\"white-space:pre;overflow-x:auto;line-height:normal;font-family:Menlo,'DejaVu Sans Mono',consolas,'Courier New',monospace\">NVH_PTSY1.51_SUN_ONL\n",
              "</pre>\n"
            ],
            "text/plain": [
              "NVH_PTSY1.51_SUN_ONL\n"
            ]
          },
          "metadata": {},
          "output_type": "display_data"
        },
        {
          "data": {
            "text/html": [
              "<pre style=\"white-space:pre;overflow-x:auto;line-height:normal;font-family:Menlo,'DejaVu Sans Mono',consolas,'Courier New',monospace\">NVH_PTSY1.50_THU_OFF\n",
              "</pre>\n"
            ],
            "text/plain": [
              "NVH_PTSY1.50_THU_OFF\n"
            ]
          },
          "metadata": {},
          "output_type": "display_data"
        },
        {
          "data": {
            "text/html": [
              "<pre style=\"white-space:pre;overflow-x:auto;line-height:normal;font-family:Menlo,'DejaVu Sans Mono',consolas,'Courier New',monospace\">NVH_GD47_SUN_OFF\n",
              "</pre>\n"
            ],
            "text/plain": [
              "NVH_GD47_SUN_OFF\n"
            ]
          },
          "metadata": {},
          "output_type": "display_data"
        },
        {
          "data": {
            "text/html": [
              "<pre style=\"white-space:pre;overflow-x:auto;line-height:normal;font-family:Menlo,'DejaVu Sans Mono',consolas,'Courier New',monospace\">NVH_PTSY1.49_SAT_OFF\n",
              "</pre>\n"
            ],
            "text/plain": [
              "NVH_PTSY1.49_SAT_OFF\n"
            ]
          },
          "metadata": {},
          "output_type": "display_data"
        },
        {
          "data": {
            "text/html": [
              "<pre style=\"white-space:pre;overflow-x:auto;line-height:normal;font-family:Menlo,'DejaVu Sans Mono',consolas,'Courier New',monospace\">NVH_VP39_SAT_OFF\n",
              "</pre>\n"
            ],
            "text/plain": [
              "NVH_VP39_SAT_OFF\n"
            ]
          },
          "metadata": {},
          "output_type": "display_data"
        },
        {
          "data": {
            "text/html": [
              "<pre style=\"white-space:pre;overflow-x:auto;line-height:normal;font-family:Menlo,'DejaVu Sans Mono',consolas,'Courier New',monospace\">NVH_PTSY2.30_SAT_OFF\n",
              "</pre>\n"
            ],
            "text/plain": [
              "NVH_PTSY2.30_SAT_OFF\n"
            ]
          },
          "metadata": {},
          "output_type": "display_data"
        },
        {
          "data": {
            "text/html": [
              "<pre style=\"white-space:pre;overflow-x:auto;line-height:normal;font-family:Menlo,'DejaVu Sans Mono',consolas,'Courier New',monospace\">NVH_PTPY2.9_FRI_OFF\n",
              "</pre>\n"
            ],
            "text/plain": [
              "NVH_PTPY2.9_FRI_OFF\n"
            ]
          },
          "metadata": {},
          "output_type": "display_data"
        },
        {
          "data": {
            "text/html": [
              "<pre style=\"white-space:pre;overflow-x:auto;line-height:normal;font-family:Menlo,'DejaVu Sans Mono',consolas,'Courier New',monospace\">NVH_VP38_SAT_OFF\n",
              "</pre>\n"
            ],
            "text/plain": [
              "NVH_VP38_SAT_OFF\n"
            ]
          },
          "metadata": {},
          "output_type": "display_data"
        },
        {
          "data": {
            "text/html": [
              "<pre style=\"white-space:pre;overflow-x:auto;line-height:normal;font-family:Menlo,'DejaVu Sans Mono',consolas,'Courier New',monospace\">NVH_GD46_MON_OFF\n",
              "</pre>\n"
            ],
            "text/plain": [
              "NVH_GD46_MON_OFF\n"
            ]
          },
          "metadata": {},
          "output_type": "display_data"
        },
        {
          "data": {
            "text/html": [
              "<pre style=\"white-space:pre;overflow-x:auto;line-height:normal;font-family:Menlo,'DejaVu Sans Mono',consolas,'Courier New',monospace\">NVH_VP37_FRI_ONL\n",
              "</pre>\n"
            ],
            "text/plain": [
              "NVH_VP37_FRI_ONL\n"
            ]
          },
          "metadata": {},
          "output_type": "display_data"
        },
        {
          "data": {
            "text/html": [
              "<pre style=\"white-space:pre;overflow-x:auto;line-height:normal;font-family:Menlo,'DejaVu Sans Mono',consolas,'Courier New',monospace\">NVH_CK33_TUE_ONL\n",
              "</pre>\n"
            ],
            "text/plain": [
              "NVH_CK33_TUE_ONL\n"
            ]
          },
          "metadata": {},
          "output_type": "display_data"
        },
        {
          "data": {
            "text/html": [
              "<pre style=\"white-space:pre;overflow-x:auto;line-height:normal;font-family:Menlo,'DejaVu Sans Mono',consolas,'Courier New',monospace\">NVH_GD45_FRI_OFF\n",
              "</pre>\n"
            ],
            "text/plain": [
              "NVH_GD45_FRI_OFF\n"
            ]
          },
          "metadata": {},
          "output_type": "display_data"
        },
        {
          "data": {
            "text/html": [
              "<pre style=\"white-space:pre;overflow-x:auto;line-height:normal;font-family:Menlo,'DejaVu Sans Mono',consolas,'Courier New',monospace\">NVH_GD44_SAT_OFF\n",
              "</pre>\n"
            ],
            "text/plain": [
              "NVH_GD44_SAT_OFF\n"
            ]
          },
          "metadata": {},
          "output_type": "display_data"
        },
        {
          "data": {
            "text/html": [
              "<pre style=\"white-space:pre;overflow-x:auto;line-height:normal;font-family:Menlo,'DejaVu Sans Mono',consolas,'Courier New',monospace\">NVH_GD43_WED_OFF\n",
              "</pre>\n"
            ],
            "text/plain": [
              "NVH_GD43_WED_OFF\n"
            ]
          },
          "metadata": {},
          "output_type": "display_data"
        },
        {
          "data": {
            "text/html": [
              "<pre style=\"white-space:pre;overflow-x:auto;line-height:normal;font-family:Menlo,'DejaVu Sans Mono',consolas,'Courier New',monospace\">NVH_PTPY1.19_FRI_OFF (PRIVATE)\n",
              "</pre>\n"
            ],
            "text/plain": [
              "NVH_PTPY1.19_FRI_OFF (PRIVATE)\n"
            ]
          },
          "metadata": {},
          "output_type": "display_data"
        },
        {
          "data": {
            "text/html": [
              "<pre style=\"white-space:pre;overflow-x:auto;line-height:normal;font-family:Menlo,'DejaVu Sans Mono',consolas,'Courier New',monospace\">NVH_PTSY1.48_WED_OFF\n",
              "</pre>\n"
            ],
            "text/plain": [
              "NVH_PTSY1.48_WED_OFF\n"
            ]
          },
          "metadata": {},
          "output_type": "display_data"
        },
        {
          "data": {
            "text/html": [
              "<pre style=\"white-space:pre;overflow-x:auto;line-height:normal;font-family:Menlo,'DejaVu Sans Mono',consolas,'Courier New',monospace\">NVH_GD42_TUE_OFF\n",
              "</pre>\n"
            ],
            "text/plain": [
              "NVH_GD42_TUE_OFF\n"
            ]
          },
          "metadata": {},
          "output_type": "display_data"
        },
        {
          "data": {
            "text/html": [
              "<pre style=\"white-space:pre;overflow-x:auto;line-height:normal;font-family:Menlo,'DejaVu Sans Mono',consolas,'Courier New',monospace\">NVH_VP35_TUE_OFF\n",
              "</pre>\n"
            ],
            "text/plain": [
              "NVH_VP35_TUE_OFF\n"
            ]
          },
          "metadata": {},
          "output_type": "display_data"
        },
        {
          "data": {
            "text/html": [
              "<pre style=\"white-space:pre;overflow-x:auto;line-height:normal;font-family:Menlo,'DejaVu Sans Mono',consolas,'Courier New',monospace\">NVH_DL11_SUN_OFF\n",
              "</pre>\n"
            ],
            "text/plain": [
              "NVH_DL11_SUN_OFF\n"
            ]
          },
          "metadata": {},
          "output_type": "display_data"
        },
        {
          "data": {
            "text/html": [
              "<pre style=\"white-space:pre;overflow-x:auto;line-height:normal;font-family:Menlo,'DejaVu Sans Mono',consolas,'Courier New',monospace\">NVH_PTSY2.29_FRI_ONL\n",
              "</pre>\n"
            ],
            "text/plain": [
              "NVH_PTSY2.29_FRI_ONL\n"
            ]
          },
          "metadata": {},
          "output_type": "display_data"
        },
        {
          "data": {
            "text/html": [
              "<pre style=\"white-space:pre;overflow-x:auto;line-height:normal;font-family:Menlo,'DejaVu Sans Mono',consolas,'Courier New',monospace\">NVH_GD41_SAT_OFF\n",
              "</pre>\n"
            ],
            "text/plain": [
              "NVH_GD41_SAT_OFF\n"
            ]
          },
          "metadata": {},
          "output_type": "display_data"
        },
        {
          "data": {
            "text/html": [
              "<pre style=\"white-space:pre;overflow-x:auto;line-height:normal;font-family:Menlo,'DejaVu Sans Mono',consolas,'Courier New',monospace\">NVH_GD40_SAT_ONL\n",
              "</pre>\n"
            ],
            "text/plain": [
              "NVH_GD40_SAT_ONL\n"
            ]
          },
          "metadata": {},
          "output_type": "display_data"
        },
        {
          "data": {
            "text/html": [
              "<pre style=\"white-space:pre;overflow-x:auto;line-height:normal;font-family:Menlo,'DejaVu Sans Mono',consolas,'Courier New',monospace\">NVH_VP34_WED_OFF\n",
              "</pre>\n"
            ],
            "text/plain": [
              "NVH_VP34_WED_OFF\n"
            ]
          },
          "metadata": {},
          "output_type": "display_data"
        },
        {
          "data": {
            "text/html": [
              "<pre style=\"white-space:pre;overflow-x:auto;line-height:normal;font-family:Menlo,'DejaVu Sans Mono',consolas,'Courier New',monospace\">NVH_CK32_SUN_OFF\n",
              "</pre>\n"
            ],
            "text/plain": [
              "NVH_CK32_SUN_OFF\n"
            ]
          },
          "metadata": {},
          "output_type": "display_data"
        },
        {
          "data": {
            "text/html": [
              "<pre style=\"white-space:pre;overflow-x:auto;line-height:normal;font-family:Menlo,'DejaVu Sans Mono',consolas,'Courier New',monospace\">NVH_VP33_SUN_ONL\n",
              "</pre>\n"
            ],
            "text/plain": [
              "NVH_VP33_SUN_ONL\n"
            ]
          },
          "metadata": {},
          "output_type": "display_data"
        },
        {
          "data": {
            "text/html": [
              "<pre style=\"white-space:pre;overflow-x:auto;line-height:normal;font-family:Menlo,'DejaVu Sans Mono',consolas,'Courier New',monospace\">NVH_WDY1.7_SUN_OFF\n",
              "</pre>\n"
            ],
            "text/plain": [
              "NVH_WDY1.7_SUN_OFF\n"
            ]
          },
          "metadata": {},
          "output_type": "display_data"
        },
        {
          "data": {
            "text/html": [
              "<pre style=\"white-space:pre;overflow-x:auto;line-height:normal;font-family:Menlo,'DejaVu Sans Mono',consolas,'Courier New',monospace\">NVH_PTSY1.47_SUN_OFF\n",
              "</pre>\n"
            ],
            "text/plain": [
              "NVH_PTSY1.47_SUN_OFF\n"
            ]
          },
          "metadata": {},
          "output_type": "display_data"
        },
        {
          "data": {
            "text/html": [
              "<pre style=\"white-space:pre;overflow-x:auto;line-height:normal;font-family:Menlo,'DejaVu Sans Mono',consolas,'Courier New',monospace\">NVH_PTPY1.17_WED_ONL (PRIVATE)\n",
              "</pre>\n"
            ],
            "text/plain": [
              "NVH_PTPY1.17_WED_ONL (PRIVATE)\n"
            ]
          },
          "metadata": {},
          "output_type": "display_data"
        },
        {
          "data": {
            "text/html": [
              "<pre style=\"white-space:pre;overflow-x:auto;line-height:normal;font-family:Menlo,'DejaVu Sans Mono',consolas,'Courier New',monospace\">NVH_PTSY1.46_SAT_OFF\n",
              "</pre>\n"
            ],
            "text/plain": [
              "NVH_PTSY1.46_SAT_OFF\n"
            ]
          },
          "metadata": {},
          "output_type": "display_data"
        },
        {
          "data": {
            "text/html": [
              "<pre style=\"white-space:pre;overflow-x:auto;line-height:normal;font-family:Menlo,'DejaVu Sans Mono',consolas,'Courier New',monospace\">NVH_DL9_MON_OFF\n",
              "</pre>\n"
            ],
            "text/plain": [
              "NVH_DL9_MON_OFF\n"
            ]
          },
          "metadata": {},
          "output_type": "display_data"
        },
        {
          "data": {
            "text/html": [
              "<pre style=\"white-space:pre;overflow-x:auto;line-height:normal;font-family:Menlo,'DejaVu Sans Mono',consolas,'Courier New',monospace\">NVH_WDY1.6_THU_OFF\n",
              "</pre>\n"
            ],
            "text/plain": [
              "NVH_WDY1.6_THU_OFF\n"
            ]
          },
          "metadata": {},
          "output_type": "display_data"
        },
        {
          "data": {
            "text/html": [
              "<pre style=\"white-space:pre;overflow-x:auto;line-height:normal;font-family:Menlo,'DejaVu Sans Mono',consolas,'Courier New',monospace\">NVH_VP32_THU_OFF\n",
              "</pre>\n"
            ],
            "text/plain": [
              "NVH_VP32_THU_OFF\n"
            ]
          },
          "metadata": {},
          "output_type": "display_data"
        },
        {
          "data": {
            "text/html": [
              "<pre style=\"white-space:pre;overflow-x:auto;line-height:normal;font-family:Menlo,'DejaVu Sans Mono',consolas,'Courier New',monospace\">NVH_GD39_TUE_OFF (PRIVATE)\n",
              "</pre>\n"
            ],
            "text/plain": [
              "NVH_GD39_TUE_OFF (PRIVATE)\n"
            ]
          },
          "metadata": {},
          "output_type": "display_data"
        },
        {
          "data": {
            "text/html": [
              "<pre style=\"white-space:pre;overflow-x:auto;line-height:normal;font-family:Menlo,'DejaVu Sans Mono',consolas,'Courier New',monospace\">NVH_GD38_WED_OFF\n",
              "</pre>\n"
            ],
            "text/plain": [
              "NVH_GD38_WED_OFF\n"
            ]
          },
          "metadata": {},
          "output_type": "display_data"
        },
        {
          "data": {
            "text/html": [
              "<pre style=\"white-space:pre;overflow-x:auto;line-height:normal;font-family:Menlo,'DejaVu Sans Mono',consolas,'Courier New',monospace\">NVH_PTPY1.16_THU_OFF\n",
              "</pre>\n"
            ],
            "text/plain": [
              "NVH_PTPY1.16_THU_OFF\n"
            ]
          },
          "metadata": {},
          "output_type": "display_data"
        },
        {
          "data": {
            "text/html": [
              "<pre style=\"white-space:pre;overflow-x:auto;line-height:normal;font-family:Menlo,'DejaVu Sans Mono',consolas,'Courier New',monospace\">NVH_VP31_FRI_OFF\n",
              "</pre>\n"
            ],
            "text/plain": [
              "NVH_VP31_FRI_OFF\n"
            ]
          },
          "metadata": {},
          "output_type": "display_data"
        },
        {
          "data": {
            "text/html": [
              "<pre style=\"white-space:pre;overflow-x:auto;line-height:normal;font-family:Menlo,'DejaVu Sans Mono',consolas,'Courier New',monospace\">NVH_GD36_WED_OFF\n",
              "</pre>\n"
            ],
            "text/plain": [
              "NVH_GD36_WED_OFF\n"
            ]
          },
          "metadata": {},
          "output_type": "display_data"
        },
        {
          "data": {
            "text/html": [
              "<pre style=\"white-space:pre;overflow-x:auto;line-height:normal;font-family:Menlo,'DejaVu Sans Mono',consolas,'Courier New',monospace\">NVH_PTSY1.44_SAT_ONL\n",
              "</pre>\n"
            ],
            "text/plain": [
              "NVH_PTSY1.44_SAT_ONL\n"
            ]
          },
          "metadata": {},
          "output_type": "display_data"
        },
        {
          "data": {
            "text/html": [
              "<pre style=\"white-space:pre;overflow-x:auto;line-height:normal;font-family:Menlo,'DejaVu Sans Mono',consolas,'Courier New',monospace\">NVH_PTSY2.28_SAT_OFF (PRIVATE)\n",
              "</pre>\n"
            ],
            "text/plain": [
              "NVH_PTSY2.28_SAT_OFF (PRIVATE)\n"
            ]
          },
          "metadata": {},
          "output_type": "display_data"
        },
        {
          "data": {
            "text/html": [
              "<pre style=\"white-space:pre;overflow-x:auto;line-height:normal;font-family:Menlo,'DejaVu Sans Mono',consolas,'Courier New',monospace\">NVH_PTSY2.30_MON_OFF\n",
              "</pre>\n"
            ],
            "text/plain": [
              "NVH_PTSY2.30_MON_OFF\n"
            ]
          },
          "metadata": {},
          "output_type": "display_data"
        },
        {
          "data": {
            "text/html": [
              "<pre style=\"white-space:pre;overflow-x:auto;line-height:normal;font-family:Menlo,'DejaVu Sans Mono',consolas,'Courier New',monospace\">NVH_PTSY2.29_SAT_OFF\n",
              "</pre>\n"
            ],
            "text/plain": [
              "NVH_PTSY2.29_SAT_OFF\n"
            ]
          },
          "metadata": {},
          "output_type": "display_data"
        },
        {
          "data": {
            "text/html": [
              "<pre style=\"white-space:pre;overflow-x:auto;line-height:normal;font-family:Menlo,'DejaVu Sans Mono',consolas,'Courier New',monospace\">NVH_DL7_SAT_OFF (PRIVATE)\n",
              "</pre>\n"
            ],
            "text/plain": [
              "NVH_DL7_SAT_OFF (PRIVATE)\n"
            ]
          },
          "metadata": {},
          "output_type": "display_data"
        },
        {
          "data": {
            "text/html": [
              "<pre style=\"white-space:pre;overflow-x:auto;line-height:normal;font-family:Menlo,'DejaVu Sans Mono',consolas,'Courier New',monospace\">NVH_CK30_SAT_OFF\n",
              "</pre>\n"
            ],
            "text/plain": [
              "NVH_CK30_SAT_OFF\n"
            ]
          },
          "metadata": {},
          "output_type": "display_data"
        },
        {
          "data": {
            "text/html": [
              "<pre style=\"white-space:pre;overflow-x:auto;line-height:normal;font-family:Menlo,'DejaVu Sans Mono',consolas,'Courier New',monospace\">NVH_PTSY2.26_WED_OFF\n",
              "</pre>\n"
            ],
            "text/plain": [
              "NVH_PTSY2.26_WED_OFF\n"
            ]
          },
          "metadata": {},
          "output_type": "display_data"
        },
        {
          "data": {
            "text/html": [
              "<pre style=\"white-space:pre;overflow-x:auto;line-height:normal;font-family:Menlo,'DejaVu Sans Mono',consolas,'Courier New',monospace\">NVH_GD34_SUN_OFF\n",
              "</pre>\n"
            ],
            "text/plain": [
              "NVH_GD34_SUN_OFF\n"
            ]
          },
          "metadata": {},
          "output_type": "display_data"
        },
        {
          "data": {
            "text/html": [
              "<pre style=\"white-space:pre;overflow-x:auto;line-height:normal;font-family:Menlo,'DejaVu Sans Mono',consolas,'Courier New',monospace\">NVH_DL6_SAT_OFF\n",
              "</pre>\n"
            ],
            "text/plain": [
              "NVH_DL6_SAT_OFF\n"
            ]
          },
          "metadata": {},
          "output_type": "display_data"
        },
        {
          "data": {
            "text/html": [
              "<pre style=\"white-space:pre;overflow-x:auto;line-height:normal;font-family:Menlo,'DejaVu Sans Mono',consolas,'Courier New',monospace\">NVH_UGD2_WED_OFF (PRIVATE)\n",
              "</pre>\n"
            ],
            "text/plain": [
              "NVH_UGD2_WED_OFF (PRIVATE)\n"
            ]
          },
          "metadata": {},
          "output_type": "display_data"
        },
        {
          "data": {
            "text/html": [
              "<pre style=\"white-space:pre;overflow-x:auto;line-height:normal;font-family:Menlo,'DejaVu Sans Mono',consolas,'Courier New',monospace\">NVH_GD33_FRI_OFF\n",
              "</pre>\n"
            ],
            "text/plain": [
              "NVH_GD33_FRI_OFF\n"
            ]
          },
          "metadata": {},
          "output_type": "display_data"
        },
        {
          "data": {
            "text/html": [
              "<pre style=\"white-space:pre;overflow-x:auto;line-height:normal;font-family:Menlo,'DejaVu Sans Mono',consolas,'Courier New',monospace\">NVH_PTPY1.15_SAT_ONL\n",
              "</pre>\n"
            ],
            "text/plain": [
              "NVH_PTPY1.15_SAT_ONL\n"
            ]
          },
          "metadata": {},
          "output_type": "display_data"
        },
        {
          "data": {
            "text/html": [
              "<pre style=\"white-space:pre;overflow-x:auto;line-height:normal;font-family:Menlo,'DejaVu Sans Mono',consolas,'Courier New',monospace\">NVH_VP25_WED_OFF\n",
              "</pre>\n"
            ],
            "text/plain": [
              "NVH_VP25_WED_OFF\n"
            ]
          },
          "metadata": {},
          "output_type": "display_data"
        },
        {
          "data": {
            "text/html": [
              "<pre style=\"white-space:pre;overflow-x:auto;line-height:normal;font-family:Menlo,'DejaVu Sans Mono',consolas,'Courier New',monospace\">NVH_PTPY1.13_SAT_OFF\n",
              "</pre>\n"
            ],
            "text/plain": [
              "NVH_PTPY1.13_SAT_OFF\n"
            ]
          },
          "metadata": {},
          "output_type": "display_data"
        },
        {
          "data": {
            "text/html": [
              "<pre style=\"white-space:pre;overflow-x:auto;line-height:normal;font-family:Menlo,'DejaVu Sans Mono',consolas,'Courier New',monospace\"></pre>\n"
            ],
            "text/plain": []
          },
          "metadata": {},
          "output_type": "display_data"
        },
        {
          "data": {
            "text/html": [
              "<pre style=\"white-space:pre;overflow-x:auto;line-height:normal;font-family:Menlo,'DejaVu Sans Mono',consolas,'Courier New',monospace\">\n",
              "</pre>\n"
            ],
            "text/plain": [
              "\n"
            ]
          },
          "metadata": {},
          "output_type": "display_data"
        },
        {
          "name": "stdout",
          "output_type": "stream",
          "text": [
            "NVH has 122 groups  \n"
          ]
        },
        {
          "data": {
            "application/vnd.jupyter.widget-view+json": {
              "model_id": "190f0e04090c45e09de523ec815ab3f0",
              "version_major": 2,
              "version_minor": 0
            },
            "text/plain": [
              "Output()"
            ]
          },
          "metadata": {},
          "output_type": "display_data"
        },
        {
          "data": {
            "text/html": [
              "<pre style=\"white-space:pre;overflow-x:auto;line-height:normal;font-family:Menlo,'DejaVu Sans Mono',consolas,'Courier New',monospace\">Non\n",
              "</pre>\n"
            ],
            "text/plain": [
              "Non\n"
            ]
          },
          "metadata": {},
          "output_type": "display_data"
        },
        {
          "name": "stdout",
          "output_type": "stream",
          "text": [
            "61\n"
          ]
        },
        {
          "data": {
            "text/html": [
              "<pre style=\"white-space:pre;overflow-x:auto;line-height:normal;font-family:Menlo,'DejaVu Sans Mono',consolas,'Courier New',monospace\">Non invalid literal for int() with base 10: 'S'\n",
              "</pre>\n"
            ],
            "text/plain": [
              "Non invalid literal for int() with base 10: 'S'\n"
            ]
          },
          "metadata": {},
          "output_type": "display_data"
        },
        {
          "data": {
            "text/html": [
              "<pre style=\"white-space:pre;overflow-x:auto;line-height:normal;font-family:Menlo,'DejaVu Sans Mono',consolas,'Courier New',monospace\">PXL_GD26_WED_ONL (PRIVATE)\n",
              "</pre>\n"
            ],
            "text/plain": [
              "PXL_GD26_WED_ONL (PRIVATE)\n"
            ]
          },
          "metadata": {},
          "output_type": "display_data"
        },
        {
          "data": {
            "text/html": [
              "<pre style=\"white-space:pre;overflow-x:auto;line-height:normal;font-family:Menlo,'DejaVu Sans Mono',consolas,'Courier New',monospace\">PXL_VP27_SAT_OFF\n",
              "</pre>\n"
            ],
            "text/plain": [
              "PXL_VP27_SAT_OFF\n"
            ]
          },
          "metadata": {},
          "output_type": "display_data"
        },
        {
          "data": {
            "text/html": [
              "<pre style=\"white-space:pre;overflow-x:auto;line-height:normal;font-family:Menlo,'DejaVu Sans Mono',consolas,'Courier New',monospace\">PXL_VP26_MON/THU_OFF (PRIVATE)\n",
              "</pre>\n"
            ],
            "text/plain": [
              "PXL_VP26_MON/THU_OFF (PRIVATE)\n"
            ]
          },
          "metadata": {},
          "output_type": "display_data"
        },
        {
          "data": {
            "text/html": [
              "<pre style=\"white-space:pre;overflow-x:auto;line-height:normal;font-family:Menlo,'DejaVu Sans Mono',consolas,'Courier New',monospace\">PXL_GD22_SUN_ONL\n",
              "</pre>\n"
            ],
            "text/plain": [
              "PXL_GD22_SUN_ONL\n"
            ]
          },
          "metadata": {},
          "output_type": "display_data"
        },
        {
          "data": {
            "text/html": [
              "<pre style=\"white-space:pre;overflow-x:auto;line-height:normal;font-family:Menlo,'DejaVu Sans Mono',consolas,'Courier New',monospace\">PXL_CK13_SUN_OFF\n",
              "</pre>\n"
            ],
            "text/plain": [
              "PXL_CK13_SUN_OFF\n"
            ]
          },
          "metadata": {},
          "output_type": "display_data"
        },
        {
          "data": {
            "text/html": [
              "<pre style=\"white-space:pre;overflow-x:auto;line-height:normal;font-family:Menlo,'DejaVu Sans Mono',consolas,'Courier New',monospace\">PXL_VP25_SAT/SUN_ONL (PRIVATE)\n",
              "</pre>\n"
            ],
            "text/plain": [
              "PXL_VP25_SAT/SUN_ONL (PRIVATE)\n"
            ]
          },
          "metadata": {},
          "output_type": "display_data"
        },
        {
          "data": {
            "text/html": [
              "<pre style=\"white-space:pre;overflow-x:auto;line-height:normal;font-family:Menlo,'DejaVu Sans Mono',consolas,'Courier New',monospace\">PXL_UGD2_TUE_OFF\n",
              "</pre>\n"
            ],
            "text/plain": [
              "PXL_UGD2_TUE_OFF\n"
            ]
          },
          "metadata": {},
          "output_type": "display_data"
        },
        {
          "data": {
            "text/html": [
              "<pre style=\"white-space:pre;overflow-x:auto;line-height:normal;font-family:Menlo,'DejaVu Sans Mono',consolas,'Courier New',monospace\">PXL_PTSY1.11_SAT_OFF\n",
              "</pre>\n"
            ],
            "text/plain": [
              "PXL_PTSY1.11_SAT_OFF\n"
            ]
          },
          "metadata": {},
          "output_type": "display_data"
        },
        {
          "data": {
            "text/html": [
              "<pre style=\"white-space:pre;overflow-x:auto;line-height:normal;font-family:Menlo,'DejaVu Sans Mono',consolas,'Courier New',monospace\">PXL_WDY1.7_SAT_OFF\n",
              "</pre>\n"
            ],
            "text/plain": [
              "PXL_WDY1.7_SAT_OFF\n"
            ]
          },
          "metadata": {},
          "output_type": "display_data"
        },
        {
          "data": {
            "text/html": [
              "<pre style=\"white-space:pre;overflow-x:auto;line-height:normal;font-family:Menlo,'DejaVu Sans Mono',consolas,'Courier New',monospace\">PXL_WDY1.6_SAT_ONL\n",
              "</pre>\n"
            ],
            "text/plain": [
              "PXL_WDY1.6_SAT_ONL\n"
            ]
          },
          "metadata": {},
          "output_type": "display_data"
        },
        {
          "data": {
            "text/html": [
              "<pre style=\"white-space:pre;overflow-x:auto;line-height:normal;font-family:Menlo,'DejaVu Sans Mono',consolas,'Courier New',monospace\">PXL_PTPY2.1_SAT_OFF\n",
              "</pre>\n"
            ],
            "text/plain": [
              "PXL_PTPY2.1_SAT_OFF\n"
            ]
          },
          "metadata": {},
          "output_type": "display_data"
        },
        {
          "data": {
            "text/html": [
              "<pre style=\"white-space:pre;overflow-x:auto;line-height:normal;font-family:Menlo,'DejaVu Sans Mono',consolas,'Courier New',monospace\">PXL_PTSY1.10_TUE_OFF\n",
              "</pre>\n"
            ],
            "text/plain": [
              "PXL_PTSY1.10_TUE_OFF\n"
            ]
          },
          "metadata": {},
          "output_type": "display_data"
        },
        {
          "data": {
            "text/html": [
              "<pre style=\"white-space:pre;overflow-x:auto;line-height:normal;font-family:Menlo,'DejaVu Sans Mono',consolas,'Courier New',monospace\">PXL_UGD1_SUN_OFF\n",
              "</pre>\n"
            ],
            "text/plain": [
              "PXL_UGD1_SUN_OFF\n"
            ]
          },
          "metadata": {},
          "output_type": "display_data"
        },
        {
          "data": {
            "text/html": [
              "<pre style=\"white-space:pre;overflow-x:auto;line-height:normal;font-family:Menlo,'DejaVu Sans Mono',consolas,'Courier New',monospace\">PXL_GD21_TUE_OFF\n",
              "</pre>\n"
            ],
            "text/plain": [
              "PXL_GD21_TUE_OFF\n"
            ]
          },
          "metadata": {},
          "output_type": "display_data"
        },
        {
          "data": {
            "text/html": [
              "<pre style=\"white-space:pre;overflow-x:auto;line-height:normal;font-family:Menlo,'DejaVu Sans Mono',consolas,'Courier New',monospace\">PXL_DL6_SAT_OFF\n",
              "</pre>\n"
            ],
            "text/plain": [
              "PXL_DL6_SAT_OFF\n"
            ]
          },
          "metadata": {},
          "output_type": "display_data"
        },
        {
          "data": {
            "text/html": [
              "<pre style=\"white-space:pre;overflow-x:auto;line-height:normal;font-family:Menlo,'DejaVu Sans Mono',consolas,'Courier New',monospace\">PXL_VP23_SAT_OFF\n",
              "</pre>\n"
            ],
            "text/plain": [
              "PXL_VP23_SAT_OFF\n"
            ]
          },
          "metadata": {},
          "output_type": "display_data"
        },
        {
          "data": {
            "text/html": [
              "<pre style=\"white-space:pre;overflow-x:auto;line-height:normal;font-family:Menlo,'DejaVu Sans Mono',consolas,'Courier New',monospace\">PXL_WDY1.5_FRI_ONL\n",
              "</pre>\n"
            ],
            "text/plain": [
              "PXL_WDY1.5_FRI_ONL\n"
            ]
          },
          "metadata": {},
          "output_type": "display_data"
        },
        {
          "data": {
            "text/html": [
              "<pre style=\"white-space:pre;overflow-x:auto;line-height:normal;font-family:Menlo,'DejaVu Sans Mono',consolas,'Courier New',monospace\">PXL_VP22_SUN_ONL\n",
              "</pre>\n"
            ],
            "text/plain": [
              "PXL_VP22_SUN_ONL\n"
            ]
          },
          "metadata": {},
          "output_type": "display_data"
        },
        {
          "data": {
            "text/html": [
              "<pre style=\"white-space:pre;overflow-x:auto;line-height:normal;font-family:Menlo,'DejaVu Sans Mono',consolas,'Courier New',monospace\">PXL_GD20_SAT_OFF\n",
              "</pre>\n"
            ],
            "text/plain": [
              "PXL_GD20_SAT_OFF\n"
            ]
          },
          "metadata": {},
          "output_type": "display_data"
        },
        {
          "data": {
            "text/html": [
              "<pre style=\"white-space:pre;overflow-x:auto;line-height:normal;font-family:Menlo,'DejaVu Sans Mono',consolas,'Courier New',monospace\">PXL_CK12_TUE_OFF\n",
              "</pre>\n"
            ],
            "text/plain": [
              "PXL_CK12_TUE_OFF\n"
            ]
          },
          "metadata": {},
          "output_type": "display_data"
        },
        {
          "data": {
            "text/html": [
              "<pre style=\"white-space:pre;overflow-x:auto;line-height:normal;font-family:Menlo,'DejaVu Sans Mono',consolas,'Courier New',monospace\">PXL_PTPY1.2_SUN_OFF\n",
              "</pre>\n"
            ],
            "text/plain": [
              "PXL_PTPY1.2_SUN_OFF\n"
            ]
          },
          "metadata": {},
          "output_type": "display_data"
        },
        {
          "data": {
            "text/html": [
              "<pre style=\"white-space:pre;overflow-x:auto;line-height:normal;font-family:Menlo,'DejaVu Sans Mono',consolas,'Courier New',monospace\">PXL_VP21_FRI_OFF\n",
              "</pre>\n"
            ],
            "text/plain": [
              "PXL_VP21_FRI_OFF\n"
            ]
          },
          "metadata": {},
          "output_type": "display_data"
        },
        {
          "data": {
            "text/html": [
              "<pre style=\"white-space:pre;overflow-x:auto;line-height:normal;font-family:Menlo,'DejaVu Sans Mono',consolas,'Courier New',monospace\">PXL_GD19_FRI_OFF\n",
              "</pre>\n"
            ],
            "text/plain": [
              "PXL_GD19_FRI_OFF\n"
            ]
          },
          "metadata": {},
          "output_type": "display_data"
        },
        {
          "data": {
            "text/html": [
              "<pre style=\"white-space:pre;overflow-x:auto;line-height:normal;font-family:Menlo,'DejaVu Sans Mono',consolas,'Courier New',monospace\">PXL_PTPY1.3_SAT/SUN_OFF (PRIVATE)\n",
              "</pre>\n"
            ],
            "text/plain": [
              "PXL_PTPY1.3_SAT/SUN_OFF (PRIVATE)\n"
            ]
          },
          "metadata": {},
          "output_type": "display_data"
        },
        {
          "data": {
            "text/html": [
              "<pre style=\"white-space:pre;overflow-x:auto;line-height:normal;font-family:Menlo,'DejaVu Sans Mono',consolas,'Courier New',monospace\">PXL_PTSY1.8_TUE_OFF\n",
              "</pre>\n"
            ],
            "text/plain": [
              "PXL_PTSY1.8_TUE_OFF\n"
            ]
          },
          "metadata": {},
          "output_type": "display_data"
        },
        {
          "data": {
            "text/html": [
              "<pre style=\"white-space:pre;overflow-x:auto;line-height:normal;font-family:Menlo,'DejaVu Sans Mono',consolas,'Courier New',monospace\">PXL_GD18_TUE_OFF\n",
              "</pre>\n"
            ],
            "text/plain": [
              "PXL_GD18_TUE_OFF\n"
            ]
          },
          "metadata": {},
          "output_type": "display_data"
        },
        {
          "data": {
            "text/html": [
              "<pre style=\"white-space:pre;overflow-x:auto;line-height:normal;font-family:Menlo,'DejaVu Sans Mono',consolas,'Courier New',monospace\">PXL_PTSY2.5_SUN_OFF\n",
              "</pre>\n"
            ],
            "text/plain": [
              "PXL_PTSY2.5_SUN_OFF\n"
            ]
          },
          "metadata": {},
          "output_type": "display_data"
        },
        {
          "data": {
            "text/html": [
              "<pre style=\"white-space:pre;overflow-x:auto;line-height:normal;font-family:Menlo,'DejaVu Sans Mono',consolas,'Courier New',monospace\">PXL_VP20_SUN_OFF\n",
              "</pre>\n"
            ],
            "text/plain": [
              "PXL_VP20_SUN_OFF\n"
            ]
          },
          "metadata": {},
          "output_type": "display_data"
        },
        {
          "data": {
            "text/html": [
              "<pre style=\"white-space:pre;overflow-x:auto;line-height:normal;font-family:Menlo,'DejaVu Sans Mono',consolas,'Courier New',monospace\">PXL_PTSY2.4_SAT_OFF\n",
              "</pre>\n"
            ],
            "text/plain": [
              "PXL_PTSY2.4_SAT_OFF\n"
            ]
          },
          "metadata": {},
          "output_type": "display_data"
        },
        {
          "data": {
            "text/html": [
              "<pre style=\"white-space:pre;overflow-x:auto;line-height:normal;font-family:Menlo,'DejaVu Sans Mono',consolas,'Courier New',monospace\">PXL_PTSY2.3_SUN_OFF\n",
              "</pre>\n"
            ],
            "text/plain": [
              "PXL_PTSY2.3_SUN_OFF\n"
            ]
          },
          "metadata": {},
          "output_type": "display_data"
        },
        {
          "data": {
            "text/html": [
              "<pre style=\"white-space:pre;overflow-x:auto;line-height:normal;font-family:Menlo,'DejaVu Sans Mono',consolas,'Courier New',monospace\">PXL_GD16_SAT_OFF\n",
              "</pre>\n"
            ],
            "text/plain": [
              "PXL_GD16_SAT_OFF\n"
            ]
          },
          "metadata": {},
          "output_type": "display_data"
        },
        {
          "data": {
            "text/html": [
              "<pre style=\"white-space:pre;overflow-x:auto;line-height:normal;font-family:Menlo,'DejaVu Sans Mono',consolas,'Courier New',monospace\">PXL_WDY1.4_TUE_OFF\n",
              "</pre>\n"
            ],
            "text/plain": [
              "PXL_WDY1.4_TUE_OFF\n"
            ]
          },
          "metadata": {},
          "output_type": "display_data"
        },
        {
          "data": {
            "text/html": [
              "<pre style=\"white-space:pre;overflow-x:auto;line-height:normal;font-family:Menlo,'DejaVu Sans Mono',consolas,'Courier New',monospace\">PXL_PTSY1.7_SUN_OFF\n",
              "</pre>\n"
            ],
            "text/plain": [
              "PXL_PTSY1.7_SUN_OFF\n"
            ]
          },
          "metadata": {},
          "output_type": "display_data"
        },
        {
          "data": {
            "text/html": [
              "<pre style=\"white-space:pre;overflow-x:auto;line-height:normal;font-family:Menlo,'DejaVu Sans Mono',consolas,'Courier New',monospace\">PXL_PTSY1.6_SAT_OFF\n",
              "</pre>\n"
            ],
            "text/plain": [
              "PXL_PTSY1.6_SAT_OFF\n"
            ]
          },
          "metadata": {},
          "output_type": "display_data"
        },
        {
          "data": {
            "text/html": [
              "<pre style=\"white-space:pre;overflow-x:auto;line-height:normal;font-family:Menlo,'DejaVu Sans Mono',consolas,'Courier New',monospace\">PXL_DL5_FRI_OFF\n",
              "</pre>\n"
            ],
            "text/plain": [
              "PXL_DL5_FRI_OFF\n"
            ]
          },
          "metadata": {},
          "output_type": "display_data"
        },
        {
          "data": {
            "text/html": [
              "<pre style=\"white-space:pre;overflow-x:auto;line-height:normal;font-family:Menlo,'DejaVu Sans Mono',consolas,'Courier New',monospace\">PXL_GD14_SUN_OFF\n",
              "</pre>\n"
            ],
            "text/plain": [
              "PXL_GD14_SUN_OFF\n"
            ]
          },
          "metadata": {},
          "output_type": "display_data"
        },
        {
          "data": {
            "text/html": [
              "<pre style=\"white-space:pre;overflow-x:auto;line-height:normal;font-family:Menlo,'DejaVu Sans Mono',consolas,'Courier New',monospace\">PXL_GD13_SAT_OFF\n",
              "</pre>\n"
            ],
            "text/plain": [
              "PXL_GD13_SAT_OFF\n"
            ]
          },
          "metadata": {},
          "output_type": "display_data"
        },
        {
          "data": {
            "text/html": [
              "<pre style=\"white-space:pre;overflow-x:auto;line-height:normal;font-family:Menlo,'DejaVu Sans Mono',consolas,'Courier New',monospace\">PXL_PTSY1.5_SUN_OFF\n",
              "</pre>\n"
            ],
            "text/plain": [
              "PXL_PTSY1.5_SUN_OFF\n"
            ]
          },
          "metadata": {},
          "output_type": "display_data"
        },
        {
          "data": {
            "text/html": [
              "<pre style=\"white-space:pre;overflow-x:auto;line-height:normal;font-family:Menlo,'DejaVu Sans Mono',consolas,'Courier New',monospace\">PXL_DL4_SAT_OFF\n",
              "</pre>\n"
            ],
            "text/plain": [
              "PXL_DL4_SAT_OFF\n"
            ]
          },
          "metadata": {},
          "output_type": "display_data"
        },
        {
          "data": {
            "text/html": [
              "<pre style=\"white-space:pre;overflow-x:auto;line-height:normal;font-family:Menlo,'DejaVu Sans Mono',consolas,'Courier New',monospace\">PXL_VP19_SUN_OFF\n",
              "</pre>\n"
            ],
            "text/plain": [
              "PXL_VP19_SUN_OFF\n"
            ]
          },
          "metadata": {},
          "output_type": "display_data"
        },
        {
          "data": {
            "text/html": [
              "<pre style=\"white-space:pre;overflow-x:auto;line-height:normal;font-family:Menlo,'DejaVu Sans Mono',consolas,'Courier New',monospace\">PXL_VP18_SUN_OFF\n",
              "</pre>\n"
            ],
            "text/plain": [
              "PXL_VP18_SUN_OFF\n"
            ]
          },
          "metadata": {},
          "output_type": "display_data"
        },
        {
          "data": {
            "text/html": [
              "<pre style=\"white-space:pre;overflow-x:auto;line-height:normal;font-family:Menlo,'DejaVu Sans Mono',consolas,'Courier New',monospace\">PXL_GD12_SUN_OFF\n",
              "</pre>\n"
            ],
            "text/plain": [
              "PXL_GD12_SUN_OFF\n"
            ]
          },
          "metadata": {},
          "output_type": "display_data"
        },
        {
          "data": {
            "text/html": [
              "<pre style=\"white-space:pre;overflow-x:auto;line-height:normal;font-family:Menlo,'DejaVu Sans Mono',consolas,'Courier New',monospace\">PXL_VP17_FRI_OFF\n",
              "</pre>\n"
            ],
            "text/plain": [
              "PXL_VP17_FRI_OFF\n"
            ]
          },
          "metadata": {},
          "output_type": "display_data"
        },
        {
          "data": {
            "text/html": [
              "<pre style=\"white-space:pre;overflow-x:auto;line-height:normal;font-family:Menlo,'DejaVu Sans Mono',consolas,'Courier New',monospace\">PXL_CK11_SAT_OFF\n",
              "</pre>\n"
            ],
            "text/plain": [
              "PXL_CK11_SAT_OFF\n"
            ]
          },
          "metadata": {},
          "output_type": "display_data"
        },
        {
          "data": {
            "text/html": [
              "<pre style=\"white-space:pre;overflow-x:auto;line-height:normal;font-family:Menlo,'DejaVu Sans Mono',consolas,'Courier New',monospace\">PXL_GD11_SUN_OFF (PRIVATE)\n",
              "</pre>\n"
            ],
            "text/plain": [
              "PXL_GD11_SUN_OFF (PRIVATE)\n"
            ]
          },
          "metadata": {},
          "output_type": "display_data"
        },
        {
          "data": {
            "text/html": [
              "<pre style=\"white-space:pre;overflow-x:auto;line-height:normal;font-family:Menlo,'DejaVu Sans Mono',consolas,'Courier New',monospace\">PXL_GD10_SUN_OFF\n",
              "</pre>\n"
            ],
            "text/plain": [
              "PXL_GD10_SUN_OFF\n"
            ]
          },
          "metadata": {},
          "output_type": "display_data"
        },
        {
          "data": {
            "text/html": [
              "<pre style=\"white-space:pre;overflow-x:auto;line-height:normal;font-family:Menlo,'DejaVu Sans Mono',consolas,'Courier New',monospace\">PXL_VP16_TUE_OFF\n",
              "</pre>\n"
            ],
            "text/plain": [
              "PXL_VP16_TUE_OFF\n"
            ]
          },
          "metadata": {},
          "output_type": "display_data"
        },
        {
          "data": {
            "text/html": [
              "<pre style=\"white-space:pre;overflow-x:auto;line-height:normal;font-family:Menlo,'DejaVu Sans Mono',consolas,'Courier New',monospace\">PXL_VP14_MON_OFF\n",
              "</pre>\n"
            ],
            "text/plain": [
              "PXL_VP14_MON_OFF\n"
            ]
          },
          "metadata": {},
          "output_type": "display_data"
        },
        {
          "data": {
            "text/html": [
              "<pre style=\"white-space:pre;overflow-x:auto;line-height:normal;font-family:Menlo,'DejaVu Sans Mono',consolas,'Courier New',monospace\">PXL_GD9_MON_OFF\n",
              "</pre>\n"
            ],
            "text/plain": [
              "PXL_GD9_MON_OFF\n"
            ]
          },
          "metadata": {},
          "output_type": "display_data"
        },
        {
          "data": {
            "text/html": [
              "<pre style=\"white-space:pre;overflow-x:auto;line-height:normal;font-family:Menlo,'DejaVu Sans Mono',consolas,'Courier New',monospace\">PXL_WDY1.3_MON_OFF\n",
              "</pre>\n"
            ],
            "text/plain": [
              "PXL_WDY1.3_MON_OFF\n"
            ]
          },
          "metadata": {},
          "output_type": "display_data"
        },
        {
          "data": {
            "text/html": [
              "<pre style=\"white-space:pre;overflow-x:auto;line-height:normal;font-family:Menlo,'DejaVu Sans Mono',consolas,'Courier New',monospace\">PXL_VP13_MON_OFF\n",
              "</pre>\n"
            ],
            "text/plain": [
              "PXL_VP13_MON_OFF\n"
            ]
          },
          "metadata": {},
          "output_type": "display_data"
        },
        {
          "data": {
            "text/html": [
              "<pre style=\"white-space:pre;overflow-x:auto;line-height:normal;font-family:Menlo,'DejaVu Sans Mono',consolas,'Courier New',monospace\">PXL_WDY1.2_SAT_OFF\n",
              "</pre>\n"
            ],
            "text/plain": [
              "PXL_WDY1.2_SAT_OFF\n"
            ]
          },
          "metadata": {},
          "output_type": "display_data"
        },
        {
          "data": {
            "text/html": [
              "<pre style=\"white-space:pre;overflow-x:auto;line-height:normal;font-family:Menlo,'DejaVu Sans Mono',consolas,'Courier New',monospace\">PXL_VP12_MON_OFF\n",
              "</pre>\n"
            ],
            "text/plain": [
              "PXL_VP12_MON_OFF\n"
            ]
          },
          "metadata": {},
          "output_type": "display_data"
        },
        {
          "data": {
            "text/html": [
              "<pre style=\"white-space:pre;overflow-x:auto;line-height:normal;font-family:Menlo,'DejaVu Sans Mono',consolas,'Courier New',monospace\">PXL_GD8_SUN_OFF\n",
              "</pre>\n"
            ],
            "text/plain": [
              "PXL_GD8_SUN_OFF\n"
            ]
          },
          "metadata": {},
          "output_type": "display_data"
        },
        {
          "data": {
            "text/html": [
              "<pre style=\"white-space:pre;overflow-x:auto;line-height:normal;font-family:Menlo,'DejaVu Sans Mono',consolas,'Courier New',monospace\">PXL_CK9_SUN_OFF\n",
              "</pre>\n"
            ],
            "text/plain": [
              "PXL_CK9_SUN_OFF\n"
            ]
          },
          "metadata": {},
          "output_type": "display_data"
        },
        {
          "data": {
            "text/html": [
              "<pre style=\"white-space:pre;overflow-x:auto;line-height:normal;font-family:Menlo,'DejaVu Sans Mono',consolas,'Courier New',monospace\">PXL_CK8_SAT_OFF\n",
              "</pre>\n"
            ],
            "text/plain": [
              "PXL_CK8_SAT_OFF\n"
            ]
          },
          "metadata": {},
          "output_type": "display_data"
        },
        {
          "data": {
            "text/html": [
              "<pre style=\"white-space:pre;overflow-x:auto;line-height:normal;font-family:Menlo,'DejaVu Sans Mono',consolas,'Courier New',monospace\">PXL_VP11_SAT_OFF\n",
              "</pre>\n"
            ],
            "text/plain": [
              "PXL_VP11_SAT_OFF\n"
            ]
          },
          "metadata": {},
          "output_type": "display_data"
        },
        {
          "data": {
            "text/html": [
              "<pre style=\"white-space:pre;overflow-x:auto;line-height:normal;font-family:Menlo,'DejaVu Sans Mono',consolas,'Courier New',monospace\">PXL_CK7_FRI_OFF\n",
              "</pre>\n"
            ],
            "text/plain": [
              "PXL_CK7_FRI_OFF\n"
            ]
          },
          "metadata": {},
          "output_type": "display_data"
        },
        {
          "data": {
            "text/html": [
              "<pre style=\"white-space:pre;overflow-x:auto;line-height:normal;font-family:Menlo,'DejaVu Sans Mono',consolas,'Courier New',monospace\">PXL_VP8_SAT_OFF\n",
              "</pre>\n"
            ],
            "text/plain": [
              "PXL_VP8_SAT_OFF\n"
            ]
          },
          "metadata": {},
          "output_type": "display_data"
        },
        {
          "data": {
            "text/html": [
              "<pre style=\"white-space:pre;overflow-x:auto;line-height:normal;font-family:Menlo,'DejaVu Sans Mono',consolas,'Courier New',monospace\">PXL_DL3_SAT_OFF\n",
              "</pre>\n"
            ],
            "text/plain": [
              "PXL_DL3_SAT_OFF\n"
            ]
          },
          "metadata": {},
          "output_type": "display_data"
        },
        {
          "data": {
            "text/html": [
              "<pre style=\"white-space:pre;overflow-x:auto;line-height:normal;font-family:Menlo,'DejaVu Sans Mono',consolas,'Courier New',monospace\"></pre>\n"
            ],
            "text/plain": []
          },
          "metadata": {},
          "output_type": "display_data"
        },
        {
          "data": {
            "text/html": [
              "<pre style=\"white-space:pre;overflow-x:auto;line-height:normal;font-family:Menlo,'DejaVu Sans Mono',consolas,'Courier New',monospace\">\n",
              "</pre>\n"
            ],
            "text/plain": [
              "\n"
            ]
          },
          "metadata": {},
          "output_type": "display_data"
        },
        {
          "name": "stdout",
          "output_type": "stream",
          "text": [
            "PXL has 60 groups  \n"
          ]
        },
        {
          "data": {
            "application/vnd.jupyter.widget-view+json": {
              "model_id": "a19f14c22ebb4b518ac9b64def9b03d6",
              "version_major": 2,
              "version_minor": 0
            },
            "text/plain": [
              "Output()"
            ]
          },
          "metadata": {},
          "output_type": "display_data"
        },
        {
          "data": {
            "text/html": [
              "<pre style=\"white-space:pre;overflow-x:auto;line-height:normal;font-family:Menlo,'DejaVu Sans Mono',consolas,'Courier New',monospace\">Non\n",
              "</pre>\n"
            ],
            "text/plain": [
              "Non\n"
            ]
          },
          "metadata": {},
          "output_type": "display_data"
        },
        {
          "name": "stdout",
          "output_type": "stream",
          "text": [
            "50\n"
          ]
        },
        {
          "data": {
            "text/html": [
              "<pre style=\"white-space:pre;overflow-x:auto;line-height:normal;font-family:Menlo,'DejaVu Sans Mono',consolas,'Courier New',monospace\">Non invalid literal for int() with base 10: 'S'\n",
              "</pre>\n"
            ],
            "text/plain": [
              "Non invalid literal for int() with base 10: 'S'\n"
            ]
          },
          "metadata": {},
          "output_type": "display_data"
        },
        {
          "data": {
            "text/html": [
              "<pre style=\"white-space:pre;overflow-x:auto;line-height:normal;font-family:Menlo,'DejaVu Sans Mono',consolas,'Courier New',monospace\">VCP_PTPY2.3_THU_OFF\n",
              "</pre>\n"
            ],
            "text/plain": [
              "VCP_PTPY2.3_THU_OFF\n"
            ]
          },
          "metadata": {},
          "output_type": "display_data"
        },
        {
          "data": {
            "text/html": [
              "<pre style=\"white-space:pre;overflow-x:auto;line-height:normal;font-family:Menlo,'DejaVu Sans Mono',consolas,'Courier New',monospace\">VCP_PTSY1.16_MON_OFF\n",
              "</pre>\n"
            ],
            "text/plain": [
              "VCP_PTSY1.16_MON_OFF\n"
            ]
          },
          "metadata": {},
          "output_type": "display_data"
        },
        {
          "data": {
            "text/html": [
              "<pre style=\"white-space:pre;overflow-x:auto;line-height:normal;font-family:Menlo,'DejaVu Sans Mono',consolas,'Courier New',monospace\">VCP_GD29_FRI_OFF\n",
              "</pre>\n"
            ],
            "text/plain": [
              "VCP_GD29_FRI_OFF\n"
            ]
          },
          "metadata": {},
          "output_type": "display_data"
        },
        {
          "data": {
            "text/html": [
              "<pre style=\"white-space:pre;overflow-x:auto;line-height:normal;font-family:Menlo,'DejaVu Sans Mono',consolas,'Courier New',monospace\">VCP_WDY2.3_WED_OFF\n",
              "</pre>\n"
            ],
            "text/plain": [
              "VCP_WDY2.3_WED_OFF\n"
            ]
          },
          "metadata": {},
          "output_type": "display_data"
        },
        {
          "data": {
            "text/html": [
              "<pre style=\"white-space:pre;overflow-x:auto;line-height:normal;font-family:Menlo,'DejaVu Sans Mono',consolas,'Courier New',monospace\">VCP_GD28_TUE_OFF\n",
              "</pre>\n"
            ],
            "text/plain": [
              "VCP_GD28_TUE_OFF\n"
            ]
          },
          "metadata": {},
          "output_type": "display_data"
        },
        {
          "data": {
            "text/html": [
              "<pre style=\"white-space:pre;overflow-x:auto;line-height:normal;font-family:Menlo,'DejaVu Sans Mono',consolas,'Courier New',monospace\">VCP_PTPY1.4_SUN_ONL\n",
              "</pre>\n"
            ],
            "text/plain": [
              "VCP_PTPY1.4_SUN_ONL\n"
            ]
          },
          "metadata": {},
          "output_type": "display_data"
        },
        {
          "data": {
            "text/html": [
              "<pre style=\"white-space:pre;overflow-x:auto;line-height:normal;font-family:Menlo,'DejaVu Sans Mono',consolas,'Courier New',monospace\">VCP_WDY1.7_TUE_OFF\n",
              "</pre>\n"
            ],
            "text/plain": [
              "VCP_WDY1.7_TUE_OFF\n"
            ]
          },
          "metadata": {},
          "output_type": "display_data"
        },
        {
          "data": {
            "text/html": [
              "<pre style=\"white-space:pre;overflow-x:auto;line-height:normal;font-family:Menlo,'DejaVu Sans Mono',consolas,'Courier New',monospace\">VCP_VP25_SUN_OFF\n",
              "</pre>\n"
            ],
            "text/plain": [
              "VCP_VP25_SUN_OFF\n"
            ]
          },
          "metadata": {},
          "output_type": "display_data"
        },
        {
          "data": {
            "text/html": [
              "<pre style=\"white-space:pre;overflow-x:auto;line-height:normal;font-family:Menlo,'DejaVu Sans Mono',consolas,'Courier New',monospace\">VCP_VP24_SAT_OFF\n",
              "</pre>\n"
            ],
            "text/plain": [
              "VCP_VP24_SAT_OFF\n"
            ]
          },
          "metadata": {},
          "output_type": "display_data"
        },
        {
          "data": {
            "text/html": [
              "<pre style=\"white-space:pre;overflow-x:auto;line-height:normal;font-family:Menlo,'DejaVu Sans Mono',consolas,'Courier New',monospace\">VCP_GD27_SUN_OFF\n",
              "</pre>\n"
            ],
            "text/plain": [
              "VCP_GD27_SUN_OFF\n"
            ]
          },
          "metadata": {},
          "output_type": "display_data"
        },
        {
          "data": {
            "text/html": [
              "<pre style=\"white-space:pre;overflow-x:auto;line-height:normal;font-family:Menlo,'DejaVu Sans Mono',consolas,'Courier New',monospace\">VCP_WDY1.6_SUN_OFF\n",
              "</pre>\n"
            ],
            "text/plain": [
              "VCP_WDY1.6_SUN_OFF\n"
            ]
          },
          "metadata": {},
          "output_type": "display_data"
        },
        {
          "data": {
            "text/html": [
              "<pre style=\"white-space:pre;overflow-x:auto;line-height:normal;font-family:Menlo,'DejaVu Sans Mono',consolas,'Courier New',monospace\">VCP_CK14_SAT_OFF\n",
              "</pre>\n"
            ],
            "text/plain": [
              "VCP_CK14_SAT_OFF\n"
            ]
          },
          "metadata": {},
          "output_type": "display_data"
        },
        {
          "data": {
            "text/html": [
              "<pre style=\"white-space:pre;overflow-x:auto;line-height:normal;font-family:Menlo,'DejaVu Sans Mono',consolas,'Courier New',monospace\">VCP_GD26_MON_OFF\n",
              "</pre>\n"
            ],
            "text/plain": [
              "VCP_GD26_MON_OFF\n"
            ]
          },
          "metadata": {},
          "output_type": "display_data"
        },
        {
          "data": {
            "text/html": [
              "<pre style=\"white-space:pre;overflow-x:auto;line-height:normal;font-family:Menlo,'DejaVu Sans Mono',consolas,'Courier New',monospace\">VCP_WDY2.2_FRI_ONL\n",
              "</pre>\n"
            ],
            "text/plain": [
              "VCP_WDY2.2_FRI_ONL\n"
            ]
          },
          "metadata": {},
          "output_type": "display_data"
        },
        {
          "data": {
            "text/html": [
              "<pre style=\"white-space:pre;overflow-x:auto;line-height:normal;font-family:Menlo,'DejaVu Sans Mono',consolas,'Courier New',monospace\">VCP_WDY1.5_TUE_ONL\n",
              "</pre>\n"
            ],
            "text/plain": [
              "VCP_WDY1.5_TUE_ONL\n"
            ]
          },
          "metadata": {},
          "output_type": "display_data"
        },
        {
          "data": {
            "text/html": [
              "<pre style=\"white-space:pre;overflow-x:auto;line-height:normal;font-family:Menlo,'DejaVu Sans Mono',consolas,'Courier New',monospace\">VCP_GD25_THU_OFF\n",
              "</pre>\n"
            ],
            "text/plain": [
              "VCP_GD25_THU_OFF\n"
            ]
          },
          "metadata": {},
          "output_type": "display_data"
        },
        {
          "data": {
            "text/html": [
              "<pre style=\"white-space:pre;overflow-x:auto;line-height:normal;font-family:Menlo,'DejaVu Sans Mono',consolas,'Courier New',monospace\">VCP_PTPY2.1_SAT_OFF\n",
              "</pre>\n"
            ],
            "text/plain": [
              "VCP_PTPY2.1_SAT_OFF\n"
            ]
          },
          "metadata": {},
          "output_type": "display_data"
        },
        {
          "data": {
            "text/html": [
              "<pre style=\"white-space:pre;overflow-x:auto;line-height:normal;font-family:Menlo,'DejaVu Sans Mono',consolas,'Courier New',monospace\">VCP_PTSY2.7_SUN_OFF\n",
              "</pre>\n"
            ],
            "text/plain": [
              "VCP_PTSY2.7_SUN_OFF\n"
            ]
          },
          "metadata": {},
          "output_type": "display_data"
        },
        {
          "data": {
            "text/html": [
              "<pre style=\"white-space:pre;overflow-x:auto;line-height:normal;font-family:Menlo,'DejaVu Sans Mono',consolas,'Courier New',monospace\">VCP_WDY2.1_SAT_OFF\n",
              "</pre>\n"
            ],
            "text/plain": [
              "VCP_WDY2.1_SAT_OFF\n"
            ]
          },
          "metadata": {},
          "output_type": "display_data"
        },
        {
          "data": {
            "text/html": [
              "<pre style=\"white-space:pre;overflow-x:auto;line-height:normal;font-family:Menlo,'DejaVu Sans Mono',consolas,'Courier New',monospace\">VCP_GD24_THU_OFF\n",
              "</pre>\n"
            ],
            "text/plain": [
              "VCP_GD24_THU_OFF\n"
            ]
          },
          "metadata": {},
          "output_type": "display_data"
        },
        {
          "data": {
            "text/html": [
              "<pre style=\"white-space:pre;overflow-x:auto;line-height:normal;font-family:Menlo,'DejaVu Sans Mono',consolas,'Courier New',monospace\">VCP_GD23_WED_ONL\n",
              "</pre>\n"
            ],
            "text/plain": [
              "VCP_GD23_WED_ONL\n"
            ]
          },
          "metadata": {},
          "output_type": "display_data"
        },
        {
          "data": {
            "text/html": [
              "<pre style=\"white-space:pre;overflow-x:auto;line-height:normal;font-family:Menlo,'DejaVu Sans Mono',consolas,'Courier New',monospace\">VCP_GD22_SUN_OFF\n",
              "</pre>\n"
            ],
            "text/plain": [
              "VCP_GD22_SUN_OFF\n"
            ]
          },
          "metadata": {},
          "output_type": "display_data"
        },
        {
          "data": {
            "text/html": [
              "<pre style=\"white-space:pre;overflow-x:auto;line-height:normal;font-family:Menlo,'DejaVu Sans Mono',consolas,'Courier New',monospace\">VCP_VP22_SUN_OFF\n",
              "</pre>\n"
            ],
            "text/plain": [
              "VCP_VP22_SUN_OFF\n"
            ]
          },
          "metadata": {},
          "output_type": "display_data"
        },
        {
          "data": {
            "text/html": [
              "<pre style=\"white-space:pre;overflow-x:auto;line-height:normal;font-family:Menlo,'DejaVu Sans Mono',consolas,'Courier New',monospace\">VCP_CK13_SUN_OFF\n",
              "</pre>\n"
            ],
            "text/plain": [
              "VCP_CK13_SUN_OFF\n"
            ]
          },
          "metadata": {},
          "output_type": "display_data"
        },
        {
          "data": {
            "text/html": [
              "<pre style=\"white-space:pre;overflow-x:auto;line-height:normal;font-family:Menlo,'DejaVu Sans Mono',consolas,'Courier New',monospace\">VCP_GD21_SAT_OFF\n",
              "</pre>\n"
            ],
            "text/plain": [
              "VCP_GD21_SAT_OFF\n"
            ]
          },
          "metadata": {},
          "output_type": "display_data"
        },
        {
          "data": {
            "text/html": [
              "<pre style=\"white-space:pre;overflow-x:auto;line-height:normal;font-family:Menlo,'DejaVu Sans Mono',consolas,'Courier New',monospace\">VCP_GD20_SAT_OFF\n",
              "</pre>\n"
            ],
            "text/plain": [
              "VCP_GD20_SAT_OFF\n"
            ]
          },
          "metadata": {},
          "output_type": "display_data"
        },
        {
          "data": {
            "text/html": [
              "<pre style=\"white-space:pre;overflow-x:auto;line-height:normal;font-family:Menlo,'DejaVu Sans Mono',consolas,'Courier New',monospace\">VCP_VP21_SUN_OFF\n",
              "</pre>\n"
            ],
            "text/plain": [
              "VCP_VP21_SUN_OFF\n"
            ]
          },
          "metadata": {},
          "output_type": "display_data"
        },
        {
          "data": {
            "text/html": [
              "<pre style=\"white-space:pre;overflow-x:auto;line-height:normal;font-family:Menlo,'DejaVu Sans Mono',consolas,'Courier New',monospace\">VCP_PTSY1.15_SUN_OFF\n",
              "</pre>\n"
            ],
            "text/plain": [
              "VCP_PTSY1.15_SUN_OFF\n"
            ]
          },
          "metadata": {},
          "output_type": "display_data"
        },
        {
          "data": {
            "text/html": [
              "<pre style=\"white-space:pre;overflow-x:auto;line-height:normal;font-family:Menlo,'DejaVu Sans Mono',consolas,'Courier New',monospace\">VCP_DL5_SAT_OFF\n",
              "</pre>\n"
            ],
            "text/plain": [
              "VCP_DL5_SAT_OFF\n"
            ]
          },
          "metadata": {},
          "output_type": "display_data"
        },
        {
          "data": {
            "text/html": [
              "<pre style=\"white-space:pre;overflow-x:auto;line-height:normal;font-family:Menlo,'DejaVu Sans Mono',consolas,'Courier New',monospace\">VCP_GD19_TUE_OFF\n",
              "</pre>\n"
            ],
            "text/plain": [
              "VCP_GD19_TUE_OFF\n"
            ]
          },
          "metadata": {},
          "output_type": "display_data"
        },
        {
          "data": {
            "text/html": [
              "<pre style=\"white-space:pre;overflow-x:auto;line-height:normal;font-family:Menlo,'DejaVu Sans Mono',consolas,'Courier New',monospace\">VCP_PTSY1.14_TUE_OFF\n",
              "</pre>\n"
            ],
            "text/plain": [
              "VCP_PTSY1.14_TUE_OFF\n"
            ]
          },
          "metadata": {},
          "output_type": "display_data"
        },
        {
          "data": {
            "text/html": [
              "<pre style=\"white-space:pre;overflow-x:auto;line-height:normal;font-family:Menlo,'DejaVu Sans Mono',consolas,'Courier New',monospace\">VCP_GD18_SAT_OFF\n",
              "</pre>\n"
            ],
            "text/plain": [
              "VCP_GD18_SAT_OFF\n"
            ]
          },
          "metadata": {},
          "output_type": "display_data"
        },
        {
          "data": {
            "text/html": [
              "<pre style=\"white-space:pre;overflow-x:auto;line-height:normal;font-family:Menlo,'DejaVu Sans Mono',consolas,'Courier New',monospace\">VCP_PTSY2.6_SAT_OFF\n",
              "</pre>\n"
            ],
            "text/plain": [
              "VCP_PTSY2.6_SAT_OFF\n"
            ]
          },
          "metadata": {},
          "output_type": "display_data"
        },
        {
          "data": {
            "text/html": [
              "<pre style=\"white-space:pre;overflow-x:auto;line-height:normal;font-family:Menlo,'DejaVu Sans Mono',consolas,'Courier New',monospace\">VCP_VP20_SUN_OFF\n",
              "</pre>\n"
            ],
            "text/plain": [
              "VCP_VP20_SUN_OFF\n"
            ]
          },
          "metadata": {},
          "output_type": "display_data"
        },
        {
          "data": {
            "text/html": [
              "<pre style=\"white-space:pre;overflow-x:auto;line-height:normal;font-family:Menlo,'DejaVu Sans Mono',consolas,'Courier New',monospace\">VCP_PTSY1.13_MON_ONL\n",
              "</pre>\n"
            ],
            "text/plain": [
              "VCP_PTSY1.13_MON_ONL\n"
            ]
          },
          "metadata": {},
          "output_type": "display_data"
        },
        {
          "data": {
            "text/html": [
              "<pre style=\"white-space:pre;overflow-x:auto;line-height:normal;font-family:Menlo,'DejaVu Sans Mono',consolas,'Courier New',monospace\">VCP_PTSY1.12_WED_OFF\n",
              "</pre>\n"
            ],
            "text/plain": [
              "VCP_PTSY1.12_WED_OFF\n"
            ]
          },
          "metadata": {},
          "output_type": "display_data"
        },
        {
          "data": {
            "text/html": [
              "<pre style=\"white-space:pre;overflow-x:auto;line-height:normal;font-family:Menlo,'DejaVu Sans Mono',consolas,'Courier New',monospace\">VCP_VP19_THU_OFF\n",
              "</pre>\n"
            ],
            "text/plain": [
              "VCP_VP19_THU_OFF\n"
            ]
          },
          "metadata": {},
          "output_type": "display_data"
        },
        {
          "data": {
            "text/html": [
              "<pre style=\"white-space:pre;overflow-x:auto;line-height:normal;font-family:Menlo,'DejaVu Sans Mono',consolas,'Courier New',monospace\">VCP_UGD1_SAT_OFF\n",
              "</pre>\n"
            ],
            "text/plain": [
              "VCP_UGD1_SAT_OFF\n"
            ]
          },
          "metadata": {},
          "output_type": "display_data"
        },
        {
          "data": {
            "text/html": [
              "<pre style=\"white-space:pre;overflow-x:auto;line-height:normal;font-family:Menlo,'DejaVu Sans Mono',consolas,'Courier New',monospace\">VCP_GD17_FRI_OFF\n",
              "</pre>\n"
            ],
            "text/plain": [
              "VCP_GD17_FRI_OFF\n"
            ]
          },
          "metadata": {},
          "output_type": "display_data"
        },
        {
          "data": {
            "text/html": [
              "<pre style=\"white-space:pre;overflow-x:auto;line-height:normal;font-family:Menlo,'DejaVu Sans Mono',consolas,'Courier New',monospace\">VCP_PTSY1.11_THU_ONL\n",
              "</pre>\n"
            ],
            "text/plain": [
              "VCP_PTSY1.11_THU_ONL\n"
            ]
          },
          "metadata": {},
          "output_type": "display_data"
        },
        {
          "data": {
            "text/html": [
              "<pre style=\"white-space:pre;overflow-x:auto;line-height:normal;font-family:Menlo,'DejaVu Sans Mono',consolas,'Courier New',monospace\">VCP_GD16_WED_OFF\n",
              "</pre>\n"
            ],
            "text/plain": [
              "VCP_GD16_WED_OFF\n"
            ]
          },
          "metadata": {},
          "output_type": "display_data"
        },
        {
          "data": {
            "text/html": [
              "<pre style=\"white-space:pre;overflow-x:auto;line-height:normal;font-family:Menlo,'DejaVu Sans Mono',consolas,'Courier New',monospace\">VCP_GD15_FRI_ONL\n",
              "</pre>\n"
            ],
            "text/plain": [
              "VCP_GD15_FRI_ONL\n"
            ]
          },
          "metadata": {},
          "output_type": "display_data"
        },
        {
          "data": {
            "text/html": [
              "<pre style=\"white-space:pre;overflow-x:auto;line-height:normal;font-family:Menlo,'DejaVu Sans Mono',consolas,'Courier New',monospace\">VCP_DL4_SUN_OFF\n",
              "</pre>\n"
            ],
            "text/plain": [
              "VCP_DL4_SUN_OFF\n"
            ]
          },
          "metadata": {},
          "output_type": "display_data"
        },
        {
          "data": {
            "text/html": [
              "<pre style=\"white-space:pre;overflow-x:auto;line-height:normal;font-family:Menlo,'DejaVu Sans Mono',consolas,'Courier New',monospace\">VCP_CK12_SAT_OFF\n",
              "</pre>\n"
            ],
            "text/plain": [
              "VCP_CK12_SAT_OFF\n"
            ]
          },
          "metadata": {},
          "output_type": "display_data"
        },
        {
          "data": {
            "text/html": [
              "<pre style=\"white-space:pre;overflow-x:auto;line-height:normal;font-family:Menlo,'DejaVu Sans Mono',consolas,'Courier New',monospace\">VCP_CK8_THU_OFF\n",
              "</pre>\n"
            ],
            "text/plain": [
              "VCP_CK8_THU_OFF\n"
            ]
          },
          "metadata": {},
          "output_type": "display_data"
        },
        {
          "data": {
            "text/html": [
              "<pre style=\"white-space:pre;overflow-x:auto;line-height:normal;font-family:Menlo,'DejaVu Sans Mono',consolas,'Courier New',monospace\">VCP_GD14_MON_OFF\n",
              "</pre>\n"
            ],
            "text/plain": [
              "VCP_GD14_MON_OFF\n"
            ]
          },
          "metadata": {},
          "output_type": "display_data"
        },
        {
          "data": {
            "text/html": [
              "<pre style=\"white-space:pre;overflow-x:auto;line-height:normal;font-family:Menlo,'DejaVu Sans Mono',consolas,'Courier New',monospace\">VCP_PTSY2.5_TUE_OFF (PRIVATE)\n",
              "</pre>\n"
            ],
            "text/plain": [
              "VCP_PTSY2.5_TUE_OFF (PRIVATE)\n"
            ]
          },
          "metadata": {},
          "output_type": "display_data"
        },
        {
          "data": {
            "text/html": [
              "<pre style=\"white-space:pre;overflow-x:auto;line-height:normal;font-family:Menlo,'DejaVu Sans Mono',consolas,'Courier New',monospace\">VCP_DL3_SAT_OFF\n",
              "</pre>\n"
            ],
            "text/plain": [
              "VCP_DL3_SAT_OFF\n"
            ]
          },
          "metadata": {},
          "output_type": "display_data"
        },
        {
          "data": {
            "text/html": [
              "<pre style=\"white-space:pre;overflow-x:auto;line-height:normal;font-family:Menlo,'DejaVu Sans Mono',consolas,'Courier New',monospace\">VCP_PTPY1.3_SAT_OFF\n",
              "</pre>\n"
            ],
            "text/plain": [
              "VCP_PTPY1.3_SAT_OFF\n"
            ]
          },
          "metadata": {},
          "output_type": "display_data"
        },
        {
          "data": {
            "text/html": [
              "<pre style=\"white-space:pre;overflow-x:auto;line-height:normal;font-family:Menlo,'DejaVu Sans Mono',consolas,'Courier New',monospace\"></pre>\n"
            ],
            "text/plain": []
          },
          "metadata": {},
          "output_type": "display_data"
        },
        {
          "data": {
            "text/html": [
              "<pre style=\"white-space:pre;overflow-x:auto;line-height:normal;font-family:Menlo,'DejaVu Sans Mono',consolas,'Courier New',monospace\">\n",
              "</pre>\n"
            ],
            "text/plain": [
              "\n"
            ]
          },
          "metadata": {},
          "output_type": "display_data"
        },
        {
          "name": "stdout",
          "output_type": "stream",
          "text": [
            "VCP has 49 groups  \n",
            "Done\n"
          ]
        }
      ],
      "source": [
        "def get_data(percentages):\n",
        "  feedback_need = {}\n",
        "  global nlb_groups, nvh_groups, pxl_groups, vcp_groups\n",
        "  wday = ''\n",
        "  name_PT = ''\n",
        "  for base in bases:\n",
        "      new_start_time = time.time()\n",
        "      para = f'GroupSearch%5Bid%5D=&GroupSearch%5Btitle%5D={base}&GroupSearch%5Bvenue%5D=&GroupSearch%5Bactive_student_count%5D=&GroupSearch%5BnextLessonTime%5D=&GroupSearch%5BnextLessonNumber%5D=&GroupSearch%5BnextLessonTitle%5D=&GroupSearch%5Bteacher%5D=&GroupSearch%5Bcurator%5D=&GroupSearch%5Btype%5D=&GroupSearch%5Btype%5D%5B%5D=regular&GroupSearch%5Btype%5D%5B%5D=intensive&GroupSearch%5Bstatus%5D=&GroupSearch%5BcourseContentType%5D=&GroupSearch%5BcourseContentType%5D%5B%5D=course&GroupSearch%5BcourseContentType%5D%5B%5D=intensive&GroupSearch%5BcourseStartTime%5D={date_start}+-+{date_now}&GroupSearch%5BcourseEndTime%5D={date_now}+-+{date_end}&presetType=active&export=true&name=default&exportType=html'\n",
        "      header = {\n",
        "\n",
        "          \"accept\": \"text/html,application/xhtml+xml,application/xml;q=0.9,image/avif,image/webp,image/apng,*/*;q=0.8,application/signed-exchange;v=b3;q=0.7\",\n",
        "          \"accept-language\": \"en-US,en;q=0.9,vi-VN;q=0.8,vi;q=0.7\",\n",
        "          \"cache-control\": \"max-age=0\",\n",
        "          \"sec-ch-ua\": \"\\\"Chromium\\\";v=\\\"116\\\", \\\"Not)A;Brand\\\";v=\\\"24\\\", \\\"Google Chrome\\\";v=\\\"116\\\"\",\n",
        "          \"sec-ch-ua-mobile\": \"?0\",\n",
        "          \"sec-ch-ua-platform\": \"\\\"Windows\\\"\",\n",
        "          \"sec-fetch-dest\": \"document\",\n",
        "          \"sec-fetch-mode\": \"navigate\",\n",
        "          \"sec-fetch-site\": \"same-origin\",\n",
        "          \"sec-fetch-user\": \"?1\",\n",
        "          \"upgrade-insecure-requests\": \"1\",\n",
        "          \"cookie\": \"_ym_uid=1664966280852805697; intercom-device-id-ufjpx6k3=fd3080c1-5a63-4af6-bd1f-15268d549a7e; userId=30454; _grid_page_size_schedule=35d0980fa38e2255112d0c62698773cab8aa12a81c6735caf172064b5eb6ea47a%3A2%3A%7Bi%3A0%3Bs%3A24%3A%22_grid_page_size_schedule%22%3Bi%3A1%3Bs%3A3%3A%22200%22%3B%7D; _grid_page_size=d3ebbdf9ec9235bfc4ba59572a6d3dd403a563222be148e9c705e91612194e49a%3A2%3A%7Bi%3A0%3Bs%3A15%3A%22_grid_page_size%22%3Bi%3A1%3Bs%3A3%3A%22200%22%3B%7D; _ym_d=1680775536; studentId=1700942; studentAccessToken=59839bd5ef574b15cd869fa67e04fcdf4a97e278085dee7a21dfeb1f5a33cd62; studentCreatedTimestamp=1693481460; previousPage=%2F; createdTimestamp=1693978386; accessToken=6f7fa0398bac5ce10b0d85e00fc01725eae9b60c7188cfc1963c98ed73504e82; SERVERID=b440; _backendMainSessionId=81389387a907ff2840bad3c150bb2e76; _gid=GA1.2.1044467574.1693978385; _ym_isad=2; _ym_visorc=w; _ga=GA1.2.1620969847.1664966279; _ga_3QSGZBLTE3=GS1.1.1693978384.233.1.1693978511.59.0.0; _ga_4CL98HXNQK=GS1.1.1693978385.60.1.1693978530.0.0.0\",\n",
        "          \"Referer\": f\"{DOMAINS}GroupSearch%5Bid%5D=&GroupSearch%5Btitle%5D={base}&GroupSearch%5Bvenue%5D=&GroupSearch%5Bactive_student_count%5D=&GroupSearch%5BnextLessonTime%5D=&GroupSearch%5BnextLessonNumber%5D=&GroupSearch%5BnextLessonTitle%5D=&GroupSearch%5Bteacher%5D=&GroupSearch%5Bcurator%5D=&GroupSearch%5Btype%5D=&GroupSearch%5Btype%5D%5B%5D=regular&GroupSearch%5Btype%5D%5B%5D=intensive&GroupSearch%5Btype%5D%5B%5D=individual&GroupSearch%5Bstatus%5D=&GroupSearch%5BcourseContentType%5D=&GroupSearch%5BcourseContentType%5D%5B%5D=course&GroupSearch%5BcourseContentType%5D%5B%5D=intensive&GroupSearch%5BcourseStartTime%5D={date_start}%20-%20{date_now}&GroupSearch%5BcourseEndTime%5D={date_now}%20-%20{date_end}&presetType=active\",\n",
        "          \"Referrer-Policy\": \"strict-origin-when-cross-origin\"\n",
        "          }\n",
        "\n",
        "\n",
        "      end_point = DOMAINS + para\n",
        "      res = s.get(end_point, headers = header)\n",
        "      output = res.content.decode('utf-8')\n",
        "\n",
        "      soup = BeautifulSoup(output, 'html.parser', from_encoding='utf-8')\n",
        "      soup.find('tbody')\n",
        "\n",
        "      table_rows = soup.find_all('tr')\n",
        "      groups = []\n",
        "      feedback_need = {}\n",
        "      # table_rows = list(table_rows)\n",
        "      # print(len(table_rows))\n",
        "\n",
        "      # table_rows.remove(table_rows[0])\n",
        "      date_str = ''\n",
        "      print(len(table_rows))\n",
        "      for tr in track(table_rows, description= f\"Processing {base}...\"):\n",
        "          lessons = []\n",
        "          group = []\n",
        "          all_td = tr.find_all('td')\n",
        "          group_id = all_td[0].string\n",
        "          group_name = all_td[1].find('a')\n",
        "          group_name = str(group_name)[str(group_name).find('>')+1:str(group_name).find('</a>')]\n",
        "          teacher_name = all_td[7].find('a')\n",
        "          teacher_name = str(teacher_name)[str(teacher_name).find('>')+1:str(teacher_name).find('</a>')]\n",
        "          for key in date.keys():\n",
        "            if key in group_name:\n",
        "                date_str = key\n",
        "                break\n",
        "          if date_str:\n",
        "            wday = date[date_str]\n",
        "          all_li = all_td[1].find('p')\n",
        "          if group_name is None or str(group_name) == \"NVH_UGD2_MON/WED_OFF (PRIVATE)\":\n",
        "                continue\n",
        "          campus = all_td[2].string\n",
        "          amount_student = all_td[3].string\n",
        "          next_lesson_time = all_td[4].string\n",
        "          next_lesson_time = str(next_lesson_time)\n",
        "          next_lesson_index = all_td[5].string\n",
        "          next_lesson_index = str(next_lesson_index)\n",
        "          next_lesson_name = all_td[6].find('div')\n",
        "          next_lesson_name = str(next_lesson_name)[str(next_lesson_name).find('>')+1:str(next_lesson_name).find('</div>')]   \n",
        "          course_start_date = all_td[12].string\n",
        "          course_end_date = all_td[13].string\n",
        "          all_li = str(all_li)\n",
        "          class_time = next_lesson_time[next_lesson_time.find(\":\")-2:]\n",
        "          url = all_li[all_li.find(\"https\"):all_li.find(\"</p>\")]\n",
        "          start = url.find(\"d/\")\n",
        "          end = url.find(\"/edit\")\n",
        "          id = url[start+2:end]\n",
        "          print(group_name)\n",
        "          if group_name == \"NVH_CK38_FRI_OFF\":\n",
        "            continue  \n",
        "          try:\n",
        "              result = sheet.values().get(spreadsheetId=id, range='Report!AC3:AC40').execute()\n",
        "              values = result.get('values', [])\n",
        "             \n",
        "              for j in values:\n",
        "                  if j[0] != \"#DIV/0!\":\n",
        "                      score = j[0]\n",
        "                      lessons.append(round(float(score), 2)) \n",
        "                  else:\n",
        "                      lessons.append(j[0])\n",
        "                  \n",
        "              if len(lessons) == 0:\n",
        "                  result = sheet.values().get(spreadsheetId=id, range='Report!AE3:AE40').execute()\n",
        "                  values = result.get('values', [])\n",
        "                  \n",
        "                  for j in values:\n",
        "                      if j[0] != \"#DIV/0!\":\n",
        "                          score = j[0]\n",
        "                          lessons.append(float(score)) \n",
        "                      else:\n",
        "                          lessons.append(j[0])\n",
        "              while len(lessons) < 38:\n",
        "                  lessons.append(\"#DIV/0!\")\n",
        "              # print(lessons)\n",
        "              if next_lesson_index == \"2\" or next_lesson_index == \"5\" or next_lesson_index == \"9\" or next_lesson_index == \"13\" or next_lesson_index == \"21\" or next_lesson_index == \"25\" or next_lesson_index == \"29\":\n",
        "                  feedback_need[group_name] = [id,int(next_lesson_index)]\n",
        "              \n",
        "              programT_name = sheet.values().get(spreadsheetId=id, range='Report!E6:M6').execute()\n",
        "              values = programT_name.get('values', [])\n",
        "              try:\n",
        "                name_PT = str(values[0][0])\n",
        "              except:\n",
        "                name_PT = \"None\"\n",
        "          except HttpError as err:\n",
        "              time.sleep(10)\n",
        "          all_li = str(all_li)\n",
        "          \n",
        "          url = all_li[all_li.find(\"https\"):all_li.find(\"</p>\")]\n",
        "          try:\n",
        "            try:\n",
        "              group = [group_id, wday, str(group_name), str(teacher_name), name_PT , class_time, str(url), str(campus), int(amount_student[0]), next_lesson_time, int(next_lesson_index), percentages[str(group_name)][0], next_lesson_name, course_start_date, course_end_date]\n",
        "\n",
        "            except:\n",
        "              group = [group_id, wday, str(group_name), str(teacher_name), name_PT , class_time, str(url), str(campus), int(amount_student[0]), next_lesson_time, int(next_lesson_index), \"TBU\", next_lesson_name, course_start_date, course_end_date]\n",
        "            # print(group_name)\n",
        "            group.extend(lessons)\n",
        "            groups.append(group)\n",
        "            \n",
        "          except ValueError as err:\n",
        "            print(group_name, err)\n",
        "          \n",
        "      time_end = time.time()\n",
        "      resource = {\n",
        "          \"majorDimension\": \"ROWS\",\n",
        "          \"values\": groups\n",
        "      }\n",
        "      cresult = sheet.values().clear(\n",
        "          spreadsheetId=\"1D8uRbAJXBJMcF0e8tXWKe5dRbiv-EW_by-SpNAxZ3qA\",\n",
        "          range=f\"{base}!A2:ZZZ\"\n",
        "        ).execute()\n",
        "      print(f\"{base} has {len(groups)} groups  \")\n",
        "      if base == \"NLB\":\n",
        "        nlb_groups = groups\n",
        "      if base == \"NVH\":\n",
        "        nvh_groups = groups\n",
        "      if base == \"PXL\":\n",
        "        pxl_groups = groups\n",
        "      if base == \"VCP\":\n",
        "        vcp_groups = groups \n",
        "      # 1EzB0-CpBYUe1J8z9jjDEPIBc3tcOwyBJZyPXN6HPZgE for testing\n",
        "      # 1D8uRbAJXBJMcF0e8tXWKe5dRbiv-EW_by-SpNAxZ3qA for real data update\n",
        "\n",
        "      result1 = sheet.values().update(\n",
        "          spreadsheetId= \"1D8uRbAJXBJMcF0e8tXWKe5dRbiv-EW_by-SpNAxZ3qA\",\n",
        "          range= f\"{base}!A2\",\n",
        "          valueInputOption=\"RAW\",\n",
        "          body=resource).execute()\n",
        "  print(\"Done\")\n",
        "  return groups\n",
        "groups = get_data(percentages)"
      ]
    },
    {
      "attachments": {},
      "cell_type": "markdown",
      "metadata": {},
      "source": [
        "get the feedback from teacher use as a data point to train AI NLP model"
      ]
    },
    {
      "cell_type": "code",
      "execution_count": 5,
      "metadata": {
        "id": "stuyAan09qPQ"
      },
      "outputs": [],
      "source": [
        "def get_feedback():\n",
        "  feedback_need,groups = get_data(percentages)\n",
        "  student_sheet  = {2 : \"C36:D45\", 5 :\"C36:D45\", 9 : \"C69:D78\", 13 : \"C102:D111\", 21 : \"C168:D177\", 25 : \"C201:D210\", 29 : \"C234:D243\"}\n",
        "  feedback_sheet = {2 : \"M36:O45\", 5 :\"S36:V45\" ,9 : \"P69:S78\", 13 : \"P102:S111\", 21 : \"P168:S177\", 25 : \"P201:S210\", 29 : \"P234:S243\"}\n",
        "  # print(feedback_need)\n",
        "  class_report = []\n",
        "  \n",
        "  for group_name,value in feedback_need.items():\n",
        "  \n",
        "\n",
        "    link = value[0]\n",
        "    lesson = value[1]\n",
        "    feed = feedback_sheet[lesson]\n",
        "    student = student_sheet[lesson]\n",
        "    try:\n",
        "      result1 = sheet.values().get(spreadsheetId=link, range=f'Report!{student}').execute()\n",
        "      values1 = result1.get('values', [])\n",
        "      result2 = sheet.values().get(spreadsheetId=link, range=f'Report!{feed}').execute()\n",
        "      values2 = result2.get('values', [])\n",
        "      \n",
        "      for i in range(len(values1)):\n",
        "        try:\n",
        "          class_report.append([group_name,lesson,values1[i][0],values2[i][0].replace(\"\\n\", \" \").replace(\"\\t\", \" \")])\n",
        "        except:\n",
        "          try:\n",
        "            class_report.append([group_name,lesson,values1[i][0],\"not yet\"])\n",
        "          except:\n",
        "            pass\n",
        "    except HttpError:\n",
        "      time.sleep(60)\n",
        "\n",
        "  return class_report\n",
        "    \n",
        "# get_feedback()"
      ]
    },
    {
      "attachments": {},
      "cell_type": "markdown",
      "metadata": {},
      "source": [
        "push to Feedback Sheet "
      ]
    },
    {
      "cell_type": "code",
      "execution_count": 6,
      "metadata": {
        "id": "h6zOQVWyA1Vo"
      },
      "outputs": [
        {
          "data": {
            "application/vnd.jupyter.widget-view+json": {
              "model_id": "fba106ef460d4b2087bc6283d92f4f8a",
              "version_major": 2,
              "version_minor": 0
            },
            "text/plain": [
              "Output()"
            ]
          },
          "metadata": {},
          "output_type": "display_data"
        },
        {
          "data": {
            "text/html": [
              "<pre style=\"white-space:pre;overflow-x:auto;line-height:normal;font-family:Menlo,'DejaVu Sans Mono',consolas,'Courier New',monospace\">Non\n",
              "</pre>\n"
            ],
            "text/plain": [
              "Non\n"
            ]
          },
          "metadata": {},
          "output_type": "display_data"
        },
        {
          "name": "stdout",
          "output_type": "stream",
          "text": [
            "125\n"
          ]
        },
        {
          "data": {
            "text/html": [
              "<pre style=\"white-space:pre;overflow-x:auto;line-height:normal;font-family:Menlo,'DejaVu Sans Mono',consolas,'Courier New',monospace\">Non invalid literal for int() with base 10: 'S'\n",
              "</pre>\n"
            ],
            "text/plain": [
              "Non invalid literal for int() with base 10: 'S'\n"
            ]
          },
          "metadata": {},
          "output_type": "display_data"
        },
        {
          "data": {
            "text/html": [
              "<pre style=\"white-space:pre;overflow-x:auto;line-height:normal;font-family:Menlo,'DejaVu Sans Mono',consolas,'Courier New',monospace\">NLB_GD73_WED_OFF (PRIVATE)\n",
              "</pre>\n"
            ],
            "text/plain": [
              "NLB_GD73_WED_OFF (PRIVATE)\n"
            ]
          },
          "metadata": {},
          "output_type": "display_data"
        },
        {
          "data": {
            "text/html": [
              "<pre style=\"white-space:pre;overflow-x:auto;line-height:normal;font-family:Menlo,'DejaVu Sans Mono',consolas,'Courier New',monospace\">NLB_CK40_TUE_OFF\n",
              "</pre>\n"
            ],
            "text/plain": [
              "NLB_CK40_TUE_OFF\n"
            ]
          },
          "metadata": {},
          "output_type": "display_data"
        },
        {
          "data": {
            "text/html": [
              "<pre style=\"white-space:pre;overflow-x:auto;line-height:normal;font-family:Menlo,'DejaVu Sans Mono',consolas,'Courier New',monospace\">NLB_VP50_WED_OFF\n",
              "</pre>\n"
            ],
            "text/plain": [
              "NLB_VP50_WED_OFF\n"
            ]
          },
          "metadata": {},
          "output_type": "display_data"
        },
        {
          "data": {
            "text/html": [
              "<pre style=\"white-space:pre;overflow-x:auto;line-height:normal;font-family:Menlo,'DejaVu Sans Mono',consolas,'Courier New',monospace\">NLB_PTPY1.17_FRI_OFF\n",
              "</pre>\n"
            ],
            "text/plain": [
              "NLB_PTPY1.17_FRI_OFF\n"
            ]
          },
          "metadata": {},
          "output_type": "display_data"
        },
        {
          "data": {
            "text/html": [
              "<pre style=\"white-space:pre;overflow-x:auto;line-height:normal;font-family:Menlo,'DejaVu Sans Mono',consolas,'Courier New',monospace\">NLB_PTSY2.30_MON/SAT_ONL (PRIVATE)\n",
              "</pre>\n"
            ],
            "text/plain": [
              "NLB_PTSY2.30_MON/SAT_ONL (PRIVATE)\n"
            ]
          },
          "metadata": {},
          "output_type": "display_data"
        },
        {
          "data": {
            "text/html": [
              "<pre style=\"white-space:pre;overflow-x:auto;line-height:normal;font-family:Menlo,'DejaVu Sans Mono',consolas,'Courier New',monospace\"></pre>\n"
            ],
            "text/plain": []
          },
          "metadata": {},
          "output_type": "display_data"
        },
        {
          "data": {
            "text/html": [
              "<pre style=\"white-space:pre;overflow-x:auto;line-height:normal;font-family:Menlo,'DejaVu Sans Mono',consolas,'Courier New',monospace\">\n",
              "</pre>\n"
            ],
            "text/plain": [
              "\n"
            ]
          },
          "metadata": {},
          "output_type": "display_data"
        },
        {
          "ename": "KeyboardInterrupt",
          "evalue": "",
          "output_type": "error",
          "traceback": [
            "\u001b[1;31m---------------------------------------------------------------------------\u001b[0m",
            "\u001b[1;31mKeyboardInterrupt\u001b[0m                         Traceback (most recent call last)",
            "Cell \u001b[1;32mIn[6], line 19\u001b[0m\n\u001b[0;32m     10\u001b[0m   resource2 \u001b[39m=\u001b[39m {\n\u001b[0;32m     11\u001b[0m         \u001b[39m\"\u001b[39m\u001b[39mmajorDimension\u001b[39m\u001b[39m\"\u001b[39m: \u001b[39m\"\u001b[39m\u001b[39mROWS\u001b[39m\u001b[39m\"\u001b[39m,\n\u001b[0;32m     12\u001b[0m         \u001b[39m\"\u001b[39m\u001b[39mvalues\u001b[39m\u001b[39m\"\u001b[39m: class_report\n\u001b[0;32m     13\u001b[0m     }\n\u001b[0;32m     14\u001b[0m   result \u001b[39m=\u001b[39m sheet\u001b[39m.\u001b[39mvalues()\u001b[39m.\u001b[39mupdate(\n\u001b[0;32m     15\u001b[0m             spreadsheetId\u001b[39m=\u001b[39m \u001b[39m\"\u001b[39m\u001b[39m1D8uRbAJXBJMcF0e8tXWKe5dRbiv-EW_by-SpNAxZ3qA\u001b[39m\u001b[39m\"\u001b[39m,\n\u001b[0;32m     16\u001b[0m             \u001b[39mrange\u001b[39m\u001b[39m=\u001b[39m \u001b[39mf\u001b[39m\u001b[39m\"\u001b[39m\u001b[39mFeedback Report!A2\u001b[39m\u001b[39m\"\u001b[39m,\n\u001b[0;32m     17\u001b[0m             valueInputOption\u001b[39m=\u001b[39m\u001b[39m\"\u001b[39m\u001b[39mRAW\u001b[39m\u001b[39m\"\u001b[39m,\n\u001b[0;32m     18\u001b[0m             body\u001b[39m=\u001b[39mresource2)\u001b[39m.\u001b[39mexecute()\n\u001b[1;32m---> 19\u001b[0m push_to_sheet()\n",
            "Cell \u001b[1;32mIn[6], line 5\u001b[0m, in \u001b[0;36mpush_to_sheet\u001b[1;34m()\u001b[0m\n\u001b[0;32m      1\u001b[0m \u001b[39mdef\u001b[39;00m \u001b[39mpush_to_sheet\u001b[39m():\n\u001b[0;32m      2\u001b[0m   \u001b[39m# print(data)\u001b[39;00m\n\u001b[0;32m      3\u001b[0m   \u001b[39m# 1EzB0-CpBYUe1J8z9jjDEPIBc3tcOwyBJZyPXN6HPZgE for testing\u001b[39;00m\n\u001b[0;32m      4\u001b[0m   \u001b[39m# 1D8uRbAJXBJMcF0e8tXWKe5dRbiv-EW_by-SpNAxZ3qA for real data update\u001b[39;00m\n\u001b[1;32m----> 5\u001b[0m   class_report \u001b[39m=\u001b[39m get_feedback()\n\u001b[0;32m      6\u001b[0m   result \u001b[39m=\u001b[39m sheet\u001b[39m.\u001b[39mvalues()\u001b[39m.\u001b[39mclear(\n\u001b[0;32m      7\u001b[0m           spreadsheetId\u001b[39m=\u001b[39m\u001b[39m\"\u001b[39m\u001b[39m1D8uRbAJXBJMcF0e8tXWKe5dRbiv-EW_by-SpNAxZ3qA\u001b[39m\u001b[39m\"\u001b[39m,\n\u001b[0;32m      8\u001b[0m           \u001b[39mrange\u001b[39m\u001b[39m=\u001b[39m\u001b[39m\"\u001b[39m\u001b[39mFeedback Report!A1:ZZZ\u001b[39m\u001b[39m\"\u001b[39m\n\u001b[0;32m      9\u001b[0m       )\u001b[39m.\u001b[39mexecute()\n\u001b[0;32m     10\u001b[0m   resource2 \u001b[39m=\u001b[39m {\n\u001b[0;32m     11\u001b[0m         \u001b[39m\"\u001b[39m\u001b[39mmajorDimension\u001b[39m\u001b[39m\"\u001b[39m: \u001b[39m\"\u001b[39m\u001b[39mROWS\u001b[39m\u001b[39m\"\u001b[39m,\n\u001b[0;32m     12\u001b[0m         \u001b[39m\"\u001b[39m\u001b[39mvalues\u001b[39m\u001b[39m\"\u001b[39m: class_report\n\u001b[0;32m     13\u001b[0m     }\n",
            "Cell \u001b[1;32mIn[5], line 2\u001b[0m, in \u001b[0;36mget_feedback\u001b[1;34m()\u001b[0m\n\u001b[0;32m      1\u001b[0m \u001b[39mdef\u001b[39;00m \u001b[39mget_feedback\u001b[39m():\n\u001b[1;32m----> 2\u001b[0m   feedback_need,groups \u001b[39m=\u001b[39m get_data(percentages)\n\u001b[0;32m      3\u001b[0m   student_sheet  \u001b[39m=\u001b[39m {\u001b[39m2\u001b[39m : \u001b[39m\"\u001b[39m\u001b[39mC36:D45\u001b[39m\u001b[39m\"\u001b[39m, \u001b[39m5\u001b[39m :\u001b[39m\"\u001b[39m\u001b[39mC36:D45\u001b[39m\u001b[39m\"\u001b[39m, \u001b[39m9\u001b[39m : \u001b[39m\"\u001b[39m\u001b[39mC69:D78\u001b[39m\u001b[39m\"\u001b[39m, \u001b[39m13\u001b[39m : \u001b[39m\"\u001b[39m\u001b[39mC102:D111\u001b[39m\u001b[39m\"\u001b[39m, \u001b[39m21\u001b[39m : \u001b[39m\"\u001b[39m\u001b[39mC168:D177\u001b[39m\u001b[39m\"\u001b[39m, \u001b[39m25\u001b[39m : \u001b[39m\"\u001b[39m\u001b[39mC201:D210\u001b[39m\u001b[39m\"\u001b[39m, \u001b[39m29\u001b[39m : \u001b[39m\"\u001b[39m\u001b[39mC234:D243\u001b[39m\u001b[39m\"\u001b[39m}\n\u001b[0;32m      4\u001b[0m   feedback_sheet \u001b[39m=\u001b[39m {\u001b[39m2\u001b[39m : \u001b[39m\"\u001b[39m\u001b[39mM36:O45\u001b[39m\u001b[39m\"\u001b[39m, \u001b[39m5\u001b[39m :\u001b[39m\"\u001b[39m\u001b[39mS36:V45\u001b[39m\u001b[39m\"\u001b[39m ,\u001b[39m9\u001b[39m : \u001b[39m\"\u001b[39m\u001b[39mP69:S78\u001b[39m\u001b[39m\"\u001b[39m, \u001b[39m13\u001b[39m : \u001b[39m\"\u001b[39m\u001b[39mP102:S111\u001b[39m\u001b[39m\"\u001b[39m, \u001b[39m21\u001b[39m : \u001b[39m\"\u001b[39m\u001b[39mP168:S177\u001b[39m\u001b[39m\"\u001b[39m, \u001b[39m25\u001b[39m : \u001b[39m\"\u001b[39m\u001b[39mP201:S210\u001b[39m\u001b[39m\"\u001b[39m, \u001b[39m29\u001b[39m : \u001b[39m\"\u001b[39m\u001b[39mP234:S243\u001b[39m\u001b[39m\"\u001b[39m}\n",
            "Cell \u001b[1;32mIn[4], line 82\u001b[0m, in \u001b[0;36mget_data\u001b[1;34m(percentages)\u001b[0m\n\u001b[0;32m     80\u001b[0m   \u001b[39mcontinue\u001b[39;00m  \n\u001b[0;32m     81\u001b[0m \u001b[39mtry\u001b[39;00m:\n\u001b[1;32m---> 82\u001b[0m     result \u001b[39m=\u001b[39m sheet\u001b[39m.\u001b[39;49mvalues()\u001b[39m.\u001b[39;49mget(spreadsheetId\u001b[39m=\u001b[39;49m\u001b[39mid\u001b[39;49m, \u001b[39mrange\u001b[39;49m\u001b[39m=\u001b[39;49m\u001b[39m'\u001b[39;49m\u001b[39mReport!AC3:AC40\u001b[39;49m\u001b[39m'\u001b[39;49m)\u001b[39m.\u001b[39;49mexecute()\n\u001b[0;32m     83\u001b[0m     values \u001b[39m=\u001b[39m result\u001b[39m.\u001b[39mget(\u001b[39m'\u001b[39m\u001b[39mvalues\u001b[39m\u001b[39m'\u001b[39m, [])\n\u001b[0;32m     85\u001b[0m     \u001b[39mfor\u001b[39;00m j \u001b[39min\u001b[39;00m values:\n",
            "File \u001b[1;32mc:\\Users\\hazaz\\AppData\\Local\\Programs\\Python\\Python310\\lib\\site-packages\\googleapiclient\\_helpers.py:130\u001b[0m, in \u001b[0;36mpositional.<locals>.positional_decorator.<locals>.positional_wrapper\u001b[1;34m(*args, **kwargs)\u001b[0m\n\u001b[0;32m    128\u001b[0m     \u001b[39melif\u001b[39;00m positional_parameters_enforcement \u001b[39m==\u001b[39m POSITIONAL_WARNING:\n\u001b[0;32m    129\u001b[0m         logger\u001b[39m.\u001b[39mwarning(message)\n\u001b[1;32m--> 130\u001b[0m \u001b[39mreturn\u001b[39;00m wrapped(\u001b[39m*\u001b[39margs, \u001b[39m*\u001b[39m\u001b[39m*\u001b[39mkwargs)\n",
            "File \u001b[1;32mc:\\Users\\hazaz\\AppData\\Local\\Programs\\Python\\Python310\\lib\\site-packages\\googleapiclient\\http.py:923\u001b[0m, in \u001b[0;36mHttpRequest.execute\u001b[1;34m(self, http, num_retries)\u001b[0m\n\u001b[0;32m    920\u001b[0m     \u001b[39mself\u001b[39m\u001b[39m.\u001b[39mheaders[\u001b[39m\"\u001b[39m\u001b[39mcontent-length\u001b[39m\u001b[39m\"\u001b[39m] \u001b[39m=\u001b[39m \u001b[39mstr\u001b[39m(\u001b[39mlen\u001b[39m(\u001b[39mself\u001b[39m\u001b[39m.\u001b[39mbody))\n\u001b[0;32m    922\u001b[0m \u001b[39m# Handle retries for server-side errors.\u001b[39;00m\n\u001b[1;32m--> 923\u001b[0m resp, content \u001b[39m=\u001b[39m _retry_request(\n\u001b[0;32m    924\u001b[0m     http,\n\u001b[0;32m    925\u001b[0m     num_retries,\n\u001b[0;32m    926\u001b[0m     \u001b[39m\"\u001b[39;49m\u001b[39mrequest\u001b[39;49m\u001b[39m\"\u001b[39;49m,\n\u001b[0;32m    927\u001b[0m     \u001b[39mself\u001b[39;49m\u001b[39m.\u001b[39;49m_sleep,\n\u001b[0;32m    928\u001b[0m     \u001b[39mself\u001b[39;49m\u001b[39m.\u001b[39;49m_rand,\n\u001b[0;32m    929\u001b[0m     \u001b[39mstr\u001b[39;49m(\u001b[39mself\u001b[39;49m\u001b[39m.\u001b[39;49muri),\n\u001b[0;32m    930\u001b[0m     method\u001b[39m=\u001b[39;49m\u001b[39mstr\u001b[39;49m(\u001b[39mself\u001b[39;49m\u001b[39m.\u001b[39;49mmethod),\n\u001b[0;32m    931\u001b[0m     body\u001b[39m=\u001b[39;49m\u001b[39mself\u001b[39;49m\u001b[39m.\u001b[39;49mbody,\n\u001b[0;32m    932\u001b[0m     headers\u001b[39m=\u001b[39;49m\u001b[39mself\u001b[39;49m\u001b[39m.\u001b[39;49mheaders,\n\u001b[0;32m    933\u001b[0m )\n\u001b[0;32m    935\u001b[0m \u001b[39mfor\u001b[39;00m callback \u001b[39min\u001b[39;00m \u001b[39mself\u001b[39m\u001b[39m.\u001b[39mresponse_callbacks:\n\u001b[0;32m    936\u001b[0m     callback(resp)\n",
            "File \u001b[1;32mc:\\Users\\hazaz\\AppData\\Local\\Programs\\Python\\Python310\\lib\\site-packages\\googleapiclient\\http.py:191\u001b[0m, in \u001b[0;36m_retry_request\u001b[1;34m(http, num_retries, req_type, sleep, rand, uri, method, *args, **kwargs)\u001b[0m\n\u001b[0;32m    189\u001b[0m \u001b[39mtry\u001b[39;00m:\n\u001b[0;32m    190\u001b[0m     exception \u001b[39m=\u001b[39m \u001b[39mNone\u001b[39;00m\n\u001b[1;32m--> 191\u001b[0m     resp, content \u001b[39m=\u001b[39m http\u001b[39m.\u001b[39mrequest(uri, method, \u001b[39m*\u001b[39margs, \u001b[39m*\u001b[39m\u001b[39m*\u001b[39mkwargs)\n\u001b[0;32m    192\u001b[0m \u001b[39m# Retry on SSL errors and socket timeout errors.\u001b[39;00m\n\u001b[0;32m    193\u001b[0m \u001b[39mexcept\u001b[39;00m _ssl_SSLError \u001b[39mas\u001b[39;00m ssl_error:\n",
            "File \u001b[1;32mc:\\Users\\hazaz\\AppData\\Local\\Programs\\Python\\Python310\\lib\\site-packages\\google_auth_httplib2.py:218\u001b[0m, in \u001b[0;36mAuthorizedHttp.request\u001b[1;34m(self, uri, method, body, headers, redirections, connection_type, **kwargs)\u001b[0m\n\u001b[0;32m    215\u001b[0m     body_stream_position \u001b[39m=\u001b[39m body\u001b[39m.\u001b[39mtell()\n\u001b[0;32m    217\u001b[0m \u001b[39m# Make the request.\u001b[39;00m\n\u001b[1;32m--> 218\u001b[0m response, content \u001b[39m=\u001b[39m \u001b[39mself\u001b[39m\u001b[39m.\u001b[39mhttp\u001b[39m.\u001b[39mrequest(\n\u001b[0;32m    219\u001b[0m     uri,\n\u001b[0;32m    220\u001b[0m     method,\n\u001b[0;32m    221\u001b[0m     body\u001b[39m=\u001b[39mbody,\n\u001b[0;32m    222\u001b[0m     headers\u001b[39m=\u001b[39mrequest_headers,\n\u001b[0;32m    223\u001b[0m     redirections\u001b[39m=\u001b[39mredirections,\n\u001b[0;32m    224\u001b[0m     connection_type\u001b[39m=\u001b[39mconnection_type,\n\u001b[0;32m    225\u001b[0m     \u001b[39m*\u001b[39m\u001b[39m*\u001b[39mkwargs\n\u001b[0;32m    226\u001b[0m )\n\u001b[0;32m    228\u001b[0m \u001b[39m# If the response indicated that the credentials needed to be\u001b[39;00m\n\u001b[0;32m    229\u001b[0m \u001b[39m# refreshed, then refresh the credentials and re-attempt the\u001b[39;00m\n\u001b[0;32m    230\u001b[0m \u001b[39m# request.\u001b[39;00m\n\u001b[0;32m    231\u001b[0m \u001b[39m# A stored token may expire between the time it is retrieved and\u001b[39;00m\n\u001b[0;32m    232\u001b[0m \u001b[39m# the time the request is made, so we may need to try twice.\u001b[39;00m\n\u001b[0;32m    233\u001b[0m \u001b[39mif\u001b[39;00m (\n\u001b[0;32m    234\u001b[0m     response\u001b[39m.\u001b[39mstatus \u001b[39min\u001b[39;00m \u001b[39mself\u001b[39m\u001b[39m.\u001b[39m_refresh_status_codes\n\u001b[0;32m    235\u001b[0m     \u001b[39mand\u001b[39;00m _credential_refresh_attempt \u001b[39m<\u001b[39m \u001b[39mself\u001b[39m\u001b[39m.\u001b[39m_max_refresh_attempts\n\u001b[0;32m    236\u001b[0m ):\n",
            "File \u001b[1;32mc:\\Users\\hazaz\\AppData\\Local\\Programs\\Python\\Python310\\lib\\site-packages\\httplib2\\__init__.py:1724\u001b[0m, in \u001b[0;36mHttp.request\u001b[1;34m(self, uri, method, body, headers, redirections, connection_type)\u001b[0m\n\u001b[0;32m   1722\u001b[0m             content \u001b[39m=\u001b[39m \u001b[39mb\u001b[39m\u001b[39m\"\u001b[39m\u001b[39m\"\u001b[39m\n\u001b[0;32m   1723\u001b[0m         \u001b[39melse\u001b[39;00m:\n\u001b[1;32m-> 1724\u001b[0m             (response, content) \u001b[39m=\u001b[39m \u001b[39mself\u001b[39;49m\u001b[39m.\u001b[39;49m_request(\n\u001b[0;32m   1725\u001b[0m                 conn, authority, uri, request_uri, method, body, headers, redirections, cachekey,\n\u001b[0;32m   1726\u001b[0m             )\n\u001b[0;32m   1727\u001b[0m \u001b[39mexcept\u001b[39;00m \u001b[39mException\u001b[39;00m \u001b[39mas\u001b[39;00m e:\n\u001b[0;32m   1728\u001b[0m     is_timeout \u001b[39m=\u001b[39m \u001b[39misinstance\u001b[39m(e, socket\u001b[39m.\u001b[39mtimeout)\n",
            "File \u001b[1;32mc:\\Users\\hazaz\\AppData\\Local\\Programs\\Python\\Python310\\lib\\site-packages\\httplib2\\__init__.py:1444\u001b[0m, in \u001b[0;36mHttp._request\u001b[1;34m(self, conn, host, absolute_uri, request_uri, method, body, headers, redirections, cachekey)\u001b[0m\n\u001b[0;32m   1441\u001b[0m \u001b[39mif\u001b[39;00m auth:\n\u001b[0;32m   1442\u001b[0m     auth\u001b[39m.\u001b[39mrequest(method, request_uri, headers, body)\n\u001b[1;32m-> 1444\u001b[0m (response, content) \u001b[39m=\u001b[39m \u001b[39mself\u001b[39;49m\u001b[39m.\u001b[39;49m_conn_request(conn, request_uri, method, body, headers)\n\u001b[0;32m   1446\u001b[0m \u001b[39mif\u001b[39;00m auth:\n\u001b[0;32m   1447\u001b[0m     \u001b[39mif\u001b[39;00m auth\u001b[39m.\u001b[39mresponse(response, body):\n",
            "File \u001b[1;32mc:\\Users\\hazaz\\AppData\\Local\\Programs\\Python\\Python310\\lib\\site-packages\\httplib2\\__init__.py:1396\u001b[0m, in \u001b[0;36mHttp._conn_request\u001b[1;34m(self, conn, request_uri, method, body, headers)\u001b[0m\n\u001b[0;32m   1394\u001b[0m     \u001b[39mpass\u001b[39;00m\n\u001b[0;32m   1395\u001b[0m \u001b[39mtry\u001b[39;00m:\n\u001b[1;32m-> 1396\u001b[0m     response \u001b[39m=\u001b[39m conn\u001b[39m.\u001b[39;49mgetresponse()\n\u001b[0;32m   1397\u001b[0m \u001b[39mexcept\u001b[39;00m (http\u001b[39m.\u001b[39mclient\u001b[39m.\u001b[39mBadStatusLine, http\u001b[39m.\u001b[39mclient\u001b[39m.\u001b[39mResponseNotReady):\n\u001b[0;32m   1398\u001b[0m     \u001b[39m# If we get a BadStatusLine on the first try then that means\u001b[39;00m\n\u001b[0;32m   1399\u001b[0m     \u001b[39m# the connection just went stale, so retry regardless of the\u001b[39;00m\n\u001b[0;32m   1400\u001b[0m     \u001b[39m# number of RETRIES set.\u001b[39;00m\n\u001b[0;32m   1401\u001b[0m     \u001b[39mif\u001b[39;00m \u001b[39mnot\u001b[39;00m seen_bad_status_line \u001b[39mand\u001b[39;00m i \u001b[39m==\u001b[39m \u001b[39m1\u001b[39m:\n",
            "File \u001b[1;32mc:\\Users\\hazaz\\AppData\\Local\\Programs\\Python\\Python310\\lib\\http\\client.py:1368\u001b[0m, in \u001b[0;36mHTTPConnection.getresponse\u001b[1;34m(self)\u001b[0m\n\u001b[0;32m   1366\u001b[0m \u001b[39mtry\u001b[39;00m:\n\u001b[0;32m   1367\u001b[0m     \u001b[39mtry\u001b[39;00m:\n\u001b[1;32m-> 1368\u001b[0m         response\u001b[39m.\u001b[39;49mbegin()\n\u001b[0;32m   1369\u001b[0m     \u001b[39mexcept\u001b[39;00m \u001b[39mConnectionError\u001b[39;00m:\n\u001b[0;32m   1370\u001b[0m         \u001b[39mself\u001b[39m\u001b[39m.\u001b[39mclose()\n",
            "File \u001b[1;32mc:\\Users\\hazaz\\AppData\\Local\\Programs\\Python\\Python310\\lib\\http\\client.py:317\u001b[0m, in \u001b[0;36mHTTPResponse.begin\u001b[1;34m(self)\u001b[0m\n\u001b[0;32m    315\u001b[0m \u001b[39m# read until we get a non-100 response\u001b[39;00m\n\u001b[0;32m    316\u001b[0m \u001b[39mwhile\u001b[39;00m \u001b[39mTrue\u001b[39;00m:\n\u001b[1;32m--> 317\u001b[0m     version, status, reason \u001b[39m=\u001b[39m \u001b[39mself\u001b[39;49m\u001b[39m.\u001b[39;49m_read_status()\n\u001b[0;32m    318\u001b[0m     \u001b[39mif\u001b[39;00m status \u001b[39m!=\u001b[39m CONTINUE:\n\u001b[0;32m    319\u001b[0m         \u001b[39mbreak\u001b[39;00m\n",
            "File \u001b[1;32mc:\\Users\\hazaz\\AppData\\Local\\Programs\\Python\\Python310\\lib\\http\\client.py:278\u001b[0m, in \u001b[0;36mHTTPResponse._read_status\u001b[1;34m(self)\u001b[0m\n\u001b[0;32m    277\u001b[0m \u001b[39mdef\u001b[39;00m \u001b[39m_read_status\u001b[39m(\u001b[39mself\u001b[39m):\n\u001b[1;32m--> 278\u001b[0m     line \u001b[39m=\u001b[39m \u001b[39mstr\u001b[39m(\u001b[39mself\u001b[39;49m\u001b[39m.\u001b[39;49mfp\u001b[39m.\u001b[39;49mreadline(_MAXLINE \u001b[39m+\u001b[39;49m \u001b[39m1\u001b[39;49m), \u001b[39m\"\u001b[39m\u001b[39miso-8859-1\u001b[39m\u001b[39m\"\u001b[39m)\n\u001b[0;32m    279\u001b[0m     \u001b[39mif\u001b[39;00m \u001b[39mlen\u001b[39m(line) \u001b[39m>\u001b[39m _MAXLINE:\n\u001b[0;32m    280\u001b[0m         \u001b[39mraise\u001b[39;00m LineTooLong(\u001b[39m\"\u001b[39m\u001b[39mstatus line\u001b[39m\u001b[39m\"\u001b[39m)\n",
            "File \u001b[1;32mc:\\Users\\hazaz\\AppData\\Local\\Programs\\Python\\Python310\\lib\\socket.py:705\u001b[0m, in \u001b[0;36mSocketIO.readinto\u001b[1;34m(self, b)\u001b[0m\n\u001b[0;32m    703\u001b[0m \u001b[39mwhile\u001b[39;00m \u001b[39mTrue\u001b[39;00m:\n\u001b[0;32m    704\u001b[0m     \u001b[39mtry\u001b[39;00m:\n\u001b[1;32m--> 705\u001b[0m         \u001b[39mreturn\u001b[39;00m \u001b[39mself\u001b[39;49m\u001b[39m.\u001b[39;49m_sock\u001b[39m.\u001b[39;49mrecv_into(b)\n\u001b[0;32m    706\u001b[0m     \u001b[39mexcept\u001b[39;00m timeout:\n\u001b[0;32m    707\u001b[0m         \u001b[39mself\u001b[39m\u001b[39m.\u001b[39m_timeout_occurred \u001b[39m=\u001b[39m \u001b[39mTrue\u001b[39;00m\n",
            "File \u001b[1;32mc:\\Users\\hazaz\\AppData\\Local\\Programs\\Python\\Python310\\lib\\ssl.py:1273\u001b[0m, in \u001b[0;36mSSLSocket.recv_into\u001b[1;34m(self, buffer, nbytes, flags)\u001b[0m\n\u001b[0;32m   1269\u001b[0m     \u001b[39mif\u001b[39;00m flags \u001b[39m!=\u001b[39m \u001b[39m0\u001b[39m:\n\u001b[0;32m   1270\u001b[0m         \u001b[39mraise\u001b[39;00m \u001b[39mValueError\u001b[39;00m(\n\u001b[0;32m   1271\u001b[0m           \u001b[39m\"\u001b[39m\u001b[39mnon-zero flags not allowed in calls to recv_into() on \u001b[39m\u001b[39m%s\u001b[39;00m\u001b[39m\"\u001b[39m \u001b[39m%\u001b[39m\n\u001b[0;32m   1272\u001b[0m           \u001b[39mself\u001b[39m\u001b[39m.\u001b[39m\u001b[39m__class__\u001b[39m)\n\u001b[1;32m-> 1273\u001b[0m     \u001b[39mreturn\u001b[39;00m \u001b[39mself\u001b[39;49m\u001b[39m.\u001b[39;49mread(nbytes, buffer)\n\u001b[0;32m   1274\u001b[0m \u001b[39melse\u001b[39;00m:\n\u001b[0;32m   1275\u001b[0m     \u001b[39mreturn\u001b[39;00m \u001b[39msuper\u001b[39m()\u001b[39m.\u001b[39mrecv_into(buffer, nbytes, flags)\n",
            "File \u001b[1;32mc:\\Users\\hazaz\\AppData\\Local\\Programs\\Python\\Python310\\lib\\ssl.py:1129\u001b[0m, in \u001b[0;36mSSLSocket.read\u001b[1;34m(self, len, buffer)\u001b[0m\n\u001b[0;32m   1127\u001b[0m \u001b[39mtry\u001b[39;00m:\n\u001b[0;32m   1128\u001b[0m     \u001b[39mif\u001b[39;00m buffer \u001b[39mis\u001b[39;00m \u001b[39mnot\u001b[39;00m \u001b[39mNone\u001b[39;00m:\n\u001b[1;32m-> 1129\u001b[0m         \u001b[39mreturn\u001b[39;00m \u001b[39mself\u001b[39;49m\u001b[39m.\u001b[39;49m_sslobj\u001b[39m.\u001b[39;49mread(\u001b[39mlen\u001b[39;49m, buffer)\n\u001b[0;32m   1130\u001b[0m     \u001b[39melse\u001b[39;00m:\n\u001b[0;32m   1131\u001b[0m         \u001b[39mreturn\u001b[39;00m \u001b[39mself\u001b[39m\u001b[39m.\u001b[39m_sslobj\u001b[39m.\u001b[39mread(\u001b[39mlen\u001b[39m)\n",
            "\u001b[1;31mKeyboardInterrupt\u001b[0m: "
          ]
        }
      ],
      "source": [
        "def push_to_sheet():\n",
        "  # print(data)\n",
        "  # 1EzB0-CpBYUe1J8z9jjDEPIBc3tcOwyBJZyPXN6HPZgE for testing\n",
        "  # 1D8uRbAJXBJMcF0e8tXWKe5dRbiv-EW_by-SpNAxZ3qA for real data update\n",
        "  class_report = get_feedback()\n",
        "  result = sheet.values().clear(\n",
        "          spreadsheetId=\"1D8uRbAJXBJMcF0e8tXWKe5dRbiv-EW_by-SpNAxZ3qA\",\n",
        "          range=\"Feedback Report!A1:ZZZ\"\n",
        "      ).execute()\n",
        "  resource2 = {\n",
        "        \"majorDimension\": \"ROWS\",\n",
        "        \"values\": class_report\n",
        "    }\n",
        "  result = sheet.values().update(\n",
        "            spreadsheetId= \"1D8uRbAJXBJMcF0e8tXWKe5dRbiv-EW_by-SpNAxZ3qA\",\n",
        "            range= f\"Feedback Report!A2\",\n",
        "            valueInputOption=\"RAW\",\n",
        "            body=resource2).execute()\n",
        "push_to_sheet()"
      ]
    },
    {
      "attachments": {},
      "cell_type": "markdown",
      "metadata": {},
      "source": [
        "Get the Finished classes"
      ]
    },
    {
      "cell_type": "code",
      "execution_count": null,
      "metadata": {},
      "outputs": [],
      "source": [
        "def fin_classes():\n",
        "    fin_grp = []\n",
        "    for base in bases:\n",
        "        DOMAINS_FIN = \"https://lms.logika.asia/group?\"\n",
        "\n",
        "\n",
        "        para = f\"GroupSearch%5Bid%5D=&GroupSearch%5Btitle%5D={base}&GroupSearch%5Bvenue%5D=&GroupSearch%5Bactive_student_count%5D=&GroupSearch%5BnextLessonTime%5D=&GroupSearch%5BnextLessonNumber%5D=&GroupSearch%5BnextLessonTitle%5D=&GroupSearch%5Bteacher%5D=&GroupSearch%5Bcurator%5D=&GroupSearch%5Bstatus%5D=&GroupSearch%5Bstatus%5D%5B%5D=inactive&GroupSearch%5BcourseContentType%5D=&GroupSearch%5BcourseStartTime%5D=&GroupSearch%5BcourseEndTime%5D=&export=true&name=default&exportType=html\"\n",
        "\n",
        "\n",
        "        header = {\n",
        "\n",
        "            \"accept\": \"text/html,application/xhtml+xml,application/xml;q=0.9,image/avif,image/webp,image/apng,*/*;q=0.8,application/signed-exchange;v=b3;q=0.7\",\n",
        "            \"accept-language\": \"en-US,en;q=0.9,vi-VN;q=0.8,vi;q=0.7\",\n",
        "            \"cache-control\": \"max-age=0\",\n",
        "            \"sec-ch-ua\": \"\\\"Chromium\\\";v=\\\"116\\\", \\\"Not)A;Brand\\\";v=\\\"24\\\", \\\"Google Chrome\\\";v=\\\"116\\\"\",\n",
        "            \"sec-ch-ua-mobile\": \"?0\",\n",
        "            \"sec-ch-ua-platform\": \"\\\"Windows\\\"\",\n",
        "            \"sec-fetch-dest\": \"document\",\n",
        "            \"sec-fetch-mode\": \"navigate\",\n",
        "            \"sec-fetch-site\": \"same-origin\",\n",
        "            \"sec-fetch-user\": \"?1\",\n",
        "            \"upgrade-insecure-requests\": \"1\",\n",
        "            \"cookie\": \"_ym_uid=1664966280852805697; intercom-device-id-ufjpx6k3=fd3080c1-5a63-4af6-bd1f-15268d549a7e; userId=30454; _grid_page_size_schedule=35d0980fa38e2255112d0c62698773cab8aa12a81c6735caf172064b5eb6ea47a%3A2%3A%7Bi%3A0%3Bs%3A24%3A%22_grid_page_size_schedule%22%3Bi%3A1%3Bs%3A3%3A%22200%22%3B%7D; _grid_page_size=d3ebbdf9ec9235bfc4ba59572a6d3dd403a563222be148e9c705e91612194e49a%3A2%3A%7Bi%3A0%3Bs%3A15%3A%22_grid_page_size%22%3Bi%3A1%3Bs%3A3%3A%22200%22%3B%7D; _ym_d=1680775536; studentId=1700942; studentAccessToken=59839bd5ef574b15cd869fa67e04fcdf4a97e278085dee7a21dfeb1f5a33cd62; studentCreatedTimestamp=1693481460; previousPage=%2F; createdTimestamp=1693978386; accessToken=6f7fa0398bac5ce10b0d85e00fc01725eae9b60c7188cfc1963c98ed73504e82; SERVERID=b440; _backendMainSessionId=81389387a907ff2840bad3c150bb2e76; _gid=GA1.2.1044467574.1693978385; _ym_isad=2; _ym_visorc=w; _ga=GA1.2.1620969847.1664966279; _ga_3QSGZBLTE3=GS1.1.1693978384.233.1.1693978511.59.0.0; _ga_4CL98HXNQK=GS1.1.1693978385.60.1.1693978530.0.0.0\",\n",
        "            \"Referer\": f\"{DOMAINS_FIN}GroupSearch%5Bid%5D=&GroupSearch%5Btitle%5D={base}&GroupSearch%5Bvenue%5D=&GroupSearch%5Bactive_student_count%5D=&GroupSearch%5BnextLessonTime%5D=&GroupSearch%5BnextLessonNumber%5D=&GroupSearch%5BnextLessonTitle%5D=&GroupSearch%5Bteacher%5D=&GroupSearch%5Bcurator%5D=&GroupSearch%5Bstatus%5D=&GroupSearch%5Bstatus%5D%5B%5D=inactive&GroupSearch%5BcourseContentType%5D=&GroupSearch%5BcourseStartTime%5D=&GroupSearch%5BcourseEndTime%5D=&presetType=all\",\n",
        "            \"Referrer-Policy\": \"strict-origin-when-cross-origin\"\n",
        "        }\n",
        "\n",
        "\n",
        "\n",
        "        end_point = DOMAINS_FIN + para\n",
        "        res = s.get(end_point, headers = header)\n",
        "        output = res.content.decode('utf-8')\n",
        "        soup = BeautifulSoup(output, 'html.parser', from_encoding='utf-8')\n",
        "        soup.find('tbody')\n",
        "        table_rows = soup.find_all('tr')\n",
        "        \n",
        "        table_rows.remove(table_rows[0])\n",
        "        # print(table_rows)\n",
        "        for tr in table_rows:\n",
        "            all_td = tr.find_all('td')\n",
        "            grp_id = str(all_td[0].string)\n",
        "            grp_name = all_td[1].find(\"a\")\n",
        "            cpr_url = all_td[1].find(\"p\")\n",
        "            cpr_url = str(cpr_url)\n",
        "            url = cpr_url[cpr_url.find(\"https\"):cpr_url.find(\"</p>\")]\n",
        "            num_of_std = all_td[3].find(\"span\")       \n",
        "            num_of_std = str(num_of_std.string)[0]\n",
        "            # if num_of_std == \"N\" or num_of_std == \"0\":\n",
        "                # continue\n",
        "            num_of_std = int(num_of_std)\n",
        "            grp_name = str(grp_name.string) \n",
        "            group_status = all_td[9].string\n",
        "            class_end_date = all_td[12].string\n",
        "            if class_end_date:\n",
        "                class_end_date = str(class_end_date)\n",
        "                class_end_date = class_end_date[:class_end_date.find(\" \")]\n",
        "                # print(class_end_date)\n",
        "                # class_end_date = date.strptime(class_end_date, \"%d.%m.%Y\")\n",
        "                # class_end_date = class_end_date.strftime(\"%m.%d.%Y\")\n",
        "            else:\n",
        "                class_end_date = None\n",
        "\n",
        "            if str(group_status) == \"Finished\" and str(group_status) != \"Collapsed\" and (grp_name.find(\"Trial\") == -1 or grp_name.find(\"Demo\") != -1):\n",
        "                fin_grp.append([grp_id , grp_name, num_of_std, url, group_status, class_end_date])   \n",
        "    return fin_grp\n",
        "\n",
        "\n",
        "fin_grp = fin_classes()\n",
        "print(fin_grp)\n",
        "resource = {\n",
        "        \"majorDimension\": \"ROWS\",\n",
        "        \"values\": fin_grp\n",
        "    }\n",
        "\n",
        "result = sheet.values().update(\n",
        "    spreadsheetId= \"1D8uRbAJXBJMcF0e8tXWKe5dRbiv-EW_by-SpNAxZ3qA\",\n",
        "    range= f\"'Finished Groups'!A2\",\n",
        "    valueInputOption=\"RAW\",\n",
        "    body=resource).execute()"
      ]
    },
    {
      "attachments": {},
      "cell_type": "markdown",
      "metadata": {},
      "source": [
        "Testing with Database"
      ]
    },
    {
      "cell_type": "code",
      "execution_count": null,
      "metadata": {},
      "outputs": [],
      "source": [
        "print(groups[:5])\n",
        "data_to_insert = [tuple(row) for row in groups]\n",
        "print(data_to_insert)\n",
        "print(data_to_insert)"
      ]
    },
    {
      "cell_type": "code",
      "execution_count": null,
      "metadata": {},
      "outputs": [],
      "source": [
        "import mysql.connector\n",
        "\n",
        "# MySQL database configuration\n",
        "config = {\n",
        "    'user': 'root',\n",
        "    'password': '',\n",
        "    'host': 'localhost',\n",
        "    'database': 'algo_db',\n",
        "    'raise_on_warnings': True\n",
        "}\n",
        "\n",
        "# List of tuples containing data to insert\n",
        "\n",
        "\n",
        "# Create a MySQL connection and cursor\n",
        "connection = mysql.connector.connect(**config)\n",
        "cursor = connection.cursor()\n",
        "\n",
        "# Insert query with placeholders for each column\n",
        "insert_query = \"\"\"\n",
        "INSERT INTO nlb\n",
        "(Id, Week_Day, Class_Code, Teacher_name, Assigned_Tutor, Time, CPR, Campus, Student, Next_Lesson, Next_Lesson_Num, Attend_Percentage, Course, Start_Date, End_Date, L1, L2, L3, L4, L5, L6, L7, L8, L9, L10, L11, L12, L13, L14, L15, L16, L17, L18, L19, L20, L21, L22, L23, L24, L25, L26, L27, L28, L29, L30, L31, L32, L33, L34, L35, L36, L37, L38)\n",
        "VALUES\n",
        "(%s, %s, %s, %s, %s, %s, %s, %s, %s, %s, %s, %s, %s, %s, %s, %s, %s, %s, %s, %s, %s, %s, %s, %s, %s, %s, %s, %s, %s, %s, %s, %s, %s, %s, %s, %s, %s, %s, %s, %s, %s, %s, %s, %s, %s, %s, %s, %s, %s, %s, %s, %s, %s)\n",
        "\"\"\"\n",
        "\n",
        "# Insert data into the table\n",
        "cursor.executemany(insert_query, data_to_insert)\n",
        "\n",
        "# Commit the changes and close the cursor and connection\n",
        "connection.commit()\n",
        "cursor.close()\n",
        "connection.close()"
      ]
    }
  ],
  "metadata": {
    "colab": {
      "private_outputs": true,
      "provenance": []
    },
    "gpuClass": "standard",
    "kernelspec": {
      "display_name": "Python 3",
      "name": "python3"
    },
    "language_info": {
      "codemirror_mode": {
        "name": "ipython",
        "version": 3
      },
      "file_extension": ".py",
      "mimetype": "text/x-python",
      "name": "python",
      "nbconvert_exporter": "python",
      "pygments_lexer": "ipython3",
      "version": "3.10.0"
    }
  },
  "nbformat": 4,
  "nbformat_minor": 0
}
