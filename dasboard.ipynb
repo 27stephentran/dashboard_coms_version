{
  "cells": [
    {
      "cell_type": "code",
      "execution_count": 1,
      "metadata": {
        "id": "IDuTDwRMGKQj"
      },
      "outputs": [],
      "source": [
        "import requests\n",
        "from bs4 import BeautifulSoup\n",
        "from rich.progress import track\n",
        "from datetime import date, timedelta\n",
        "from dateutil.relativedelta import relativedelta\n",
        "import time\n",
        "from google.oauth2.credentials import Credentials\n",
        "from google_auth_oauthlib.flow import InstalledAppFlow\n",
        "from googleapiclient.discovery import build\n",
        "from googleapiclient.errors import HttpError\n",
        "import json"
      ]
    },
    {
      "attachments": {},
      "cell_type": "markdown",
      "metadata": {},
      "source": [
        "declairce must have variable and constants"
      ]
    },
    {
      "cell_type": "code",
      "execution_count": 2,
      "metadata": {
        "id": "dKGH0Dtzz15s"
      },
      "outputs": [],
      "source": [
        "time_start = time.time()\n",
        "SCOPES =  ['https://www.googleapis.com/auth/spreadsheets']\n",
        "\n",
        "\n",
        "DOMAINS = 'https://lms.logika.asia/group?'\n",
        "CPR_DOMAINS = 'https://lms.logika.asia/group/default/schedule'\n",
        "\n",
        "date_now = date.today()\n",
        "date_start = date_now - relativedelta(years=1)\n",
        "date_end = date_now + relativedelta(years=1)\n",
        "\n",
        "s = requests.Session()\n",
        "try:\n",
        "    creds = Credentials.from_authorized_user_file('token.json', SCOPES)\n",
        "except FileNotFoundError:\n",
        "    flow = InstalledAppFlow.from_client_secrets_file(\n",
        "        'credentials.json', SCOPES)\n",
        "    creds = flow.run_local_server(port=0)\n",
        "    with open('token.json', 'w') as token:\n",
        "        token.write(creds.to_json())\n",
        "service = build('sheets', 'v4', credentials=creds)\n",
        "sheet = service.spreadsheets()\n",
        "class_report = []\n",
        "bases = ['NLB', \"NVH\", \"PXL\", \"VCP\"]\n",
        "# bases = [\"VCP\"]\n",
        "date = {\"MON\" : 2,\"TUE\" : 3,\"WED\" : 4,\"THU\" : 5,\"FRI\" : 6,\"SAT\" : 7,\"SUN\" : 8}"
      ]
    },
    {
      "attachments": {},
      "cell_type": "markdown",
      "metadata": {},
      "source": [
        "get percentage for each class happend the day before"
      ]
    },
    {
      "cell_type": "code",
      "execution_count": 3,
      "metadata": {
        "id": "03AcjDYLlC8X"
      },
      "outputs": [
        {
          "name": "stderr",
          "output_type": "stream",
          "text": [
            "c:\\Users\\hazaz\\AppData\\Local\\Programs\\Python\\Python310\\lib\\site-packages\\bs4\\__init__.py:228: UserWarning: You provided Unicode markup but also provided a value for from_encoding. Your from_encoding will be ignored.\n",
            "  warnings.warn(\"You provided Unicode markup but also provided a value for from_encoding. Your from_encoding will be ignored.\")\n"
          ]
        },
        {
          "name": "stdout",
          "output_type": "stream",
          "text": [
            "{'NVH_CCJ3_OFF': ['0%', 5], 'NVH_PTPY1.22_MON/THU_ONL (PRIVATE)': ['0%', 18], 'NVH_GD55_MON/WED_OFF (PRIVATE)': ['0%', 6], '[Campus]_PTSY1.[No]_[Day]_[Format]': ['0%', 3], 'NLB_PTSY1.52_MON_OFF': ['100%', 14], 'NVH_PTSY2.22_MON_OFF (PRIVATE)': ['100%', 31], 'NLB_VP35_MON_OFF': ['100%', 21], '[Campus]_PTPY1.[No]_[Day]_[Format]': ['0%', 3], 'NLB_DL12_MON_OFF': ['100%', 6], '\\xa0NLB_PTSY2.18_MON_OFF': ['50%', 23], 'VCP_GD26_MON_OFF': ['100%', 7], 'NVH_WDY2.3_MON_OFF': ['50%', 7], 'NLB_GD58_MON_OFF': ['100%', 8], 'NVH_PTSY2.30_MON_OFF': ['43%', 27], 'NLB_PTSY2.14_MON_OFF': ['50%', 30], 'NLB_DL7_MON_ONL': ['100%', 31], 'NVH_GD48_MON_ONL': ['50%', 14], 'NLB_GD57_MON_OFF': ['67%', 13], 'PXL_VP13_MON_OFF': ['100%', 16], 'VCP_GD14_MON_OFF': ['67%', 26], 'NVH_WDY2.2_MON_ONL (PRIVATE)': ['100%', 32], 'NLB_VP39_MON_OFF': ['100%', 15], 'NLB_VP45_MON_OFF': ['100%', 3], 'NVH_PTSY2.39_MON_OFF': ['67%', 2], 'PXL_VP14_MON_OFF': ['100%', 17], 'PXL_GD9_MON_OFF': ['100%', 17], 'PXL_WDY1.3_MON_OFF': ['100%', 16], 'VCP_PTSY1.13_MON_ONL': ['100%', 20], 'NVH_GD46_MON_OFF': ['100%', 20], 'PXL_VP26_MON/THU_OFF (PRIVATE)': ['100%', 2], 'NLB_PTSY1.56_MON_ONL': ['100%', 14], 'PXL_VP12_MON_OFF': ['100%', 20], 'NVH_PTSY1.56_TUE_ONL (PRIVATE)': ['100%', 7], 'PXL_PTPY1.3_TUE/FRI_OFF (PRIVATE)': ['0%', 7], 'NLB_GD51_TUE_ONL': ['100%', 12], 'NEW PTSY2 Schedule Template - TAMMY USE': ['0%', 21], 'NVH_PTPY1.18_TUE/THU_OFF (PRIVATE)': ['0%', 20], 'NVH_PTSY2.24_TUE_ONL': ['100%', 31], 'NVH_GD42_TUE_OFF': ['100%', 19], 'PXL_GD21_TUE_OFF': ['100%', 5], 'PXL_PTSY1.8_TUE_OFF': ['100%', 5], 'NVH_CK37_TUE_OFF': ['100%', 8], 'VCP_PTSY1.14_TUE_OFF': ['100%', 14], 'NVH_CK29_TUE_OFF': ['100%', 32], '[Campus]_GD.[No]_[Day]_[Format]': ['0%', 3], '[Campus]_VP.[No]_[Day]_[Format]': ['0%', 3], '[Campus]_CK.[No]_[Day]_[Format]': ['0%', 3], 'PXL_CK12_TUE_OFF': ['100%', 5], 'NVH_GD53_TUE_OFF': ['50%', 5], 'NLB_PTSY2.24_TUE_OFF': ['60%', 8], 'NVH_PTPY2.8_TUE_ONL': ['100%', 28], 'NLB_GD40_TUE_OFF': ['50%', 30], 'VCP_WDY1.5_TUE_ONL': ['100%', 6], 'NLB_VP34_TUE_OFF': ['67%', 22], 'NVH_VP35_TUE_OFF': ['100%', 19], 'NEW Python Pro Year 1 Schedule Template - TAMMY USE': ['0%', 21], 'NLB_PTSY1.60_TUE_ONL': ['100%', 6], 'NVH_WDY1.8_TUE_ONL': ['100%', 14], 'NVH_CK31_TUE_OFF': ['67%', 27], 'PXL_UGD2_TUE_OFF': ['100%', 1], 'PXL_PTSY1.10_TUE_OFF': ['84%', 3], 'PXL_GD18_TUE_OFF': ['50%', 3], 'PXL_VP16_TUE_OFF': ['67%', 20], 'NLB_PTSY2.19_TUE_OFF': ['80%', 16], 'PXL_CK6_TUE_OFF': ['50%', 28], 'NVH_PTSY2.25_TUE_ONL': ['100%', 28], 'VCP_GD11_TUE_OFF': ['0%', 33], 'PXL_WDY1.4_TUE_OFF': ['100%', 8], 'NVH_GD52_TUE_OFF': ['100%', 11], 'VCP_GD19_TUE_OFF': ['100%', 14], 'NVH_CK36_TUE_OFF': ['75%', 9], 'NVH_CK33_TUE_ONL': ['100%', 21], 'NVH_VP36_TUE_ONL': ['100%', 21], 'NLB_CK30_TUE_OFF': ['100%', 25], 'NLB_GD45_TUE_OFF': ['84%', 25], 'NEW Python Pro Year 2 Schedule Template - TAMMY USE': ['0%', 21], '[Campus]_WDY1.[No]_[Day]_[Format]': ['0%', 3], '[Campus]_DL.[No]_[Day]_[Format]': ['0%', 3], 'NVH_UGD2_WED_OFF (PRIVATE)': ['0%', 22], 'NLB_GD63_WED_OFF': ['75%', 5], 'VCP_GD25_WED_OFF': ['84%', 7], 'NVH_GD43_WED_OFF': ['75%', 20], 'NLB_WDY1.10_WED_OFF': ['100%', 22], 'NLB_GD44_WED_OFF': ['40%', 24], 'NLB_PTSY1.61_WED_OFF': ['100%', 3], 'NVH_PTSY1.48_WED_OFF': ['80%', 23], 'PXL_GD11_WED_OFF (PRIVATE)': ['100%', 10], 'VCP_GD16_WED_OFF': ['34%', 24], 'NVH_GD54_WED_OFF': ['100%', 9], 'NLB_GD55_WED_OFF': ['0%', 14], 'NVH_GD36_WED_OFF': ['40%', 22], 'NVH_WDY1.5_WED_OFF': ['50%', 30], 'PXL_PTPY1.2_WED_OFF': ['100%', 6], 'NVH_PTSY1.52_WED_OFF': ['100%', 15], 'NVH_GD38_WED_OFF': ['100%', 21], 'NLB_GD38_WED_ONL': ['100%', 30], 'VCP_PTSY1.12_WED_OFF': ['100%', 20], 'NVH_PTPY1.17_WED_ONL (PRIVATE)': ['100%', 21], 'NVH_PTSY2.26_WED_OFF': ['100%', 24], 'VCP_WDY1.4_WED_OFF': ['0%', 32], 'VCP_GD23_WED_ONL': ['100%', 9], 'NLB_DL8_WED_ONL': ['100%', 26], 'NVH_GD37_THU_OFF': ['100%', 29], 'NVH_DL16_THU_OFF': ['0%', 7], 'VCP_PTSY2.5_TUE_OFF (PRIVATE)': ['100%', 24], 'VCP_GD24_THU_OFF': ['100%', 7], 'NVH_PTPY1.16_THU_OFF': ['0%', 27], 'NVH_WDY1.6_THU_OFF': ['50%', 25], 'VCP_PTSY2.3_THU_OFF': ['100%', 31], 'NLB_PTPY2.10_THU_ONL': ['100%', 4], 'NVH_GD56_THU_ONL': ['100%', 8], 'NVH_PTPY2.14_THU_ONL (PRIVATE)': ['100%', 6], 'NVH_VP40_THU_ONL': ['100%', 17], 'NLB_PTSY1.50_THU_OFF': ['100%', 22], 'NEW Python Pro Year 1 - MODIFIED': ['0%', 20], 'NLB_GD50_THU_ONL': ['100%', 24], 'NLB_GD49_THU_OFF': ['0%', 21], 'NLB_PTSY1.48_THU_ONL': ['100%', 24], 'NLB_CK37_THU_OFF': ['0%', 9], 'NLB_PTSY2.21_THU_ONL': ['80%', 20], 'VCP_VP19_THU_OFF': ['50%', 19], 'NVH_VP32_THU_OFF': ['50%', 26], 'NVH_DL8_THU_OFF': ['50%', 28], 'NVH_PTSY1.43_THU_ONL': ['100%', 30], 'NVH_GD50_THU_ONL': ['0%', 13], 'NLB_PTPY1.10_THU_OFF': ['0%', 14], 'VCP_CK8_THU_OFF': ['50%', 26], 'NLB_WDY1.15_THU_OFF': ['0%', 3], 'VCP_PTSY1.11_THU_ONL': ['0%', 21], 'NLB_VP28_THU_ONL': ['0%', 30], 'PXL_VP10_FRI_OFF': ['0%', 29], 'NVH_PTSY1.40_FRI_OFF': ['0%', 31], 'NLB_WDY1.8_FRI_ONL': ['0%', 30], 'VCP_GD13_FRI_OFF': ['0%', 32], 'NVH_VP42_FRI_OFF': ['0%', 12], 'NVH_PTSY2.34_FRI_OFF': ['0%', 16], 'NVH_PTPY1.19_FRI_OFF (PRIVATE)': ['0%', 19], 'NLB_PTPY1.8_FRI_OFF': ['0%', 24], 'NLB_PTSY1.44_FRI_OFF': ['0%', 30], 'NLB_WDY1.14_FRI_OFF': ['0%', 2], 'NVH_CK38_FRI_OFF': ['0%', 8], 'NVH_PTPY2.12_FRI_ONL (PRIVATE)': ['0%', 10], 'NLB_PTSY2.26_FRI_ONL': ['0%', 8], 'VCP_WDY2.2_FRI_ONL': ['0%', 6], 'NVH_GD45_FRI_OFF': ['0%', 20], 'VCP_VP16_FRI_OFF': ['0%', 32], 'NLB_PTSY1.65_FRI_OFF': ['0%', 1], 'NLB_GD64_FRI_OFF': ['0%', 4], 'PXL_VP21_FRI_OFF': ['0%', 6], 'PXL_GD19_FRI_OFF': ['0%', 6], 'NLB_PTPY2.8_FRI_OFF': ['0%', 5], 'PXL_DL5_FRI_OFF': ['0%', 12], 'NVH_DL13_FRI_OFF': ['0%', 13], 'PXL_VP17_FRI_OFF': ['0%', 15], 'VCP_GD15_FRI_ONL': ['0%', 25], 'NLB_UGD4_FRI_OFF': ['0%', 4], 'NVH_PTSY2.29_FRI_ONL': ['0%', 25], 'NLB_PTSY2.17_FRI_ONL': ['0%', 27], 'NVH_VP31_FRI_OFF': ['0%', 25], 'NVH_DL4_FRI_OFF': ['0%', 32], 'NVH_GD33_FRI_OFF': ['0%', 30], 'NLB_PTSY1.42_FRI_OFF': ['0%', 30], 'NLB_GD61_FRI_ONL': ['0%', 4], 'VCP_PTSY1.10_FRI_OFF': ['0%', 29], 'NLB_WDY2.4_FRI_OFF': ['0%', 1], 'NLB_VP47_FRI_ONL': ['0%', 3], 'NLB_VP46_FRI_ONL': ['0%', 1], 'NLB_PTSY2.25_FRI_ONL': ['0%', 11], 'NLB_PTSY1.57_FRI_OFF': ['0%', 10], 'NVH_PTPY2.9_FRI_OFF': ['0%', 17], 'NVH_VP37_FRI_ONL': ['0%', 22], 'NLB_GD48_FRI_ONL': ['0%', 26], 'NLB_CK33_FRI_ONL': ['0%', 21], 'VCP_CK12_SAT_OFF': ['0%', 25], 'NLB_PTSY2.30_MON/SAT_ONL (PRIVATE)': ['0%', 1], 'NVH_GD58_SAT_OFF': ['0%', 1], 'NVH_PTSY1.58_SAT_OFF': ['0%', 2], 'PXL_GD13_SAT_OFF': ['0%', 9], 'PXL_DL4_SAT_OFF': ['0%', 11], 'NVH_GD44_SAT_OFF': ['0%', 23], 'NVH_GD40_SAT_ONL': ['0%', 24], 'NLB_CK32_SAT_OFF': ['0%', 23], 'NLB_DL9_SAT_OFF': ['0%', 19], 'NLB_GD46_SAT_OFF': ['0%', 25], 'NLB_VP29_SAT_ONL': ['0%', 27], 'VCP_PTPY1.3_SAT_OFF': ['0%', 27], 'PXL_VP23_SAT_OFF': ['0%', 5], 'VCP_WDY2.1_SAT_OFF': ['0%', 6], 'VCP_GD20_SAT_OFF': ['0%', 11], 'NVH_WDY1.9_SAT_OFF': ['0%', 9], 'NVH_GD49_SAT_OFF': ['0%', 9], 'PXL_CK11_SAT_OFF': ['0%', 16], 'NLB_PTSY1.49_SAT_OFF': ['0%', 24], 'PXL_VP8_SAT_OFF': ['0%', 27], 'NVH_PTPY1.15_SAT_ONL': ['0%', 27], 'NVH_PTPY1.13_SAT_OFF': ['0%', 28], 'NLB_GD62_SAT_ONL': ['0%', 5], 'NVH_PTSY1.54_SAT_OFF': ['0%', 10], 'NVH_VP39_SAT_OFF': ['0%', 18], 'NVH_PTSY2.30_SAT_OFF': ['0%', 20], 'NVH_PTSY1.44_SAT_ONL': ['0%', 27], 'NVH_PTSY2.29_SAT_OFF': ['0%', 26], 'NLB_PTSY2.15_SAT_ONL': ['0%', 25], 'NVH_PTPY2.13_SAT_OFF': ['0%', 9], 'NLB_WDY1.12_SAT_ONL': ['0%', 14], 'NLB_PTSY1.55_SAT_ONL': ['0%', 15], 'NVH_PTPY2.11_SAT_ONL': ['0%', 17], 'NLB_PTSY1.51_SAT_ONL': ['0%', 24], 'NLB_VP33_SAT_OFF': ['0%', 25], 'NLB_WDY1.9_SAT_OFF': ['0%', 21], 'NLB_WDY2.1_SAT_OFF': ['0%', 29], 'VCP_DL3_SAT_OFF': ['0%', 28], 'NVH_DL6_SAT_OFF': ['0%', 21], 'VCP_GD12_SAT_OFF': ['0%', 33], 'PXL_VP25_SAT/SUN_ONL (PRIVATE)': ['0%', 4], 'NVH_PTPY1.21_SAT_OFF': ['0%', 11], 'PXL_PTPY2.1_SAT_OFF': ['0%', 3], 'NVH_UGD3_SAT_OFF': ['0%', 9], 'NLB_PTSY1.54_SAT_OFF': ['0%', 14], 'NLB_DL10_SAT_OFF': ['0%', 16], 'NLB_VP38_SAT_OFF': ['0%', 14], 'NLB_GD52_SAT_OFF': ['0%', 14], 'VCP_PTSY1.8_SAT_OFF': ['0%', 31], 'VCP_CK14_SAT_OFF': ['0%', 5], 'PXL_GD16_SAT_OFF': ['0%', 10], 'NVH_PTPY1.20_SAT_OFF': ['0%', 17], 'NLB_PTSY2.20_SAT_OFF': ['0%', 19], 'NVH_PTSY1.46_SAT_OFF': ['0%', 18], 'NVH_PTSY2.38_SAT_ONL': ['0%', 8], 'NVH_PTPY2.10_SAT/SUN_OFF': ['0%', 21], 'PXL_VP11_SAT_OFF': ['0%', 24], 'VCP_PTSY2.4_SAT_OFF': ['0%', 29], 'NVH_WDY2.5_SAT_OFF': ['0%', 4], 'PXL_DL6_SAT_OFF': ['0%', 2], 'NVH_GD51_SAT_OFF': ['0%', 9], 'NVH_PTSY2.36_SAT_OFF': ['0%', 10], 'VCP_GD21_SAT_OFF': ['0%', 10], 'VCP_DL5_SAT_OFF': ['0%', 14], 'NLB_GD47_SAT_ONL': ['0%', 26], 'PXL_DL3_SAT_OFF': ['0%', 29], 'NLB_PTSY2.13_SAT_OFF': ['0%', 29], 'NLB_VP26_SAT_OFF': ['0%', 32], 'NLB_UGD1_SAT_OFF': ['0%', 31], 'NVH_VP43_SAT_OFF': ['0%', 14], 'NLB_PTPY1.7_SAT_OFF': ['0%', 20], 'NLB_UGD2_SAT_OFF': ['0%', 24], 'NVH_PTSY2.35_SAT_ONL': ['0%', 11], 'PXL_DL2_SAT_OFF': ['0%', 31], 'NVH_CK25_SAT_OFF': ['0%', 29], 'NLB_DL13_SAT_OFF': ['0%', 2], 'VCP_GD18_SAT_OFF': ['0%', 16], 'VCP_PTSY2.6_SAT_OFF': ['0%', 16], 'NVH_GD41_SAT_OFF': ['0%', 24], 'NVH_VP29_SAT_OFF': ['0%', 29], 'NLB_PTSY2.28_SAT_OFF': ['0%', 2], 'NVH_VP46_SAT_OFF': ['0%', 8], 'NLB_VP37_SAT_OFF': ['0%', 19], 'NVH_VP38_SAT_OFF': ['0%', 19], 'PXL_WDY1.2_SAT_OFF': ['0%', 20], 'PXL_PTSY2.4_SAT_OFF': ['0%', 10], 'PXL_PTSY1.6_SAT_OFF': ['0%', 8], 'PXL_CK8_SAT_OFF': ['0%', 24], 'NLB_PTSY1.46_SAT_OFF': ['0%', 26], 'NVH_PTSY1.42_SAT_ONL': ['0%', 29], 'NVH_GD57_SAT_OFF': ['0%', 5], 'NVH_PTPY1.23_SAT_OFF': ['0%', 5], 'NVH_PTSY1.49_SAT_OFF': ['0%', 16], 'NLB_GD65_SAT_OFF': ['0%', 5], 'NLB_VP42_SAT_OFF': ['0%', 6], 'NLB_CK38_SAT_OFF': ['0%', 6], 'NLB_PTPY2.12_SAT_ONL': ['0%', 4], 'PXL_PTSY2.5_SUN_OFF': ['0%', 8], 'PXL_VP20_SUN_OFF': ['0%', 1], 'NLB_PTPY2.7_SUN_OFF (PRIVATE)': ['0%', 9], 'PXL_VP19_SUN_OFF': ['0%', 11], 'NLB_VP41_SUN_ONL': ['0%', 15], 'NLB_VP36_SUN_OFF': ['0%', 19], 'NLB_GD42_SUN_OFF': ['0%', 28], 'NLB_CK28_SUN_OFF': ['0%', 28], 'NLB_PTSY1.59_SUN_OFF': ['0%', 6], 'PXL_PTSY2.3_SUN_OFF': ['0%', 10], 'PXL_PTSY1.7_SUN_OFF': ['0%', 11], 'NVH_PTSY2.33_SUN_OFF': ['0%', 17], 'NVH_DL11_SUN_OFF': ['0%', 23], 'VCP_DL4_SUN_OFF': ['0%', 23], 'VCP_PTSY1.9_SUN_OFF': ['0%', 29], 'VCP_CK10_SUN_OFF': ['0%', 32], 'NVH_PTSY1.38_SUN_OFF': ['0%', 30], 'NLB_PTPY2.6_SUN_OFF': ['0%', 11], 'NVH_GD47_SUN_OFF': ['0%', 16], 'PXL_UGD1_SUN_OFF': ['0%', 4], 'NLB_PTPY2.11_SUN_OFF': ['0%', 3], 'PXL_PTSY1.5_SUN_OFF': ['0%', 12], '\\xa0NLB_GD54_SUN_OFF': ['0%', 16], 'NLB_GD53_SUN_ONL': ['0%', 16], 'NLB_PTPY1.9_SUN_ONL': ['0%', 19], 'NVH_CK32_SUN_OFF': ['0%', 25], 'NLB_CK31_SUN_ONL': ['0%', 20], 'NLB_PTPY1.14_SUN_OFF': ['0%', 5], 'VCP_GD27_SUN_OFF': ['0%', 2], 'VCP_WDY1.6_SUN_OFF': ['0%', 2], 'PXL_GD17_SUN_OFF': ['0%', 9], 'NVH_VP47_SUN_OFF': ['0%', 8], 'NLB_WDY2.2_SUN_ONL': ['0%', 11], 'NVH_PTSY1.55_SUN_OFF': ['0%', 11], 'PXL_GD10_SUN_OFF': ['0%', 19], 'VCP_VP20_SUN_OFF': ['0%', 19], 'NVH_WDY1.7_SUN_OFF': ['0%', 25], 'NVH_PTSY1.47_SUN_OFF': ['0%', 26], 'NLB_CK27_SUN_OFF': ['0%', 31], 'NVH_GD34_SUN_OFF': ['0%', 29], 'NLB_CK34_SUN_OFF': ['0%', 20], 'VCP_PTSY2.7_SUN_OFF': ['0%', 7], 'NLB_GD60_SUN_OFF': ['0%', 5], 'NVH_PTSY2.37_SUN_ONL': ['0%', 10], 'VCP_GD22_SUN_OFF': ['0%', 11], 'VCP_VP22_SUN_OFF': ['0%', 11], 'PXL_GD14_SUN_OFF': ['0%', 7], 'NLB_WDY1.11_SUN_OFF': ['0%', 12], 'PXL_GD8_SUN_OFF': ['0%', 23], 'NVH_VP41_SUN_OFF': ['0%', 13], 'PXL_CK13_SUN_OFF': ['0%', 2], 'NLB_CK39_SUN_OFF': ['0%', 6], 'NLB_PTSY2.29_SUN_ONL': ['0%', 2], 'NLB_VP44_SUN_ONL': ['0%', 6], 'NVH_CK34_SUN_OFF': ['0%', 17], 'NVH_VP33_SUN_ONL': ['0%', 25], 'NLB_PTSY1.43_SUN_OFF (PRIVATE)': ['0%', 29], 'PXL_GD22_SUN_ONL': ['0%', 1], 'NVH_PTSY1.57_SUN_OFF': ['0%', 3], 'NLB_DL11_SUN_OFF': ['0%', 7], 'NVH_VP44_SUN_OFF': ['0%', 5], 'NLB_WDY2.3_SUN_OFF': ['0%', 10], 'PXL_VP18_SUN_OFF': ['0%', 16], 'PXL_GD12_SUN_OFF': ['0%', 17], 'NLB_UGD3_SUN_OFF': ['0%', 11], 'PXL_CK9_SUN_OFF': ['0%', 23], 'NLB_VP30_SUN_ONL': ['0%', 28], 'NLB_CK29_SUN_ONL': ['0%', 28], 'NLB_GD59_SUN_ONL': ['0%', 8], 'NLB_PTSY2.22_SUN_OFF': ['0%', 14], 'NLB_GD56_SUN_OFF': ['0%', 13], 'VCP_VP25_SUN_OFF': ['0%', 2], 'NLB_CK36_SUN_OFF': ['0%', 14], 'NVH_PTSY2.32_SUN_ONL': ['0%', 13], 'VCP_CK13_SUN_OFF': ['0%', 13], 'NLB_WDY1.13_SUN_OFF': ['0%', 10], 'NLB_PTPY1.11_SUN_OFF': ['0%', 11]}\n"
          ]
        }
      ],
      "source": [
        "def get_percentage():\n",
        "\n",
        "  percentages = {}\n",
        "  for base in bases:\n",
        "    for i in range(1,3):\n",
        "      date = date_now.today() - timedelta(i)\n",
        "      para = f'?GroupWithLessonSearch%5BnextLessonTime%5D={date}+-+{date}&GroupWithLessonSearch%5BnextLessonNumber%5D=&GroupWithLessonSearch%5BnextLessonTitle%5D=&GroupWithLessonSearch%5Bid%5D=&GroupWithLessonSearch%5Btitle%5D={base}&GroupWithLessonSearch%5Bvenue%5D=&GroupWithLessonSearch%5Bactive_student_count%5D=&GroupWithLessonSearch%5Bweekday%5D=&GroupWithLessonSearch%5BlessonTeacherName%5D=&GroupWithLessonSearch%5Bteacher%5D=&GroupWithLessonSearch%5Bcurator%5D=&GroupWithLessonSearch%5Btype%5D=&GroupWithLessonSearch%5Bstatus%5D=&GroupWithLessonSearch%5BlessonFormat%5D=&GroupWithLessonSearch%5Bis_online%5D=&export=true&name=default&exportType=html'\n",
        "      header =  {\n",
        "        \"accept\": \"text/html,application/xhtml+xml,application/xml;q=0.9,image/avif,image/webp,image/apng,*/*;q=0.8,application/signed-exchange;v=b3;q=0.7\",\n",
        "        \"accept-language\": \"en-US,en;q=0.9,vi-VN;q=0.8,vi;q=0.7\",\n",
        "        \"cache-control\": \"max-age=0\",\n",
        "        \"sec-ch-ua\": \"\\\"Not/A)Brand\\\";v=\\\"99\\\", \\\"Google Chrome\\\";v=\\\"115\\\", \\\"Chromium\\\";v=\\\"115\\\"\",\n",
        "        \"sec-ch-ua-mobile\": \"?0\",\n",
        "        \"sec-ch-ua-platform\": \"\\\"Windows\\\"\",\n",
        "        \"sec-fetch-dest\": \"document\",\n",
        "        \"sec-fetch-mode\": \"navigate\",\n",
        "        \"sec-fetch-site\": \"same-origin\",\n",
        "        \"sec-fetch-user\": \"?1\",\n",
        "        \"upgrade-insecure-requests\": \"1\",\n",
        "        \"cookie\": \"_ym_uid=1664966280852805697; intercom-device-id-ufjpx6k3=fd3080c1-5a63-4af6-bd1f-15268d549a7e; userId=30454; _grid_page_size_schedule=35d0980fa38e2255112d0c62698773cab8aa12a81c6735caf172064b5eb6ea47a%3A2%3A%7Bi%3A0%3Bs%3A24%3A%22_grid_page_size_schedule%22%3Bi%3A1%3Bs%3A3%3A%22200%22%3B%7D; _grid_page_size=d3ebbdf9ec9235bfc4ba59572a6d3dd403a563222be148e9c705e91612194e49a%3A2%3A%7Bi%3A0%3Bs%3A15%3A%22_grid_page_size%22%3Bi%3A1%3Bs%3A3%3A%22200%22%3B%7D; _ym_d=1680775536; createdTimestamp=1691049380; accessToken=adc7d965abf052753f1100b9011d8a003f95f61c1470890bbc9fc57375638ae1; SERVERID=b430; _backendMainSessionId=308eb74178b6836b7f09e74ce8c7bd60; _gid=GA1.2.274018822.1691049382; _ym_isad=2; studentId=1700942; advanced-frontend-multi=02cd99881ff23c1c8d06338e6e1f0422; studentAccessToken=9add4094c84a4cc4de00a8966e2a1db4acf28097eeeb7450b7da0cc2fd9c1435; studentCreatedTimestamp=1691060914; _ym_visorc=w; _gat_gtag_UA_122842599_49=1; _ga_3QSGZBLTE3=GS1.1.1691064500.176.1.1691064887.51.0.0; _ga=GA1.1.1620969847.1664966279; intercom-session-ufjpx6k3=NFk3M3NWdTMyZncvRXZVZllnWnZpRFgvakdseEFYaTJSUkJHUmlqWXh5WnJISFFJOWZybTdvOFNYWkZoM1EydC0tMmFzMmNvcVZNWEZwZGJhVGF0ZHV2QT09--c2df8774ec2162b96bd9cb963833c31ce768f969; _ga_4CL98HXNQK=GS1.1.1691064500.5.1.1691064896.0.0.0\",\n",
        "        \"Referer\": f\"{CPR_DOMAINS}?GroupLessonSearch%5Bstart_time%5D={date}%20-%20{date}&GroupLessonSearch%5Bnumber%5D=&GroupLessonSearch%5Blesson.title%5D=&GroupLessonSearch%5Bgroup_id%5D=&GroupLessonSearch%5Bgroup.title%5D={base}&GroupLessonSearch%5Bgroup.active_student_count%5D=&GroupLessonSearch%5Bweekday%5D=&GroupLessonSearch%5Bteacher.name%5D=&GroupLessonSearch%5Bgroup.teacher.name%5D=&GroupLessonSearch%5Bis_online%5D=\",\n",
        "        \"Referrer-Policy\": \"strict-origin-when-cross-origin\"\n",
        "      }\n",
        "      end_point = CPR_DOMAINS + para\n",
        "      res = s.get(end_point, headers = header)\n",
        "      output = res.content.decode('utf-8')\n",
        "      soup = BeautifulSoup(output, 'html.parser', from_encoding='utf-8')\n",
        "      soup.find('tbody')\n",
        "      # get data \n",
        "      all_tr = soup.find_all('tr')\n",
        "      for i in range(len(all_tr)):\n",
        "        tr = all_tr[i]\n",
        "        all_td = tr.find_all('td')\n",
        "        next_les = all_td[1]\n",
        "        next_les = next_les.string\n",
        "        group_title = all_td[4].find('a')\n",
        "        \n",
        "        id = all_td[4].find('p')\n",
        "        class_occurrences = all_td[5].find('span')\n",
        "        if class_occurrences is None:\n",
        "          continue\n",
        "        class_occurrences = class_occurrences.string\n",
        "        if group_title is None:\n",
        "          continue\n",
        "        # print(str(class_occurrences))\n",
        "        group_title = group_title.string\n",
        "        percentages[str(group_title)] = [str(class_occurrences), int(next_les)]\n",
        "  \n",
        "  return percentages \n",
        "percentages = get_percentage()\n",
        "print(percentages)"
      ]
    },
    {
      "attachments": {},
      "cell_type": "markdown",
      "metadata": {},
      "source": [
        "main function \n",
        "will get update in the future and clean up soon."
      ]
    },
    {
      "cell_type": "code",
      "execution_count": 4,
      "metadata": {
        "id": "v1INZn-czjlm"
      },
      "outputs": [
        {
          "data": {
            "application/vnd.jupyter.widget-view+json": {
              "model_id": "18962d0801bd417e97541ba7cfd1f30b",
              "version_major": 2,
              "version_minor": 0
            },
            "text/plain": [
              "Output()"
            ]
          },
          "metadata": {},
          "output_type": "display_data"
        },
        {
          "data": {
            "text/html": [
              "<pre style=\"white-space:pre;overflow-x:auto;line-height:normal;font-family:Menlo,'DejaVu Sans Mono',consolas,'Courier New',monospace\">Non\n",
              "</pre>\n"
            ],
            "text/plain": [
              "Non\n"
            ]
          },
          "metadata": {},
          "output_type": "display_data"
        },
        {
          "name": "stdout",
          "output_type": "stream",
          "text": [
            "122\n"
          ]
        },
        {
          "data": {
            "text/html": [
              "<pre style=\"white-space:pre;overflow-x:auto;line-height:normal;font-family:Menlo,'DejaVu Sans Mono',consolas,'Courier New',monospace\">Non invalid literal for int() with base 10: 'S'\n",
              "</pre>\n"
            ],
            "text/plain": [
              "Non invalid literal for int() with base 10: 'S'\n"
            ]
          },
          "metadata": {},
          "output_type": "display_data"
        },
        {
          "data": {
            "text/html": [
              "<pre style=\"white-space:pre;overflow-x:auto;line-height:normal;font-family:Menlo,'DejaVu Sans Mono',consolas,'Courier New',monospace\">NLB_PTSY2.29_SUN_ONL\n",
              "</pre>\n"
            ],
            "text/plain": [
              "NLB_PTSY2.29_SUN_ONL\n"
            ]
          },
          "metadata": {},
          "output_type": "display_data"
        },
        {
          "data": {
            "text/html": [
              "<pre style=\"white-space:pre;overflow-x:auto;line-height:normal;font-family:Menlo,'DejaVu Sans Mono',consolas,'Courier New',monospace\">NLB_VP47_FRI_ONL\n",
              "</pre>\n"
            ],
            "text/plain": [
              "NLB_VP47_FRI_ONL\n"
            ]
          },
          "metadata": {},
          "output_type": "display_data"
        },
        {
          "data": {
            "text/html": [
              "<pre style=\"white-space:pre;overflow-x:auto;line-height:normal;font-family:Menlo,'DejaVu Sans Mono',consolas,'Courier New',monospace\">NLB_PTSY1.64_SUN_ONL\n",
              "</pre>\n"
            ],
            "text/plain": [
              "NLB_PTSY1.64_SUN_ONL\n"
            ]
          },
          "metadata": {},
          "output_type": "display_data"
        },
        {
          "data": {
            "text/html": [
              "<pre style=\"white-space:pre;overflow-x:auto;line-height:normal;font-family:Menlo,'DejaVu Sans Mono',consolas,'Courier New',monospace\">NLB_PTSY2.28_SAT_OFF\n",
              "</pre>\n"
            ],
            "text/plain": [
              "NLB_PTSY2.28_SAT_OFF\n"
            ]
          },
          "metadata": {},
          "output_type": "display_data"
        },
        {
          "data": {
            "text/html": [
              "<pre style=\"white-space:pre;overflow-x:auto;line-height:normal;font-family:Menlo,'DejaVu Sans Mono',consolas,'Courier New',monospace\">NLB_PTPY2.12_SAT_ONL\n",
              "</pre>\n"
            ],
            "text/plain": [
              "NLB_PTPY2.12_SAT_ONL\n"
            ]
          },
          "metadata": {},
          "output_type": "display_data"
        },
        {
          "data": {
            "text/html": [
              "<pre style=\"white-space:pre;overflow-x:auto;line-height:normal;font-family:Menlo,'DejaVu Sans Mono',consolas,'Courier New',monospace\">NLB_VP45_MON_OFF\n",
              "</pre>\n"
            ],
            "text/plain": [
              "NLB_VP45_MON_OFF\n"
            ]
          },
          "metadata": {},
          "output_type": "display_data"
        },
        {
          "data": {
            "text/html": [
              "<pre style=\"white-space:pre;overflow-x:auto;line-height:normal;font-family:Menlo,'DejaVu Sans Mono',consolas,'Courier New',monospace\">NLB_WDY1.15_THU_OFF\n",
              "</pre>\n"
            ],
            "text/plain": [
              "NLB_WDY1.15_THU_OFF\n"
            ]
          },
          "metadata": {},
          "output_type": "display_data"
        },
        {
          "data": {
            "text/html": [
              "<pre style=\"white-space:pre;overflow-x:auto;line-height:normal;font-family:Menlo,'DejaVu Sans Mono',consolas,'Courier New',monospace\">NLB_DL13_SAT_OFF\n",
              "</pre>\n"
            ],
            "text/plain": [
              "NLB_DL13_SAT_OFF\n"
            ]
          },
          "metadata": {},
          "output_type": "display_data"
        },
        {
          "data": {
            "text/html": [
              "<pre style=\"white-space:pre;overflow-x:auto;line-height:normal;font-family:Menlo,'DejaVu Sans Mono',consolas,'Courier New',monospace\">NLB_PTPY1.14_SUN_OFF\n",
              "</pre>\n"
            ],
            "text/plain": [
              "NLB_PTPY1.14_SUN_OFF\n"
            ]
          },
          "metadata": {},
          "output_type": "display_data"
        },
        {
          "data": {
            "text/html": [
              "<pre style=\"white-space:pre;overflow-x:auto;line-height:normal;font-family:Menlo,'DejaVu Sans Mono',consolas,'Courier New',monospace\">NLB_UGD4_FRI_OFF\n",
              "</pre>\n"
            ],
            "text/plain": [
              "NLB_UGD4_FRI_OFF\n"
            ]
          },
          "metadata": {},
          "output_type": "display_data"
        },
        {
          "data": {
            "text/html": [
              "<pre style=\"white-space:pre;overflow-x:auto;line-height:normal;font-family:Menlo,'DejaVu Sans Mono',consolas,'Courier New',monospace\">NLB_GD65_SAT_OFF\n",
              "</pre>\n"
            ],
            "text/plain": [
              "NLB_GD65_SAT_OFF\n"
            ]
          },
          "metadata": {},
          "output_type": "display_data"
        },
        {
          "data": {
            "text/html": [
              "<pre style=\"white-space:pre;overflow-x:auto;line-height:normal;font-family:Menlo,'DejaVu Sans Mono',consolas,'Courier New',monospace\">NLB_PTPY2.11_SUN_OFF\n",
              "</pre>\n"
            ],
            "text/plain": [
              "NLB_PTPY2.11_SUN_OFF\n"
            ]
          },
          "metadata": {},
          "output_type": "display_data"
        },
        {
          "data": {
            "text/html": [
              "<pre style=\"white-space:pre;overflow-x:auto;line-height:normal;font-family:Menlo,'DejaVu Sans Mono',consolas,'Courier New',monospace\">NLB_PTPY2.10_THU_ONL\n",
              "</pre>\n"
            ],
            "text/plain": [
              "NLB_PTPY2.10_THU_ONL\n"
            ]
          },
          "metadata": {},
          "output_type": "display_data"
        },
        {
          "data": {
            "text/html": [
              "<pre style=\"white-space:pre;overflow-x:auto;line-height:normal;font-family:Menlo,'DejaVu Sans Mono',consolas,'Courier New',monospace\">NLB_GD64_FRI_OFF\n",
              "</pre>\n"
            ],
            "text/plain": [
              "NLB_GD64_FRI_OFF\n"
            ]
          },
          "metadata": {},
          "output_type": "display_data"
        },
        {
          "data": {
            "text/html": [
              "<pre style=\"white-space:pre;overflow-x:auto;line-height:normal;font-family:Menlo,'DejaVu Sans Mono',consolas,'Courier New',monospace\">NLB_PTSY1.61_WED_OFF\n",
              "</pre>\n"
            ],
            "text/plain": [
              "NLB_PTSY1.61_WED_OFF\n"
            ]
          },
          "metadata": {},
          "output_type": "display_data"
        },
        {
          "data": {
            "text/html": [
              "<pre style=\"white-space:pre;overflow-x:auto;line-height:normal;font-family:Menlo,'DejaVu Sans Mono',consolas,'Courier New',monospace\">NLB_GD63_WED_OFF\n",
              "</pre>\n"
            ],
            "text/plain": [
              "NLB_GD63_WED_OFF\n"
            ]
          },
          "metadata": {},
          "output_type": "display_data"
        },
        {
          "data": {
            "text/html": [
              "<pre style=\"white-space:pre;overflow-x:auto;line-height:normal;font-family:Menlo,'DejaVu Sans Mono',consolas,'Courier New',monospace\">NLB_PTSY2.26_FRI_ONL\n",
              "</pre>\n"
            ],
            "text/plain": [
              "NLB_PTSY2.26_FRI_ONL\n"
            ]
          },
          "metadata": {},
          "output_type": "display_data"
        },
        {
          "data": {
            "text/html": [
              "<pre style=\"white-space:pre;overflow-x:auto;line-height:normal;font-family:Menlo,'DejaVu Sans Mono',consolas,'Courier New',monospace\">NLB_CK39_SUN_OFF\n",
              "</pre>\n"
            ],
            "text/plain": [
              "NLB_CK39_SUN_OFF\n"
            ]
          },
          "metadata": {},
          "output_type": "display_data"
        },
        {
          "data": {
            "text/html": [
              "<pre style=\"white-space:pre;overflow-x:auto;line-height:normal;font-family:Menlo,'DejaVu Sans Mono',consolas,'Courier New',monospace\">NLB_WDY1.14_FRI_OFF\n",
              "</pre>\n"
            ],
            "text/plain": [
              "NLB_WDY1.14_FRI_OFF\n"
            ]
          },
          "metadata": {},
          "output_type": "display_data"
        },
        {
          "data": {
            "text/html": [
              "<pre style=\"white-space:pre;overflow-x:auto;line-height:normal;font-family:Menlo,'DejaVu Sans Mono',consolas,'Courier New',monospace\">NLB_DL12_MON_OFF\n",
              "</pre>\n"
            ],
            "text/plain": [
              "NLB_DL12_MON_OFF\n"
            ]
          },
          "metadata": {},
          "output_type": "display_data"
        },
        {
          "data": {
            "text/html": [
              "<pre style=\"white-space:pre;overflow-x:auto;line-height:normal;font-family:Menlo,'DejaVu Sans Mono',consolas,'Courier New',monospace\">NLB_VP44_SUN_ONL\n",
              "</pre>\n"
            ],
            "text/plain": [
              "NLB_VP44_SUN_ONL\n"
            ]
          },
          "metadata": {},
          "output_type": "display_data"
        },
        {
          "data": {
            "text/html": [
              "<pre style=\"white-space:pre;overflow-x:auto;line-height:normal;font-family:Menlo,'DejaVu Sans Mono',consolas,'Courier New',monospace\">NLB_PTSY1.60_TUE_ONL\n",
              "</pre>\n"
            ],
            "text/plain": [
              "NLB_PTSY1.60_TUE_ONL\n"
            ]
          },
          "metadata": {},
          "output_type": "display_data"
        },
        {
          "data": {
            "text/html": [
              "<pre style=\"white-space:pre;overflow-x:auto;line-height:normal;font-family:Menlo,'DejaVu Sans Mono',consolas,'Courier New',monospace\">NLB_PTSY1.59_SUN_OFF\n",
              "</pre>\n"
            ],
            "text/plain": [
              "NLB_PTSY1.59_SUN_OFF\n"
            ]
          },
          "metadata": {},
          "output_type": "display_data"
        },
        {
          "data": {
            "text/html": [
              "<pre style=\"white-space:pre;overflow-x:auto;line-height:normal;font-family:Menlo,'DejaVu Sans Mono',consolas,'Courier New',monospace\">NLB_GD62_SAT_ONL\n",
              "</pre>\n"
            ],
            "text/plain": [
              "NLB_GD62_SAT_ONL\n"
            ]
          },
          "metadata": {},
          "output_type": "display_data"
        },
        {
          "data": {
            "text/html": [
              "<pre style=\"white-space:pre;overflow-x:auto;line-height:normal;font-family:Menlo,'DejaVu Sans Mono',consolas,'Courier New',monospace\">NLB_GD61_FRI_ONL\n",
              "</pre>\n"
            ],
            "text/plain": [
              "NLB_GD61_FRI_ONL\n"
            ]
          },
          "metadata": {},
          "output_type": "display_data"
        },
        {
          "data": {
            "text/html": [
              "<pre style=\"white-space:pre;overflow-x:auto;line-height:normal;font-family:Menlo,'DejaVu Sans Mono',consolas,'Courier New',monospace\">NLB_GD60_SUN_OFF\n",
              "</pre>\n"
            ],
            "text/plain": [
              "NLB_GD60_SUN_OFF\n"
            ]
          },
          "metadata": {},
          "output_type": "display_data"
        },
        {
          "data": {
            "text/html": [
              "<pre style=\"white-space:pre;overflow-x:auto;line-height:normal;font-family:Menlo,'DejaVu Sans Mono',consolas,'Courier New',monospace\">NLB_GD59_SUN_ONL\n",
              "</pre>\n"
            ],
            "text/plain": [
              "NLB_GD59_SUN_ONL\n"
            ]
          },
          "metadata": {},
          "output_type": "display_data"
        },
        {
          "data": {
            "text/html": [
              "<pre style=\"white-space:pre;overflow-x:auto;line-height:normal;font-family:Menlo,'DejaVu Sans Mono',consolas,'Courier New',monospace\">NLB_PTPY2.8_FRI_OFF\n",
              "</pre>\n"
            ],
            "text/plain": [
              "NLB_PTPY2.8_FRI_OFF\n"
            ]
          },
          "metadata": {},
          "output_type": "display_data"
        },
        {
          "data": {
            "text/html": [
              "<pre style=\"white-space:pre;overflow-x:auto;line-height:normal;font-family:Menlo,'DejaVu Sans Mono',consolas,'Courier New',monospace\">NLB_DL11_SUN_OFF\n",
              "</pre>\n"
            ],
            "text/plain": [
              "NLB_DL11_SUN_OFF\n"
            ]
          },
          "metadata": {},
          "output_type": "display_data"
        },
        {
          "data": {
            "text/html": [
              "<pre style=\"white-space:pre;overflow-x:auto;line-height:normal;font-family:Menlo,'DejaVu Sans Mono',consolas,'Courier New',monospace\">NLB_PTSY2.25_FRI_ONL\n",
              "</pre>\n"
            ],
            "text/plain": [
              "NLB_PTSY2.25_FRI_ONL\n"
            ]
          },
          "metadata": {},
          "output_type": "display_data"
        },
        {
          "data": {
            "text/html": [
              "<pre style=\"white-space:pre;overflow-x:auto;line-height:normal;font-family:Menlo,'DejaVu Sans Mono',consolas,'Courier New',monospace\">NLB_GD58_MON_OFF\n",
              "</pre>\n"
            ],
            "text/plain": [
              "NLB_GD58_MON_OFF\n"
            ]
          },
          "metadata": {},
          "output_type": "display_data"
        },
        {
          "data": {
            "text/html": [
              "<pre style=\"white-space:pre;overflow-x:auto;line-height:normal;font-family:Menlo,'DejaVu Sans Mono',consolas,'Courier New',monospace\">NLB_VP42_SAT_OFF\n",
              "</pre>\n"
            ],
            "text/plain": [
              "NLB_VP42_SAT_OFF\n"
            ]
          },
          "metadata": {},
          "output_type": "display_data"
        },
        {
          "data": {
            "text/html": [
              "<pre style=\"white-space:pre;overflow-x:auto;line-height:normal;font-family:Menlo,'DejaVu Sans Mono',consolas,'Courier New',monospace\">NLB_CK38_SAT_OFF\n",
              "</pre>\n"
            ],
            "text/plain": [
              "NLB_CK38_SAT_OFF\n"
            ]
          },
          "metadata": {},
          "output_type": "display_data"
        },
        {
          "data": {
            "text/html": [
              "<pre style=\"white-space:pre;overflow-x:auto;line-height:normal;font-family:Menlo,'DejaVu Sans Mono',consolas,'Courier New',monospace\">NLB_PTSY2.24_TUE_OFF\n",
              "</pre>\n"
            ],
            "text/plain": [
              "NLB_PTSY2.24_TUE_OFF\n"
            ]
          },
          "metadata": {},
          "output_type": "display_data"
        },
        {
          "data": {
            "text/html": [
              "<pre style=\"white-space:pre;overflow-x:auto;line-height:normal;font-family:Menlo,'DejaVu Sans Mono',consolas,'Courier New',monospace\">NLB_PTSY1.58_FRI_ONL\n",
              "</pre>\n"
            ],
            "text/plain": [
              "NLB_PTSY1.58_FRI_ONL\n"
            ]
          },
          "metadata": {},
          "output_type": "display_data"
        },
        {
          "data": {
            "text/html": [
              "<pre style=\"white-space:pre;overflow-x:auto;line-height:normal;font-family:Menlo,'DejaVu Sans Mono',consolas,'Courier New',monospace\">NLB_PTPY2.7_SUN_OFF (PRIVATE)\n",
              "</pre>\n"
            ],
            "text/plain": [
              "NLB_PTPY2.7_SUN_OFF (PRIVATE)\n"
            ]
          },
          "metadata": {},
          "output_type": "display_data"
        },
        {
          "data": {
            "text/html": [
              "<pre style=\"white-space:pre;overflow-x:auto;line-height:normal;font-family:Menlo,'DejaVu Sans Mono',consolas,'Courier New',monospace\">NLB_WDY2.3_SUN_OFF\n",
              "</pre>\n"
            ],
            "text/plain": [
              "NLB_WDY2.3_SUN_OFF\n"
            ]
          },
          "metadata": {},
          "output_type": "display_data"
        },
        {
          "data": {
            "text/html": [
              "<pre style=\"white-space:pre;overflow-x:auto;line-height:normal;font-family:Menlo,'DejaVu Sans Mono',consolas,'Courier New',monospace\">NLB_CK37_THU_OFF\n",
              "</pre>\n"
            ],
            "text/plain": [
              "NLB_CK37_THU_OFF\n"
            ]
          },
          "metadata": {},
          "output_type": "display_data"
        },
        {
          "data": {
            "text/html": [
              "<pre style=\"white-space:pre;overflow-x:auto;line-height:normal;font-family:Menlo,'DejaVu Sans Mono',consolas,'Courier New',monospace\">NLB_PTPY1.11_SUN_OFF\n",
              "</pre>\n"
            ],
            "text/plain": [
              "NLB_PTPY1.11_SUN_OFF\n"
            ]
          },
          "metadata": {},
          "output_type": "display_data"
        },
        {
          "data": {
            "text/html": [
              "<pre style=\"white-space:pre;overflow-x:auto;line-height:normal;font-family:Menlo,'DejaVu Sans Mono',consolas,'Courier New',monospace\">NLB_WDY2.2_SUN_ONL\n",
              "</pre>\n"
            ],
            "text/plain": [
              "NLB_WDY2.2_SUN_ONL\n"
            ]
          },
          "metadata": {},
          "output_type": "display_data"
        },
        {
          "data": {
            "text/html": [
              "<pre style=\"white-space:pre;overflow-x:auto;line-height:normal;font-family:Menlo,'DejaVu Sans Mono',consolas,'Courier New',monospace\">NLB_WDY1.13_SUN_OFF\n",
              "</pre>\n"
            ],
            "text/plain": [
              "NLB_WDY1.13_SUN_OFF\n"
            ]
          },
          "metadata": {},
          "output_type": "display_data"
        },
        {
          "data": {
            "text/html": [
              "<pre style=\"white-space:pre;overflow-x:auto;line-height:normal;font-family:Menlo,'DejaVu Sans Mono',consolas,'Courier New',monospace\">NLB_PTSY1.57_FRI_OFF\n",
              "</pre>\n"
            ],
            "text/plain": [
              "NLB_PTSY1.57_FRI_OFF\n"
            ]
          },
          "metadata": {},
          "output_type": "display_data"
        },
        {
          "data": {
            "text/html": [
              "<pre style=\"white-space:pre;overflow-x:auto;line-height:normal;font-family:Menlo,'DejaVu Sans Mono',consolas,'Courier New',monospace\">NLB_PTPY2.6_SUN_OFF\n",
              "</pre>\n"
            ],
            "text/plain": [
              "NLB_PTPY2.6_SUN_OFF\n"
            ]
          },
          "metadata": {},
          "output_type": "display_data"
        },
        {
          "data": {
            "text/html": [
              "<pre style=\"white-space:pre;overflow-x:auto;line-height:normal;font-family:Menlo,'DejaVu Sans Mono',consolas,'Courier New',monospace\">NLB_PTSY1.56_MON_ONL\n",
              "</pre>\n"
            ],
            "text/plain": [
              "NLB_PTSY1.56_MON_ONL\n"
            ]
          },
          "metadata": {},
          "output_type": "display_data"
        },
        {
          "data": {
            "text/html": [
              "<pre style=\"white-space:pre;overflow-x:auto;line-height:normal;font-family:Menlo,'DejaVu Sans Mono',consolas,'Courier New',monospace\">NLB_GD57_MON_OFF\n",
              "</pre>\n"
            ],
            "text/plain": [
              "NLB_GD57_MON_OFF\n"
            ]
          },
          "metadata": {},
          "output_type": "display_data"
        },
        {
          "data": {
            "text/html": [
              "<pre style=\"white-space:pre;overflow-x:auto;line-height:normal;font-family:Menlo,'DejaVu Sans Mono',consolas,'Courier New',monospace\">NLB_PTSY2.22_SUN_OFF\n",
              "</pre>\n"
            ],
            "text/plain": [
              "NLB_PTSY2.22_SUN_OFF\n"
            ]
          },
          "metadata": {},
          "output_type": "display_data"
        },
        {
          "data": {
            "text/html": [
              "<pre style=\"white-space:pre;overflow-x:auto;line-height:normal;font-family:Menlo,'DejaVu Sans Mono',consolas,'Courier New',monospace\">NLB_WDY1.12_SAT_ONL\n",
              "</pre>\n"
            ],
            "text/plain": [
              "NLB_WDY1.12_SAT_ONL\n"
            ]
          },
          "metadata": {},
          "output_type": "display_data"
        },
        {
          "data": {
            "text/html": [
              "<pre style=\"white-space:pre;overflow-x:auto;line-height:normal;font-family:Menlo,'DejaVu Sans Mono',consolas,'Courier New',monospace\">NLB_PTSY1.55_SAT_ONL\n",
              "</pre>\n"
            ],
            "text/plain": [
              "NLB_PTSY1.55_SAT_ONL\n"
            ]
          },
          "metadata": {},
          "output_type": "display_data"
        },
        {
          "data": {
            "text/html": [
              "<pre style=\"white-space:pre;overflow-x:auto;line-height:normal;font-family:Menlo,'DejaVu Sans Mono',consolas,'Courier New',monospace\">NLB_PTPY1.10_THU_OFF\n",
              "</pre>\n"
            ],
            "text/plain": [
              "NLB_PTPY1.10_THU_OFF\n"
            ]
          },
          "metadata": {},
          "output_type": "display_data"
        },
        {
          "data": {
            "text/html": [
              "<pre style=\"white-space:pre;overflow-x:auto;line-height:normal;font-family:Menlo,'DejaVu Sans Mono',consolas,'Courier New',monospace\">NLB_VP41_SUN_ONL\n",
              "</pre>\n"
            ],
            "text/plain": [
              "NLB_VP41_SUN_ONL\n"
            ]
          },
          "metadata": {},
          "output_type": "display_data"
        },
        {
          "data": {
            "text/html": [
              "<pre style=\"white-space:pre;overflow-x:auto;line-height:normal;font-family:Menlo,'DejaVu Sans Mono',consolas,'Courier New',monospace\">NLB_GD56_SUN_OFF\n",
              "</pre>\n"
            ],
            "text/plain": [
              "NLB_GD56_SUN_OFF\n"
            ]
          },
          "metadata": {},
          "output_type": "display_data"
        },
        {
          "data": {
            "text/html": [
              "<pre style=\"white-space:pre;overflow-x:auto;line-height:normal;font-family:Menlo,'DejaVu Sans Mono',consolas,'Courier New',monospace\">NLB_CK36_SUN_OFF\n",
              "</pre>\n"
            ],
            "text/plain": [
              "NLB_CK36_SUN_OFF\n"
            ]
          },
          "metadata": {},
          "output_type": "display_data"
        },
        {
          "data": {
            "text/html": [
              "<pre style=\"white-space:pre;overflow-x:auto;line-height:normal;font-family:Menlo,'DejaVu Sans Mono',consolas,'Courier New',monospace\">NLB_PTSY1.54_SAT_OFF\n",
              "</pre>\n"
            ],
            "text/plain": [
              "NLB_PTSY1.54_SAT_OFF\n"
            ]
          },
          "metadata": {},
          "output_type": "display_data"
        },
        {
          "data": {
            "text/html": [
              "<pre style=\"white-space:pre;overflow-x:auto;line-height:normal;font-family:Menlo,'DejaVu Sans Mono',consolas,'Courier New',monospace\">NLB_GD55_WED_OFF\n",
              "</pre>\n"
            ],
            "text/plain": [
              "NLB_GD55_WED_OFF\n"
            ]
          },
          "metadata": {},
          "output_type": "display_data"
        },
        {
          "data": {
            "text/html": [
              "<pre style=\"white-space:pre;overflow-x:auto;line-height:normal;font-family:Menlo,'DejaVu Sans Mono',consolas,'Courier New',monospace\">NLB_VP40_THU_OFF\n",
              "</pre>\n"
            ],
            "text/plain": [
              "NLB_VP40_THU_OFF\n"
            ]
          },
          "metadata": {},
          "output_type": "display_data"
        },
        {
          "data": {
            "text/html": [
              "<pre style=\"white-space:pre;overflow-x:auto;line-height:normal;font-family:Menlo,'DejaVu Sans Mono',consolas,'Courier New',monospace\">NLB_VP39_MON_OFF\n",
              "</pre>\n"
            ],
            "text/plain": [
              "NLB_VP39_MON_OFF\n"
            ]
          },
          "metadata": {},
          "output_type": "display_data"
        },
        {
          "data": {
            "text/html": [
              "<pre style=\"white-space:pre;overflow-x:auto;line-height:normal;font-family:Menlo,'DejaVu Sans Mono',consolas,'Courier New',monospace\">NLB_UGD3_SUN_OFF\n",
              "</pre>\n"
            ],
            "text/plain": [
              "NLB_UGD3_SUN_OFF\n"
            ]
          },
          "metadata": {},
          "output_type": "display_data"
        },
        {
          "data": {
            "text/html": [
              "<pre style=\"white-space:pre;overflow-x:auto;line-height:normal;font-family:Menlo,'DejaVu Sans Mono',consolas,'Courier New',monospace\"> NLB_GD54_SUN_OFF\n",
              "</pre>\n"
            ],
            "text/plain": [
              " NLB_GD54_SUN_OFF\n"
            ]
          },
          "metadata": {},
          "output_type": "display_data"
        },
        {
          "data": {
            "text/html": [
              "<pre style=\"white-space:pre;overflow-x:auto;line-height:normal;font-family:Menlo,'DejaVu Sans Mono',consolas,'Courier New',monospace\">NLB_WDY1.11_SUN_OFF\n",
              "</pre>\n"
            ],
            "text/plain": [
              "NLB_WDY1.11_SUN_OFF\n"
            ]
          },
          "metadata": {},
          "output_type": "display_data"
        },
        {
          "data": {
            "text/html": [
              "<pre style=\"white-space:pre;overflow-x:auto;line-height:normal;font-family:Menlo,'DejaVu Sans Mono',consolas,'Courier New',monospace\">NLB_DL10_SAT_OFF\n",
              "</pre>\n"
            ],
            "text/plain": [
              "NLB_DL10_SAT_OFF\n"
            ]
          },
          "metadata": {},
          "output_type": "display_data"
        },
        {
          "data": {
            "text/html": [
              "<pre style=\"white-space:pre;overflow-x:auto;line-height:normal;font-family:Menlo,'DejaVu Sans Mono',consolas,'Courier New',monospace\">NLB_VP38_SAT_OFF\n",
              "</pre>\n"
            ],
            "text/plain": [
              "NLB_VP38_SAT_OFF\n"
            ]
          },
          "metadata": {},
          "output_type": "display_data"
        },
        {
          "data": {
            "text/html": [
              "<pre style=\"white-space:pre;overflow-x:auto;line-height:normal;font-family:Menlo,'DejaVu Sans Mono',consolas,'Courier New',monospace\">NLB_GD52_SAT_OFF\n",
              "</pre>\n"
            ],
            "text/plain": [
              "NLB_GD52_SAT_OFF\n"
            ]
          },
          "metadata": {},
          "output_type": "display_data"
        },
        {
          "data": {
            "text/html": [
              "<pre style=\"white-space:pre;overflow-x:auto;line-height:normal;font-family:Menlo,'DejaVu Sans Mono',consolas,'Courier New',monospace\">NLB_PTSY1.52_MON_OFF\n",
              "</pre>\n"
            ],
            "text/plain": [
              "NLB_PTSY1.52_MON_OFF\n"
            ]
          },
          "metadata": {},
          "output_type": "display_data"
        },
        {
          "data": {
            "text/html": [
              "<pre style=\"white-space:pre;overflow-x:auto;line-height:normal;font-family:Menlo,'DejaVu Sans Mono',consolas,'Courier New',monospace\">NLB_VP37_SAT_OFF\n",
              "</pre>\n"
            ],
            "text/plain": [
              "NLB_VP37_SAT_OFF\n"
            ]
          },
          "metadata": {},
          "output_type": "display_data"
        },
        {
          "data": {
            "text/html": [
              "<pre style=\"white-space:pre;overflow-x:auto;line-height:normal;font-family:Menlo,'DejaVu Sans Mono',consolas,'Courier New',monospace\">NLB_PTSY2.21_THU_ONL\n",
              "</pre>\n"
            ],
            "text/plain": [
              "NLB_PTSY2.21_THU_ONL\n"
            ]
          },
          "metadata": {},
          "output_type": "display_data"
        },
        {
          "data": {
            "text/html": [
              "<pre style=\"white-space:pre;overflow-x:auto;line-height:normal;font-family:Menlo,'DejaVu Sans Mono',consolas,'Courier New',monospace\">NLB_PTPY1.9_SUN_ONL\n",
              "</pre>\n"
            ],
            "text/plain": [
              "NLB_PTPY1.9_SUN_ONL\n"
            ]
          },
          "metadata": {},
          "output_type": "display_data"
        },
        {
          "data": {
            "text/html": [
              "<pre style=\"white-space:pre;overflow-x:auto;line-height:normal;font-family:Menlo,'DejaVu Sans Mono',consolas,'Courier New',monospace\">NLB_PTSY2.20_SAT_OFF\n",
              "</pre>\n"
            ],
            "text/plain": [
              "NLB_PTSY2.20_SAT_OFF\n"
            ]
          },
          "metadata": {},
          "output_type": "display_data"
        },
        {
          "data": {
            "text/html": [
              "<pre style=\"white-space:pre;overflow-x:auto;line-height:normal;font-family:Menlo,'DejaVu Sans Mono',consolas,'Courier New',monospace\">NLB_CK34_SUN_OFF\n",
              "</pre>\n"
            ],
            "text/plain": [
              "NLB_CK34_SUN_OFF\n"
            ]
          },
          "metadata": {},
          "output_type": "display_data"
        },
        {
          "data": {
            "text/html": [
              "<pre style=\"white-space:pre;overflow-x:auto;line-height:normal;font-family:Menlo,'DejaVu Sans Mono',consolas,'Courier New',monospace\">NLB_PTSY2.19_TUE_OFF\n",
              "</pre>\n"
            ],
            "text/plain": [
              "NLB_PTSY2.19_TUE_OFF\n"
            ]
          },
          "metadata": {},
          "output_type": "display_data"
        },
        {
          "data": {
            "text/html": [
              "<pre style=\"white-space:pre;overflow-x:auto;line-height:normal;font-family:Menlo,'DejaVu Sans Mono',consolas,'Courier New',monospace\">NLB_VP36_SUN_OFF\n",
              "</pre>\n"
            ],
            "text/plain": [
              "NLB_VP36_SUN_OFF\n"
            ]
          },
          "metadata": {},
          "output_type": "display_data"
        },
        {
          "data": {
            "text/html": [
              "<pre style=\"white-space:pre;overflow-x:auto;line-height:normal;font-family:Menlo,'DejaVu Sans Mono',consolas,'Courier New',monospace\">NLB_CK33_FRI_ONL\n",
              "</pre>\n"
            ],
            "text/plain": [
              "NLB_CK33_FRI_ONL\n"
            ]
          },
          "metadata": {},
          "output_type": "display_data"
        },
        {
          "data": {
            "text/html": [
              "<pre style=\"white-space:pre;overflow-x:auto;line-height:normal;font-family:Menlo,'DejaVu Sans Mono',consolas,'Courier New',monospace\">NLB_VP35_MON_OFF\n",
              "</pre>\n"
            ],
            "text/plain": [
              "NLB_VP35_MON_OFF\n"
            ]
          },
          "metadata": {},
          "output_type": "display_data"
        },
        {
          "data": {
            "text/html": [
              "<pre style=\"white-space:pre;overflow-x:auto;line-height:normal;font-family:Menlo,'DejaVu Sans Mono',consolas,'Courier New',monospace\">NLB_VP34_TUE_OFF\n",
              "</pre>\n"
            ],
            "text/plain": [
              "NLB_VP34_TUE_OFF\n"
            ]
          },
          "metadata": {},
          "output_type": "display_data"
        },
        {
          "data": {
            "text/html": [
              "<pre style=\"white-space:pre;overflow-x:auto;line-height:normal;font-family:Menlo,'DejaVu Sans Mono',consolas,'Courier New',monospace\">NLB_WDY1.10_WED_OFF\n",
              "</pre>\n"
            ],
            "text/plain": [
              "NLB_WDY1.10_WED_OFF\n"
            ]
          },
          "metadata": {},
          "output_type": "display_data"
        },
        {
          "data": {
            "text/html": [
              "<pre style=\"white-space:pre;overflow-x:auto;line-height:normal;font-family:Menlo,'DejaVu Sans Mono',consolas,'Courier New',monospace\">NLB_GD51_TUE_ONL\n",
              "</pre>\n"
            ],
            "text/plain": [
              "NLB_GD51_TUE_ONL\n"
            ]
          },
          "metadata": {},
          "output_type": "display_data"
        },
        {
          "data": {
            "text/html": [
              "<pre style=\"white-space:pre;overflow-x:auto;line-height:normal;font-family:Menlo,'DejaVu Sans Mono',consolas,'Courier New',monospace\">NLB_GD50_THU_ONL\n",
              "</pre>\n"
            ],
            "text/plain": [
              "NLB_GD50_THU_ONL\n"
            ]
          },
          "metadata": {},
          "output_type": "display_data"
        },
        {
          "data": {
            "text/html": [
              "<pre style=\"white-space:pre;overflow-x:auto;line-height:normal;font-family:Menlo,'DejaVu Sans Mono',consolas,'Courier New',monospace\">NLB_GD49_THU_OFF\n",
              "</pre>\n"
            ],
            "text/plain": [
              "NLB_GD49_THU_OFF\n"
            ]
          },
          "metadata": {},
          "output_type": "display_data"
        },
        {
          "data": {
            "text/html": [
              "<pre style=\"white-space:pre;overflow-x:auto;line-height:normal;font-family:Menlo,'DejaVu Sans Mono',consolas,'Courier New',monospace\">NLB_PTSY1.51_SAT_ONL\n",
              "</pre>\n"
            ],
            "text/plain": [
              "NLB_PTSY1.51_SAT_ONL\n"
            ]
          },
          "metadata": {},
          "output_type": "display_data"
        },
        {
          "data": {
            "text/html": [
              "<pre style=\"white-space:pre;overflow-x:auto;line-height:normal;font-family:Menlo,'DejaVu Sans Mono',consolas,'Courier New',monospace\"> NLB_PTSY2.18_MON_OFF\n",
              "</pre>\n"
            ],
            "text/plain": [
              " NLB_PTSY2.18_MON_OFF\n"
            ]
          },
          "metadata": {},
          "output_type": "display_data"
        },
        {
          "data": {
            "text/html": [
              "<pre style=\"white-space:pre;overflow-x:auto;line-height:normal;font-family:Menlo,'DejaVu Sans Mono',consolas,'Courier New',monospace\">NLB_PTPY1.8_FRI_OFF\n",
              "</pre>\n"
            ],
            "text/plain": [
              "NLB_PTPY1.8_FRI_OFF\n"
            ]
          },
          "metadata": {},
          "output_type": "display_data"
        },
        {
          "data": {
            "text/html": [
              "<pre style=\"white-space:pre;overflow-x:auto;line-height:normal;font-family:Menlo,'DejaVu Sans Mono',consolas,'Courier New',monospace\">NLB_PTSY1.50_THU_OFF\n",
              "</pre>\n"
            ],
            "text/plain": [
              "NLB_PTSY1.50_THU_OFF\n"
            ]
          },
          "metadata": {},
          "output_type": "display_data"
        },
        {
          "data": {
            "text/html": [
              "<pre style=\"white-space:pre;overflow-x:auto;line-height:normal;font-family:Menlo,'DejaVu Sans Mono',consolas,'Courier New',monospace\">NLB_PTSY1.49_SAT_OFF\n",
              "</pre>\n"
            ],
            "text/plain": [
              "NLB_PTSY1.49_SAT_OFF\n"
            ]
          },
          "metadata": {},
          "output_type": "display_data"
        },
        {
          "data": {
            "text/html": [
              "<pre style=\"white-space:pre;overflow-x:auto;line-height:normal;font-family:Menlo,'DejaVu Sans Mono',consolas,'Courier New',monospace\">NLB_CK32_SAT_OFF\n",
              "</pre>\n"
            ],
            "text/plain": [
              "NLB_CK32_SAT_OFF\n"
            ]
          },
          "metadata": {},
          "output_type": "display_data"
        },
        {
          "data": {
            "text/html": [
              "<pre style=\"white-space:pre;overflow-x:auto;line-height:normal;font-family:Menlo,'DejaVu Sans Mono',consolas,'Courier New',monospace\">NLB_PTSY2.17_FRI_ONL\n",
              "</pre>\n"
            ],
            "text/plain": [
              "NLB_PTSY2.17_FRI_ONL\n"
            ]
          },
          "metadata": {},
          "output_type": "display_data"
        },
        {
          "data": {
            "text/html": [
              "<pre style=\"white-space:pre;overflow-x:auto;line-height:normal;font-family:Menlo,'DejaVu Sans Mono',consolas,'Courier New',monospace\">NLB_GD48_FRI_ONL\n",
              "</pre>\n"
            ],
            "text/plain": [
              "NLB_GD48_FRI_ONL\n"
            ]
          },
          "metadata": {},
          "output_type": "display_data"
        },
        {
          "data": {
            "text/html": [
              "<pre style=\"white-space:pre;overflow-x:auto;line-height:normal;font-family:Menlo,'DejaVu Sans Mono',consolas,'Courier New',monospace\">NLB_PTSY1.48_THU_ONL\n",
              "</pre>\n"
            ],
            "text/plain": [
              "NLB_PTSY1.48_THU_ONL\n"
            ]
          },
          "metadata": {},
          "output_type": "display_data"
        },
        {
          "data": {
            "text/html": [
              "<pre style=\"white-space:pre;overflow-x:auto;line-height:normal;font-family:Menlo,'DejaVu Sans Mono',consolas,'Courier New',monospace\">NLB_CK31_SUN_ONL\n",
              "</pre>\n"
            ],
            "text/plain": [
              "NLB_CK31_SUN_ONL\n"
            ]
          },
          "metadata": {},
          "output_type": "display_data"
        },
        {
          "data": {
            "text/html": [
              "<pre style=\"white-space:pre;overflow-x:auto;line-height:normal;font-family:Menlo,'DejaVu Sans Mono',consolas,'Courier New',monospace\">NLB_GD47_SAT_ONL\n",
              "</pre>\n"
            ],
            "text/plain": [
              "NLB_GD47_SAT_ONL\n"
            ]
          },
          "metadata": {},
          "output_type": "display_data"
        },
        {
          "data": {
            "text/html": [
              "<pre style=\"white-space:pre;overflow-x:auto;line-height:normal;font-family:Menlo,'DejaVu Sans Mono',consolas,'Courier New',monospace\">NLB_DL9_SAT_OFF\n",
              "</pre>\n"
            ],
            "text/plain": [
              "NLB_DL9_SAT_OFF\n"
            ]
          },
          "metadata": {},
          "output_type": "display_data"
        },
        {
          "data": {
            "text/html": [
              "<pre style=\"white-space:pre;overflow-x:auto;line-height:normal;font-family:Menlo,'DejaVu Sans Mono',consolas,'Courier New',monospace\">NLB_PTPY1.7_SAT_OFF\n",
              "</pre>\n"
            ],
            "text/plain": [
              "NLB_PTPY1.7_SAT_OFF\n"
            ]
          },
          "metadata": {},
          "output_type": "display_data"
        },
        {
          "data": {
            "text/html": [
              "<pre style=\"white-space:pre;overflow-x:auto;line-height:normal;font-family:Menlo,'DejaVu Sans Mono',consolas,'Courier New',monospace\">NLB_GD46_SAT_OFF\n",
              "</pre>\n"
            ],
            "text/plain": [
              "NLB_GD46_SAT_OFF\n"
            ]
          },
          "metadata": {},
          "output_type": "display_data"
        },
        {
          "data": {
            "text/html": [
              "<pre style=\"white-space:pre;overflow-x:auto;line-height:normal;font-family:Menlo,'DejaVu Sans Mono',consolas,'Courier New',monospace\">NLB_UGD2_SAT_OFF\n",
              "</pre>\n"
            ],
            "text/plain": [
              "NLB_UGD2_SAT_OFF\n"
            ]
          },
          "metadata": {},
          "output_type": "display_data"
        },
        {
          "data": {
            "text/html": [
              "<pre style=\"white-space:pre;overflow-x:auto;line-height:normal;font-family:Menlo,'DejaVu Sans Mono',consolas,'Courier New',monospace\">NLB_VP33_SAT_OFF\n",
              "</pre>\n"
            ],
            "text/plain": [
              "NLB_VP33_SAT_OFF\n"
            ]
          },
          "metadata": {},
          "output_type": "display_data"
        },
        {
          "data": {
            "text/html": [
              "<pre style=\"white-space:pre;overflow-x:auto;line-height:normal;font-family:Menlo,'DejaVu Sans Mono',consolas,'Courier New',monospace\">NLB_WDY1.9_SAT_OFF\n",
              "</pre>\n"
            ],
            "text/plain": [
              "NLB_WDY1.9_SAT_OFF\n"
            ]
          },
          "metadata": {},
          "output_type": "display_data"
        },
        {
          "data": {
            "text/html": [
              "<pre style=\"white-space:pre;overflow-x:auto;line-height:normal;font-family:Menlo,'DejaVu Sans Mono',consolas,'Courier New',monospace\">NLB_CK30_TUE_OFF\n",
              "</pre>\n"
            ],
            "text/plain": [
              "NLB_CK30_TUE_OFF\n"
            ]
          },
          "metadata": {},
          "output_type": "display_data"
        },
        {
          "data": {
            "text/html": [
              "<pre style=\"white-space:pre;overflow-x:auto;line-height:normal;font-family:Menlo,'DejaVu Sans Mono',consolas,'Courier New',monospace\">NLB_GD45_TUE_OFF\n",
              "</pre>\n"
            ],
            "text/plain": [
              "NLB_GD45_TUE_OFF\n"
            ]
          },
          "metadata": {},
          "output_type": "display_data"
        },
        {
          "data": {
            "text/html": [
              "<pre style=\"white-space:pre;overflow-x:auto;line-height:normal;font-family:Menlo,'DejaVu Sans Mono',consolas,'Courier New',monospace\">NLB_VP32_MON_ONL\n",
              "</pre>\n"
            ],
            "text/plain": [
              "NLB_VP32_MON_ONL\n"
            ]
          },
          "metadata": {},
          "output_type": "display_data"
        },
        {
          "data": {
            "text/html": [
              "<pre style=\"white-space:pre;overflow-x:auto;line-height:normal;font-family:Menlo,'DejaVu Sans Mono',consolas,'Courier New',monospace\">NLB_GD44_WED_OFF\n",
              "</pre>\n"
            ],
            "text/plain": [
              "NLB_GD44_WED_OFF\n"
            ]
          },
          "metadata": {},
          "output_type": "display_data"
        },
        {
          "data": {
            "text/html": [
              "<pre style=\"white-space:pre;overflow-x:auto;line-height:normal;font-family:Menlo,'DejaVu Sans Mono',consolas,'Courier New',monospace\">NLB_PTSY1.46_SAT_OFF\n",
              "</pre>\n"
            ],
            "text/plain": [
              "NLB_PTSY1.46_SAT_OFF\n"
            ]
          },
          "metadata": {},
          "output_type": "display_data"
        },
        {
          "data": {
            "text/html": [
              "<pre style=\"white-space:pre;overflow-x:auto;line-height:normal;font-family:Menlo,'DejaVu Sans Mono',consolas,'Courier New',monospace\">NLB_VP30_SUN_ONL\n",
              "</pre>\n"
            ],
            "text/plain": [
              "NLB_VP30_SUN_ONL\n"
            ]
          },
          "metadata": {},
          "output_type": "display_data"
        },
        {
          "data": {
            "text/html": [
              "<pre style=\"white-space:pre;overflow-x:auto;line-height:normal;font-family:Menlo,'DejaVu Sans Mono',consolas,'Courier New',monospace\">NLB_CK29_SUN_ONL\n",
              "</pre>\n"
            ],
            "text/plain": [
              "NLB_CK29_SUN_ONL\n"
            ]
          },
          "metadata": {},
          "output_type": "display_data"
        },
        {
          "data": {
            "text/html": [
              "<pre style=\"white-space:pre;overflow-x:auto;line-height:normal;font-family:Menlo,'DejaVu Sans Mono',consolas,'Courier New',monospace\">NLB_VP29_SAT_ONL\n",
              "</pre>\n"
            ],
            "text/plain": [
              "NLB_VP29_SAT_ONL\n"
            ]
          },
          "metadata": {},
          "output_type": "display_data"
        },
        {
          "data": {
            "text/html": [
              "<pre style=\"white-space:pre;overflow-x:auto;line-height:normal;font-family:Menlo,'DejaVu Sans Mono',consolas,'Courier New',monospace\">NLB_GD42_SUN_OFF\n",
              "</pre>\n"
            ],
            "text/plain": [
              "NLB_GD42_SUN_OFF\n"
            ]
          },
          "metadata": {},
          "output_type": "display_data"
        },
        {
          "data": {
            "text/html": [
              "<pre style=\"white-space:pre;overflow-x:auto;line-height:normal;font-family:Menlo,'DejaVu Sans Mono',consolas,'Courier New',monospace\">NLB_CK28_SUN_OFF\n",
              "</pre>\n"
            ],
            "text/plain": [
              "NLB_CK28_SUN_OFF\n"
            ]
          },
          "metadata": {},
          "output_type": "display_data"
        },
        {
          "data": {
            "text/html": [
              "<pre style=\"white-space:pre;overflow-x:auto;line-height:normal;font-family:Menlo,'DejaVu Sans Mono',consolas,'Courier New',monospace\">NLB_DL8_WED_ONL\n",
              "</pre>\n"
            ],
            "text/plain": [
              "NLB_DL8_WED_ONL\n"
            ]
          },
          "metadata": {},
          "output_type": "display_data"
        },
        {
          "data": {
            "text/html": [
              "<pre style=\"white-space:pre;overflow-x:auto;line-height:normal;font-family:Menlo,'DejaVu Sans Mono',consolas,'Courier New',monospace\">NLB_WDY2.1_SAT_OFF\n",
              "</pre>\n"
            ],
            "text/plain": [
              "NLB_WDY2.1_SAT_OFF\n"
            ]
          },
          "metadata": {},
          "output_type": "display_data"
        },
        {
          "data": {
            "text/html": [
              "<pre style=\"white-space:pre;overflow-x:auto;line-height:normal;font-family:Menlo,'DejaVu Sans Mono',consolas,'Courier New',monospace\">NLB_WDY1.8_FRI_ONL\n",
              "</pre>\n"
            ],
            "text/plain": [
              "NLB_WDY1.8_FRI_ONL\n"
            ]
          },
          "metadata": {},
          "output_type": "display_data"
        },
        {
          "data": {
            "text/html": [
              "<pre style=\"white-space:pre;overflow-x:auto;line-height:normal;font-family:Menlo,'DejaVu Sans Mono',consolas,'Courier New',monospace\">NLB_VP28_THU_ONL\n",
              "</pre>\n"
            ],
            "text/plain": [
              "NLB_VP28_THU_ONL\n"
            ]
          },
          "metadata": {},
          "output_type": "display_data"
        },
        {
          "data": {
            "text/html": [
              "<pre style=\"white-space:pre;overflow-x:auto;line-height:normal;font-family:Menlo,'DejaVu Sans Mono',consolas,'Courier New',monospace\">NLB_PTSY2.15_SAT_ONL\n",
              "</pre>\n"
            ],
            "text/plain": [
              "NLB_PTSY2.15_SAT_ONL\n"
            ]
          },
          "metadata": {},
          "output_type": "display_data"
        },
        {
          "data": {
            "text/html": [
              "<pre style=\"white-space:pre;overflow-x:auto;line-height:normal;font-family:Menlo,'DejaVu Sans Mono',consolas,'Courier New',monospace\">NLB_PTSY1.44_FRI_OFF\n",
              "</pre>\n"
            ],
            "text/plain": [
              "NLB_PTSY1.44_FRI_OFF\n"
            ]
          },
          "metadata": {},
          "output_type": "display_data"
        },
        {
          "data": {
            "text/html": [
              "<pre style=\"white-space:pre;overflow-x:auto;line-height:normal;font-family:Menlo,'DejaVu Sans Mono',consolas,'Courier New',monospace\">NLB_CK27_SUN_OFF\n",
              "</pre>\n"
            ],
            "text/plain": [
              "NLB_CK27_SUN_OFF\n"
            ]
          },
          "metadata": {},
          "output_type": "display_data"
        },
        {
          "data": {
            "text/html": [
              "<pre style=\"white-space:pre;overflow-x:auto;line-height:normal;font-family:Menlo,'DejaVu Sans Mono',consolas,'Courier New',monospace\">NLB_PTSY2.14_MON_OFF\n",
              "</pre>\n"
            ],
            "text/plain": [
              "NLB_PTSY2.14_MON_OFF\n"
            ]
          },
          "metadata": {},
          "output_type": "display_data"
        },
        {
          "data": {
            "text/html": [
              "<pre style=\"white-space:pre;overflow-x:auto;line-height:normal;font-family:Menlo,'DejaVu Sans Mono',consolas,'Courier New',monospace\">NLB_PTSY2.13_SAT_OFF\n",
              "</pre>\n"
            ],
            "text/plain": [
              "NLB_PTSY2.13_SAT_OFF\n"
            ]
          },
          "metadata": {},
          "output_type": "display_data"
        },
        {
          "data": {
            "text/html": [
              "<pre style=\"white-space:pre;overflow-x:auto;line-height:normal;font-family:Menlo,'DejaVu Sans Mono',consolas,'Courier New',monospace\">NLB_PTSY1.43_SUN_OFF (PRIVATE)\n",
              "</pre>\n"
            ],
            "text/plain": [
              "NLB_PTSY1.43_SUN_OFF (PRIVATE)\n"
            ]
          },
          "metadata": {},
          "output_type": "display_data"
        },
        {
          "data": {
            "text/html": [
              "<pre style=\"white-space:pre;overflow-x:auto;line-height:normal;font-family:Menlo,'DejaVu Sans Mono',consolas,'Courier New',monospace\">NLB_GD40_TUE_OFF\n",
              "</pre>\n"
            ],
            "text/plain": [
              "NLB_GD40_TUE_OFF\n"
            ]
          },
          "metadata": {},
          "output_type": "display_data"
        },
        {
          "data": {
            "text/html": [
              "<pre style=\"white-space:pre;overflow-x:auto;line-height:normal;font-family:Menlo,'DejaVu Sans Mono',consolas,'Courier New',monospace\">NLB_VP26_SAT_OFF\n",
              "</pre>\n"
            ],
            "text/plain": [
              "NLB_VP26_SAT_OFF\n"
            ]
          },
          "metadata": {},
          "output_type": "display_data"
        },
        {
          "data": {
            "text/html": [
              "<pre style=\"white-space:pre;overflow-x:auto;line-height:normal;font-family:Menlo,'DejaVu Sans Mono',consolas,'Courier New',monospace\">NLB_GD38_WED_ONL\n",
              "</pre>\n"
            ],
            "text/plain": [
              "NLB_GD38_WED_ONL\n"
            ]
          },
          "metadata": {},
          "output_type": "display_data"
        },
        {
          "data": {
            "text/html": [
              "<pre style=\"white-space:pre;overflow-x:auto;line-height:normal;font-family:Menlo,'DejaVu Sans Mono',consolas,'Courier New',monospace\">NLB_PTSY1.42_FRI_OFF\n",
              "</pre>\n"
            ],
            "text/plain": [
              "NLB_PTSY1.42_FRI_OFF\n"
            ]
          },
          "metadata": {},
          "output_type": "display_data"
        },
        {
          "data": {
            "text/html": [
              "<pre style=\"white-space:pre;overflow-x:auto;line-height:normal;font-family:Menlo,'DejaVu Sans Mono',consolas,'Courier New',monospace\">NLB_DL7_MON_ONL\n",
              "</pre>\n"
            ],
            "text/plain": [
              "NLB_DL7_MON_ONL\n"
            ]
          },
          "metadata": {},
          "output_type": "display_data"
        },
        {
          "data": {
            "text/html": [
              "<pre style=\"white-space:pre;overflow-x:auto;line-height:normal;font-family:Menlo,'DejaVu Sans Mono',consolas,'Courier New',monospace\">NLB_UGD1_SAT_OFF\n",
              "</pre>\n"
            ],
            "text/plain": [
              "NLB_UGD1_SAT_OFF\n"
            ]
          },
          "metadata": {},
          "output_type": "display_data"
        },
        {
          "data": {
            "text/html": [
              "<pre style=\"white-space:pre;overflow-x:auto;line-height:normal;font-family:Menlo,'DejaVu Sans Mono',consolas,'Courier New',monospace\"></pre>\n"
            ],
            "text/plain": []
          },
          "metadata": {},
          "output_type": "display_data"
        },
        {
          "data": {
            "text/html": [
              "<pre style=\"white-space:pre;overflow-x:auto;line-height:normal;font-family:Menlo,'DejaVu Sans Mono',consolas,'Courier New',monospace\">\n",
              "</pre>\n"
            ],
            "text/plain": [
              "\n"
            ]
          },
          "metadata": {},
          "output_type": "display_data"
        },
        {
          "name": "stdout",
          "output_type": "stream",
          "text": [
            "NLB has 121 groups  \n"
          ]
        },
        {
          "data": {
            "application/vnd.jupyter.widget-view+json": {
              "model_id": "6c9390aca20344e2afca9d04ecd82117",
              "version_major": 2,
              "version_minor": 0
            },
            "text/plain": [
              "Output()"
            ]
          },
          "metadata": {},
          "output_type": "display_data"
        },
        {
          "data": {
            "text/html": [
              "<pre style=\"white-space:pre;overflow-x:auto;line-height:normal;font-family:Menlo,'DejaVu Sans Mono',consolas,'Courier New',monospace\">Non\n",
              "</pre>\n"
            ],
            "text/plain": [
              "Non\n"
            ]
          },
          "metadata": {},
          "output_type": "display_data"
        },
        {
          "name": "stdout",
          "output_type": "stream",
          "text": [
            "125\n"
          ]
        },
        {
          "data": {
            "text/html": [
              "<pre style=\"white-space:pre;overflow-x:auto;line-height:normal;font-family:Menlo,'DejaVu Sans Mono',consolas,'Courier New',monospace\">Non invalid literal for int() with base 10: 'S'\n",
              "</pre>\n"
            ],
            "text/plain": [
              "Non invalid literal for int() with base 10: 'S'\n"
            ]
          },
          "metadata": {},
          "output_type": "display_data"
        },
        {
          "data": {
            "text/html": [
              "<pre style=\"white-space:pre;overflow-x:auto;line-height:normal;font-family:Menlo,'DejaVu Sans Mono',consolas,'Courier New',monospace\">NVH_PTSY1.58_SAT_OFF\n",
              "</pre>\n"
            ],
            "text/plain": [
              "NVH_PTSY1.58_SAT_OFF\n"
            ]
          },
          "metadata": {},
          "output_type": "display_data"
        },
        {
          "data": {
            "text/html": [
              "<pre style=\"white-space:pre;overflow-x:auto;line-height:normal;font-family:Menlo,'DejaVu Sans Mono',consolas,'Courier New',monospace\">NVH_PTSY2.39_MON_OFF\n",
              "</pre>\n"
            ],
            "text/plain": [
              "NVH_PTSY2.39_MON_OFF\n"
            ]
          },
          "metadata": {},
          "output_type": "display_data"
        },
        {
          "data": {
            "text/html": [
              "<pre style=\"white-space:pre;overflow-x:auto;line-height:normal;font-family:Menlo,'DejaVu Sans Mono',consolas,'Courier New',monospace\">NVH_WDY2.5_SAT_OFF\n",
              "</pre>\n"
            ],
            "text/plain": [
              "NVH_WDY2.5_SAT_OFF\n"
            ]
          },
          "metadata": {},
          "output_type": "display_data"
        },
        {
          "data": {
            "text/html": [
              "<pre style=\"white-space:pre;overflow-x:auto;line-height:normal;font-family:Menlo,'DejaVu Sans Mono',consolas,'Courier New',monospace\">NVH_GD57_SAT_OFF\n",
              "</pre>\n"
            ],
            "text/plain": [
              "NVH_GD57_SAT_OFF\n"
            ]
          },
          "metadata": {},
          "output_type": "display_data"
        },
        {
          "data": {
            "text/html": [
              "<pre style=\"white-space:pre;overflow-x:auto;line-height:normal;font-family:Menlo,'DejaVu Sans Mono',consolas,'Courier New',monospace\">NVH_PTPY1.23_SAT_OFF\n",
              "</pre>\n"
            ],
            "text/plain": [
              "NVH_PTPY1.23_SAT_OFF\n"
            ]
          },
          "metadata": {},
          "output_type": "display_data"
        },
        {
          "data": {
            "text/html": [
              "<pre style=\"white-space:pre;overflow-x:auto;line-height:normal;font-family:Menlo,'DejaVu Sans Mono',consolas,'Courier New',monospace\">NVH_DL16_THU_OFF\n",
              "</pre>\n"
            ],
            "text/plain": [
              "NVH_DL16_THU_OFF\n"
            ]
          },
          "metadata": {},
          "output_type": "display_data"
        },
        {
          "data": {
            "text/html": [
              "<pre style=\"white-space:pre;overflow-x:auto;line-height:normal;font-family:Menlo,'DejaVu Sans Mono',consolas,'Courier New',monospace\">NVH_PTSY1.57_SUN_OFF\n",
              "</pre>\n"
            ],
            "text/plain": [
              "NVH_PTSY1.57_SUN_OFF\n"
            ]
          },
          "metadata": {},
          "output_type": "display_data"
        },
        {
          "data": {
            "text/html": [
              "<pre style=\"white-space:pre;overflow-x:auto;line-height:normal;font-family:Menlo,'DejaVu Sans Mono',consolas,'Courier New',monospace\">NVH_PTSY1.56_TUE_ONL (PRIVATE)\n",
              "</pre>\n"
            ],
            "text/plain": [
              "NVH_PTSY1.56_TUE_ONL (PRIVATE)\n"
            ]
          },
          "metadata": {},
          "output_type": "display_data"
        },
        {
          "data": {
            "text/html": [
              "<pre style=\"white-space:pre;overflow-x:auto;line-height:normal;font-family:Menlo,'DejaVu Sans Mono',consolas,'Courier New',monospace\">NVH_CCJ3_OFF\n",
              "</pre>\n"
            ],
            "text/plain": [
              "NVH_CCJ3_OFF\n"
            ]
          },
          "metadata": {},
          "output_type": "display_data"
        },
        {
          "data": {
            "text/html": [
              "<pre style=\"white-space:pre;overflow-x:auto;line-height:normal;font-family:Menlo,'DejaVu Sans Mono',consolas,'Courier New',monospace\">NVH_GD56_THU_ONL\n",
              "</pre>\n"
            ],
            "text/plain": [
              "NVH_GD56_THU_ONL\n"
            ]
          },
          "metadata": {},
          "output_type": "display_data"
        },
        {
          "data": {
            "text/html": [
              "<pre style=\"white-space:pre;overflow-x:auto;line-height:normal;font-family:Menlo,'DejaVu Sans Mono',consolas,'Courier New',monospace\">NVH_CK38_FRI_OFF\n",
              "</pre>\n"
            ],
            "text/plain": [
              "NVH_CK38_FRI_OFF\n"
            ]
          },
          "metadata": {},
          "output_type": "display_data"
        },
        {
          "data": {
            "text/html": [
              "<pre style=\"white-space:pre;overflow-x:auto;line-height:normal;font-family:Menlo,'DejaVu Sans Mono',consolas,'Courier New',monospace\">NVH_CK37_TUE_OFF\n",
              "</pre>\n"
            ],
            "text/plain": [
              "NVH_CK37_TUE_OFF\n"
            ]
          },
          "metadata": {},
          "output_type": "display_data"
        },
        {
          "data": {
            "text/html": [
              "<pre style=\"white-space:pre;overflow-x:auto;line-height:normal;font-family:Menlo,'DejaVu Sans Mono',consolas,'Courier New',monospace\">NVH_VP47_SUN_OFF\n",
              "</pre>\n"
            ],
            "text/plain": [
              "NVH_VP47_SUN_OFF\n"
            ]
          },
          "metadata": {},
          "output_type": "display_data"
        },
        {
          "data": {
            "text/html": [
              "<pre style=\"white-space:pre;overflow-x:auto;line-height:normal;font-family:Menlo,'DejaVu Sans Mono',consolas,'Courier New',monospace\">NVH_CK36_TUE_OFF\n",
              "</pre>\n"
            ],
            "text/plain": [
              "NVH_CK36_TUE_OFF\n"
            ]
          },
          "metadata": {},
          "output_type": "display_data"
        },
        {
          "data": {
            "text/html": [
              "<pre style=\"white-space:pre;overflow-x:auto;line-height:normal;font-family:Menlo,'DejaVu Sans Mono',consolas,'Courier New',monospace\">NVH_PTPY2.14_THU_ONL (PRIVATE)\n",
              "</pre>\n"
            ],
            "text/plain": [
              "NVH_PTPY2.14_THU_ONL (PRIVATE)\n"
            ]
          },
          "metadata": {},
          "output_type": "display_data"
        },
        {
          "data": {
            "text/html": [
              "<pre style=\"white-space:pre;overflow-x:auto;line-height:normal;font-family:Menlo,'DejaVu Sans Mono',consolas,'Courier New',monospace\">NVH_VP46_SAT_OFF\n",
              "</pre>\n"
            ],
            "text/plain": [
              "NVH_VP46_SAT_OFF\n"
            ]
          },
          "metadata": {},
          "output_type": "display_data"
        },
        {
          "data": {
            "text/html": [
              "<pre style=\"white-space:pre;overflow-x:auto;line-height:normal;font-family:Menlo,'DejaVu Sans Mono',consolas,'Courier New',monospace\">NVH_UGD3_SAT_OFF\n",
              "</pre>\n"
            ],
            "text/plain": [
              "NVH_UGD3_SAT_OFF\n"
            ]
          },
          "metadata": {},
          "output_type": "display_data"
        },
        {
          "data": {
            "text/html": [
              "<pre style=\"white-space:pre;overflow-x:auto;line-height:normal;font-family:Menlo,'DejaVu Sans Mono',consolas,'Courier New',monospace\">NVH_GD55_MON/WED_OFF (PRIVATE)\n",
              "</pre>\n"
            ],
            "text/plain": [
              "NVH_GD55_MON/WED_OFF (PRIVATE)\n"
            ]
          },
          "metadata": {},
          "output_type": "display_data"
        },
        {
          "data": {
            "text/html": [
              "<pre style=\"white-space:pre;overflow-x:auto;line-height:normal;font-family:Menlo,'DejaVu Sans Mono',consolas,'Courier New',monospace\">NVH_WDY2.3_MON_OFF\n",
              "</pre>\n"
            ],
            "text/plain": [
              "NVH_WDY2.3_MON_OFF\n"
            ]
          },
          "metadata": {},
          "output_type": "display_data"
        },
        {
          "data": {
            "text/html": [
              "<pre style=\"white-space:pre;overflow-x:auto;line-height:normal;font-family:Menlo,'DejaVu Sans Mono',consolas,'Courier New',monospace\">NVH_PTSY2.38_SAT_ONL\n",
              "</pre>\n"
            ],
            "text/plain": [
              "NVH_PTSY2.38_SAT_ONL\n"
            ]
          },
          "metadata": {},
          "output_type": "display_data"
        },
        {
          "data": {
            "text/html": [
              "<pre style=\"white-space:pre;overflow-x:auto;line-height:normal;font-family:Menlo,'DejaVu Sans Mono',consolas,'Courier New',monospace\">NVH_GD54_WED_OFF\n",
              "</pre>\n"
            ],
            "text/plain": [
              "NVH_GD54_WED_OFF\n"
            ]
          },
          "metadata": {},
          "output_type": "display_data"
        },
        {
          "data": {
            "text/html": [
              "<pre style=\"white-space:pre;overflow-x:auto;line-height:normal;font-family:Menlo,'DejaVu Sans Mono',consolas,'Courier New',monospace\">NVH_PTPY1.22_MON/THU_ONL (PRIVATE)\n",
              "</pre>\n"
            ],
            "text/plain": [
              "NVH_PTPY1.22_MON/THU_ONL (PRIVATE)\n"
            ]
          },
          "metadata": {},
          "output_type": "display_data"
        },
        {
          "data": {
            "text/html": [
              "<pre style=\"white-space:pre;overflow-x:auto;line-height:normal;font-family:Menlo,'DejaVu Sans Mono',consolas,'Courier New',monospace\">NVH_PTPY2.13_SAT_OFF\n",
              "</pre>\n"
            ],
            "text/plain": [
              "NVH_PTPY2.13_SAT_OFF\n"
            ]
          },
          "metadata": {},
          "output_type": "display_data"
        },
        {
          "data": {
            "text/html": [
              "<pre style=\"white-space:pre;overflow-x:auto;line-height:normal;font-family:Menlo,'DejaVu Sans Mono',consolas,'Courier New',monospace\">NVH_GD53_TUE_OFF\n",
              "</pre>\n"
            ],
            "text/plain": [
              "NVH_GD53_TUE_OFF\n"
            ]
          },
          "metadata": {},
          "output_type": "display_data"
        },
        {
          "data": {
            "text/html": [
              "<pre style=\"white-space:pre;overflow-x:auto;line-height:normal;font-family:Menlo,'DejaVu Sans Mono',consolas,'Courier New',monospace\">NVH_VP44_SUN_OFF\n",
              "</pre>\n"
            ],
            "text/plain": [
              "NVH_VP44_SUN_OFF\n"
            ]
          },
          "metadata": {},
          "output_type": "display_data"
        },
        {
          "data": {
            "text/html": [
              "<pre style=\"white-space:pre;overflow-x:auto;line-height:normal;font-family:Menlo,'DejaVu Sans Mono',consolas,'Courier New',monospace\">NVH_GD52_TUE_OFF\n",
              "</pre>\n"
            ],
            "text/plain": [
              "NVH_GD52_TUE_OFF\n"
            ]
          },
          "metadata": {},
          "output_type": "display_data"
        },
        {
          "data": {
            "text/html": [
              "<pre style=\"white-space:pre;overflow-x:auto;line-height:normal;font-family:Menlo,'DejaVu Sans Mono',consolas,'Courier New',monospace\">NVH_PTPY2.12_FRI_ONL (PRIVATE)\n",
              "</pre>\n"
            ],
            "text/plain": [
              "NVH_PTPY2.12_FRI_ONL (PRIVATE)\n"
            ]
          },
          "metadata": {},
          "output_type": "display_data"
        },
        {
          "data": {
            "text/html": [
              "<pre style=\"white-space:pre;overflow-x:auto;line-height:normal;font-family:Menlo,'DejaVu Sans Mono',consolas,'Courier New',monospace\">NVH_GD51_SAT_OFF\n",
              "</pre>\n"
            ],
            "text/plain": [
              "NVH_GD51_SAT_OFF\n"
            ]
          },
          "metadata": {},
          "output_type": "display_data"
        },
        {
          "data": {
            "text/html": [
              "<pre style=\"white-space:pre;overflow-x:auto;line-height:normal;font-family:Menlo,'DejaVu Sans Mono',consolas,'Courier New',monospace\">PXL_PTSY1.6_SAT_OFF\n",
              "</pre>\n"
            ],
            "text/plain": [
              "PXL_PTSY1.6_SAT_OFF\n"
            ]
          },
          "metadata": {},
          "output_type": "display_data"
        },
        {
          "data": {
            "text/html": [
              "<pre style=\"white-space:pre;overflow-x:auto;line-height:normal;font-family:Menlo,'DejaVu Sans Mono',consolas,'Courier New',monospace\">NVH_PTSY2.37_SUN_ONL\n",
              "</pre>\n"
            ],
            "text/plain": [
              "NVH_PTSY2.37_SUN_ONL\n"
            ]
          },
          "metadata": {},
          "output_type": "display_data"
        },
        {
          "data": {
            "text/html": [
              "<pre style=\"white-space:pre;overflow-x:auto;line-height:normal;font-family:Menlo,'DejaVu Sans Mono',consolas,'Courier New',monospace\">NVH_PTSY2.36_SAT_OFF\n",
              "</pre>\n"
            ],
            "text/plain": [
              "NVH_PTSY2.36_SAT_OFF\n"
            ]
          },
          "metadata": {},
          "output_type": "display_data"
        },
        {
          "data": {
            "text/html": [
              "<pre style=\"white-space:pre;overflow-x:auto;line-height:normal;font-family:Menlo,'DejaVu Sans Mono',consolas,'Courier New',monospace\">NVH_GD50_THU_ONL\n",
              "</pre>\n"
            ],
            "text/plain": [
              "NVH_GD50_THU_ONL\n"
            ]
          },
          "metadata": {},
          "output_type": "display_data"
        },
        {
          "data": {
            "text/html": [
              "<pre style=\"white-space:pre;overflow-x:auto;line-height:normal;font-family:Menlo,'DejaVu Sans Mono',consolas,'Courier New',monospace\">NVH_VP43_SAT_OFF\n",
              "</pre>\n"
            ],
            "text/plain": [
              "NVH_VP43_SAT_OFF\n"
            ]
          },
          "metadata": {},
          "output_type": "display_data"
        },
        {
          "data": {
            "text/html": [
              "<pre style=\"white-space:pre;overflow-x:auto;line-height:normal;font-family:Menlo,'DejaVu Sans Mono',consolas,'Courier New',monospace\">NVH_CK35_SUN_OFF\n",
              "</pre>\n"
            ],
            "text/plain": [
              "NVH_CK35_SUN_OFF\n"
            ]
          },
          "metadata": {},
          "output_type": "display_data"
        },
        {
          "data": {
            "text/html": [
              "<pre style=\"white-space:pre;overflow-x:auto;line-height:normal;font-family:Menlo,'DejaVu Sans Mono',consolas,'Courier New',monospace\">NVH_WDY1.9_SAT_OFF\n",
              "</pre>\n"
            ],
            "text/plain": [
              "NVH_WDY1.9_SAT_OFF\n"
            ]
          },
          "metadata": {},
          "output_type": "display_data"
        },
        {
          "data": {
            "text/html": [
              "<pre style=\"white-space:pre;overflow-x:auto;line-height:normal;font-family:Menlo,'DejaVu Sans Mono',consolas,'Courier New',monospace\">NVH_GD49_SAT_OFF\n",
              "</pre>\n"
            ],
            "text/plain": [
              "NVH_GD49_SAT_OFF\n"
            ]
          },
          "metadata": {},
          "output_type": "display_data"
        },
        {
          "data": {
            "text/html": [
              "<pre style=\"white-space:pre;overflow-x:auto;line-height:normal;font-family:Menlo,'DejaVu Sans Mono',consolas,'Courier New',monospace\">NVH_GD48_MON_ONL\n",
              "</pre>\n"
            ],
            "text/plain": [
              "NVH_GD48_MON_ONL\n"
            ]
          },
          "metadata": {},
          "output_type": "display_data"
        },
        {
          "data": {
            "text/html": [
              "<pre style=\"white-space:pre;overflow-x:auto;line-height:normal;font-family:Menlo,'DejaVu Sans Mono',consolas,'Courier New',monospace\">NVH_DL14_FRI_OFF\n",
              "</pre>\n"
            ],
            "text/plain": [
              "NVH_DL14_FRI_OFF\n"
            ]
          },
          "metadata": {},
          "output_type": "display_data"
        },
        {
          "data": {
            "text/html": [
              "<pre style=\"white-space:pre;overflow-x:auto;line-height:normal;font-family:Menlo,'DejaVu Sans Mono',consolas,'Courier New',monospace\">NVH_PTSY2.35_SAT_ONL\n",
              "</pre>\n"
            ],
            "text/plain": [
              "NVH_PTSY2.35_SAT_ONL\n"
            ]
          },
          "metadata": {},
          "output_type": "display_data"
        },
        {
          "data": {
            "text/html": [
              "<pre style=\"white-space:pre;overflow-x:auto;line-height:normal;font-family:Menlo,'DejaVu Sans Mono',consolas,'Courier New',monospace\">NVH_PTSY1.55_SUN_OFF\n",
              "</pre>\n"
            ],
            "text/plain": [
              "NVH_PTSY1.55_SUN_OFF\n"
            ]
          },
          "metadata": {},
          "output_type": "display_data"
        },
        {
          "data": {
            "text/html": [
              "<pre style=\"white-space:pre;overflow-x:auto;line-height:normal;font-family:Menlo,'DejaVu Sans Mono',consolas,'Courier New',monospace\">NVH_VP42_FRI_OFF\n",
              "</pre>\n"
            ],
            "text/plain": [
              "NVH_VP42_FRI_OFF\n"
            ]
          },
          "metadata": {},
          "output_type": "display_data"
        },
        {
          "data": {
            "text/html": [
              "<pre style=\"white-space:pre;overflow-x:auto;line-height:normal;font-family:Menlo,'DejaVu Sans Mono',consolas,'Courier New',monospace\">NVH_PTPY1.21_SAT_OFF\n",
              "</pre>\n"
            ],
            "text/plain": [
              "NVH_PTPY1.21_SAT_OFF\n"
            ]
          },
          "metadata": {},
          "output_type": "display_data"
        },
        {
          "data": {
            "text/html": [
              "<pre style=\"white-space:pre;overflow-x:auto;line-height:normal;font-family:Menlo,'DejaVu Sans Mono',consolas,'Courier New',monospace\">NVH_PTSY2.34_FRI_OFF\n",
              "</pre>\n"
            ],
            "text/plain": [
              "NVH_PTSY2.34_FRI_OFF\n"
            ]
          },
          "metadata": {},
          "output_type": "display_data"
        },
        {
          "data": {
            "text/html": [
              "<pre style=\"white-space:pre;overflow-x:auto;line-height:normal;font-family:Menlo,'DejaVu Sans Mono',consolas,'Courier New',monospace\">NVH_PTSY1.54_SAT_OFF\n",
              "</pre>\n"
            ],
            "text/plain": [
              "NVH_PTSY1.54_SAT_OFF\n"
            ]
          },
          "metadata": {},
          "output_type": "display_data"
        },
        {
          "data": {
            "text/html": [
              "<pre style=\"white-space:pre;overflow-x:auto;line-height:normal;font-family:Menlo,'DejaVu Sans Mono',consolas,'Courier New',monospace\">NVH_PTSY1.53_TUE_ONL\n",
              "</pre>\n"
            ],
            "text/plain": [
              "NVH_PTSY1.53_TUE_ONL\n"
            ]
          },
          "metadata": {},
          "output_type": "display_data"
        },
        {
          "data": {
            "text/html": [
              "<pre style=\"white-space:pre;overflow-x:auto;line-height:normal;font-family:Menlo,'DejaVu Sans Mono',consolas,'Courier New',monospace\">NVH_DL13_FRI_OFF\n",
              "</pre>\n"
            ],
            "text/plain": [
              "NVH_DL13_FRI_OFF\n"
            ]
          },
          "metadata": {},
          "output_type": "display_data"
        },
        {
          "data": {
            "text/html": [
              "<pre style=\"white-space:pre;overflow-x:auto;line-height:normal;font-family:Menlo,'DejaVu Sans Mono',consolas,'Courier New',monospace\">NVH_WDY1.8_TUE_ONL\n",
              "</pre>\n"
            ],
            "text/plain": [
              "NVH_WDY1.8_TUE_ONL\n"
            ]
          },
          "metadata": {},
          "output_type": "display_data"
        },
        {
          "data": {
            "text/html": [
              "<pre style=\"white-space:pre;overflow-x:auto;line-height:normal;font-family:Menlo,'DejaVu Sans Mono',consolas,'Courier New',monospace\">NVH_PTPY2.11_SAT_ONL\n",
              "</pre>\n"
            ],
            "text/plain": [
              "NVH_PTPY2.11_SAT_ONL\n"
            ]
          },
          "metadata": {},
          "output_type": "display_data"
        },
        {
          "data": {
            "text/html": [
              "<pre style=\"white-space:pre;overflow-x:auto;line-height:normal;font-family:Menlo,'DejaVu Sans Mono',consolas,'Courier New',monospace\">NVH_CK34_SUN_OFF\n",
              "</pre>\n"
            ],
            "text/plain": [
              "NVH_CK34_SUN_OFF\n"
            ]
          },
          "metadata": {},
          "output_type": "display_data"
        },
        {
          "data": {
            "text/html": [
              "<pre style=\"white-space:pre;overflow-x:auto;line-height:normal;font-family:Menlo,'DejaVu Sans Mono',consolas,'Courier New',monospace\">NVH_PTPY2.10_SAT/SUN_OFF\n",
              "</pre>\n"
            ],
            "text/plain": [
              "NVH_PTPY2.10_SAT/SUN_OFF\n"
            ]
          },
          "metadata": {},
          "output_type": "display_data"
        },
        {
          "data": {
            "text/html": [
              "<pre style=\"white-space:pre;overflow-x:auto;line-height:normal;font-family:Menlo,'DejaVu Sans Mono',consolas,'Courier New',monospace\">NVH_PTSY2.33_SUN_OFF\n",
              "</pre>\n"
            ],
            "text/plain": [
              "NVH_PTSY2.33_SUN_OFF\n"
            ]
          },
          "metadata": {},
          "output_type": "display_data"
        },
        {
          "data": {
            "text/html": [
              "<pre style=\"white-space:pre;overflow-x:auto;line-height:normal;font-family:Menlo,'DejaVu Sans Mono',consolas,'Courier New',monospace\">NVH_PTSY2.32_SUN_ONL\n",
              "</pre>\n"
            ],
            "text/plain": [
              "NVH_PTSY2.32_SUN_ONL\n"
            ]
          },
          "metadata": {},
          "output_type": "display_data"
        },
        {
          "data": {
            "text/html": [
              "<pre style=\"white-space:pre;overflow-x:auto;line-height:normal;font-family:Menlo,'DejaVu Sans Mono',consolas,'Courier New',monospace\">NVH_VP41_SUN_OFF\n",
              "</pre>\n"
            ],
            "text/plain": [
              "NVH_VP41_SUN_OFF\n"
            ]
          },
          "metadata": {},
          "output_type": "display_data"
        },
        {
          "data": {
            "text/html": [
              "<pre style=\"white-space:pre;overflow-x:auto;line-height:normal;font-family:Menlo,'DejaVu Sans Mono',consolas,'Courier New',monospace\">NVH_PTPY1.20_SAT_OFF\n",
              "</pre>\n"
            ],
            "text/plain": [
              "NVH_PTPY1.20_SAT_OFF\n"
            ]
          },
          "metadata": {},
          "output_type": "display_data"
        },
        {
          "data": {
            "text/html": [
              "<pre style=\"white-space:pre;overflow-x:auto;line-height:normal;font-family:Menlo,'DejaVu Sans Mono',consolas,'Courier New',monospace\">NVH_VP40_THU_ONL\n",
              "</pre>\n"
            ],
            "text/plain": [
              "NVH_VP40_THU_ONL\n"
            ]
          },
          "metadata": {},
          "output_type": "display_data"
        },
        {
          "data": {
            "text/html": [
              "<pre style=\"white-space:pre;overflow-x:auto;line-height:normal;font-family:Menlo,'DejaVu Sans Mono',consolas,'Courier New',monospace\">NVH_PTSY1.52_WED_OFF\n",
              "</pre>\n"
            ],
            "text/plain": [
              "NVH_PTSY1.52_WED_OFF\n"
            ]
          },
          "metadata": {},
          "output_type": "display_data"
        },
        {
          "data": {
            "text/html": [
              "<pre style=\"white-space:pre;overflow-x:auto;line-height:normal;font-family:Menlo,'DejaVu Sans Mono',consolas,'Courier New',monospace\">NVH_PTSY1.51_SUN_ONL\n",
              "</pre>\n"
            ],
            "text/plain": [
              "NVH_PTSY1.51_SUN_ONL\n"
            ]
          },
          "metadata": {},
          "output_type": "display_data"
        },
        {
          "data": {
            "text/html": [
              "<pre style=\"white-space:pre;overflow-x:auto;line-height:normal;font-family:Menlo,'DejaVu Sans Mono',consolas,'Courier New',monospace\">NVH_PTSY1.50_THU_OFF\n",
              "</pre>\n"
            ],
            "text/plain": [
              "NVH_PTSY1.50_THU_OFF\n"
            ]
          },
          "metadata": {},
          "output_type": "display_data"
        },
        {
          "data": {
            "text/html": [
              "<pre style=\"white-space:pre;overflow-x:auto;line-height:normal;font-family:Menlo,'DejaVu Sans Mono',consolas,'Courier New',monospace\">NVH_GD47_SUN_OFF\n",
              "</pre>\n"
            ],
            "text/plain": [
              "NVH_GD47_SUN_OFF\n"
            ]
          },
          "metadata": {},
          "output_type": "display_data"
        },
        {
          "data": {
            "text/html": [
              "<pre style=\"white-space:pre;overflow-x:auto;line-height:normal;font-family:Menlo,'DejaVu Sans Mono',consolas,'Courier New',monospace\">NVH_PTSY1.49_SAT_OFF\n",
              "</pre>\n"
            ],
            "text/plain": [
              "NVH_PTSY1.49_SAT_OFF\n"
            ]
          },
          "metadata": {},
          "output_type": "display_data"
        },
        {
          "data": {
            "text/html": [
              "<pre style=\"white-space:pre;overflow-x:auto;line-height:normal;font-family:Menlo,'DejaVu Sans Mono',consolas,'Courier New',monospace\">NVH_VP39_SAT_OFF\n",
              "</pre>\n"
            ],
            "text/plain": [
              "NVH_VP39_SAT_OFF\n"
            ]
          },
          "metadata": {},
          "output_type": "display_data"
        },
        {
          "data": {
            "text/html": [
              "<pre style=\"white-space:pre;overflow-x:auto;line-height:normal;font-family:Menlo,'DejaVu Sans Mono',consolas,'Courier New',monospace\">NVH_PTSY2.30_SAT_OFF\n",
              "</pre>\n"
            ],
            "text/plain": [
              "NVH_PTSY2.30_SAT_OFF\n"
            ]
          },
          "metadata": {},
          "output_type": "display_data"
        },
        {
          "data": {
            "text/html": [
              "<pre style=\"white-space:pre;overflow-x:auto;line-height:normal;font-family:Menlo,'DejaVu Sans Mono',consolas,'Courier New',monospace\">NVH_PTPY2.9_FRI_OFF\n",
              "</pre>\n"
            ],
            "text/plain": [
              "NVH_PTPY2.9_FRI_OFF\n"
            ]
          },
          "metadata": {},
          "output_type": "display_data"
        },
        {
          "data": {
            "text/html": [
              "<pre style=\"white-space:pre;overflow-x:auto;line-height:normal;font-family:Menlo,'DejaVu Sans Mono',consolas,'Courier New',monospace\">NVH_VP38_SAT_OFF\n",
              "</pre>\n"
            ],
            "text/plain": [
              "NVH_VP38_SAT_OFF\n"
            ]
          },
          "metadata": {},
          "output_type": "display_data"
        },
        {
          "data": {
            "text/html": [
              "<pre style=\"white-space:pre;overflow-x:auto;line-height:normal;font-family:Menlo,'DejaVu Sans Mono',consolas,'Courier New',monospace\">NVH_GD46_MON_OFF\n",
              "</pre>\n"
            ],
            "text/plain": [
              "NVH_GD46_MON_OFF\n"
            ]
          },
          "metadata": {},
          "output_type": "display_data"
        },
        {
          "data": {
            "text/html": [
              "<pre style=\"white-space:pre;overflow-x:auto;line-height:normal;font-family:Menlo,'DejaVu Sans Mono',consolas,'Courier New',monospace\">NVH_VP37_FRI_ONL\n",
              "</pre>\n"
            ],
            "text/plain": [
              "NVH_VP37_FRI_ONL\n"
            ]
          },
          "metadata": {},
          "output_type": "display_data"
        },
        {
          "data": {
            "text/html": [
              "<pre style=\"white-space:pre;overflow-x:auto;line-height:normal;font-family:Menlo,'DejaVu Sans Mono',consolas,'Courier New',monospace\">NVH_CK33_TUE_ONL\n",
              "</pre>\n"
            ],
            "text/plain": [
              "NVH_CK33_TUE_ONL\n"
            ]
          },
          "metadata": {},
          "output_type": "display_data"
        },
        {
          "data": {
            "text/html": [
              "<pre style=\"white-space:pre;overflow-x:auto;line-height:normal;font-family:Menlo,'DejaVu Sans Mono',consolas,'Courier New',monospace\">NVH_VP36_TUE_ONL\n",
              "</pre>\n"
            ],
            "text/plain": [
              "NVH_VP36_TUE_ONL\n"
            ]
          },
          "metadata": {},
          "output_type": "display_data"
        },
        {
          "data": {
            "text/html": [
              "<pre style=\"white-space:pre;overflow-x:auto;line-height:normal;font-family:Menlo,'DejaVu Sans Mono',consolas,'Courier New',monospace\">NVH_GD45_FRI_OFF\n",
              "</pre>\n"
            ],
            "text/plain": [
              "NVH_GD45_FRI_OFF\n"
            ]
          },
          "metadata": {},
          "output_type": "display_data"
        },
        {
          "data": {
            "text/html": [
              "<pre style=\"white-space:pre;overflow-x:auto;line-height:normal;font-family:Menlo,'DejaVu Sans Mono',consolas,'Courier New',monospace\">NVH_GD44_SAT_OFF\n",
              "</pre>\n"
            ],
            "text/plain": [
              "NVH_GD44_SAT_OFF\n"
            ]
          },
          "metadata": {},
          "output_type": "display_data"
        },
        {
          "data": {
            "text/html": [
              "<pre style=\"white-space:pre;overflow-x:auto;line-height:normal;font-family:Menlo,'DejaVu Sans Mono',consolas,'Courier New',monospace\">NVH_GD43_WED_OFF\n",
              "</pre>\n"
            ],
            "text/plain": [
              "NVH_GD43_WED_OFF\n"
            ]
          },
          "metadata": {},
          "output_type": "display_data"
        },
        {
          "data": {
            "text/html": [
              "<pre style=\"white-space:pre;overflow-x:auto;line-height:normal;font-family:Menlo,'DejaVu Sans Mono',consolas,'Courier New',monospace\">NVH_PTPY1.19_FRI_OFF (PRIVATE)\n",
              "</pre>\n"
            ],
            "text/plain": [
              "NVH_PTPY1.19_FRI_OFF (PRIVATE)\n"
            ]
          },
          "metadata": {},
          "output_type": "display_data"
        },
        {
          "data": {
            "text/html": [
              "<pre style=\"white-space:pre;overflow-x:auto;line-height:normal;font-family:Menlo,'DejaVu Sans Mono',consolas,'Courier New',monospace\">NVH_PTSY1.48_WED_OFF\n",
              "</pre>\n"
            ],
            "text/plain": [
              "NVH_PTSY1.48_WED_OFF\n"
            ]
          },
          "metadata": {},
          "output_type": "display_data"
        },
        {
          "data": {
            "text/html": [
              "<pre style=\"white-space:pre;overflow-x:auto;line-height:normal;font-family:Menlo,'DejaVu Sans Mono',consolas,'Courier New',monospace\">NVH_GD42_TUE_OFF\n",
              "</pre>\n"
            ],
            "text/plain": [
              "NVH_GD42_TUE_OFF\n"
            ]
          },
          "metadata": {},
          "output_type": "display_data"
        },
        {
          "data": {
            "text/html": [
              "<pre style=\"white-space:pre;overflow-x:auto;line-height:normal;font-family:Menlo,'DejaVu Sans Mono',consolas,'Courier New',monospace\">NVH_VP35_TUE_OFF\n",
              "</pre>\n"
            ],
            "text/plain": [
              "NVH_VP35_TUE_OFF\n"
            ]
          },
          "metadata": {},
          "output_type": "display_data"
        },
        {
          "data": {
            "text/html": [
              "<pre style=\"white-space:pre;overflow-x:auto;line-height:normal;font-family:Menlo,'DejaVu Sans Mono',consolas,'Courier New',monospace\">NVH_DL11_SUN_OFF\n",
              "</pre>\n"
            ],
            "text/plain": [
              "NVH_DL11_SUN_OFF\n"
            ]
          },
          "metadata": {},
          "output_type": "display_data"
        },
        {
          "data": {
            "text/html": [
              "<pre style=\"white-space:pre;overflow-x:auto;line-height:normal;font-family:Menlo,'DejaVu Sans Mono',consolas,'Courier New',monospace\">NVH_PTSY2.29_FRI_ONL\n",
              "</pre>\n"
            ],
            "text/plain": [
              "NVH_PTSY2.29_FRI_ONL\n"
            ]
          },
          "metadata": {},
          "output_type": "display_data"
        },
        {
          "data": {
            "text/html": [
              "<pre style=\"white-space:pre;overflow-x:auto;line-height:normal;font-family:Menlo,'DejaVu Sans Mono',consolas,'Courier New',monospace\">NVH_GD41_SAT_OFF\n",
              "</pre>\n"
            ],
            "text/plain": [
              "NVH_GD41_SAT_OFF\n"
            ]
          },
          "metadata": {},
          "output_type": "display_data"
        },
        {
          "data": {
            "text/html": [
              "<pre style=\"white-space:pre;overflow-x:auto;line-height:normal;font-family:Menlo,'DejaVu Sans Mono',consolas,'Courier New',monospace\">NVH_GD40_SAT_ONL\n",
              "</pre>\n"
            ],
            "text/plain": [
              "NVH_GD40_SAT_ONL\n"
            ]
          },
          "metadata": {},
          "output_type": "display_data"
        },
        {
          "data": {
            "text/html": [
              "<pre style=\"white-space:pre;overflow-x:auto;line-height:normal;font-family:Menlo,'DejaVu Sans Mono',consolas,'Courier New',monospace\">NVH_VP34_WED_OFF\n",
              "</pre>\n"
            ],
            "text/plain": [
              "NVH_VP34_WED_OFF\n"
            ]
          },
          "metadata": {},
          "output_type": "display_data"
        },
        {
          "data": {
            "text/html": [
              "<pre style=\"white-space:pre;overflow-x:auto;line-height:normal;font-family:Menlo,'DejaVu Sans Mono',consolas,'Courier New',monospace\">NVH_CK32_SUN_OFF\n",
              "</pre>\n"
            ],
            "text/plain": [
              "NVH_CK32_SUN_OFF\n"
            ]
          },
          "metadata": {},
          "output_type": "display_data"
        },
        {
          "data": {
            "text/html": [
              "<pre style=\"white-space:pre;overflow-x:auto;line-height:normal;font-family:Menlo,'DejaVu Sans Mono',consolas,'Courier New',monospace\">NVH_VP33_SUN_ONL\n",
              "</pre>\n"
            ],
            "text/plain": [
              "NVH_VP33_SUN_ONL\n"
            ]
          },
          "metadata": {},
          "output_type": "display_data"
        },
        {
          "data": {
            "text/html": [
              "<pre style=\"white-space:pre;overflow-x:auto;line-height:normal;font-family:Menlo,'DejaVu Sans Mono',consolas,'Courier New',monospace\">NVH_WDY1.7_SUN_OFF\n",
              "</pre>\n"
            ],
            "text/plain": [
              "NVH_WDY1.7_SUN_OFF\n"
            ]
          },
          "metadata": {},
          "output_type": "display_data"
        },
        {
          "data": {
            "text/html": [
              "<pre style=\"white-space:pre;overflow-x:auto;line-height:normal;font-family:Menlo,'DejaVu Sans Mono',consolas,'Courier New',monospace\">NVH_PTSY1.47_SUN_OFF\n",
              "</pre>\n"
            ],
            "text/plain": [
              "NVH_PTSY1.47_SUN_OFF\n"
            ]
          },
          "metadata": {},
          "output_type": "display_data"
        },
        {
          "data": {
            "text/html": [
              "<pre style=\"white-space:pre;overflow-x:auto;line-height:normal;font-family:Menlo,'DejaVu Sans Mono',consolas,'Courier New',monospace\">NVH_PTPY1.17_WED_ONL (PRIVATE)\n",
              "</pre>\n"
            ],
            "text/plain": [
              "NVH_PTPY1.17_WED_ONL (PRIVATE)\n"
            ]
          },
          "metadata": {},
          "output_type": "display_data"
        },
        {
          "data": {
            "text/html": [
              "<pre style=\"white-space:pre;overflow-x:auto;line-height:normal;font-family:Menlo,'DejaVu Sans Mono',consolas,'Courier New',monospace\">NVH_PTSY1.46_SAT_OFF\n",
              "</pre>\n"
            ],
            "text/plain": [
              "NVH_PTSY1.46_SAT_OFF\n"
            ]
          },
          "metadata": {},
          "output_type": "display_data"
        },
        {
          "data": {
            "text/html": [
              "<pre style=\"white-space:pre;overflow-x:auto;line-height:normal;font-family:Menlo,'DejaVu Sans Mono',consolas,'Courier New',monospace\">NVH_DL9_MON_OFF\n",
              "</pre>\n"
            ],
            "text/plain": [
              "NVH_DL9_MON_OFF\n"
            ]
          },
          "metadata": {},
          "output_type": "display_data"
        },
        {
          "data": {
            "text/html": [
              "<pre style=\"white-space:pre;overflow-x:auto;line-height:normal;font-family:Menlo,'DejaVu Sans Mono',consolas,'Courier New',monospace\">NVH_WDY1.6_THU_OFF\n",
              "</pre>\n"
            ],
            "text/plain": [
              "NVH_WDY1.6_THU_OFF\n"
            ]
          },
          "metadata": {},
          "output_type": "display_data"
        },
        {
          "data": {
            "text/html": [
              "<pre style=\"white-space:pre;overflow-x:auto;line-height:normal;font-family:Menlo,'DejaVu Sans Mono',consolas,'Courier New',monospace\">NVH_VP32_THU_OFF\n",
              "</pre>\n"
            ],
            "text/plain": [
              "NVH_VP32_THU_OFF\n"
            ]
          },
          "metadata": {},
          "output_type": "display_data"
        },
        {
          "data": {
            "text/html": [
              "<pre style=\"white-space:pre;overflow-x:auto;line-height:normal;font-family:Menlo,'DejaVu Sans Mono',consolas,'Courier New',monospace\">NVH_GD39_TUE_OFF (PRIVATE)\n",
              "</pre>\n"
            ],
            "text/plain": [
              "NVH_GD39_TUE_OFF (PRIVATE)\n"
            ]
          },
          "metadata": {},
          "output_type": "display_data"
        },
        {
          "data": {
            "text/html": [
              "<pre style=\"white-space:pre;overflow-x:auto;line-height:normal;font-family:Menlo,'DejaVu Sans Mono',consolas,'Courier New',monospace\">NVH_GD38_WED_OFF\n",
              "</pre>\n"
            ],
            "text/plain": [
              "NVH_GD38_WED_OFF\n"
            ]
          },
          "metadata": {},
          "output_type": "display_data"
        },
        {
          "data": {
            "text/html": [
              "<pre style=\"white-space:pre;overflow-x:auto;line-height:normal;font-family:Menlo,'DejaVu Sans Mono',consolas,'Courier New',monospace\">NVH_GD37_THU_OFF\n",
              "</pre>\n"
            ],
            "text/plain": [
              "NVH_GD37_THU_OFF\n"
            ]
          },
          "metadata": {},
          "output_type": "display_data"
        },
        {
          "data": {
            "text/html": [
              "<pre style=\"white-space:pre;overflow-x:auto;line-height:normal;font-family:Menlo,'DejaVu Sans Mono',consolas,'Courier New',monospace\">NVH_PTPY1.16_THU_OFF\n",
              "</pre>\n"
            ],
            "text/plain": [
              "NVH_PTPY1.16_THU_OFF\n"
            ]
          },
          "metadata": {},
          "output_type": "display_data"
        },
        {
          "data": {
            "text/html": [
              "<pre style=\"white-space:pre;overflow-x:auto;line-height:normal;font-family:Menlo,'DejaVu Sans Mono',consolas,'Courier New',monospace\">NVH_VP31_FRI_OFF\n",
              "</pre>\n"
            ],
            "text/plain": [
              "NVH_VP31_FRI_OFF\n"
            ]
          },
          "metadata": {},
          "output_type": "display_data"
        },
        {
          "data": {
            "text/html": [
              "<pre style=\"white-space:pre;overflow-x:auto;line-height:normal;font-family:Menlo,'DejaVu Sans Mono',consolas,'Courier New',monospace\">NVH_GD36_WED_OFF\n",
              "</pre>\n"
            ],
            "text/plain": [
              "NVH_GD36_WED_OFF\n"
            ]
          },
          "metadata": {},
          "output_type": "display_data"
        },
        {
          "data": {
            "text/html": [
              "<pre style=\"white-space:pre;overflow-x:auto;line-height:normal;font-family:Menlo,'DejaVu Sans Mono',consolas,'Courier New',monospace\">NVH_DL8_THU_OFF\n",
              "</pre>\n"
            ],
            "text/plain": [
              "NVH_DL8_THU_OFF\n"
            ]
          },
          "metadata": {},
          "output_type": "display_data"
        },
        {
          "data": {
            "text/html": [
              "<pre style=\"white-space:pre;overflow-x:auto;line-height:normal;font-family:Menlo,'DejaVu Sans Mono',consolas,'Courier New',monospace\">NVH_CK31_TUE_OFF\n",
              "</pre>\n"
            ],
            "text/plain": [
              "NVH_CK31_TUE_OFF\n"
            ]
          },
          "metadata": {},
          "output_type": "display_data"
        },
        {
          "data": {
            "text/html": [
              "<pre style=\"white-space:pre;overflow-x:auto;line-height:normal;font-family:Menlo,'DejaVu Sans Mono',consolas,'Courier New',monospace\">NVH_PTSY1.44_SAT_ONL\n",
              "</pre>\n"
            ],
            "text/plain": [
              "NVH_PTSY1.44_SAT_ONL\n"
            ]
          },
          "metadata": {},
          "output_type": "display_data"
        },
        {
          "data": {
            "text/html": [
              "<pre style=\"white-space:pre;overflow-x:auto;line-height:normal;font-family:Menlo,'DejaVu Sans Mono',consolas,'Courier New',monospace\">NVH_PTSY2.28_SAT_OFF (PRIVATE)\n",
              "</pre>\n"
            ],
            "text/plain": [
              "NVH_PTSY2.28_SAT_OFF (PRIVATE)\n"
            ]
          },
          "metadata": {},
          "output_type": "display_data"
        },
        {
          "data": {
            "text/html": [
              "<pre style=\"white-space:pre;overflow-x:auto;line-height:normal;font-family:Menlo,'DejaVu Sans Mono',consolas,'Courier New',monospace\">NVH_PTSY2.30_MON_OFF\n",
              "</pre>\n"
            ],
            "text/plain": [
              "NVH_PTSY2.30_MON_OFF\n"
            ]
          },
          "metadata": {},
          "output_type": "display_data"
        },
        {
          "data": {
            "text/html": [
              "<pre style=\"white-space:pre;overflow-x:auto;line-height:normal;font-family:Menlo,'DejaVu Sans Mono',consolas,'Courier New',monospace\">NVH_PTSY2.29_SAT_OFF\n",
              "</pre>\n"
            ],
            "text/plain": [
              "NVH_PTSY2.29_SAT_OFF\n"
            ]
          },
          "metadata": {},
          "output_type": "display_data"
        },
        {
          "data": {
            "text/html": [
              "<pre style=\"white-space:pre;overflow-x:auto;line-height:normal;font-family:Menlo,'DejaVu Sans Mono',consolas,'Courier New',monospace\">NVH_DL7_SAT_OFF (PRIVATE)\n",
              "</pre>\n"
            ],
            "text/plain": [
              "NVH_DL7_SAT_OFF (PRIVATE)\n"
            ]
          },
          "metadata": {},
          "output_type": "display_data"
        },
        {
          "data": {
            "text/html": [
              "<pre style=\"white-space:pre;overflow-x:auto;line-height:normal;font-family:Menlo,'DejaVu Sans Mono',consolas,'Courier New',monospace\">NVH_PTSY1.43_THU_ONL\n",
              "</pre>\n"
            ],
            "text/plain": [
              "NVH_PTSY1.43_THU_ONL\n"
            ]
          },
          "metadata": {},
          "output_type": "display_data"
        },
        {
          "data": {
            "text/html": [
              "<pre style=\"white-space:pre;overflow-x:auto;line-height:normal;font-family:Menlo,'DejaVu Sans Mono',consolas,'Courier New',monospace\">NVH_PTSY1.42_SAT_ONL\n",
              "</pre>\n"
            ],
            "text/plain": [
              "NVH_PTSY1.42_SAT_ONL\n"
            ]
          },
          "metadata": {},
          "output_type": "display_data"
        },
        {
          "data": {
            "text/html": [
              "<pre style=\"white-space:pre;overflow-x:auto;line-height:normal;font-family:Menlo,'DejaVu Sans Mono',consolas,'Courier New',monospace\">NVH_PTPY2.8_TUE_ONL\n",
              "</pre>\n"
            ],
            "text/plain": [
              "NVH_PTPY2.8_TUE_ONL\n"
            ]
          },
          "metadata": {},
          "output_type": "display_data"
        },
        {
          "data": {
            "text/html": [
              "<pre style=\"white-space:pre;overflow-x:auto;line-height:normal;font-family:Menlo,'DejaVu Sans Mono',consolas,'Courier New',monospace\">NVH_VP29_SAT_OFF\n",
              "</pre>\n"
            ],
            "text/plain": [
              "NVH_VP29_SAT_OFF\n"
            ]
          },
          "metadata": {},
          "output_type": "display_data"
        },
        {
          "data": {
            "text/html": [
              "<pre style=\"white-space:pre;overflow-x:auto;line-height:normal;font-family:Menlo,'DejaVu Sans Mono',consolas,'Courier New',monospace\">NVH_CK30_SAT_OFF\n",
              "</pre>\n"
            ],
            "text/plain": [
              "NVH_CK30_SAT_OFF\n"
            ]
          },
          "metadata": {},
          "output_type": "display_data"
        },
        {
          "data": {
            "text/html": [
              "<pre style=\"white-space:pre;overflow-x:auto;line-height:normal;font-family:Menlo,'DejaVu Sans Mono',consolas,'Courier New',monospace\">NVH_PTSY2.26_WED_OFF\n",
              "</pre>\n"
            ],
            "text/plain": [
              "NVH_PTSY2.26_WED_OFF\n"
            ]
          },
          "metadata": {},
          "output_type": "display_data"
        },
        {
          "data": {
            "text/html": [
              "<pre style=\"white-space:pre;overflow-x:auto;line-height:normal;font-family:Menlo,'DejaVu Sans Mono',consolas,'Courier New',monospace\">NVH_WDY1.5_WED_OFF\n",
              "</pre>\n"
            ],
            "text/plain": [
              "NVH_WDY1.5_WED_OFF\n"
            ]
          },
          "metadata": {},
          "output_type": "display_data"
        },
        {
          "data": {
            "text/html": [
              "<pre style=\"white-space:pre;overflow-x:auto;line-height:normal;font-family:Menlo,'DejaVu Sans Mono',consolas,'Courier New',monospace\">NVH_GD34_SUN_OFF\n",
              "</pre>\n"
            ],
            "text/plain": [
              "NVH_GD34_SUN_OFF\n"
            ]
          },
          "metadata": {},
          "output_type": "display_data"
        },
        {
          "data": {
            "text/html": [
              "<pre style=\"white-space:pre;overflow-x:auto;line-height:normal;font-family:Menlo,'DejaVu Sans Mono',consolas,'Courier New',monospace\">NVH_DL6_SAT_OFF\n",
              "</pre>\n"
            ],
            "text/plain": [
              "NVH_DL6_SAT_OFF\n"
            ]
          },
          "metadata": {},
          "output_type": "display_data"
        },
        {
          "data": {
            "text/html": [
              "<pre style=\"white-space:pre;overflow-x:auto;line-height:normal;font-family:Menlo,'DejaVu Sans Mono',consolas,'Courier New',monospace\">NVH_UGD2_WED_OFF (PRIVATE)\n",
              "</pre>\n"
            ],
            "text/plain": [
              "NVH_UGD2_WED_OFF (PRIVATE)\n"
            ]
          },
          "metadata": {},
          "output_type": "display_data"
        },
        {
          "data": {
            "text/html": [
              "<pre style=\"white-space:pre;overflow-x:auto;line-height:normal;font-family:Menlo,'DejaVu Sans Mono',consolas,'Courier New',monospace\">NVH_DL4_FRI_OFF\n",
              "</pre>\n"
            ],
            "text/plain": [
              "NVH_DL4_FRI_OFF\n"
            ]
          },
          "metadata": {},
          "output_type": "display_data"
        },
        {
          "data": {
            "text/html": [
              "<pre style=\"white-space:pre;overflow-x:auto;line-height:normal;font-family:Menlo,'DejaVu Sans Mono',consolas,'Courier New',monospace\">NVH_GD33_FRI_OFF\n",
              "</pre>\n"
            ],
            "text/plain": [
              "NVH_GD33_FRI_OFF\n"
            ]
          },
          "metadata": {},
          "output_type": "display_data"
        },
        {
          "data": {
            "text/html": [
              "<pre style=\"white-space:pre;overflow-x:auto;line-height:normal;font-family:Menlo,'DejaVu Sans Mono',consolas,'Courier New',monospace\">NVH_PTSY2.25_TUE_ONL\n",
              "</pre>\n"
            ],
            "text/plain": [
              "NVH_PTSY2.25_TUE_ONL\n"
            ]
          },
          "metadata": {},
          "output_type": "display_data"
        },
        {
          "data": {
            "text/html": [
              "<pre style=\"white-space:pre;overflow-x:auto;line-height:normal;font-family:Menlo,'DejaVu Sans Mono',consolas,'Courier New',monospace\">NVH_PTSY2.24_TUE_ONL\n",
              "</pre>\n"
            ],
            "text/plain": [
              "NVH_PTSY2.24_TUE_ONL\n"
            ]
          },
          "metadata": {},
          "output_type": "display_data"
        },
        {
          "data": {
            "text/html": [
              "<pre style=\"white-space:pre;overflow-x:auto;line-height:normal;font-family:Menlo,'DejaVu Sans Mono',consolas,'Courier New',monospace\">NVH_PTPY1.15_SAT_ONL\n",
              "</pre>\n"
            ],
            "text/plain": [
              "NVH_PTPY1.15_SAT_ONL\n"
            ]
          },
          "metadata": {},
          "output_type": "display_data"
        },
        {
          "data": {
            "text/html": [
              "<pre style=\"white-space:pre;overflow-x:auto;line-height:normal;font-family:Menlo,'DejaVu Sans Mono',consolas,'Courier New',monospace\">NVH_PTSY1.40_FRI_OFF\n",
              "</pre>\n"
            ],
            "text/plain": [
              "NVH_PTSY1.40_FRI_OFF\n"
            ]
          },
          "metadata": {},
          "output_type": "display_data"
        },
        {
          "data": {
            "text/html": [
              "<pre style=\"white-space:pre;overflow-x:auto;line-height:normal;font-family:Menlo,'DejaVu Sans Mono',consolas,'Courier New',monospace\">NVH_PTSY2.22_MON_OFF (PRIVATE)\n",
              "</pre>\n"
            ],
            "text/plain": [
              "NVH_PTSY2.22_MON_OFF (PRIVATE)\n"
            ]
          },
          "metadata": {},
          "output_type": "display_data"
        },
        {
          "data": {
            "text/html": [
              "<pre style=\"white-space:pre;overflow-x:auto;line-height:normal;font-family:Menlo,'DejaVu Sans Mono',consolas,'Courier New',monospace\">NVH_VP25_WED_OFF\n",
              "</pre>\n"
            ],
            "text/plain": [
              "NVH_VP25_WED_OFF\n"
            ]
          },
          "metadata": {},
          "output_type": "display_data"
        },
        {
          "data": {
            "text/html": [
              "<pre style=\"white-space:pre;overflow-x:auto;line-height:normal;font-family:Menlo,'DejaVu Sans Mono',consolas,'Courier New',monospace\">NVH_CK28_MON_OFF\n",
              "</pre>\n"
            ],
            "text/plain": [
              "NVH_CK28_MON_OFF\n"
            ]
          },
          "metadata": {},
          "output_type": "display_data"
        },
        {
          "data": {
            "text/html": [
              "<pre style=\"white-space:pre;overflow-x:auto;line-height:normal;font-family:Menlo,'DejaVu Sans Mono',consolas,'Courier New',monospace\">NVH_PTPY1.13_SAT_OFF\n",
              "</pre>\n"
            ],
            "text/plain": [
              "NVH_PTPY1.13_SAT_OFF\n"
            ]
          },
          "metadata": {},
          "output_type": "display_data"
        },
        {
          "data": {
            "text/html": [
              "<pre style=\"white-space:pre;overflow-x:auto;line-height:normal;font-family:Menlo,'DejaVu Sans Mono',consolas,'Courier New',monospace\">NVH_PTSY1.38_SUN_OFF\n",
              "</pre>\n"
            ],
            "text/plain": [
              "NVH_PTSY1.38_SUN_OFF\n"
            ]
          },
          "metadata": {},
          "output_type": "display_data"
        },
        {
          "data": {
            "text/html": [
              "<pre style=\"white-space:pre;overflow-x:auto;line-height:normal;font-family:Menlo,'DejaVu Sans Mono',consolas,'Courier New',monospace\">NVH_CK25_SAT_OFF\n",
              "</pre>\n"
            ],
            "text/plain": [
              "NVH_CK25_SAT_OFF\n"
            ]
          },
          "metadata": {},
          "output_type": "display_data"
        },
        {
          "data": {
            "text/html": [
              "<pre style=\"white-space:pre;overflow-x:auto;line-height:normal;font-family:Menlo,'DejaVu Sans Mono',consolas,'Courier New',monospace\"></pre>\n"
            ],
            "text/plain": []
          },
          "metadata": {},
          "output_type": "display_data"
        },
        {
          "data": {
            "text/html": [
              "<pre style=\"white-space:pre;overflow-x:auto;line-height:normal;font-family:Menlo,'DejaVu Sans Mono',consolas,'Courier New',monospace\">\n",
              "</pre>\n"
            ],
            "text/plain": [
              "\n"
            ]
          },
          "metadata": {},
          "output_type": "display_data"
        },
        {
          "name": "stdout",
          "output_type": "stream",
          "text": [
            "NVH has 123 groups  \n"
          ]
        },
        {
          "data": {
            "application/vnd.jupyter.widget-view+json": {
              "model_id": "5ccfef10f4f941a796a12750d03c23fb",
              "version_major": 2,
              "version_minor": 0
            },
            "text/plain": [
              "Output()"
            ]
          },
          "metadata": {},
          "output_type": "display_data"
        },
        {
          "data": {
            "text/html": [
              "<pre style=\"white-space:pre;overflow-x:auto;line-height:normal;font-family:Menlo,'DejaVu Sans Mono',consolas,'Courier New',monospace\">Non\n",
              "</pre>\n"
            ],
            "text/plain": [
              "Non\n"
            ]
          },
          "metadata": {},
          "output_type": "display_data"
        },
        {
          "name": "stdout",
          "output_type": "stream",
          "text": [
            "56\n"
          ]
        },
        {
          "data": {
            "text/html": [
              "<pre style=\"white-space:pre;overflow-x:auto;line-height:normal;font-family:Menlo,'DejaVu Sans Mono',consolas,'Courier New',monospace\">Non invalid literal for int() with base 10: 'S'\n",
              "</pre>\n"
            ],
            "text/plain": [
              "Non invalid literal for int() with base 10: 'S'\n"
            ]
          },
          "metadata": {},
          "output_type": "display_data"
        },
        {
          "data": {
            "text/html": [
              "<pre style=\"white-space:pre;overflow-x:auto;line-height:normal;font-family:Menlo,'DejaVu Sans Mono',consolas,'Courier New',monospace\">PXL_VP26_MON/THU_OFF (PRIVATE)\n",
              "</pre>\n"
            ],
            "text/plain": [
              "PXL_VP26_MON/THU_OFF (PRIVATE)\n"
            ]
          },
          "metadata": {},
          "output_type": "display_data"
        },
        {
          "data": {
            "text/html": [
              "<pre style=\"white-space:pre;overflow-x:auto;line-height:normal;font-family:Menlo,'DejaVu Sans Mono',consolas,'Courier New',monospace\">PXL_CK13_SUN_OFF\n",
              "</pre>\n"
            ],
            "text/plain": [
              "PXL_CK13_SUN_OFF\n"
            ]
          },
          "metadata": {},
          "output_type": "display_data"
        },
        {
          "data": {
            "text/html": [
              "<pre style=\"white-space:pre;overflow-x:auto;line-height:normal;font-family:Menlo,'DejaVu Sans Mono',consolas,'Courier New',monospace\">PXL_VP25_SAT/SUN_ONL (PRIVATE)\n",
              "</pre>\n"
            ],
            "text/plain": [
              "PXL_VP25_SAT/SUN_ONL (PRIVATE)\n"
            ]
          },
          "metadata": {},
          "output_type": "display_data"
        },
        {
          "data": {
            "text/html": [
              "<pre style=\"white-space:pre;overflow-x:auto;line-height:normal;font-family:Menlo,'DejaVu Sans Mono',consolas,'Courier New',monospace\">PXL_UGD2_TUE_OFF\n",
              "</pre>\n"
            ],
            "text/plain": [
              "PXL_UGD2_TUE_OFF\n"
            ]
          },
          "metadata": {},
          "output_type": "display_data"
        },
        {
          "data": {
            "text/html": [
              "<pre style=\"white-space:pre;overflow-x:auto;line-height:normal;font-family:Menlo,'DejaVu Sans Mono',consolas,'Courier New',monospace\">PXL_PTPY2.1_SAT_OFF\n",
              "</pre>\n"
            ],
            "text/plain": [
              "PXL_PTPY2.1_SAT_OFF\n"
            ]
          },
          "metadata": {},
          "output_type": "display_data"
        },
        {
          "data": {
            "text/html": [
              "<pre style=\"white-space:pre;overflow-x:auto;line-height:normal;font-family:Menlo,'DejaVu Sans Mono',consolas,'Courier New',monospace\">PXL_PTSY1.10_TUE_OFF\n",
              "</pre>\n"
            ],
            "text/plain": [
              "PXL_PTSY1.10_TUE_OFF\n"
            ]
          },
          "metadata": {},
          "output_type": "display_data"
        },
        {
          "data": {
            "text/html": [
              "<pre style=\"white-space:pre;overflow-x:auto;line-height:normal;font-family:Menlo,'DejaVu Sans Mono',consolas,'Courier New',monospace\">PXL_UGD1_SUN_OFF\n",
              "</pre>\n"
            ],
            "text/plain": [
              "PXL_UGD1_SUN_OFF\n"
            ]
          },
          "metadata": {},
          "output_type": "display_data"
        },
        {
          "data": {
            "text/html": [
              "<pre style=\"white-space:pre;overflow-x:auto;line-height:normal;font-family:Menlo,'DejaVu Sans Mono',consolas,'Courier New',monospace\">PXL_GD21_TUE_OFF\n",
              "</pre>\n"
            ],
            "text/plain": [
              "PXL_GD21_TUE_OFF\n"
            ]
          },
          "metadata": {},
          "output_type": "display_data"
        },
        {
          "data": {
            "text/html": [
              "<pre style=\"white-space:pre;overflow-x:auto;line-height:normal;font-family:Menlo,'DejaVu Sans Mono',consolas,'Courier New',monospace\">PXL_DL6_SAT_OFF\n",
              "</pre>\n"
            ],
            "text/plain": [
              "PXL_DL6_SAT_OFF\n"
            ]
          },
          "metadata": {},
          "output_type": "display_data"
        },
        {
          "data": {
            "text/html": [
              "<pre style=\"white-space:pre;overflow-x:auto;line-height:normal;font-family:Menlo,'DejaVu Sans Mono',consolas,'Courier New',monospace\">PXL_VP23_SAT_OFF\n",
              "</pre>\n"
            ],
            "text/plain": [
              "PXL_VP23_SAT_OFF\n"
            ]
          },
          "metadata": {},
          "output_type": "display_data"
        },
        {
          "data": {
            "text/html": [
              "<pre style=\"white-space:pre;overflow-x:auto;line-height:normal;font-family:Menlo,'DejaVu Sans Mono',consolas,'Courier New',monospace\">PXL_CK12_TUE_OFF\n",
              "</pre>\n"
            ],
            "text/plain": [
              "PXL_CK12_TUE_OFF\n"
            ]
          },
          "metadata": {},
          "output_type": "display_data"
        },
        {
          "data": {
            "text/html": [
              "<pre style=\"white-space:pre;overflow-x:auto;line-height:normal;font-family:Menlo,'DejaVu Sans Mono',consolas,'Courier New',monospace\">PXL_PTPY1.2_WED_OFF\n",
              "</pre>\n"
            ],
            "text/plain": [
              "PXL_PTPY1.2_WED_OFF\n"
            ]
          },
          "metadata": {},
          "output_type": "display_data"
        },
        {
          "data": {
            "text/html": [
              "<pre style=\"white-space:pre;overflow-x:auto;line-height:normal;font-family:Menlo,'DejaVu Sans Mono',consolas,'Courier New',monospace\">PXL_VP21_FRI_OFF\n",
              "</pre>\n"
            ],
            "text/plain": [
              "PXL_VP21_FRI_OFF\n"
            ]
          },
          "metadata": {},
          "output_type": "display_data"
        },
        {
          "data": {
            "text/html": [
              "<pre style=\"white-space:pre;overflow-x:auto;line-height:normal;font-family:Menlo,'DejaVu Sans Mono',consolas,'Courier New',monospace\">PXL_GD19_FRI_OFF\n",
              "</pre>\n"
            ],
            "text/plain": [
              "PXL_GD19_FRI_OFF\n"
            ]
          },
          "metadata": {},
          "output_type": "display_data"
        },
        {
          "data": {
            "text/html": [
              "<pre style=\"white-space:pre;overflow-x:auto;line-height:normal;font-family:Menlo,'DejaVu Sans Mono',consolas,'Courier New',monospace\">PXL_PTPY1.3_TUE/FRI_OFF (PRIVATE)\n",
              "</pre>\n"
            ],
            "text/plain": [
              "PXL_PTPY1.3_TUE/FRI_OFF (PRIVATE)\n"
            ]
          },
          "metadata": {},
          "output_type": "display_data"
        },
        {
          "data": {
            "text/html": [
              "<pre style=\"white-space:pre;overflow-x:auto;line-height:normal;font-family:Menlo,'DejaVu Sans Mono',consolas,'Courier New',monospace\">PXL_PTSY1.8_TUE_OFF\n",
              "</pre>\n"
            ],
            "text/plain": [
              "PXL_PTSY1.8_TUE_OFF\n"
            ]
          },
          "metadata": {},
          "output_type": "display_data"
        },
        {
          "data": {
            "text/html": [
              "<pre style=\"white-space:pre;overflow-x:auto;line-height:normal;font-family:Menlo,'DejaVu Sans Mono',consolas,'Courier New',monospace\">PXL_GD18_TUE_OFF\n",
              "</pre>\n"
            ],
            "text/plain": [
              "PXL_GD18_TUE_OFF\n"
            ]
          },
          "metadata": {},
          "output_type": "display_data"
        },
        {
          "data": {
            "text/html": [
              "<pre style=\"white-space:pre;overflow-x:auto;line-height:normal;font-family:Menlo,'DejaVu Sans Mono',consolas,'Courier New',monospace\">PXL_PTSY2.5_SUN_OFF\n",
              "</pre>\n"
            ],
            "text/plain": [
              "PXL_PTSY2.5_SUN_OFF\n"
            ]
          },
          "metadata": {},
          "output_type": "display_data"
        },
        {
          "data": {
            "text/html": [
              "<pre style=\"white-space:pre;overflow-x:auto;line-height:normal;font-family:Menlo,'DejaVu Sans Mono',consolas,'Courier New',monospace\">PXL_PTSY2.4_SAT_OFF\n",
              "</pre>\n"
            ],
            "text/plain": [
              "PXL_PTSY2.4_SAT_OFF\n"
            ]
          },
          "metadata": {},
          "output_type": "display_data"
        },
        {
          "data": {
            "text/html": [
              "<pre style=\"white-space:pre;overflow-x:auto;line-height:normal;font-family:Menlo,'DejaVu Sans Mono',consolas,'Courier New',monospace\">PXL_PTSY2.3_SUN_OFF\n",
              "</pre>\n"
            ],
            "text/plain": [
              "PXL_PTSY2.3_SUN_OFF\n"
            ]
          },
          "metadata": {},
          "output_type": "display_data"
        },
        {
          "data": {
            "text/html": [
              "<pre style=\"white-space:pre;overflow-x:auto;line-height:normal;font-family:Menlo,'DejaVu Sans Mono',consolas,'Courier New',monospace\">PXL_GD17_SUN_OFF\n",
              "</pre>\n"
            ],
            "text/plain": [
              "PXL_GD17_SUN_OFF\n"
            ]
          },
          "metadata": {},
          "output_type": "display_data"
        },
        {
          "data": {
            "text/html": [
              "<pre style=\"white-space:pre;overflow-x:auto;line-height:normal;font-family:Menlo,'DejaVu Sans Mono',consolas,'Courier New',monospace\">PXL_GD16_SAT_OFF\n",
              "</pre>\n"
            ],
            "text/plain": [
              "PXL_GD16_SAT_OFF\n"
            ]
          },
          "metadata": {},
          "output_type": "display_data"
        },
        {
          "data": {
            "text/html": [
              "<pre style=\"white-space:pre;overflow-x:auto;line-height:normal;font-family:Menlo,'DejaVu Sans Mono',consolas,'Courier New',monospace\">PXL_WDY1.4_TUE_OFF\n",
              "</pre>\n"
            ],
            "text/plain": [
              "PXL_WDY1.4_TUE_OFF\n"
            ]
          },
          "metadata": {},
          "output_type": "display_data"
        },
        {
          "data": {
            "text/html": [
              "<pre style=\"white-space:pre;overflow-x:auto;line-height:normal;font-family:Menlo,'DejaVu Sans Mono',consolas,'Courier New',monospace\">PXL_PTSY1.7_SUN_OFF\n",
              "</pre>\n"
            ],
            "text/plain": [
              "PXL_PTSY1.7_SUN_OFF\n"
            ]
          },
          "metadata": {},
          "output_type": "display_data"
        },
        {
          "data": {
            "text/html": [
              "<pre style=\"white-space:pre;overflow-x:auto;line-height:normal;font-family:Menlo,'DejaVu Sans Mono',consolas,'Courier New',monospace\">PXL_PTSY1.6_SAT_OFF\n",
              "</pre>\n"
            ],
            "text/plain": [
              "PXL_PTSY1.6_SAT_OFF\n"
            ]
          },
          "metadata": {},
          "output_type": "display_data"
        },
        {
          "data": {
            "text/html": [
              "<pre style=\"white-space:pre;overflow-x:auto;line-height:normal;font-family:Menlo,'DejaVu Sans Mono',consolas,'Courier New',monospace\">PXL_DL5_FRI_OFF\n",
              "</pre>\n"
            ],
            "text/plain": [
              "PXL_DL5_FRI_OFF\n"
            ]
          },
          "metadata": {},
          "output_type": "display_data"
        },
        {
          "data": {
            "text/html": [
              "<pre style=\"white-space:pre;overflow-x:auto;line-height:normal;font-family:Menlo,'DejaVu Sans Mono',consolas,'Courier New',monospace\">PXL_GD14_SUN_OFF\n",
              "</pre>\n"
            ],
            "text/plain": [
              "PXL_GD14_SUN_OFF\n"
            ]
          },
          "metadata": {},
          "output_type": "display_data"
        },
        {
          "data": {
            "text/html": [
              "<pre style=\"white-space:pre;overflow-x:auto;line-height:normal;font-family:Menlo,'DejaVu Sans Mono',consolas,'Courier New',monospace\">PXL_GD13_SAT_OFF\n",
              "</pre>\n"
            ],
            "text/plain": [
              "PXL_GD13_SAT_OFF\n"
            ]
          },
          "metadata": {},
          "output_type": "display_data"
        },
        {
          "data": {
            "text/html": [
              "<pre style=\"white-space:pre;overflow-x:auto;line-height:normal;font-family:Menlo,'DejaVu Sans Mono',consolas,'Courier New',monospace\">PXL_PTSY1.5_SUN_OFF\n",
              "</pre>\n"
            ],
            "text/plain": [
              "PXL_PTSY1.5_SUN_OFF\n"
            ]
          },
          "metadata": {},
          "output_type": "display_data"
        },
        {
          "data": {
            "text/html": [
              "<pre style=\"white-space:pre;overflow-x:auto;line-height:normal;font-family:Menlo,'DejaVu Sans Mono',consolas,'Courier New',monospace\">PXL_DL4_SAT_OFF\n",
              "</pre>\n"
            ],
            "text/plain": [
              "PXL_DL4_SAT_OFF\n"
            ]
          },
          "metadata": {},
          "output_type": "display_data"
        },
        {
          "data": {
            "text/html": [
              "<pre style=\"white-space:pre;overflow-x:auto;line-height:normal;font-family:Menlo,'DejaVu Sans Mono',consolas,'Courier New',monospace\">PXL_VP19_SUN_OFF\n",
              "</pre>\n"
            ],
            "text/plain": [
              "PXL_VP19_SUN_OFF\n"
            ]
          },
          "metadata": {},
          "output_type": "display_data"
        },
        {
          "data": {
            "text/html": [
              "<pre style=\"white-space:pre;overflow-x:auto;line-height:normal;font-family:Menlo,'DejaVu Sans Mono',consolas,'Courier New',monospace\">PXL_VP18_SUN_OFF\n",
              "</pre>\n"
            ],
            "text/plain": [
              "PXL_VP18_SUN_OFF\n"
            ]
          },
          "metadata": {},
          "output_type": "display_data"
        },
        {
          "data": {
            "text/html": [
              "<pre style=\"white-space:pre;overflow-x:auto;line-height:normal;font-family:Menlo,'DejaVu Sans Mono',consolas,'Courier New',monospace\">PXL_GD12_SUN_OFF\n",
              "</pre>\n"
            ],
            "text/plain": [
              "PXL_GD12_SUN_OFF\n"
            ]
          },
          "metadata": {},
          "output_type": "display_data"
        },
        {
          "data": {
            "text/html": [
              "<pre style=\"white-space:pre;overflow-x:auto;line-height:normal;font-family:Menlo,'DejaVu Sans Mono',consolas,'Courier New',monospace\">PXL_VP17_FRI_OFF\n",
              "</pre>\n"
            ],
            "text/plain": [
              "PXL_VP17_FRI_OFF\n"
            ]
          },
          "metadata": {},
          "output_type": "display_data"
        },
        {
          "data": {
            "text/html": [
              "<pre style=\"white-space:pre;overflow-x:auto;line-height:normal;font-family:Menlo,'DejaVu Sans Mono',consolas,'Courier New',monospace\">PXL_CK11_SAT_OFF\n",
              "</pre>\n"
            ],
            "text/plain": [
              "PXL_CK11_SAT_OFF\n"
            ]
          },
          "metadata": {},
          "output_type": "display_data"
        },
        {
          "data": {
            "text/html": [
              "<pre style=\"white-space:pre;overflow-x:auto;line-height:normal;font-family:Menlo,'DejaVu Sans Mono',consolas,'Courier New',monospace\">PXL_GD11_WED_OFF (PRIVATE)\n",
              "</pre>\n"
            ],
            "text/plain": [
              "PXL_GD11_WED_OFF (PRIVATE)\n"
            ]
          },
          "metadata": {},
          "output_type": "display_data"
        },
        {
          "data": {
            "text/html": [
              "<pre style=\"white-space:pre;overflow-x:auto;line-height:normal;font-family:Menlo,'DejaVu Sans Mono',consolas,'Courier New',monospace\">PXL_GD10_SUN_OFF\n",
              "</pre>\n"
            ],
            "text/plain": [
              "PXL_GD10_SUN_OFF\n"
            ]
          },
          "metadata": {},
          "output_type": "display_data"
        },
        {
          "data": {
            "text/html": [
              "<pre style=\"white-space:pre;overflow-x:auto;line-height:normal;font-family:Menlo,'DejaVu Sans Mono',consolas,'Courier New',monospace\">PXL_VP16_TUE_OFF\n",
              "</pre>\n"
            ],
            "text/plain": [
              "PXL_VP16_TUE_OFF\n"
            ]
          },
          "metadata": {},
          "output_type": "display_data"
        },
        {
          "data": {
            "text/html": [
              "<pre style=\"white-space:pre;overflow-x:auto;line-height:normal;font-family:Menlo,'DejaVu Sans Mono',consolas,'Courier New',monospace\">PXL_GD9_MON_OFF\n",
              "</pre>\n"
            ],
            "text/plain": [
              "PXL_GD9_MON_OFF\n"
            ]
          },
          "metadata": {},
          "output_type": "display_data"
        },
        {
          "data": {
            "text/html": [
              "<pre style=\"white-space:pre;overflow-x:auto;line-height:normal;font-family:Menlo,'DejaVu Sans Mono',consolas,'Courier New',monospace\">PXL_WDY1.3_MON_OFF\n",
              "</pre>\n"
            ],
            "text/plain": [
              "PXL_WDY1.3_MON_OFF\n"
            ]
          },
          "metadata": {},
          "output_type": "display_data"
        },
        {
          "data": {
            "text/html": [
              "<pre style=\"white-space:pre;overflow-x:auto;line-height:normal;font-family:Menlo,'DejaVu Sans Mono',consolas,'Courier New',monospace\">PXL_VP13_MON_OFF\n",
              "</pre>\n"
            ],
            "text/plain": [
              "PXL_VP13_MON_OFF\n"
            ]
          },
          "metadata": {},
          "output_type": "display_data"
        },
        {
          "data": {
            "text/html": [
              "<pre style=\"white-space:pre;overflow-x:auto;line-height:normal;font-family:Menlo,'DejaVu Sans Mono',consolas,'Courier New',monospace\">PXL_CK10_WED_OFF\n",
              "</pre>\n"
            ],
            "text/plain": [
              "PXL_CK10_WED_OFF\n"
            ]
          },
          "metadata": {},
          "output_type": "display_data"
        },
        {
          "data": {
            "text/html": [
              "<pre style=\"white-space:pre;overflow-x:auto;line-height:normal;font-family:Menlo,'DejaVu Sans Mono',consolas,'Courier New',monospace\">PXL_WDY1.2_SAT_OFF\n",
              "</pre>\n"
            ],
            "text/plain": [
              "PXL_WDY1.2_SAT_OFF\n"
            ]
          },
          "metadata": {},
          "output_type": "display_data"
        },
        {
          "data": {
            "text/html": [
              "<pre style=\"white-space:pre;overflow-x:auto;line-height:normal;font-family:Menlo,'DejaVu Sans Mono',consolas,'Courier New',monospace\">PXL_VP12_MON_OFF\n",
              "</pre>\n"
            ],
            "text/plain": [
              "PXL_VP12_MON_OFF\n"
            ]
          },
          "metadata": {},
          "output_type": "display_data"
        },
        {
          "data": {
            "text/html": [
              "<pre style=\"white-space:pre;overflow-x:auto;line-height:normal;font-family:Menlo,'DejaVu Sans Mono',consolas,'Courier New',monospace\">PXL_GD8_SUN_OFF\n",
              "</pre>\n"
            ],
            "text/plain": [
              "PXL_GD8_SUN_OFF\n"
            ]
          },
          "metadata": {},
          "output_type": "display_data"
        },
        {
          "data": {
            "text/html": [
              "<pre style=\"white-space:pre;overflow-x:auto;line-height:normal;font-family:Menlo,'DejaVu Sans Mono',consolas,'Courier New',monospace\">PXL_CK9_SUN_OFF\n",
              "</pre>\n"
            ],
            "text/plain": [
              "PXL_CK9_SUN_OFF\n"
            ]
          },
          "metadata": {},
          "output_type": "display_data"
        },
        {
          "data": {
            "text/html": [
              "<pre style=\"white-space:pre;overflow-x:auto;line-height:normal;font-family:Menlo,'DejaVu Sans Mono',consolas,'Courier New',monospace\">PXL_CK8_SAT_OFF\n",
              "</pre>\n"
            ],
            "text/plain": [
              "PXL_CK8_SAT_OFF\n"
            ]
          },
          "metadata": {},
          "output_type": "display_data"
        },
        {
          "data": {
            "text/html": [
              "<pre style=\"white-space:pre;overflow-x:auto;line-height:normal;font-family:Menlo,'DejaVu Sans Mono',consolas,'Courier New',monospace\">PXL_VP11_SAT_OFF\n",
              "</pre>\n"
            ],
            "text/plain": [
              "PXL_VP11_SAT_OFF\n"
            ]
          },
          "metadata": {},
          "output_type": "display_data"
        },
        {
          "data": {
            "text/html": [
              "<pre style=\"white-space:pre;overflow-x:auto;line-height:normal;font-family:Menlo,'DejaVu Sans Mono',consolas,'Courier New',monospace\">PXL_CK7_FRI_OFF\n",
              "</pre>\n"
            ],
            "text/plain": [
              "PXL_CK7_FRI_OFF\n"
            ]
          },
          "metadata": {},
          "output_type": "display_data"
        },
        {
          "data": {
            "text/html": [
              "<pre style=\"white-space:pre;overflow-x:auto;line-height:normal;font-family:Menlo,'DejaVu Sans Mono',consolas,'Courier New',monospace\">PXL_CK6_TUE_OFF\n",
              "</pre>\n"
            ],
            "text/plain": [
              "PXL_CK6_TUE_OFF\n"
            ]
          },
          "metadata": {},
          "output_type": "display_data"
        }
      ],
      "source": [
        "def get_data(percentages):\n",
        "  feedback_need = {}\n",
        "  # bases = [\"NVH_CK38_FRI_OFF\"]\n",
        "  wday = ''\n",
        "  name_PT = ''\n",
        "  for base in bases:\n",
        "      new_start_time = time.time()\n",
        "      para = f'GroupSearch%5Bid%5D=&GroupSearch%5Btitle%5D={base}&GroupSearch%5Bvenue%5D=&GroupSearch%5Bactive_student_count%5D=&GroupSearch%5BnextLessonTime%5D=&GroupSearch%5BnextLessonNumber%5D=&GroupSearch%5BnextLessonTitle%5D=&GroupSearch%5Bteacher%5D=&GroupSearch%5Bcurator%5D=&GroupSearch%5Btype%5D=&GroupSearch%5Btype%5D%5B%5D=regular&GroupSearch%5Btype%5D%5B%5D=intensive&GroupSearch%5Bstatus%5D=&GroupSearch%5BcourseContentType%5D=&GroupSearch%5BcourseContentType%5D%5B%5D=course&GroupSearch%5BcourseContentType%5D%5B%5D=intensive&GroupSearch%5BcourseStartTime%5D={date_start}+-+{date_now}&GroupSearch%5BcourseEndTime%5D={date_now}+-+{date_end}&presetType=active&export=true&name=default&exportType=html'\n",
        "      header = {\n",
        "          \"accept\": \"text/html,application/xhtml+xml,application/xml;q=0.9,image/avif,image/webp,image/apng,*/*;q=0.8,application/signed-exchange;v=b3;q=0.7\",\n",
        "          \"accept-language\": \"en-US,en;q=0.9,vi-VN;q=0.8,vi;q=0.7\",\n",
        "          \"cache-control\": \"max-age=0\",\n",
        "          \"sec-ch-ua\": \"\\\"Not/A)Brand\\\";v=\\\"99\\\", \\\"Google Chrome\\\";v=\\\"115\\\", \\\"Chromium\\\";v=\\\"115\\\"\",\n",
        "          \"sec-ch-ua-mobile\": \"?0\",\n",
        "          \"sec-ch-ua-platform\": \"\\\"Windows\\\"\",\n",
        "          \"sec-fetch-dest\": \"document\",\n",
        "          \"sec-fetch-mode\": \"navigate\",\n",
        "          \"sec-fetch-site\": \"same-origin\",\n",
        "          \"sec-fetch-user\": \"?1\",\n",
        "          \"upgrade-insecure-requests\": \"1\",\n",
        "          \"cookie\": \"_ym_uid=1664966280852805697; intercom-device-id-ufjpx6k3=fd3080c1-5a63-4af6-bd1f-15268d549a7e; userId=30454; _grid_page_size_schedule=35d0980fa38e2255112d0c62698773cab8aa12a81c6735caf172064b5eb6ea47a%3A2%3A%7Bi%3A0%3Bs%3A24%3A%22_grid_page_size_schedule%22%3Bi%3A1%3Bs%3A3%3A%22200%22%3B%7D; _grid_page_size=d3ebbdf9ec9235bfc4ba59572a6d3dd403a563222be148e9c705e91612194e49a%3A2%3A%7Bi%3A0%3Bs%3A15%3A%22_grid_page_size%22%3Bi%3A1%3Bs%3A3%3A%22200%22%3B%7D; _ym_d=1680775536; createdTimestamp=1691049380; accessToken=adc7d965abf052753f1100b9011d8a003f95f61c1470890bbc9fc57375638ae1; SERVERID=b430; _backendMainSessionId=308eb74178b6836b7f09e74ce8c7bd60; _gid=GA1.2.274018822.1691049382; _ym_isad=2; studentId=1700942; advanced-frontend-multi=02cd99881ff23c1c8d06338e6e1f0422; studentAccessToken=9add4094c84a4cc4de00a8966e2a1db4acf28097eeeb7450b7da0cc2fd9c1435; studentCreatedTimestamp=1691060914; _ym_visorc=w; intercom-session-ufjpx6k3=NFk3M3NWdTMyZncvRXZVZllnWnZpRFgvakdseEFYaTJSUkJHUmlqWXh5WnJISFFJOWZybTdvOFNYWkZoM1EydC0tMmFzMmNvcVZNWEZwZGJhVGF0ZHV2QT09--c2df8774ec2162b96bd9cb963833c31ce768f969; _ga_3QSGZBLTE3=GS1.1.1691064500.176.1.1691065055.58.0.0; _ga=GA1.1.1620969847.1664966279; _ga_4CL98HXNQK=GS1.1.1691064500.5.1.1691065199.0.0.0\",\n",
        "          \"Referer\": f\"{DOMAINS}GroupSearch%5Bid%5D=&GroupSearch%5Btitle%5D={base}&GroupSearch%5Bvenue%5D=&GroupSearch%5Bactive_student_count%5D=&GroupSearch%5BnextLessonTime%5D=&GroupSearch%5BnextLessonNumber%5D=&GroupSearch%5BnextLessonTitle%5D=&GroupSearch%5Bteacher%5D=&GroupSearch%5Bcurator%5D=&GroupSearch%5Btype%5D=&GroupSearch%5Btype%5D%5B%5D=regular&GroupSearch%5Btype%5D%5B%5D=intensive&GroupSearch%5Btype%5D%5B%5D=individual&GroupSearch%5Bstatus%5D=&GroupSearch%5BcourseContentType%5D=&GroupSearch%5BcourseContentType%5D%5B%5D=course&GroupSearch%5BcourseContentType%5D%5B%5D=intensive&GroupSearch%5BcourseStartTime%5D={date_start}%20-%20{date_now}&GroupSearch%5BcourseEndTime%5D={date_now}%20-%20{date_end}&presetType=active\",\n",
        "          \"Referrer-Policy\": \"strict-origin-when-cross-origin\"\n",
        "          }\n",
        "\n",
        "\n",
        "      end_point = DOMAINS + para\n",
        "      res = s.get(end_point, headers = header)\n",
        "      output = res.content.decode('utf-8')\n",
        "\n",
        "      soup = BeautifulSoup(output, 'html.parser', from_encoding='utf-8')\n",
        "      soup.find('tbody')\n",
        "\n",
        "      table_rows = soup.find_all('tr')\n",
        "      groups = []\n",
        "      feedback_need = {}\n",
        "      # table_rows = list(table_rows)\n",
        "      # print(len(table_rows))\n",
        "\n",
        "      # table_rows.remove(table_rows[0])\n",
        "      date_str = ''\n",
        "      print(len(table_rows))\n",
        "      for tr in track(table_rows, description= f\"Processing {base}...\"):\n",
        "          lessons = []\n",
        "          group = []\n",
        "          all_td = tr.find_all('td')\n",
        "          group_id = all_td[0].string\n",
        "          group_name = all_td[1].find('a')\n",
        "          group_name = str(group_name)[str(group_name).find('>')+1:str(group_name).find('</a>')]\n",
        "          teacher_name = all_td[7].find('a')\n",
        "          teacher_name = str(teacher_name)[str(teacher_name).find('>')+1:str(teacher_name).find('</a>')]\n",
        "          for key in date.keys():\n",
        "            if key in group_name:\n",
        "                date_str = key\n",
        "                break\n",
        "          if date_str:\n",
        "            wday = date[date_str]\n",
        "          all_li = all_td[1].find('p')\n",
        "          if group_name is None or str(group_name) == \"NVH_UGD2_MON/WED_OFF (PRIVATE)\":\n",
        "                continue\n",
        "          campus = all_td[2].string\n",
        "          amount_student = all_td[3].string\n",
        "          next_lesson_time = all_td[4].string\n",
        "          next_lesson_time = str(next_lesson_time)\n",
        "          next_lesson_index = all_td[5].string\n",
        "          next_lesson_index = str(next_lesson_index)\n",
        "          next_lesson_name = all_td[6].find('div')\n",
        "          next_lesson_name = str(next_lesson_name)[str(next_lesson_name).find('>')+1:str(next_lesson_name).find('</div>')]   \n",
        "          course_start_date = all_td[12].string\n",
        "          course_end_date = all_td[13].string\n",
        "          all_li = str(all_li)\n",
        "          class_time = next_lesson_time[next_lesson_time.find(\":\")-2:]\n",
        "          url = all_li[all_li.find(\"https\"):all_li.find(\"</p>\")]\n",
        "          start = url.find(\"d/\")\n",
        "          end = url.find(\"/edit\")\n",
        "          id = url[start+2:end]\n",
        "          print(group_name)\n",
        "          if group_name == \"NVH_CK38_FRI_OFF\":\n",
        "              continue\n",
        "          try:\n",
        "              result = sheet.values().get(spreadsheetId=id, range='Report!AC3:AC40').execute()\n",
        "              values = result.get('values', [])\n",
        "             \n",
        "              for j in values:\n",
        "                  if j[0] != \"#DIV/0!\":\n",
        "                      score = j[0]\n",
        "                      lessons.append(round(float(score), 2)) \n",
        "                  else:\n",
        "                      lessons.append(j[0])\n",
        "                  \n",
        "              if len(lessons) == 0:\n",
        "                  result = sheet.values().get(spreadsheetId=id, range='Report!AE3:AE40').execute()\n",
        "                  values = result.get('values', [])\n",
        "                  \n",
        "                  for j in values:\n",
        "                      if j[0] != \"#DIV/0!\":\n",
        "                          score = j[0]\n",
        "                          lessons.append(float(score)) \n",
        "                      else:\n",
        "                          lessons.append(j[0])\n",
        "              # print(lessons)\n",
        "              if next_lesson_index == \"2\" or next_lesson_index == \"5\" or next_lesson_index == \"9\" or next_lesson_index == \"13\" or next_lesson_index == \"21\" or next_lesson_index == \"25\" or next_lesson_index == \"29\":\n",
        "                  feedback_need[group_name] = [id,int(next_lesson_index)]\n",
        "              \n",
        "              programT_name = sheet.values().get(spreadsheetId=id, range='Report!E6:M6').execute()\n",
        "              values = programT_name.get('values', [])\n",
        "              try:\n",
        "                name_PT = str(values[0][0])\n",
        "              except:\n",
        "                name_PT = \"None\"\n",
        "          except HttpError as err:\n",
        "              time.sleep(10)\n",
        "          all_li = str(all_li)\n",
        "          \n",
        "          url = all_li[all_li.find(\"https\"):all_li.find(\"</p>\")]\n",
        "          try:\n",
        "            try:\n",
        "              group = [group_id, wday, str(group_name), str(teacher_name), name_PT , class_time, str(url), str(campus), int(amount_student[0]), next_lesson_time, int(next_lesson_index), percentages[str(group_name)][0], next_lesson_name, course_start_date, course_end_date]\n",
        "\n",
        "            except:\n",
        "              group = [group_id, wday, str(group_name), str(teacher_name), name_PT , class_time, str(url), str(campus), int(amount_student[0]), next_lesson_time, int(next_lesson_index), \"TBU\", next_lesson_name, course_start_date, course_end_date]\n",
        "            # print(group_name)\n",
        "            group.extend(lessons)\n",
        "            groups.append(group)\n",
        "            \n",
        "          except ValueError as err:\n",
        "            print(group_name, err)\n",
        "          \n",
        "      time_end = time.time()\n",
        "      resource = {\n",
        "          \"majorDimension\": \"ROWS\",\n",
        "          \"values\": groups\n",
        "      }\n",
        "      cresult = sheet.values().clear(\n",
        "          spreadsheetId=\"1D8uRbAJXBJMcF0e8tXWKe5dRbiv-EW_by-SpNAxZ3qA\",\n",
        "          range=f\"{base}!A2:ZZZ\"\n",
        "        ).execute()\n",
        "      print(f\"{base} has {len(groups)} groups  \")\n",
        "\n",
        "      # 1EzB0-CpBYUe1J8z9jjDEPIBc3tcOwyBJZyPXN6HPZgE for testing\n",
        "      # 1D8uRbAJXBJMcF0e8tXWKe5dRbiv-EW_by-SpNAxZ3qA for real data update\n",
        "\n",
        "      result1 = sheet.values().update(\n",
        "          spreadsheetId= \"1D8uRbAJXBJMcF0e8tXWKe5dRbiv-EW_by-SpNAxZ3qA\",\n",
        "          range= f\"{base}!A2\",\n",
        "          valueInputOption=\"RAW\",\n",
        "          body=resource).execute()\n",
        "  print(\"Done\")\n",
        "  return feedback_need\n",
        "get_data(percentages)"
      ]
    },
    {
      "attachments": {},
      "cell_type": "markdown",
      "metadata": {},
      "source": [
        "get the feedback from teacher use as a data point to train AI NLP model"
      ]
    },
    {
      "cell_type": "code",
      "execution_count": null,
      "metadata": {
        "id": "stuyAan09qPQ"
      },
      "outputs": [],
      "source": [
        "def get_feedback():\n",
        "  feedback_need = get_data(percentages)\n",
        "  student_sheet  = {2 : \"C36:D45\", 5 :\"C36:D45\", 9 : \"C69:D78\", 13 : \"C102:D111\", 21 : \"C168:D177\", 25 : \"C201:D210\", 29 : \"C234:D243\"}\n",
        "  feedback_sheet = {2 : \"M36:O45\", 5 :\"S36:V45\" ,9 : \"P69:S78\", 13 : \"P102:S111\", 21 : \"P168:S177\", 25 : \"P201:S210\", 29 : \"P234:S243\"}\n",
        "  # print(feedback_need)\n",
        "  class_report = []\n",
        "  \n",
        "  for group_name,value in feedback_need.items():\n",
        "  \n",
        "\n",
        "    link = value[0]\n",
        "    lesson = value[1]\n",
        "    feed = feedback_sheet[lesson]\n",
        "    student = student_sheet[lesson]\n",
        "    try:\n",
        "      result1 = sheet.values().get(spreadsheetId=link, range=f'Report!{student}').execute()\n",
        "      values1 = result1.get('values', [])\n",
        "      result2 = sheet.values().get(spreadsheetId=link, range=f'Report!{feed}').execute()\n",
        "      values2 = result2.get('values', [])\n",
        "      \n",
        "      for i in range(len(values1)):\n",
        "        try:\n",
        "          class_report.append([group_name,lesson,values1[i][0],values2[i][0].replace(\"\\n\", \" \").replace(\"\\t\", \" \")])\n",
        "        except:\n",
        "          try:\n",
        "            class_report.append([group_name,lesson,values1[i][0],\"not yet\"])\n",
        "          except:\n",
        "            pass\n",
        "    except HttpError:\n",
        "      time.sleep(60)\n",
        "\n",
        "  return class_report\n",
        "    \n",
        "# get_feedback()"
      ]
    },
    {
      "attachments": {},
      "cell_type": "markdown",
      "metadata": {},
      "source": [
        "push to Feedback Sheet "
      ]
    },
    {
      "cell_type": "code",
      "execution_count": null,
      "metadata": {
        "id": "h6zOQVWyA1Vo"
      },
      "outputs": [],
      "source": [
        "def push_to_sheet():\n",
        "  # print(data)\n",
        "  # 1EzB0-CpBYUe1J8z9jjDEPIBc3tcOwyBJZyPXN6HPZgE for testing\n",
        "  # 1D8uRbAJXBJMcF0e8tXWKe5dRbiv-EW_by-SpNAxZ3qA for real data update\n",
        "  class_report = get_feedback()\n",
        "  result = sheet.values().clear(\n",
        "          spreadsheetId=\"1D8uRbAJXBJMcF0e8tXWKe5dRbiv-EW_by-SpNAxZ3qA\",\n",
        "          range=\"Feedback Report!A1:ZZZ\"\n",
        "      ).execute()\n",
        "  resource2 = {\n",
        "        \"majorDimension\": \"ROWS\",\n",
        "        \"values\": class_report\n",
        "    }\n",
        "  result = sheet.values().update(\n",
        "            spreadsheetId= \"1D8uRbAJXBJMcF0e8tXWKe5dRbiv-EW_by-SpNAxZ3qA\",\n",
        "            range= f\"Feedback Report!A2\",\n",
        "            valueInputOption=\"RAW\",\n",
        "            body=resource2).execute()\n",
        "push_to_sheet()"
      ]
    },
    {
      "attachments": {},
      "cell_type": "markdown",
      "metadata": {},
      "source": [
        "Get the Finished classes"
      ]
    },
    {
      "cell_type": "code",
      "execution_count": null,
      "metadata": {},
      "outputs": [],
      "source": [
        "def fin_classes():\n",
        "    fin_grp = []\n",
        "    for base in bases:\n",
        "        DOMAINS_FIN = \"https://lms.logika.asia/group?\"\n",
        "\n",
        "\n",
        "        para = f\"GroupSearch%5Bid%5D=&GroupSearch%5Btitle%5D={base}&GroupSearch%5Bvenue%5D=&GroupSearch%5Bactive_student_count%5D=&GroupSearch%5BnextLessonTime%5D=&GroupSearch%5BnextLessonNumber%5D=&GroupSearch%5BnextLessonTitle%5D=&GroupSearch%5Bteacher%5D=&GroupSearch%5Bcurator%5D=&GroupSearch%5Bstatus%5D=&GroupSearch%5Bstatus%5D%5B%5D=inactive&GroupSearch%5BcourseContentType%5D=&GroupSearch%5BcourseStartTime%5D=&GroupSearch%5BcourseEndTime%5D=&export=true&name=default&exportType=html\"\n",
        "\n",
        "\n",
        "        header = {\n",
        "            \"accept\": \"text/html,application/xhtml+xml,application/xml;q=0.9,image/avif,image/webp,image/apng,*/*;q=0.8,application/signed-exchange;v=b3;q=0.7\",\n",
        "            \"accept-language\": \"en-US,en;q=0.9,vi-VN;q=0.8,vi;q=0.7\",\n",
        "            \"cache-control\": \"max-age=0\",\n",
        "            \"sec-ch-ua\": \"\\\"Not/A)Brand\\\";v=\\\"99\\\", \\\"Google Chrome\\\";v=\\\"115\\\", \\\"Chromium\\\";v=\\\"115\\\"\",\n",
        "            \"sec-ch-ua-mobile\": \"?0\",\n",
        "            \"sec-ch-ua-platform\": \"\\\"Windows\\\"\",\n",
        "            \"sec-fetch-dest\": \"document\",\n",
        "            \"sec-fetch-mode\": \"navigate\",\n",
        "            \"sec-fetch-site\": \"same-origin\",\n",
        "            \"sec-fetch-user\": \"?1\",\n",
        "            \"upgrade-insecure-requests\": \"1\",\n",
        "            \"cookie\": \"_ym_uid=1664966280852805697; intercom-device-id-ufjpx6k3=fd3080c1-5a63-4af6-bd1f-15268d549a7e; userId=30454; _grid_page_size_schedule=35d0980fa38e2255112d0c62698773cab8aa12a81c6735caf172064b5eb6ea47a%3A2%3A%7Bi%3A0%3Bs%3A24%3A%22_grid_page_size_schedule%22%3Bi%3A1%3Bs%3A3%3A%22200%22%3B%7D; _grid_page_size=d3ebbdf9ec9235bfc4ba59572a6d3dd403a563222be148e9c705e91612194e49a%3A2%3A%7Bi%3A0%3Bs%3A15%3A%22_grid_page_size%22%3Bi%3A1%3Bs%3A3%3A%22200%22%3B%7D; _ym_d=1680775536; createdTimestamp=1691049380; accessToken=adc7d965abf052753f1100b9011d8a003f95f61c1470890bbc9fc57375638ae1; SERVERID=b430; _backendMainSessionId=308eb74178b6836b7f09e74ce8c7bd60; _gid=GA1.2.274018822.1691049382; _ym_isad=2; studentId=1700942; advanced-frontend-multi=02cd99881ff23c1c8d06338e6e1f0422; studentAccessToken=9add4094c84a4cc4de00a8966e2a1db4acf28097eeeb7450b7da0cc2fd9c1435; studentCreatedTimestamp=1691060914; _ym_visorc=w; intercom-session-ufjpx6k3=NFk3M3NWdTMyZncvRXZVZllnWnZpRFgvakdseEFYaTJSUkJHUmlqWXh5WnJISFFJOWZybTdvOFNYWkZoM1EydC0tMmFzMmNvcVZNWEZwZGJhVGF0ZHV2QT09--c2df8774ec2162b96bd9cb963833c31ce768f969; _ga_3QSGZBLTE3=GS1.1.1691064500.176.1.1691065055.58.0.0; _ga=GA1.1.1620969847.1664966279; _ga_4CL98HXNQK=GS1.1.1691064500.5.1.1691065457.0.0.0\",\n",
        "            \"Referer\": f\"{DOMAINS_FIN}GroupSearch%5Bid%5D=&GroupSearch%5Btitle%5D={base}&GroupSearch%5Bvenue%5D=&GroupSearch%5Bactive_student_count%5D=&GroupSearch%5BnextLessonTime%5D=&GroupSearch%5BnextLessonNumber%5D=&GroupSearch%5BnextLessonTitle%5D=&GroupSearch%5Bteacher%5D=&GroupSearch%5Bcurator%5D=&GroupSearch%5Bstatus%5D=&GroupSearch%5Bstatus%5D%5B%5D=inactive&GroupSearch%5BcourseContentType%5D=&GroupSearch%5BcourseStartTime%5D=&GroupSearch%5BcourseEndTime%5D=&presetType=all\",\n",
        "            \"Referrer-Policy\": \"strict-origin-when-cross-origin\"\n",
        "        }\n",
        "\n",
        "\n",
        "\n",
        "        end_point = DOMAINS_FIN + para\n",
        "        res = s.get(end_point, headers = header)\n",
        "        output = res.content.decode('utf-8')\n",
        "        soup = BeautifulSoup(output, 'html.parser', from_encoding='utf-8')\n",
        "        soup.find('tbody')\n",
        "        table_rows = soup.find_all('tr')\n",
        "        \n",
        "        table_rows.remove(table_rows[0])\n",
        "        # print(table_rows)\n",
        "        for tr in table_rows:\n",
        "            all_td = tr.find_all('td')\n",
        "            grp_id = str(all_td[0].string)\n",
        "            grp_name = all_td[1].find(\"a\")\n",
        "            cpr_url = all_td[1].find(\"p\")\n",
        "            cpr_url = str(cpr_url)\n",
        "            url = cpr_url[cpr_url.find(\"https\"):cpr_url.find(\"</p>\")]\n",
        "            num_of_std = all_td[3].find(\"span\")       \n",
        "            num_of_std = str(num_of_std.string)[0]\n",
        "            # if num_of_std == \"N\" or num_of_std == \"0\":\n",
        "                # continue\n",
        "            num_of_std = int(num_of_std)\n",
        "            grp_name = str(grp_name.string) \n",
        "            group_status = all_td[9].string\n",
        "            class_end_date = all_td[12].string\n",
        "            if class_end_date:\n",
        "                class_end_date = str(class_end_date)\n",
        "                class_end_date = class_end_date[:class_end_date.find(\" \")]\n",
        "                # print(class_end_date)\n",
        "                # class_end_date = date.strptime(class_end_date, \"%d.%m.%Y\")\n",
        "                # class_end_date = class_end_date.strftime(\"%m.%d.%Y\")\n",
        "            else:\n",
        "                class_end_date = None\n",
        "\n",
        "            if str(group_status) == \"Finished\" and str(group_status) != \"Collapsed\" and (grp_name.find(\"Trial\") == -1 or grp_name.find(\"Demo\") != -1):\n",
        "                fin_grp.append([grp_id , grp_name, num_of_std, url, group_status, class_end_date])   \n",
        "    return fin_grp\n",
        "\n",
        "\n",
        "fin_grp = fin_classes()\n",
        "print(fin_grp)\n",
        "resource = {\n",
        "        \"majorDimension\": \"ROWS\",\n",
        "        \"values\": fin_grp\n",
        "    }\n",
        "\n",
        "result = sheet.values().update(\n",
        "    spreadsheetId= \"1D8uRbAJXBJMcF0e8tXWKe5dRbiv-EW_by-SpNAxZ3qA\",\n",
        "    range= f\"'Finished Groups'!A2\",\n",
        "    valueInputOption=\"RAW\",\n",
        "    body=resource).execute()"
      ]
    },
    {
      "attachments": {},
      "cell_type": "markdown",
      "metadata": {},
      "source": [
        "Testing with Database"
      ]
    },
    {
      "cell_type": "code",
      "execution_count": null,
      "metadata": {},
      "outputs": [],
      "source": [
        "# import mysql.connector\n",
        "# import rich\n",
        "# # MySQL database configuration\n",
        "# config = {\n",
        "#     'user': 'root',\n",
        "#     'password': '',\n",
        "#     'host': 'localhost',\n",
        "#     'database': 'algo_db',\n",
        "#     # 'your_table' : 'nlb',\n",
        "#     'raise_on_warnings': True\n",
        "# }\n",
        "\n",
        "# try:\n",
        "#     # Establish a connection to the MySQL server\n",
        "#     connection = mysql.connector.connect(**config)\n",
        "\n",
        "#     if connection.is_connected():\n",
        "#         db_info = connection.get_server_info()\n",
        "#         print(f\"Connected to MySQL Server version {db_info}\")\n",
        "\n",
        "#         cursor = connection.cursor()\n",
        "\n",
        "#         # Execute a sample query\n",
        "#         cursor.execute(\"SELECT * FROM nlb\")\n",
        "        \n",
        "#         # Fetch and print the query results\n",
        "#         rows = cursor.fetchall()\n",
        "#         for row in rows:\n",
        "#             print(row)\n",
        "#         # if connection.is_connected():\n",
        "#         #     cursor.close()\n",
        "#         #     connection.close()\n",
        "#         #     print(\"MySQL connection is closed\")\n",
        "# except mysql.connector.Error as error:\n",
        "#     print(f\"Error connecting to MySQL: {error}\")"
      ]
    }
  ],
  "metadata": {
    "colab": {
      "private_outputs": true,
      "provenance": []
    },
    "gpuClass": "standard",
    "kernelspec": {
      "display_name": "Python 3",
      "name": "python3"
    },
    "language_info": {
      "codemirror_mode": {
        "name": "ipython",
        "version": 3
      },
      "file_extension": ".py",
      "mimetype": "text/x-python",
      "name": "python",
      "nbconvert_exporter": "python",
      "pygments_lexer": "ipython3",
      "version": "3.10.0"
    }
  },
  "nbformat": 4,
  "nbformat_minor": 0
}
