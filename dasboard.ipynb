{
  "cells": [
    {
      "cell_type": "code",
      "execution_count": 1,
      "metadata": {
        "id": "IDuTDwRMGKQj"
      },
      "outputs": [],
      "source": [
        "import requests\n",
        "from bs4 import BeautifulSoup\n",
        "from rich.progress import track\n",
        "from datetime import date, timedelta\n",
        "from dateutil.relativedelta import relativedelta\n",
        "import time\n",
        "from google.oauth2.credentials import Credentials\n",
        "from google_auth_oauthlib.flow import InstalledAppFlow\n",
        "from googleapiclient.discovery import build\n",
        "from googleapiclient.errors import HttpError\n",
        "import json"
      ]
    },
    {
      "attachments": {},
      "cell_type": "markdown",
      "metadata": {},
      "source": [
        "declairce must have variable and constants"
      ]
    },
    {
      "cell_type": "code",
      "execution_count": 2,
      "metadata": {
        "id": "dKGH0Dtzz15s"
      },
      "outputs": [],
      "source": [
        "time_start = time.time()\n",
        "SCOPES =  ['https://www.googleapis.com/auth/spreadsheets']\n",
        "\n",
        "\n",
        "DOMAINS = 'https://lms.logika.asia/group?'\n",
        "CPR_DOMAINS = 'https://lms.logika.asia/group/default/schedule'\n",
        "\n",
        "date_now = date.today()\n",
        "date_start = date_now - relativedelta(years=1)\n",
        "date_end = date_now + relativedelta(years=1)\n",
        "\n",
        "s = requests.Session()\n",
        "try:\n",
        "    creds = Credentials.from_authorized_user_file('token.json', SCOPES)\n",
        "except FileNotFoundError:\n",
        "    flow = InstalledAppFlow.from_client_secrets_file(\n",
        "        'credentials.json', SCOPES)\n",
        "    creds = flow.run_local_server(port=0)\n",
        "    with open('token.json', 'w') as token:\n",
        "        token.write(creds.to_json())\n",
        "service = build('sheets', 'v4', credentials=creds)\n",
        "sheet = service.spreadsheets()\n",
        "class_report = []\n",
        "bases = ['NLB', \"NVH\", \"PXL\", \"VCP\"]\n",
        "# bases = [\"NLB\"]\n",
        "date = {\"MON\" : 2,\"TUE\" : 3,\"WED\" : 4,\"THU\" : 5,\"FRI\" : 6,\"SAT\" : 7,\"SUN\" : 8}"
      ]
    },
    {
      "attachments": {},
      "cell_type": "markdown",
      "metadata": {},
      "source": [
        "get percentage for each class happend the day before"
      ]
    },
    {
      "cell_type": "code",
      "execution_count": 3,
      "metadata": {
        "id": "03AcjDYLlC8X"
      },
      "outputs": [
        {
          "name": "stderr",
          "output_type": "stream",
          "text": [
            "c:\\Users\\hazaz\\AppData\\Local\\Programs\\Python\\Python310\\lib\\site-packages\\bs4\\__init__.py:228: UserWarning: You provided Unicode markup but also provided a value for from_encoding. Your from_encoding will be ignored.\n",
            "  warnings.warn(\"You provided Unicode markup but also provided a value for from_encoding. Your from_encoding will be ignored.\")\n"
          ]
        }
      ],
      "source": [
        "def get_percentage():\n",
        "  \n",
        "  percentages = {}\n",
        "  for base in bases:\n",
        "    for i in range(1,3):\n",
        "      date = date_now.today() - timedelta(i)\n",
        "      para = f'?GroupWithLessonSearch%5BnextLessonTime%5D={date}+-+{date}&GroupWithLessonSearch%5BnextLessonNumber%5D=&GroupWithLessonSearch%5BnextLessonTitle%5D=&GroupWithLessonSearch%5Bid%5D=&GroupWithLessonSearch%5Btitle%5D={base}&GroupWithLessonSearch%5Bvenue%5D=&GroupWithLessonSearch%5Bactive_student_count%5D=&GroupWithLessonSearch%5Bweekday%5D=&GroupWithLessonSearch%5BlessonTeacherName%5D=&GroupWithLessonSearch%5Bteacher%5D=&GroupWithLessonSearch%5Bcurator%5D=&GroupWithLessonSearch%5Btype%5D=&GroupWithLessonSearch%5Bstatus%5D=&GroupWithLessonSearch%5BlessonFormat%5D=&GroupWithLessonSearch%5Bis_online%5D=&export=true&name=default&exportType=html'\n",
        "      header =  {\n",
        "        \"accept\": \"text/html,application/xhtml+xml,application/xml;q=0.9,image/avif,image/webp,image/apng,*/*;q=0.8,application/signed-exchange;v=b3;q=0.7\",\n",
        "        \"accept-language\": \"en-US,en;q=0.9,vi-VN;q=0.8,vi;q=0.7\",\n",
        "        \"cache-control\": \"max-age=0\",\n",
        "        \"sec-ch-ua\": \"\\\"Chromium\\\";v=\\\"116\\\", \\\"Not)A;Brand\\\";v=\\\"24\\\", \\\"Google Chrome\\\";v=\\\"116\\\"\",\n",
        "        \"sec-ch-ua-mobile\": \"?0\",\n",
        "        \"sec-ch-ua-platform\": \"\\\"Windows\\\"\",\n",
        "        \"sec-fetch-dest\": \"document\",\n",
        "        \"sec-fetch-mode\": \"navigate\",\n",
        "        \"sec-fetch-site\": \"same-origin\",\n",
        "        \"sec-fetch-user\": \"?1\",\n",
        "        \"upgrade-insecure-requests\": \"1\",\n",
        "        \"cookie\": \"_ym_uid=1664966280852805697; intercom-device-id-ufjpx6k3=fd3080c1-5a63-4af6-bd1f-15268d549a7e; userId=30454; _grid_page_size_schedule=35d0980fa38e2255112d0c62698773cab8aa12a81c6735caf172064b5eb6ea47a%3A2%3A%7Bi%3A0%3Bs%3A24%3A%22_grid_page_size_schedule%22%3Bi%3A1%3Bs%3A3%3A%22200%22%3B%7D; _grid_page_size=d3ebbdf9ec9235bfc4ba59572a6d3dd403a563222be148e9c705e91612194e49a%3A2%3A%7Bi%3A0%3Bs%3A15%3A%22_grid_page_size%22%3Bi%3A1%3Bs%3A3%3A%22200%22%3B%7D; _ym_d=1680775536; studentId=1700942; studentAccessToken=59839bd5ef574b15cd869fa67e04fcdf4a97e278085dee7a21dfeb1f5a33cd62; studentCreatedTimestamp=1693481460; previousPage=%2F; createdTimestamp=1693978386; accessToken=6f7fa0398bac5ce10b0d85e00fc01725eae9b60c7188cfc1963c98ed73504e82; SERVERID=b440; _backendMainSessionId=81389387a907ff2840bad3c150bb2e76; _gid=GA1.2.1044467574.1693978385; _ym_isad=2; _ym_visorc=w; _ga=GA1.2.1620969847.1664966279; _ga_3QSGZBLTE3=GS1.1.1693978384.233.1.1693978511.59.0.0; _ga_4CL98HXNQK=GS1.1.1693978385.60.1.1693978530.0.0.0\",\n",
        "        \"Referer\": f\"{CPR_DOMAINS}?GroupLessonSearch%5Bstart_time%5D={date}%20-%20{date}&GroupLessonSearch%5Bnumber%5D=&GroupLessonSearch%5Blesson.title%5D=&GroupLessonSearch%5Bgroup_id%5D=&GroupLessonSearch%5Bgroup.title%5D={base}&GroupLessonSearch%5Bgroup.active_student_count%5D=&GroupLessonSearch%5Bweekday%5D=&GroupLessonSearch%5Bteacher.name%5D=&GroupLessonSearch%5Bgroup.teacher.name%5D=&GroupLessonSearch%5Bis_online%5D=\",\n",
        "        \"Referrer-Policy\": \"strict-origin-when-cross-origin\"\n",
        "      }\n",
        "      end_point = CPR_DOMAINS + para\n",
        "      res = s.get(end_point, headers = header)\n",
        "      output = res.content.decode('utf-8')\n",
        "      soup = BeautifulSoup(output, 'html.parser', from_encoding='utf-8')\n",
        "      soup.find('tbody')\n",
        "      # get data \n",
        "      all_tr = soup.find_all('tr')\n",
        "      for i in range(len(all_tr)):\n",
        "        tr = all_tr[i]\n",
        "        all_td = tr.find_all('td')\n",
        "        next_les = all_td[1]\n",
        "        next_les = next_les.string\n",
        "        group_title = all_td[4].find('a')\n",
        "        \n",
        "        id = all_td[4].find('p')\n",
        "        class_occurrences = all_td[5].find('span')\n",
        "        if class_occurrences is None:\n",
        "          continue\n",
        "        class_occurrences = class_occurrences.string\n",
        "        if group_title is None:\n",
        "          continue\n",
        "        # print(str(class_occurrences))\n",
        "        group_title = group_title.string\n",
        "        percentages[str(group_title)] = [str(class_occurrences), int(next_les)]\n",
        "  \n",
        "  return percentages \n",
        "percentages = get_percentage()\n"
      ]
    },
    {
      "attachments": {},
      "cell_type": "markdown",
      "metadata": {},
      "source": [
        "main function \n",
        "will get update in the future and clean up soon."
      ]
    },
    {
      "cell_type": "code",
      "execution_count": 4,
      "metadata": {
        "id": "v1INZn-czjlm"
      },
      "outputs": [
        {
          "data": {
            "application/vnd.jupyter.widget-view+json": {
              "model_id": "120aa6f61e5c4dbc8ecc6f52e169c7d0",
              "version_major": 2,
              "version_minor": 0
            },
            "text/plain": [
              "Output()"
            ]
          },
          "metadata": {},
          "output_type": "display_data"
        },
        {
          "data": {
            "text/html": [
              "<pre style=\"white-space:pre;overflow-x:auto;line-height:normal;font-family:Menlo,'DejaVu Sans Mono',consolas,'Courier New',monospace\">Non\n",
              "</pre>\n"
            ],
            "text/plain": [
              "Non\n"
            ]
          },
          "metadata": {},
          "output_type": "display_data"
        },
        {
          "name": "stdout",
          "output_type": "stream",
          "text": [
            "125\n"
          ]
        },
        {
          "data": {
            "text/html": [
              "<pre style=\"white-space:pre;overflow-x:auto;line-height:normal;font-family:Menlo,'DejaVu Sans Mono',consolas,'Courier New',monospace\">Non LMS Error\n",
              "</pre>\n"
            ],
            "text/plain": [
              "Non LMS Error\n"
            ]
          },
          "metadata": {},
          "output_type": "display_data"
        },
        {
          "data": {
            "text/html": [
              "<pre style=\"white-space:pre;overflow-x:auto;line-height:normal;font-family:Menlo,'DejaVu Sans Mono',consolas,'Courier New',monospace\">Non CPR Error\n",
              "</pre>\n"
            ],
            "text/plain": [
              "Non CPR Error\n"
            ]
          },
          "metadata": {},
          "output_type": "display_data"
        },
        {
          "data": {
            "text/html": [
              "<pre style=\"white-space:pre;overflow-x:auto;line-height:normal;font-family:Menlo,'DejaVu Sans Mono',consolas,'Courier New',monospace\">NLB_CK42_SAT_OFF\n",
              "</pre>\n"
            ],
            "text/plain": [
              "NLB_CK42_SAT_OFF\n"
            ]
          },
          "metadata": {},
          "output_type": "display_data"
        },
        {
          "data": {
            "text/html": [
              "<pre style=\"white-space:pre;overflow-x:auto;line-height:normal;font-family:Menlo,'DejaVu Sans Mono',consolas,'Courier New',monospace\">NLB_CK41_SUN_OFF\n",
              "</pre>\n"
            ],
            "text/plain": [
              "NLB_CK41_SUN_OFF\n"
            ]
          },
          "metadata": {},
          "output_type": "display_data"
        },
        {
          "data": {
            "text/html": [
              "<pre style=\"white-space:pre;overflow-x:auto;line-height:normal;font-family:Menlo,'DejaVu Sans Mono',consolas,'Courier New',monospace\">NLB_VP54_SUN_OFF\n",
              "</pre>\n"
            ],
            "text/plain": [
              "NLB_VP54_SUN_OFF\n"
            ]
          },
          "metadata": {},
          "output_type": "display_data"
        },
        {
          "data": {
            "text/html": [
              "<pre style=\"white-space:pre;overflow-x:auto;line-height:normal;font-family:Menlo,'DejaVu Sans Mono',consolas,'Courier New',monospace\">NLB_GD74_SAT_OFF\n",
              "</pre>\n"
            ],
            "text/plain": [
              "NLB_GD74_SAT_OFF\n"
            ]
          },
          "metadata": {},
          "output_type": "display_data"
        },
        {
          "data": {
            "text/html": [
              "<pre style=\"white-space:pre;overflow-x:auto;line-height:normal;font-family:Menlo,'DejaVu Sans Mono',consolas,'Courier New',monospace\">NLB_VP53_SAT_OFF\n",
              "</pre>\n"
            ],
            "text/plain": [
              "NLB_VP53_SAT_OFF\n"
            ]
          },
          "metadata": {},
          "output_type": "display_data"
        },
        {
          "data": {
            "text/html": [
              "<pre style=\"white-space:pre;overflow-x:auto;line-height:normal;font-family:Menlo,'DejaVu Sans Mono',consolas,'Courier New',monospace\">NLB_PTSY1.69_TUE_OFF\n",
              "</pre>\n"
            ],
            "text/plain": [
              "NLB_PTSY1.69_TUE_OFF\n"
            ]
          },
          "metadata": {},
          "output_type": "display_data"
        },
        {
          "data": {
            "text/html": [
              "<pre style=\"white-space:pre;overflow-x:auto;line-height:normal;font-family:Menlo,'DejaVu Sans Mono',consolas,'Courier New',monospace\">NLB_VP52_FRI_ONL\n",
              "</pre>\n"
            ],
            "text/plain": [
              "NLB_VP52_FRI_ONL\n"
            ]
          },
          "metadata": {},
          "output_type": "display_data"
        },
        {
          "data": {
            "text/html": [
              "<pre style=\"white-space:pre;overflow-x:auto;line-height:normal;font-family:Menlo,'DejaVu Sans Mono',consolas,'Courier New',monospace\">NLB_PTSY2.33_SUN_OFF (PRIVATE)\n",
              "</pre>\n"
            ],
            "text/plain": [
              "NLB_PTSY2.33_SUN_OFF (PRIVATE)\n"
            ]
          },
          "metadata": {},
          "output_type": "display_data"
        },
        {
          "data": {
            "text/html": [
              "<pre style=\"white-space:pre;overflow-x:auto;line-height:normal;font-family:Menlo,'DejaVu Sans Mono',consolas,'Courier New',monospace\">NLB_GD73_FRI_OFF (PRIVATE)\n",
              "</pre>\n"
            ],
            "text/plain": [
              "NLB_GD73_FRI_OFF (PRIVATE)\n"
            ]
          },
          "metadata": {},
          "output_type": "display_data"
        },
        {
          "data": {
            "text/html": [
              "<pre style=\"white-space:pre;overflow-x:auto;line-height:normal;font-family:Menlo,'DejaVu Sans Mono',consolas,'Courier New',monospace\">NLB_CK40_TUE_OFF\n",
              "</pre>\n"
            ],
            "text/plain": [
              "NLB_CK40_TUE_OFF\n"
            ]
          },
          "metadata": {},
          "output_type": "display_data"
        },
        {
          "data": {
            "text/html": [
              "<pre style=\"white-space:pre;overflow-x:auto;line-height:normal;font-family:Menlo,'DejaVu Sans Mono',consolas,'Courier New',monospace\">NLB_VP51_SUN_ONL\n",
              "</pre>\n"
            ],
            "text/plain": [
              "NLB_VP51_SUN_ONL\n"
            ]
          },
          "metadata": {},
          "output_type": "display_data"
        },
        {
          "data": {
            "text/html": [
              "<pre style=\"white-space:pre;overflow-x:auto;line-height:normal;font-family:Menlo,'DejaVu Sans Mono',consolas,'Courier New',monospace\">NLB_WDY2.5_FRI_ONL\n",
              "</pre>\n"
            ],
            "text/plain": [
              "NLB_WDY2.5_FRI_ONL\n"
            ]
          },
          "metadata": {},
          "output_type": "display_data"
        },
        {
          "data": {
            "text/html": [
              "<pre style=\"white-space:pre;overflow-x:auto;line-height:normal;font-family:Menlo,'DejaVu Sans Mono',consolas,'Courier New',monospace\">NLB_PTSY2.32_FRI_OFF\n",
              "</pre>\n"
            ],
            "text/plain": [
              "NLB_PTSY2.32_FRI_OFF\n"
            ]
          },
          "metadata": {},
          "output_type": "display_data"
        },
        {
          "data": {
            "text/html": [
              "<pre style=\"white-space:pre;overflow-x:auto;line-height:normal;font-family:Menlo,'DejaVu Sans Mono',consolas,'Courier New',monospace\">NLB_VP50_WED_OFF\n",
              "</pre>\n"
            ],
            "text/plain": [
              "NLB_VP50_WED_OFF\n"
            ]
          },
          "metadata": {},
          "output_type": "display_data"
        },
        {
          "data": {
            "text/html": [
              "<pre style=\"white-space:pre;overflow-x:auto;line-height:normal;font-family:Menlo,'DejaVu Sans Mono',consolas,'Courier New',monospace\">NLB_GD71_SUN_ONL\n",
              "</pre>\n"
            ],
            "text/plain": [
              "NLB_GD71_SUN_ONL\n"
            ]
          },
          "metadata": {},
          "output_type": "display_data"
        },
        {
          "data": {
            "text/html": [
              "<pre style=\"white-space:pre;overflow-x:auto;line-height:normal;font-family:Menlo,'DejaVu Sans Mono',consolas,'Courier New',monospace\">NLB_PTPY1.17_FRI_OFF\n",
              "</pre>\n"
            ],
            "text/plain": [
              "NLB_PTPY1.17_FRI_OFF\n"
            ]
          },
          "metadata": {},
          "output_type": "display_data"
        },
        {
          "data": {
            "text/html": [
              "<pre style=\"white-space:pre;overflow-x:auto;line-height:normal;font-family:Menlo,'DejaVu Sans Mono',consolas,'Courier New',monospace\">NLB_PTSY2.31_FRI_OFF\n",
              "</pre>\n"
            ],
            "text/plain": [
              "NLB_PTSY2.31_FRI_OFF\n"
            ]
          },
          "metadata": {},
          "output_type": "display_data"
        },
        {
          "data": {
            "text/html": [
              "<pre style=\"white-space:pre;overflow-x:auto;line-height:normal;font-family:Menlo,'DejaVu Sans Mono',consolas,'Courier New',monospace\">NLB_VP49_SAT_OFF\n",
              "</pre>\n"
            ],
            "text/plain": [
              "NLB_VP49_SAT_OFF\n"
            ]
          },
          "metadata": {},
          "output_type": "display_data"
        },
        {
          "data": {
            "text/html": [
              "<pre style=\"white-space:pre;overflow-x:auto;line-height:normal;font-family:Menlo,'DejaVu Sans Mono',consolas,'Courier New',monospace\">NLB_DL15_SUN_OFF\n",
              "</pre>\n"
            ],
            "text/plain": [
              "NLB_DL15_SUN_OFF\n"
            ]
          },
          "metadata": {},
          "output_type": "display_data"
        },
        {
          "data": {
            "text/html": [
              "<pre style=\"white-space:pre;overflow-x:auto;line-height:normal;font-family:Menlo,'DejaVu Sans Mono',consolas,'Courier New',monospace\">NLB_PTSY2.30_MON/SUN_ONL (PRIVATE)\n",
              "</pre>\n"
            ],
            "text/plain": [
              "NLB_PTSY2.30_MON/SUN_ONL (PRIVATE)\n"
            ]
          },
          "metadata": {},
          "output_type": "display_data"
        },
        {
          "data": {
            "text/html": [
              "<pre style=\"white-space:pre;overflow-x:auto;line-height:normal;font-family:Menlo,'DejaVu Sans Mono',consolas,'Courier New',monospace\">NLB_VP48_SUN_OFF\n",
              "</pre>\n"
            ],
            "text/plain": [
              "NLB_VP48_SUN_OFF\n"
            ]
          },
          "metadata": {},
          "output_type": "display_data"
        },
        {
          "data": {
            "text/html": [
              "<pre style=\"white-space:pre;overflow-x:auto;line-height:normal;font-family:Menlo,'DejaVu Sans Mono',consolas,'Courier New',monospace\">NLB_WDY2.4_FRI_OFF\n",
              "</pre>\n"
            ],
            "text/plain": [
              "NLB_WDY2.4_FRI_OFF\n"
            ]
          },
          "metadata": {},
          "output_type": "display_data"
        },
        {
          "data": {
            "text/html": [
              "<pre style=\"white-space:pre;overflow-x:auto;line-height:normal;font-family:Menlo,'DejaVu Sans Mono',consolas,'Courier New',monospace\">NLB_PTSY1.66_MON_OFF\n",
              "</pre>\n"
            ],
            "text/plain": [
              "NLB_PTSY1.66_MON_OFF\n"
            ]
          },
          "metadata": {},
          "output_type": "display_data"
        },
        {
          "data": {
            "text/html": [
              "<pre style=\"white-space:pre;overflow-x:auto;line-height:normal;font-family:Menlo,'DejaVu Sans Mono',consolas,'Courier New',monospace\">NLB_GD70_SAT_OFF\n",
              "</pre>\n"
            ],
            "text/plain": [
              "NLB_GD70_SAT_OFF\n"
            ]
          },
          "metadata": {},
          "output_type": "display_data"
        },
        {
          "data": {
            "text/html": [
              "<pre style=\"white-space:pre;overflow-x:auto;line-height:normal;font-family:Menlo,'DejaVu Sans Mono',consolas,'Courier New',monospace\">NLB_PTSY2.29_SUN_ONL\n",
              "</pre>\n"
            ],
            "text/plain": [
              "NLB_PTSY2.29_SUN_ONL\n"
            ]
          },
          "metadata": {},
          "output_type": "display_data"
        },
        {
          "data": {
            "text/html": [
              "<pre style=\"white-space:pre;overflow-x:auto;line-height:normal;font-family:Menlo,'DejaVu Sans Mono',consolas,'Courier New',monospace\">NLB_VP47_FRI_ONL\n",
              "</pre>\n"
            ],
            "text/plain": [
              "NLB_VP47_FRI_ONL\n"
            ]
          },
          "metadata": {},
          "output_type": "display_data"
        },
        {
          "data": {
            "text/html": [
              "<pre style=\"white-space:pre;overflow-x:auto;line-height:normal;font-family:Menlo,'DejaVu Sans Mono',consolas,'Courier New',monospace\">NLB_PTPY2.13_MON_OFF\n",
              "</pre>\n"
            ],
            "text/plain": [
              "NLB_PTPY2.13_MON_OFF\n"
            ]
          },
          "metadata": {},
          "output_type": "display_data"
        },
        {
          "data": {
            "text/html": [
              "<pre style=\"white-space:pre;overflow-x:auto;line-height:normal;font-family:Menlo,'DejaVu Sans Mono',consolas,'Courier New',monospace\">NLB_PTSY1.65_FRI_OFF\n",
              "</pre>\n"
            ],
            "text/plain": [
              "NLB_PTSY1.65_FRI_OFF\n"
            ]
          },
          "metadata": {},
          "output_type": "display_data"
        },
        {
          "data": {
            "text/html": [
              "<pre style=\"white-space:pre;overflow-x:auto;line-height:normal;font-family:Menlo,'DejaVu Sans Mono',consolas,'Courier New',monospace\">NLB_PTSY1.64_SUN_ONL\n",
              "</pre>\n"
            ],
            "text/plain": [
              "NLB_PTSY1.64_SUN_ONL\n"
            ]
          },
          "metadata": {},
          "output_type": "display_data"
        },
        {
          "data": {
            "text/html": [
              "<pre style=\"white-space:pre;overflow-x:auto;line-height:normal;font-family:Menlo,'DejaVu Sans Mono',consolas,'Courier New',monospace\">NLB_GD69_THU_ONL\n",
              "</pre>\n"
            ],
            "text/plain": [
              "NLB_GD69_THU_ONL\n"
            ]
          },
          "metadata": {},
          "output_type": "display_data"
        },
        {
          "data": {
            "text/html": [
              "<pre style=\"white-space:pre;overflow-x:auto;line-height:normal;font-family:Menlo,'DejaVu Sans Mono',consolas,'Courier New',monospace\">NLB_PTSY2.28_SAT_OFF\n",
              "</pre>\n"
            ],
            "text/plain": [
              "NLB_PTSY2.28_SAT_OFF\n"
            ]
          },
          "metadata": {},
          "output_type": "display_data"
        },
        {
          "data": {
            "text/html": [
              "<pre style=\"white-space:pre;overflow-x:auto;line-height:normal;font-family:Menlo,'DejaVu Sans Mono',consolas,'Courier New',monospace\">NLB_GD68_SAT_OFF\n",
              "</pre>\n"
            ],
            "text/plain": [
              "NLB_GD68_SAT_OFF\n"
            ]
          },
          "metadata": {},
          "output_type": "display_data"
        },
        {
          "data": {
            "text/html": [
              "<pre style=\"white-space:pre;overflow-x:auto;line-height:normal;font-family:Menlo,'DejaVu Sans Mono',consolas,'Courier New',monospace\">NLB_GD67_SAT_ONL\n",
              "</pre>\n"
            ],
            "text/plain": [
              "NLB_GD67_SAT_ONL\n"
            ]
          },
          "metadata": {},
          "output_type": "display_data"
        },
        {
          "data": {
            "text/html": [
              "<pre style=\"white-space:pre;overflow-x:auto;line-height:normal;font-family:Menlo,'DejaVu Sans Mono',consolas,'Courier New',monospace\">NLB_PTPY2.12_WED_ONL\n",
              "</pre>\n"
            ],
            "text/plain": [
              "NLB_PTPY2.12_WED_ONL\n"
            ]
          },
          "metadata": {},
          "output_type": "display_data"
        },
        {
          "data": {
            "text/html": [
              "<pre style=\"white-space:pre;overflow-x:auto;line-height:normal;font-family:Menlo,'DejaVu Sans Mono',consolas,'Courier New',monospace\">NLB_PTSY2.27_SAT_ONL\n",
              "</pre>\n"
            ],
            "text/plain": [
              "NLB_PTSY2.27_SAT_ONL\n"
            ]
          },
          "metadata": {},
          "output_type": "display_data"
        },
        {
          "data": {
            "text/html": [
              "<pre style=\"white-space:pre;overflow-x:auto;line-height:normal;font-family:Menlo,'DejaVu Sans Mono',consolas,'Courier New',monospace\">NLB_PTSY1.63_SUN_OFF\n",
              "</pre>\n"
            ],
            "text/plain": [
              "NLB_PTSY1.63_SUN_OFF\n"
            ]
          },
          "metadata": {},
          "output_type": "display_data"
        },
        {
          "data": {
            "text/html": [
              "<pre style=\"white-space:pre;overflow-x:auto;line-height:normal;font-family:Menlo,'DejaVu Sans Mono',consolas,'Courier New',monospace\">NLB_VP46_FRI_ONL\n",
              "</pre>\n"
            ],
            "text/plain": [
              "NLB_VP46_FRI_ONL\n"
            ]
          },
          "metadata": {},
          "output_type": "display_data"
        },
        {
          "data": {
            "text/html": [
              "<pre style=\"white-space:pre;overflow-x:auto;line-height:normal;font-family:Menlo,'DejaVu Sans Mono',consolas,'Courier New',monospace\">NLB_DL14_SAT_OFF\n",
              "</pre>\n"
            ],
            "text/plain": [
              "NLB_DL14_SAT_OFF\n"
            ]
          },
          "metadata": {},
          "output_type": "display_data"
        },
        {
          "data": {
            "text/html": [
              "<pre style=\"white-space:pre;overflow-x:auto;line-height:normal;font-family:Menlo,'DejaVu Sans Mono',consolas,'Courier New',monospace\">NLB_GD66_WED_OFF\n",
              "</pre>\n"
            ],
            "text/plain": [
              "NLB_GD66_WED_OFF\n"
            ]
          },
          "metadata": {},
          "output_type": "display_data"
        },
        {
          "data": {
            "text/html": [
              "<pre style=\"white-space:pre;overflow-x:auto;line-height:normal;font-family:Menlo,'DejaVu Sans Mono',consolas,'Courier New',monospace\">NLB_VP45_MON_OFF\n",
              "</pre>\n"
            ],
            "text/plain": [
              "NLB_VP45_MON_OFF\n"
            ]
          },
          "metadata": {},
          "output_type": "display_data"
        },
        {
          "data": {
            "text/html": [
              "<pre style=\"white-space:pre;overflow-x:auto;line-height:normal;font-family:Menlo,'DejaVu Sans Mono',consolas,'Courier New',monospace\">NLB_WDY1.15_THU_OFF\n",
              "</pre>\n"
            ],
            "text/plain": [
              "NLB_WDY1.15_THU_OFF\n"
            ]
          },
          "metadata": {},
          "output_type": "display_data"
        },
        {
          "data": {
            "text/html": [
              "<pre style=\"white-space:pre;overflow-x:auto;line-height:normal;font-family:Menlo,'DejaVu Sans Mono',consolas,'Courier New',monospace\">NLB_DL13_SAT_OFF\n",
              "</pre>\n"
            ],
            "text/plain": [
              "NLB_DL13_SAT_OFF\n"
            ]
          },
          "metadata": {},
          "output_type": "display_data"
        },
        {
          "data": {
            "text/html": [
              "<pre style=\"white-space:pre;overflow-x:auto;line-height:normal;font-family:Menlo,'DejaVu Sans Mono',consolas,'Courier New',monospace\">NLB_PTPY1.14_SUN_OFF\n",
              "</pre>\n"
            ],
            "text/plain": [
              "NLB_PTPY1.14_SUN_OFF\n"
            ]
          },
          "metadata": {},
          "output_type": "display_data"
        },
        {
          "data": {
            "text/html": [
              "<pre style=\"white-space:pre;overflow-x:auto;line-height:normal;font-family:Menlo,'DejaVu Sans Mono',consolas,'Courier New',monospace\">NLB_UGD4_FRI_OFF\n",
              "</pre>\n"
            ],
            "text/plain": [
              "NLB_UGD4_FRI_OFF\n"
            ]
          },
          "metadata": {},
          "output_type": "display_data"
        },
        {
          "data": {
            "text/html": [
              "<pre style=\"white-space:pre;overflow-x:auto;line-height:normal;font-family:Menlo,'DejaVu Sans Mono',consolas,'Courier New',monospace\">NLB_PTSY1.62_TUE_ONL\n",
              "</pre>\n"
            ],
            "text/plain": [
              "NLB_PTSY1.62_TUE_ONL\n"
            ]
          },
          "metadata": {},
          "output_type": "display_data"
        },
        {
          "data": {
            "text/html": [
              "<pre style=\"white-space:pre;overflow-x:auto;line-height:normal;font-family:Menlo,'DejaVu Sans Mono',consolas,'Courier New',monospace\">NLB_GD65_SAT_OFF\n",
              "</pre>\n"
            ],
            "text/plain": [
              "NLB_GD65_SAT_OFF\n"
            ]
          },
          "metadata": {},
          "output_type": "display_data"
        },
        {
          "data": {
            "text/html": [
              "<pre style=\"white-space:pre;overflow-x:auto;line-height:normal;font-family:Menlo,'DejaVu Sans Mono',consolas,'Courier New',monospace\">NLB_PTPY2.11_SUN_OFF\n",
              "</pre>\n"
            ],
            "text/plain": [
              "NLB_PTPY2.11_SUN_OFF\n"
            ]
          },
          "metadata": {},
          "output_type": "display_data"
        },
        {
          "data": {
            "text/html": [
              "<pre style=\"white-space:pre;overflow-x:auto;line-height:normal;font-family:Menlo,'DejaVu Sans Mono',consolas,'Courier New',monospace\">NLB_PTPY2.10_THU_ONL\n",
              "</pre>\n"
            ],
            "text/plain": [
              "NLB_PTPY2.10_THU_ONL\n"
            ]
          },
          "metadata": {},
          "output_type": "display_data"
        },
        {
          "data": {
            "text/html": [
              "<pre style=\"white-space:pre;overflow-x:auto;line-height:normal;font-family:Menlo,'DejaVu Sans Mono',consolas,'Courier New',monospace\">NLB_GD64_FRI_OFF\n",
              "</pre>\n"
            ],
            "text/plain": [
              "NLB_GD64_FRI_OFF\n"
            ]
          },
          "metadata": {},
          "output_type": "display_data"
        },
        {
          "data": {
            "text/html": [
              "<pre style=\"white-space:pre;overflow-x:auto;line-height:normal;font-family:Menlo,'DejaVu Sans Mono',consolas,'Courier New',monospace\">NLB_PTSY1.61_WED_OFF\n",
              "</pre>\n"
            ],
            "text/plain": [
              "NLB_PTSY1.61_WED_OFF\n"
            ]
          },
          "metadata": {},
          "output_type": "display_data"
        },
        {
          "data": {
            "text/html": [
              "<pre style=\"white-space:pre;overflow-x:auto;line-height:normal;font-family:Menlo,'DejaVu Sans Mono',consolas,'Courier New',monospace\">NLB_GD63_WED_OFF\n",
              "</pre>\n"
            ],
            "text/plain": [
              "NLB_GD63_WED_OFF\n"
            ]
          },
          "metadata": {},
          "output_type": "display_data"
        },
        {
          "data": {
            "text/html": [
              "<pre style=\"white-space:pre;overflow-x:auto;line-height:normal;font-family:Menlo,'DejaVu Sans Mono',consolas,'Courier New',monospace\">NLB_PTSY2.26_FRI_ONL\n",
              "</pre>\n"
            ],
            "text/plain": [
              "NLB_PTSY2.26_FRI_ONL\n"
            ]
          },
          "metadata": {},
          "output_type": "display_data"
        },
        {
          "data": {
            "text/html": [
              "<pre style=\"white-space:pre;overflow-x:auto;line-height:normal;font-family:Menlo,'DejaVu Sans Mono',consolas,'Courier New',monospace\">NLB_CK39_SUN_OFF\n",
              "</pre>\n"
            ],
            "text/plain": [
              "NLB_CK39_SUN_OFF\n"
            ]
          },
          "metadata": {},
          "output_type": "display_data"
        },
        {
          "data": {
            "text/html": [
              "<pre style=\"white-space:pre;overflow-x:auto;line-height:normal;font-family:Menlo,'DejaVu Sans Mono',consolas,'Courier New',monospace\">NLB_WDY1.14_FRI_OFF\n",
              "</pre>\n"
            ],
            "text/plain": [
              "NLB_WDY1.14_FRI_OFF\n"
            ]
          },
          "metadata": {},
          "output_type": "display_data"
        },
        {
          "data": {
            "text/html": [
              "<pre style=\"white-space:pre;overflow-x:auto;line-height:normal;font-family:Menlo,'DejaVu Sans Mono',consolas,'Courier New',monospace\">NLB_DL12_MON_OFF\n",
              "</pre>\n"
            ],
            "text/plain": [
              "NLB_DL12_MON_OFF\n"
            ]
          },
          "metadata": {},
          "output_type": "display_data"
        },
        {
          "data": {
            "text/html": [
              "<pre style=\"white-space:pre;overflow-x:auto;line-height:normal;font-family:Menlo,'DejaVu Sans Mono',consolas,'Courier New',monospace\">NLB_VP44_SUN_ONL\n",
              "</pre>\n"
            ],
            "text/plain": [
              "NLB_VP44_SUN_ONL\n"
            ]
          },
          "metadata": {},
          "output_type": "display_data"
        },
        {
          "data": {
            "text/html": [
              "<pre style=\"white-space:pre;overflow-x:auto;line-height:normal;font-family:Menlo,'DejaVu Sans Mono',consolas,'Courier New',monospace\">NLB_PTSY1.60_TUE_ONL\n",
              "</pre>\n"
            ],
            "text/plain": [
              "NLB_PTSY1.60_TUE_ONL\n"
            ]
          },
          "metadata": {},
          "output_type": "display_data"
        },
        {
          "data": {
            "text/html": [
              "<pre style=\"white-space:pre;overflow-x:auto;line-height:normal;font-family:Menlo,'DejaVu Sans Mono',consolas,'Courier New',monospace\">NLB_PTSY1.59_SUN_OFF\n",
              "</pre>\n"
            ],
            "text/plain": [
              "NLB_PTSY1.59_SUN_OFF\n"
            ]
          },
          "metadata": {},
          "output_type": "display_data"
        },
        {
          "data": {
            "text/html": [
              "<pre style=\"white-space:pre;overflow-x:auto;line-height:normal;font-family:Menlo,'DejaVu Sans Mono',consolas,'Courier New',monospace\">NLB_GD62_SAT_ONL\n",
              "</pre>\n"
            ],
            "text/plain": [
              "NLB_GD62_SAT_ONL\n"
            ]
          },
          "metadata": {},
          "output_type": "display_data"
        },
        {
          "data": {
            "text/html": [
              "<pre style=\"white-space:pre;overflow-x:auto;line-height:normal;font-family:Menlo,'DejaVu Sans Mono',consolas,'Courier New',monospace\">NLB_GD61_FRI_ONL\n",
              "</pre>\n"
            ],
            "text/plain": [
              "NLB_GD61_FRI_ONL\n"
            ]
          },
          "metadata": {},
          "output_type": "display_data"
        },
        {
          "data": {
            "text/html": [
              "<pre style=\"white-space:pre;overflow-x:auto;line-height:normal;font-family:Menlo,'DejaVu Sans Mono',consolas,'Courier New',monospace\">NLB_GD60_SUN_OFF\n",
              "</pre>\n"
            ],
            "text/plain": [
              "NLB_GD60_SUN_OFF\n"
            ]
          },
          "metadata": {},
          "output_type": "display_data"
        },
        {
          "data": {
            "text/html": [
              "<pre style=\"white-space:pre;overflow-x:auto;line-height:normal;font-family:Menlo,'DejaVu Sans Mono',consolas,'Courier New',monospace\">NLB_PTPY2.9_SAT_OFF\n",
              "</pre>\n"
            ],
            "text/plain": [
              "NLB_PTPY2.9_SAT_OFF\n"
            ]
          },
          "metadata": {},
          "output_type": "display_data"
        },
        {
          "data": {
            "text/html": [
              "<pre style=\"white-space:pre;overflow-x:auto;line-height:normal;font-family:Menlo,'DejaVu Sans Mono',consolas,'Courier New',monospace\">NLB_GD59_SUN_ONL\n",
              "</pre>\n"
            ],
            "text/plain": [
              "NLB_GD59_SUN_ONL\n"
            ]
          },
          "metadata": {},
          "output_type": "display_data"
        },
        {
          "data": {
            "text/html": [
              "<pre style=\"white-space:pre;overflow-x:auto;line-height:normal;font-family:Menlo,'DejaVu Sans Mono',consolas,'Courier New',monospace\">NLB_PTPY2.8_FRI_OFF\n",
              "</pre>\n"
            ],
            "text/plain": [
              "NLB_PTPY2.8_FRI_OFF\n"
            ]
          },
          "metadata": {},
          "output_type": "display_data"
        },
        {
          "data": {
            "text/html": [
              "<pre style=\"white-space:pre;overflow-x:auto;line-height:normal;font-family:Menlo,'DejaVu Sans Mono',consolas,'Courier New',monospace\">NLB_DL11_SUN_OFF\n",
              "</pre>\n"
            ],
            "text/plain": [
              "NLB_DL11_SUN_OFF\n"
            ]
          },
          "metadata": {},
          "output_type": "display_data"
        },
        {
          "data": {
            "text/html": [
              "<pre style=\"white-space:pre;overflow-x:auto;line-height:normal;font-family:Menlo,'DejaVu Sans Mono',consolas,'Courier New',monospace\">NLB_PTSY2.25_FRI_ONL\n",
              "</pre>\n"
            ],
            "text/plain": [
              "NLB_PTSY2.25_FRI_ONL\n"
            ]
          },
          "metadata": {},
          "output_type": "display_data"
        },
        {
          "data": {
            "text/html": [
              "<pre style=\"white-space:pre;overflow-x:auto;line-height:normal;font-family:Menlo,'DejaVu Sans Mono',consolas,'Courier New',monospace\">NLB_GD58_MON_OFF\n",
              "</pre>\n"
            ],
            "text/plain": [
              "NLB_GD58_MON_OFF\n"
            ]
          },
          "metadata": {},
          "output_type": "display_data"
        },
        {
          "data": {
            "text/html": [
              "<pre style=\"white-space:pre;overflow-x:auto;line-height:normal;font-family:Menlo,'DejaVu Sans Mono',consolas,'Courier New',monospace\">NLB_VP42_SAT_OFF\n",
              "</pre>\n"
            ],
            "text/plain": [
              "NLB_VP42_SAT_OFF\n"
            ]
          },
          "metadata": {},
          "output_type": "display_data"
        },
        {
          "data": {
            "text/html": [
              "<pre style=\"white-space:pre;overflow-x:auto;line-height:normal;font-family:Menlo,'DejaVu Sans Mono',consolas,'Courier New',monospace\">NLB_CK38_SAT_OFF\n",
              "</pre>\n"
            ],
            "text/plain": [
              "NLB_CK38_SAT_OFF\n"
            ]
          },
          "metadata": {},
          "output_type": "display_data"
        },
        {
          "data": {
            "text/html": [
              "<pre style=\"white-space:pre;overflow-x:auto;line-height:normal;font-family:Menlo,'DejaVu Sans Mono',consolas,'Courier New',monospace\">NLB_PTSY2.24_TUE_OFF\n",
              "</pre>\n"
            ],
            "text/plain": [
              "NLB_PTSY2.24_TUE_OFF\n"
            ]
          },
          "metadata": {},
          "output_type": "display_data"
        },
        {
          "data": {
            "text/html": [
              "<pre style=\"white-space:pre;overflow-x:auto;line-height:normal;font-family:Menlo,'DejaVu Sans Mono',consolas,'Courier New',monospace\">NLB_PTSY1.58_MON_ONL\n",
              "</pre>\n"
            ],
            "text/plain": [
              "NLB_PTSY1.58_MON_ONL\n"
            ]
          },
          "metadata": {},
          "output_type": "display_data"
        },
        {
          "data": {
            "text/html": [
              "<pre style=\"white-space:pre;overflow-x:auto;line-height:normal;font-family:Menlo,'DejaVu Sans Mono',consolas,'Courier New',monospace\">NLB_PTPY2.7_SUN_OFF (PRIVATE)\n",
              "</pre>\n"
            ],
            "text/plain": [
              "NLB_PTPY2.7_SUN_OFF (PRIVATE)\n"
            ]
          },
          "metadata": {},
          "output_type": "display_data"
        },
        {
          "data": {
            "text/html": [
              "<pre style=\"white-space:pre;overflow-x:auto;line-height:normal;font-family:Menlo,'DejaVu Sans Mono',consolas,'Courier New',monospace\">NLB_WDY2.3_SUN_OFF\n",
              "</pre>\n"
            ],
            "text/plain": [
              "NLB_WDY2.3_SUN_OFF\n"
            ]
          },
          "metadata": {},
          "output_type": "display_data"
        },
        {
          "data": {
            "text/html": [
              "<pre style=\"white-space:pre;overflow-x:auto;line-height:normal;font-family:Menlo,'DejaVu Sans Mono',consolas,'Courier New',monospace\">NLB_CK37_THU_OFF\n",
              "</pre>\n"
            ],
            "text/plain": [
              "NLB_CK37_THU_OFF\n"
            ]
          },
          "metadata": {},
          "output_type": "display_data"
        },
        {
          "data": {
            "text/html": [
              "<pre style=\"white-space:pre;overflow-x:auto;line-height:normal;font-family:Menlo,'DejaVu Sans Mono',consolas,'Courier New',monospace\">NLB_WDY2.2_SUN_ONL\n",
              "</pre>\n"
            ],
            "text/plain": [
              "NLB_WDY2.2_SUN_ONL\n"
            ]
          },
          "metadata": {},
          "output_type": "display_data"
        },
        {
          "data": {
            "text/html": [
              "<pre style=\"white-space:pre;overflow-x:auto;line-height:normal;font-family:Menlo,'DejaVu Sans Mono',consolas,'Courier New',monospace\">NLB_WDY1.13_SUN_OFF\n",
              "</pre>\n"
            ],
            "text/plain": [
              "NLB_WDY1.13_SUN_OFF\n"
            ]
          },
          "metadata": {},
          "output_type": "display_data"
        },
        {
          "data": {
            "text/html": [
              "<pre style=\"white-space:pre;overflow-x:auto;line-height:normal;font-family:Menlo,'DejaVu Sans Mono',consolas,'Courier New',monospace\">NLB_PTSY1.57_FRI_OFF\n",
              "</pre>\n"
            ],
            "text/plain": [
              "NLB_PTSY1.57_FRI_OFF\n"
            ]
          },
          "metadata": {},
          "output_type": "display_data"
        },
        {
          "data": {
            "text/html": [
              "<pre style=\"white-space:pre;overflow-x:auto;line-height:normal;font-family:Menlo,'DejaVu Sans Mono',consolas,'Courier New',monospace\">NLB_PTPY2.6_SUN_OFF\n",
              "</pre>\n"
            ],
            "text/plain": [
              "NLB_PTPY2.6_SUN_OFF\n"
            ]
          },
          "metadata": {},
          "output_type": "display_data"
        },
        {
          "data": {
            "text/html": [
              "<pre style=\"white-space:pre;overflow-x:auto;line-height:normal;font-family:Menlo,'DejaVu Sans Mono',consolas,'Courier New',monospace\">NLB_PTSY1.56_MON_ONL\n",
              "</pre>\n"
            ],
            "text/plain": [
              "NLB_PTSY1.56_MON_ONL\n"
            ]
          },
          "metadata": {},
          "output_type": "display_data"
        },
        {
          "data": {
            "text/html": [
              "<pre style=\"white-space:pre;overflow-x:auto;line-height:normal;font-family:Menlo,'DejaVu Sans Mono',consolas,'Courier New',monospace\">NLB_GD57_MON_OFF\n",
              "</pre>\n"
            ],
            "text/plain": [
              "NLB_GD57_MON_OFF\n"
            ]
          },
          "metadata": {},
          "output_type": "display_data"
        },
        {
          "data": {
            "text/html": [
              "<pre style=\"white-space:pre;overflow-x:auto;line-height:normal;font-family:Menlo,'DejaVu Sans Mono',consolas,'Courier New',monospace\">NLB_PTSY2.22_SUN_OFF\n",
              "</pre>\n"
            ],
            "text/plain": [
              "NLB_PTSY2.22_SUN_OFF\n"
            ]
          },
          "metadata": {},
          "output_type": "display_data"
        },
        {
          "data": {
            "text/html": [
              "<pre style=\"white-space:pre;overflow-x:auto;line-height:normal;font-family:Menlo,'DejaVu Sans Mono',consolas,'Courier New',monospace\">NLB_WDY1.12_SAT_ONL\n",
              "</pre>\n"
            ],
            "text/plain": [
              "NLB_WDY1.12_SAT_ONL\n"
            ]
          },
          "metadata": {},
          "output_type": "display_data"
        },
        {
          "data": {
            "text/html": [
              "<pre style=\"white-space:pre;overflow-x:auto;line-height:normal;font-family:Menlo,'DejaVu Sans Mono',consolas,'Courier New',monospace\">NLB_PTSY1.55_SAT_ONL\n",
              "</pre>\n"
            ],
            "text/plain": [
              "NLB_PTSY1.55_SAT_ONL\n"
            ]
          },
          "metadata": {},
          "output_type": "display_data"
        },
        {
          "data": {
            "text/html": [
              "<pre style=\"white-space:pre;overflow-x:auto;line-height:normal;font-family:Menlo,'DejaVu Sans Mono',consolas,'Courier New',monospace\">NLB_PTPY1.10_THU_OFF\n",
              "</pre>\n"
            ],
            "text/plain": [
              "NLB_PTPY1.10_THU_OFF\n"
            ]
          },
          "metadata": {},
          "output_type": "display_data"
        },
        {
          "data": {
            "text/html": [
              "<pre style=\"white-space:pre;overflow-x:auto;line-height:normal;font-family:Menlo,'DejaVu Sans Mono',consolas,'Courier New',monospace\">NLB_VP41_SUN_ONL\n",
              "</pre>\n"
            ],
            "text/plain": [
              "NLB_VP41_SUN_ONL\n"
            ]
          },
          "metadata": {},
          "output_type": "display_data"
        },
        {
          "data": {
            "text/html": [
              "<pre style=\"white-space:pre;overflow-x:auto;line-height:normal;font-family:Menlo,'DejaVu Sans Mono',consolas,'Courier New',monospace\">NLB_GD56_SUN_OFF\n",
              "</pre>\n"
            ],
            "text/plain": [
              "NLB_GD56_SUN_OFF\n"
            ]
          },
          "metadata": {},
          "output_type": "display_data"
        },
        {
          "data": {
            "text/html": [
              "<pre style=\"white-space:pre;overflow-x:auto;line-height:normal;font-family:Menlo,'DejaVu Sans Mono',consolas,'Courier New',monospace\">NLB_CK36_SUN_OFF\n",
              "</pre>\n"
            ],
            "text/plain": [
              "NLB_CK36_SUN_OFF\n"
            ]
          },
          "metadata": {},
          "output_type": "display_data"
        },
        {
          "data": {
            "text/html": [
              "<pre style=\"white-space:pre;overflow-x:auto;line-height:normal;font-family:Menlo,'DejaVu Sans Mono',consolas,'Courier New',monospace\">NLB_PTSY1.54_SAT_OFF\n",
              "</pre>\n"
            ],
            "text/plain": [
              "NLB_PTSY1.54_SAT_OFF\n"
            ]
          },
          "metadata": {},
          "output_type": "display_data"
        },
        {
          "data": {
            "text/html": [
              "<pre style=\"white-space:pre;overflow-x:auto;line-height:normal;font-family:Menlo,'DejaVu Sans Mono',consolas,'Courier New',monospace\">NLB_GD55_WED_OFF\n",
              "</pre>\n"
            ],
            "text/plain": [
              "NLB_GD55_WED_OFF\n"
            ]
          },
          "metadata": {},
          "output_type": "display_data"
        },
        {
          "data": {
            "text/html": [
              "<pre style=\"white-space:pre;overflow-x:auto;line-height:normal;font-family:Menlo,'DejaVu Sans Mono',consolas,'Courier New',monospace\">NLB_VP40_THU_OFF\n",
              "</pre>\n"
            ],
            "text/plain": [
              "NLB_VP40_THU_OFF\n"
            ]
          },
          "metadata": {},
          "output_type": "display_data"
        },
        {
          "data": {
            "text/html": [
              "<pre style=\"white-space:pre;overflow-x:auto;line-height:normal;font-family:Menlo,'DejaVu Sans Mono',consolas,'Courier New',monospace\">NLB_VP39_MON_OFF\n",
              "</pre>\n"
            ],
            "text/plain": [
              "NLB_VP39_MON_OFF\n"
            ]
          },
          "metadata": {},
          "output_type": "display_data"
        },
        {
          "data": {
            "text/html": [
              "<pre style=\"white-space:pre;overflow-x:auto;line-height:normal;font-family:Menlo,'DejaVu Sans Mono',consolas,'Courier New',monospace\">NLB_UGD3_SUN_OFF\n",
              "</pre>\n"
            ],
            "text/plain": [
              "NLB_UGD3_SUN_OFF\n"
            ]
          },
          "metadata": {},
          "output_type": "display_data"
        },
        {
          "data": {
            "text/html": [
              "<pre style=\"white-space:pre;overflow-x:auto;line-height:normal;font-family:Menlo,'DejaVu Sans Mono',consolas,'Courier New',monospace\">NLB_GD54_SUN_OFF\n",
              "</pre>\n"
            ],
            "text/plain": [
              "NLB_GD54_SUN_OFF\n"
            ]
          },
          "metadata": {},
          "output_type": "display_data"
        },
        {
          "data": {
            "text/html": [
              "<pre style=\"white-space:pre;overflow-x:auto;line-height:normal;font-family:Menlo,'DejaVu Sans Mono',consolas,'Courier New',monospace\">NLB_WDY1.11_SUN_OFF\n",
              "</pre>\n"
            ],
            "text/plain": [
              "NLB_WDY1.11_SUN_OFF\n"
            ]
          },
          "metadata": {},
          "output_type": "display_data"
        },
        {
          "data": {
            "text/html": [
              "<pre style=\"white-space:pre;overflow-x:auto;line-height:normal;font-family:Menlo,'DejaVu Sans Mono',consolas,'Courier New',monospace\">NLB_GD53_SUN_ONL\n",
              "</pre>\n"
            ],
            "text/plain": [
              "NLB_GD53_SUN_ONL\n"
            ]
          },
          "metadata": {},
          "output_type": "display_data"
        },
        {
          "data": {
            "text/html": [
              "<pre style=\"white-space:pre;overflow-x:auto;line-height:normal;font-family:Menlo,'DejaVu Sans Mono',consolas,'Courier New',monospace\">NLB_DL10_SAT_OFF\n",
              "</pre>\n"
            ],
            "text/plain": [
              "NLB_DL10_SAT_OFF\n"
            ]
          },
          "metadata": {},
          "output_type": "display_data"
        },
        {
          "data": {
            "text/html": [
              "<pre style=\"white-space:pre;overflow-x:auto;line-height:normal;font-family:Menlo,'DejaVu Sans Mono',consolas,'Courier New',monospace\">NLB_VP38_SAT_OFF\n",
              "</pre>\n"
            ],
            "text/plain": [
              "NLB_VP38_SAT_OFF\n"
            ]
          },
          "metadata": {},
          "output_type": "display_data"
        },
        {
          "data": {
            "text/html": [
              "<pre style=\"white-space:pre;overflow-x:auto;line-height:normal;font-family:Menlo,'DejaVu Sans Mono',consolas,'Courier New',monospace\">NLB_GD52_SAT_OFF\n",
              "</pre>\n"
            ],
            "text/plain": [
              "NLB_GD52_SAT_OFF\n"
            ]
          },
          "metadata": {},
          "output_type": "display_data"
        },
        {
          "data": {
            "text/html": [
              "<pre style=\"white-space:pre;overflow-x:auto;line-height:normal;font-family:Menlo,'DejaVu Sans Mono',consolas,'Courier New',monospace\">NLB_PTSY1.52_MON_OFF\n",
              "</pre>\n"
            ],
            "text/plain": [
              "NLB_PTSY1.52_MON_OFF\n"
            ]
          },
          "metadata": {},
          "output_type": "display_data"
        },
        {
          "data": {
            "text/html": [
              "<pre style=\"white-space:pre;overflow-x:auto;line-height:normal;font-family:Menlo,'DejaVu Sans Mono',consolas,'Courier New',monospace\">NLB_VP37_SAT_OFF\n",
              "</pre>\n"
            ],
            "text/plain": [
              "NLB_VP37_SAT_OFF\n"
            ]
          },
          "metadata": {},
          "output_type": "display_data"
        },
        {
          "data": {
            "text/html": [
              "<pre style=\"white-space:pre;overflow-x:auto;line-height:normal;font-family:Menlo,'DejaVu Sans Mono',consolas,'Courier New',monospace\">NLB_PTSY2.21_THU_ONL\n",
              "</pre>\n"
            ],
            "text/plain": [
              "NLB_PTSY2.21_THU_ONL\n"
            ]
          },
          "metadata": {},
          "output_type": "display_data"
        },
        {
          "data": {
            "text/html": [
              "<pre style=\"white-space:pre;overflow-x:auto;line-height:normal;font-family:Menlo,'DejaVu Sans Mono',consolas,'Courier New',monospace\">NLB_PTPY1.9_SUN_ONL\n",
              "</pre>\n"
            ],
            "text/plain": [
              "NLB_PTPY1.9_SUN_ONL\n"
            ]
          },
          "metadata": {},
          "output_type": "display_data"
        },
        {
          "data": {
            "text/html": [
              "<pre style=\"white-space:pre;overflow-x:auto;line-height:normal;font-family:Menlo,'DejaVu Sans Mono',consolas,'Courier New',monospace\">NLB_PTSY2.20_SAT_OFF\n",
              "</pre>\n"
            ],
            "text/plain": [
              "NLB_PTSY2.20_SAT_OFF\n"
            ]
          },
          "metadata": {},
          "output_type": "display_data"
        },
        {
          "data": {
            "text/html": [
              "<pre style=\"white-space:pre;overflow-x:auto;line-height:normal;font-family:Menlo,'DejaVu Sans Mono',consolas,'Courier New',monospace\">NLB_CK34_SUN_OFF\n",
              "</pre>\n"
            ],
            "text/plain": [
              "NLB_CK34_SUN_OFF\n"
            ]
          },
          "metadata": {},
          "output_type": "display_data"
        },
        {
          "data": {
            "text/html": [
              "<pre style=\"white-space:pre;overflow-x:auto;line-height:normal;font-family:Menlo,'DejaVu Sans Mono',consolas,'Courier New',monospace\">NLB_PTSY2.19_TUE_OFF\n",
              "</pre>\n"
            ],
            "text/plain": [
              "NLB_PTSY2.19_TUE_OFF\n"
            ]
          },
          "metadata": {},
          "output_type": "display_data"
        },
        {
          "data": {
            "text/html": [
              "<pre style=\"white-space:pre;overflow-x:auto;line-height:normal;font-family:Menlo,'DejaVu Sans Mono',consolas,'Courier New',monospace\">NLB_VP36_SUN_OFF\n",
              "</pre>\n"
            ],
            "text/plain": [
              "NLB_VP36_SUN_OFF\n"
            ]
          },
          "metadata": {},
          "output_type": "display_data"
        },
        {
          "data": {
            "text/html": [
              "<pre style=\"white-space:pre;overflow-x:auto;line-height:normal;font-family:Menlo,'DejaVu Sans Mono',consolas,'Courier New',monospace\">NLB_CK33_FRI_ONL\n",
              "</pre>\n"
            ],
            "text/plain": [
              "NLB_CK33_FRI_ONL\n"
            ]
          },
          "metadata": {},
          "output_type": "display_data"
        },
        {
          "data": {
            "text/html": [
              "<pre style=\"white-space:pre;overflow-x:auto;line-height:normal;font-family:Menlo,'DejaVu Sans Mono',consolas,'Courier New',monospace\">NLB_VP35_MON_OFF\n",
              "</pre>\n"
            ],
            "text/plain": [
              "NLB_VP35_MON_OFF\n"
            ]
          },
          "metadata": {},
          "output_type": "display_data"
        },
        {
          "data": {
            "text/html": [
              "<pre style=\"white-space:pre;overflow-x:auto;line-height:normal;font-family:Menlo,'DejaVu Sans Mono',consolas,'Courier New',monospace\">NLB_VP34_TUE_OFF\n",
              "</pre>\n"
            ],
            "text/plain": [
              "NLB_VP34_TUE_OFF\n"
            ]
          },
          "metadata": {},
          "output_type": "display_data"
        },
        {
          "data": {
            "text/html": [
              "<pre style=\"white-space:pre;overflow-x:auto;line-height:normal;font-family:Menlo,'DejaVu Sans Mono',consolas,'Courier New',monospace\">NLB_WDY1.10_SAT_OFF\n",
              "</pre>\n"
            ],
            "text/plain": [
              "NLB_WDY1.10_SAT_OFF\n"
            ]
          },
          "metadata": {},
          "output_type": "display_data"
        },
        {
          "data": {
            "text/html": [
              "<pre style=\"white-space:pre;overflow-x:auto;line-height:normal;font-family:Menlo,'DejaVu Sans Mono',consolas,'Courier New',monospace\">NLB_GD51_WED_ONL\n",
              "</pre>\n"
            ],
            "text/plain": [
              "NLB_GD51_WED_ONL\n"
            ]
          },
          "metadata": {},
          "output_type": "display_data"
        },
        {
          "data": {
            "text/html": [
              "<pre style=\"white-space:pre;overflow-x:auto;line-height:normal;font-family:Menlo,'DejaVu Sans Mono',consolas,'Courier New',monospace\">NLB_PTSY1.51_SAT_ONL\n",
              "</pre>\n"
            ],
            "text/plain": [
              "NLB_PTSY1.51_SAT_ONL\n"
            ]
          },
          "metadata": {},
          "output_type": "display_data"
        },
        {
          "data": {
            "text/html": [
              "<pre style=\"white-space:pre;overflow-x:auto;line-height:normal;font-family:Menlo,'DejaVu Sans Mono',consolas,'Courier New',monospace\">NLB_PTSY2.18_MON_OFF\n",
              "</pre>\n"
            ],
            "text/plain": [
              "NLB_PTSY2.18_MON_OFF\n"
            ]
          },
          "metadata": {},
          "output_type": "display_data"
        },
        {
          "data": {
            "text/html": [
              "<pre style=\"white-space:pre;overflow-x:auto;line-height:normal;font-family:Menlo,'DejaVu Sans Mono',consolas,'Courier New',monospace\">NLB_PTPY1.8_FRI_OFF\n",
              "</pre>\n"
            ],
            "text/plain": [
              "NLB_PTPY1.8_FRI_OFF\n"
            ]
          },
          "metadata": {},
          "output_type": "display_data"
        },
        {
          "data": {
            "text/html": [
              "<pre style=\"white-space:pre;overflow-x:auto;line-height:normal;font-family:Menlo,'DejaVu Sans Mono',consolas,'Courier New',monospace\">NLB_PTSY1.50_THU_OFF\n",
              "</pre>\n"
            ],
            "text/plain": [
              "NLB_PTSY1.50_THU_OFF\n"
            ]
          },
          "metadata": {},
          "output_type": "display_data"
        },
        {
          "data": {
            "text/html": [
              "<pre style=\"white-space:pre;overflow-x:auto;line-height:normal;font-family:Menlo,'DejaVu Sans Mono',consolas,'Courier New',monospace\">NLB_PTSY1.49_SAT_OFF\n",
              "</pre>\n"
            ],
            "text/plain": [
              "NLB_PTSY1.49_SAT_OFF\n"
            ]
          },
          "metadata": {},
          "output_type": "display_data"
        },
        {
          "data": {
            "text/html": [
              "<pre style=\"white-space:pre;overflow-x:auto;line-height:normal;font-family:Menlo,'DejaVu Sans Mono',consolas,'Courier New',monospace\">NLB_CK32_SAT_OFF\n",
              "</pre>\n"
            ],
            "text/plain": [
              "NLB_CK32_SAT_OFF\n"
            ]
          },
          "metadata": {},
          "output_type": "display_data"
        },
        {
          "data": {
            "text/html": [
              "<pre style=\"white-space:pre;overflow-x:auto;line-height:normal;font-family:Menlo,'DejaVu Sans Mono',consolas,'Courier New',monospace\">NLB_CK31_SUN_ONL\n",
              "</pre>\n"
            ],
            "text/plain": [
              "NLB_CK31_SUN_ONL\n"
            ]
          },
          "metadata": {},
          "output_type": "display_data"
        },
        {
          "data": {
            "text/html": [
              "<pre style=\"white-space:pre;overflow-x:auto;line-height:normal;font-family:Menlo,'DejaVu Sans Mono',consolas,'Courier New',monospace\">NLB_DL9_SAT_OFF\n",
              "</pre>\n"
            ],
            "text/plain": [
              "NLB_DL9_SAT_OFF\n"
            ]
          },
          "metadata": {},
          "output_type": "display_data"
        },
        {
          "data": {
            "text/html": [
              "<pre style=\"white-space:pre;overflow-x:auto;line-height:normal;font-family:Menlo,'DejaVu Sans Mono',consolas,'Courier New',monospace\">NLB_PTPY1.7_SAT_OFF\n",
              "</pre>\n"
            ],
            "text/plain": [
              "NLB_PTPY1.7_SAT_OFF\n"
            ]
          },
          "metadata": {},
          "output_type": "display_data"
        },
        {
          "data": {
            "text/html": [
              "<pre style=\"white-space:pre;overflow-x:auto;line-height:normal;font-family:Menlo,'DejaVu Sans Mono',consolas,'Courier New',monospace\">NLB_UGD2_SAT_OFF\n",
              "</pre>\n"
            ],
            "text/plain": [
              "NLB_UGD2_SAT_OFF\n"
            ]
          },
          "metadata": {},
          "output_type": "display_data"
        },
        {
          "data": {
            "text/html": [
              "<pre style=\"white-space:pre;overflow-x:auto;line-height:normal;font-family:Menlo,'DejaVu Sans Mono',consolas,'Courier New',monospace\">NLB_WDY1.9_SAT_OFF\n",
              "</pre>\n"
            ],
            "text/plain": [
              "NLB_WDY1.9_SAT_OFF\n"
            ]
          },
          "metadata": {},
          "output_type": "display_data"
        },
        {
          "data": {
            "text/html": [
              "<pre style=\"white-space:pre;overflow-x:auto;line-height:normal;font-family:Menlo,'DejaVu Sans Mono',consolas,'Courier New',monospace\">NLB_VP32_MON_ONL\n",
              "</pre>\n"
            ],
            "text/plain": [
              "NLB_VP32_MON_ONL\n"
            ]
          },
          "metadata": {},
          "output_type": "display_data"
        },
        {
          "data": {
            "text/html": [
              "<pre style=\"white-space:pre;overflow-x:auto;line-height:normal;font-family:Menlo,'DejaVu Sans Mono',consolas,'Courier New',monospace\"></pre>\n"
            ],
            "text/plain": []
          },
          "metadata": {},
          "output_type": "display_data"
        },
        {
          "data": {
            "text/html": [
              "<pre style=\"white-space:pre;overflow-x:auto;line-height:normal;font-family:Menlo,'DejaVu Sans Mono',consolas,'Courier New',monospace\">\n",
              "</pre>\n"
            ],
            "text/plain": [
              "\n"
            ]
          },
          "metadata": {},
          "output_type": "display_data"
        },
        {
          "name": "stdout",
          "output_type": "stream",
          "text": [
            "NLB has 124 groups  \n"
          ]
        },
        {
          "data": {
            "application/vnd.jupyter.widget-view+json": {
              "model_id": "6127ef847d7e486dadd079f9708e4245",
              "version_major": 2,
              "version_minor": 0
            },
            "text/plain": [
              "Output()"
            ]
          },
          "metadata": {},
          "output_type": "display_data"
        },
        {
          "data": {
            "text/html": [
              "<pre style=\"white-space:pre;overflow-x:auto;line-height:normal;font-family:Menlo,'DejaVu Sans Mono',consolas,'Courier New',monospace\">Non\n",
              "</pre>\n"
            ],
            "text/plain": [
              "Non\n"
            ]
          },
          "metadata": {},
          "output_type": "display_data"
        },
        {
          "data": {
            "text/html": [
              "<pre style=\"white-space:pre;overflow-x:auto;line-height:normal;font-family:Menlo,'DejaVu Sans Mono',consolas,'Courier New',monospace\">Non LMS Error\n",
              "</pre>\n"
            ],
            "text/plain": [
              "Non LMS Error\n"
            ]
          },
          "metadata": {},
          "output_type": "display_data"
        },
        {
          "data": {
            "text/html": [
              "<pre style=\"white-space:pre;overflow-x:auto;line-height:normal;font-family:Menlo,'DejaVu Sans Mono',consolas,'Courier New',monospace\">Non CPR Error\n",
              "</pre>\n"
            ],
            "text/plain": [
              "Non CPR Error\n"
            ]
          },
          "metadata": {},
          "output_type": "display_data"
        },
        {
          "data": {
            "text/html": [
              "<pre style=\"white-space:pre;overflow-x:auto;line-height:normal;font-family:Menlo,'DejaVu Sans Mono',consolas,'Courier New',monospace\">NVH_PTPY2.18_THU_ONL\n",
              "</pre>\n"
            ],
            "text/plain": [
              "NVH_PTPY2.18_THU_ONL\n"
            ]
          },
          "metadata": {},
          "output_type": "display_data"
        },
        {
          "data": {
            "text/html": [
              "<pre style=\"white-space:pre;overflow-x:auto;line-height:normal;font-family:Menlo,'DejaVu Sans Mono',consolas,'Courier New',monospace\">NVH_VP53_FRI_OFF (PRIVATE)\n",
              "</pre>\n"
            ],
            "text/plain": [
              "NVH_VP53_FRI_OFF (PRIVATE)\n"
            ]
          },
          "metadata": {},
          "output_type": "display_data"
        },
        {
          "data": {
            "text/html": [
              "<pre style=\"white-space:pre;overflow-x:auto;line-height:normal;font-family:Menlo,'DejaVu Sans Mono',consolas,'Courier New',monospace\">NVH_GD64_FRI_OFF\n",
              "</pre>\n"
            ],
            "text/plain": [
              "NVH_GD64_FRI_OFF\n"
            ]
          },
          "metadata": {},
          "output_type": "display_data"
        },
        {
          "data": {
            "text/html": [
              "<pre style=\"white-space:pre;overflow-x:auto;line-height:normal;font-family:Menlo,'DejaVu Sans Mono',consolas,'Courier New',monospace\">NVH_PTPY2.17_SAT_OFF\n",
              "</pre>\n"
            ],
            "text/plain": [
              "NVH_PTPY2.17_SAT_OFF\n"
            ]
          },
          "metadata": {},
          "output_type": "display_data"
        },
        {
          "data": {
            "text/html": [
              "<pre style=\"white-space:pre;overflow-x:auto;line-height:normal;font-family:Menlo,'DejaVu Sans Mono',consolas,'Courier New',monospace\">NVH_DL18_SUN_OFF\n",
              "</pre>\n"
            ],
            "text/plain": [
              "NVH_DL18_SUN_OFF\n"
            ]
          },
          "metadata": {},
          "output_type": "display_data"
        },
        {
          "data": {
            "text/html": [
              "<pre style=\"white-space:pre;overflow-x:auto;line-height:normal;font-family:Menlo,'DejaVu Sans Mono',consolas,'Courier New',monospace\">NVH_CK42_SUN_OFF\n",
              "</pre>\n"
            ],
            "text/plain": [
              "NVH_CK42_SUN_OFF\n"
            ]
          },
          "metadata": {},
          "output_type": "display_data"
        },
        {
          "data": {
            "text/html": [
              "<pre style=\"white-space:pre;overflow-x:auto;line-height:normal;font-family:Menlo,'DejaVu Sans Mono',consolas,'Courier New',monospace\"> NVH_WDY1.11_SAT_ONL (PRIVATE)\n",
              "</pre>\n"
            ],
            "text/plain": [
              " NVH_WDY1.11_SAT_ONL (PRIVATE)\n"
            ]
          },
          "metadata": {},
          "output_type": "display_data"
        },
        {
          "data": {
            "text/html": [
              "<pre style=\"white-space:pre;overflow-x:auto;line-height:normal;font-family:Menlo,'DejaVu Sans Mono',consolas,'Courier New',monospace\">NVH_PTPY1.28_SUN_OFF\n",
              "</pre>\n"
            ],
            "text/plain": [
              "NVH_PTPY1.28_SUN_OFF\n"
            ]
          },
          "metadata": {},
          "output_type": "display_data"
        },
        {
          "data": {
            "text/html": [
              "<pre style=\"white-space:pre;overflow-x:auto;line-height:normal;font-family:Menlo,'DejaVu Sans Mono',consolas,'Courier New',monospace\">NVH_CK41_THU_OFF\n",
              "</pre>\n"
            ],
            "text/plain": [
              "NVH_CK41_THU_OFF\n"
            ]
          },
          "metadata": {},
          "output_type": "display_data"
        },
        {
          "data": {
            "text/html": [
              "<pre style=\"white-space:pre;overflow-x:auto;line-height:normal;font-family:Menlo,'DejaVu Sans Mono',consolas,'Courier New',monospace\">NVH_PTPY1.27_SUN_OFF (PRIVATE)\n",
              "</pre>\n"
            ],
            "text/plain": [
              "NVH_PTPY1.27_SUN_OFF (PRIVATE)\n"
            ]
          },
          "metadata": {},
          "output_type": "display_data"
        },
        {
          "data": {
            "text/html": [
              "<pre style=\"white-space:pre;overflow-x:auto;line-height:normal;font-family:Menlo,'DejaVu Sans Mono',consolas,'Courier New',monospace\">NVH_WDY1.10_SUN_OFF\n",
              "</pre>\n"
            ],
            "text/plain": [
              "NVH_WDY1.10_SUN_OFF\n"
            ]
          },
          "metadata": {},
          "output_type": "display_data"
        },
        {
          "data": {
            "text/html": [
              "<pre style=\"white-space:pre;overflow-x:auto;line-height:normal;font-family:Menlo,'DejaVu Sans Mono',consolas,'Courier New',monospace\">NVH_VP52_WED_OFF\n",
              "</pre>\n"
            ],
            "text/plain": [
              "NVH_VP52_WED_OFF\n"
            ]
          },
          "metadata": {},
          "output_type": "display_data"
        },
        {
          "data": {
            "text/html": [
              "<pre style=\"white-space:pre;overflow-x:auto;line-height:normal;font-family:Menlo,'DejaVu Sans Mono',consolas,'Courier New',monospace\">NVH_CK40_SAT_OFF\n",
              "</pre>\n"
            ],
            "text/plain": [
              "NVH_CK40_SAT_OFF\n"
            ]
          },
          "metadata": {},
          "output_type": "display_data"
        },
        {
          "data": {
            "text/html": [
              "<pre style=\"white-space:pre;overflow-x:auto;line-height:normal;font-family:Menlo,'DejaVu Sans Mono',consolas,'Courier New',monospace\">NVH_GD62_TUE_OFF\n",
              "</pre>\n"
            ],
            "text/plain": [
              "NVH_GD62_TUE_OFF\n"
            ]
          },
          "metadata": {},
          "output_type": "display_data"
        },
        {
          "data": {
            "text/html": [
              "<pre style=\"white-space:pre;overflow-x:auto;line-height:normal;font-family:Menlo,'DejaVu Sans Mono',consolas,'Courier New',monospace\">NVH_PTPY1.26_THU/SUN_OFF (PRIVATE)\n",
              "</pre>\n"
            ],
            "text/plain": [
              "NVH_PTPY1.26_THU/SUN_OFF (PRIVATE)\n"
            ]
          },
          "metadata": {},
          "output_type": "display_data"
        },
        {
          "data": {
            "text/html": [
              "<pre style=\"white-space:pre;overflow-x:auto;line-height:normal;font-family:Menlo,'DejaVu Sans Mono',consolas,'Courier New',monospace\">NVH_CK39_SAT_ONL\n",
              "</pre>\n"
            ],
            "text/plain": [
              "NVH_CK39_SAT_ONL\n"
            ]
          },
          "metadata": {},
          "output_type": "display_data"
        },
        {
          "data": {
            "text/html": [
              "<pre style=\"white-space:pre;overflow-x:auto;line-height:normal;font-family:Menlo,'DejaVu Sans Mono',consolas,'Courier New',monospace\">NVH_GD61_SUN_OFF\n",
              "</pre>\n"
            ],
            "text/plain": [
              "NVH_GD61_SUN_OFF\n"
            ]
          },
          "metadata": {},
          "output_type": "display_data"
        },
        {
          "data": {
            "text/html": [
              "<pre style=\"white-space:pre;overflow-x:auto;line-height:normal;font-family:Menlo,'DejaVu Sans Mono',consolas,'Courier New',monospace\">NVH_VP51_THU_OFF\n",
              "</pre>\n"
            ],
            "text/plain": [
              "NVH_VP51_THU_OFF\n"
            ]
          },
          "metadata": {},
          "output_type": "display_data"
        },
        {
          "data": {
            "text/html": [
              "<pre style=\"white-space:pre;overflow-x:auto;line-height:normal;font-family:Menlo,'DejaVu Sans Mono',consolas,'Courier New',monospace\">NVH_PTSY2.41_SUN_OFF\n",
              "</pre>\n"
            ],
            "text/plain": [
              "NVH_PTSY2.41_SUN_OFF\n"
            ]
          },
          "metadata": {},
          "output_type": "display_data"
        },
        {
          "data": {
            "text/html": [
              "<pre style=\"white-space:pre;overflow-x:auto;line-height:normal;font-family:Menlo,'DejaVu Sans Mono',consolas,'Courier New',monospace\">NVH_PTPY1.25_MON_OFF\n",
              "</pre>\n"
            ],
            "text/plain": [
              "NVH_PTPY1.25_MON_OFF\n"
            ]
          },
          "metadata": {},
          "output_type": "display_data"
        },
        {
          "data": {
            "text/html": [
              "<pre style=\"white-space:pre;overflow-x:auto;line-height:normal;font-family:Menlo,'DejaVu Sans Mono',consolas,'Courier New',monospace\">NVH_PTPY2.16_MON_OFF\n",
              "</pre>\n"
            ],
            "text/plain": [
              "NVH_PTPY2.16_MON_OFF\n"
            ]
          },
          "metadata": {},
          "output_type": "display_data"
        },
        {
          "data": {
            "text/html": [
              "<pre style=\"white-space:pre;overflow-x:auto;line-height:normal;font-family:Menlo,'DejaVu Sans Mono',consolas,'Courier New',monospace\">NVH_PTPY2.15_SAT_OFF\n",
              "</pre>\n"
            ],
            "text/plain": [
              "NVH_PTPY2.15_SAT_OFF\n"
            ]
          },
          "metadata": {},
          "output_type": "display_data"
        },
        {
          "data": {
            "text/html": [
              "<pre style=\"white-space:pre;overflow-x:auto;line-height:normal;font-family:Menlo,'DejaVu Sans Mono',consolas,'Courier New',monospace\">NVH_VP50_FRI_OFF\n",
              "</pre>\n"
            ],
            "text/plain": [
              "NVH_VP50_FRI_OFF\n"
            ]
          },
          "metadata": {},
          "output_type": "display_data"
        },
        {
          "data": {
            "text/html": [
              "<pre style=\"white-space:pre;overflow-x:auto;line-height:normal;font-family:Menlo,'DejaVu Sans Mono',consolas,'Courier New',monospace\">NVH_PTSY2.40_THU_ONL\n",
              "</pre>\n"
            ],
            "text/plain": [
              "NVH_PTSY2.40_THU_ONL\n"
            ]
          },
          "metadata": {},
          "output_type": "display_data"
        },
        {
          "data": {
            "text/html": [
              "<pre style=\"white-space:pre;overflow-x:auto;line-height:normal;font-family:Menlo,'DejaVu Sans Mono',consolas,'Courier New',monospace\">NVH_VP49_SAT_OFF\n",
              "</pre>\n"
            ],
            "text/plain": [
              "NVH_VP49_SAT_OFF\n"
            ]
          },
          "metadata": {},
          "output_type": "display_data"
        },
        {
          "data": {
            "text/html": [
              "<pre style=\"white-space:pre;overflow-x:auto;line-height:normal;font-family:Menlo,'DejaVu Sans Mono',consolas,'Courier New',monospace\">NVH_VP48_SAT_OFF\n",
              "</pre>\n"
            ],
            "text/plain": [
              "NVH_VP48_SAT_OFF\n"
            ]
          },
          "metadata": {},
          "output_type": "display_data"
        },
        {
          "data": {
            "text/html": [
              "<pre style=\"white-space:pre;overflow-x:auto;line-height:normal;font-family:Menlo,'DejaVu Sans Mono',consolas,'Courier New',monospace\">NVH_PTSY1.59_SUN_OFF\n",
              "</pre>\n"
            ],
            "text/plain": [
              "NVH_PTSY1.59_SUN_OFF\n"
            ]
          },
          "metadata": {},
          "output_type": "display_data"
        },
        {
          "data": {
            "text/html": [
              "<pre style=\"white-space:pre;overflow-x:auto;line-height:normal;font-family:Menlo,'DejaVu Sans Mono',consolas,'Courier New',monospace\">NVH_GD60_SUN_OFF\n",
              "</pre>\n"
            ],
            "text/plain": [
              "NVH_GD60_SUN_OFF\n"
            ]
          },
          "metadata": {},
          "output_type": "display_data"
        },
        {
          "data": {
            "text/html": [
              "<pre style=\"white-space:pre;overflow-x:auto;line-height:normal;font-family:Menlo,'DejaVu Sans Mono',consolas,'Courier New',monospace\">NVH_GD59_WED_OFF\n",
              "</pre>\n"
            ],
            "text/plain": [
              "NVH_GD59_WED_OFF\n"
            ]
          },
          "metadata": {},
          "output_type": "display_data"
        },
        {
          "data": {
            "text/html": [
              "<pre style=\"white-space:pre;overflow-x:auto;line-height:normal;font-family:Menlo,'DejaVu Sans Mono',consolas,'Courier New',monospace\">NVH_PTPY1.24_MON_OFF (PRIVATE)\n",
              "</pre>\n"
            ],
            "text/plain": [
              "NVH_PTPY1.24_MON_OFF (PRIVATE)\n"
            ]
          },
          "metadata": {},
          "output_type": "display_data"
        },
        {
          "data": {
            "text/html": [
              "<pre style=\"white-space:pre;overflow-x:auto;line-height:normal;font-family:Menlo,'DejaVu Sans Mono',consolas,'Courier New',monospace\">NVH_GD58_SAT_OFF\n",
              "</pre>\n"
            ],
            "text/plain": [
              "NVH_GD58_SAT_OFF\n"
            ]
          },
          "metadata": {},
          "output_type": "display_data"
        },
        {
          "data": {
            "text/html": [
              "<pre style=\"white-space:pre;overflow-x:auto;line-height:normal;font-family:Menlo,'DejaVu Sans Mono',consolas,'Courier New',monospace\">NVH_PTSY1.58_SAT_OFF\n",
              "</pre>\n"
            ],
            "text/plain": [
              "NVH_PTSY1.58_SAT_OFF\n"
            ]
          },
          "metadata": {},
          "output_type": "display_data"
        },
        {
          "data": {
            "text/html": [
              "<pre style=\"white-space:pre;overflow-x:auto;line-height:normal;font-family:Menlo,'DejaVu Sans Mono',consolas,'Courier New',monospace\">NVH_PTSY2.39_MON_OFF\n",
              "</pre>\n"
            ],
            "text/plain": [
              "NVH_PTSY2.39_MON_OFF\n"
            ]
          },
          "metadata": {},
          "output_type": "display_data"
        },
        {
          "data": {
            "text/html": [
              "<pre style=\"white-space:pre;overflow-x:auto;line-height:normal;font-family:Menlo,'DejaVu Sans Mono',consolas,'Courier New',monospace\">NVH_WDY2.5_SAT_OFF\n",
              "</pre>\n"
            ],
            "text/plain": [
              "NVH_WDY2.5_SAT_OFF\n"
            ]
          },
          "metadata": {},
          "output_type": "display_data"
        },
        {
          "data": {
            "text/html": [
              "<pre style=\"white-space:pre;overflow-x:auto;line-height:normal;font-family:Menlo,'DejaVu Sans Mono',consolas,'Courier New',monospace\">NVH_GD57_SAT_OFF\n",
              "</pre>\n"
            ],
            "text/plain": [
              "NVH_GD57_SAT_OFF\n"
            ]
          },
          "metadata": {},
          "output_type": "display_data"
        },
        {
          "data": {
            "text/html": [
              "<pre style=\"white-space:pre;overflow-x:auto;line-height:normal;font-family:Menlo,'DejaVu Sans Mono',consolas,'Courier New',monospace\">NVH_PTPY1.23_SAT_OFF\n",
              "</pre>\n"
            ],
            "text/plain": [
              "NVH_PTPY1.23_SAT_OFF\n"
            ]
          },
          "metadata": {},
          "output_type": "display_data"
        },
        {
          "data": {
            "text/html": [
              "<pre style=\"white-space:pre;overflow-x:auto;line-height:normal;font-family:Menlo,'DejaVu Sans Mono',consolas,'Courier New',monospace\">NVH_PTSY1.57_SUN_OFF\n",
              "</pre>\n"
            ],
            "text/plain": [
              "NVH_PTSY1.57_SUN_OFF\n"
            ]
          },
          "metadata": {},
          "output_type": "display_data"
        },
        {
          "data": {
            "text/html": [
              "<pre style=\"white-space:pre;overflow-x:auto;line-height:normal;font-family:Menlo,'DejaVu Sans Mono',consolas,'Courier New',monospace\">NVH_PTSY1.56_TUE_ONL (PRIVATE)\n",
              "</pre>\n"
            ],
            "text/plain": [
              "NVH_PTSY1.56_TUE_ONL (PRIVATE)\n"
            ]
          },
          "metadata": {},
          "output_type": "display_data"
        },
        {
          "data": {
            "text/html": [
              "<pre style=\"white-space:pre;overflow-x:auto;line-height:normal;font-family:Menlo,'DejaVu Sans Mono',consolas,'Courier New',monospace\">NVH_GD56_THU_ONL\n",
              "</pre>\n"
            ],
            "text/plain": [
              "NVH_GD56_THU_ONL\n"
            ]
          },
          "metadata": {},
          "output_type": "display_data"
        },
        {
          "data": {
            "text/html": [
              "<pre style=\"white-space:pre;overflow-x:auto;line-height:normal;font-family:Menlo,'DejaVu Sans Mono',consolas,'Courier New',monospace\">NVH_CK38_FRI_OFF\n",
              "</pre>\n"
            ],
            "text/plain": [
              "NVH_CK38_FRI_OFF\n"
            ]
          },
          "metadata": {},
          "output_type": "display_data"
        },
        {
          "data": {
            "text/html": [
              "<pre style=\"white-space:pre;overflow-x:auto;line-height:normal;font-family:Menlo,'DejaVu Sans Mono',consolas,'Courier New',monospace\">NVH_CK37_TUE_OFF\n",
              "</pre>\n"
            ],
            "text/plain": [
              "NVH_CK37_TUE_OFF\n"
            ]
          },
          "metadata": {},
          "output_type": "display_data"
        },
        {
          "data": {
            "text/html": [
              "<pre style=\"white-space:pre;overflow-x:auto;line-height:normal;font-family:Menlo,'DejaVu Sans Mono',consolas,'Courier New',monospace\">NVH_VP47_SUN_OFF\n",
              "</pre>\n"
            ],
            "text/plain": [
              "NVH_VP47_SUN_OFF\n"
            ]
          },
          "metadata": {},
          "output_type": "display_data"
        },
        {
          "data": {
            "text/html": [
              "<pre style=\"white-space:pre;overflow-x:auto;line-height:normal;font-family:Menlo,'DejaVu Sans Mono',consolas,'Courier New',monospace\">NVH_CK36_TUE_OFF\n",
              "</pre>\n"
            ],
            "text/plain": [
              "NVH_CK36_TUE_OFF\n"
            ]
          },
          "metadata": {},
          "output_type": "display_data"
        },
        {
          "data": {
            "text/html": [
              "<pre style=\"white-space:pre;overflow-x:auto;line-height:normal;font-family:Menlo,'DejaVu Sans Mono',consolas,'Courier New',monospace\">NVH_PTPY2.14_THU_ONL (PRIVATE)\n",
              "</pre>\n"
            ],
            "text/plain": [
              "NVH_PTPY2.14_THU_ONL (PRIVATE)\n"
            ]
          },
          "metadata": {},
          "output_type": "display_data"
        },
        {
          "data": {
            "text/html": [
              "<pre style=\"white-space:pre;overflow-x:auto;line-height:normal;font-family:Menlo,'DejaVu Sans Mono',consolas,'Courier New',monospace\">NVH_VP46_SAT_OFF\n",
              "</pre>\n"
            ],
            "text/plain": [
              "NVH_VP46_SAT_OFF\n"
            ]
          },
          "metadata": {},
          "output_type": "display_data"
        },
        {
          "data": {
            "text/html": [
              "<pre style=\"white-space:pre;overflow-x:auto;line-height:normal;font-family:Menlo,'DejaVu Sans Mono',consolas,'Courier New',monospace\">NVH_UGD3_SAT_OFF\n",
              "</pre>\n"
            ],
            "text/plain": [
              "NVH_UGD3_SAT_OFF\n"
            ]
          },
          "metadata": {},
          "output_type": "display_data"
        },
        {
          "data": {
            "text/html": [
              "<pre style=\"white-space:pre;overflow-x:auto;line-height:normal;font-family:Menlo,'DejaVu Sans Mono',consolas,'Courier New',monospace\">NVH_GD55_WED_OFF (PRIVATE)\n",
              "</pre>\n"
            ],
            "text/plain": [
              "NVH_GD55_WED_OFF (PRIVATE)\n"
            ]
          },
          "metadata": {},
          "output_type": "display_data"
        },
        {
          "data": {
            "text/html": [
              "<pre style=\"white-space:pre;overflow-x:auto;line-height:normal;font-family:Menlo,'DejaVu Sans Mono',consolas,'Courier New',monospace\">NVH_WDY2.3_MON_OFF\n",
              "</pre>\n"
            ],
            "text/plain": [
              "NVH_WDY2.3_MON_OFF\n"
            ]
          },
          "metadata": {},
          "output_type": "display_data"
        },
        {
          "data": {
            "text/html": [
              "<pre style=\"white-space:pre;overflow-x:auto;line-height:normal;font-family:Menlo,'DejaVu Sans Mono',consolas,'Courier New',monospace\">NVH_GD54_WED_OFF\n",
              "</pre>\n"
            ],
            "text/plain": [
              "NVH_GD54_WED_OFF\n"
            ]
          },
          "metadata": {},
          "output_type": "display_data"
        },
        {
          "data": {
            "text/html": [
              "<pre style=\"white-space:pre;overflow-x:auto;line-height:normal;font-family:Menlo,'DejaVu Sans Mono',consolas,'Courier New',monospace\">NVH_PTPY2.13_SAT_OFF\n",
              "</pre>\n"
            ],
            "text/plain": [
              "NVH_PTPY2.13_SAT_OFF\n"
            ]
          },
          "metadata": {},
          "output_type": "display_data"
        },
        {
          "data": {
            "text/html": [
              "<pre style=\"white-space:pre;overflow-x:auto;line-height:normal;font-family:Menlo,'DejaVu Sans Mono',consolas,'Courier New',monospace\">NVH_GD53_TUE_OFF\n",
              "</pre>\n"
            ],
            "text/plain": [
              "NVH_GD53_TUE_OFF\n"
            ]
          },
          "metadata": {},
          "output_type": "display_data"
        },
        {
          "data": {
            "text/html": [
              "<pre style=\"white-space:pre;overflow-x:auto;line-height:normal;font-family:Menlo,'DejaVu Sans Mono',consolas,'Courier New',monospace\">NVH_VP44_SUN_OFF\n",
              "</pre>\n"
            ],
            "text/plain": [
              "NVH_VP44_SUN_OFF\n"
            ]
          },
          "metadata": {},
          "output_type": "display_data"
        },
        {
          "data": {
            "text/html": [
              "<pre style=\"white-space:pre;overflow-x:auto;line-height:normal;font-family:Menlo,'DejaVu Sans Mono',consolas,'Courier New',monospace\">NVH_GD52_TUE_OFF\n",
              "</pre>\n"
            ],
            "text/plain": [
              "NVH_GD52_TUE_OFF\n"
            ]
          },
          "metadata": {},
          "output_type": "display_data"
        },
        {
          "data": {
            "text/html": [
              "<pre style=\"white-space:pre;overflow-x:auto;line-height:normal;font-family:Menlo,'DejaVu Sans Mono',consolas,'Courier New',monospace\">NVH_PTPY2.12_TUE_ONL (PRIVATE)\n",
              "</pre>\n"
            ],
            "text/plain": [
              "NVH_PTPY2.12_TUE_ONL (PRIVATE)\n"
            ]
          },
          "metadata": {},
          "output_type": "display_data"
        },
        {
          "data": {
            "text/html": [
              "<pre style=\"white-space:pre;overflow-x:auto;line-height:normal;font-family:Menlo,'DejaVu Sans Mono',consolas,'Courier New',monospace\">NVH_GD51_SAT_OFF\n",
              "</pre>\n"
            ],
            "text/plain": [
              "NVH_GD51_SAT_OFF\n"
            ]
          },
          "metadata": {},
          "output_type": "display_data"
        },
        {
          "data": {
            "text/html": [
              "<pre style=\"white-space:pre;overflow-x:auto;line-height:normal;font-family:Menlo,'DejaVu Sans Mono',consolas,'Courier New',monospace\">PXL_PTSY1.6_SAT_OFF\n",
              "</pre>\n"
            ],
            "text/plain": [
              "PXL_PTSY1.6_SAT_OFF\n"
            ]
          },
          "metadata": {},
          "output_type": "display_data"
        },
        {
          "data": {
            "text/html": [
              "<pre style=\"white-space:pre;overflow-x:auto;line-height:normal;font-family:Menlo,'DejaVu Sans Mono',consolas,'Courier New',monospace\">NVH_PTSY2.37_SUN_ONL\n",
              "</pre>\n"
            ],
            "text/plain": [
              "NVH_PTSY2.37_SUN_ONL\n"
            ]
          },
          "metadata": {},
          "output_type": "display_data"
        },
        {
          "data": {
            "text/html": [
              "<pre style=\"white-space:pre;overflow-x:auto;line-height:normal;font-family:Menlo,'DejaVu Sans Mono',consolas,'Courier New',monospace\">NVH_PTSY2.36_SAT_OFF\n",
              "</pre>\n"
            ],
            "text/plain": [
              "NVH_PTSY2.36_SAT_OFF\n"
            ]
          },
          "metadata": {},
          "output_type": "display_data"
        },
        {
          "data": {
            "text/html": [
              "<pre style=\"white-space:pre;overflow-x:auto;line-height:normal;font-family:Menlo,'DejaVu Sans Mono',consolas,'Courier New',monospace\">NVH_GD50_THU_ONL\n",
              "</pre>\n"
            ],
            "text/plain": [
              "NVH_GD50_THU_ONL\n"
            ]
          },
          "metadata": {},
          "output_type": "display_data"
        },
        {
          "data": {
            "text/html": [
              "<pre style=\"white-space:pre;overflow-x:auto;line-height:normal;font-family:Menlo,'DejaVu Sans Mono',consolas,'Courier New',monospace\">NVH_VP43_SAT_OFF\n",
              "</pre>\n"
            ],
            "text/plain": [
              "NVH_VP43_SAT_OFF\n"
            ]
          },
          "metadata": {},
          "output_type": "display_data"
        },
        {
          "data": {
            "text/html": [
              "<pre style=\"white-space:pre;overflow-x:auto;line-height:normal;font-family:Menlo,'DejaVu Sans Mono',consolas,'Courier New',monospace\">NVH_CK35_SUN_OFF\n",
              "</pre>\n"
            ],
            "text/plain": [
              "NVH_CK35_SUN_OFF\n"
            ]
          },
          "metadata": {},
          "output_type": "display_data"
        },
        {
          "data": {
            "text/html": [
              "<pre style=\"white-space:pre;overflow-x:auto;line-height:normal;font-family:Menlo,'DejaVu Sans Mono',consolas,'Courier New',monospace\">NVH_WDY1.9_SAT_OFF\n",
              "</pre>\n"
            ],
            "text/plain": [
              "NVH_WDY1.9_SAT_OFF\n"
            ]
          },
          "metadata": {},
          "output_type": "display_data"
        },
        {
          "data": {
            "text/html": [
              "<pre style=\"white-space:pre;overflow-x:auto;line-height:normal;font-family:Menlo,'DejaVu Sans Mono',consolas,'Courier New',monospace\">NVH_GD49_SAT_OFF\n",
              "</pre>\n"
            ],
            "text/plain": [
              "NVH_GD49_SAT_OFF\n"
            ]
          },
          "metadata": {},
          "output_type": "display_data"
        },
        {
          "data": {
            "text/html": [
              "<pre style=\"white-space:pre;overflow-x:auto;line-height:normal;font-family:Menlo,'DejaVu Sans Mono',consolas,'Courier New',monospace\">NVH_GD48_MON_ONL\n",
              "</pre>\n"
            ],
            "text/plain": [
              "NVH_GD48_MON_ONL\n"
            ]
          },
          "metadata": {},
          "output_type": "display_data"
        },
        {
          "data": {
            "text/html": [
              "<pre style=\"white-space:pre;overflow-x:auto;line-height:normal;font-family:Menlo,'DejaVu Sans Mono',consolas,'Courier New',monospace\">NVH_DL14_FRI_OFF\n",
              "</pre>\n"
            ],
            "text/plain": [
              "NVH_DL14_FRI_OFF\n"
            ]
          },
          "metadata": {},
          "output_type": "display_data"
        },
        {
          "data": {
            "text/html": [
              "<pre style=\"white-space:pre;overflow-x:auto;line-height:normal;font-family:Menlo,'DejaVu Sans Mono',consolas,'Courier New',monospace\">NVH_PTSY2.35_SAT_ONL\n",
              "</pre>\n"
            ],
            "text/plain": [
              "NVH_PTSY2.35_SAT_ONL\n"
            ]
          },
          "metadata": {},
          "output_type": "display_data"
        },
        {
          "data": {
            "text/html": [
              "<pre style=\"white-space:pre;overflow-x:auto;line-height:normal;font-family:Menlo,'DejaVu Sans Mono',consolas,'Courier New',monospace\">NVH_PTSY1.55_SUN_OFF\n",
              "</pre>\n"
            ],
            "text/plain": [
              "NVH_PTSY1.55_SUN_OFF\n"
            ]
          },
          "metadata": {},
          "output_type": "display_data"
        },
        {
          "data": {
            "text/html": [
              "<pre style=\"white-space:pre;overflow-x:auto;line-height:normal;font-family:Menlo,'DejaVu Sans Mono',consolas,'Courier New',monospace\">NVH_VP42_FRI_OFF\n",
              "</pre>\n"
            ],
            "text/plain": [
              "NVH_VP42_FRI_OFF\n"
            ]
          },
          "metadata": {},
          "output_type": "display_data"
        },
        {
          "data": {
            "text/html": [
              "<pre style=\"white-space:pre;overflow-x:auto;line-height:normal;font-family:Menlo,'DejaVu Sans Mono',consolas,'Courier New',monospace\">NVH_PTPY1.21_SAT_OFF\n",
              "</pre>\n"
            ],
            "text/plain": [
              "NVH_PTPY1.21_SAT_OFF\n"
            ]
          },
          "metadata": {},
          "output_type": "display_data"
        },
        {
          "data": {
            "text/html": [
              "<pre style=\"white-space:pre;overflow-x:auto;line-height:normal;font-family:Menlo,'DejaVu Sans Mono',consolas,'Courier New',monospace\">NVH_PTSY2.34_FRI_OFF\n",
              "</pre>\n"
            ],
            "text/plain": [
              "NVH_PTSY2.34_FRI_OFF\n"
            ]
          },
          "metadata": {},
          "output_type": "display_data"
        },
        {
          "data": {
            "text/html": [
              "<pre style=\"white-space:pre;overflow-x:auto;line-height:normal;font-family:Menlo,'DejaVu Sans Mono',consolas,'Courier New',monospace\">NVH_PTSY1.54_SAT_OFF\n",
              "</pre>\n"
            ],
            "text/plain": [
              "NVH_PTSY1.54_SAT_OFF\n"
            ]
          },
          "metadata": {},
          "output_type": "display_data"
        },
        {
          "data": {
            "text/html": [
              "<pre style=\"white-space:pre;overflow-x:auto;line-height:normal;font-family:Menlo,'DejaVu Sans Mono',consolas,'Courier New',monospace\">NVH_PTSY1.53_TUE_ONL\n",
              "</pre>\n"
            ],
            "text/plain": [
              "NVH_PTSY1.53_TUE_ONL\n"
            ]
          },
          "metadata": {},
          "output_type": "display_data"
        },
        {
          "data": {
            "text/html": [
              "<pre style=\"white-space:pre;overflow-x:auto;line-height:normal;font-family:Menlo,'DejaVu Sans Mono',consolas,'Courier New',monospace\">NVH_DL13_FRI_OFF\n",
              "</pre>\n"
            ],
            "text/plain": [
              "NVH_DL13_FRI_OFF\n"
            ]
          },
          "metadata": {},
          "output_type": "display_data"
        },
        {
          "data": {
            "text/html": [
              "<pre style=\"white-space:pre;overflow-x:auto;line-height:normal;font-family:Menlo,'DejaVu Sans Mono',consolas,'Courier New',monospace\">NVH_WDY1.8_TUE_ONL\n",
              "</pre>\n"
            ],
            "text/plain": [
              "NVH_WDY1.8_TUE_ONL\n"
            ]
          },
          "metadata": {},
          "output_type": "display_data"
        },
        {
          "data": {
            "text/html": [
              "<pre style=\"white-space:pre;overflow-x:auto;line-height:normal;font-family:Menlo,'DejaVu Sans Mono',consolas,'Courier New',monospace\">NVH_CK34_SUN_OFF\n",
              "</pre>\n"
            ],
            "text/plain": [
              "NVH_CK34_SUN_OFF\n"
            ]
          },
          "metadata": {},
          "output_type": "display_data"
        },
        {
          "data": {
            "text/html": [
              "<pre style=\"white-space:pre;overflow-x:auto;line-height:normal;font-family:Menlo,'DejaVu Sans Mono',consolas,'Courier New',monospace\">NVH_PTPY2.10_SUN_ONL\n",
              "</pre>\n"
            ],
            "text/plain": [
              "NVH_PTPY2.10_SUN_ONL\n"
            ]
          },
          "metadata": {},
          "output_type": "display_data"
        },
        {
          "data": {
            "text/html": [
              "<pre style=\"white-space:pre;overflow-x:auto;line-height:normal;font-family:Menlo,'DejaVu Sans Mono',consolas,'Courier New',monospace\">NVH_PTSY2.33_SUN_OFF\n",
              "</pre>\n"
            ],
            "text/plain": [
              "NVH_PTSY2.33_SUN_OFF\n"
            ]
          },
          "metadata": {},
          "output_type": "display_data"
        },
        {
          "data": {
            "text/html": [
              "<pre style=\"white-space:pre;overflow-x:auto;line-height:normal;font-family:Menlo,'DejaVu Sans Mono',consolas,'Courier New',monospace\">NVH_PTSY2.32_SUN_ONL\n",
              "</pre>\n"
            ],
            "text/plain": [
              "NVH_PTSY2.32_SUN_ONL\n"
            ]
          },
          "metadata": {},
          "output_type": "display_data"
        },
        {
          "data": {
            "text/html": [
              "<pre style=\"white-space:pre;overflow-x:auto;line-height:normal;font-family:Menlo,'DejaVu Sans Mono',consolas,'Courier New',monospace\">NVH_VP41_SUN_OFF\n",
              "</pre>\n"
            ],
            "text/plain": [
              "NVH_VP41_SUN_OFF\n"
            ]
          },
          "metadata": {},
          "output_type": "display_data"
        },
        {
          "data": {
            "text/html": [
              "<pre style=\"white-space:pre;overflow-x:auto;line-height:normal;font-family:Menlo,'DejaVu Sans Mono',consolas,'Courier New',monospace\">NVH_PTPY1.20_SAT_OFF\n",
              "</pre>\n"
            ],
            "text/plain": [
              "NVH_PTPY1.20_SAT_OFF\n"
            ]
          },
          "metadata": {},
          "output_type": "display_data"
        },
        {
          "data": {
            "text/html": [
              "<pre style=\"white-space:pre;overflow-x:auto;line-height:normal;font-family:Menlo,'DejaVu Sans Mono',consolas,'Courier New',monospace\">NVH_VP40_THU_ONL\n",
              "</pre>\n"
            ],
            "text/plain": [
              "NVH_VP40_THU_ONL\n"
            ]
          },
          "metadata": {},
          "output_type": "display_data"
        },
        {
          "data": {
            "text/html": [
              "<pre style=\"white-space:pre;overflow-x:auto;line-height:normal;font-family:Menlo,'DejaVu Sans Mono',consolas,'Courier New',monospace\">NVH_PTSY1.52_WED_OFF\n",
              "</pre>\n"
            ],
            "text/plain": [
              "NVH_PTSY1.52_WED_OFF\n"
            ]
          },
          "metadata": {},
          "output_type": "display_data"
        },
        {
          "data": {
            "text/html": [
              "<pre style=\"white-space:pre;overflow-x:auto;line-height:normal;font-family:Menlo,'DejaVu Sans Mono',consolas,'Courier New',monospace\">NVH_PTSY1.51_SUN_ONL\n",
              "</pre>\n"
            ],
            "text/plain": [
              "NVH_PTSY1.51_SUN_ONL\n"
            ]
          },
          "metadata": {},
          "output_type": "display_data"
        },
        {
          "data": {
            "text/html": [
              "<pre style=\"white-space:pre;overflow-x:auto;line-height:normal;font-family:Menlo,'DejaVu Sans Mono',consolas,'Courier New',monospace\">NVH_PTSY1.50_THU_OFF\n",
              "</pre>\n"
            ],
            "text/plain": [
              "NVH_PTSY1.50_THU_OFF\n"
            ]
          },
          "metadata": {},
          "output_type": "display_data"
        },
        {
          "data": {
            "text/html": [
              "<pre style=\"white-space:pre;overflow-x:auto;line-height:normal;font-family:Menlo,'DejaVu Sans Mono',consolas,'Courier New',monospace\">NVH_GD47_SUN_OFF\n",
              "</pre>\n"
            ],
            "text/plain": [
              "NVH_GD47_SUN_OFF\n"
            ]
          },
          "metadata": {},
          "output_type": "display_data"
        },
        {
          "data": {
            "text/html": [
              "<pre style=\"white-space:pre;overflow-x:auto;line-height:normal;font-family:Menlo,'DejaVu Sans Mono',consolas,'Courier New',monospace\">NVH_PTSY1.49_SAT_OFF\n",
              "</pre>\n"
            ],
            "text/plain": [
              "NVH_PTSY1.49_SAT_OFF\n"
            ]
          },
          "metadata": {},
          "output_type": "display_data"
        },
        {
          "data": {
            "text/html": [
              "<pre style=\"white-space:pre;overflow-x:auto;line-height:normal;font-family:Menlo,'DejaVu Sans Mono',consolas,'Courier New',monospace\">NVH_VP39_SAT_OFF\n",
              "</pre>\n"
            ],
            "text/plain": [
              "NVH_VP39_SAT_OFF\n"
            ]
          },
          "metadata": {},
          "output_type": "display_data"
        },
        {
          "data": {
            "text/html": [
              "<pre style=\"white-space:pre;overflow-x:auto;line-height:normal;font-family:Menlo,'DejaVu Sans Mono',consolas,'Courier New',monospace\">NVH_PTSY2.30_SAT_OFF\n",
              "</pre>\n"
            ],
            "text/plain": [
              "NVH_PTSY2.30_SAT_OFF\n"
            ]
          },
          "metadata": {},
          "output_type": "display_data"
        },
        {
          "data": {
            "text/html": [
              "<pre style=\"white-space:pre;overflow-x:auto;line-height:normal;font-family:Menlo,'DejaVu Sans Mono',consolas,'Courier New',monospace\">NVH_PTPY2.9_FRI_OFF\n",
              "</pre>\n"
            ],
            "text/plain": [
              "NVH_PTPY2.9_FRI_OFF\n"
            ]
          },
          "metadata": {},
          "output_type": "display_data"
        },
        {
          "data": {
            "text/html": [
              "<pre style=\"white-space:pre;overflow-x:auto;line-height:normal;font-family:Menlo,'DejaVu Sans Mono',consolas,'Courier New',monospace\">NVH_VP38_SAT_OFF\n",
              "</pre>\n"
            ],
            "text/plain": [
              "NVH_VP38_SAT_OFF\n"
            ]
          },
          "metadata": {},
          "output_type": "display_data"
        },
        {
          "data": {
            "text/html": [
              "<pre style=\"white-space:pre;overflow-x:auto;line-height:normal;font-family:Menlo,'DejaVu Sans Mono',consolas,'Courier New',monospace\">NVH_GD46_MON_OFF\n",
              "</pre>\n"
            ],
            "text/plain": [
              "NVH_GD46_MON_OFF\n"
            ]
          },
          "metadata": {},
          "output_type": "display_data"
        },
        {
          "data": {
            "text/html": [
              "<pre style=\"white-space:pre;overflow-x:auto;line-height:normal;font-family:Menlo,'DejaVu Sans Mono',consolas,'Courier New',monospace\">NVH_VP37_FRI_ONL\n",
              "</pre>\n"
            ],
            "text/plain": [
              "NVH_VP37_FRI_ONL\n"
            ]
          },
          "metadata": {},
          "output_type": "display_data"
        },
        {
          "data": {
            "text/html": [
              "<pre style=\"white-space:pre;overflow-x:auto;line-height:normal;font-family:Menlo,'DejaVu Sans Mono',consolas,'Courier New',monospace\">NVH_CK33_TUE_ONL\n",
              "</pre>\n"
            ],
            "text/plain": [
              "NVH_CK33_TUE_ONL\n"
            ]
          },
          "metadata": {},
          "output_type": "display_data"
        },
        {
          "data": {
            "text/html": [
              "<pre style=\"white-space:pre;overflow-x:auto;line-height:normal;font-family:Menlo,'DejaVu Sans Mono',consolas,'Courier New',monospace\">NVH_VP36_TUE_ONL\n",
              "</pre>\n"
            ],
            "text/plain": [
              "NVH_VP36_TUE_ONL\n"
            ]
          },
          "metadata": {},
          "output_type": "display_data"
        },
        {
          "data": {
            "text/html": [
              "<pre style=\"white-space:pre;overflow-x:auto;line-height:normal;font-family:Menlo,'DejaVu Sans Mono',consolas,'Courier New',monospace\">NVH_GD45_FRI_OFF\n",
              "</pre>\n"
            ],
            "text/plain": [
              "NVH_GD45_FRI_OFF\n"
            ]
          },
          "metadata": {},
          "output_type": "display_data"
        },
        {
          "data": {
            "text/html": [
              "<pre style=\"white-space:pre;overflow-x:auto;line-height:normal;font-family:Menlo,'DejaVu Sans Mono',consolas,'Courier New',monospace\">NVH_GD44_SAT_OFF\n",
              "</pre>\n"
            ],
            "text/plain": [
              "NVH_GD44_SAT_OFF\n"
            ]
          },
          "metadata": {},
          "output_type": "display_data"
        },
        {
          "data": {
            "text/html": [
              "<pre style=\"white-space:pre;overflow-x:auto;line-height:normal;font-family:Menlo,'DejaVu Sans Mono',consolas,'Courier New',monospace\">NVH_GD43_WED_OFF\n",
              "</pre>\n"
            ],
            "text/plain": [
              "NVH_GD43_WED_OFF\n"
            ]
          },
          "metadata": {},
          "output_type": "display_data"
        },
        {
          "data": {
            "text/html": [
              "<pre style=\"white-space:pre;overflow-x:auto;line-height:normal;font-family:Menlo,'DejaVu Sans Mono',consolas,'Courier New',monospace\">NVH_PTPY1.19_FRI_OFF (PRIVATE)\n",
              "</pre>\n"
            ],
            "text/plain": [
              "NVH_PTPY1.19_FRI_OFF (PRIVATE)\n"
            ]
          },
          "metadata": {},
          "output_type": "display_data"
        },
        {
          "data": {
            "text/html": [
              "<pre style=\"white-space:pre;overflow-x:auto;line-height:normal;font-family:Menlo,'DejaVu Sans Mono',consolas,'Courier New',monospace\">NVH_GD42_TUE_OFF\n",
              "</pre>\n"
            ],
            "text/plain": [
              "NVH_GD42_TUE_OFF\n"
            ]
          },
          "metadata": {},
          "output_type": "display_data"
        },
        {
          "data": {
            "text/html": [
              "<pre style=\"white-space:pre;overflow-x:auto;line-height:normal;font-family:Menlo,'DejaVu Sans Mono',consolas,'Courier New',monospace\">NVH_VP35_TUE_OFF\n",
              "</pre>\n"
            ],
            "text/plain": [
              "NVH_VP35_TUE_OFF\n"
            ]
          },
          "metadata": {},
          "output_type": "display_data"
        },
        {
          "data": {
            "text/html": [
              "<pre style=\"white-space:pre;overflow-x:auto;line-height:normal;font-family:Menlo,'DejaVu Sans Mono',consolas,'Courier New',monospace\">NVH_DL11_SUN_OFF\n",
              "</pre>\n"
            ],
            "text/plain": [
              "NVH_DL11_SUN_OFF\n"
            ]
          },
          "metadata": {},
          "output_type": "display_data"
        },
        {
          "data": {
            "text/html": [
              "<pre style=\"white-space:pre;overflow-x:auto;line-height:normal;font-family:Menlo,'DejaVu Sans Mono',consolas,'Courier New',monospace\">NVH_PTSY2.29_FRI_ONL\n",
              "</pre>\n"
            ],
            "text/plain": [
              "NVH_PTSY2.29_FRI_ONL\n"
            ]
          },
          "metadata": {},
          "output_type": "display_data"
        },
        {
          "data": {
            "text/html": [
              "<pre style=\"white-space:pre;overflow-x:auto;line-height:normal;font-family:Menlo,'DejaVu Sans Mono',consolas,'Courier New',monospace\">NVH_GD41_SAT_OFF\n",
              "</pre>\n"
            ],
            "text/plain": [
              "NVH_GD41_SAT_OFF\n"
            ]
          },
          "metadata": {},
          "output_type": "display_data"
        },
        {
          "data": {
            "text/html": [
              "<pre style=\"white-space:pre;overflow-x:auto;line-height:normal;font-family:Menlo,'DejaVu Sans Mono',consolas,'Courier New',monospace\">NVH_GD40_SAT_ONL\n",
              "</pre>\n"
            ],
            "text/plain": [
              "NVH_GD40_SAT_ONL\n"
            ]
          },
          "metadata": {},
          "output_type": "display_data"
        },
        {
          "data": {
            "text/html": [
              "<pre style=\"white-space:pre;overflow-x:auto;line-height:normal;font-family:Menlo,'DejaVu Sans Mono',consolas,'Courier New',monospace\">NVH_PTPY1.17_WED_ONL (PRIVATE)\n",
              "</pre>\n"
            ],
            "text/plain": [
              "NVH_PTPY1.17_WED_ONL (PRIVATE)\n"
            ]
          },
          "metadata": {},
          "output_type": "display_data"
        },
        {
          "data": {
            "text/html": [
              "<pre style=\"white-space:pre;overflow-x:auto;line-height:normal;font-family:Menlo,'DejaVu Sans Mono',consolas,'Courier New',monospace\">NVH_PTSY1.46_SAT_OFF\n",
              "</pre>\n"
            ],
            "text/plain": [
              "NVH_PTSY1.46_SAT_OFF\n"
            ]
          },
          "metadata": {},
          "output_type": "display_data"
        },
        {
          "data": {
            "text/html": [
              "<pre style=\"white-space:pre;overflow-x:auto;line-height:normal;font-family:Menlo,'DejaVu Sans Mono',consolas,'Courier New',monospace\">NVH_DL9_MON_OFF\n",
              "</pre>\n"
            ],
            "text/plain": [
              "NVH_DL9_MON_OFF\n"
            ]
          },
          "metadata": {},
          "output_type": "display_data"
        },
        {
          "data": {
            "text/html": [
              "<pre style=\"white-space:pre;overflow-x:auto;line-height:normal;font-family:Menlo,'DejaVu Sans Mono',consolas,'Courier New',monospace\">NVH_GD39_TUE_OFF (PRIVATE)\n",
              "</pre>\n"
            ],
            "text/plain": [
              "NVH_GD39_TUE_OFF (PRIVATE)\n"
            ]
          },
          "metadata": {},
          "output_type": "display_data"
        },
        {
          "data": {
            "text/html": [
              "<pre style=\"white-space:pre;overflow-x:auto;line-height:normal;font-family:Menlo,'DejaVu Sans Mono',consolas,'Courier New',monospace\">NVH_GD38_WED_OFF\n",
              "</pre>\n"
            ],
            "text/plain": [
              "NVH_GD38_WED_OFF\n"
            ]
          },
          "metadata": {},
          "output_type": "display_data"
        },
        {
          "data": {
            "text/html": [
              "<pre style=\"white-space:pre;overflow-x:auto;line-height:normal;font-family:Menlo,'DejaVu Sans Mono',consolas,'Courier New',monospace\">NVH_VP31_FRI_OFF\n",
              "</pre>\n"
            ],
            "text/plain": [
              "NVH_VP31_FRI_OFF\n"
            ]
          },
          "metadata": {},
          "output_type": "display_data"
        },
        {
          "data": {
            "text/html": [
              "<pre style=\"white-space:pre;overflow-x:auto;line-height:normal;font-family:Menlo,'DejaVu Sans Mono',consolas,'Courier New',monospace\">NVH_GD36_WED_OFF\n",
              "</pre>\n"
            ],
            "text/plain": [
              "NVH_GD36_WED_OFF\n"
            ]
          },
          "metadata": {},
          "output_type": "display_data"
        },
        {
          "data": {
            "text/html": [
              "<pre style=\"white-space:pre;overflow-x:auto;line-height:normal;font-family:Menlo,'DejaVu Sans Mono',consolas,'Courier New',monospace\">NVH_PTSY2.28_SAT_OFF (PRIVATE)\n",
              "</pre>\n"
            ],
            "text/plain": [
              "NVH_PTSY2.28_SAT_OFF (PRIVATE)\n"
            ]
          },
          "metadata": {},
          "output_type": "display_data"
        },
        {
          "data": {
            "text/html": [
              "<pre style=\"white-space:pre;overflow-x:auto;line-height:normal;font-family:Menlo,'DejaVu Sans Mono',consolas,'Courier New',monospace\">NVH_DL7_SAT_OFF (PRIVATE)\n",
              "</pre>\n"
            ],
            "text/plain": [
              "NVH_DL7_SAT_OFF (PRIVATE)\n"
            ]
          },
          "metadata": {},
          "output_type": "display_data"
        },
        {
          "data": {
            "text/html": [
              "<pre style=\"white-space:pre;overflow-x:auto;line-height:normal;font-family:Menlo,'DejaVu Sans Mono',consolas,'Courier New',monospace\">NVH_CK30_SAT_OFF\n",
              "</pre>\n"
            ],
            "text/plain": [
              "NVH_CK30_SAT_OFF\n"
            ]
          },
          "metadata": {},
          "output_type": "display_data"
        },
        {
          "data": {
            "text/html": [
              "<pre style=\"white-space:pre;overflow-x:auto;line-height:normal;font-family:Menlo,'DejaVu Sans Mono',consolas,'Courier New',monospace\">NVH_DL6_SAT_OFF\n",
              "</pre>\n"
            ],
            "text/plain": [
              "NVH_DL6_SAT_OFF\n"
            ]
          },
          "metadata": {},
          "output_type": "display_data"
        },
        {
          "data": {
            "text/html": [
              "<pre style=\"white-space:pre;overflow-x:auto;line-height:normal;font-family:Menlo,'DejaVu Sans Mono',consolas,'Courier New',monospace\">NVH_UGD2_WED_OFF (PRIVATE)\n",
              "</pre>\n"
            ],
            "text/plain": [
              "NVH_UGD2_WED_OFF (PRIVATE)\n"
            ]
          },
          "metadata": {},
          "output_type": "display_data"
        },
        {
          "data": {
            "text/html": [
              "<pre style=\"white-space:pre;overflow-x:auto;line-height:normal;font-family:Menlo,'DejaVu Sans Mono',consolas,'Courier New',monospace\">NVH_VP25_WED_OFF\n",
              "</pre>\n"
            ],
            "text/plain": [
              "NVH_VP25_WED_OFF\n"
            ]
          },
          "metadata": {},
          "output_type": "display_data"
        },
        {
          "data": {
            "text/html": [
              "<pre style=\"white-space:pre;overflow-x:auto;line-height:normal;font-family:Menlo,'DejaVu Sans Mono',consolas,'Courier New',monospace\"></pre>\n"
            ],
            "text/plain": []
          },
          "metadata": {},
          "output_type": "display_data"
        },
        {
          "data": {
            "text/html": [
              "<pre style=\"white-space:pre;overflow-x:auto;line-height:normal;font-family:Menlo,'DejaVu Sans Mono',consolas,'Courier New',monospace\">\n",
              "</pre>\n"
            ],
            "text/plain": [
              "\n"
            ]
          },
          "metadata": {},
          "output_type": "display_data"
        },
        {
          "name": "stdout",
          "output_type": "stream",
          "text": [
            "NVH has 120 groups  \n"
          ]
        },
        {
          "data": {
            "application/vnd.jupyter.widget-view+json": {
              "model_id": "0ae8f12e4e754ee5a90be2bf1e4ad8b6",
              "version_major": 2,
              "version_minor": 0
            },
            "text/plain": [
              "Output()"
            ]
          },
          "metadata": {},
          "output_type": "display_data"
        },
        {
          "data": {
            "text/html": [
              "<pre style=\"white-space:pre;overflow-x:auto;line-height:normal;font-family:Menlo,'DejaVu Sans Mono',consolas,'Courier New',monospace\">Non\n",
              "</pre>\n"
            ],
            "text/plain": [
              "Non\n"
            ]
          },
          "metadata": {},
          "output_type": "display_data"
        },
        {
          "name": "stdout",
          "output_type": "stream",
          "text": [
            "59\n"
          ]
        },
        {
          "data": {
            "text/html": [
              "<pre style=\"white-space:pre;overflow-x:auto;line-height:normal;font-family:Menlo,'DejaVu Sans Mono',consolas,'Courier New',monospace\">Non LMS Error\n",
              "</pre>\n"
            ],
            "text/plain": [
              "Non LMS Error\n"
            ]
          },
          "metadata": {},
          "output_type": "display_data"
        },
        {
          "data": {
            "text/html": [
              "<pre style=\"white-space:pre;overflow-x:auto;line-height:normal;font-family:Menlo,'DejaVu Sans Mono',consolas,'Courier New',monospace\">Non CPR Error\n",
              "</pre>\n"
            ],
            "text/plain": [
              "Non CPR Error\n"
            ]
          },
          "metadata": {},
          "output_type": "display_data"
        },
        {
          "data": {
            "text/html": [
              "<pre style=\"white-space:pre;overflow-x:auto;line-height:normal;font-family:Menlo,'DejaVu Sans Mono',consolas,'Courier New',monospace\">PXL_GD26_WED_ONL (PRIVATE)\n",
              "</pre>\n"
            ],
            "text/plain": [
              "PXL_GD26_WED_ONL (PRIVATE)\n"
            ]
          },
          "metadata": {},
          "output_type": "display_data"
        },
        {
          "data": {
            "text/html": [
              "<pre style=\"white-space:pre;overflow-x:auto;line-height:normal;font-family:Menlo,'DejaVu Sans Mono',consolas,'Courier New',monospace\">PXL_GD24_MON_OFF\n",
              "</pre>\n"
            ],
            "text/plain": [
              "PXL_GD24_MON_OFF\n"
            ]
          },
          "metadata": {},
          "output_type": "display_data"
        },
        {
          "data": {
            "text/html": [
              "<pre style=\"white-space:pre;overflow-x:auto;line-height:normal;font-family:Menlo,'DejaVu Sans Mono',consolas,'Courier New',monospace\">PXL_VP27_SAT_OFF\n",
              "</pre>\n"
            ],
            "text/plain": [
              "PXL_VP27_SAT_OFF\n"
            ]
          },
          "metadata": {},
          "output_type": "display_data"
        },
        {
          "data": {
            "text/html": [
              "<pre style=\"white-space:pre;overflow-x:auto;line-height:normal;font-family:Menlo,'DejaVu Sans Mono',consolas,'Courier New',monospace\">PXL_VP26_MON/THU_OFF (PRIVATE)\n",
              "</pre>\n"
            ],
            "text/plain": [
              "PXL_VP26_MON/THU_OFF (PRIVATE)\n"
            ]
          },
          "metadata": {},
          "output_type": "display_data"
        },
        {
          "data": {
            "text/html": [
              "<pre style=\"white-space:pre;overflow-x:auto;line-height:normal;font-family:Menlo,'DejaVu Sans Mono',consolas,'Courier New',monospace\">PXL_GD22_SUN_ONL\n",
              "</pre>\n"
            ],
            "text/plain": [
              "PXL_GD22_SUN_ONL\n"
            ]
          },
          "metadata": {},
          "output_type": "display_data"
        },
        {
          "data": {
            "text/html": [
              "<pre style=\"white-space:pre;overflow-x:auto;line-height:normal;font-family:Menlo,'DejaVu Sans Mono',consolas,'Courier New',monospace\">PXL_CK13_SUN_OFF\n",
              "</pre>\n"
            ],
            "text/plain": [
              "PXL_CK13_SUN_OFF\n"
            ]
          },
          "metadata": {},
          "output_type": "display_data"
        },
        {
          "data": {
            "text/html": [
              "<pre style=\"white-space:pre;overflow-x:auto;line-height:normal;font-family:Menlo,'DejaVu Sans Mono',consolas,'Courier New',monospace\">PXL_VP25_SAT/SUN_ONL (PRIVATE)\n",
              "</pre>\n"
            ],
            "text/plain": [
              "PXL_VP25_SAT/SUN_ONL (PRIVATE)\n"
            ]
          },
          "metadata": {},
          "output_type": "display_data"
        },
        {
          "data": {
            "text/html": [
              "<pre style=\"white-space:pre;overflow-x:auto;line-height:normal;font-family:Menlo,'DejaVu Sans Mono',consolas,'Courier New',monospace\">PXL_VP28_TUE_OFF\n",
              "</pre>\n"
            ],
            "text/plain": [
              "PXL_VP28_TUE_OFF\n"
            ]
          },
          "metadata": {},
          "output_type": "display_data"
        },
        {
          "data": {
            "text/html": [
              "<pre style=\"white-space:pre;overflow-x:auto;line-height:normal;font-family:Menlo,'DejaVu Sans Mono',consolas,'Courier New',monospace\">PXL_UGD2_TUE_OFF\n",
              "</pre>\n"
            ],
            "text/plain": [
              "PXL_UGD2_TUE_OFF\n"
            ]
          },
          "metadata": {},
          "output_type": "display_data"
        },
        {
          "data": {
            "text/html": [
              "<pre style=\"white-space:pre;overflow-x:auto;line-height:normal;font-family:Menlo,'DejaVu Sans Mono',consolas,'Courier New',monospace\">PXL_PTSY1.11_SAT_OFF\n",
              "</pre>\n"
            ],
            "text/plain": [
              "PXL_PTSY1.11_SAT_OFF\n"
            ]
          },
          "metadata": {},
          "output_type": "display_data"
        },
        {
          "data": {
            "text/html": [
              "<pre style=\"white-space:pre;overflow-x:auto;line-height:normal;font-family:Menlo,'DejaVu Sans Mono',consolas,'Courier New',monospace\">PXL_WDY1.7_SAT_OFF\n",
              "</pre>\n"
            ],
            "text/plain": [
              "PXL_WDY1.7_SAT_OFF\n"
            ]
          },
          "metadata": {},
          "output_type": "display_data"
        },
        {
          "data": {
            "text/html": [
              "<pre style=\"white-space:pre;overflow-x:auto;line-height:normal;font-family:Menlo,'DejaVu Sans Mono',consolas,'Courier New',monospace\">PXL_WDY1.6_SAT_ONL\n",
              "</pre>\n"
            ],
            "text/plain": [
              "PXL_WDY1.6_SAT_ONL\n"
            ]
          },
          "metadata": {},
          "output_type": "display_data"
        },
        {
          "data": {
            "text/html": [
              "<pre style=\"white-space:pre;overflow-x:auto;line-height:normal;font-family:Menlo,'DejaVu Sans Mono',consolas,'Courier New',monospace\">PXL_PTPY2.1_SAT_OFF\n",
              "</pre>\n"
            ],
            "text/plain": [
              "PXL_PTPY2.1_SAT_OFF\n"
            ]
          },
          "metadata": {},
          "output_type": "display_data"
        },
        {
          "data": {
            "text/html": [
              "<pre style=\"white-space:pre;overflow-x:auto;line-height:normal;font-family:Menlo,'DejaVu Sans Mono',consolas,'Courier New',monospace\">PXL_PTSY1.10_TUE_OFF\n",
              "</pre>\n"
            ],
            "text/plain": [
              "PXL_PTSY1.10_TUE_OFF\n"
            ]
          },
          "metadata": {},
          "output_type": "display_data"
        },
        {
          "data": {
            "text/html": [
              "<pre style=\"white-space:pre;overflow-x:auto;line-height:normal;font-family:Menlo,'DejaVu Sans Mono',consolas,'Courier New',monospace\">PXL_UGD1_SUN_OFF\n",
              "</pre>\n"
            ],
            "text/plain": [
              "PXL_UGD1_SUN_OFF\n"
            ]
          },
          "metadata": {},
          "output_type": "display_data"
        },
        {
          "data": {
            "text/html": [
              "<pre style=\"white-space:pre;overflow-x:auto;line-height:normal;font-family:Menlo,'DejaVu Sans Mono',consolas,'Courier New',monospace\">PXL_GD21_TUE_OFF\n",
              "</pre>\n"
            ],
            "text/plain": [
              "PXL_GD21_TUE_OFF\n"
            ]
          },
          "metadata": {},
          "output_type": "display_data"
        },
        {
          "data": {
            "text/html": [
              "<pre style=\"white-space:pre;overflow-x:auto;line-height:normal;font-family:Menlo,'DejaVu Sans Mono',consolas,'Courier New',monospace\">PXL_DL6_SAT_OFF\n",
              "</pre>\n"
            ],
            "text/plain": [
              "PXL_DL6_SAT_OFF\n"
            ]
          },
          "metadata": {},
          "output_type": "display_data"
        },
        {
          "data": {
            "text/html": [
              "<pre style=\"white-space:pre;overflow-x:auto;line-height:normal;font-family:Menlo,'DejaVu Sans Mono',consolas,'Courier New',monospace\">PXL_VP23_SAT_OFF\n",
              "</pre>\n"
            ],
            "text/plain": [
              "PXL_VP23_SAT_OFF\n"
            ]
          },
          "metadata": {},
          "output_type": "display_data"
        },
        {
          "data": {
            "text/html": [
              "<pre style=\"white-space:pre;overflow-x:auto;line-height:normal;font-family:Menlo,'DejaVu Sans Mono',consolas,'Courier New',monospace\">PXL_VP22_SUN_ONL\n",
              "</pre>\n"
            ],
            "text/plain": [
              "PXL_VP22_SUN_ONL\n"
            ]
          },
          "metadata": {},
          "output_type": "display_data"
        },
        {
          "data": {
            "text/html": [
              "<pre style=\"white-space:pre;overflow-x:auto;line-height:normal;font-family:Menlo,'DejaVu Sans Mono',consolas,'Courier New',monospace\">PXL_GD20_SAT_OFF\n",
              "</pre>\n"
            ],
            "text/plain": [
              "PXL_GD20_SAT_OFF\n"
            ]
          },
          "metadata": {},
          "output_type": "display_data"
        },
        {
          "data": {
            "text/html": [
              "<pre style=\"white-space:pre;overflow-x:auto;line-height:normal;font-family:Menlo,'DejaVu Sans Mono',consolas,'Courier New',monospace\">PXL_CK12_TUE_OFF\n",
              "</pre>\n"
            ],
            "text/plain": [
              "PXL_CK12_TUE_OFF\n"
            ]
          },
          "metadata": {},
          "output_type": "display_data"
        },
        {
          "data": {
            "text/html": [
              "<pre style=\"white-space:pre;overflow-x:auto;line-height:normal;font-family:Menlo,'DejaVu Sans Mono',consolas,'Courier New',monospace\">PXL_PTPY1.2_SUN_OFF\n",
              "</pre>\n"
            ],
            "text/plain": [
              "PXL_PTPY1.2_SUN_OFF\n"
            ]
          },
          "metadata": {},
          "output_type": "display_data"
        },
        {
          "data": {
            "text/html": [
              "<pre style=\"white-space:pre;overflow-x:auto;line-height:normal;font-family:Menlo,'DejaVu Sans Mono',consolas,'Courier New',monospace\">PXL_VP21_FRI_OFF\n",
              "</pre>\n"
            ],
            "text/plain": [
              "PXL_VP21_FRI_OFF\n"
            ]
          },
          "metadata": {},
          "output_type": "display_data"
        },
        {
          "data": {
            "text/html": [
              "<pre style=\"white-space:pre;overflow-x:auto;line-height:normal;font-family:Menlo,'DejaVu Sans Mono',consolas,'Courier New',monospace\">PXL_GD19_FRI_OFF\n",
              "</pre>\n"
            ],
            "text/plain": [
              "PXL_GD19_FRI_OFF\n"
            ]
          },
          "metadata": {},
          "output_type": "display_data"
        },
        {
          "data": {
            "text/html": [
              "<pre style=\"white-space:pre;overflow-x:auto;line-height:normal;font-family:Menlo,'DejaVu Sans Mono',consolas,'Courier New',monospace\">PXL_PTPY1.3_SAT/SUN_OFF (PRIVATE)\n",
              "</pre>\n"
            ],
            "text/plain": [
              "PXL_PTPY1.3_SAT/SUN_OFF (PRIVATE)\n"
            ]
          },
          "metadata": {},
          "output_type": "display_data"
        },
        {
          "data": {
            "text/html": [
              "<pre style=\"white-space:pre;overflow-x:auto;line-height:normal;font-family:Menlo,'DejaVu Sans Mono',consolas,'Courier New',monospace\">PXL_PTSY1.8_TUE_OFF\n",
              "</pre>\n"
            ],
            "text/plain": [
              "PXL_PTSY1.8_TUE_OFF\n"
            ]
          },
          "metadata": {},
          "output_type": "display_data"
        },
        {
          "data": {
            "text/html": [
              "<pre style=\"white-space:pre;overflow-x:auto;line-height:normal;font-family:Menlo,'DejaVu Sans Mono',consolas,'Courier New',monospace\">PXL_GD18_TUE_OFF\n",
              "</pre>\n"
            ],
            "text/plain": [
              "PXL_GD18_TUE_OFF\n"
            ]
          },
          "metadata": {},
          "output_type": "display_data"
        },
        {
          "data": {
            "text/html": [
              "<pre style=\"white-space:pre;overflow-x:auto;line-height:normal;font-family:Menlo,'DejaVu Sans Mono',consolas,'Courier New',monospace\">PXL_PTSY2.5_SUN_OFF\n",
              "</pre>\n"
            ],
            "text/plain": [
              "PXL_PTSY2.5_SUN_OFF\n"
            ]
          },
          "metadata": {},
          "output_type": "display_data"
        },
        {
          "data": {
            "text/html": [
              "<pre style=\"white-space:pre;overflow-x:auto;line-height:normal;font-family:Menlo,'DejaVu Sans Mono',consolas,'Courier New',monospace\">PXL_PTSY2.4_SAT_OFF\n",
              "</pre>\n"
            ],
            "text/plain": [
              "PXL_PTSY2.4_SAT_OFF\n"
            ]
          },
          "metadata": {},
          "output_type": "display_data"
        },
        {
          "data": {
            "text/html": [
              "<pre style=\"white-space:pre;overflow-x:auto;line-height:normal;font-family:Menlo,'DejaVu Sans Mono',consolas,'Courier New',monospace\">PXL_PTSY2.3_SUN_OFF\n",
              "</pre>\n"
            ],
            "text/plain": [
              "PXL_PTSY2.3_SUN_OFF\n"
            ]
          },
          "metadata": {},
          "output_type": "display_data"
        },
        {
          "data": {
            "text/html": [
              "<pre style=\"white-space:pre;overflow-x:auto;line-height:normal;font-family:Menlo,'DejaVu Sans Mono',consolas,'Courier New',monospace\">PXL_GD16_SAT_OFF\n",
              "</pre>\n"
            ],
            "text/plain": [
              "PXL_GD16_SAT_OFF\n"
            ]
          },
          "metadata": {},
          "output_type": "display_data"
        },
        {
          "data": {
            "text/html": [
              "<pre style=\"white-space:pre;overflow-x:auto;line-height:normal;font-family:Menlo,'DejaVu Sans Mono',consolas,'Courier New',monospace\">PXL_WDY1.4_TUE_OFF\n",
              "</pre>\n"
            ],
            "text/plain": [
              "PXL_WDY1.4_TUE_OFF\n"
            ]
          },
          "metadata": {},
          "output_type": "display_data"
        },
        {
          "data": {
            "text/html": [
              "<pre style=\"white-space:pre;overflow-x:auto;line-height:normal;font-family:Menlo,'DejaVu Sans Mono',consolas,'Courier New',monospace\">PXL_PTSY1.7_WED_OFF\n",
              "</pre>\n"
            ],
            "text/plain": [
              "PXL_PTSY1.7_WED_OFF\n"
            ]
          },
          "metadata": {},
          "output_type": "display_data"
        },
        {
          "data": {
            "text/html": [
              "<pre style=\"white-space:pre;overflow-x:auto;line-height:normal;font-family:Menlo,'DejaVu Sans Mono',consolas,'Courier New',monospace\">PXL_PTSY1.6_SAT_OFF\n",
              "</pre>\n"
            ],
            "text/plain": [
              "PXL_PTSY1.6_SAT_OFF\n"
            ]
          },
          "metadata": {},
          "output_type": "display_data"
        },
        {
          "data": {
            "text/html": [
              "<pre style=\"white-space:pre;overflow-x:auto;line-height:normal;font-family:Menlo,'DejaVu Sans Mono',consolas,'Courier New',monospace\">PXL_DL5_FRI_OFF\n",
              "</pre>\n"
            ],
            "text/plain": [
              "PXL_DL5_FRI_OFF\n"
            ]
          },
          "metadata": {},
          "output_type": "display_data"
        },
        {
          "data": {
            "text/html": [
              "<pre style=\"white-space:pre;overflow-x:auto;line-height:normal;font-family:Menlo,'DejaVu Sans Mono',consolas,'Courier New',monospace\">PXL_GD14_SUN_OFF\n",
              "</pre>\n"
            ],
            "text/plain": [
              "PXL_GD14_SUN_OFF\n"
            ]
          },
          "metadata": {},
          "output_type": "display_data"
        },
        {
          "data": {
            "text/html": [
              "<pre style=\"white-space:pre;overflow-x:auto;line-height:normal;font-family:Menlo,'DejaVu Sans Mono',consolas,'Courier New',monospace\">PXL_GD13_SAT_OFF\n",
              "</pre>\n"
            ],
            "text/plain": [
              "PXL_GD13_SAT_OFF\n"
            ]
          },
          "metadata": {},
          "output_type": "display_data"
        },
        {
          "data": {
            "text/html": [
              "<pre style=\"white-space:pre;overflow-x:auto;line-height:normal;font-family:Menlo,'DejaVu Sans Mono',consolas,'Courier New',monospace\">PXL_PTSY1.5_SUN_OFF\n",
              "</pre>\n"
            ],
            "text/plain": [
              "PXL_PTSY1.5_SUN_OFF\n"
            ]
          },
          "metadata": {},
          "output_type": "display_data"
        },
        {
          "data": {
            "text/html": [
              "<pre style=\"white-space:pre;overflow-x:auto;line-height:normal;font-family:Menlo,'DejaVu Sans Mono',consolas,'Courier New',monospace\">PXL_DL4_SAT_OFF\n",
              "</pre>\n"
            ],
            "text/plain": [
              "PXL_DL4_SAT_OFF\n"
            ]
          },
          "metadata": {},
          "output_type": "display_data"
        },
        {
          "data": {
            "text/html": [
              "<pre style=\"white-space:pre;overflow-x:auto;line-height:normal;font-family:Menlo,'DejaVu Sans Mono',consolas,'Courier New',monospace\">PXL_VP19_SUN_OFF\n",
              "</pre>\n"
            ],
            "text/plain": [
              "PXL_VP19_SUN_OFF\n"
            ]
          },
          "metadata": {},
          "output_type": "display_data"
        },
        {
          "data": {
            "text/html": [
              "<pre style=\"white-space:pre;overflow-x:auto;line-height:normal;font-family:Menlo,'DejaVu Sans Mono',consolas,'Courier New',monospace\">PXL_VP18_SUN_OFF\n",
              "</pre>\n"
            ],
            "text/plain": [
              "PXL_VP18_SUN_OFF\n"
            ]
          },
          "metadata": {},
          "output_type": "display_data"
        },
        {
          "data": {
            "text/html": [
              "<pre style=\"white-space:pre;overflow-x:auto;line-height:normal;font-family:Menlo,'DejaVu Sans Mono',consolas,'Courier New',monospace\">PXL_GD12_SUN_OFF\n",
              "</pre>\n"
            ],
            "text/plain": [
              "PXL_GD12_SUN_OFF\n"
            ]
          },
          "metadata": {},
          "output_type": "display_data"
        },
        {
          "data": {
            "text/html": [
              "<pre style=\"white-space:pre;overflow-x:auto;line-height:normal;font-family:Menlo,'DejaVu Sans Mono',consolas,'Courier New',monospace\">PXL_VP17_FRI_OFF\n",
              "</pre>\n"
            ],
            "text/plain": [
              "PXL_VP17_FRI_OFF\n"
            ]
          },
          "metadata": {},
          "output_type": "display_data"
        },
        {
          "data": {
            "text/html": [
              "<pre style=\"white-space:pre;overflow-x:auto;line-height:normal;font-family:Menlo,'DejaVu Sans Mono',consolas,'Courier New',monospace\">PXL_CK11_SAT_OFF\n",
              "</pre>\n"
            ],
            "text/plain": [
              "PXL_CK11_SAT_OFF\n"
            ]
          },
          "metadata": {},
          "output_type": "display_data"
        },
        {
          "data": {
            "text/html": [
              "<pre style=\"white-space:pre;overflow-x:auto;line-height:normal;font-family:Menlo,'DejaVu Sans Mono',consolas,'Courier New',monospace\">PXL_GD11_SAT_OFF (PRIVATE)\n",
              "</pre>\n"
            ],
            "text/plain": [
              "PXL_GD11_SAT_OFF (PRIVATE)\n"
            ]
          },
          "metadata": {},
          "output_type": "display_data"
        },
        {
          "data": {
            "text/html": [
              "<pre style=\"white-space:pre;overflow-x:auto;line-height:normal;font-family:Menlo,'DejaVu Sans Mono',consolas,'Courier New',monospace\">PXL_GD10_SUN_OFF\n",
              "</pre>\n"
            ],
            "text/plain": [
              "PXL_GD10_SUN_OFF\n"
            ]
          },
          "metadata": {},
          "output_type": "display_data"
        },
        {
          "data": {
            "text/html": [
              "<pre style=\"white-space:pre;overflow-x:auto;line-height:normal;font-family:Menlo,'DejaVu Sans Mono',consolas,'Courier New',monospace\">PXL_VP16_TUE_OFF\n",
              "</pre>\n"
            ],
            "text/plain": [
              "PXL_VP16_TUE_OFF\n"
            ]
          },
          "metadata": {},
          "output_type": "display_data"
        },
        {
          "data": {
            "text/html": [
              "<pre style=\"white-space:pre;overflow-x:auto;line-height:normal;font-family:Menlo,'DejaVu Sans Mono',consolas,'Courier New',monospace\">PXL_VP14_MON_OFF\n",
              "</pre>\n"
            ],
            "text/plain": [
              "PXL_VP14_MON_OFF\n"
            ]
          },
          "metadata": {},
          "output_type": "display_data"
        },
        {
          "data": {
            "text/html": [
              "<pre style=\"white-space:pre;overflow-x:auto;line-height:normal;font-family:Menlo,'DejaVu Sans Mono',consolas,'Courier New',monospace\">PXL_GD9_MON_OFF\n",
              "</pre>\n"
            ],
            "text/plain": [
              "PXL_GD9_MON_OFF\n"
            ]
          },
          "metadata": {},
          "output_type": "display_data"
        },
        {
          "data": {
            "text/html": [
              "<pre style=\"white-space:pre;overflow-x:auto;line-height:normal;font-family:Menlo,'DejaVu Sans Mono',consolas,'Courier New',monospace\">PXL_WDY1.3_MON_OFF\n",
              "</pre>\n"
            ],
            "text/plain": [
              "PXL_WDY1.3_MON_OFF\n"
            ]
          },
          "metadata": {},
          "output_type": "display_data"
        },
        {
          "data": {
            "text/html": [
              "<pre style=\"white-space:pre;overflow-x:auto;line-height:normal;font-family:Menlo,'DejaVu Sans Mono',consolas,'Courier New',monospace\">PXL_VP13_MON_OFF\n",
              "</pre>\n"
            ],
            "text/plain": [
              "PXL_VP13_MON_OFF\n"
            ]
          },
          "metadata": {},
          "output_type": "display_data"
        },
        {
          "data": {
            "text/html": [
              "<pre style=\"white-space:pre;overflow-x:auto;line-height:normal;font-family:Menlo,'DejaVu Sans Mono',consolas,'Courier New',monospace\">PXL_WDY1.2_SAT_OFF\n",
              "</pre>\n"
            ],
            "text/plain": [
              "PXL_WDY1.2_SAT_OFF\n"
            ]
          },
          "metadata": {},
          "output_type": "display_data"
        },
        {
          "data": {
            "text/html": [
              "<pre style=\"white-space:pre;overflow-x:auto;line-height:normal;font-family:Menlo,'DejaVu Sans Mono',consolas,'Courier New',monospace\">PXL_VP12_MON_OFF\n",
              "</pre>\n"
            ],
            "text/plain": [
              "PXL_VP12_MON_OFF\n"
            ]
          },
          "metadata": {},
          "output_type": "display_data"
        },
        {
          "data": {
            "text/html": [
              "<pre style=\"white-space:pre;overflow-x:auto;line-height:normal;font-family:Menlo,'DejaVu Sans Mono',consolas,'Courier New',monospace\">PXL_GD8_SUN_OFF\n",
              "</pre>\n"
            ],
            "text/plain": [
              "PXL_GD8_SUN_OFF\n"
            ]
          },
          "metadata": {},
          "output_type": "display_data"
        },
        {
          "data": {
            "text/html": [
              "<pre style=\"white-space:pre;overflow-x:auto;line-height:normal;font-family:Menlo,'DejaVu Sans Mono',consolas,'Courier New',monospace\">PXL_CK9_SUN_OFF\n",
              "</pre>\n"
            ],
            "text/plain": [
              "PXL_CK9_SUN_OFF\n"
            ]
          },
          "metadata": {},
          "output_type": "display_data"
        },
        {
          "data": {
            "text/html": [
              "<pre style=\"white-space:pre;overflow-x:auto;line-height:normal;font-family:Menlo,'DejaVu Sans Mono',consolas,'Courier New',monospace\">PXL_CK8_SAT_OFF\n",
              "</pre>\n"
            ],
            "text/plain": [
              "PXL_CK8_SAT_OFF\n"
            ]
          },
          "metadata": {},
          "output_type": "display_data"
        },
        {
          "data": {
            "text/html": [
              "<pre style=\"white-space:pre;overflow-x:auto;line-height:normal;font-family:Menlo,'DejaVu Sans Mono',consolas,'Courier New',monospace\">PXL_VP11_SAT_OFF\n",
              "</pre>\n"
            ],
            "text/plain": [
              "PXL_VP11_SAT_OFF\n"
            ]
          },
          "metadata": {},
          "output_type": "display_data"
        },
        {
          "data": {
            "text/html": [
              "<pre style=\"white-space:pre;overflow-x:auto;line-height:normal;font-family:Menlo,'DejaVu Sans Mono',consolas,'Courier New',monospace\"></pre>\n"
            ],
            "text/plain": []
          },
          "metadata": {},
          "output_type": "display_data"
        },
        {
          "data": {
            "text/html": [
              "<pre style=\"white-space:pre;overflow-x:auto;line-height:normal;font-family:Menlo,'DejaVu Sans Mono',consolas,'Courier New',monospace\">\n",
              "</pre>\n"
            ],
            "text/plain": [
              "\n"
            ]
          },
          "metadata": {},
          "output_type": "display_data"
        },
        {
          "name": "stdout",
          "output_type": "stream",
          "text": [
            "PXL has 58 groups  \n"
          ]
        },
        {
          "data": {
            "application/vnd.jupyter.widget-view+json": {
              "model_id": "e7722affcf414e6bad9c22ab8d6517fe",
              "version_major": 2,
              "version_minor": 0
            },
            "text/plain": [
              "Output()"
            ]
          },
          "metadata": {},
          "output_type": "display_data"
        },
        {
          "data": {
            "text/html": [
              "<pre style=\"white-space:pre;overflow-x:auto;line-height:normal;font-family:Menlo,'DejaVu Sans Mono',consolas,'Courier New',monospace\">Non\n",
              "</pre>\n"
            ],
            "text/plain": [
              "Non\n"
            ]
          },
          "metadata": {},
          "output_type": "display_data"
        },
        {
          "name": "stdout",
          "output_type": "stream",
          "text": [
            "55\n"
          ]
        },
        {
          "data": {
            "text/html": [
              "<pre style=\"white-space:pre;overflow-x:auto;line-height:normal;font-family:Menlo,'DejaVu Sans Mono',consolas,'Courier New',monospace\">Non LMS Error\n",
              "</pre>\n"
            ],
            "text/plain": [
              "Non LMS Error\n"
            ]
          },
          "metadata": {},
          "output_type": "display_data"
        },
        {
          "data": {
            "text/html": [
              "<pre style=\"white-space:pre;overflow-x:auto;line-height:normal;font-family:Menlo,'DejaVu Sans Mono',consolas,'Courier New',monospace\">Non CPR Error\n",
              "</pre>\n"
            ],
            "text/plain": [
              "Non CPR Error\n"
            ]
          },
          "metadata": {},
          "output_type": "display_data"
        },
        {
          "data": {
            "text/html": [
              "<pre style=\"white-space:pre;overflow-x:auto;line-height:normal;font-family:Menlo,'DejaVu Sans Mono',consolas,'Courier New',monospace\">VCP_PTSY1.18_SAT_OFF\n",
              "</pre>\n"
            ],
            "text/plain": [
              "VCP_PTSY1.18_SAT_OFF\n"
            ]
          },
          "metadata": {},
          "output_type": "display_data"
        },
        {
          "data": {
            "text/html": [
              "<pre style=\"white-space:pre;overflow-x:auto;line-height:normal;font-family:Menlo,'DejaVu Sans Mono',consolas,'Courier New',monospace\">VCP_GD30_SUN_OFF\n",
              "</pre>\n"
            ],
            "text/plain": [
              "VCP_GD30_SUN_OFF\n"
            ]
          },
          "metadata": {},
          "output_type": "display_data"
        },
        {
          "data": {
            "text/html": [
              "<pre style=\"white-space:pre;overflow-x:auto;line-height:normal;font-family:Menlo,'DejaVu Sans Mono',consolas,'Courier New',monospace\">VCP_WDY1.9_MON_OFF\n",
              "</pre>\n"
            ],
            "text/plain": [
              "VCP_WDY1.9_MON_OFF\n"
            ]
          },
          "metadata": {},
          "output_type": "display_data"
        },
        {
          "data": {
            "text/html": [
              "<pre style=\"white-space:pre;overflow-x:auto;line-height:normal;font-family:Menlo,'DejaVu Sans Mono',consolas,'Courier New',monospace\">VCP_PTSY1.17_WED_ONL\n",
              "</pre>\n"
            ],
            "text/plain": [
              "VCP_PTSY1.17_WED_ONL\n"
            ]
          },
          "metadata": {},
          "output_type": "display_data"
        },
        {
          "data": {
            "text/html": [
              "<pre style=\"white-space:pre;overflow-x:auto;line-height:normal;font-family:Menlo,'DejaVu Sans Mono',consolas,'Courier New',monospace\">VCP_PTSY2.10_FRI_OFF\n",
              "</pre>\n"
            ],
            "text/plain": [
              "VCP_PTSY2.10_FRI_OFF\n"
            ]
          },
          "metadata": {},
          "output_type": "display_data"
        },
        {
          "data": {
            "text/html": [
              "<pre style=\"white-space:pre;overflow-x:auto;line-height:normal;font-family:Menlo,'DejaVu Sans Mono',consolas,'Courier New',monospace\">VCP_PTSY2.9_SUN_OFF\n",
              "</pre>\n"
            ],
            "text/plain": [
              "VCP_PTSY2.9_SUN_OFF\n"
            ]
          },
          "metadata": {},
          "output_type": "display_data"
        },
        {
          "data": {
            "text/html": [
              "<pre style=\"white-space:pre;overflow-x:auto;line-height:normal;font-family:Menlo,'DejaVu Sans Mono',consolas,'Courier New',monospace\">VCP_PTPY2.3_THU_OFF\n",
              "</pre>\n"
            ],
            "text/plain": [
              "VCP_PTPY2.3_THU_OFF\n"
            ]
          },
          "metadata": {},
          "output_type": "display_data"
        },
        {
          "data": {
            "text/html": [
              "<pre style=\"white-space:pre;overflow-x:auto;line-height:normal;font-family:Menlo,'DejaVu Sans Mono',consolas,'Courier New',monospace\">VCP_PTSY2.8_SAT_OFF\n",
              "</pre>\n"
            ],
            "text/plain": [
              "VCP_PTSY2.8_SAT_OFF\n"
            ]
          },
          "metadata": {},
          "output_type": "display_data"
        },
        {
          "data": {
            "text/html": [
              "<pre style=\"white-space:pre;overflow-x:auto;line-height:normal;font-family:Menlo,'DejaVu Sans Mono',consolas,'Courier New',monospace\">VCP_DL6_TUE_OFF\n",
              "</pre>\n"
            ],
            "text/plain": [
              "VCP_DL6_TUE_OFF\n"
            ]
          },
          "metadata": {},
          "output_type": "display_data"
        },
        {
          "data": {
            "text/html": [
              "<pre style=\"white-space:pre;overflow-x:auto;line-height:normal;font-family:Menlo,'DejaVu Sans Mono',consolas,'Courier New',monospace\">VCP_PTSY1.16_MON_OFF\n",
              "</pre>\n"
            ],
            "text/plain": [
              "VCP_PTSY1.16_MON_OFF\n"
            ]
          },
          "metadata": {},
          "output_type": "display_data"
        },
        {
          "data": {
            "text/html": [
              "<pre style=\"white-space:pre;overflow-x:auto;line-height:normal;font-family:Menlo,'DejaVu Sans Mono',consolas,'Courier New',monospace\">VCP_VP26_SAT_OFF\n",
              "</pre>\n"
            ],
            "text/plain": [
              "VCP_VP26_SAT_OFF\n"
            ]
          },
          "metadata": {},
          "output_type": "display_data"
        },
        {
          "data": {
            "text/html": [
              "<pre style=\"white-space:pre;overflow-x:auto;line-height:normal;font-family:Menlo,'DejaVu Sans Mono',consolas,'Courier New',monospace\">VCP_GD29_FRI_OFF\n",
              "</pre>\n"
            ],
            "text/plain": [
              "VCP_GD29_FRI_OFF\n"
            ]
          },
          "metadata": {},
          "output_type": "display_data"
        },
        {
          "data": {
            "text/html": [
              "<pre style=\"white-space:pre;overflow-x:auto;line-height:normal;font-family:Menlo,'DejaVu Sans Mono',consolas,'Courier New',monospace\">VCP_WDY2.3_WED_OFF\n",
              "</pre>\n"
            ],
            "text/plain": [
              "VCP_WDY2.3_WED_OFF\n"
            ]
          },
          "metadata": {},
          "output_type": "display_data"
        },
        {
          "data": {
            "text/html": [
              "<pre style=\"white-space:pre;overflow-x:auto;line-height:normal;font-family:Menlo,'DejaVu Sans Mono',consolas,'Courier New',monospace\">VCP_GD28_TUE_OFF\n",
              "</pre>\n"
            ],
            "text/plain": [
              "VCP_GD28_TUE_OFF\n"
            ]
          },
          "metadata": {},
          "output_type": "display_data"
        },
        {
          "data": {
            "text/html": [
              "<pre style=\"white-space:pre;overflow-x:auto;line-height:normal;font-family:Menlo,'DejaVu Sans Mono',consolas,'Courier New',monospace\">VCP_PTPY1.5_SAT_OFF\n",
              "</pre>\n"
            ],
            "text/plain": [
              "VCP_PTPY1.5_SAT_OFF\n"
            ]
          },
          "metadata": {},
          "output_type": "display_data"
        },
        {
          "data": {
            "text/html": [
              "<pre style=\"white-space:pre;overflow-x:auto;line-height:normal;font-family:Menlo,'DejaVu Sans Mono',consolas,'Courier New',monospace\">VCP_PTPY2.2_SAT_OFF\n",
              "</pre>\n"
            ],
            "text/plain": [
              "VCP_PTPY2.2_SAT_OFF\n"
            ]
          },
          "metadata": {},
          "output_type": "display_data"
        },
        {
          "data": {
            "text/html": [
              "<pre style=\"white-space:pre;overflow-x:auto;line-height:normal;font-family:Menlo,'DejaVu Sans Mono',consolas,'Courier New',monospace\">VCP_PTPY1.4_SUN_ONL\n",
              "</pre>\n"
            ],
            "text/plain": [
              "VCP_PTPY1.4_SUN_ONL\n"
            ]
          },
          "metadata": {},
          "output_type": "display_data"
        },
        {
          "data": {
            "text/html": [
              "<pre style=\"white-space:pre;overflow-x:auto;line-height:normal;font-family:Menlo,'DejaVu Sans Mono',consolas,'Courier New',monospace\">VCP_WDY1.7_TUE_OFF\n",
              "</pre>\n"
            ],
            "text/plain": [
              "VCP_WDY1.7_TUE_OFF\n"
            ]
          },
          "metadata": {},
          "output_type": "display_data"
        },
        {
          "data": {
            "text/html": [
              "<pre style=\"white-space:pre;overflow-x:auto;line-height:normal;font-family:Menlo,'DejaVu Sans Mono',consolas,'Courier New',monospace\">VCP_VP25_SUN_OFF\n",
              "</pre>\n"
            ],
            "text/plain": [
              "VCP_VP25_SUN_OFF\n"
            ]
          },
          "metadata": {},
          "output_type": "display_data"
        },
        {
          "data": {
            "text/html": [
              "<pre style=\"white-space:pre;overflow-x:auto;line-height:normal;font-family:Menlo,'DejaVu Sans Mono',consolas,'Courier New',monospace\">VCP_VP24_SAT_OFF\n",
              "</pre>\n"
            ],
            "text/plain": [
              "VCP_VP24_SAT_OFF\n"
            ]
          },
          "metadata": {},
          "output_type": "display_data"
        },
        {
          "data": {
            "text/html": [
              "<pre style=\"white-space:pre;overflow-x:auto;line-height:normal;font-family:Menlo,'DejaVu Sans Mono',consolas,'Courier New',monospace\">VCP_GD27_SUN_OFF\n",
              "</pre>\n"
            ],
            "text/plain": [
              "VCP_GD27_SUN_OFF\n"
            ]
          },
          "metadata": {},
          "output_type": "display_data"
        },
        {
          "data": {
            "text/html": [
              "<pre style=\"white-space:pre;overflow-x:auto;line-height:normal;font-family:Menlo,'DejaVu Sans Mono',consolas,'Courier New',monospace\">VCP_WDY1.6_SUN_OFF\n",
              "</pre>\n"
            ],
            "text/plain": [
              "VCP_WDY1.6_SUN_OFF\n"
            ]
          },
          "metadata": {},
          "output_type": "display_data"
        },
        {
          "data": {
            "text/html": [
              "<pre style=\"white-space:pre;overflow-x:auto;line-height:normal;font-family:Menlo,'DejaVu Sans Mono',consolas,'Courier New',monospace\">VCP_CK14_SAT_OFF\n",
              "</pre>\n"
            ],
            "text/plain": [
              "VCP_CK14_SAT_OFF\n"
            ]
          },
          "metadata": {},
          "output_type": "display_data"
        },
        {
          "data": {
            "text/html": [
              "<pre style=\"white-space:pre;overflow-x:auto;line-height:normal;font-family:Menlo,'DejaVu Sans Mono',consolas,'Courier New',monospace\">VCP_GD26_MON_OFF\n",
              "</pre>\n"
            ],
            "text/plain": [
              "VCP_GD26_MON_OFF\n"
            ]
          },
          "metadata": {},
          "output_type": "display_data"
        },
        {
          "data": {
            "text/html": [
              "<pre style=\"white-space:pre;overflow-x:auto;line-height:normal;font-family:Menlo,'DejaVu Sans Mono',consolas,'Courier New',monospace\">VCP_WDY2.2_FRI_ONL\n",
              "</pre>\n"
            ],
            "text/plain": [
              "VCP_WDY2.2_FRI_ONL\n"
            ]
          },
          "metadata": {},
          "output_type": "display_data"
        },
        {
          "data": {
            "text/html": [
              "<pre style=\"white-space:pre;overflow-x:auto;line-height:normal;font-family:Menlo,'DejaVu Sans Mono',consolas,'Courier New',monospace\">VCP_WDY1.5_TUE_ONL\n",
              "</pre>\n"
            ],
            "text/plain": [
              "VCP_WDY1.5_TUE_ONL\n"
            ]
          },
          "metadata": {},
          "output_type": "display_data"
        },
        {
          "data": {
            "text/html": [
              "<pre style=\"white-space:pre;overflow-x:auto;line-height:normal;font-family:Menlo,'DejaVu Sans Mono',consolas,'Courier New',monospace\">VCP_GD25_THU_OFF\n",
              "</pre>\n"
            ],
            "text/plain": [
              "VCP_GD25_THU_OFF\n"
            ]
          },
          "metadata": {},
          "output_type": "display_data"
        },
        {
          "data": {
            "text/html": [
              "<pre style=\"white-space:pre;overflow-x:auto;line-height:normal;font-family:Menlo,'DejaVu Sans Mono',consolas,'Courier New',monospace\">VCP_PTPY2.1_SAT_OFF\n",
              "</pre>\n"
            ],
            "text/plain": [
              "VCP_PTPY2.1_SAT_OFF\n"
            ]
          },
          "metadata": {},
          "output_type": "display_data"
        },
        {
          "data": {
            "text/html": [
              "<pre style=\"white-space:pre;overflow-x:auto;line-height:normal;font-family:Menlo,'DejaVu Sans Mono',consolas,'Courier New',monospace\">VCP_PTSY2.7_SUN_OFF\n",
              "</pre>\n"
            ],
            "text/plain": [
              "VCP_PTSY2.7_SUN_OFF\n"
            ]
          },
          "metadata": {},
          "output_type": "display_data"
        },
        {
          "data": {
            "text/html": [
              "<pre style=\"white-space:pre;overflow-x:auto;line-height:normal;font-family:Menlo,'DejaVu Sans Mono',consolas,'Courier New',monospace\">VCP_WDY2.1_SAT_OFF\n",
              "</pre>\n"
            ],
            "text/plain": [
              "VCP_WDY2.1_SAT_OFF\n"
            ]
          },
          "metadata": {},
          "output_type": "display_data"
        },
        {
          "data": {
            "text/html": [
              "<pre style=\"white-space:pre;overflow-x:auto;line-height:normal;font-family:Menlo,'DejaVu Sans Mono',consolas,'Courier New',monospace\">VCP_GD24_THU_OFF\n",
              "</pre>\n"
            ],
            "text/plain": [
              "VCP_GD24_THU_OFF\n"
            ]
          },
          "metadata": {},
          "output_type": "display_data"
        },
        {
          "data": {
            "text/html": [
              "<pre style=\"white-space:pre;overflow-x:auto;line-height:normal;font-family:Menlo,'DejaVu Sans Mono',consolas,'Courier New',monospace\">VCP_GD23_WED_ONL\n",
              "</pre>\n"
            ],
            "text/plain": [
              "VCP_GD23_WED_ONL\n"
            ]
          },
          "metadata": {},
          "output_type": "display_data"
        },
        {
          "data": {
            "text/html": [
              "<pre style=\"white-space:pre;overflow-x:auto;line-height:normal;font-family:Menlo,'DejaVu Sans Mono',consolas,'Courier New',monospace\">VCP_GD22_SUN_OFF\n",
              "</pre>\n"
            ],
            "text/plain": [
              "VCP_GD22_SUN_OFF\n"
            ]
          },
          "metadata": {},
          "output_type": "display_data"
        },
        {
          "data": {
            "text/html": [
              "<pre style=\"white-space:pre;overflow-x:auto;line-height:normal;font-family:Menlo,'DejaVu Sans Mono',consolas,'Courier New',monospace\">VCP_VP22_SUN_OFF\n",
              "</pre>\n"
            ],
            "text/plain": [
              "VCP_VP22_SUN_OFF\n"
            ]
          },
          "metadata": {},
          "output_type": "display_data"
        },
        {
          "data": {
            "text/html": [
              "<pre style=\"white-space:pre;overflow-x:auto;line-height:normal;font-family:Menlo,'DejaVu Sans Mono',consolas,'Courier New',monospace\">VCP_CK13_SUN_OFF\n",
              "</pre>\n"
            ],
            "text/plain": [
              "VCP_CK13_SUN_OFF\n"
            ]
          },
          "metadata": {},
          "output_type": "display_data"
        },
        {
          "data": {
            "text/html": [
              "<pre style=\"white-space:pre;overflow-x:auto;line-height:normal;font-family:Menlo,'DejaVu Sans Mono',consolas,'Courier New',monospace\">VCP_GD21_SAT_OFF\n",
              "</pre>\n"
            ],
            "text/plain": [
              "VCP_GD21_SAT_OFF\n"
            ]
          },
          "metadata": {},
          "output_type": "display_data"
        },
        {
          "data": {
            "text/html": [
              "<pre style=\"white-space:pre;overflow-x:auto;line-height:normal;font-family:Menlo,'DejaVu Sans Mono',consolas,'Courier New',monospace\">VCP_GD20_SAT_OFF\n",
              "</pre>\n"
            ],
            "text/plain": [
              "VCP_GD20_SAT_OFF\n"
            ]
          },
          "metadata": {},
          "output_type": "display_data"
        },
        {
          "data": {
            "text/html": [
              "<pre style=\"white-space:pre;overflow-x:auto;line-height:normal;font-family:Menlo,'DejaVu Sans Mono',consolas,'Courier New',monospace\">VCP_VP21_SUN_OFF\n",
              "</pre>\n"
            ],
            "text/plain": [
              "VCP_VP21_SUN_OFF\n"
            ]
          },
          "metadata": {},
          "output_type": "display_data"
        },
        {
          "data": {
            "text/html": [
              "<pre style=\"white-space:pre;overflow-x:auto;line-height:normal;font-family:Menlo,'DejaVu Sans Mono',consolas,'Courier New',monospace\">VCP_PTSY1.15_SUN_OFF\n",
              "</pre>\n"
            ],
            "text/plain": [
              "VCP_PTSY1.15_SUN_OFF\n"
            ]
          },
          "metadata": {},
          "output_type": "display_data"
        },
        {
          "data": {
            "text/html": [
              "<pre style=\"white-space:pre;overflow-x:auto;line-height:normal;font-family:Menlo,'DejaVu Sans Mono',consolas,'Courier New',monospace\">VCP_DL5_SAT_OFF\n",
              "</pre>\n"
            ],
            "text/plain": [
              "VCP_DL5_SAT_OFF\n"
            ]
          },
          "metadata": {},
          "output_type": "display_data"
        },
        {
          "data": {
            "text/html": [
              "<pre style=\"white-space:pre;overflow-x:auto;line-height:normal;font-family:Menlo,'DejaVu Sans Mono',consolas,'Courier New',monospace\">VCP_GD19_TUE_OFF\n",
              "</pre>\n"
            ],
            "text/plain": [
              "VCP_GD19_TUE_OFF\n"
            ]
          },
          "metadata": {},
          "output_type": "display_data"
        },
        {
          "data": {
            "text/html": [
              "<pre style=\"white-space:pre;overflow-x:auto;line-height:normal;font-family:Menlo,'DejaVu Sans Mono',consolas,'Courier New',monospace\">VCP_PTSY1.14_TUE_OFF\n",
              "</pre>\n"
            ],
            "text/plain": [
              "VCP_PTSY1.14_TUE_OFF\n"
            ]
          },
          "metadata": {},
          "output_type": "display_data"
        },
        {
          "data": {
            "text/html": [
              "<pre style=\"white-space:pre;overflow-x:auto;line-height:normal;font-family:Menlo,'DejaVu Sans Mono',consolas,'Courier New',monospace\">VCP_GD18_SAT_OFF\n",
              "</pre>\n"
            ],
            "text/plain": [
              "VCP_GD18_SAT_OFF\n"
            ]
          },
          "metadata": {},
          "output_type": "display_data"
        },
        {
          "data": {
            "text/html": [
              "<pre style=\"white-space:pre;overflow-x:auto;line-height:normal;font-family:Menlo,'DejaVu Sans Mono',consolas,'Courier New',monospace\">VCP_PTSY2.6_SAT_OFF\n",
              "</pre>\n"
            ],
            "text/plain": [
              "VCP_PTSY2.6_SAT_OFF\n"
            ]
          },
          "metadata": {},
          "output_type": "display_data"
        },
        {
          "data": {
            "text/html": [
              "<pre style=\"white-space:pre;overflow-x:auto;line-height:normal;font-family:Menlo,'DejaVu Sans Mono',consolas,'Courier New',monospace\">VCP_VP20_SUN_OFF\n",
              "</pre>\n"
            ],
            "text/plain": [
              "VCP_VP20_SUN_OFF\n"
            ]
          },
          "metadata": {},
          "output_type": "display_data"
        },
        {
          "data": {
            "text/html": [
              "<pre style=\"white-space:pre;overflow-x:auto;line-height:normal;font-family:Menlo,'DejaVu Sans Mono',consolas,'Courier New',monospace\">VCP_PTSY1.13_MON_ONL\n",
              "</pre>\n"
            ],
            "text/plain": [
              "VCP_PTSY1.13_MON_ONL\n"
            ]
          },
          "metadata": {},
          "output_type": "display_data"
        },
        {
          "data": {
            "text/html": [
              "<pre style=\"white-space:pre;overflow-x:auto;line-height:normal;font-family:Menlo,'DejaVu Sans Mono',consolas,'Courier New',monospace\">VCP_PTSY1.12_WED_OFF\n",
              "</pre>\n"
            ],
            "text/plain": [
              "VCP_PTSY1.12_WED_OFF\n"
            ]
          },
          "metadata": {},
          "output_type": "display_data"
        },
        {
          "data": {
            "text/html": [
              "<pre style=\"white-space:pre;overflow-x:auto;line-height:normal;font-family:Menlo,'DejaVu Sans Mono',consolas,'Courier New',monospace\">VCP_VP19_THU_OFF\n",
              "</pre>\n"
            ],
            "text/plain": [
              "VCP_VP19_THU_OFF\n"
            ]
          },
          "metadata": {},
          "output_type": "display_data"
        },
        {
          "data": {
            "text/html": [
              "<pre style=\"white-space:pre;overflow-x:auto;line-height:normal;font-family:Menlo,'DejaVu Sans Mono',consolas,'Courier New',monospace\">VCP_UGD1_SAT_OFF\n",
              "</pre>\n"
            ],
            "text/plain": [
              "VCP_UGD1_SAT_OFF\n"
            ]
          },
          "metadata": {},
          "output_type": "display_data"
        },
        {
          "data": {
            "text/html": [
              "<pre style=\"white-space:pre;overflow-x:auto;line-height:normal;font-family:Menlo,'DejaVu Sans Mono',consolas,'Courier New',monospace\">VCP_GD17_FRI_OFF\n",
              "</pre>\n"
            ],
            "text/plain": [
              "VCP_GD17_FRI_OFF\n"
            ]
          },
          "metadata": {},
          "output_type": "display_data"
        },
        {
          "data": {
            "text/html": [
              "<pre style=\"white-space:pre;overflow-x:auto;line-height:normal;font-family:Menlo,'DejaVu Sans Mono',consolas,'Courier New',monospace\">VCP_PTSY1.11_THU_ONL\n",
              "</pre>\n"
            ],
            "text/plain": [
              "VCP_PTSY1.11_THU_ONL\n"
            ]
          },
          "metadata": {},
          "output_type": "display_data"
        },
        {
          "data": {
            "text/html": [
              "<pre style=\"white-space:pre;overflow-x:auto;line-height:normal;font-family:Menlo,'DejaVu Sans Mono',consolas,'Courier New',monospace\">VCP_GD16_WED_OFF\n",
              "</pre>\n"
            ],
            "text/plain": [
              "VCP_GD16_WED_OFF\n"
            ]
          },
          "metadata": {},
          "output_type": "display_data"
        },
        {
          "data": {
            "text/html": [
              "<pre style=\"white-space:pre;overflow-x:auto;line-height:normal;font-family:Menlo,'DejaVu Sans Mono',consolas,'Courier New',monospace\">VCP_GD15_FRI_ONL\n",
              "</pre>\n"
            ],
            "text/plain": [
              "VCP_GD15_FRI_ONL\n"
            ]
          },
          "metadata": {},
          "output_type": "display_data"
        },
        {
          "data": {
            "text/html": [
              "<pre style=\"white-space:pre;overflow-x:auto;line-height:normal;font-family:Menlo,'DejaVu Sans Mono',consolas,'Courier New',monospace\">VCP_DL4_SUN_OFF\n",
              "</pre>\n"
            ],
            "text/plain": [
              "VCP_DL4_SUN_OFF\n"
            ]
          },
          "metadata": {},
          "output_type": "display_data"
        },
        {
          "data": {
            "text/html": [
              "<pre style=\"white-space:pre;overflow-x:auto;line-height:normal;font-family:Menlo,'DejaVu Sans Mono',consolas,'Courier New',monospace\"></pre>\n"
            ],
            "text/plain": []
          },
          "metadata": {},
          "output_type": "display_data"
        },
        {
          "data": {
            "text/html": [
              "<pre style=\"white-space:pre;overflow-x:auto;line-height:normal;font-family:Menlo,'DejaVu Sans Mono',consolas,'Courier New',monospace\">\n",
              "</pre>\n"
            ],
            "text/plain": [
              "\n"
            ]
          },
          "metadata": {},
          "output_type": "display_data"
        },
        {
          "name": "stdout",
          "output_type": "stream",
          "text": [
            "VCP has 54 groups  \n",
            "Done\n"
          ]
        }
      ],
      "source": [
        "def get_data(percentages):\n",
        "  # bases = [\"VCP\"]\n",
        "  feedback_need = {}\n",
        "  global nlb_groups, nvh_groups, pxl_groups, vcp_groups\n",
        "  wday = ''\n",
        "  name_PT = ''\n",
        "  for base in bases:\n",
        "      new_start_time = time.time()\n",
        "      para = f'GroupSearch%5Bid%5D=&GroupSearch%5Btitle%5D={base}&GroupSearch%5Bvenue%5D=&GroupSearch%5Bactive_student_count%5D=&GroupSearch%5BnextLessonTime%5D=&GroupSearch%5BnextLessonNumber%5D=&GroupSearch%5BnextLessonTitle%5D=&GroupSearch%5Bteacher%5D=&GroupSearch%5Bcurator%5D=&GroupSearch%5Btype%5D=&GroupSearch%5Btype%5D%5B%5D=regular&GroupSearch%5Btype%5D%5B%5D=intensive&GroupSearch%5Bstatus%5D=&GroupSearch%5BcourseContentType%5D=&GroupSearch%5BcourseContentType%5D%5B%5D=course&GroupSearch%5BcourseContentType%5D%5B%5D=intensive&GroupSearch%5BcourseStartTime%5D={date_start}+-+{date_now}&GroupSearch%5BcourseEndTime%5D={date_now}+-+{date_end}&presetType=active&export=true&name=default&exportType=html'\n",
        "      header = {\n",
        "          \"accept\": \"text/html,application/xhtml+xml,application/xml;q=0.9,image/avif,image/webp,image/apng,*/*;q=0.8,application/signed-exchange;v=b3;q=0.7\",\n",
        "          \"accept-language\": \"en-US,en;q=0.9,vi-VN;q=0.8,vi;q=0.7\",\n",
        "          \"cache-control\": \"max-age=0\",\n",
        "          \"sec-ch-ua\": \"\\\"Chromium\\\";v=\\\"116\\\", \\\"Not)A;Brand\\\";v=\\\"24\\\", \\\"Google Chrome\\\";v=\\\"116\\\"\",\n",
        "          \"sec-ch-ua-mobile\": \"?0\",\n",
        "          \"sec-ch-ua-platform\": \"\\\"Windows\\\"\",\n",
        "          \"sec-fetch-dest\": \"document\",\n",
        "          \"sec-fetch-mode\": \"navigate\",\n",
        "          \"sec-fetch-site\": \"same-origin\",\n",
        "          \"sec-fetch-user\": \"?1\",\n",
        "          \"upgrade-insecure-requests\": \"1\",\n",
        "          \"cookie\": \"_ym_uid=1664966280852805697; intercom-device-id-ufjpx6k3=fd3080c1-5a63-4af6-bd1f-15268d549a7e; userId=30454; _grid_page_size_schedule=35d0980fa38e2255112d0c62698773cab8aa12a81c6735caf172064b5eb6ea47a%3A2%3A%7Bi%3A0%3Bs%3A24%3A%22_grid_page_size_schedule%22%3Bi%3A1%3Bs%3A3%3A%22200%22%3B%7D; _grid_page_size=d3ebbdf9ec9235bfc4ba59572a6d3dd403a563222be148e9c705e91612194e49a%3A2%3A%7Bi%3A0%3Bs%3A15%3A%22_grid_page_size%22%3Bi%3A1%3Bs%3A3%3A%22200%22%3B%7D; _ym_d=1680775536; studentId=1700942; studentAccessToken=59839bd5ef574b15cd869fa67e04fcdf4a97e278085dee7a21dfeb1f5a33cd62; studentCreatedTimestamp=1693481460; previousPage=%2F; createdTimestamp=1693978386; accessToken=6f7fa0398bac5ce10b0d85e00fc01725eae9b60c7188cfc1963c98ed73504e82; SERVERID=b440; _backendMainSessionId=81389387a907ff2840bad3c150bb2e76; _gid=GA1.2.1044467574.1693978385; _ym_isad=2; _ym_visorc=w; _ga=GA1.2.1620969847.1664966279; _ga_3QSGZBLTE3=GS1.1.1693978384.233.1.1693978511.59.0.0; _ga_4CL98HXNQK=GS1.1.1693978385.60.1.1693978530.0.0.0\",\n",
        "          \"Referer\": f\"{DOMAINS}GroupSearch%5Bid%5D=&GroupSearch%5Btitle%5D={base}&GroupSearch%5Bvenue%5D=&GroupSearch%5Bactive_student_count%5D=&GroupSearch%5BnextLessonTime%5D=&GroupSearch%5BnextLessonNumber%5D=&GroupSearch%5BnextLessonTitle%5D=&GroupSearch%5Bteacher%5D=&GroupSearch%5Bcurator%5D=&GroupSearch%5Btype%5D=&GroupSearch%5Btype%5D%5B%5D=regular&GroupSearch%5Btype%5D%5B%5D=intensive&GroupSearch%5Btype%5D%5B%5D=individual&GroupSearch%5Bstatus%5D=&GroupSearch%5BcourseContentType%5D=&GroupSearch%5BcourseContentType%5D%5B%5D=course&GroupSearch%5BcourseContentType%5D%5B%5D=intensive&GroupSearch%5BcourseStartTime%5D={date_start}%20-%20{date_now}&GroupSearch%5BcourseEndTime%5D={date_now}%20-%20{date_end}&presetType=active\",\n",
        "          \"Referrer-Policy\": \"strict-origin-when-cross-origin\"\n",
        "          }\n",
        "\n",
        "\n",
        "      end_point = DOMAINS + para\n",
        "      res = s.get(end_point, headers = header)\n",
        "      output = res.content.decode('utf-8')\n",
        "\n",
        "      soup = BeautifulSoup(output, 'html.parser', from_encoding='utf-8')\n",
        "      soup.find('tbody')\n",
        "\n",
        "      table_rows = soup.find_all('tr')\n",
        "      groups = []\n",
        "      feedback_need = {}\n",
        "      date_str = ''\n",
        "      print(len(table_rows))\n",
        "      for tr in track(table_rows, description= f\"Processing {base}...\"):\n",
        "          lessons = []\n",
        "          group = []\n",
        "          all_td = tr.find_all('td')\n",
        "          group_id = all_td[0].string\n",
        "          group_name = all_td[1].find('a')\n",
        "          group_name = str(group_name)[str(group_name).find('>')+1:str(group_name).find('</a>')]\n",
        "          teacher_name = all_td[7].find('a')\n",
        "          teacher_name = str(teacher_name)[str(teacher_name).find('>')+1:str(teacher_name).find('</a>')]\n",
        "          for key in date.keys():\n",
        "            if key in group_name:\n",
        "                date_str = key\n",
        "                break\n",
        "          if date_str:\n",
        "            wday = date[date_str]\n",
        "          all_li = all_td[1].find('p')\n",
        "          campus = all_td[2].string\n",
        "          amount_student = all_td[3].string\n",
        "          next_lesson_time = all_td[4].string\n",
        "          next_lesson_time = str(next_lesson_time)\n",
        "          next_lesson_index = all_td[5].string\n",
        "          next_lesson_index = str(next_lesson_index)\n",
        "          next_lesson_name = all_td[6].find('div')\n",
        "          next_lesson_name = str(next_lesson_name)[str(next_lesson_name).find('>')+1:str(next_lesson_name).find('</div>')]   \n",
        "          course_start_date = all_td[12].string\n",
        "          course_end_date = all_td[13].string\n",
        "          all_li = str(all_li)\n",
        "          class_time = next_lesson_time[next_lesson_time.find(\":\")-2:]\n",
        "          url = all_li[all_li.find(\"https\"):all_li.find(\"</p>\")]\n",
        "          start = url.find(\"d/\")\n",
        "          end = url.find(\"/edit\")\n",
        "          id = url[start+2:end]\n",
        "          print(group_name) \n",
        "          try:\n",
        "              result = sheet.values().get(spreadsheetId=id, range='Report!AC3:AC40').execute()\n",
        "              values = result.get('values', [])\n",
        "             \n",
        "              for j in values:\n",
        "                  if j[0] != \"#DIV/0!\":\n",
        "                      score = j[0]\n",
        "                      lessons.append(round(float(score), 2)) \n",
        "                  else:\n",
        "                      lessons.append(j[0])\n",
        "                  \n",
        "              if len(lessons) == 0:\n",
        "                  result = sheet.values().get(spreadsheetId=id, range='Report!AE3:AE40').execute()\n",
        "                  values = result.get('values', [])\n",
        "                  \n",
        "                  for j in values:\n",
        "                      if j[0] != \"#DIV/0!\":\n",
        "                          score = j[0]\n",
        "                          lessons.append(float(score)) \n",
        "                      else:\n",
        "                          lessons.append(j[0])\n",
        "              while len(lessons) < 38:\n",
        "                  lessons.append(\"#DIV/0!\")\n",
        "\n",
        "              if next_lesson_index == \"2\" or next_lesson_index == \"5\" or next_lesson_index == \"9\" or next_lesson_index == \"13\" or next_lesson_index == \"21\" or next_lesson_index == \"25\" or next_lesson_index == \"29\":\n",
        "                  feedback_need[group_name] = [id,int(next_lesson_index)]\n",
        "              \n",
        "              programT_name = sheet.values().get(spreadsheetId=id, range='Report!E6:M6').execute()\n",
        "              values = programT_name.get('values', [])\n",
        "              try:\n",
        "                name_PT = str(values[0][0])\n",
        "              except:\n",
        "                name_PT = \"None\"\n",
        "          except HttpError as err:\n",
        "              print(group_name, \"LMS Error\")\n",
        "              time.sleep(10)\n",
        "          all_li = str(all_li)\n",
        "          \n",
        "          url = all_li[all_li.find(\"https\"):all_li.find(\"</p>\")]\n",
        "          try:\n",
        "            try:\n",
        "              group = [group_id, wday, str(group_name), str(teacher_name), name_PT , class_time, str(url), str(campus), int(amount_student[0]), next_lesson_time, int(next_lesson_index), percentages[str(group_name)][0], next_lesson_name, course_start_date, course_end_date]\n",
        "\n",
        "            except:\n",
        "              group = [group_id, wday, str(group_name), str(teacher_name), name_PT , class_time, str(url), str(campus), int(amount_student[0]), next_lesson_time, int(next_lesson_index), \"TBU\", next_lesson_name, course_start_date, course_end_date]\n",
        "            \n",
        "            group.extend(lessons)\n",
        "            groups.append(group)\n",
        "            \n",
        "          except ValueError as err:\n",
        "            print(group_name, \"CPR Error\")\n",
        "          \n",
        "      time_end = time.time()\n",
        "      resource = {\n",
        "          \"majorDimension\": \"ROWS\",\n",
        "          \"values\": groups\n",
        "      }\n",
        "      cresult = sheet.values().clear(\n",
        "          spreadsheetId=\"1D8uRbAJXBJMcF0e8tXWKe5dRbiv-EW_by-SpNAxZ3qA\",\n",
        "          range=f\"{base}!A2:ZZZ\"\n",
        "        ).execute()\n",
        "      print(f\"{base} has {len(groups)} groups  \")\n",
        "      if base == \"NLB\":\n",
        "        nlb_groups = groups\n",
        "      if base == \"NVH\":\n",
        "        nvh_groups = groups\n",
        "      if base == \"PXL\":\n",
        "        pxl_groups = groups\n",
        "      if base == \"VCP\":\n",
        "        vcp_groups = groups \n",
        "      # 1EzB0-CpBYUe1J8z9jjDEPIBc3tcOwyBJZyPXN6HPZgE for testing\n",
        "      # 1D8uRbAJXBJMcF0e8tXWKe5dRbiv-EW_by-SpNAxZ3qA for real data update\n",
        "\n",
        "      result1 = sheet.values().update(\n",
        "          spreadsheetId= \"1D8uRbAJXBJMcF0e8tXWKe5dRbiv-EW_by-SpNAxZ3qA\",\n",
        "          range= f\"{base}!A2\",\n",
        "          valueInputOption=\"RAW\",\n",
        "          body=resource).execute()\n",
        "  print(\"Done\")\n",
        "  return groups\n",
        "groups = get_data(percentages)"
      ]
    },
    {
      "attachments": {},
      "cell_type": "markdown",
      "metadata": {},
      "source": [
        "get the feedback from teacher use as a data point to train AI NLP model"
      ]
    },
    {
      "cell_type": "code",
      "execution_count": 5,
      "metadata": {},
      "outputs": [
        {
          "name": "stdout",
          "output_type": "stream",
          "text": [
            "[['1138850', 5, 'NVH_WDY2.6_THU_OFF', 'Phan Andrew', 'None', '16:30', 'https://docs.google.com/spreadsheets/d/1YGeuAS3GFtGZKleVcAi3s0APTIN-ORYvf7Bsj7aeah4/edit#gid=1315893701', 'D2 Nguyen Van Huong', 1, '05.10.2023\\xa016:30', 1, '100%', 'Creating websites: Wix. 21/22 M1L1', '05.10.2023 16:30', '09.05.2024 16:30', 5.0, '#DIV/0!', '#DIV/0!', '#DIV/0!', '#DIV/0!', '#DIV/0!', '#DIV/0!', '#DIV/0!', '#DIV/0!', '#DIV/0!', '#DIV/0!', '#DIV/0!', '#DIV/0!', '#DIV/0!', '#DIV/0!', '#DIV/0!', '#DIV/0!', '#DIV/0!', '#DIV/0!', '#DIV/0!', '#DIV/0!', '#DIV/0!', '#DIV/0!', '#DIV/0!', '#DIV/0!', '#DIV/0!', '#DIV/0!', '#DIV/0!', '#DIV/0!', '#DIV/0!', '#DIV/0!', '#DIV/0!', '#DIV/0!', '#DIV/0!', '#DIV/0!', '#DIV/0!', '#DIV/0!', '#DIV/0!'], ['1107193', 5, 'NVH_PTPY2.18_THU_ONL', 'Nguyen Aria', 'None', '18:00', 'https://docs.google.com/spreadsheets/d/1jEFejpyT5cYhex-U6T9xBOCqXnpg7GKBz_VJmfi4M6A/edit?usp=sharing', 'D2 Nguyen Van Huong', 2, '05.10.2023\\xa018:00', 2, '100%', 'Non', '28.09.2023 18:00', '02.05.2024 18:00', '#DIV/0!', '#DIV/0!', '#DIV/0!', '#DIV/0!', 5.0, '#DIV/0!', '#DIV/0!', '#DIV/0!', '#DIV/0!', '#DIV/0!', '#DIV/0!', '#DIV/0!', '#DIV/0!', '#DIV/0!', '#DIV/0!', '#DIV/0!', '#DIV/0!', '#DIV/0!', '#DIV/0!', '#DIV/0!', '#DIV/0!', '#DIV/0!', '#DIV/0!', '#DIV/0!', '#DIV/0!', '#DIV/0!', '#DIV/0!', '#DIV/0!', '#DIV/0!', '#DIV/0!', '#DIV/0!', '#DIV/0!', '#DIV/0!', '#DIV/0!', '#DIV/0!', '#DIV/0!', '#DIV/0!', '#DIV/0!'], ['1084577', 6, 'NVH_VP53_FRI_OFF (PRIVATE)', 'Nguyen Trey (PT)', 'None', '16:00', 'https://docs.google.com/spreadsheets/d/1d2YQhQNiBGrDNZSG_EPs8RRDlRte3fqgA5AueGbHxbE/edit?usp=sharing', 'D2 Nguyen Van Huong', 1, '06.10.2023\\xa016:00', 2, '0%', 'Visual Programming 2020/2021 M1L2', '29.09.2023 16:00', '03.05.2024 16:00', 4.0, '#DIV/0!', '#DIV/0!', '#DIV/0!', '#DIV/0!', '#DIV/0!', '#DIV/0!', '#DIV/0!', '#DIV/0!', '#DIV/0!', '#DIV/0!', '#DIV/0!', '#DIV/0!', '#DIV/0!', '#DIV/0!', '#DIV/0!', '#DIV/0!', '#DIV/0!', '#DIV/0!', '#DIV/0!', '#DIV/0!', '#DIV/0!', '#DIV/0!', '#DIV/0!', '#DIV/0!', '#DIV/0!', '#DIV/0!', '#DIV/0!', '#DIV/0!', '#DIV/0!', '#DIV/0!', '#DIV/0!', '#DIV/0!', '#DIV/0!', '#DIV/0!', '#DIV/0!', '#DIV/0!', '#DIV/0!'], ['1084567', 6, 'NVH_GD64_FRI_OFF', 'Dinh Ranz (PT)', 'None', '15:30', 'https://docs.google.com/spreadsheets/d/1UrOVHqZSX-PkQoqVxS5BDa0EPxEi_iYKsS_Ve_29zfM/edit?usp=sharing', 'D2 Nguyen Van Huong', 1, '06.10.2023\\xa015:30', 2, '0%', 'GD 20/21 M1L2', '29.09.2023 15:30', '10.05.2024 15:30', 5.0, '#DIV/0!', '#DIV/0!', '#DIV/0!', '#DIV/0!', '#DIV/0!', '#DIV/0!', '#DIV/0!', '#DIV/0!', '#DIV/0!', '#DIV/0!', '#DIV/0!', '#DIV/0!', '#DIV/0!', '#DIV/0!', '#DIV/0!', '#DIV/0!', '#DIV/0!', '#DIV/0!', '#DIV/0!', '#DIV/0!', '#DIV/0!', '#DIV/0!', '#DIV/0!', '#DIV/0!', '#DIV/0!', '#DIV/0!', '#DIV/0!', '#DIV/0!', '#DIV/0!', '#DIV/0!', '#DIV/0!', '#DIV/0!', '#DIV/0!', '#DIV/0!', '#DIV/0!', '#DIV/0!', '#DIV/0!'], ['1071298', 7, 'NVH_PTPY2.17_SAT_OFF', 'Garrod Matthew', 'None', '09:00', 'https://docs.google.com/spreadsheets/d/1huQ39OamfJ0L5whPEiOmJK_WNBP7tzmzsnb7CVdaBjk/edit?usp=sharing', 'D2 Nguyen Van Huong', 3, '07.10.2023\\xa009:00', 3, '0%', 'Non', '23.09.2023 09:00', '27.04.2024 09:00', 4.0, 4.0, '#DIV/0!', '#DIV/0!', '#DIV/0!', '#DIV/0!', '#DIV/0!', '#DIV/0!', '#DIV/0!', '#DIV/0!', '#DIV/0!', '#DIV/0!', '#DIV/0!', '#DIV/0!', '#DIV/0!', '#DIV/0!', '#DIV/0!', '#DIV/0!', '#DIV/0!', '#DIV/0!', '#DIV/0!', '#DIV/0!', '#DIV/0!', '#DIV/0!', '#DIV/0!', '#DIV/0!', '#DIV/0!', '#DIV/0!', '#DIV/0!', '#DIV/0!', '#DIV/0!', '#DIV/0!', '#DIV/0!', '#DIV/0!', '#DIV/0!', '#DIV/0!', '#DIV/0!', '#DIV/0!'], ['1035126', 8, 'NVH_DL18_SUN_OFF', 'Nguyen Eira (PT)', 'None', '09:00', 'https://docs.google.com/spreadsheets/d/1glRfCZ8M95ijx8MByOduOB3i_uNIuQXXaPnDbh8a0Kw/edit?usp=sharing', 'D2 Nguyen Van Huong', 4, '08.10.2023\\xa009:00', 5, '0%', 'DL M2L1', '10.09.2023 09:00', '14.04.2024 09:00', 5.0, 5.0, 4.0, 4.0, 4.0, '#DIV/0!', '#DIV/0!', '#DIV/0!', '#DIV/0!', '#DIV/0!', '#DIV/0!', '#DIV/0!', '#DIV/0!', '#DIV/0!', '#DIV/0!', '#DIV/0!', '#DIV/0!', '#DIV/0!', '#DIV/0!', '#DIV/0!', '#DIV/0!', '#DIV/0!', '#DIV/0!', '#DIV/0!', '#DIV/0!', '#DIV/0!', '#DIV/0!', '#DIV/0!', '#DIV/0!', '#DIV/0!', '#DIV/0!', '#DIV/0!', '#DIV/0!', '#DIV/0!', '#DIV/0!', '#DIV/0!', '#DIV/0!', '#DIV/0!'], ['990130', 8, 'NVH_CK42_SUN_OFF', 'Nguyen Trey (PT)', 'None', '08:30', 'https://docs.google.com/spreadsheets/d/1OHbuT_TIiKCRbu8Zxm-jpofuNUce1IJTaktKntV5MGI/edit?usp=sharing', 'D2 Nguyen Van Huong', 1, '08.10.2023\\xa008:30', 3, '0%', 'M1L3, The Coding Knight course, 2021-2022', '24.09.2023 08:30', '28.04.2024 08:30', 5.0, 5.0, '#DIV/0!', '#DIV/0!', '#DIV/0!', '#DIV/0!', '#DIV/0!', '#DIV/0!', '#DIV/0!', '#DIV/0!', '#DIV/0!', '#DIV/0!', '#DIV/0!', '#DIV/0!', '#DIV/0!', '#DIV/0!', '#DIV/0!', '#DIV/0!', '#DIV/0!', '#DIV/0!', '#DIV/0!', '#DIV/0!', '#DIV/0!', '#DIV/0!', '#DIV/0!', '#DIV/0!', '#DIV/0!', '#DIV/0!', '#DIV/0!', '#DIV/0!', '#DIV/0!', '#DIV/0!', '#DIV/0!', '#DIV/0!', '#DIV/0!', '#DIV/0!', '#DIV/0!', '#DIV/0!'], ['987606', 7, '\\xa0NVH_WDY1.11_SAT_ONL (PRIVATE)', 'Tran Jolin', 'None', '08:00', 'https://docs.google.com/spreadsheets/d/1NP7tPS4tbmN5mi1bREOZp8zRaO89mjVppZTaP85tb5I/edit?usp=sharing', 'D2 Nguyen Van Huong', 1, '07.10.2023\\xa008:00', 3, '0%', 'Graphic Design 12-14 2021/2022 M1 L3', '23.09.2023 08:00', '27.04.2024 08:00', 4.0, '#DIV/0!', '#DIV/0!', '#DIV/0!', '#DIV/0!', '#DIV/0!', '#DIV/0!', '#DIV/0!', '#DIV/0!', '#DIV/0!', '#DIV/0!', '#DIV/0!', '#DIV/0!', '#DIV/0!', '#DIV/0!', '#DIV/0!', '#DIV/0!', '#DIV/0!', '#DIV/0!', '#DIV/0!', '#DIV/0!', '#DIV/0!', '#DIV/0!', '#DIV/0!', '#DIV/0!', '#DIV/0!', '#DIV/0!', '#DIV/0!', '#DIV/0!', '#DIV/0!', '#DIV/0!', '#DIV/0!', '#DIV/0!', '#DIV/0!', '#DIV/0!', '#DIV/0!', '#DIV/0!', '#DIV/0!'], ['983627', 8, 'NVH_PTPY1.28_SUN_OFF', 'HON SEN SEN', 'None', '16:00', 'https://docs.google.com/spreadsheets/d/13cPUF12FJhdbAuvxnSWwL0VpWA_oB8oSXF6DK1LQL3s/edit?usp=sharing', 'D2 Nguyen Van Huong', 3, '08.10.2023\\xa016:00', 4, '0%', 'Python Pro (1 year) 2021/2022 – M1L4', '10.09.2023 16:00', '02.06.2024 16:00', 5.0, 4.0, 4.0, '#DIV/0!', '#DIV/0!', '#DIV/0!', '#DIV/0!', '#DIV/0!', '#DIV/0!', '#DIV/0!', '#DIV/0!', '#DIV/0!', '#DIV/0!', '#DIV/0!', '#DIV/0!', '#DIV/0!', '#DIV/0!', '#DIV/0!', '#DIV/0!', '#DIV/0!', '#DIV/0!', '#DIV/0!', '#DIV/0!', '#DIV/0!', '#DIV/0!', '#DIV/0!', '#DIV/0!', '#DIV/0!', '#DIV/0!', '#DIV/0!', '#DIV/0!', '#DIV/0!', '#DIV/0!', '#DIV/0!', '#DIV/0!', '#DIV/0!', '#DIV/0!', '#DIV/0!'], ['974950', 5, 'NVH_CK41_THU_OFF', 'Nguyen Eira (PT)', 'None', '15:00', 'https://docs.google.com/spreadsheets/d/1wZ4p1qGBR5ESy0ELPRLZPYVnBfanSkiaOrdRlrnYCsk/edit?usp=sharing', 'D2 Nguyen Van Huong', 1, '12.10.2023\\xa015:00', 7, '100%', 'M2L2, The Coding Knight course, 2021-2022', '31.08.2023 15:00', '04.04.2024 15:00', 5.0, 5.0, 5.0, 5.0, 5.0, '#DIV/0!', '#DIV/0!', '#DIV/0!', '#DIV/0!', '#DIV/0!', '#DIV/0!', '#DIV/0!', '#DIV/0!', '#DIV/0!', '#DIV/0!', '#DIV/0!', '#DIV/0!', '#DIV/0!', '#DIV/0!', '#DIV/0!', '#DIV/0!', '#DIV/0!', '#DIV/0!', '#DIV/0!', '#DIV/0!', '#DIV/0!', '#DIV/0!', '#DIV/0!', '#DIV/0!', '#DIV/0!', '#DIV/0!', '#DIV/0!', '#DIV/0!', '#DIV/0!', '#DIV/0!', '#DIV/0!', '#DIV/0!', '#DIV/0!'], ['844589', 8, 'NVH_PTPY1.27_SUN_OFF (PRIVATE)', 'Ha Thi Ninh Giang', 'None', '16:00', 'https://docs.google.com/spreadsheets/d/1em0qNkPfqAX4JFcYCPiu-myS2pw--9cDyyT9AyTjtVY/edit?usp=sharing', 'D2 Nguyen Van Huong', 1, '08.10.2023\\xa016:00', 7, '0%', 'Python Pro (1 year) 2021/2022 – M2L3', '20.08.2023 16:00', '12.05.2024 16:00', 5.0, 5.0, 4.0, 5.0, '#DIV/0!', 5.0, '#DIV/0!', '#DIV/0!', '#DIV/0!', '#DIV/0!', '#DIV/0!', '#DIV/0!', '#DIV/0!', '#DIV/0!', '#DIV/0!', '#DIV/0!', '#DIV/0!', '#DIV/0!', '#DIV/0!', '#DIV/0!', '#DIV/0!', '#DIV/0!', '#DIV/0!', '#DIV/0!', '#DIV/0!', '#DIV/0!', '#DIV/0!', '#DIV/0!', '#DIV/0!', '#DIV/0!', '#DIV/0!', '#DIV/0!', '#DIV/0!', '#DIV/0!', '#DIV/0!', '#DIV/0!', '#DIV/0!', '#DIV/0!'], ['763629', 8, 'NVH_WDY1.10_SUN_OFF', 'Phan Andrew', 'None', '10:30', 'https://docs.google.com/spreadsheets/d/1Mgsf7z9fiyOuDGMHqSQGaSz6ls8hSAFykPaVQc27yKg/edit?usp=sharing', 'D2 Nguyen Van Huong', 2, '08.10.2023\\xa010:30', 5, '0%', 'Graphic design 12–14 2021/2022 M2 L1', '10.09.2023 10:30', '14.04.2024 10:30', 5.0, 5.0, 4.5, 4.5, '#DIV/0!', '#DIV/0!', '#DIV/0!', '#DIV/0!', '#DIV/0!', '#DIV/0!', '#DIV/0!', '#DIV/0!', '#DIV/0!', '#DIV/0!', '#DIV/0!', '#DIV/0!', '#DIV/0!', '#DIV/0!', '#DIV/0!', '#DIV/0!', '#DIV/0!', '#DIV/0!', '#DIV/0!', '#DIV/0!', '#DIV/0!', '#DIV/0!', '#DIV/0!', '#DIV/0!', '#DIV/0!', '#DIV/0!', '#DIV/0!', '#DIV/0!', '#DIV/0!', '#DIV/0!', '#DIV/0!', '#DIV/0!', '#DIV/0!', '#DIV/0!'], ['763620', 4, 'NVH_VP52_WED_OFF', 'Nguyen Trey (PT)', 'None', '16:00', 'https://docs.google.com/spreadsheets/d/1P41MiV-RKNc8L_o0_qOOn4umCpGNs5ns36lh0y8NAqw/edit?usp=sharing', 'D2 Nguyen Van Huong', 2, '11.10.2023\\xa016:00', 9, '100%', 'Visual Programming 2020/2021 M2L4', '16.08.2023 16:00', '20.03.2024 16:00', 5.0, 5.0, 5.0, 5.0, 5.0, 4.5, 5.0, 5.0, '#DIV/0!', '#DIV/0!', '#DIV/0!', '#DIV/0!', '#DIV/0!', '#DIV/0!', '#DIV/0!', '#DIV/0!', '#DIV/0!', '#DIV/0!', '#DIV/0!', '#DIV/0!', '#DIV/0!', '#DIV/0!', '#DIV/0!', '#DIV/0!', '#DIV/0!', '#DIV/0!', '#DIV/0!', '#DIV/0!', '#DIV/0!', '#DIV/0!', '#DIV/0!', '#DIV/0!', '#DIV/0!', '#DIV/0!', '#DIV/0!', '#DIV/0!', '#DIV/0!', '#DIV/0!'], ['763618', 7, 'NVH_CK40_SAT_OFF', 'Nguyen Trey (PT)', 'None', '16:30', 'https://docs.google.com/spreadsheets/d/1BX2FGenwgO-28BZwLvPEzFAIwbM_sYIi7WgxST46eE4/edit?usp=sharing', 'D2 Nguyen Van Huong', 2, '07.10.2023\\xa016:30', 7, '0%', 'M2L2, The Coding Knight course, 2021-2022', '19.08.2023 16:30', '30.03.2024 16:30', 4.5, 4.5, 4.5, 4.5, 5.0, 5.0, '#DIV/0!', '#DIV/0!', '#DIV/0!', '#DIV/0!', '#DIV/0!', '#DIV/0!', '#DIV/0!', '#DIV/0!', '#DIV/0!', '#DIV/0!', '#DIV/0!', '#DIV/0!', '#DIV/0!', '#DIV/0!', '#DIV/0!', '#DIV/0!', '#DIV/0!', '#DIV/0!', '#DIV/0!', '#DIV/0!', '#DIV/0!', '#DIV/0!', '#DIV/0!', '#DIV/0!', '#DIV/0!', '#DIV/0!', '#DIV/0!', '#DIV/0!', '#DIV/0!', '#DIV/0!', '#DIV/0!', '#DIV/0!'], ['761413', 3, 'NVH_GD62_TUE_OFF', 'Nguyen Trey (PT)', 'None', '16:30', 'https://docs.google.com/spreadsheets/d/1Gn55iRuEffArXvuQFbX5WfLXfVE3NTaCcfHbjRNzGoY/edit?usp=sharing', 'D2 Nguyen Van Huong', 3, '10.10.2023\\xa016:30', 8, '34%', 'GD 20/21 M1L8', '22.08.2023 16:30', '02.04.2024 16:30', 5.0, 5.0, 5.0, 4.0, 4.0, 4.33, 5.0, '#DIV/0!', '#DIV/0!', '#DIV/0!', '#DIV/0!', '#DIV/0!', '#DIV/0!', '#DIV/0!', '#DIV/0!', '#DIV/0!', '#DIV/0!', '#DIV/0!', '#DIV/0!', '#DIV/0!', '#DIV/0!', '#DIV/0!', '#DIV/0!', '#DIV/0!', '#DIV/0!', '#DIV/0!', '#DIV/0!', '#DIV/0!', '#DIV/0!', '#DIV/0!', '#DIV/0!', '#DIV/0!', '#DIV/0!', '#DIV/0!', '#DIV/0!', '#DIV/0!', '#DIV/0!', '#DIV/0!'], ['761411', 5, 'NVH_PTPY1.26_THU/SUN_OFF (PRIVATE)', 'Joshi Harshit', 'None', '09:30', 'https://docs.google.com/spreadsheets/d/1_-PercLQCp6ezZTgvVvQYXDhYJI0B6c35Gs71sodPuI/edit?usp=sharing', 'D2 Nguyen Van Huong', 1, '08.10.2023\\xa009:30', 15, '0%', 'Python Pro (1 year) 2021/2022 – M4L2', '06.08.2023 09:30', '28.12.2023 15:30', 4.0, 4.0, 5.0, 5.0, 4.0, 5.0, 5.0, 5.0, 4.0, 5.0, 4.0, 5.0, 5.0, '#DIV/0!', '#DIV/0!', '#DIV/0!', '#DIV/0!', '#DIV/0!', '#DIV/0!', '#DIV/0!', '#DIV/0!', '#DIV/0!', '#DIV/0!', '#DIV/0!', '#DIV/0!', '#DIV/0!', '#DIV/0!', '#DIV/0!', '#DIV/0!', '#DIV/0!', '#DIV/0!', '#DIV/0!', '#DIV/0!', '#DIV/0!', '#DIV/0!', '#DIV/0!', '#DIV/0!', '#DIV/0!'], ['756571', 7, 'NVH_CK39_SAT_ONL', 'Cao Stephanie (PT)', 'None', '19:30', 'https://docs.google.com/spreadsheets/d/1LSlPkElzsMBRCPxovVabekngK4P4_zIQxB7fK11Y5t8/edit?usp=sharing', 'D2 Nguyen Van Huong', 1, '07.10.2023\\xa019:30', 7, '0%', 'M2L2, The Coding Knight course, 2021-2022', '19.08.2023 19:30', '30.03.2024 19:30', 4.0, 4.0, 5.0, 5.0, '#DIV/0!', 5.0, '#DIV/0!', '#DIV/0!', '#DIV/0!', '#DIV/0!', '#DIV/0!', '#DIV/0!', '#DIV/0!', '#DIV/0!', '#DIV/0!', '#DIV/0!', '#DIV/0!', '#DIV/0!', '#DIV/0!', '#DIV/0!', '#DIV/0!', '#DIV/0!', '#DIV/0!', '#DIV/0!', '#DIV/0!', '#DIV/0!', '#DIV/0!', '#DIV/0!', '#DIV/0!', '#DIV/0!', '#DIV/0!', '#DIV/0!', '#DIV/0!', '#DIV/0!', '#DIV/0!', '#DIV/0!', '#DIV/0!', '#DIV/0!'], ['756568', 8, 'NVH_GD61_SUN_OFF', 'Phan Andrew', 'None', '14:00', 'https://docs.google.com/spreadsheets/d/1d4T9cLjugRSHc5Rt8-xRv3Yh1M8c_z3XRcCgoIOd3Ow/edit?usp=sharing', 'D2 Nguyen Van Huong', 2, '08.10.2023\\xa014:00', 8, '0%', 'GD 20/21 M1L8', '13.08.2023 14:00', '31.03.2024 14:00', 5.0, 5.0, 5.0, 5.0, '#DIV/0!', 5.0, 5.0, '#DIV/0!', '#DIV/0!', '#DIV/0!', '#DIV/0!', '#DIV/0!', '#DIV/0!', '#DIV/0!', '#DIV/0!', '#DIV/0!', '#DIV/0!', '#DIV/0!', '#DIV/0!', '#DIV/0!', '#DIV/0!', '#DIV/0!', '#DIV/0!', '#DIV/0!', '#DIV/0!', '#DIV/0!', '#DIV/0!', '#DIV/0!', '#DIV/0!', '#DIV/0!', '#DIV/0!', '#DIV/0!', '#DIV/0!', '#DIV/0!', '#DIV/0!', '#DIV/0!', '#DIV/0!', '#DIV/0!'], ['754475', 5, 'NVH_VP51_THU_OFF', 'Tran Charlotte', 'None', '18:30', 'https://docs.google.com/spreadsheets/d/1zdzxQsCe3Bgz8oV2Kfv48D2-IJt8Onv8fZTF_eFGg68/edit?usp=sharing', 'D2 Nguyen Van Huong', 6, '05.10.2023\\xa018:30', 4, '0%', 'Visual Programming 2020/2021 M1L4', '14.09.2023 18:30', '18.04.2024 18:30', 5.0, 4.2, 3.67, '#DIV/0!', '#DIV/0!', '#DIV/0!', '#DIV/0!', '#DIV/0!', '#DIV/0!', '#DIV/0!', '#DIV/0!', '#DIV/0!', '#DIV/0!', '#DIV/0!', '#DIV/0!', '#DIV/0!', '#DIV/0!', '#DIV/0!', '#DIV/0!', '#DIV/0!', '#DIV/0!', '#DIV/0!', '#DIV/0!', '#DIV/0!', '#DIV/0!', '#DIV/0!', '#DIV/0!', '#DIV/0!', '#DIV/0!', '#DIV/0!', '#DIV/0!', '#DIV/0!', '#DIV/0!', '#DIV/0!', '#DIV/0!', '#DIV/0!', '#DIV/0!', '#DIV/0!'], ['754467', 8, 'NVH_PTSY2.41_SUN_OFF', 'Nguyen Ly', 'None', '09:00', 'https://docs.google.com/spreadsheets/d/1-iw7lGZrZLWnBaqfrZ7l-LyOvplCTdRNJiUEOnVKlFE/edit?usp=sharing', 'D2 Nguyen Van Huong', 1, '08.10.2023\\xa009:00', 5, '0%', 'Python Start - 2 2020/2021 M1L4', '10.09.2023 09:00', '09.06.2024 09:00', 5.0, 5.0, 5.0, 5.0, '#DIV/0!', '#DIV/0!', '#DIV/0!', '#DIV/0!', '#DIV/0!', '#DIV/0!', '#DIV/0!', '#DIV/0!', '#DIV/0!', '#DIV/0!', '#DIV/0!', '#DIV/0!', '#DIV/0!', '#DIV/0!', '#DIV/0!', '#DIV/0!', '#DIV/0!', '#DIV/0!', '#DIV/0!', '#DIV/0!', '#DIV/0!', '#DIV/0!', '#DIV/0!', '#DIV/0!', '#DIV/0!', '#DIV/0!', '#DIV/0!', '#DIV/0!', '#DIV/0!', '#DIV/0!', '#DIV/0!', '#DIV/0!', '#DIV/0!', '#DIV/0!'], ['754465', 2, 'NVH_PTPY1.25_MON_OFF', 'Nguyen Nhi', 'None', '17:30', 'https://docs.google.com/spreadsheets/d/1Uf55BptDk5QTxV2Soa5z_jfaR1mT22uDQ4j1zf3wbQQ/edit?usp=sharing', 'D2 Nguyen Van Huong', 5, '09.10.2023\\xa017:30', 4, '100%', 'Python Pro (1 year) 2021/2022 – M1L4', '18.09.2023 17:30', '22.04.2024 17:30', 5.0, 4.32, 4.8, '#DIV/0!', '#DIV/0!', '#DIV/0!', '#DIV/0!', '#DIV/0!', '#DIV/0!', '#DIV/0!', '#DIV/0!', '#DIV/0!', '#DIV/0!', '#DIV/0!', '#DIV/0!', '#DIV/0!', '#DIV/0!', '#DIV/0!', '#DIV/0!', '#DIV/0!', '#DIV/0!', '#DIV/0!', '#DIV/0!', '#DIV/0!', '#DIV/0!', '#DIV/0!', '#DIV/0!', '#DIV/0!', '#DIV/0!', '#DIV/0!', '#DIV/0!', '#DIV/0!', '#DIV/0!', '#DIV/0!', '#DIV/0!', '#DIV/0!', '#DIV/0!', '#DIV/0!'], ['754464', 2, 'NVH_PTPY2.16_MON_OFF', 'Le Thi Cam Tien (Evy)', 'None', '17:30', 'https://docs.google.com/spreadsheets/d/1osl6oZtAr3PMNso15jutd0EBOwbf59STwXxZYLJ9w6Q/edit?usp=sharing', 'D2 Nguyen Van Huong', 2, '09.10.2023\\xa017:30', 4, '100%', 'Non', '18.09.2023 17:30', '22.04.2024 17:30', 3.0, 3.0, 3.0, '#DIV/0!', '#DIV/0!', '#DIV/0!', '#DIV/0!', '#DIV/0!', '#DIV/0!', '#DIV/0!', '#DIV/0!', '#DIV/0!', '#DIV/0!', '#DIV/0!', '#DIV/0!', '#DIV/0!', '#DIV/0!', '#DIV/0!', '#DIV/0!', '#DIV/0!', '#DIV/0!', '#DIV/0!', '#DIV/0!', '#DIV/0!', '#DIV/0!', '#DIV/0!', '#DIV/0!', '#DIV/0!', '#DIV/0!', '#DIV/0!', '#DIV/0!', '#DIV/0!', '#DIV/0!', '#DIV/0!', '#DIV/0!', '#DIV/0!', '#DIV/0!', '#DIV/0!'], ['729987', 7, 'NVH_PTPY2.15_SAT_OFF', 'Huynh Kane (PT)', 'None', '10:30', 'https://docs.google.com/spreadsheets/d/1Be4Ep0F5Jz6s2yKDZHp_Mok3rmqinQeZFWFLPIp_raU/edit#gid=357331349', 'D2 Nguyen Van Huong', 3, '14.10.2023\\xa010:30', 8, 'TBU', 'Non', '12.08.2023 10:30', '11.05.2024 10:30', 5.0, 5.0, 5.0, 5.0, 5.0, 5.0, 5.0, '#DIV/0!', '#DIV/0!', '#DIV/0!', '#DIV/0!', '#DIV/0!', '#DIV/0!', '#DIV/0!', '#DIV/0!', '#DIV/0!', '#DIV/0!', '#DIV/0!', '#DIV/0!', '#DIV/0!', '#DIV/0!', '#DIV/0!', '#DIV/0!', '#DIV/0!', '#DIV/0!', '#DIV/0!', '#DIV/0!', '#DIV/0!', '#DIV/0!', '#DIV/0!', '#DIV/0!', '#DIV/0!', '#DIV/0!', '#DIV/0!', '#DIV/0!', '#DIV/0!', '#DIV/0!', '#DIV/0!'], ['686313', 6, 'NVH_VP50_FRI_OFF', 'Dinh Ranz (PT)', 'None', '18:30', 'https://docs.google.com/spreadsheets/d/12HQnlw_NMFNI1c6Yu8p4gCcgVK5YZQojVwcU0agseYU/edit?usp=sharing', 'D2 Nguyen Van Huong', 0, '06.10.2023\\xa018:30', 5, '0%', 'Visual Programming 2020/2021 M1L5', '08.09.2023 18:30', '12.04.2024 18:30', '#DIV/0!', '#DIV/0!', '#DIV/0!', '#DIV/0!', '#DIV/0!', '#DIV/0!', '#DIV/0!', '#DIV/0!', '#DIV/0!', '#DIV/0!', '#DIV/0!', '#DIV/0!', '#DIV/0!', '#DIV/0!', '#DIV/0!', '#DIV/0!', '#DIV/0!', '#DIV/0!', '#DIV/0!', '#DIV/0!', '#DIV/0!', '#DIV/0!', '#DIV/0!', '#DIV/0!', '#DIV/0!', '#DIV/0!', '#DIV/0!', '#DIV/0!', '#DIV/0!', '#DIV/0!', '#DIV/0!', '#DIV/0!', '#DIV/0!', '#DIV/0!', '#DIV/0!', '#DIV/0!', '#DIV/0!', '#DIV/0!'], ['686307', 5, 'NVH_PTSY2.40_THU_ONL', 'Bui Liam', 'None', '18:30', 'https://docs.google.com/spreadsheets/d/11gQz3cPRggFaCtowLlDR39bWsHscvB-9jnlJFBWEkak/edit?usp=sharing', 'Online Campus', 3, '05.10.2023\\xa018:30', 5, '0%', 'Python Start - 2 2020/2021 M1L4', '31.08.2023 18:30', '09.05.2024 18:30', 4.5, 4.5, 4.67, '#DIV/0!', '#DIV/0!', '#DIV/0!', '#DIV/0!', '#DIV/0!', '#DIV/0!', '#DIV/0!', '#DIV/0!', '#DIV/0!', '#DIV/0!', '#DIV/0!', '#DIV/0!', '#DIV/0!', '#DIV/0!', '#DIV/0!', '#DIV/0!', '#DIV/0!', '#DIV/0!', '#DIV/0!', '#DIV/0!', '#DIV/0!', '#DIV/0!', '#DIV/0!', '#DIV/0!', '#DIV/0!', '#DIV/0!', '#DIV/0!', '#DIV/0!', '#DIV/0!', '#DIV/0!', '#DIV/0!', '#DIV/0!', '#DIV/0!', '#DIV/0!', '#DIV/0!'], ['686087', 7, 'NVH_VP49_SAT_OFF', 'Phan Andrew', 'None', '15:30', 'https://docs.google.com/spreadsheets/d/15vmBWi_6eEgwZc94ox5thdA241JyuUUbwY9COGnonuw/edit?usp=sharing', 'D2 Nguyen Van Huong', 4, '07.10.2023\\xa015:30', 7, '0%', 'Visual Programming 2020/2021 M2L2', '19.08.2023 15:30', '30.03.2024 15:30', 4.8, 4.0, 4.25, 4.25, 4.67, 4.75, '#DIV/0!', '#DIV/0!', '#DIV/0!', '#DIV/0!', '#DIV/0!', '#DIV/0!', '#DIV/0!', '#DIV/0!', '#DIV/0!', '#DIV/0!', '#DIV/0!', '#DIV/0!', '#DIV/0!', '#DIV/0!', '#DIV/0!', '#DIV/0!', '#DIV/0!', '#DIV/0!', '#DIV/0!', '#DIV/0!', '#DIV/0!', '#DIV/0!', '#DIV/0!', '#DIV/0!', '#DIV/0!', '#DIV/0!', '#DIV/0!', '#DIV/0!', '#DIV/0!', '#DIV/0!', '#DIV/0!', '#DIV/0!'], ['686025', 7, 'NVH_VP48_SAT_OFF', 'Pham Christine', 'None', '08:30', 'https://docs.google.com/spreadsheets/d/1jveFcdCeYQW9g0Bo5-SbaHhp35a2_tVBn6Li84Iqghw/edit?usp=sharing', 'D2 Nguyen Van Huong', 3, '07.10.2023\\xa008:30', 8, '0%', 'Visual Programming 2020/2021 M2L3', '12.08.2023 08:30', '23.03.2024 08:30', 5.0, 4.5, 4.5, 3.67, 4.0, 3.67, 3.5, '#DIV/0!', '#DIV/0!', '#DIV/0!', '#DIV/0!', '#DIV/0!', '#DIV/0!', '#DIV/0!', '#DIV/0!', '#DIV/0!', '#DIV/0!', '#DIV/0!', '#DIV/0!', '#DIV/0!', '#DIV/0!', '#DIV/0!', '#DIV/0!', '#DIV/0!', '#DIV/0!', '#DIV/0!', '#DIV/0!', '#DIV/0!', '#DIV/0!', '#DIV/0!', '#DIV/0!', '#DIV/0!', '#DIV/0!', '#DIV/0!', '#DIV/0!', '#DIV/0!', '#DIV/0!', '#DIV/0!'], ['686016', 8, 'NVH_PTSY1.59_SUN_OFF', 'Nguyen Wilson (PT)', 'None', '14:00', 'https://docs.google.com/spreadsheets/d/1ZctI1OW_oTORrLoaFAvdb06N7yws1RujMBqJM6AOvoI/edit?usp=sharing', 'D2 Nguyen Van Huong', 3, '08.10.2023\\xa014:00', 7, '0%', 'Python Start 2020/2021 M2L3', '20.08.2023 14:00', '28.04.2024 14:00', 5.0, 4.0, 4.5, 4.5, 4.0, 4.5, '#DIV/0!', '#DIV/0!', '#DIV/0!', '#DIV/0!', '#DIV/0!', '#DIV/0!', '#DIV/0!', '#DIV/0!', '#DIV/0!', '#DIV/0!', '#DIV/0!', '#DIV/0!', '#DIV/0!', '#DIV/0!', '#DIV/0!', '#DIV/0!', '#DIV/0!', '#DIV/0!', '#DIV/0!', '#DIV/0!', '#DIV/0!', '#DIV/0!', '#DIV/0!', '#DIV/0!', '#DIV/0!', '#DIV/0!', '#DIV/0!', '#DIV/0!', '#DIV/0!', '#DIV/0!', '#DIV/0!', '#DIV/0!'], ['686015', 8, 'NVH_GD60_SUN_OFF', 'Nguyen Eira (PT)', 'None', '14:00', 'https://docs.google.com/spreadsheets/d/1GsCfVcR_BjCDL_ue26nIUMZKPBTQrRhYJ0Zvmoo2YLo/edit?usp=sharing', 'D2 Nguyen Van Huong', 6, '08.10.2023\\xa014:00', 7, '0%', 'GD 20/21 M1L7', '20.08.2023 14:00', '07.04.2024 14:00', 5.0, 5.0, 4.33, 4.17, 4.5, 4.0, '#DIV/0!', '#DIV/0!', '#DIV/0!', '#DIV/0!', '#DIV/0!', '#DIV/0!', '#DIV/0!', '#DIV/0!', '#DIV/0!', '#DIV/0!', '#DIV/0!', '#DIV/0!', '#DIV/0!', '#DIV/0!', '#DIV/0!', '#DIV/0!', '#DIV/0!', '#DIV/0!', '#DIV/0!', '#DIV/0!', '#DIV/0!', '#DIV/0!', '#DIV/0!', '#DIV/0!', '#DIV/0!', '#DIV/0!', '#DIV/0!', '#DIV/0!', '#DIV/0!', '#DIV/0!', '#DIV/0!', '#DIV/0!'], ['682312', 4, 'NVH_GD59_WED_OFF', 'Phan Andrew', 'None', '15:30', 'https://docs.google.com/spreadsheets/d/1W784av60avah1pxuXqwMS-6UmjnMW6h5ZV9nXaOoqk0/edit?usp=sharing', 'D2 Nguyen Van Huong', 2, '11.10.2023\\xa015:30', 10, '100%', 'GD 20/21 M1L10', '07.08.2023 15:00', '20.03.2024 15:30', 5.0, 5.0, 5.0, 5.0, 5.0, 5.0, 5.0, 5.0, 5.0, '#DIV/0!', '#DIV/0!', '#DIV/0!', '#DIV/0!', '#DIV/0!', '#DIV/0!', '#DIV/0!', '#DIV/0!', '#DIV/0!', '#DIV/0!', '#DIV/0!', '#DIV/0!', '#DIV/0!', '#DIV/0!', '#DIV/0!', '#DIV/0!', '#DIV/0!', '#DIV/0!', '#DIV/0!', '#DIV/0!', '#DIV/0!', '#DIV/0!', '#DIV/0!', '#DIV/0!', '#DIV/0!', '#DIV/0!', '#DIV/0!', '#DIV/0!', '#DIV/0!'], ['679527', 2, 'NVH_PTPY1.24_MON_OFF (PRIVATE)', 'Wenner Josh', 'None', '16:15', 'https://docs.google.com/spreadsheets/d/1EI-UdLeQ3PoUBJ3gtq39jpm-VqSgP18PKlJPGjByMFU/edit?usp=sharing', 'D2 Nguyen Van Huong', 1, '09.10.2023\\xa016:15', 7, '100%', 'Python Pro (1 year) 2021/2022 – M2L3', '21.08.2023 16:15', '06.05.2024 16:15', 5.0, 5.0, 5.0, 5.0, 5.0, 5.0, '#DIV/0!', '#DIV/0!', '#DIV/0!', '#DIV/0!', '#DIV/0!', '#DIV/0!', '#DIV/0!', '#DIV/0!', '#DIV/0!', '#DIV/0!', '#DIV/0!', '#DIV/0!', '#DIV/0!', '#DIV/0!', '#DIV/0!', '#DIV/0!', '#DIV/0!', '#DIV/0!', '#DIV/0!', '#DIV/0!', '#DIV/0!', '#DIV/0!', '#DIV/0!', '#DIV/0!', '#DIV/0!', '#DIV/0!', '#DIV/0!', '#DIV/0!', '#DIV/0!', '#DIV/0!', '#DIV/0!', '#DIV/0!'], ['676336', 7, 'NVH_GD58_SAT_OFF', 'Nguyen Trey (PT)', 'None', '08:30', 'https://docs.google.com/spreadsheets/d/123UAwmpWFSsv-c7Nk_K7C0zhCfiK2qw6BHJK8jVQ9Gc/edit?usp=sharing', 'D2 Nguyen Van Huong', 3, '07.10.2023\\xa008:30', 9, '0%', 'GD 20/21 M1L9', '05.08.2023 08:30', '23.03.2024 08:30', 5.0, 5.0, 5.0, 5.0, 3.0, 3.5, 3.67, 5.0, '#DIV/0!', '#DIV/0!', '#DIV/0!', '#DIV/0!', '#DIV/0!', '#DIV/0!', '#DIV/0!', '#DIV/0!', '#DIV/0!', '#DIV/0!', '#DIV/0!', '#DIV/0!', '#DIV/0!', '#DIV/0!', '#DIV/0!', '#DIV/0!', '#DIV/0!', '#DIV/0!', '#DIV/0!', '#DIV/0!', '#DIV/0!', '#DIV/0!', '#DIV/0!', '#DIV/0!', '#DIV/0!', '#DIV/0!', '#DIV/0!', '#DIV/0!', '#DIV/0!', '#DIV/0!'], ['676335', 7, 'NVH_PTSY1.58_SAT_OFF', 'Wenner Josh', 'None', '08:30', 'https://docs.google.com/spreadsheets/d/1F5Fufg71eF_ZRytYUPgVNZE6WU4AzrREfb3-dLfX7gM/edit?usp=sharing', 'D2 Nguyen Van Huong', 4, '07.10.2023\\xa008:30', 10, '0%', 'Python Start 2020/2021 M2 L5', '29.07.2023 08:30', '06.04.2024 08:30', 3.5, 3.67, 3.75, 3.5, 3.33, 3.0, 3.5, 3.5, 3.5, '#DIV/0!', '#DIV/0!', '#DIV/0!', '#DIV/0!', '#DIV/0!', '#DIV/0!', '#DIV/0!', '#DIV/0!', '#DIV/0!', '#DIV/0!', '#DIV/0!', '#DIV/0!', '#DIV/0!', '#DIV/0!', '#DIV/0!', '#DIV/0!', '#DIV/0!', '#DIV/0!', '#DIV/0!', '#DIV/0!', '#DIV/0!', '#DIV/0!', '#DIV/0!', '#DIV/0!', '#DIV/0!', '#DIV/0!', '#DIV/0!', '#DIV/0!', '#DIV/0!'], ['675671', 2, 'NVH_PTSY2.39_MON_OFF', 'Le Thi Cam Tien (Evy)', 'None', '19:00', 'https://docs.google.com/spreadsheets/d/10KkpB2ma55nktdQZh2ww1E244dISkAH0hDLrZCdN1e4/edit?usp=sharing', 'D2 Nguyen Van Huong', 3, '09.10.2023\\xa019:00', 11, '67%', 'Python Start - 2 2020/2021 М2 У6', '24.07.2023 19:00', '01.04.2024 19:00', 4.0, 5.0, 4.0, 3.67, 3.0, 3.0, 3.0, 2.67, 2.33, 2.5, '#DIV/0!', '#DIV/0!', '#DIV/0!', '#DIV/0!', '#DIV/0!', '#DIV/0!', '#DIV/0!', '#DIV/0!', '#DIV/0!', '#DIV/0!', '#DIV/0!', '#DIV/0!', '#DIV/0!', '#DIV/0!', '#DIV/0!', '#DIV/0!', '#DIV/0!', '#DIV/0!', '#DIV/0!', '#DIV/0!', '#DIV/0!', '#DIV/0!', '#DIV/0!', '#DIV/0!', '#DIV/0!', '#DIV/0!', '#DIV/0!', '#DIV/0!'], ['673045', 7, 'NVH_WDY2.5_SAT_OFF', 'Nguyen Trey (PT)', 'None', '15:00', 'https://docs.google.com/spreadsheets/d/1alxr4TpmRfON7p-Ed5HmAgoBSDNsz__fvKtMfGhiR5k/edit?usp=sharing', 'D2 Nguyen Van Huong', 1, '07.10.2023\\xa015:00', 12, '0%', 'Non', '08.07.2023 15:00', '24.02.2024 15:00', 5.0, 5.0, 5.0, 5.0, 5.0, 5.0, 5.0, 5.0, 5.0, 5.0, 5.0, '#DIV/0!', '#DIV/0!', '#DIV/0!', '#DIV/0!', '#DIV/0!', '#DIV/0!', '#DIV/0!', '#DIV/0!', '#DIV/0!', '#DIV/0!', '#DIV/0!', '#DIV/0!', '#DIV/0!', '#DIV/0!', '#DIV/0!', '#DIV/0!', '#DIV/0!', '#DIV/0!', '#DIV/0!', '#DIV/0!', '#DIV/0!', '#DIV/0!', '#DIV/0!', '#DIV/0!', '#DIV/0!', '#DIV/0!', '#DIV/0!'], ['671786', 7, 'NVH_GD57_SAT_OFF', 'Nguyen Trey (PT)', 'None', '18:00', 'https://docs.google.com/spreadsheets/d/1YXd0zKpe12jqSaEbcqavEBh22VZfBkybq7xnwZJmEQw/edit?usp=sharing', 'D2 Nguyen Van Huong', 1, '07.10.2023\\xa018:00', 13, '0%', 'GD 20/21 M2L3', '08.07.2023 18:00', '24.02.2024 18:00', 4.0, 5.0, 4.0, 4.0, 4.0, 3.0, 4.0, 4.0, 4.0, 4.0, 4.0, 5.0, '#DIV/0!', '#DIV/0!', '#DIV/0!', '#DIV/0!', '#DIV/0!', '#DIV/0!', '#DIV/0!', '#DIV/0!', '#DIV/0!', '#DIV/0!', '#DIV/0!', '#DIV/0!', '#DIV/0!', '#DIV/0!', '#DIV/0!', '#DIV/0!', '#DIV/0!', '#DIV/0!', '#DIV/0!', '#DIV/0!', '#DIV/0!', '#DIV/0!', '#DIV/0!', '#DIV/0!', '#DIV/0!', '#DIV/0!'], ['671785', 7, 'NVH_PTPY1.23_SAT_OFF', 'Tran Dang', 'None', '18:00', 'https://docs.google.com/spreadsheets/d/1KhmbtGFKAdZlBLzRKTFO97PE_2VW9ZCEPrDjOAFqz8o/edit?usp=sharing', 'D2 Nguyen Van Huong', 1, '07.10.2023\\xa018:00', 13, '0%', 'Python Pro (1 year) 2021/2022 – M3L4', '08.07.2023 18:00', '30.03.2024 18:00', 5.0, 5.0, 5.0, 5.0, 5.0, 5.0, 5.0, 5.0, 5.0, 4.0, 4.0, 4.0, '#DIV/0!', '#DIV/0!', '#DIV/0!', '#DIV/0!', '#DIV/0!', '#DIV/0!', '#DIV/0!', '#DIV/0!', '#DIV/0!', '#DIV/0!', '#DIV/0!', '#DIV/0!', '#DIV/0!', '#DIV/0!', '#DIV/0!', '#DIV/0!', '#DIV/0!', '#DIV/0!', '#DIV/0!', '#DIV/0!', '#DIV/0!', '#DIV/0!', '#DIV/0!', '#DIV/0!', '#DIV/0!', '#DIV/0!'], ['669381', 8, 'NVH_PTSY1.57_SUN_OFF', 'Nguyen Wilson (PT)', 'None', '15:30', 'https://docs.google.com/spreadsheets/d/1xv8QvdXybcLVxMgF5001fwFVJNnUxoVnSrh6pU325Mw/edit?usp=sharing', 'D2 Nguyen Van Huong', 2, '08.10.2023\\xa015:30', 11, '0%', 'Python Start 2020/2021 M3 L1', '23.07.2023 15:30', '31.03.2024 15:30', 4.5, 4.0, 4.0, 4.0, 5.0, 5.0, 4.0, 3.0, 4.0, 5.0, '#DIV/0!', '#DIV/0!', '#DIV/0!', '#DIV/0!', '#DIV/0!', '#DIV/0!', '#DIV/0!', '#DIV/0!', '#DIV/0!', '#DIV/0!', '#DIV/0!', '#DIV/0!', '#DIV/0!', '#DIV/0!', '#DIV/0!', '#DIV/0!', '#DIV/0!', '#DIV/0!', '#DIV/0!', '#DIV/0!', '#DIV/0!', '#DIV/0!', '#DIV/0!', '#DIV/0!', '#DIV/0!', '#DIV/0!', '#DIV/0!', '#DIV/0!'], ['669372', 3, 'NVH_PTSY1.56_TUE_ONL (PRIVATE)', 'Pham Kay', 'None', '19:30', 'https://docs.google.com/spreadsheets/d/1GLLcOS9FoZLL45FKa1XEqLsM_0FNX75m__Wm8oiozUA/edit?usp=sharing', 'D2 Nguyen Van Huong', 1, '10.10.2023\\xa019:30', 17, '100%', 'Python Start 2020/2021 M4 L4', '20.06.2023 09:00', '13.02.2024 19:30', 5.0, 5.0, 5.0, 5.0, 4.0, 3.0, 3.0, 3.0, 4.0, 5.0, '#DIV/0!', '#DIV/0!', 4.0, 5.0, 5.0, 4.0, '#DIV/0!', '#DIV/0!', '#DIV/0!', '#DIV/0!', '#DIV/0!', '#DIV/0!', '#DIV/0!', '#DIV/0!', '#DIV/0!', '#DIV/0!', '#DIV/0!', '#DIV/0!', '#DIV/0!', '#DIV/0!', '#DIV/0!', '#DIV/0!', '#DIV/0!', '#DIV/0!', '#DIV/0!', '#DIV/0!', '#DIV/0!', '#DIV/0!'], ['654789', 5, 'NVH_GD56_THU_ONL', 'Nguyen Trey (PT)', 'None', '17:30', 'https://docs.google.com/spreadsheets/d/1jN9vJY4sep_Jj2mcNyZumrbs3Wgdw6L2VS88LIT-JHU/edit?usp=sharing', 'D2 Nguyen Van Huong', 1, '05.10.2023\\xa017:30', 17, '100%', 'GD 20/21 M2L7', '15.06.2023 17:30', '25.01.2024 17:30', '#DIV/0!', '#DIV/0!', '#DIV/0!', '#DIV/0!', 5.0, 5.0, 5.0, 5.0, 5.0, 5.0, 4.5, 5.0, 3.0, 4.5, 5.0, 4.5, '#DIV/0!', '#DIV/0!', '#DIV/0!', '#DIV/0!', '#DIV/0!', '#DIV/0!', '#DIV/0!', '#DIV/0!', '#DIV/0!', '#DIV/0!', '#DIV/0!', '#DIV/0!', '#DIV/0!', '#DIV/0!', '#DIV/0!', '#DIV/0!', '#DIV/0!', '#DIV/0!', '#DIV/0!', '#DIV/0!', '#DIV/0!', '#DIV/0!'], ['654503', 6, 'NVH_CK38_FRI_OFF', 'Dinh Ranz (PT)', 'None', '17:30', 'https://docs.google.com/spreadsheets/d/125ACyrUqR61JeUXwqsevNPSRjVyfvVYWt_dtxv80DgA/edit?usp=sharing', 'D2 Nguyen Van Huong', 2, '06.10.2023\\xa017:30', 15, '0%', 'M4L3, The Coding Knight course, 2021-2022', '16.06.2023 17:00', '02.02.2024 17:30', 4.0, 4.5, 4.5, 4.0, 4.5, 5.0, 4.0, 4.5, 5.0, 5.0, 4.5, 4.5, 5.0, 5.0, '#DIV/0!', '#DIV/0!', '#DIV/0!', '#DIV/0!', '#DIV/0!', '#DIV/0!', '#DIV/0!', '#DIV/0!', '#DIV/0!', '#DIV/0!', '#DIV/0!', '#DIV/0!', '#DIV/0!', '#DIV/0!', '#DIV/0!', '#DIV/0!', '#DIV/0!', '#DIV/0!', '#DIV/0!', '#DIV/0!', '#DIV/0!', '#DIV/0!', '#DIV/0!', '#DIV/0!'], ['654499', 3, 'NVH_CK37_TUE_OFF', 'Nguyen Trey (PT)', 'None', '15:30', 'https://docs.google.com/spreadsheets/d/1QfUwwC6zH3u52YTJbifoZsvnsn_E9DWqGKQeUok1uJI/edit#gid=1315893701', 'D2 Nguyen Van Huong', 2, '10.10.2023\\xa015:30', 18, '0%', 'M5L2, The Coding Knight course, 2021-2022', '13.06.2023 15:30', '16.01.2024 15:30', 5.0, 5.0, 5.0, 4.0, 4.0, 4.0, 3.5, 3.5, 4.0, 4.0, 4.0, 4.5, 3.5, 4.0, 3.5, 4.0, 3.0, '#DIV/0!', '#DIV/0!', '#DIV/0!', '#DIV/0!', '#DIV/0!', '#DIV/0!', '#DIV/0!', '#DIV/0!', '#DIV/0!', '#DIV/0!', '#DIV/0!', '#DIV/0!', '#DIV/0!', '#DIV/0!', '#DIV/0!', '#DIV/0!', '#DIV/0!', '#DIV/0!', '#DIV/0!', '#DIV/0!', '#DIV/0!'], ['652389', 8, 'NVH_VP47_SUN_OFF', 'Nguyen Eira (PT)', 'None', '10:30', 'https://docs.google.com/spreadsheets/d/13OZ6tLjaHCFvPSM3uwQpNxFy5ixt2QoNhAFm7mOpJ-c/edit?usp=sharing', 'D2 Nguyen Van Huong', 2, '08.10.2023\\xa010:30', 16, '0%', 'Visual Programming 2020/2021 M3L6', '11.06.2023 11:00', '28.01.2024 10:30', 5.0, 5.0, 5.0, 5.0, 5.0, 5.0, 5.0, 5.0, 5.0, 5.0, 5.0, 5.0, 4.5, 5.0, 5.0, '#DIV/0!', '#DIV/0!', '#DIV/0!', '#DIV/0!', '#DIV/0!', '#DIV/0!', '#DIV/0!', '#DIV/0!', '#DIV/0!', '#DIV/0!', '#DIV/0!', '#DIV/0!', '#DIV/0!', '#DIV/0!', '#DIV/0!', '#DIV/0!', '#DIV/0!', '#DIV/0!', '#DIV/0!', '#DIV/0!', '#DIV/0!', '#DIV/0!', '#DIV/0!'], ['652387', 3, 'NVH_CK36_TUE_OFF', 'Truong Hanie', 'None', '19:30', 'https://docs.google.com/spreadsheets/d/1LGQ6OzQdfFntI-HZulPiEGuQRF-jZPI7xtUBQPBwrQw/edit?usp=sharing', 'D2 Nguyen Van Huong', 1, '10.10.2023\\xa019:30', 19, '0%', 'M5L3, The Coding Knight course, 2021-2022', '06.06.2023 19:30', '09.01.2024 19:30', 4.0, 4.0, 4.0, 4.0, 4.0, 4.75, 4.67, 4.5, 4.33, 4.0, 4.0, 5.0, 4.0, 3.5, 5.0, 5.0, '#DIV/0!', '#DIV/0!', '#DIV/0!', '#DIV/0!', '#DIV/0!', '#DIV/0!', '#DIV/0!', '#DIV/0!', '#DIV/0!', '#DIV/0!', '#DIV/0!', '#DIV/0!', '#DIV/0!', '#DIV/0!', '#DIV/0!', '#DIV/0!', '#DIV/0!', '#DIV/0!', '#DIV/0!', '#DIV/0!', '#DIV/0!', '#DIV/0!'], ['651904', 5, 'NVH_PTPY2.14_THU_ONL (PRIVATE)', 'Garrod Matthew', 'None', '17:45', 'https://docs.google.com/spreadsheets/d/1DQRknlrLlpZ0pHwKvhcrdh3TpLI9fTlkTA2O8i-RaA4/edit?usp=sharing', 'D2 Nguyen Van Huong', 1, '05.10.2023\\xa017:45', 15, '100%', 'Non', '29.06.2023 17:30', '07.03.2024 17:45', 4.0, 3.0, 2.0, 4.0, 4.0, 5.0, 4.0, 3.0, 3.0, 4.0, 4.0, 4.0, 4.0, 3.0, 4.0, '#DIV/0!', '#DIV/0!', '#DIV/0!', '#DIV/0!', '#DIV/0!', '#DIV/0!', '#DIV/0!', '#DIV/0!', '#DIV/0!', '#DIV/0!', '#DIV/0!', '#DIV/0!', '#DIV/0!', '#DIV/0!', '#DIV/0!', '#DIV/0!', '#DIV/0!', '#DIV/0!', '#DIV/0!', '#DIV/0!', '#DIV/0!', '#DIV/0!', '#DIV/0!'], ['651903', 7, 'NVH_VP46_SAT_OFF', 'Phan Andrew', 'None', '17:00', 'https://docs.google.com/spreadsheets/d/11_CwdF5W6NkKMcpP9ieQD-BvipNoxdtGtirrt87G-dY/edit?usp=sharing', 'D2 Nguyen Van Huong', 0, '07.10.2023\\xa017:00', 16, '0%', 'Visual Programming 2020/2021 M3L6', '10.06.2023 17:00', '27.01.2024 17:00', 3.0, 3.0, '#DIV/0!', '#DIV/0!', '#DIV/0!', '#DIV/0!', '#DIV/0!', '#DIV/0!', '#DIV/0!', '#DIV/0!', '#DIV/0!', '#DIV/0!', '#DIV/0!', '#DIV/0!', '#DIV/0!', '#DIV/0!', '#DIV/0!', '#DIV/0!', '#DIV/0!', '#DIV/0!', '#DIV/0!', '#DIV/0!', '#DIV/0!', '#DIV/0!', '#DIV/0!', '#DIV/0!', '#DIV/0!', '#DIV/0!', '#DIV/0!', '#DIV/0!', '#DIV/0!', '#DIV/0!', '#DIV/0!', '#DIV/0!', '#DIV/0!', '#DIV/0!', '#DIV/0!', '#DIV/0!'], ['650227', 7, 'NVH_UGD3_SAT_OFF', 'Garrod Matthew', 'None', '13:30', 'https://docs.google.com/spreadsheets/d/1wZuvwhKQB-vK8h_MWOCnvzRuGMPBfXjuWJp60j_UfgA/edit?usp=sharing', 'D2 Nguyen Van Huong', 2, '07.10.2023\\xa013:30', 17, '0%', 'Unity M4L2', '10.06.2023 13:30', '20.01.2024 13:30', 5.0, 5.0, 5.0, 5.0, 5.0, 5.0, 5.0, 4.5, 5.0, 4.0, 4.0, 4.0, 4.0, 4.0, 4.0, 5.0, '#DIV/0!', '#DIV/0!', '#DIV/0!', '#DIV/0!', '#DIV/0!', '#DIV/0!', '#DIV/0!', '#DIV/0!', '#DIV/0!', '#DIV/0!', '#DIV/0!', '#DIV/0!', '#DIV/0!', '#DIV/0!', '#DIV/0!', '#DIV/0!', '#DIV/0!', '#DIV/0!', '#DIV/0!', '#DIV/0!', '#DIV/0!', '#DIV/0!'], ['649875', 4, 'NVH_GD55_WED_OFF (PRIVATE)', 'Nguyen Anthony', 'None', '14:50', 'https://docs.google.com/spreadsheets/d/1sccWQRDatZEoutOgsnrZS1tsNGaVGBoJI1Z6PpMjyWQ/edit?usp=sharing', 'D2 Nguyen Van Huong', 1, '11.10.2023\\xa014:50', 12, '0%', 'GD 20/21 M2L2', '07.06.2023 14:35', '06.03.2024 14:50', 4.0, 4.0, 3.0, 4.0, 3.0, 4.0, 4.0, 4.0, 4.0, 3.0, 4.0, '#DIV/0!', '#DIV/0!', '#DIV/0!', '#DIV/0!', '#DIV/0!', '#DIV/0!', '#DIV/0!', '#DIV/0!', '#DIV/0!', '#DIV/0!', '#DIV/0!', '#DIV/0!', '#DIV/0!', '#DIV/0!', '#DIV/0!', '#DIV/0!', '#DIV/0!', '#DIV/0!', '#DIV/0!', '#DIV/0!', '#DIV/0!', '#DIV/0!', '#DIV/0!', '#DIV/0!', '#DIV/0!', '#DIV/0!', '#DIV/0!'], ['649872', 2, 'NVH_WDY2.3_MON_OFF', 'Nguyen Trey (PT)', 'None', '17:30', 'https://docs.google.com/spreadsheets/d/1dpcAORV2RWRHuoaua1DMwFCCni0M1lEXfSweDcO4a7Y/edit?usp=sharing', 'D2 Nguyen Van Huong', 2, '09.10.2023\\xa017:30', 16, '100%', 'BWS 20/21 M4L4 Wix', '19.06.2023 17:30', '29.01.2024 17:30', 4.5, 5.0, 4.5, 4.0, 4.0, 3.5, 4.0, 4.5, 5.0, 5.0, 4.0, 4.5, 3.5, 4.0, 4.0, '#DIV/0!', '#DIV/0!', '#DIV/0!', '#DIV/0!', '#DIV/0!', '#DIV/0!', '#DIV/0!', '#DIV/0!', '#DIV/0!', '#DIV/0!', '#DIV/0!', '#DIV/0!', '#DIV/0!', '#DIV/0!', '#DIV/0!', '#DIV/0!', '#DIV/0!', '#DIV/0!', '#DIV/0!', '#DIV/0!', '#DIV/0!', '#DIV/0!', '#DIV/0!'], ['648881', 4, 'NVH_GD54_WED_OFF', 'Tran Sa', 'None', '17:30', 'https://docs.google.com/spreadsheets/d/1NU_UYy6BNLrkLNS9qMj5kQcr6XiHNXadq-4awdeMIxI/edit?usp=sharing', 'D2 Nguyen Van Huong', 3, '11.10.2023\\xa017:30', 19, '100%', 'GD 20/21 M2L9', '07.06.2023 17:30', '17.01.2024 17:30', 5.0, 5.0, 5.0, 5.0, 5.0, 5.0, 4.5, 5.0, 4.25, 5.0, 4.67, 5.0, 5.0, 4.67, 5.0, 5.0, 5.0, 5.0, '#DIV/0!', '#DIV/0!', '#DIV/0!', '#DIV/0!', '#DIV/0!', '#DIV/0!', '#DIV/0!', '#DIV/0!', '#DIV/0!', '#DIV/0!', '#DIV/0!', '#DIV/0!', '#DIV/0!', '#DIV/0!', '#DIV/0!', '#DIV/0!', '#DIV/0!', '#DIV/0!', '#DIV/0!', '#DIV/0!'], ['647652', 2, 'NVH_PTPY1.22_MON/THU_ONL (PRIVATE)', 'Wenner Josh', 'None', '09:00', 'https://docs.google.com/spreadsheets/d/1EJ4cwBliO436w6e10cwoPYj3aQ_vXfa2YXil77PcR18/edit?usp=sharing', 'D2 Nguyen Van Huong', 1, '09.10.2023\\xa009:00', 34, '100%', 'Python Pro (year 1) 2021/2022 – M7L4', '01.06.2023 09:00', '23.10.2023 09:00', 4.0, 4.0, 3.0, 4.0, 4.0, 4.0, 3.0, 4.0, 4.0, 4.0, 4.0, 4.0, 4.0, 4.0, 4.0, 3.0, 4.0, 3.0, 3.0, 3.0, 4.0, 4.0, 4.0, 4.0, 4.0, 4.0, 4.0, 5.0, 5.0, 4.0, 5.0, 4.0, 4.0, 4.0, '#DIV/0!', '#DIV/0!', '#DIV/0!', '#DIV/0!'], ['647651', 7, 'NVH_PTPY2.13_SAT_OFF', 'Garrod Matthew', 'None', '10:30', 'https://docs.google.com/spreadsheets/d/1RAHBBz0y9TjOG4I2zLVzFlL5fs3V7noijJsgbVuMSE4/edit?usp=sharing', 'D2 Nguyen Van Huong', 4, '07.10.2023\\xa010:30', 17, '0%', 'Non', '10.06.2023 10:30', '24.02.2024 10:30', 3.5, 4.33, 4.0, 4.25, 3.33, 3.33, 4.33, 5.0, 4.75, 5.0, 3.75, 4.6, 4.2, 4.0, 4.0, 3.75, '#DIV/0!', '#DIV/0!', '#DIV/0!', '#DIV/0!', '#DIV/0!', '#DIV/0!', '#DIV/0!', '#DIV/0!', '#DIV/0!', '#DIV/0!', '#DIV/0!', '#DIV/0!', '#DIV/0!', '#DIV/0!', '#DIV/0!', '#DIV/0!', '#DIV/0!', '#DIV/0!', '#DIV/0!', '#DIV/0!', '#DIV/0!', '#DIV/0!'], ['646984', 3, 'NVH_GD53_TUE_OFF', 'Pham Kay', 'None', '17:00', 'https://docs.google.com/spreadsheets/d/1ESgbM7-eGhoYe6k6-olpvMWEHF6r3rkPp3tn1iDja6I/edit?usp=sharing', 'D2 Nguyen Van Huong', 2, '10.10.2023\\xa017:00', 15, '100%', 'GD 20/21 M2L5', '30.05.2023 17:00', '13.02.2024 17:00', 5.0, 5.0, 5.0, 4.0, 3.0, 3.5, 3.0, 4.0, 5.0, 3.33, 4.0, 5.0, 3.5, 3.5, '#DIV/0!', '#DIV/0!', '#DIV/0!', '#DIV/0!', '#DIV/0!', '#DIV/0!', '#DIV/0!', '#DIV/0!', '#DIV/0!', '#DIV/0!', '#DIV/0!', '#DIV/0!', '#DIV/0!', '#DIV/0!', '#DIV/0!', '#DIV/0!', '#DIV/0!', '#DIV/0!', '#DIV/0!', '#DIV/0!', '#DIV/0!', '#DIV/0!', '#DIV/0!', '#DIV/0!'], ['646729', 8, 'NVH_VP44_SUN_OFF', 'Nguyen Ly', 'None', '15:30', 'https://docs.google.com/spreadsheets/d/1kiVc6zH4Dv1E7N5mOKJk_u7Xf35CbbDnsd186iBTjYc/edit?usp=sharing', 'D2 Nguyen Van Huong', 1, '08.10.2023\\xa015:30', 13, '0%', 'Visual Programming 2020/2021 M3L3', '02.07.2023 15:30', '18.02.2024 15:30', 5.0, 5.0, 5.0, 5.0, 5.0, 5.0, 5.0, 5.0, 5.0, 5.0, 5.0, 5.0, '#DIV/0!', '#DIV/0!', '#DIV/0!', '#DIV/0!', '#DIV/0!', '#DIV/0!', '#DIV/0!', '#DIV/0!', '#DIV/0!', '#DIV/0!', '#DIV/0!', '#DIV/0!', '#DIV/0!', '#DIV/0!', '#DIV/0!', '#DIV/0!', '#DIV/0!', '#DIV/0!', '#DIV/0!', '#DIV/0!', '#DIV/0!', '#DIV/0!', '#DIV/0!', '#DIV/0!', '#DIV/0!', '#DIV/0!'], ['646432', 3, 'NVH_GD52_TUE_OFF', 'Tran Dang', 'None', '19:00', 'https://docs.google.com/spreadsheets/d/1Rl5r6Cdj9cAFaNFdzZiq0s8O5lpJ2saqbm67n-Yr44c/edit?usp=sharing', 'D2 Nguyen Van Huong', 2, '10.10.2023\\xa019:00', 21, '50%', 'GD 20/21 M3L1', '23.05.2023 19:00', '02.01.2024 19:00', 5.0, 5.0, 4.0, 5.0, 5.0, 5.0, 5.0, 5.0, 4.5, 5.0, 5.0, 5.0, 5.0, 4.0, 4.0, 5.0, 5.0, 5.0, 5.0, 5.0, '#DIV/0!', '#DIV/0!', '#DIV/0!', '#DIV/0!', '#DIV/0!', '#DIV/0!', '#DIV/0!', '#DIV/0!', '#DIV/0!', '#DIV/0!', '#DIV/0!', '#DIV/0!', '#DIV/0!', '#DIV/0!', '#DIV/0!', '#DIV/0!', '#DIV/0!', '#DIV/0!'], ['646431', 3, 'NVH_PTPY2.12_TUE_ONL (PRIVATE)', 'Nguyen My', 'None', '17:00', 'https://docs.google.com/spreadsheets/d/1BcBrzqJNtwPitvKRlvGZpiFEsxLf0qD-ihNwBmIslvY/edit?usp=sharing', 'D2 Nguyen Van Huong', 1, '10.10.2023\\xa017:00', 17, '0%', 'Non', '26.05.2023 17:00', '12.03.2024 17:00', 5.0, 4.0, 4.0, 5.0, 5.0, 5.0, 5.0, 5.0, 5.0, 5.0, 5.0, 5.0, '#DIV/0!', 5.0, '#DIV/0!', '#DIV/0!', '#DIV/0!', '#DIV/0!', '#DIV/0!', '#DIV/0!', '#DIV/0!', '#DIV/0!', '#DIV/0!', '#DIV/0!', '#DIV/0!', '#DIV/0!', '#DIV/0!', '#DIV/0!', '#DIV/0!', '#DIV/0!', '#DIV/0!', '#DIV/0!', '#DIV/0!', '#DIV/0!', '#DIV/0!', '#DIV/0!', '#DIV/0!', '#DIV/0!'], ['645265', 7, 'NVH_GD51_SAT_OFF', 'Tran Phoebe', 'None', '15:00', 'https://docs.google.com/spreadsheets/d/15wcxCttYUU1cjoW3vJ7Z_3NedGuBjBFORxwIiXShdcc/edit?usp=drive_link', 'D2 Nguyen Van Huong', 5, '07.10.2023\\xa015:00', 14, '0%', 'GD 20/21 M2L4', '10.06.2023 15:00', '17.02.2024 15:00', 5.0, 5.0, 5.0, 5.0, 4.75, 5.0, 4.33, 4.25, 4.25, 4.6, 4.0, 3.8, 3.8, '#DIV/0!', '#DIV/0!', '#DIV/0!', '#DIV/0!', '#DIV/0!', '#DIV/0!', '#DIV/0!', '#DIV/0!', '#DIV/0!', '#DIV/0!', '#DIV/0!', '#DIV/0!', '#DIV/0!', '#DIV/0!', '#DIV/0!', '#DIV/0!', '#DIV/0!', '#DIV/0!', '#DIV/0!', '#DIV/0!', '#DIV/0!', '#DIV/0!', '#DIV/0!', '#DIV/0!', '#DIV/0!'], ['645259', 7, 'PXL_PTSY1.6_SAT_OFF', 'Le Thi Cam Tien (Evy)', 'None', '17:30', 'https://docs.google.com/spreadsheets/d/1OOueCjpb8PhrWnVHiB1lq1865MF80vaVA27nEYz0Zro/edit?usp=sharing', 'PN_Phan Xich Long', 3, '07.10.2023\\xa017:30', 16, '0%', 'Python Start 2020/2021 M4 L1', '17.06.2023 17:30', '24.02.2024 17:30', 4.0, 4.33, 4.0, 4.0, 3.5, 4.0, 4.0, 4.0, 3.67, 4.67, 4.0, 3.67, 3.5, 3.33, 3.33, '#DIV/0!', '#DIV/0!', '#DIV/0!', '#DIV/0!', '#DIV/0!', '#DIV/0!', '#DIV/0!', '#DIV/0!', '#DIV/0!', '#DIV/0!', '#DIV/0!', '#DIV/0!', '#DIV/0!', '#DIV/0!', '#DIV/0!', '#DIV/0!', '#DIV/0!', '#DIV/0!', '#DIV/0!', '#DIV/0!', '#DIV/0!', '#DIV/0!', '#DIV/0!'], ['645256', 8, 'NVH_PTSY2.37_SUN_ONL', 'Pham Kay', 'None', '14:00', 'https://docs.google.com/spreadsheets/d/16QXuuSh9odo5KBf3waa_5VntJR4xLVxVA57N7bsdzaQ/edit?usp=sharing', 'D2 Nguyen Van Huong', 3, '08.10.2023\\xa014:00', 18, '0%', 'Python Start 2020/2021 - 2 M4 L1', '04.06.2023 14:00', '11.02.2024 14:00', 5.0, 5.0, 3.5, 4.0, 3.67, 3.67, 2.67, 3.0, 3.0, 3.0, 3.0, 4.0, 4.0, 3.67, 4.0, 4.0, 4.0, '#DIV/0!', '#DIV/0!', '#DIV/0!', '#DIV/0!', '#DIV/0!', '#DIV/0!', '#DIV/0!', '#DIV/0!', '#DIV/0!', '#DIV/0!', '#DIV/0!', '#DIV/0!', '#DIV/0!', '#DIV/0!', '#DIV/0!', '#DIV/0!', '#DIV/0!', '#DIV/0!', '#DIV/0!', '#DIV/0!', '#DIV/0!'], ['644393', 7, 'NVH_PTSY2.36_SAT_OFF', 'Vuong Khanh', 'None', '15:00', 'https://docs.google.com/spreadsheets/d/1M83UE4o4PZ50OGKTAtnqIV-DT2RrZv6ufTA2tt36GLs/edit?usp=sharing', 'D2 Nguyen Van Huong', 2, '07.10.2023\\xa015:00', 16, '0%', 'Python Start - 2 2020/2021 M3 L4', '20.05.2023 15:00', '09.03.2024 15:00', 5.0, '#DIV/0!', 5.0, '#DIV/0!', '#DIV/0!', '#DIV/0!', 5.0, '#DIV/0!', '#DIV/0!', 5.0, '#DIV/0!', 5.0, 5.0, 5.0, '#DIV/0!', '#DIV/0!', '#DIV/0!', '#DIV/0!', '#DIV/0!', '#DIV/0!', '#DIV/0!', '#DIV/0!', '#DIV/0!', '#DIV/0!', '#DIV/0!', '#DIV/0!', '#DIV/0!', '#DIV/0!', '#DIV/0!', '#DIV/0!', '#DIV/0!', '#DIV/0!', '#DIV/0!', '#DIV/0!', '#DIV/0!', '#DIV/0!', '#DIV/0!', '#DIV/0!'], ['640563', 5, 'NVH_GD50_THU_ONL', 'Dinh Ranz (PT)', 'None', '19:00', 'https://docs.google.com/spreadsheets/d/1oDJRIxuVhv2JtYMM77obp-u82CV6fR3ghCX5RZYJ0xk/edit?usp=sharing', 'D2 Nguyen Van Huong', 1, '05.10.2023\\xa019:00', 22, '0%', 'GD 20/21 M3L2', '11.05.2023 19:00', '14.12.2023 19:00', 5.0, 5.0, 5.0, 5.0, 5.0, 5.0, 5.0, 5.0, 5.0, 5.0, 5.0, 5.0, 5.0, 5.0, 5.0, 5.0, '#DIV/0!', '#DIV/0!', '#DIV/0!', '#DIV/0!', '#DIV/0!', '#DIV/0!', '#DIV/0!', '#DIV/0!', '#DIV/0!', '#DIV/0!', '#DIV/0!', '#DIV/0!', '#DIV/0!', '#DIV/0!', '#DIV/0!', '#DIV/0!', '#DIV/0!', '#DIV/0!', '#DIV/0!', '#DIV/0!', '#DIV/0!', '#DIV/0!'], ['637215', 7, 'NVH_VP43_SAT_OFF', 'Wenner Josh', 'None', '15:30', 'https://docs.google.com/spreadsheets/d/1P0ndkJPy3N7HL5pwIuXPTKeI8Tp-ZGB_NajE3sAOE1I/edit?usp=sharing', 'D2 Nguyen Van Huong', 2, '07.10.2023\\xa015:30', 22, '0%', 'Visual Programming 2020/2021 M4L6', '06.05.2023 15:30', '16.12.2023 15:30', 5.0, 4.0, 4.0, 3.5, 4.0, 4.5, '#DIV/0!', 4.5, 5.0, 5.0, '#DIV/0!', 5.0, 4.0, 3.5, 4.5, 4.0, 4.5, 4.0, 4.0, 4.0, 4.0, '#DIV/0!', '#DIV/0!', '#DIV/0!', '#DIV/0!', '#DIV/0!', '#DIV/0!', '#DIV/0!', '#DIV/0!', '#DIV/0!', '#DIV/0!', '#DIV/0!', '#DIV/0!', '#DIV/0!', '#DIV/0!', '#DIV/0!', '#DIV/0!', '#DIV/0!'], ['634906', 8, 'NVH_CK35_SUN_OFF', 'Rita Vu', 'Mr.Kane', '14:30', 'https://docs.google.com/spreadsheets/d/1rWm-ahP0EEPl-pDPhfzC9Gc5HOQBaMoYZ7p9ngmRjvk/edit?usp=sharing', 'D2 Nguyen Van Huong', 4, '08.10.2023\\xa014:30', 13, '0%', 'M4L1, The Coding Knight course, 2021-2022', '07.05.2023 14:30', '18.02.2024 14:30', 4.75, 5.0, 5.0, 5.0, 4.75, 5.0, 5.0, 4.0, 5.0, 5.0, 5.0, '#DIV/0!', '#DIV/0!', '#DIV/0!', '#DIV/0!', '#DIV/0!', '#DIV/0!', '#DIV/0!', '#DIV/0!', '#DIV/0!', '#DIV/0!', '#DIV/0!', '#DIV/0!', '#DIV/0!', '#DIV/0!', '#DIV/0!', '#DIV/0!', '#DIV/0!', '#DIV/0!', '#DIV/0!', '#DIV/0!', '#DIV/0!', '#DIV/0!', '#DIV/0!', '#DIV/0!', '#DIV/0!', '#DIV/0!', '#DIV/0!'], ['634899', 7, 'NVH_WDY1.9_SAT_OFF', 'Huynh Kane (PT)', 'None', '09:00', 'https://docs.google.com/spreadsheets/d/16TAgveJYXKIpBr_b7yueqmWtq7lg60hyY6XVkhEP0G0/edit?usp=sharing', 'D2 Nguyen Van Huong', 1, '07.10.2023\\xa009:00', 16, '0%', 'Graphic Design 12-14 2021/2022 M5L2', '06.05.2023 09:00', '27.01.2024 09:00', 5.0, 5.0, 5.0, 5.0, 5.0, 5.0, 5.0, 5.0, 5.0, 5.0, 5.0, 5.0, 5.0, 5.0, 5.0, '#DIV/0!', '#DIV/0!', '#DIV/0!', '#DIV/0!', '#DIV/0!', '#DIV/0!', '#DIV/0!', '#DIV/0!', '#DIV/0!', '#DIV/0!', '#DIV/0!', '#DIV/0!', '#DIV/0!', '#DIV/0!', '#DIV/0!', '#DIV/0!', '#DIV/0!', '#DIV/0!', '#DIV/0!', '#DIV/0!', '#DIV/0!', '#DIV/0!', '#DIV/0!'], ['634892', 7, 'NVH_GD49_SAT_OFF', 'Tran Dang', 'None', '09:00', 'https://docs.google.com/spreadsheets/d/19GT0hjM6tGUe2nwPut2gs2-0OddYcxkA-J3AoqJmKH4/edit?usp=sharing', 'D2 Nguyen Van Huong', 1, '07.10.2023\\xa009:00', 17, '0%', 'GD 20/21 M2L7', '06.05.2023 09:00', '20.01.2024 09:00', 5.0, 4.5, 4.0, 4.5, 3.0, 4.5, 4.5, 5.0, 4.0, 4.0, 4.0, 4.0, 4.5, 4.0, 4.0, 5.0, '#DIV/0!', '#DIV/0!', '#DIV/0!', '#DIV/0!', '#DIV/0!', '#DIV/0!', '#DIV/0!', '#DIV/0!', '#DIV/0!', '#DIV/0!', '#DIV/0!', '#DIV/0!', '#DIV/0!', '#DIV/0!', '#DIV/0!', '#DIV/0!', '#DIV/0!', '#DIV/0!', '#DIV/0!', '#DIV/0!', '#DIV/0!', '#DIV/0!'], ['622699', 2, 'NVH_GD48_MON_ONL', 'Pham Kay', 'None', '18:00', 'https://docs.google.com/spreadsheets/d/1jWvTKczrWG1L_Gj86Ds0m-Z49aVaBSv_nZneF2C4jG4/edit?usp=sharing', 'D2 Nguyen Van Huong', 2, '09.10.2023\\xa018:00', 23, '100%', 'GD 20/21 M3L3', '24.04.2023 18:00', '18.12.2023 18:00', 3.0, 4.0, 3.5, 3.0, 4.0, 4.0, 3.5, 3.0, 3.0, 3.0, 3.0, 2.0, 3.0, 3.0, 3.0, 5.0, 3.5, 4.0, 4.0, 4.0, 4.0, 3.5, '#DIV/0!', '#DIV/0!', '#DIV/0!', '#DIV/0!', '#DIV/0!', '#DIV/0!', '#DIV/0!', '#DIV/0!', '#DIV/0!', '#DIV/0!', '#DIV/0!', '#DIV/0!', '#DIV/0!', '#DIV/0!', '#DIV/0!', '#DIV/0!'], ['614649', 6, 'NVH_DL14_FRI_OFF', 'Rita Vu', 'None', '18:30', 'https://docs.google.com/spreadsheets/d/1BTPwV8uwZHtK0tjquLn161u1JvX0mfmsKxK5l0ffOto/edit?usp=sharing', 'D2 Nguyen Van Huong', 2, '06.10.2023\\xa018:30', 18, '0%', 'DL M5L2', '08.05.2023 18:30', '12.01.2024 18:30', 3.5, 4.0, 4.0, '#DIV/0!', 3.5, 3.5, 5.0, 4.0, 5.0, 5.0, 4.5, 5.0, 5.0, 5.0, 4.5, 3.5, 4.5, '#DIV/0!', '#DIV/0!', '#DIV/0!', '#DIV/0!', '#DIV/0!', '#DIV/0!', '#DIV/0!', '#DIV/0!', '#DIV/0!', '#DIV/0!', '#DIV/0!', '#DIV/0!', '#DIV/0!', '#DIV/0!', '#DIV/0!', '#DIV/0!', '#DIV/0!', '#DIV/0!', '#DIV/0!', '#DIV/0!', '#DIV/0!'], ['614609', 7, 'NVH_PTSY2.35_SAT_ONL', 'Joshi Harshit', 'None', '16:00', 'https://docs.google.com/spreadsheets/d/1-1y9YxnpznjTzFM6FNSI_rvNexEwfYJ3EWiHXcfMXik/edit?usp=sharing', 'D2 Nguyen Van Huong', 2, '07.10.2023\\xa016:00', 18, '0%', 'Python Start 2020/2021 - 2 M4 L1', '20.05.2023 16:00', '10.02.2024 16:00', 4.0, 5.0, 4.0, 4.0, 4.0, 4.0, 4.0, 4.0, 4.0, 4.0, 4.0, 4.0, 4.0, 4.0, 4.0, 5.0, 5.0, '#DIV/0!', '#DIV/0!', '#DIV/0!', '#DIV/0!', '#DIV/0!', '#DIV/0!', '#DIV/0!', '#DIV/0!', '#DIV/0!', '#DIV/0!', '#DIV/0!', '#DIV/0!', '#DIV/0!', '#DIV/0!', '#DIV/0!', '#DIV/0!', '#DIV/0!', '#DIV/0!', '#DIV/0!', '#DIV/0!', '#DIV/0!'], ['588765', 8, 'NVH_PTSY1.55_SUN_OFF', 'Su Aria (PT)', 'None', '10:30', 'https://docs.google.com/spreadsheets/d/1HuDXyAfDecvEuUCR_XYRZZr-NXHJ5PqAorjlaGUBD_Y/edit?usp=sharing', 'D2 Nguyen Van Huong', 2, '08.10.2023\\xa010:30', 19, '0%', 'Python Start 2020/2021 M4 L4', '28.05.2023 10:30', '04.02.2024 10:30', 5.0, 4.0, 4.5, 5.0, 5.0, 5.0, 5.0, 5.0, 5.0, 5.0, 5.0, 5.0, 5.0, 5.0, 5.0, 5.0, 5.0, 5.0, '#DIV/0!', '#DIV/0!', '#DIV/0!', '#DIV/0!', '#DIV/0!', '#DIV/0!', '#DIV/0!', '#DIV/0!', '#DIV/0!', '#DIV/0!', '#DIV/0!', '#DIV/0!', '#DIV/0!', '#DIV/0!', '#DIV/0!', '#DIV/0!', '#DIV/0!', '#DIV/0!', '#DIV/0!', '#DIV/0!'], ['588621', 6, 'NVH_VP42_FRI_OFF', 'Bui Liam', 'None', '16:00', 'https://docs.google.com/spreadsheets/d/19SQyoy3N3k7-bfrvZyXtJ8-v07wuxbg9NnQp9-D9CDU/edit?usp=sharing', 'D2 Nguyen Van Huong', 1, '06.10.2023\\xa016:00', 18, '0%', 'Visual Programming 2020/2021 M4L2', '05.05.2023 16:30', '12.01.2024 16:00', 5.0, 5.0, 5.0, 5.0, 5.0, 5.0, 5.0, 5.0, 5.0, 5.0, 5.0, 5.0, 5.0, 5.0, 5.0, 5.0, 5.0, '#DIV/0!', '#DIV/0!', '#DIV/0!', '#DIV/0!', '#DIV/0!', '#DIV/0!', '#DIV/0!', '#DIV/0!', '#DIV/0!', '#DIV/0!', '#DIV/0!', '#DIV/0!', '#DIV/0!', '#DIV/0!', '#DIV/0!', '#DIV/0!', '#DIV/0!', '#DIV/0!', '#DIV/0!', '#DIV/0!', '#DIV/0!'], ['588461', 7, 'NVH_PTPY1.21_SAT_OFF', 'Joshi Harshit', 'None', '13:00', 'https://docs.google.com/spreadsheets/d/1tlPAXf8HuqgONnSLKyTMFsk7UOAVQJ3DVMFKElAAzwI/edit?usp=sharing', 'D2 Nguyen Van Huong', 3, '07.10.2023\\xa013:00', 18, '0%', 'Python Pro (Year 1) 2021/2022 – M4L4', '06.05.2023 13:00', '24.02.2024 13:00', 5.0, 4.0, 5.0, 4.33, 4.5, 4.0, 4.0, 4.0, 4.0, 4.0, 4.67, 4.33, 4.33, 4.33, 4.0, 4.0, 5.0, '#DIV/0!', '#DIV/0!', '#DIV/0!', '#DIV/0!', '#DIV/0!', '#DIV/0!', '#DIV/0!', '#DIV/0!', '#DIV/0!', '#DIV/0!', '#DIV/0!', '#DIV/0!', '#DIV/0!', '#DIV/0!', '#DIV/0!', '#DIV/0!', '#DIV/0!', '#DIV/0!', '#DIV/0!', '#DIV/0!', '#DIV/0!'], ['522484', 6, 'NVH_PTSY2.34_FRI_OFF', 'Wenner Josh', 'None', '16:00', 'https://docs.google.com/spreadsheets/d/1TYQJX1CZe8QUMaytpqkM57xCLGLwNWZVV5hnxU3NBCE/edit?usp=sharing', 'D2 Nguyen Van Huong', 2, '06.10.2023\\xa016:00', 23, '0%', 'Python Start 2020/2021 - 2 M5 L2', '21.04.2023 16:00', '05.01.2024 16:00', 5.0, 4.5, 5.0, 4.0, 4.0, 3.5, 4.5, 3.67, 4.0, 4.0, 4.0, 3.33, 3.67, 3.33, 3.0, 3.67, 4.0, 4.0, 4.0, 4.5, 4.0, 4.5, '#DIV/0!', '#DIV/0!', '#DIV/0!', '#DIV/0!', '#DIV/0!', '#DIV/0!', '#DIV/0!', '#DIV/0!', '#DIV/0!', '#DIV/0!', '#DIV/0!', '#DIV/0!', '#DIV/0!', '#DIV/0!', '#DIV/0!', '#DIV/0!'], ['522430', 7, 'NVH_PTSY1.54_SAT_OFF', 'Joshi Harshit', 'None', '10:00', 'https://docs.google.com/spreadsheets/d/1-6iSxJWiBTHBSvahbz7LnR2_1fFdWyM9DN2vrFKjC_w/edit?usp=sharing', 'D2 Nguyen Van Huong', 1, '07.10.2023\\xa010:00', 18, '0%', 'Python Start 2020/2021 M4 L4', '22.04.2023 10:00', '10.02.2024 10:00', 5.0, '#DIV/0!', 4.0, 4.0, 4.0, 4.0, 4.0, 4.0, 4.0, 4.0, 4.0, 4.0, 4.0, 4.0, 4.0, 5.0, 5.0, '#DIV/0!', '#DIV/0!', '#DIV/0!', '#DIV/0!', '#DIV/0!', '#DIV/0!', '#DIV/0!', '#DIV/0!', '#DIV/0!', '#DIV/0!', '#DIV/0!', '#DIV/0!', '#DIV/0!', '#DIV/0!', '#DIV/0!', '#DIV/0!', '#DIV/0!', '#DIV/0!', '#DIV/0!', '#DIV/0!', '#DIV/0!'], ['521663', 3, 'NVH_PTSY1.53_TUE_ONL', 'Joshi Harshit', 'None', '18:00', 'https://docs.google.com/spreadsheets/d/1jNGz1VhUfO07fIEwWQw3kEfGYFD0UONOd_NrbgXHndA/edit?usp=sharing', 'D2 Nguyen Van Huong', 1, '10.10.2023\\xa018:00', 15, '100%', 'Python Start 2020/2021 M3 L4', '09.05.2023 18:00', '05.03.2024 18:00', 5.0, 4.0, 4.0, 4.0, 4.0, 4.0, 4.0, 4.0, 4.0, 4.0, 4.0, 4.0, 4.0, 5.0, 5.0, '#DIV/0!', '#DIV/0!', '#DIV/0!', '#DIV/0!', '#DIV/0!', '#DIV/0!', '#DIV/0!', '#DIV/0!', '#DIV/0!', '#DIV/0!', '#DIV/0!', '#DIV/0!', '#DIV/0!', '#DIV/0!', '#DIV/0!', '#DIV/0!', '#DIV/0!', '#DIV/0!', '#DIV/0!', '#DIV/0!', '#DIV/0!', '#DIV/0!', '#DIV/0!'], ['515050', 6, 'NVH_DL13_FRI_OFF', 'Bui Liam', 'None', '18:00', 'https://docs.google.com/spreadsheets/d/1fGK7H6jo1KIFIXBKIvCQ2x3wxdbSvaGQZdgr2EmuTv4/edit?usp=sharing', 'D2 Nguyen Van Huong', 1, '06.10.2023\\xa018:00', 20, '0%', 'DL M5L4', '21.04.2023 18:00', '29.12.2023 18:00', 5.0, 5.0, 5.0, 5.0, '#DIV/0!', 5.0, 5.0, 5.0, 5.0, 5.0, 5.0, 5.0, 5.0, 5.0, 5.0, 5.0, 5.0, 5.0, 5.0, '#DIV/0!', '#DIV/0!', '#DIV/0!', '#DIV/0!', '#DIV/0!', '#DIV/0!', '#DIV/0!', '#DIV/0!', '#DIV/0!', '#DIV/0!', '#DIV/0!', '#DIV/0!', '#DIV/0!', '#DIV/0!', '#DIV/0!', '#DIV/0!', '#DIV/0!', '#DIV/0!', '#DIV/0!'], ['515046', 3, 'NVH_WDY1.8_TUE_ONL', 'Ly Zoe', 'None', '18:00', 'https://docs.google.com/spreadsheets/d/1FYvgC1Me_kCyukSqBvyyRoDooaoe1iW7S8GC_qjdxK8/edit?usp=sharing', 'D2 Nguyen Van Huong', 1, '10.10.2023\\xa018:00', 22, '100%', 'Graphic design 12-14 2021/2022 M8 L1', '25.04.2023 18:00', '19.12.2023 18:00', 5.0, 5.0, 5.0, 5.0, '#DIV/0!', 5.0, 5.0, '#DIV/0!', 5.0, 5.0, 5.0, '#DIV/0!', 5.0, 5.0, 5.0, 5.0, 5.0, 5.0, 5.0, 5.0, 5.0, '#DIV/0!', '#DIV/0!', '#DIV/0!', '#DIV/0!', '#DIV/0!', '#DIV/0!', '#DIV/0!', '#DIV/0!', '#DIV/0!', '#DIV/0!', '#DIV/0!', '#DIV/0!', '#DIV/0!', '#DIV/0!', '#DIV/0!', '#DIV/0!', '#DIV/0!'], ['515038', 7, 'NVH_PTPY2.11_SAT_ONL', 'Nguyen Huy', 'None', '10:30', 'https://docs.google.com/spreadsheets/d/1dMwYpLqOMRQ1_pMyCYfqyS8SzIdV5dqd1uEEQ9lBDEc/edit?usp=sharing', 'D2 Nguyen Van Huong', 1, '07.10.2023\\xa010:30', 25, '0%', 'Non', '08.04.2023 10:30', '06.01.2024 10:30', 4.0, 4.0, 3.0, 4.0, 4.0, '#DIV/0!', 4.0, 4.0, 4.0, 5.0, 4.0, 4.0, 4.0, 4.0, 3.0, 4.0, '#DIV/0!', 4.0, 5.0, 5.0, 5.0, 5.0, 4.0, '#DIV/0!', '#DIV/0!', '#DIV/0!', '#DIV/0!', '#DIV/0!', '#DIV/0!', '#DIV/0!', '#DIV/0!', '#DIV/0!', '#DIV/0!', '#DIV/0!', '#DIV/0!', '#DIV/0!', '#DIV/0!', '#DIV/0!'], ['512926', 8, 'NVH_CK34_SUN_OFF', 'Truong Hanie', 'Ms.Eira', '15:00', 'https://docs.google.com/spreadsheets/d/1wkt9tWcYwwxR_VvOrwmEhce5HFZyaU2-pVpHHn-31GI/edit?usp=sharing', 'D2 Nguyen Van Huong', 3, '08.10.2023\\xa015:00', 25, '0%', 'M7L1, The Coding Knight course, 2021-2022', '09.04.2023 15:00', '26.11.2023 15:00', 5.0, 4.5, 5.0, 5.0, 5.0, 5.0, 4.5, 4.0, 4.5, 4.5, 4.5, 3.5, 4.5, 4.5, 3.0, 4.0, 4.0, 4.0, 3.5, 4.0, 4.5, 4.5, 4.0, 4.0, '#DIV/0!', '#DIV/0!', '#DIV/0!', '#DIV/0!', '#DIV/0!', '#DIV/0!', '#DIV/0!', '#DIV/0!', '#DIV/0!', '#DIV/0!', '#DIV/0!', '#DIV/0!', '#DIV/0!', '#DIV/0!'], ['512925', 8, 'NVH_PTPY2.10_SUN_ONL', 'Joshi Harshit', 'None', '08:00', 'https://docs.google.com/spreadsheets/d/1ODoFAeD5sUIpkzm31i6SCybHSarFyynzSqaxNJ6nzLM/edit?usp=sharing', 'D2 Nguyen Van Huong', 1, '08.10.2023\\xa008:00', 29, '0%', 'Non', '08.04.2023 14:30', '17.12.2023 08:00', 4.0, 4.0, 4.0, 4.0, 4.0, 4.0, 4.0, 4.0, 4.0, 4.0, 4.0, 4.0, 4.0, 4.0, 4.0, 4.0, 4.0, 4.0, 5.0, 4.0, 4.0, 4.0, 4.0, 4.0, 4.0, 4.0, 5.0, 5.0, '#DIV/0!', '#DIV/0!', '#DIV/0!', '#DIV/0!', '#DIV/0!', '#DIV/0!', '#DIV/0!', '#DIV/0!', '#DIV/0!', '#DIV/0!'], ['512538', 8, 'NVH_PTSY2.33_SUN_OFF', 'Bui Thomas', 'Mr.Kane', '09:00', 'https://docs.google.com/spreadsheets/d/1ULT04RFrnLeV624WJFrgw-NvRbAxn2O0Lnr4aEBrCCQ/edit?usp=sharing', 'D2 Nguyen Van Huong', 3, '08.10.2023\\xa009:00', 25, '0%', 'Python Start 2020/2021 - 2 M5L4', '09.04.2023 09:00', '24.12.2023 09:00', 5.0, 2.5, 3.5, 4.0, 4.0, 5.0, 5.0, 4.0, 5.0, 5.0, 4.0, 4.5, 4.0, 4.0, 3.5, 4.0, 4.0, 5.0, 4.5, 3.0, 4.33, 4.33, 4.33, 4.67, '#DIV/0!', '#DIV/0!', '#DIV/0!', '#DIV/0!', '#DIV/0!', '#DIV/0!', '#DIV/0!', '#DIV/0!', '#DIV/0!', '#DIV/0!', '#DIV/0!', '#DIV/0!', '#DIV/0!', '#DIV/0!'], ['512530', 8, 'NVH_PTSY2.32_SUN_ONL', 'Cao Nhat', 'None', '16:30', 'https://docs.google.com/spreadsheets/d/1fBDLn0tv6xDTVlf2-jgHF5JatKcor1Lw9AeatXVHbxU/edit?usp=sharing', 'D2 Nguyen Van Huong', 2, '08.10.2023\\xa016:30', 21, '0%', 'Python Start 2020/2021 - 2 M4 L4', '02.04.2023 16:30', '21.01.2024 16:30', 3.33, 4.33, 4.0, 4.0, 4.0, 2.0, 4.0, 4.0, 4.0, '#DIV/0!', '#DIV/0!', '#DIV/0!', 4.0, 4.0, 4.0, 4.0, 3.5, 4.0, 4.0, 4.0, '#DIV/0!', '#DIV/0!', '#DIV/0!', '#DIV/0!', '#DIV/0!', '#DIV/0!', '#DIV/0!', '#DIV/0!', '#DIV/0!', '#DIV/0!', '#DIV/0!', '#DIV/0!', '#DIV/0!', '#DIV/0!', '#DIV/0!', '#DIV/0!', '#DIV/0!', '#DIV/0!'], ['509929', 8, 'NVH_VP41_SUN_OFF', 'Tran Phoebe', 'None', '14:15', 'https://docs.google.com/spreadsheets/d/1nbkm42-MexHbSMXQFECEkxWEPDXofzmhRpHfpAZG5Cc/edit?usp=sharing', 'D2 Nguyen Van Huong', 2, '08.10.2023\\xa014:15', 18, '0%', 'Visual Programming 2020/2021 M6L2', '09.04.2023 14:15', '29.10.2023 14:15', 4.5, 4.0, 3.5, 3.5, 4.5, 4.0, 5.0, '#DIV/0!', 4.0, 3.0, 4.0, 3.0, 4.0, 4.5, 3.5, 4.5, '#DIV/0!', 4.5, 3.5, 3.5, 4.0, 3.5, 4.0, 3.5, '#DIV/0!', '#DIV/0!', 4.0, 4.5, 3.5, '#DIV/0!', '#DIV/0!', '#DIV/0!', '#DIV/0!', '#DIV/0!', '#DIV/0!', '#DIV/0!', '#DIV/0!', '#DIV/0!'], ['508984', 7, 'NVH_PTPY1.20_SAT_OFF', 'Wenner Josh', 'None', '14:00', 'https://docs.google.com/spreadsheets/d/1ETrvzpADz35WwxT8nuPXFqvOJ5LBzjM9gf6HjFvPU4M/edit?usp=sharing', 'D2 Nguyen Van Huong', 1, '07.10.2023\\xa014:00', 25, '0%', 'Python Pro (1 year) 2021/2022 – M5L4', '08.04.2023 14:00', '06.01.2024 14:00', 5.0, 5.0, 5.0, 5.0, 5.0, 4.0, 4.0, 5.0, 5.0, 4.0, 4.0, 4.0, 5.0, 4.0, 4.0, 4.0, 5.0, 4.0, 5.0, 4.0, 4.0, 5.0, 5.0, 5.0, '#DIV/0!', '#DIV/0!', '#DIV/0!', '#DIV/0!', '#DIV/0!', '#DIV/0!', '#DIV/0!', '#DIV/0!', '#DIV/0!', '#DIV/0!', '#DIV/0!', '#DIV/0!', '#DIV/0!', '#DIV/0!'], ['508271', 5, 'NVH_VP40_THU_ONL', 'Nguyen Eira (PT)', 'None', '17:30', 'https://docs.google.com/spreadsheets/d/192DwpBSbN4qkTSEvjIT95S4SBLIdLeRe6UiAewy3YWo/edit?usp=sharing', 'Online Campus', 4, '05.10.2023\\xa017:30', 26, '75%', 'Visual Programming 2020/2021 M5L4', '13.04.2023 17:30', '16.11.2023 17:30', 4.0, 5.0, 5.0, 5.0, 4.0, 4.5, 4.5, 4.0, 4.0, 5.0, 5.0, 4.5, 5.0, 5.0, 5.0, 5.0, 5.0, 5.0, 5.0, 5.0, 4.33, 4.0, 4.0, 4.33, 3.0, '#DIV/0!', '#DIV/0!', '#DIV/0!', '#DIV/0!', '#DIV/0!', '#DIV/0!', '#DIV/0!', '#DIV/0!', '#DIV/0!', '#DIV/0!', '#DIV/0!', '#DIV/0!', '#DIV/0!'], ['508270', 4, 'NVH_PTSY1.52_WED_OFF', 'Nguyen Nhi', 'None', '18:00', 'https://docs.google.com/spreadsheets/d/1Euw-GFiC0KSIfkzAwtxA3icOXgoCatOe5DFgqYnbI2Q/edit?usp=sharing', 'D2 Nguyen Van Huong', 3, '11.10.2023\\xa018:00', 25, '67%', 'Python Start 2021/2022 M5 L5', '14.04.2023 18:00', '03.01.2024 18:00', 5.0, 5.0, '#DIV/0!', 4.0, 4.0, '#DIV/0!', 4.0, 5.0, 5.0, 5.0, 5.0, 5.0, 5.0, 5.0, 5.0, 5.0, 5.0, 5.0, 5.0, 4.5, 4.5, 4.5, 5.0, '#DIV/0!', '#DIV/0!', '#DIV/0!', '#DIV/0!', '#DIV/0!', '#DIV/0!', '#DIV/0!', '#DIV/0!', '#DIV/0!', '#DIV/0!', '#DIV/0!', '#DIV/0!', '#DIV/0!', '#DIV/0!', '#DIV/0!'], ['507881', 8, 'NVH_PTSY1.51_SUN_ONL', 'Bui Liam', 'None', '16:30', 'https://docs.google.com/spreadsheets/d/142Nw02xKKdO0V22d3SHq4XbiZ7H23diWLDfjnxAuWu0/edit?usp=sharing', 'Online Campus', 1, '08.10.2023\\xa016:30', 25, '0%', 'Python Start 2021/2022 M5 L6', '09.04.2023 16:30', '24.12.2023 16:30', 3.67, 4.0, 4.0, 3.0, 3.0, 5.0, 5.0, '#DIV/0!', 4.5, 5.0, 4.0, 5.0, 5.0, 5.0, 5.0, 5.0, 5.0, 5.0, 5.0, 5.0, 5.0, 5.0, 5.0, 5.0, '#DIV/0!', '#DIV/0!', '#DIV/0!', '#DIV/0!', '#DIV/0!', '#DIV/0!', '#DIV/0!', '#DIV/0!', '#DIV/0!', '#DIV/0!', '#DIV/0!', '#DIV/0!', '#DIV/0!', '#DIV/0!'], ['506497', 5, 'NVH_PTSY1.50_THU_OFF', 'Bui Thomas', 'Ms.Trey', '16:30', 'https://docs.google.com/spreadsheets/d/1L-ZENnhVPPpYqahOo-FOh53_fNiFr3ppkpzAE5YjQno/edit?usp=sharing', 'D2 Nguyen Van Huong', 1, '05.10.2023\\xa016:30', 25, '100%', 'Python Start 2021/2022 M5 L5', '06.04.2023 16:30', '28.12.2023 16:30', 4.5, 3.0, 4.0, 3.5, 3.0, 3.0, 5.0, '#DIV/0!', 3.0, 4.5, 3.0, 5.0, 2.5, 2.5, 4.0, 5.0, 5.0, 5.0, 5.0, 5.0, 5.0, 5.0, 5.0, 5.0, 5.0, '#DIV/0!', '#DIV/0!', '#DIV/0!', '#DIV/0!', '#DIV/0!', '#DIV/0!', '#DIV/0!', '#DIV/0!', '#DIV/0!', '#DIV/0!', '#DIV/0!', '#DIV/0!', '#DIV/0!'], ['506014', 8, 'NVH_GD47_SUN_OFF', 'Nguyen Trey (PT)', 'Ms.Trey', '09:30', 'https://docs.google.com/spreadsheets/d/1AAXh78Y9QdI5HfWHkyl_wzdWITNlnsLOSSdgiQP4zDY/edit?usp=sharing', 'D2 Nguyen Van Huong', 3, '08.10.2023\\xa009:30', 24, '0%', 'GD 20/21 M3L4', '09.04.2023 09:30', '10.12.2023 09:30', 4.0, 4.25, 4.25, 4.5, 4.0, 4.5, 4.25, 3.5, 4.0, 4.0, 4.0, 4.0, 4.0, 3.5, 4.33, 4.67, 4.67, 3.0, 3.67, 4.0, 4.0, 3.67, 3.67, '#DIV/0!', '#DIV/0!', '#DIV/0!', '#DIV/0!', '#DIV/0!', '#DIV/0!', '#DIV/0!', '#DIV/0!', '#DIV/0!', '#DIV/0!', '#DIV/0!', '#DIV/0!', '#DIV/0!', '#DIV/0!', '#DIV/0!'], ['505621', 7, 'NVH_PTSY1.49_SAT_OFF', 'Nguyen Nhi', 'None', '18:00', 'https://docs.google.com/spreadsheets/d/1D24OYOwF3F7tzt8WnOZAgOF5_UQa5CiELHfQmyN4OVc/edit?usp=sharing', 'D2 Nguyen Van Huong', 2, '07.10.2023\\xa018:00', 24, '0%', 'Python Start 2021/2022 M5 L5', '01.04.2023 18:00', '30.12.2023 18:00', 5.0, 3.0, 4.0, 3.0, 4.5, 4.0, 3.5, 3.5, 4.5, 5.0, 4.5, 4.5, 4.0, 4.0, 3.0, 3.0, 5.0, 4.0, 4.5, 5.0, 4.5, 5.0, 5.0, '#DIV/0!', '#DIV/0!', '#DIV/0!', '#DIV/0!', '#DIV/0!', '#DIV/0!', '#DIV/0!', '#DIV/0!', '#DIV/0!', '#DIV/0!', '#DIV/0!', '#DIV/0!', '#DIV/0!', '#DIV/0!', '#DIV/0!'], ['501617', 7, 'NVH_VP39_SAT_OFF', 'Rita Vu', 'None', '10:00', 'https://docs.google.com/spreadsheets/d/1uifase8oNi_GhrU_M4yRWIrorG5PnVj517-e1tQu6Bs/edit?usp=sharing', 'D2 Nguyen Van Huong', 2, '07.10.2023\\xa010:00', 26, '0%', 'Visual Programming 2020/2021 M5L4', '25.03.2023 10:00', '18.11.2023 10:00', 5.0, 5.0, 5.0, 5.0, 5.0, 5.0, 5.0, 5.0, 4.5, 5.0, 5.0, 4.5, 4.5, 4.5, 5.0, 5.0, 5.0, 5.0, 4.0, 4.0, 5.0, 4.0, 4.0, 4.0, 4.5, '#DIV/0!', '#DIV/0!', '#DIV/0!', '#DIV/0!', '#DIV/0!', '#DIV/0!', '#DIV/0!', '#DIV/0!', '#DIV/0!', '#DIV/0!', '#DIV/0!', '#DIV/0!', '#DIV/0!'], ['501615', 7, 'NVH_PTSY2.30_SAT_OFF', 'Tran Anh', 'Mr.Kane', '10:00', 'https://docs.google.com/spreadsheets/d/1mATUzsSzFUULPdXPd77-RmSDe7oVJuwQIeUMEMR_iks/edit?usp=sharing', 'D2 Nguyen Van Huong', 3, '07.10.2023\\xa010:00', 28, '0%', 'Python Start 2020/2021 - 2 M6 L1', '18.03.2023 10:00', '04.11.2023 10:00', 3.33, 3.0, 3.67, 3.0, 4.0, 3.0, 3.67, 3.33, 4.0, 3.0, 3.5, 3.33, '#DIV/0!', '#DIV/0!', 3.5, 3.33, 3.5, 3.5, 3.67, 4.0, 5.0, 5.0, 3.67, 3.67, 3.67, 3.5, 3.0, '#DIV/0!', '#DIV/0!', '#DIV/0!', '#DIV/0!', '#DIV/0!', '#DIV/0!', '#DIV/0!', '#DIV/0!', '#DIV/0!', '#DIV/0!', '#DIV/0!'], ['501614', 6, 'NVH_PTPY2.9_FRI_OFF', 'Bui Liam', 'Mr.Wilson', '19:30', 'https://docs.google.com/spreadsheets/d/1--mWAIpS3OIAqaEYQIdTuk_zUYXZRHwD57CFeiJsh7s/edit?usp=sharing', 'D2 Nguyen Van Huong', 4, '06.10.2023\\xa019:30', 25, '0%', 'Non', '17.03.2023 19:30', '24.11.2023 19:30', 3.33, 4.0, 3.0, 3.0, 3.67, 3.25, 2.67, 3.33, 3.75, 3.75, 3.33, 3.5, '#DIV/0!', 5.0, 4.67, 5.0, '#DIV/0!', 5.0, 5.0, 5.0, 5.0, 5.0, 5.0, '#DIV/0!', '#DIV/0!', '#DIV/0!', '#DIV/0!', '#DIV/0!', '#DIV/0!', '#DIV/0!', '#DIV/0!', '#DIV/0!', '#DIV/0!', '#DIV/0!', '#DIV/0!', '#DIV/0!', '#DIV/0!', '#DIV/0!'], ['497723', 7, 'NVH_VP38_SAT_OFF', 'Nguyen Ly', 'None', '17:00', 'https://docs.google.com/spreadsheets/d/1zhz-pyvDYYt519h2_WQsxDFitFpkXB0drYkLEN6sCQY/edit?usp=sharing', 'D2 Nguyen Van Huong', 4, '07.10.2023\\xa017:00', 27, '0%', 'Visual Programming 2020/2021 M5L5', '18.03.2023 17:00', '11.11.2023 17:00', 3.5, 3.5, 4.0, 4.0, 2.5, 3.0, 3.5, 4.5, 3.5, 4.0, 4.0, 3.5, 3.5, 3.5, 4.0, 4.5, 4.5, 5.0, 4.0, 4.0, 4.5, 4.5, 4.0, 4.0, 4.0, 4.0, '#DIV/0!', '#DIV/0!', '#DIV/0!', '#DIV/0!', '#DIV/0!', '#DIV/0!', '#DIV/0!', '#DIV/0!', '#DIV/0!', '#DIV/0!', '#DIV/0!', '#DIV/0!'], ['495686', 2, 'NVH_GD46_MON_OFF', 'Phan Andrew', 'None', '19:00', 'https://docs.google.com/spreadsheets/d/1_Vg5jDerluJnmzMALXVJuZtMYOMVU7CxXwyilEJsV-Y/edit?usp=sharing', 'D2 Nguyen Van Huong', 2, '09.10.2023\\xa019:00', 28, '50%', 'GD 20/21 M4L4', '06.03.2023 19:00', '13.11.2023 19:00', 5.0, 5.0, 5.0, 5.0, 5.0, 5.0, 4.5, 4.5, 4.5, 5.0, 4.5, 4.0, 5.0, 4.5, 4.5, 4.5, 4.5, 4.0, 4.5, 4.0, 4.5, 4.5, 4.67, 5.0, 5.0, 4.5, 5.0, '#DIV/0!', '#DIV/0!', '#DIV/0!', '#DIV/0!', '#DIV/0!', '#DIV/0!', '#DIV/0!', '#DIV/0!', '#DIV/0!', '#DIV/0!', '#DIV/0!'], ['495198', 6, 'NVH_VP37_FRI_ONL', 'Nguyen Ly', 'None', '19:30', 'https://docs.google.com/spreadsheets/d/1O9eHkEM81otHGsUCbBzNeDAQgtDceYvcb4c60jC2wh0/edit?usp=sharing', 'D2 Nguyen Van Huong', 2, '06.10.2023\\xa019:30', 30, '0%', 'Visual Programming 2020/2021 M6L2', '03.03.2023 19:30', '20.10.2023 19:30', 5.0, 5.0, 4.0, 5.0, 5.0, 5.0, 5.0, 5.0, 5.0, 5.0, 5.0, 5.0, 5.0, 5.0, '#DIV/0!', 5.0, 5.0, 5.0, 5.0, 4.5, 4.0, 4.0, 4.0, '#DIV/0!', 4.5, 4.5, 4.5, 4.0, 4.5, '#DIV/0!', '#DIV/0!', '#DIV/0!', '#DIV/0!', '#DIV/0!', '#DIV/0!', '#DIV/0!', '#DIV/0!', '#DIV/0!'], ['493649', 3, 'NVH_CK33_TUE_ONL', 'Le Steven', 'None', '19:30', 'https://docs.google.com/spreadsheets/d/16sztIBUl-bw9NQEcRpCrUhhywSnbBkpQtx5X4-s3yNw/edit?usp=sharing', 'D2 Nguyen Van Huong', 1, '10.10.2023\\xa019:30', 31, '100%', 'M8L3, the Coding Knight course, 2021-2022', '07.03.2023 19:30', '17.10.2023 19:30', 5.0, 5.0, 5.0, '#DIV/0!', 3.0, 5.0, 5.0, 5.0, 5.0, 5.0, 5.0, 5.0, '#DIV/0!', 5.0, 5.0, 5.0, 5.0, 5.0, 5.0, 5.0, 5.0, 4.0, '#DIV/0!', 5.0, 4.0, 4.0, 4.0, 4.0, '#DIV/0!', 4.0, '#DIV/0!', '#DIV/0!', '#DIV/0!', '#DIV/0!', '#DIV/0!', '#DIV/0!', '#DIV/0!', '#DIV/0!'], ['493645', 3, 'NVH_VP36_TUE_ONL', 'Do Dan', 'None', '19:30', 'https://docs.google.com/spreadsheets/d/16vVa5fu_jKOnI68fBfPhO5pdlgfD_kZ_wvEs0ga1Qgo/edit?usp=sharing', 'D2 Nguyen Van Huong', 1, '10.10.2023\\xa019:30', 31, '100%', 'Visual Programming 2020/2021 M6L3', '07.03.2023 19:30', '17.10.2023 19:30', 5.0, 5.0, 5.0, '#DIV/0!', 5.0, 5.0, 5.0, 5.0, 5.0, 5.0, '#DIV/0!', 5.0, '#DIV/0!', 5.0, 5.0, 5.0, 5.0, 5.0, 5.0, 4.0, 5.0, 5.0, '#DIV/0!', 5.0, 5.0, 5.0, 5.0, 5.0, '#DIV/0!', 5.0, '#DIV/0!', '#DIV/0!', '#DIV/0!', '#DIV/0!', '#DIV/0!', '#DIV/0!', '#DIV/0!', '#DIV/0!'], ['492301', 6, 'NVH_GD45_FRI_OFF', 'Nguyen Trey (PT)', 'None', '17:30', 'https://docs.google.com/spreadsheets/d/1-5VfkCng3oRonsS_eKUBihYeoyUMozBLdMTS677FAMo/edit?usp=sharing', 'D2 Nguyen Van Huong', 2, '06.10.2023\\xa017:30', 27, '0%', 'GD 20/21 M4L3', '10.03.2023 17:30', '17.11.2023 17:30', 3.0, 4.0, 3.5, 3.5, 3.5, 4.5, 4.0, 4.0, 4.0, 3.5, 4.0, 4.0, '#DIV/0!', 5.0, 4.0, 3.5, 3.5, 4.0, 4.0, '#DIV/0!', 4.0, 4.0, 4.0, 4.0, 4.0, 5.0, '#DIV/0!', '#DIV/0!', '#DIV/0!', '#DIV/0!', '#DIV/0!', '#DIV/0!', '#DIV/0!', '#DIV/0!', '#DIV/0!', '#DIV/0!', '#DIV/0!', '#DIV/0!'], ['492299', 7, 'NVH_GD44_SAT_OFF', 'Tran Anh', 'None', '08:30', 'https://docs.google.com/spreadsheets/d/1YtZ22_DSJwbHWlf0ouLWL5gFGAYNcXaTsElvayFt9q0/edit?usp=sharing', 'D2 Nguyen Van Huong', 2, '07.10.2023\\xa008:30', 31, '0%', 'GD 20/21 M5L3', '25.02.2023 08:30', '21.10.2023 08:30', 5.0, 5.0, 5.0, 5.0, 5.0, 5.0, 5.0, 5.0, 5.0, 5.0, 5.0, 5.0, 5.0, 5.0, '#DIV/0!', 5.0, 5.0, 5.0, 5.0, 5.0, 5.0, 5.0, 5.0, 5.0, 3.0, 5.0, 5.0, 5.0, '#DIV/0!', 5.0, '#DIV/0!', '#DIV/0!', '#DIV/0!', '#DIV/0!', '#DIV/0!', '#DIV/0!', '#DIV/0!', '#DIV/0!'], ['490948', 4, 'NVH_GD43_WED_OFF', 'Tran Finn', 'Ms.Ranz', '16:00', 'https://docs.google.com/spreadsheets/d/1jpHPpzlZGt7T-1YiscBMUoi0A9QwuC_UOF1nLONRod0/edit?usp=sharing', 'D2 Nguyen Van Huong', 3, '11.10.2023\\xa016:00', 30, '100%', 'GD 20/21 M5L2', '08.03.2023 16:00', '01.11.2023 16:00', 4.5, 4.33, 4.5, 4.25, 5.0, 5.0, 4.5, 4.0, 3.75, 4.0, 4.5, 3.0, 4.0, 4.0, 3.75, 5.0, 5.0, 4.33, 5.0, 5.0, 5.0, 4.67, 5.0, 4.0, '#DIV/0!', 4.0, '#DIV/0!', '#DIV/0!', '#DIV/0!', '#DIV/0!', '#DIV/0!', '#DIV/0!', '#DIV/0!', '#DIV/0!', '#DIV/0!', '#DIV/0!', '#DIV/0!', '#DIV/0!'], ['490342', 6, 'NVH_PTPY1.19_FRI_OFF (PRIVATE)', 'Bui Thomas', 'None', '16:00', 'https://docs.google.com/spreadsheets/d/1K3hRgRGgBVZzkjbx96eXVbmyQP4duVYNt-capEbQXp0/edit?usp=sharing', 'D2 Nguyen Van Huong', 1, '06.10.2023\\xa016:00', 19, '0%', 'Python Pro (1 year) 2021/2022 – M5L3', '24.02.2023 16:00', '05.01.2024 16:00', 5.0, 5.0, 5.0, 5.0, 5.0, 5.0, 5.0, 5.0, 5.0, 5.0, 5.0, 5.0, 5.0, 5.0, 5.0, 5.0, 5.0, 5.0, '#DIV/0!', '#DIV/0!', '#DIV/0!', '#DIV/0!', '#DIV/0!', '#DIV/0!', '#DIV/0!', '#DIV/0!', '#DIV/0!', '#DIV/0!', '#DIV/0!', '#DIV/0!', '#DIV/0!', '#DIV/0!', '#DIV/0!', '#DIV/0!', '#DIV/0!', '#DIV/0!', '#DIV/0!', '#DIV/0!'], ['485625', 3, 'NVH_GD42_TUE_OFF', 'Nguyen Anthony', 'None', '15:00', 'https://docs.google.com/spreadsheets/d/1ZXhP4KXO78TIOd-5d3gY3hh6NgI_2OQBRct5Bqi5aTU/edit?usp=sharing', 'D2 Nguyen Van Huong', 1, '10.10.2023\\xa015:00', 29, '100%', 'GD 20/21 M5L1', '28.02.2023 15:00', '07.11.2023 15:00', 5.0, 5.0, 5.0, 5.0, '#DIV/0!', 4.0, 4.0, 4.0, 4.0, 5.0, 5.0, 5.0, 4.0, 4.0, 3.0, 3.0, 5.0, 4.0, 5.0, 5.0, 5.0, 5.0, 5.0, 5.0, 4.0, 4.0, 5.0, 4.0, '#DIV/0!', '#DIV/0!', '#DIV/0!', '#DIV/0!', '#DIV/0!', '#DIV/0!', '#DIV/0!', '#DIV/0!', '#DIV/0!', '#DIV/0!'], ['484580', 3, 'NVH_VP35_TUE_OFF', 'Nguyen Anthony', 'None', '17:30', 'https://docs.google.com/spreadsheets/d/1AhwB5JXDUPeIbOb-djG-Lo8i8YLgvdrHi97my7V7VXs/edit?usp=sharing', 'D2 Nguyen Van Huong', 2, '10.10.2023\\xa017:30', 29, '100%', 'Visual Programming 2020/2021 M6L1', '14.02.2023 17:30', '31.10.2023 17:30', 4.0, 5.0, 4.0, 4.0, 4.0, 4.0, '#DIV/0!', 4.0, 4.0, 4.0, 4.0, 5.0, '#DIV/0!', 4.0, '#DIV/0!', 4.0, 4.0, '#DIV/0!', 4.0, 4.0, 3.0, 3.0, 4.0, 3.5, 3.5, 4.0, 4.0, 4.5, '#DIV/0!', '#DIV/0!', '#DIV/0!', '#DIV/0!', '#DIV/0!', '#DIV/0!', '#DIV/0!', '#DIV/0!', '#DIV/0!', '#DIV/0!'], ['484002', 8, 'NVH_DL11_SUN_OFF', 'Le Steven', 'Ms.Eira', '09:00', 'https://docs.google.com/spreadsheets/d/1pz0M8rVGOyNthA02MLooKEFoWda4fKGLy1Lpwqm-_e8/edit?usp=sharing', 'D2 Nguyen Van Huong', 1, '08.10.2023\\xa009:00', 31, '0%', 'DL M8L3', '26.02.2023 09:00', '15.10.2023 09:00', 4.33, 4.33, 3.0, 4.33, 4.67, 3.67, 4.5, 3.67, 3.5, 4.0, 3.67, 5.0, 4.0, 5.0, 4.0, 3.5, 4.0, 4.0, 3.0, '#DIV/0!', 4.0, 4.0, 3.0, 4.0, 4.0, 4.0, 4.0, 3.0, 4.0, 4.0, '#DIV/0!', '#DIV/0!', '#DIV/0!', '#DIV/0!', '#DIV/0!', '#DIV/0!', '#DIV/0!', '#DIV/0!'], ['483998', 6, 'NVH_PTSY2.29_FRI_ONL', 'Bui Thomas', 'None', '18:30', 'https://docs.google.com/spreadsheets/d/1b_WKBP018JpIq9sFMjG5N8ng7UctNoyMwk_LfHNBM-g/edit#gid=110968946', 'D2 Nguyen Van Huong', 1, '06.10.2023\\xa018:30', 32, '0%', 'Python Start 2020/2021 - 2 Graduation', '17.02.2023 18:30', '06.10.2023 18:30', 2.5, 3.0, 2.0, 3.0, 3.0, 4.0, 4.0, 4.0, 3.5, 3.5, 3.5, 3.5, 3.0, 3.5, 5.0, 5.0, 5.0, 4.0, 4.0, 5.0, 4.0, 4.0, 5.0, '#DIV/0!', 5.0, 5.0, 5.0, 5.0, '#DIV/0!', 5.0, 5.0, '#DIV/0!', '#DIV/0!', '#DIV/0!', '#DIV/0!', '#DIV/0!', '#DIV/0!', '#DIV/0!'], ['480257', 7, 'NVH_GD41_SAT_OFF', 'Tran Finn', 'Mr.Henry', '16:30', 'https://docs.google.com/spreadsheets/d/1O6-HcJw6CgQX37BlN-MBkbD7rBJWdLeLzGPWal---PQ/edit?usp=sharing', 'D2 Nguyen Van Huong', 3, '07.10.2023\\xa016:30', 31, '0%', 'GD 20/21 M5L3', '04.02.2023 16:30', '21.10.2023 16:30', 4.0, 5.0, 4.5, 4.0, 5.0, 4.25, 5.0, 5.0, 4.0, 4.5, 4.0, 3.75, 4.0, 3.75, 4.25, 5.0, 4.0, 2.75, 4.0, 4.67, 4.0, 4.0, 4.33, 4.0, '#DIV/0!', '#DIV/0!', '#DIV/0!', '#DIV/0!', '#DIV/0!', '#DIV/0!', '#DIV/0!', '#DIV/0!', '#DIV/0!', '#DIV/0!', '#DIV/0!', '#DIV/0!', '#DIV/0!', '#DIV/0!'], ['480255', 7, 'NVH_GD40_SAT_ONL', 'Le Steven', 'None', '08:30', 'https://docs.google.com/spreadsheets/d/1CnOPih2ze0Ann-4xTU8hK2eqDoHhS_COm1j2_N6JYdE/edit#gid=1315893701', 'D2 Nguyen Van Huong', 1, '07.10.2023\\xa008:30', 32, '0%', 'GD 20/21 M5L4', '18.02.2023 08:30', '14.10.2023 08:30', 4.67, 3.67, 4.5, 5.0, 4.33, 4.67, 5.0, 4.0, 4.5, 4.0, 3.0, 4.5, 4.0, '#DIV/0!', 4.0, 5.0, 4.0, 4.0, 4.0, 4.0, 4.0, 4.0, 4.5, 4.0, 4.0, '#DIV/0!', 4.0, 4.0, 4.0, 4.0, 4.0, '#DIV/0!', '#DIV/0!', '#DIV/0!', '#DIV/0!', '#DIV/0!', '#DIV/0!', '#DIV/0!'], ['469098', 4, 'NVH_PTPY1.17_WED_ONL (PRIVATE)', 'Bui Liam', 'None', '19:00', 'https://docs.google.com/spreadsheets/d/1rPIwddkpN91IavJfs3X48NVcm_sIFDxerL8ExGa4Vh4/edit#gid=1315893701', 'D2 Nguyen Van Huong', 1, '11.10.2023\\xa019:00', 30, '100%', 'Python Pro (year 1) 2021/2022 – M7L4', '08.03.2023 19:00', '25.10.2023 19:00', 4.0, 4.0, 4.0, 4.0, 4.0, 3.0, 3.0, 3.0, 3.0, 3.0, 3.0, 4.0, 3.0, 4.0, 4.0, 3.0, 4.0, 5.0, 5.0, 5.0, 5.0, 5.0, 5.0, 5.0, 5.0, 5.0, 5.0, 5.0, 5.0, '#DIV/0!', '#DIV/0!', '#DIV/0!', '#DIV/0!', '#DIV/0!', '#DIV/0!', '#DIV/0!', '#DIV/0!', '#DIV/0!'], ['466710', 7, 'NVH_PTSY1.46_SAT_OFF', 'Tran Dang', 'None', '14:00', 'https://docs.google.com/spreadsheets/d/10tftMcXyGzvx1DqdQ4n8E3pwFIX7vSrFL_QbPv_5-no/edit?usp=sharing', 'D2 Nguyen Van Huong', 1, '07.10.2023\\xa014:00', 25, '0%', 'Python Start 2021/2022 M6 L2', '04.02.2023 14:00', '25.11.2023 14:00', 5.0, 4.0, 5.0, 5.0, 5.0, 5.0, 4.0, '#DIV/0!', 4.0, 4.0, 5.0, 5.0, 5.0, 5.0, '#DIV/0!', 5.0, 5.0, 5.0, 4.0, '#DIV/0!', 4.0, 4.0, 5.0, 4.0, '#DIV/0!', '#DIV/0!', '#DIV/0!', '#DIV/0!', '#DIV/0!', '#DIV/0!', '#DIV/0!', '#DIV/0!', '#DIV/0!', '#DIV/0!', '#DIV/0!', '#DIV/0!', '#DIV/0!', '#DIV/0!'], ['466702', 2, 'NVH_DL9_MON_OFF', 'Le Thi Cam Tien (Evy)', 'None', '15:30', 'https://docs.google.com/spreadsheets/d/13unlunqvVq57ifMzWJvxX7VFz17pIWGkzK65jFpjM-M/edit?usp=sharing', 'D2 Nguyen Van Huong', 1, '09.10.2023\\xa015:30', 20, '0%', 'DL M5L4', '13.03.2023 15:30', '01.01.2024 15:30', 5.0, 5.0, 5.0, 5.0, 5.0, 5.0, 5.0, 5.0, 5.0, 5.0, 5.0, 5.0, 4.0, 5.0, 5.0, 4.0, 4.0, 4.0, '#DIV/0!', '#DIV/0!', '#DIV/0!', '#DIV/0!', '#DIV/0!', '#DIV/0!', '#DIV/0!', '#DIV/0!', '#DIV/0!', '#DIV/0!', '#DIV/0!', '#DIV/0!', '#DIV/0!', '#DIV/0!', '#DIV/0!', '#DIV/0!', '#DIV/0!', '#DIV/0!', '#DIV/0!', '#DIV/0!'], ['464958', 3, 'NVH_GD39_TUE_OFF (PRIVATE)', 'Tran Finn', 'None', '15:30', 'https://docs.google.com/spreadsheets/d/1WWq4Tdttc9iMEUXr5-soqGcEg-o3xQJjE-G-PGtABOs/edit#gid=1315893701', 'D2 Nguyen Van Huong', 1, '19.10.2023\\xa015:30', 30, 'TBU', 'GD 20/21 M5L2', '10.01.2023 09:00', '09.11.2023 15:30', 5.0, 5.0, 5.0, 5.0, 5.0, 5.0, 5.0, 5.0, 5.0, 5.0, '#DIV/0!', 5.0, 5.0, 5.0, 5.0, 5.0, 5.0, '#DIV/0!', 5.0, 5.0, 4.0, 5.0, 5.0, 5.0, 5.0, 5.0, '#DIV/0!', 5.0, 5.0, 5.0, 5.0, '#DIV/0!', '#DIV/0!', '#DIV/0!', '#DIV/0!', '#DIV/0!', '#DIV/0!', '#DIV/0!'], ['464957', 4, 'NVH_GD38_WED_OFF', 'Nguyen Trey (PT)', 'Ms.Trey', '18:00', 'https://docs.google.com/spreadsheets/d/1ZnTQQg8JVHMS_pT7PjBzYbm3nezkrm7flpTrZ8Cdvg0/edit?usp=sharing', 'D2 Nguyen Van Huong', 4, '11.10.2023\\xa018:00', 31, '75%', 'GD 20/21 M5L3', '08.03.2023 18:00', '25.10.2023 18:00', 4.33, 4.33, 4.5, 5.0, 4.33, 4.33, 4.0, 3.33, 3.33, 4.0, 3.0, 3.0, 4.5, 4.0, 4.5, 4.0, 4.0, 4.67, 4.33, 4.0, 4.0, 4.0, 4.0, 3.33, 3.33, 4.0, 3.5, 3.5, 3.75, 3.5, '#DIV/0!', '#DIV/0!', '#DIV/0!', '#DIV/0!', '#DIV/0!', '#DIV/0!', '#DIV/0!', '#DIV/0!'], ['458170', 6, 'NVH_VP31_FRI_OFF', 'Dang Phoenix', 'Ms.Ranz', '18:30', 'https://docs.google.com/spreadsheets/d/1ZUq6QGg7WsgmktQSzCdhJ3JqCB4JZgoCcFjRE392rNQ/edit?usp=sharing', 'D2 Nguyen Van Huong', 3, '06.10.2023\\xa018:30', 31, '0%', 'Visual Programming 2020/2021 M6L3', '06.01.2023 18:30', '13.10.2023 18:30', 4.0, 3.67, 4.0, 4.0, 5.0, 5.0, 4.33, 5.0, 5.0, 5.0, 5.0, 5.0, 4.0, 4.0, 4.0, 5.0, 5.0, 5.0, 4.0, 5.0, 4.0, 4.0, 3.0, 4.0, 3.0, 3.33, 3.0, 5.0, 4.0, '#DIV/0!', '#DIV/0!', '#DIV/0!', '#DIV/0!', '#DIV/0!', '#DIV/0!', '#DIV/0!', '#DIV/0!', '#DIV/0!'], ['457558', 4, 'NVH_GD36_WED_OFF', 'Nguyen Anthony', 'Mr.Wilson', '17:30', 'https://docs.google.com/spreadsheets/d/1DPwoa8FoocXsHvz0ep-MbOYyRAn56FIGIiYfisjujfs/edit?usp=sharing', 'D2 Nguyen Van Huong', 5, '11.10.2023\\xa017:30', 31, '80%', 'GD 20/21 M5L3', '01.02.2023 17:30', '25.10.2023 17:30', 5.0, 4.2, 5.0, 5.0, 4.4, 5.0, 5.0, 4.0, 4.0, 4.25, 5.0, 3.6, 3.4, 3.5, 5.0, 5.0, 3.0, 3.2, 3.0, 3.33, 4.0, 4.0, 4.0, 4.25, 4.4, 3.25, 3.0, 3.4, 3.4, 3.5, '#DIV/0!', '#DIV/0!', '#DIV/0!', '#DIV/0!', '#DIV/0!', '#DIV/0!', '#DIV/0!', '#DIV/0!'], ['446068', 7, 'NVH_PTSY2.28_SAT_OFF (PRIVATE)', 'Wenner Josh', 'None', '13:00', 'https://docs.google.com/spreadsheets/d/1X4oruhsgIlBhxzeeSbgzXLUckCiZdnQ15TYdr-C9xuI/edit?usp=sharing', 'D2 Nguyen Van Huong', 1, '07.10.2023\\xa013:00', 28, '0%', 'Python Start 2020/2021 - 2 M6 L1', '03.12.2022 13:00', '04.11.2023 13:00', 3.0, 4.0, 4.0, 3.0, 3.0, '#DIV/0!', 4.0, 4.0, 3.0, 4.0, '#DIV/0!', 3.0, 2.0, 4.0, 3.0, 3.0, 3.0, 3.0, '#DIV/0!', '#DIV/0!', '#DIV/0!', '#DIV/0!', '#DIV/0!', '#DIV/0!', '#DIV/0!', '#DIV/0!', '#DIV/0!', '#DIV/0!', '#DIV/0!', '#DIV/0!', '#DIV/0!', '#DIV/0!', '#DIV/0!', '#DIV/0!', '#DIV/0!', '#DIV/0!', '#DIV/0!', '#DIV/0!'], ['445421', 7, 'NVH_DL7_SAT_OFF (PRIVATE)', 'Nguyen Ly', 'None', '13:00', 'https://docs.google.com/spreadsheets/d/1ynJLVi8q9q7t4Cokf0BHgqCW4FsnZtV3nosi8S1Xpp4/edit?usp=sharing', 'D2 Nguyen Van Huong', 1, '07.10.2023\\xa013:00', 25, '0%', 'DL M7L1', '17.12.2022 13:00', '25.11.2023 13:00', 5.0, '#DIV/0!', 3.0, 3.0, 4.0, 3.0, '#DIV/0!', 3.0, 4.0, 4.0, 5.0, 4.0, 4.0, 4.0, 4.0, 5.0, 5.0, 4.0, 5.0, 5.0, 3.0, 4.0, 5.0, 5.0, '#DIV/0!', '#DIV/0!', '#DIV/0!', '#DIV/0!', '#DIV/0!', '#DIV/0!', '#DIV/0!', '#DIV/0!', '#DIV/0!', '#DIV/0!', '#DIV/0!', '#DIV/0!', '#DIV/0!', '#DIV/0!'], ['435791', 7, 'NVH_CK30_SAT_OFF', 'Tran Dang', 'None', '17:00', 'https://docs.google.com/spreadsheets/d/1ctq_1u4M6E3bXk-I80Iw1WFdijKPzP5lcHjLsR7wP4U/edit?usp=sharing', 'D2 Nguyen Van Huong', 1, '07.10.2023\\xa017:00', 30, '0%', 'M8L2, the Coding Knight course, 2021-2022', '03.12.2022 17:00', '21.10.2023 17:00', 5.0, 5.0, 5.0, 5.0, 5.0, 5.0, 5.0, 5.0, 5.0, 5.0, 5.0, 5.0, 5.0, 5.0, 5.0, 5.0, 5.0, 4.0, 4.0, 5.0, 5.0, 5.0, 5.0, 5.0, 4.0, 4.0, 4.0, 4.0, 4.0, '#DIV/0!', '#DIV/0!', '#DIV/0!', '#DIV/0!', '#DIV/0!', '#DIV/0!', '#DIV/0!', '#DIV/0!', '#DIV/0!'], ['430687', 7, 'NVH_DL6_SAT_OFF', 'Ngo Kacey', 'None', '10:30', 'https://docs.google.com/spreadsheets/d/1RjrVTfqZMPAvgVEH19KoVm1EN42gHLl-yyh5uD-3NrA/edit?usp=sharing', 'D2 Nguyen Van Huong', 1, '07.10.2023\\xa010:30', 28, '0%', 'DL M7L4', '10.12.2022 09:30', '04.11.2023 10:30', 2.0, 3.0, 2.0, 3.0, 4.0, 4.0, 4.0, 3.0, 2.0, '#DIV/0!', 4.0, 4.0, 3.0, 4.0, 4.0, 5.0, 3.0, 4.0, 4.0, 5.0, 4.0, 5.0, '#DIV/0!', 5.0, '#DIV/0!', '#DIV/0!', 5.0, '#DIV/0!', '#DIV/0!', '#DIV/0!', '#DIV/0!', '#DIV/0!', '#DIV/0!', '#DIV/0!', '#DIV/0!', '#DIV/0!', '#DIV/0!', '#DIV/0!'], ['430685', 4, 'NVH_UGD2_WED_OFF (PRIVATE)', 'Tran Finn', 'None', '14:35', 'https://docs.google.com/spreadsheets/d/1L6k--LovwywPeDbrCjljuDJtYmcMaQ2CoMxS8DwUnXY/edit?usp=sharing', 'D2 Nguyen Van Huong', 1, '11.10.2023\\xa014:35', 28, '0%', 'Unity M6L1', '05.12.2022 14:35', '06.12.2023 14:35', 4.0, 4.0, 4.0, 4.0, 3.0, 3.0, 3.0, 3.0, '#DIV/0!', 4.0, '#DIV/0!', '#DIV/0!', '#DIV/0!', '#DIV/0!', '#DIV/0!', '#DIV/0!', '#DIV/0!', '#DIV/0!', '#DIV/0!', '#DIV/0!', 3.0, 3.0, 4.0, '#DIV/0!', '#DIV/0!', '#DIV/0!', '#DIV/0!', '#DIV/0!', '#DIV/0!', '#DIV/0!', '#DIV/0!', '#DIV/0!', '#DIV/0!', '#DIV/0!', '#DIV/0!', '#DIV/0!', '#DIV/0!', '#DIV/0!'], ['378763', 4, 'NVH_VP25_WED_OFF', 'Nguyen Ly', 'None', '19:00', 'https://docs.google.com/spreadsheets/d/1ZeS-be0NaFJ6Q5VhRuylCS1tVDFolO4x94B1RrvfQNI/edit?usp=sharing', 'D2 Nguyen Van Huong', 1, '11.10.2023\\xa019:00', 31, '100%', 'Visual Programming 2020/2021 M6L3', '28.12.2022 19:00', '18.10.2023 19:00', '#DIV/0!', '#DIV/0!', 5.0, 5.0, 5.0, 5.0, 5.0, 5.0, 5.0, 5.0, 5.0, 5.0, 4.0, 5.0, 4.0, 5.0, 5.0, 4.0, '#DIV/0!', '#DIV/0!', 4.0, 5.0, 5.0, 4.0, 4.0, 4.0, 5.0, 4.0, 4.0, 5.0, '#DIV/0!', '#DIV/0!', '#DIV/0!', '#DIV/0!', '#DIV/0!', '#DIV/0!', '#DIV/0!', '#DIV/0!']]\n"
          ]
        }
      ],
      "source": [
        "print(nvh_groups)"
      ]
    },
    {
      "cell_type": "code",
      "execution_count": 6,
      "metadata": {
        "id": "stuyAan09qPQ"
      },
      "outputs": [],
      "source": [
        "# def get_feedback():\n",
        "#   feedback_need,groups = get_data(percentages)\n",
        "#   student_sheet  = {2 : \"C36:D45\", 5 :\"C36:D45\", 9 : \"C69:D78\", 13 : \"C102:D111\", 21 : \"C168:D177\", 25 : \"C201:D210\", 29 : \"C234:D243\"}\n",
        "#   feedback_sheet = {2 : \"M36:O45\", 5 :\"S36:V45\" ,9 : \"P69:S78\", 13 : \"P102:S111\", 21 : \"P168:S177\", 25 : \"P201:S210\", 29 : \"P234:S243\"}\n",
        "#   # print(feedback_need)\n",
        "#   class_report = []\n",
        "  \n",
        "#   for group_name,value in feedback_need.items():\n",
        "  \n",
        "\n",
        "#     link = value[0]\n",
        "#     lesson = value[1]\n",
        "#     feed = feedback_sheet[lesson]\n",
        "#     student = student_sheet[lesson]\n",
        "#     try:\n",
        "#       result1 = sheet.values().get(spreadsheetId=link, range=f'Report!{student}').execute()\n",
        "#       values1 = result1.get('values', [])\n",
        "#       result2 = sheet.values().get(spreadsheetId=link, range=f'Report!{feed}').execute()\n",
        "#       values2 = result2.get('values', [])\n",
        "      \n",
        "#       for i in range(len(values1)):\n",
        "#         try:\n",
        "#           class_report.append([group_name,lesson,values1[i][0],values2[i][0].replace(\"\\n\", \" \").replace(\"\\t\", \" \")])\n",
        "#         except:\n",
        "#           try:\n",
        "#             class_report.append([group_name,lesson,values1[i][0],\"not yet\"])\n",
        "#           except:\n",
        "#             pass\n",
        "#     except HttpError:\n",
        "#       time.sleep(60)\n",
        "\n",
        "#   return class_report\n",
        "    \n",
        "# get_feedback()"
      ]
    },
    {
      "attachments": {},
      "cell_type": "markdown",
      "metadata": {},
      "source": [
        "push to Feedback Sheet "
      ]
    },
    {
      "cell_type": "code",
      "execution_count": 7,
      "metadata": {
        "id": "h6zOQVWyA1Vo"
      },
      "outputs": [],
      "source": [
        "# def push_to_sheet():\n",
        "#   # print(data)\n",
        "#   # 1EzB0-CpBYUe1J8z9jjDEPIBc3tcOwyBJZyPXN6HPZgE for testing\n",
        "#   # 1D8uRbAJXBJMcF0e8tXWKe5dRbiv-EW_by-SpNAxZ3qA for real data update\n",
        "#   class_report = get_feedback()\n",
        "#   result = sheet.values().clear(\n",
        "#           spreadsheetId=\"1D8uRbAJXBJMcF0e8tXWKe5dRbiv-EW_by-SpNAxZ3qA\",\n",
        "#           range=\"Feedback Report!A1:ZZZ\"\n",
        "#       ).execute()\n",
        "#   resource2 = {\n",
        "#         \"majorDimension\": \"ROWS\",\n",
        "#         \"values\": class_report\n",
        "#     }\n",
        "#   result = sheet.values().update(\n",
        "#             spreadsheetId= \"1D8uRbAJXBJMcF0e8tXWKe5dRbiv-EW_by-SpNAxZ3qA\",\n",
        "#             range= f\"Feedback Report!A2\",\n",
        "#             valueInputOption=\"RAW\",\n",
        "#             body=resource2).execute()\n",
        "# push_to_sheet()"
      ]
    },
    {
      "attachments": {},
      "cell_type": "markdown",
      "metadata": {},
      "source": [
        "Get the Finished classes"
      ]
    },
    {
      "cell_type": "code",
      "execution_count": 21,
      "metadata": {},
      "outputs": [
        {
          "name": "stdout",
          "output_type": "stream",
          "text": [
            "[['490346', 'NLB_GD50_THU_ONL', 1, 'https://docs.google.com/spreadsheets/d/1B4_nV9KmC-SEXgltvtQQKZRn8cOob8QApUlqvYQG7No/edit?usp=sharing', 'Finished', '28.09.2023'], ['470990', 'NLB_PTSY2.17_FRI_ONL', 2, 'https://docs.google.com/spreadsheets/d/1T0OeK0golKY9hnoT0Dpu3d1X7NTVkDgChiUbFPLXeLk/edit?usp=sharing', 'Finished', '15.09.2023'], ['470989', 'NLB_GD48_FRI_ONL', 2, 'https://docs.google.com/spreadsheets/d/19VIXImOgZp-h6MZnrU45CGoI7GkR_m3A77tZjkyAuJ8/edit?usp=sharing', 'Finished', '22.09.2023'], ['470983', 'NLB_PTSY1.48_THU_ONL', 2, 'https://docs.google.com/spreadsheets/d/1TPBneEVEigYDfSwd-WTkjGOgBmDSTAFyJARggudhHFw/edit?usp=sharing', 'Finished', '28.09.2023'], ['468205', 'NLB_GD47_SAT_ONL', 4, 'https://docs.google.com/spreadsheets/d/1Tk_aIDFMDktNjN0dNZVVvZYRmCycdJL8a4A85yycbB8/edit?usp=sharing', 'Finished', '23.09.2023'], ['468185', 'NLB_GD46_SAT_OFF', 8, 'https://docs.google.com/spreadsheets/d/1kiMaadhZLVtUk8s1ZS_bLZH65yU6NjBdVJnQPVvVtVg/edit?usp=sharing', 'Finished', '30.09.2023'], ['468182', 'NLB_VP33_SAT_OFF', 7, 'https://docs.google.com/spreadsheets/d/1DMf39H5RKQVzOKEw57-R1Jkj3lj1knxZa6IzK-Wym2k/edit?usp=sharing', 'Finished', '30.09.2023'], ['466706', 'NLB_CK30_TUE_OFF', 1, 'https://docs.google.com/spreadsheets/d/1a5t5J86RigEEm1biG_-zsRdmvzkKZcFSkgugmRPiw4I/edit?usp=sharing', 'Finished', '19.09.2023'], ['466705', 'NLB_GD45_TUE_OFF', 6, 'https://docs.google.com/spreadsheets/d/1VV4gJQohQ3si4FWbHqqlpr_xN9RJPqNhlO-cZnrvTLo/edit?usp=sharing', 'Finished', '19.09.2023'], ['466700', 'NLB_GD44_WED_OFF', 4, 'https://docs.google.com/spreadsheets/d/14C2W187tj0QCWGO8bht4xkb8X0qQzyVdG_aZb0N6kkY/edit?usp=sharing', 'Finished', '27.09.2023'], ['464682', 'NLB_PTSY1.46_SAT_OFF', 4, 'https://docs.google.com/spreadsheets/d/1Dtk3GUv-odU3e7BMRMxxgG9Qy-O_e1RaLCIbQ8IxkUk/edit?usp=sharing', 'Finished', '23.09.2023'], ['463981', 'NLB_VP30_SUN_ONL', 3, 'https://docs.google.com/spreadsheets/d/1jytuGVYI4PkDty_W4gwOla_awI8cbiW-zydiOFzH-iI/edit?usp=sharing', 'Finished', '10.09.2023'], ['463980', 'NLB_CK29_SUN_ONL', 2, 'https://docs.google.com/spreadsheets/d/1kiqkACdMYJNfp0QriVPgFwxMFDG_kdiGLjK9aZ2n_MQ/edit?usp=sharing', 'Finished', '10.09.2023'], ['453104', 'NLB_VP29_SAT_ONL', 2, 'https://docs.google.com/spreadsheets/d/1KFTZcV5JAH0XbgRRKSWgTOI4dz0qRukqBB4G4hrVM2I/edit?usp=sharing', 'Finished', '16.09.2023'], ['446066', 'NLB_GD42_SUN_OFF', 4, 'https://docs.google.com/spreadsheets/d/10w8Z5LNcx50oilSjtaTd2TRUSGumkvzcAfLOk74Vh78/edit?usp=sharing', 'Finished', '10.09.2023'], ['446065', 'NLB_CK28_SUN_OFF', 3, 'https://docs.google.com/spreadsheets/d/1zjpYhZ0u3CIwBAHTGhMT5ORAFNBaL6hKiZr4GVyFxec/edit?usp=sharing', 'Finished', '10.09.2023'], ['443551', 'NLB_DL8_WED_ONL', 1, 'https://docs.google.com/spreadsheets/d/11-tdWQk3jviM8Ixi3Ry6XyFeLrFzHYsjOBcvQt1wa60/edit?usp=sharing', 'Finished', '13.09.2023'], ['436313', 'NLB_PTSY2.15_SAT_ONL', 2, 'https://docs.google.com/spreadsheets/d/1gf_I94dS0zZbaCh7cYeIJKZG5KlBbLnepSALCDW0JMI/edit?usp=sharing', 'Finished', '30.09.2023']]\n"
          ]
        }
      ],
      "source": [
        "def fin_classes():\n",
        "    fin_grp = []\n",
        "    for base in bases:\n",
        "        DOMAINS_FIN = \"https://lms.logika.asia/group?\"\n",
        "\n",
        "\n",
        "        para = f\"GroupSearch%5Bid%5D=&GroupSearch%5Btitle%5D={base}&GroupSearch%5Bvenue%5D=&GroupSearch%5Bactive_student_count%5D=&GroupSearch%5BnextLessonTime%5D=&GroupSearch%5BnextLessonNumber%5D=&GroupSearch%5BnextLessonTitle%5D=&GroupSearch%5Bteacher%5D=&GroupSearch%5Bcurator%5D=&GroupSearch%5Bstatus%5D=&GroupSearch%5Bstatus%5D%5B%5D=inactive&GroupSearch%5BcourseContentType%5D=&GroupSearch%5BcourseStartTime%5D=&GroupSearch%5BcourseEndTime%5D=2023-{date_now.month - 1}-01+-+2023-{date_now.month}-01&export=true&name=default&exportType=html\"\n",
        "\n",
        "\n",
        "        header = {\n",
        "\n",
        "            \"accept\": \"text/html,application/xhtml+xml,application/xml;q=0.9,image/avif,image/webp,image/apng,*/*;q=0.8,application/signed-exchange;v=b3;q=0.7\",\n",
        "            \"accept-language\": \"en-US,en;q=0.9,vi-VN;q=0.8,vi;q=0.7\",\n",
        "            \"cache-control\": \"max-age=0\",\n",
        "            \"sec-ch-ua\": \"\\\"Chromium\\\";v=\\\"116\\\", \\\"Not)A;Brand\\\";v=\\\"24\\\", \\\"Google Chrome\\\";v=\\\"116\\\"\",\n",
        "            \"sec-ch-ua-mobile\": \"?0\",\n",
        "            \"sec-ch-ua-platform\": \"\\\"Windows\\\"\",\n",
        "            \"sec-fetch-dest\": \"document\",\n",
        "            \"sec-fetch-mode\": \"navigate\",\n",
        "            \"sec-fetch-site\": \"same-origin\",\n",
        "            \"sec-fetch-user\": \"?1\",\n",
        "            \"upgrade-insecure-requests\": \"1\",\n",
        "            \"cookie\": \"_ym_uid=1664966280852805697; intercom-device-id-ufjpx6k3=fd3080c1-5a63-4af6-bd1f-15268d549a7e; userId=30454; _grid_page_size_schedule=35d0980fa38e2255112d0c62698773cab8aa12a81c6735caf172064b5eb6ea47a%3A2%3A%7Bi%3A0%3Bs%3A24%3A%22_grid_page_size_schedule%22%3Bi%3A1%3Bs%3A3%3A%22200%22%3B%7D; _grid_page_size=d3ebbdf9ec9235bfc4ba59572a6d3dd403a563222be148e9c705e91612194e49a%3A2%3A%7Bi%3A0%3Bs%3A15%3A%22_grid_page_size%22%3Bi%3A1%3Bs%3A3%3A%22200%22%3B%7D; _ym_d=1680775536; studentId=1700942; studentAccessToken=59839bd5ef574b15cd869fa67e04fcdf4a97e278085dee7a21dfeb1f5a33cd62; studentCreatedTimestamp=1693481460; previousPage=%2F; createdTimestamp=1693978386; accessToken=6f7fa0398bac5ce10b0d85e00fc01725eae9b60c7188cfc1963c98ed73504e82; SERVERID=b440; _backendMainSessionId=81389387a907ff2840bad3c150bb2e76; _gid=GA1.2.1044467574.1693978385; _ym_isad=2; _ym_visorc=w; _ga=GA1.2.1620969847.1664966279; _ga_3QSGZBLTE3=GS1.1.1693978384.233.1.1693978511.59.0.0; _ga_4CL98HXNQK=GS1.1.1693978385.60.1.1693978530.0.0.0\",\n",
        "            \"Referer\": f\"{DOMAINS_FIN}GroupSearch%5Bid%5D=&GroupSearch%5Btitle%5D={base}&GroupSearch%5Bvenue%5D=&GroupSearch%5Bactive_student_count%5D=&GroupSearch%5BnextLessonTime%5D=&GroupSearch%5BnextLessonNumber%5D=&GroupSearch%5BnextLessonTitle%5D=&GroupSearch%5Bteacher%5D=&GroupSearch%5Bcurator%5D=&GroupSearch%5Bstatus%5D=&GroupSearch%5Bstatus%5D%5B%5D=inactive&GroupSearch%5BcourseContentType%5D=&GroupSearch%5BcourseStartTime%5D=&GroupSearch%5BcourseEndTime%5D=2023-{date_now.month - 1}-01%20-%202023-{date_now.month}-01\",\n",
        "            \"Referrer-Policy\": \"strict-origin-when-cross-origin\"\n",
        "        }\n",
        "\n",
        "\n",
        "\n",
        "        end_point = DOMAINS_FIN + para\n",
        "        res = s.get(end_point, headers = header)\n",
        "        output = res.content.decode('utf-8')\n",
        "        soup = BeautifulSoup(output, 'html.parser', from_encoding='utf-8')\n",
        "        soup.find('tbody')\n",
        "        table_rows = soup.find_all('tr')\n",
        "        \n",
        "        # table_rows.remove(table_rows[0])\n",
        "        for tr in table_rows:\n",
        "            all_td = tr.find_all('td')\n",
        "            grp_id = str(all_td[0].string)\n",
        "            grp_name = all_td[1].find(\"a\")\n",
        "            cpr_url = all_td[1].find(\"p\")\n",
        "            cpr_url = str(cpr_url)\n",
        "            url = cpr_url[cpr_url.find(\"https\"):cpr_url.find(\"</p>\")]\n",
        "            num_of_std = all_td[3].find(\"span\")       \n",
        "            if num_of_std == None:\n",
        "                continue\n",
        "            num_of_std = str(num_of_std.string)[0]\n",
        "            if num_of_std == \"N\" or num_of_std == \"0\":\n",
        "                continue\n",
        "            num_of_std = int(num_of_std)\n",
        "            \n",
        "            grp_name = str(grp_name.string) \n",
        "            group_status = all_td[9].string\n",
        "            class_end_date = all_td[12].string\n",
        "            if class_end_date:\n",
        "                class_end_date = str(class_end_date)\n",
        "                class_end_date = class_end_date[:class_end_date.find(\" \")]\n",
        "            else:\n",
        "                class_end_date = None\n",
        "\n",
        "            if str(group_status) == \"Finished\" and str(group_status) != \"Collapsed\" and (grp_name.find(\"Trial\") == -1 or grp_name.find(\"Demo\") != -1):\n",
        "                fin_grp.append([grp_id , grp_name, num_of_std, url, group_status, class_end_date]) \n",
        "    resource = {\n",
        "        \"majorDimension\": \"ROWS\",\n",
        "        \"values\": fin_grp\n",
        "        }\n",
        "\n",
        "    result = sheet.values().update(\n",
        "        spreadsheetId= \"1D8uRbAJXBJMcF0e8tXWKe5dRbiv-EW_by-SpNAxZ3qA\",\n",
        "        range= f\"'Finished Groups'!A2\",\n",
        "        valueInputOption=\"RAW\",\n",
        "        body=resource).execute()  \n",
        "    return fin_grp\n",
        "\n",
        "\n",
        "fin_grp = fin_classes()\n",
        "print(fin_grp)\n"
      ]
    },
    {
      "cell_type": "code",
      "execution_count": 12,
      "metadata": {},
      "outputs": [
        {
          "name": "stdout",
          "output_type": "stream",
          "text": [
            "10\n"
          ]
        }
      ],
      "source": []
    },
    {
      "attachments": {},
      "cell_type": "markdown",
      "metadata": {},
      "source": [
        "Testing with Database"
      ]
    },
    {
      "cell_type": "code",
      "execution_count": 9,
      "metadata": {},
      "outputs": [
        {
          "name": "stdout",
          "output_type": "stream",
          "text": [
            "[['1098288', 7, 'VCP_PTSY1.18_SAT_OFF', 'Bui Thomas', 'None', '10:45', 'https://docs.google.com/spreadsheets/d/1vVZN2h02O4FgC6QBzvIOXGkd46GOJB2UaOwea8JFH_8/edit?usp=sharing', 'Vinhomes Central Park', 1, '07.10.2023\\xa010:45', 2, '0%', 'Python Start 2020/2021 M1 L2', '30.09.2023 10:45', '01.06.2024 10:45', 5.0, '#DIV/0!', '#DIV/0!', '#DIV/0!', '#DIV/0!', '#DIV/0!', '#DIV/0!', '#DIV/0!', '#DIV/0!', '#DIV/0!', '#DIV/0!', '#DIV/0!', '#DIV/0!', '#DIV/0!', '#DIV/0!', '#DIV/0!', '#DIV/0!', '#DIV/0!', '#DIV/0!', '#DIV/0!', '#DIV/0!', '#DIV/0!', '#DIV/0!', '#DIV/0!', '#DIV/0!', '#DIV/0!', '#DIV/0!', '#DIV/0!', '#DIV/0!', '#DIV/0!', '#DIV/0!', '#DIV/0!', '#DIV/0!', '#DIV/0!', '#DIV/0!', '#DIV/0!', '#DIV/0!', '#DIV/0!'], ['1080627', 8, 'VCP_GD30_SUN_OFF', 'Dinh Ranz (PT)', 'None', '15:30', 'https://docs.google.com/spreadsheets/d/1NhDXKPwK1FsV-Z6kUw5t46RzLFhttBOcU3ouT5mVEnA/edit?usp=sharing', 'Vinhomes Central Park', 1, '08.10.2023\\xa015:30', 3, '0%', 'GD 20/21 M1L3', '24.09.2023 15:30', '05.05.2024 15:30', 5.0, 5.0, '#DIV/0!', '#DIV/0!', '#DIV/0!', '#DIV/0!', '#DIV/0!', '#DIV/0!', '#DIV/0!', '#DIV/0!', '#DIV/0!', '#DIV/0!', '#DIV/0!', '#DIV/0!', '#DIV/0!', '#DIV/0!', '#DIV/0!', '#DIV/0!', '#DIV/0!', '#DIV/0!', '#DIV/0!', '#DIV/0!', '#DIV/0!', '#DIV/0!', '#DIV/0!', '#DIV/0!', '#DIV/0!', '#DIV/0!', '#DIV/0!', '#DIV/0!', '#DIV/0!', '#DIV/0!', '#DIV/0!', '#DIV/0!', '#DIV/0!', '#DIV/0!', '#DIV/0!', '#DIV/0!'], ['1071295', 2, 'VCP_WDY1.9_MON_OFF', 'Nguyen Est', 'None', '18:30', 'https://docs.google.com/spreadsheets/d/1aObVgKYKvNFUw0WI8oKg5FMBL6h_naldfQx_vqDbNb8/edit?usp=sharing', 'Vinhomes Central Park', 2, '09.10.2023\\xa018:30', 2, '100%', 'Graphic Design 12-14 2021/2022 M1 L2', '02.10.2023 18:30', '06.05.2024 18:30', 4.0, '#DIV/0!', '#DIV/0!', '#DIV/0!', '#DIV/0!', '#DIV/0!', '#DIV/0!', '#DIV/0!', '#DIV/0!', '#DIV/0!', '#DIV/0!', '#DIV/0!', '#DIV/0!', '#DIV/0!', '#DIV/0!', '#DIV/0!', '#DIV/0!', '#DIV/0!', '#DIV/0!', '#DIV/0!', '#DIV/0!', '#DIV/0!', '#DIV/0!', '#DIV/0!', '#DIV/0!', '#DIV/0!', '#DIV/0!', '#DIV/0!', '#DIV/0!', '#DIV/0!', '#DIV/0!', '#DIV/0!', '#DIV/0!', '#DIV/0!', '#DIV/0!', '#DIV/0!', '#DIV/0!', '#DIV/0!'], ['990131', 4, 'VCP_PTSY1.17_WED_ONL', 'Pham Louise', 'None', '19:00', 'https://docs.google.com/spreadsheets/d/14k-hD1tGUsxk2X0USXqzSwatMk8dVwVJKc3pYPGVU5M/edit?usp=sharing', 'Vinhomes Central Park', 1, '11.10.2023\\xa019:00', 5, '100%', 'Python Start 2020/2021 M2 L1', '13.09.2023 19:00', '15.05.2024 19:00', 4.0, 3.0, 3.0, 3.0, '#DIV/0!', '#DIV/0!', '#DIV/0!', '#DIV/0!', '#DIV/0!', '#DIV/0!', '#DIV/0!', '#DIV/0!', '#DIV/0!', '#DIV/0!', '#DIV/0!', '#DIV/0!', '#DIV/0!', '#DIV/0!', '#DIV/0!', '#DIV/0!', '#DIV/0!', '#DIV/0!', '#DIV/0!', '#DIV/0!', '#DIV/0!', '#DIV/0!', '#DIV/0!', '#DIV/0!', '#DIV/0!', '#DIV/0!', '#DIV/0!', '#DIV/0!', '#DIV/0!', '#DIV/0!', '#DIV/0!', '#DIV/0!', '#DIV/0!', '#DIV/0!'], ['990128', 6, 'VCP_PTSY2.10_FRI_OFF', 'Tran Hieu', 'None', '19:00', 'https://docs.google.com/spreadsheets/d/1ytlJ35Z_0WBCJy0STY_cOIDW5E1g9Yt9WgmXln8njHQ/edit?usp=sharing', 'Vinhomes Central Park', 1, '13.10.2023\\xa019:00', 4, 'TBU', 'Python Start - 2 2020/2021. M1L3', '08.09.2023 19:00', '31.05.2024 19:00', 5.0, 5.0, 3.0, '#DIV/0!', '#DIV/0!', '#DIV/0!', '#DIV/0!', '#DIV/0!', '#DIV/0!', '#DIV/0!', '#DIV/0!', '#DIV/0!', '#DIV/0!', '#DIV/0!', '#DIV/0!', '#DIV/0!', '#DIV/0!', '#DIV/0!', '#DIV/0!', '#DIV/0!', '#DIV/0!', '#DIV/0!', '#DIV/0!', '#DIV/0!', '#DIV/0!', '#DIV/0!', '#DIV/0!', '#DIV/0!', '#DIV/0!', '#DIV/0!', '#DIV/0!', '#DIV/0!', '#DIV/0!', '#DIV/0!', '#DIV/0!', '#DIV/0!', '#DIV/0!', '#DIV/0!']]\n",
            "[('1098288', 7, 'VCP_PTSY1.18_SAT_OFF', 'Bui Thomas', 'None', '10:45', 'https://docs.google.com/spreadsheets/d/1vVZN2h02O4FgC6QBzvIOXGkd46GOJB2UaOwea8JFH_8/edit?usp=sharing', 'Vinhomes Central Park', 1, '07.10.2023\\xa010:45', 2, '0%', 'Python Start 2020/2021 M1 L2', '30.09.2023 10:45', '01.06.2024 10:45', 5.0, '#DIV/0!', '#DIV/0!', '#DIV/0!', '#DIV/0!', '#DIV/0!', '#DIV/0!', '#DIV/0!', '#DIV/0!', '#DIV/0!', '#DIV/0!', '#DIV/0!', '#DIV/0!', '#DIV/0!', '#DIV/0!', '#DIV/0!', '#DIV/0!', '#DIV/0!', '#DIV/0!', '#DIV/0!', '#DIV/0!', '#DIV/0!', '#DIV/0!', '#DIV/0!', '#DIV/0!', '#DIV/0!', '#DIV/0!', '#DIV/0!', '#DIV/0!', '#DIV/0!', '#DIV/0!', '#DIV/0!', '#DIV/0!', '#DIV/0!', '#DIV/0!', '#DIV/0!', '#DIV/0!', '#DIV/0!'), ('1080627', 8, 'VCP_GD30_SUN_OFF', 'Dinh Ranz (PT)', 'None', '15:30', 'https://docs.google.com/spreadsheets/d/1NhDXKPwK1FsV-Z6kUw5t46RzLFhttBOcU3ouT5mVEnA/edit?usp=sharing', 'Vinhomes Central Park', 1, '08.10.2023\\xa015:30', 3, '0%', 'GD 20/21 M1L3', '24.09.2023 15:30', '05.05.2024 15:30', 5.0, 5.0, '#DIV/0!', '#DIV/0!', '#DIV/0!', '#DIV/0!', '#DIV/0!', '#DIV/0!', '#DIV/0!', '#DIV/0!', '#DIV/0!', '#DIV/0!', '#DIV/0!', '#DIV/0!', '#DIV/0!', '#DIV/0!', '#DIV/0!', '#DIV/0!', '#DIV/0!', '#DIV/0!', '#DIV/0!', '#DIV/0!', '#DIV/0!', '#DIV/0!', '#DIV/0!', '#DIV/0!', '#DIV/0!', '#DIV/0!', '#DIV/0!', '#DIV/0!', '#DIV/0!', '#DIV/0!', '#DIV/0!', '#DIV/0!', '#DIV/0!', '#DIV/0!', '#DIV/0!', '#DIV/0!'), ('1071295', 2, 'VCP_WDY1.9_MON_OFF', 'Nguyen Est', 'None', '18:30', 'https://docs.google.com/spreadsheets/d/1aObVgKYKvNFUw0WI8oKg5FMBL6h_naldfQx_vqDbNb8/edit?usp=sharing', 'Vinhomes Central Park', 2, '09.10.2023\\xa018:30', 2, '100%', 'Graphic Design 12-14 2021/2022 M1 L2', '02.10.2023 18:30', '06.05.2024 18:30', 4.0, '#DIV/0!', '#DIV/0!', '#DIV/0!', '#DIV/0!', '#DIV/0!', '#DIV/0!', '#DIV/0!', '#DIV/0!', '#DIV/0!', '#DIV/0!', '#DIV/0!', '#DIV/0!', '#DIV/0!', '#DIV/0!', '#DIV/0!', '#DIV/0!', '#DIV/0!', '#DIV/0!', '#DIV/0!', '#DIV/0!', '#DIV/0!', '#DIV/0!', '#DIV/0!', '#DIV/0!', '#DIV/0!', '#DIV/0!', '#DIV/0!', '#DIV/0!', '#DIV/0!', '#DIV/0!', '#DIV/0!', '#DIV/0!', '#DIV/0!', '#DIV/0!', '#DIV/0!', '#DIV/0!', '#DIV/0!'), ('990131', 4, 'VCP_PTSY1.17_WED_ONL', 'Pham Louise', 'None', '19:00', 'https://docs.google.com/spreadsheets/d/14k-hD1tGUsxk2X0USXqzSwatMk8dVwVJKc3pYPGVU5M/edit?usp=sharing', 'Vinhomes Central Park', 1, '11.10.2023\\xa019:00', 5, '100%', 'Python Start 2020/2021 M2 L1', '13.09.2023 19:00', '15.05.2024 19:00', 4.0, 3.0, 3.0, 3.0, '#DIV/0!', '#DIV/0!', '#DIV/0!', '#DIV/0!', '#DIV/0!', '#DIV/0!', '#DIV/0!', '#DIV/0!', '#DIV/0!', '#DIV/0!', '#DIV/0!', '#DIV/0!', '#DIV/0!', '#DIV/0!', '#DIV/0!', '#DIV/0!', '#DIV/0!', '#DIV/0!', '#DIV/0!', '#DIV/0!', '#DIV/0!', '#DIV/0!', '#DIV/0!', '#DIV/0!', '#DIV/0!', '#DIV/0!', '#DIV/0!', '#DIV/0!', '#DIV/0!', '#DIV/0!', '#DIV/0!', '#DIV/0!', '#DIV/0!', '#DIV/0!'), ('990128', 6, 'VCP_PTSY2.10_FRI_OFF', 'Tran Hieu', 'None', '19:00', 'https://docs.google.com/spreadsheets/d/1ytlJ35Z_0WBCJy0STY_cOIDW5E1g9Yt9WgmXln8njHQ/edit?usp=sharing', 'Vinhomes Central Park', 1, '13.10.2023\\xa019:00', 4, 'TBU', 'Python Start - 2 2020/2021. M1L3', '08.09.2023 19:00', '31.05.2024 19:00', 5.0, 5.0, 3.0, '#DIV/0!', '#DIV/0!', '#DIV/0!', '#DIV/0!', '#DIV/0!', '#DIV/0!', '#DIV/0!', '#DIV/0!', '#DIV/0!', '#DIV/0!', '#DIV/0!', '#DIV/0!', '#DIV/0!', '#DIV/0!', '#DIV/0!', '#DIV/0!', '#DIV/0!', '#DIV/0!', '#DIV/0!', '#DIV/0!', '#DIV/0!', '#DIV/0!', '#DIV/0!', '#DIV/0!', '#DIV/0!', '#DIV/0!', '#DIV/0!', '#DIV/0!', '#DIV/0!', '#DIV/0!', '#DIV/0!', '#DIV/0!', '#DIV/0!', '#DIV/0!', '#DIV/0!'), ('990126', 8, 'VCP_PTSY2.9_SUN_OFF', 'Su Aria (PT)', 'None', '09:00', 'https://docs.google.com/spreadsheets/d/169JpaYPJGfvFI49Zb86eS6TjzdkR4GRyMJATQKHvvUU/edit?usp=sharing', 'Vinhomes Central Park', 1, '08.10.2023\\xa009:00', 5, '0%', 'Python Start - 2 2020/2021 M1L4', '10.09.2023 09:00', '12.05.2024 09:00', 5.0, 5.0, 5.0, '#DIV/0!', '#DIV/0!', '#DIV/0!', '#DIV/0!', '#DIV/0!', '#DIV/0!', '#DIV/0!', '#DIV/0!', '#DIV/0!', '#DIV/0!', '#DIV/0!', '#DIV/0!', '#DIV/0!', '#DIV/0!', '#DIV/0!', '#DIV/0!', '#DIV/0!', '#DIV/0!', '#DIV/0!', '#DIV/0!', '#DIV/0!', '#DIV/0!', '#DIV/0!', '#DIV/0!', '#DIV/0!', '#DIV/0!', '#DIV/0!', '#DIV/0!', '#DIV/0!', '#DIV/0!', '#DIV/0!', '#DIV/0!', '#DIV/0!', '#DIV/0!', '#DIV/0!'), ('977762', 5, 'VCP_PTPY2.3_THU_OFF', 'Wenner Josh', 'None', '17:00', 'https://docs.google.com/spreadsheets/d/1W2GqGK7eETq6zHK3UPSu0ovOlG6-6Q9odyvjOafODoE/edit?usp=sharing', 'Vinhomes Central Park', 1, '05.10.2023\\xa017:00', 6, '100%', 'Non', '24.08.2023 17:00', '16.05.2024 17:00', 4.0, 4.0, 4.0, 4.0, 5.0, 5.0, '#DIV/0!', '#DIV/0!', '#DIV/0!', '#DIV/0!', '#DIV/0!', '#DIV/0!', '#DIV/0!', '#DIV/0!', '#DIV/0!', '#DIV/0!', '#DIV/0!', '#DIV/0!', '#DIV/0!', '#DIV/0!', '#DIV/0!', '#DIV/0!', '#DIV/0!', '#DIV/0!', '#DIV/0!', '#DIV/0!', '#DIV/0!', '#DIV/0!', '#DIV/0!', '#DIV/0!', '#DIV/0!', '#DIV/0!', '#DIV/0!', '#DIV/0!', '#DIV/0!', '#DIV/0!', '#DIV/0!', '#DIV/0!'), ('974962', 7, 'VCP_PTSY2.8_SAT_OFF', 'Trinh Hai Duong', 'None', '13:30', 'https://docs.google.com/spreadsheets/d/19_F5HxaachjOBALR2onQbtYKhNOiJ1XW6lSLx_OhNvY/edit?usp=sharing', 'Vinhomes Central Park', 1, '07.10.2023\\xa013:30', 5, '0%', 'Python Start - 2 2020/2021 M1L4', '09.09.2023 13:30', '11.05.2024 13:30', 4.0, 1.0, 4.0, 4.0, '#DIV/0!', '#DIV/0!', '#DIV/0!', '#DIV/0!', '#DIV/0!', '#DIV/0!', '#DIV/0!', '#DIV/0!', '#DIV/0!', '#DIV/0!', '#DIV/0!', '#DIV/0!', '#DIV/0!', '#DIV/0!', '#DIV/0!', '#DIV/0!', '#DIV/0!', '#DIV/0!', '#DIV/0!', '#DIV/0!', '#DIV/0!', '#DIV/0!', '#DIV/0!', '#DIV/0!', '#DIV/0!', '#DIV/0!', '#DIV/0!', '#DIV/0!', '#DIV/0!', '#DIV/0!', '#DIV/0!', '#DIV/0!', '#DIV/0!', '#DIV/0!'), ('974952', 3, 'VCP_DL6_TUE_OFF', 'Dinh Ranz (PT)', 'None', '19:30', 'https://docs.google.com/spreadsheets/d/1sUd2z_WC9qbJHjipOQTSd1_lbZVkq0qX3NJ-vetX9R8/edit?usp=sharing', 'Vinhomes Central Park', 1, '10.10.2023\\xa019:30', 3, '100%', 'DL 20/21 M1L3', '26.09.2023 19:30', '30.04.2024 19:30', 5.0, 5.0, '#DIV/0!', '#DIV/0!', '#DIV/0!', '#DIV/0!', '#DIV/0!', '#DIV/0!', '#DIV/0!', '#DIV/0!', '#DIV/0!', '#DIV/0!', '#DIV/0!', '#DIV/0!', '#DIV/0!', '#DIV/0!', '#DIV/0!', '#DIV/0!', '#DIV/0!', '#DIV/0!', '#DIV/0!', '#DIV/0!', '#DIV/0!', '#DIV/0!', '#DIV/0!', '#DIV/0!', '#DIV/0!', '#DIV/0!', '#DIV/0!', '#DIV/0!', '#DIV/0!', '#DIV/0!', '#DIV/0!', '#DIV/0!', '#DIV/0!', '#DIV/0!', '#DIV/0!', '#DIV/0!'), ('850459', 2, 'VCP_PTSY1.16_MON_OFF', 'Trinh Hai Duong', 'None', '18:30', 'https://docs.google.com/spreadsheets/d/1uaxsGxMwHHht2y5zESGkV5pSi4FfPg_m35g73MdUm-0/edit?usp=sharing', 'Vinhomes Central Park', 3, '09.10.2023\\xa018:30', 7, '100%', 'Python Start 2020/2021 M2L3', '21.08.2023 18:30', '29.04.2024 18:30', 5.0, 4.0, 4.33, 4.67, 4.67, 4.67, '#DIV/0!', '#DIV/0!', '#DIV/0!', '#DIV/0!', '#DIV/0!', '#DIV/0!', '#DIV/0!', '#DIV/0!', '#DIV/0!', '#DIV/0!', '#DIV/0!', '#DIV/0!', '#DIV/0!', '#DIV/0!', '#DIV/0!', '#DIV/0!', '#DIV/0!', '#DIV/0!', '#DIV/0!', '#DIV/0!', '#DIV/0!', '#DIV/0!', '#DIV/0!', '#DIV/0!', '#DIV/0!', '#DIV/0!', '#DIV/0!', '#DIV/0!', '#DIV/0!', '#DIV/0!', '#DIV/0!', '#DIV/0!'), ('850456', 7, 'VCP_VP26_SAT_OFF', 'Tran Jolin', 'None', '10:45', 'https://docs.google.com/spreadsheets/d/1_KS5j4-KL_4oPphsudwqM8mJhLqdyoY1L91m7AhSb0Y/edit?usp=sharing', 'Vinhomes Central Park', 3, '07.10.2023\\xa010:45', 3, '0%', 'Visual Programming 2020/2021 M1L3', '23.09.2023 10:45', '27.04.2024 10:45', 4.5, '#DIV/0!', '#DIV/0!', '#DIV/0!', '#DIV/0!', '#DIV/0!', '#DIV/0!', '#DIV/0!', '#DIV/0!', '#DIV/0!', '#DIV/0!', '#DIV/0!', '#DIV/0!', '#DIV/0!', '#DIV/0!', '#DIV/0!', '#DIV/0!', '#DIV/0!', '#DIV/0!', '#DIV/0!', '#DIV/0!', '#DIV/0!', '#DIV/0!', '#DIV/0!', '#DIV/0!', '#DIV/0!', '#DIV/0!', '#DIV/0!', '#DIV/0!', '#DIV/0!', '#DIV/0!', '#DIV/0!', '#DIV/0!', '#DIV/0!', '#DIV/0!', '#DIV/0!', '#DIV/0!', '#DIV/0!'), ('763619', 6, 'VCP_GD29_FRI_OFF', 'Tran Jolin', 'None', '17:45', 'https://docs.google.com/spreadsheets/d/1YELpSbXGyv93RmhNVIADfRz-wjrUAD03xt-lwN_Y_Xo/edit?usp=sharing', 'Vinhomes Central Park', 3, '06.10.2023\\xa017:45', 7, '0%', 'GD 20/21 M1L7', '18.08.2023 17:45', '05.04.2024 17:45', 5.0, 5.0, 5.0, 5.0, '#DIV/0!', '#DIV/0!', '#DIV/0!', '#DIV/0!', '#DIV/0!', '#DIV/0!', '#DIV/0!', '#DIV/0!', '#DIV/0!', '#DIV/0!', '#DIV/0!', '#DIV/0!', '#DIV/0!', '#DIV/0!', '#DIV/0!', '#DIV/0!', '#DIV/0!', '#DIV/0!', '#DIV/0!', '#DIV/0!', '#DIV/0!', '#DIV/0!', '#DIV/0!', '#DIV/0!', '#DIV/0!', '#DIV/0!', '#DIV/0!', '#DIV/0!', '#DIV/0!', '#DIV/0!', '#DIV/0!', '#DIV/0!', '#DIV/0!', '#DIV/0!'), ('763615', 4, 'VCP_WDY2.3_WED_OFF', 'Bui Ashley', 'None', '19:00', 'https://docs.google.com/spreadsheets/d/11rRR-UgG9TcWknC21t4k_kxNfwI9cNup0-et3gVmu0A/edit?usp=sharing', 'Vinhomes Central Park', 1, '11.10.2023\\xa019:00', 8, '100%', 'Non', '16.08.2023 19:00', '27.03.2024 19:00', 5.0, 4.0, 4.0, 4.0, 5.0, 5.0, 4.0, '#DIV/0!', '#DIV/0!', '#DIV/0!', '#DIV/0!', '#DIV/0!', '#DIV/0!', '#DIV/0!', '#DIV/0!', '#DIV/0!', '#DIV/0!', '#DIV/0!', '#DIV/0!', '#DIV/0!', '#DIV/0!', '#DIV/0!', '#DIV/0!', '#DIV/0!', '#DIV/0!', '#DIV/0!', '#DIV/0!', '#DIV/0!', '#DIV/0!', '#DIV/0!', '#DIV/0!', '#DIV/0!', '#DIV/0!', '#DIV/0!', '#DIV/0!', '#DIV/0!', '#DIV/0!', '#DIV/0!'), ('729983', 3, 'VCP_GD28_TUE_OFF', 'Dinh Ranz (PT)', 'None', '18:00', 'https://docs.google.com/spreadsheets/d/1lZ4MvcCf6AI4JHkk6UTLTahvvIT5QcO2K21_RVe2y10/edit?usp=sharing', 'Vinhomes Central Park', 4, '10.10.2023\\xa018:00', 10, '100%', 'GD 20/21 M1L10', '08.08.2023 18:00', '19.03.2024 18:00', 4.4, 4.5, 4.25, 4.67, 4.0, 5.0, 4.25, 4.25, 4.75, '#DIV/0!', '#DIV/0!', '#DIV/0!', '#DIV/0!', '#DIV/0!', '#DIV/0!', '#DIV/0!', '#DIV/0!', '#DIV/0!', '#DIV/0!', '#DIV/0!', '#DIV/0!', '#DIV/0!', '#DIV/0!', '#DIV/0!', '#DIV/0!', '#DIV/0!', '#DIV/0!', '#DIV/0!', '#DIV/0!', '#DIV/0!', '#DIV/0!', '#DIV/0!', '#DIV/0!', '#DIV/0!', '#DIV/0!', '#DIV/0!', '#DIV/0!', '#DIV/0!'), ('686312', 7, 'VCP_PTPY1.5_SAT_OFF', 'Bui Thomas', 'None', '14:30', 'https://docs.google.com/spreadsheets/d/1XtSStk9g5CvihO_UmaiMzX5IW8ainurdgGiYUUHcFfc/edit?usp=sharing', 'Vinhomes Central Park', 2, '07.10.2023\\xa014:30', 5, '0%', 'Python Pro (1 year) 2021/2022 – M2L1', '09.09.2023 14:30', '25.05.2024 14:30', 5.0, 4.67, 5.0, '#DIV/0!', '#DIV/0!', '#DIV/0!', '#DIV/0!', '#DIV/0!', '#DIV/0!', '#DIV/0!', '#DIV/0!', '#DIV/0!', '#DIV/0!', '#DIV/0!', '#DIV/0!', '#DIV/0!', '#DIV/0!', '#DIV/0!', '#DIV/0!', '#DIV/0!', '#DIV/0!', '#DIV/0!', '#DIV/0!', '#DIV/0!', '#DIV/0!', '#DIV/0!', '#DIV/0!', '#DIV/0!', '#DIV/0!', '#DIV/0!', '#DIV/0!', '#DIV/0!', '#DIV/0!', '#DIV/0!', '#DIV/0!', '#DIV/0!', '#DIV/0!', '#DIV/0!'), ('686310', 7, 'VCP_PTPY2.2_SAT_OFF', 'Bui Thomas', 'None', '08:30', 'https://docs.google.com/spreadsheets/d/1IexnSGCwkhpqzUA8X9XmfCn_ds0oRdGEx4uWA5tBfQk/edit?usp=sharing', 'Vinhomes Central Park', 1, '07.10.2023\\xa008:30', 2, '0%', 'Non', '30.09.2023 08:30', '15.06.2024 08:30', 5.0, '#DIV/0!', '#DIV/0!', '#DIV/0!', '#DIV/0!', '#DIV/0!', '#DIV/0!', '#DIV/0!', '#DIV/0!', '#DIV/0!', '#DIV/0!', '#DIV/0!', '#DIV/0!', '#DIV/0!', '#DIV/0!', '#DIV/0!', '#DIV/0!', '#DIV/0!', '#DIV/0!', '#DIV/0!', '#DIV/0!', '#DIV/0!', '#DIV/0!', '#DIV/0!', '#DIV/0!', '#DIV/0!', '#DIV/0!', '#DIV/0!', '#DIV/0!', '#DIV/0!', '#DIV/0!', '#DIV/0!', '#DIV/0!', '#DIV/0!', '#DIV/0!', '#DIV/0!', '#DIV/0!', '#DIV/0!'), ('686308', 8, 'VCP_PTPY1.4_SUN_ONL', 'Nguyen Ly', 'None', '17:00', 'https://docs.google.com/spreadsheets/d/1Dz2QXMcqenCE8-IlaAy4PzklX6mRBNNEWXnLP7GxHyA/edit?usp=sharing', 'Online Campus', 1, '08.10.2023\\xa017:00', 8, '0%', 'Python Pro (1 year) 2021/2022 – M2L4', '30.07.2023 17:00', '05.05.2024 17:00', 5.0, 5.0, 5.0, 5.0, 5.0, 5.0, 5.0, '#DIV/0!', '#DIV/0!', '#DIV/0!', '#DIV/0!', '#DIV/0!', '#DIV/0!', '#DIV/0!', '#DIV/0!', '#DIV/0!', '#DIV/0!', '#DIV/0!', '#DIV/0!', '#DIV/0!', '#DIV/0!', '#DIV/0!', '#DIV/0!', '#DIV/0!', '#DIV/0!', '#DIV/0!', '#DIV/0!', '#DIV/0!', '#DIV/0!', '#DIV/0!', '#DIV/0!', '#DIV/0!', '#DIV/0!', '#DIV/0!', '#DIV/0!', '#DIV/0!', '#DIV/0!', '#DIV/0!'), ('686024', 3, 'VCP_WDY1.7_TUE_OFF', 'Tran Jolin', 'None', '18:30', 'https://docs.google.com/spreadsheets/d/19rtRfpm_572M-AkOTn75_EhM4d-yHz1pIeyVlIrYHxE/edit?usp=sharing', 'Vinhomes Central Park', 1, '10.10.2023\\xa018:30', 10, '100%', 'Graphic Design 12-14 2021/2022 M4L1', '08.08.2023 18:30', '12.03.2024 18:30', 5.0, 5.0, 5.0, 5.0, 5.0, 5.0, '#DIV/0!', 5.0, '#DIV/0!', '#DIV/0!', '#DIV/0!', '#DIV/0!', '#DIV/0!', '#DIV/0!', '#DIV/0!', '#DIV/0!', '#DIV/0!', '#DIV/0!', '#DIV/0!', '#DIV/0!', '#DIV/0!', '#DIV/0!', '#DIV/0!', '#DIV/0!', '#DIV/0!', '#DIV/0!', '#DIV/0!', '#DIV/0!', '#DIV/0!', '#DIV/0!', '#DIV/0!', '#DIV/0!', '#DIV/0!', '#DIV/0!', '#DIV/0!', '#DIV/0!', '#DIV/0!', '#DIV/0!'), ('682318', 8, 'VCP_VP25_SUN_OFF', 'Dinh Ranz (PT)', 'None', '09:00', 'https://docs.google.com/spreadsheets/d/1B-C65cH_ykgntOJ3U1jDC-gOZckPIHN_fqY2cbi6WQc/edit?usp=sharing', 'Vinhomes Central Park', 3, '08.10.2023\\xa009:00', 10, '0%', 'Visual Programming 2020/2021  M2L5', '23.07.2023 16:30', '10.03.2024 09:00', 5.0, 5.0, 5.0, 5.0, 5.0, 5.0, 5.0, 5.0, 5.0, '#DIV/0!', '#DIV/0!', '#DIV/0!', '#DIV/0!', '#DIV/0!', '#DIV/0!', '#DIV/0!', '#DIV/0!', '#DIV/0!', '#DIV/0!', '#DIV/0!', '#DIV/0!', '#DIV/0!', '#DIV/0!', '#DIV/0!', '#DIV/0!', '#DIV/0!', '#DIV/0!', '#DIV/0!', '#DIV/0!', '#DIV/0!', '#DIV/0!', '#DIV/0!', '#DIV/0!', '#DIV/0!', '#DIV/0!', '#DIV/0!', '#DIV/0!', '#DIV/0!'), ('682314', 7, 'VCP_VP24_SAT_OFF', 'Dinh Ranz (PT)', 'None', '10:30', 'https://docs.google.com/spreadsheets/d/1Z39Z09NY-wWLWvbMzL0FftB5W5iFVvumBPbCxCtQlJg/edit?usp=sharing', 'Vinhomes Central Park', 1, '07.10.2023\\xa010:30', 10, '0%', 'Visual Programming 2020/2021  M2L5', '22.07.2023 10:30', '09.03.2024 10:30', 5.0, 5.0, 5.0, 5.0, 5.0, 5.0, 5.0, '#DIV/0!', '#DIV/0!', '#DIV/0!', '#DIV/0!', '#DIV/0!', '#DIV/0!', '#DIV/0!', '#DIV/0!', '#DIV/0!', '#DIV/0!', '#DIV/0!', '#DIV/0!', '#DIV/0!', '#DIV/0!', '#DIV/0!', '#DIV/0!', '#DIV/0!', '#DIV/0!', '#DIV/0!', '#DIV/0!', '#DIV/0!', '#DIV/0!', '#DIV/0!', '#DIV/0!', '#DIV/0!', '#DIV/0!', '#DIV/0!', '#DIV/0!', '#DIV/0!', '#DIV/0!', '#DIV/0!'), ('673050', 8, 'VCP_GD27_SUN_OFF', 'Dang Marcus', 'None', '10:30', 'https://docs.google.com/spreadsheets/d/1VgVbVtGeygvAicbLb4TVMaOYDKC2D_ItWNI9mDizgPg/edit?usp=sharing', 'Vinhomes Central Park', 2, '08.10.2023\\xa010:30', 9, '0%', 'GD 20/21 M1L9', '30.07.2023 10:30', '24.03.2024 10:30', 4.0, 4.0, 5.0, 5.0, 4.5, 4.0, 5.0, 4.5, '#DIV/0!', '#DIV/0!', '#DIV/0!', '#DIV/0!', '#DIV/0!', '#DIV/0!', '#DIV/0!', '#DIV/0!', '#DIV/0!', '#DIV/0!', '#DIV/0!', '#DIV/0!', '#DIV/0!', '#DIV/0!', '#DIV/0!', '#DIV/0!', '#DIV/0!', '#DIV/0!', '#DIV/0!', '#DIV/0!', '#DIV/0!', '#DIV/0!', '#DIV/0!', '#DIV/0!', '#DIV/0!', '#DIV/0!', '#DIV/0!', '#DIV/0!', '#DIV/0!', '#DIV/0!'), ('673049', 8, 'VCP_WDY1.6_SUN_OFF', 'Tran Jolin', 'None', '10:30', 'https://docs.google.com/spreadsheets/d/1Kcc9UCpXgJlFQ03Z_iY71h8zqoOJ3g8zOq6bwGCZKN4/edit?usp=sharing', 'Vinhomes Central Park', 2, '08.10.2023\\xa010:30', 9, '0%', 'Graphic Design 12-14 2021/2022 M3 L2', '30.07.2023 10:30', '17.03.2024 10:30', 5.0, 4.5, 4.5, 5.0, 5.0, 5.0, 5.0, '#DIV/0!', '#DIV/0!', '#DIV/0!', '#DIV/0!', '#DIV/0!', '#DIV/0!', '#DIV/0!', '#DIV/0!', '#DIV/0!', '#DIV/0!', '#DIV/0!', '#DIV/0!', '#DIV/0!', '#DIV/0!', '#DIV/0!', '#DIV/0!', '#DIV/0!', '#DIV/0!', '#DIV/0!', '#DIV/0!', '#DIV/0!', '#DIV/0!', '#DIV/0!', '#DIV/0!', '#DIV/0!', '#DIV/0!', '#DIV/0!', '#DIV/0!', '#DIV/0!', '#DIV/0!', '#DIV/0!'), ('669387', 7, 'VCP_CK14_SAT_OFF', 'Rita Vu', 'None', '14:00', 'https://docs.google.com/spreadsheets/d/19MexwuwnWfShJB9UGbNBwhF98a3eBU3v9v3jw4r1ANM/edit?usp=sharing', 'Vinhomes Central Park', 1, '07.10.2023\\xa014:00', 13, '0%', 'M4L1, The Coding Knight course, 2021-2022', '08.07.2023 14:00', '17.02.2024 14:00', 5.0, 5.0, 5.0, 5.0, 5.0, 5.0, 5.0, 5.0, 5.0, 5.0, 5.0, '#DIV/0!', '#DIV/0!', '#DIV/0!', '#DIV/0!', '#DIV/0!', '#DIV/0!', '#DIV/0!', '#DIV/0!', '#DIV/0!', '#DIV/0!', '#DIV/0!', '#DIV/0!', '#DIV/0!', '#DIV/0!', '#DIV/0!', '#DIV/0!', '#DIV/0!', '#DIV/0!', '#DIV/0!', '#DIV/0!', '#DIV/0!', '#DIV/0!', '#DIV/0!', '#DIV/0!', '#DIV/0!', '#DIV/0!', '#DIV/0!'), ('669386', 2, 'VCP_GD26_MON_OFF', 'Nguyen Eira (PT)', 'None', '17:30', 'https://docs.google.com/spreadsheets/d/1bhvn2TYkvh8TVOieR_kdj9DMY2gFEEAHOUbq5ZmCBqo/edit?usp=sharing', 'Vinhomes Central Park', 7, '09.10.2023\\xa017:30', 15, '100%', 'GD 20/21 M2L5', '19.06.2023 17:30', '12.02.2024 17:30', 5.0, 5.0, 5.0, 5.0, 4.33, 5.0, 5.0, 5.0, 5.0, 5.0, 4.0, 3.71, 4.14, 3.29, '#DIV/0!', '#DIV/0!', '#DIV/0!', '#DIV/0!', '#DIV/0!', '#DIV/0!', '#DIV/0!', '#DIV/0!', '#DIV/0!', '#DIV/0!', '#DIV/0!', '#DIV/0!', '#DIV/0!', '#DIV/0!', '#DIV/0!', '#DIV/0!', '#DIV/0!', '#DIV/0!', '#DIV/0!', '#DIV/0!', '#DIV/0!', '#DIV/0!', '#DIV/0!', '#DIV/0!'), ('669376', 6, 'VCP_WDY2.2_FRI_ONL', 'Nguyen Est', 'None', '17:15', 'https://docs.google.com/spreadsheets/d/1UAGII9mRIQoGQ4v8zlZgWFNW8GL3GDJinPlKzKdUNIU/edit?usp=sharing', 'Vinhomes Central Park', 2, '06.10.2023\\xa017:15', 14, '0%', 'Non', '30.06.2023 17:30', '09.02.2024 17:15', 5.0, 4.5, 4.5, 5.0, 4.5, 3.0, 5.0, 5.0, 5.0, 4.5, 4.5, 4.0, 4.0, '#DIV/0!', '#DIV/0!', '#DIV/0!', '#DIV/0!', '#DIV/0!', '#DIV/0!', '#DIV/0!', '#DIV/0!', '#DIV/0!', '#DIV/0!', '#DIV/0!', '#DIV/0!', '#DIV/0!', '#DIV/0!', '#DIV/0!', '#DIV/0!', '#DIV/0!', '#DIV/0!', '#DIV/0!', '#DIV/0!', '#DIV/0!', '#DIV/0!', '#DIV/0!', '#DIV/0!', '#DIV/0!'), ('669374', 3, 'VCP_WDY1.5_TUE_ONL', 'Nguyen Est', 'None', '17:30', 'https://docs.google.com/spreadsheets/d/1JgLd6HYNYA0_JWSLHliil4HU5OGBBFxQqbs2BQJugWE/edit?usp=sharing', 'Vinhomes Central Park', 1, '10.10.2023\\xa017:30', 16, '100%', 'Graphic Design 12-14 2021/2022 M5L2', '27.06.2023 17:30', '30.01.2024 17:30', 4.0, 5.0, 5.0, 5.0, 5.0, 5.0, 5.0, 5.0, 5.0, 5.0, 5.0, 5.0, 5.0, 5.0, '#DIV/0!', '#DIV/0!', '#DIV/0!', '#DIV/0!', '#DIV/0!', '#DIV/0!', '#DIV/0!', '#DIV/0!', '#DIV/0!', '#DIV/0!', '#DIV/0!', '#DIV/0!', '#DIV/0!', '#DIV/0!', '#DIV/0!', '#DIV/0!', '#DIV/0!', '#DIV/0!', '#DIV/0!', '#DIV/0!', '#DIV/0!', '#DIV/0!', '#DIV/0!', '#DIV/0!'), ('668781', 5, 'VCP_GD25_THU_OFF', 'Dinh Ranz (PT)', 'None', '16:30', 'https://docs.google.com/spreadsheets/d/1TW1FpjruZPos9Ag_4Hq-Kj0ifKF9g-McPGXu85HMeuk/edit?usp=sharing', 'Vinhomes Central Park', 1, '12.10.2023\\xa016:30', 17, '100%', 'GD 20/21 M2L7', '21.06.2023 15:30', '01.02.2024 16:30', 4.17, 4.6, 4.8, 5.0, 5.0, 5.0, 4.6, 4.5, 4.4, 4.2, 5.0, 5.0, 5.0, '#DIV/0!', '#DIV/0!', '#DIV/0!', '#DIV/0!', '#DIV/0!', '#DIV/0!', '#DIV/0!', '#DIV/0!', '#DIV/0!', '#DIV/0!', '#DIV/0!', '#DIV/0!', '#DIV/0!', '#DIV/0!', '#DIV/0!', '#DIV/0!', '#DIV/0!', '#DIV/0!', '#DIV/0!', '#DIV/0!', '#DIV/0!', '#DIV/0!', '#DIV/0!', '#DIV/0!', '#DIV/0!'), ('668778', 7, 'VCP_PTPY2.1_SAT_OFF', 'Bui Thomas', 'None', '13:00', 'https://docs.google.com/spreadsheets/d/1M5SJqVZyR0qVOnisL114U-tzSEWVIfTZyaDBLyB6Vzk/edit?usp=sharing', 'Vinhomes Central Park', 1, '07.10.2023\\xa013:00', 11, '0%', 'Non', '24.06.2023 13:00', '06.04.2024 13:00', 5.0, 4.0, 5.0, 5.0, 5.0, 5.0, 5.0, 5.0, 5.0, 5.0, '#DIV/0!', '#DIV/0!', '#DIV/0!', '#DIV/0!', '#DIV/0!', '#DIV/0!', '#DIV/0!', '#DIV/0!', '#DIV/0!', '#DIV/0!', '#DIV/0!', '#DIV/0!', '#DIV/0!', '#DIV/0!', '#DIV/0!', '#DIV/0!', '#DIV/0!', '#DIV/0!', '#DIV/0!', '#DIV/0!', '#DIV/0!', '#DIV/0!', '#DIV/0!', '#DIV/0!', '#DIV/0!', '#DIV/0!', '#DIV/0!', '#DIV/0!'), ('654781', 8, 'VCP_PTSY2.7_SUN_OFF', 'Bui Thomas', 'None', '14:00', 'https://docs.google.com/spreadsheets/d/1T7kJmMigleg9hWdmVYYd65mRyXnxR6NgJa7sBL9A8Z4/edit?usp=sharing', 'Vinhomes Central Park', 3, '08.10.2023\\xa014:00', 15, '0%', 'Python Start - 2 2020/2021 M3 L4', '25.06.2023 14:00', '25.02.2024 14:00', 3.0, 3.0, 3.0, '#DIV/0!', 3.5, 2.67, 3.33, 3.67, 2.67, 3.33, 2.67, 3.0, 3.0, 3.33, '#DIV/0!', '#DIV/0!', '#DIV/0!', '#DIV/0!', '#DIV/0!', '#DIV/0!', '#DIV/0!', '#DIV/0!', '#DIV/0!', '#DIV/0!', '#DIV/0!', '#DIV/0!', '#DIV/0!', '#DIV/0!', '#DIV/0!', '#DIV/0!', '#DIV/0!', '#DIV/0!', '#DIV/0!', '#DIV/0!', '#DIV/0!', '#DIV/0!', '#DIV/0!', '#DIV/0!'), ('654500', 7, 'VCP_WDY2.1_SAT_OFF', 'Nguyen Est', 'None', '09:00', 'https://docs.google.com/spreadsheets/d/1YtpojI6EpzjjJlyuo19e6D8DTGbXxbkQ9d8itkcc64I/edit?usp=sharing', 'Vinhomes Central Park', 1, '07.10.2023\\xa009:00', 14, '0%', 'Non', '01.07.2023 09:00', '10.02.2024 09:00', 5.0, 5.0, 5.0, 4.0, 4.0, 5.0, 5.0, 5.0, 4.0, 4.0, 5.0, '#DIV/0!', '#DIV/0!', '#DIV/0!', '#DIV/0!', '#DIV/0!', '#DIV/0!', '#DIV/0!', '#DIV/0!', '#DIV/0!', '#DIV/0!', '#DIV/0!', '#DIV/0!', '#DIV/0!', '#DIV/0!', '#DIV/0!', '#DIV/0!', '#DIV/0!', '#DIV/0!', '#DIV/0!', '#DIV/0!', '#DIV/0!', '#DIV/0!', '#DIV/0!', '#DIV/0!', '#DIV/0!', '#DIV/0!', '#DIV/0!'), ('648877', 5, 'VCP_GD24_THU_OFF', 'Tran Jolin', 'None', '16:00', 'https://docs.google.com/spreadsheets/d/1LoZGDXE1D3zKL-JHR7Z1mlAA9SykeYkqpYSC7v6Un9g/edit?usp=sharing', 'Vinhomes Central Park', 2, '12.10.2023\\xa016:00', 17, '50%', 'GD 20/21 M2L7', '22.06.2023 16:00', '01.02.2024 16:00', 5.0, 5.0, 5.0, 5.0, 4.5, 5.0, 4.5, 4.5, 4.5, 4.5, 4.0, 5.0, 4.5, 4.0, 4.0, '#DIV/0!', '#DIV/0!', '#DIV/0!', '#DIV/0!', '#DIV/0!', '#DIV/0!', '#DIV/0!', '#DIV/0!', '#DIV/0!', '#DIV/0!', '#DIV/0!', '#DIV/0!', '#DIV/0!', '#DIV/0!', '#DIV/0!', '#DIV/0!', '#DIV/0!', '#DIV/0!', '#DIV/0!', '#DIV/0!', '#DIV/0!', '#DIV/0!', '#DIV/0!'), ('648874', 4, 'VCP_GD23_WED_ONL', 'Dinh Ranz (PT)', 'None', '19:30', 'https://docs.google.com/spreadsheets/d/1jSoVQyNDAxnt86yUxQNmgiweC3jPUw-2GVMkpWH_Sr0/edit?usp=sharing', 'Vinhomes Central Park', 1, '11.10.2023\\xa019:30', 19, '100%', 'GD 20/21 M2L9', '31.05.2023 19:30', '17.01.2024 19:30', 5.0, 5.0, 5.0, 5.0, 5.0, 5.0, 5.0, 5.0, 5.0, 5.0, 5.0, 5.0, 5.0, 5.0, 5.0, 5.0, 5.0, '#DIV/0!', '#DIV/0!', '#DIV/0!', '#DIV/0!', '#DIV/0!', '#DIV/0!', '#DIV/0!', '#DIV/0!', '#DIV/0!', '#DIV/0!', '#DIV/0!', '#DIV/0!', '#DIV/0!', '#DIV/0!', '#DIV/0!', '#DIV/0!', '#DIV/0!', '#DIV/0!', '#DIV/0!', '#DIV/0!', '#DIV/0!'), ('644392', 8, 'VCP_GD22_SUN_OFF', 'Cao Nhat', 'None', '14:00', 'https://docs.google.com/spreadsheets/d/1g6mFr451e9znNkj3eJT31s9_Vpm2u6p9s3d74fLda3Q/edit?usp=sharing', 'Vinhomes Central Park', 7, '08.10.2023\\xa014:00', 19, '0%', 'GD 20/21 M2L9', '28.05.2023 14:00', '14.01.2024 14:00', 5.0, 4.8, 4.67, 4.6, 4.5, 4.75, 4.17, 4.4, 4.43, 5.0, 4.67, 4.67, 4.6, 4.5, 4.67, '#DIV/0!', 4.43, 4.5, '#DIV/0!', '#DIV/0!', '#DIV/0!', '#DIV/0!', '#DIV/0!', '#DIV/0!', '#DIV/0!', '#DIV/0!', '#DIV/0!', '#DIV/0!', '#DIV/0!', '#DIV/0!', '#DIV/0!', '#DIV/0!', '#DIV/0!', '#DIV/0!', '#DIV/0!', '#DIV/0!', '#DIV/0!', '#DIV/0!'), ('644390', 8, 'VCP_VP22_SUN_OFF', 'Dinh Ranz (PT)', 'None', '14:00', 'https://docs.google.com/spreadsheets/d/1MmwHoVWbFXqU3Rx9Z7t7aU1AGzsqFDtfQwjD1SoPdVA/edit?usp=sharing', 'Vinhomes Central Park', 1, '08.10.2023\\xa014:00', 19, '0%', 'Visual Programming 2020/2021 M4L3', '28.05.2023 14:00', '07.01.2024 14:00', 5.0, 5.0, 5.0, 5.0, 5.0, 5.0, 5.0, 5.0, 4.5, 5.0, 4.5, 4.5, 5.0, 5.0, 5.0, 5.0, 5.0, 4.0, '#DIV/0!', '#DIV/0!', '#DIV/0!', '#DIV/0!', '#DIV/0!', '#DIV/0!', '#DIV/0!', '#DIV/0!', '#DIV/0!', '#DIV/0!', '#DIV/0!', '#DIV/0!', '#DIV/0!', '#DIV/0!', '#DIV/0!', '#DIV/0!', '#DIV/0!', '#DIV/0!', '#DIV/0!', '#DIV/0!'), ('640571', 8, 'VCP_CK13_SUN_OFF', 'Rita Vu', 'None', '17:00', 'https://docs.google.com/spreadsheets/d/1igm3fPDE4Tikyh-Fhl8XPmlM490dRXA2u09X0jUURgI/edit?usp=sharing', 'Vinhomes Central Park', 1, '08.10.2023\\xa017:00', 21, '0%', 'M6L1, The Coding Knight course, 2021-2022', '07.05.2023 17:00', '24.12.2023 17:00', 5.0, '#DIV/0!', 5.0, 4.0, 4.0, 5.0, '#DIV/0!', 5.0, 5.0, 5.0, 5.0, '#DIV/0!', 5.0, 5.0, 5.0, '#DIV/0!', 5.0, '#DIV/0!', 5.0, '#DIV/0!', '#DIV/0!', '#DIV/0!', '#DIV/0!', '#DIV/0!', '#DIV/0!', '#DIV/0!', '#DIV/0!', '#DIV/0!', '#DIV/0!', '#DIV/0!', '#DIV/0!', '#DIV/0!', '#DIV/0!', '#DIV/0!', '#DIV/0!', '#DIV/0!', '#DIV/0!', '#DIV/0!'), ('637204', 7, 'VCP_GD21_SAT_OFF', 'Nguyen Anthony', 'None', '15:00', 'https://docs.google.com/spreadsheets/d/1ywVak50XEKX495VMZiwS_8QD4bLQGvqLHfFItsxuoZg/edit?usp=sharing', 'Vinhomes Central Park', 1, '07.10.2023\\xa015:00', 18, '0%', 'GD 20/21 M2L8', '13.05.2023 15:00', '20.01.2024 15:00', 5.0, 5.0, 5.0, 5.0, 4.0, 5.0, 4.0, 4.0, 4.0, 4.0, 4.0, 5.0, 4.0, 4.0, 4.0, 4.0, 4.0, '#DIV/0!', '#DIV/0!', '#DIV/0!', '#DIV/0!', '#DIV/0!', '#DIV/0!', '#DIV/0!', '#DIV/0!', '#DIV/0!', '#DIV/0!', '#DIV/0!', '#DIV/0!', '#DIV/0!', '#DIV/0!', '#DIV/0!', '#DIV/0!', '#DIV/0!', '#DIV/0!', '#DIV/0!', '#DIV/0!', '#DIV/0!'), ('634901', 7, 'VCP_GD20_SAT_OFF', 'Pham Minh Quang (David)', 'None', '09:00', 'https://docs.google.com/spreadsheets/d/1RIh9LeqmkBKLjOUBEjgEu9TLy8n6VtItWTMU19yg-QU/edit#gid=1315893701\\xa0', 'Vinhomes Central Park', 3, '07.10.2023\\xa009:00', 19, '0%', 'GD 20/21 M2L9', '27.05.2023 09:00', '13.01.2024 09:00', 5.0, 5.0, 5.0, 5.0, 5.0, 5.0, 5.0, 5.0, 5.0, 5.0, 5.0, 5.0, 5.0, 5.0, 5.0, '#DIV/0!', 5.0, 5.0, '#DIV/0!', '#DIV/0!', '#DIV/0!', '#DIV/0!', '#DIV/0!', '#DIV/0!', '#DIV/0!', '#DIV/0!', '#DIV/0!', '#DIV/0!', '#DIV/0!', '#DIV/0!', '#DIV/0!', '#DIV/0!', '#DIV/0!', '#DIV/0!', '#DIV/0!', '#DIV/0!', '#DIV/0!', '#DIV/0!'), ('605414', 8, 'VCP_VP21_SUN_OFF', 'Tran Jolin', 'None', '16:00', 'https://docs.google.com/spreadsheets/d/1jAoXZNI-Fc0gxuOq_0znskoWCh4S-dWZOLs9cGHbAoQ/edit?usp=sharing', 'Vinhomes Central Park', 2, '08.10.2023\\xa016:00', 20, '0%', 'Visual Programming 2020/2021 M4L4', '07.05.2023 16:00', '31.12.2023 16:00', 5.0, 5.0, 4.5, 5.0, 5.0, 5.0, 5.0, 5.0, 5.0, 5.0, 5.0, 5.0, 5.0, 5.0, 5.0, '#DIV/0!', 5.0, 4.5, '#DIV/0!', '#DIV/0!', '#DIV/0!', '#DIV/0!', '#DIV/0!', '#DIV/0!', '#DIV/0!', '#DIV/0!', '#DIV/0!', '#DIV/0!', '#DIV/0!', '#DIV/0!', '#DIV/0!', '#DIV/0!', '#DIV/0!', '#DIV/0!', '#DIV/0!', '#DIV/0!', '#DIV/0!', '#DIV/0!'), ('541176', 8, 'VCP_PTSY1.15_SUN_OFF', 'Nguyen Nhi', 'None', '15:30', 'https://docs.google.com/spreadsheets/d/1pt2xuU8AviwHDVWBMR0YY2st7IJZBZuFFrD-bajDhN4/edit?usp=sharing', 'Vinhomes Central Park', 2, '08.10.2023\\xa015:30', 18, '0%', 'Python Start 2020/2021 M4 L4', '23.04.2023 15:30', '11.02.2024 15:30', 3.5, 3.5, 3.5, 3.5, 4.0, 5.0, 5.0, 5.0, 5.0, 5.0, 5.0, 5.0, 4.0, 5.0, 5.0, 5.0, 5.0, 5.0, 4.0, 4.0, 5.0, '#DIV/0!', '#DIV/0!', '#DIV/0!', '#DIV/0!', '#DIV/0!', '#DIV/0!', '#DIV/0!', '#DIV/0!', '#DIV/0!', '#DIV/0!', '#DIV/0!', '#DIV/0!', '#DIV/0!', '#DIV/0!', '#DIV/0!', '#DIV/0!', '#DIV/0!'), ('522540', 7, 'VCP_DL5_SAT_OFF', 'Dinh Ranz (PT)', 'None', '15:00', 'https://docs.google.com/spreadsheets/d/1ha8vfX2Z1RjHs45oF58_hVHzyJuA4EQb4XZ19mLnK1c/edit?usp=sharing', 'Vinhomes Central Park', 3, '07.10.2023\\xa015:00', 22, '0%', 'DL M6L2', '22.04.2023 15:00', '16.12.2023 15:00', 4.0, 4.0, 4.0, 4.0, 4.0, 4.0, 4.0, 4.0, 3.5, 4.0, 4.0, 5.0, 5.0, 4.0, 4.0, 4.0, 4.0, 4.5, 5.0, 4.0, '#DIV/0!', '#DIV/0!', '#DIV/0!', '#DIV/0!', '#DIV/0!', '#DIV/0!', '#DIV/0!', '#DIV/0!', '#DIV/0!', '#DIV/0!', '#DIV/0!', '#DIV/0!', '#DIV/0!', '#DIV/0!', '#DIV/0!', '#DIV/0!', '#DIV/0!', '#DIV/0!'), ('515041', 3, 'VCP_GD19_TUE_OFF', 'Tran Sa', 'None', '19:00', 'https://docs.google.com/spreadsheets/d/1PF-3nbLBNs750BVDFuokhAam5_ioVZM80_fKpiGtfzk/edit?usp=sharing', 'Vinhomes Central Park', 3, '10.10.2023\\xa019:00', 24, '100%', 'GD 20/21 M3L4', '25.04.2023 19:00', '12.12.2023 19:00', 5.0, 5.0, 4.0, 5.0, 4.5, 4.0, 4.5, 4.0, 4.0, 5.0, 4.0, 3.0, 5.0, 4.0, 4.0, 4.0, 4.0, 4.33, 4.33, 4.33, 5.0, 5.0, 5.0, '#DIV/0!', '#DIV/0!', '#DIV/0!', '#DIV/0!', '#DIV/0!', '#DIV/0!', '#DIV/0!', '#DIV/0!', '#DIV/0!', '#DIV/0!', '#DIV/0!', '#DIV/0!', '#DIV/0!', '#DIV/0!', '#DIV/0!'), ('507883', 3, 'VCP_PTSY1.14_TUE_OFF', 'Wenner Josh', 'None', '15:30', 'https://docs.google.com/spreadsheets/d/1Ag0RdtzqFhYAbfmiPZuUKNMlJFuEN0TcquOKr_3C8vM/edit?usp=sharing', 'Vinhomes Central Park', 1, '10.10.2023\\xa015:30', 24, '100%', 'Python Start 2021/2022 M5 L5', '11.04.2023 15:30', '02.01.2024 15:30', 5.0, 5.0, 5.0, 5.0, 5.0, 5.0, 5.0, 4.0, 5.0, 5.0, 4.0, 4.0, 4.0, 5.0, 5.0, 5.0, 5.0, 5.0, 5.0, 5.0, 5.0, 5.0, 4.0, '#DIV/0!', '#DIV/0!', '#DIV/0!', '#DIV/0!', '#DIV/0!', '#DIV/0!', '#DIV/0!', '#DIV/0!', '#DIV/0!', '#DIV/0!', '#DIV/0!', '#DIV/0!', '#DIV/0!', '#DIV/0!', '#DIV/0!'), ('505620', 7, 'VCP_GD18_SAT_OFF', 'Dinh Ranz (PT)', 'None', '16:30', 'https://docs.google.com/spreadsheets/d/1_GqTADlgTRwhVEjjSlactqvRLSyBCQDs8vGhoWPCBj0/edit?usp=sharing', 'Vinhomes Central Park', 3, '07.10.2023\\xa016:30', 24, '0%', 'GD 20/21 M3L4', '08.04.2023 16:30', '09.12.2023 16:30', '#DIV/0!', 5.0, 5.0, '#DIV/0!', 5.0, 4.0, 4.0, 4.0, 4.0, 4.0, 4.0, 4.0, 5.0, 4.0, 5.0, 5.0, 5.0, 5.0, 5.0, 5.0, 5.0, 5.0, '#DIV/0!', '#DIV/0!', '#DIV/0!', '#DIV/0!', '#DIV/0!', '#DIV/0!', '#DIV/0!', '#DIV/0!', '#DIV/0!', '#DIV/0!', '#DIV/0!', '#DIV/0!', '#DIV/0!', '#DIV/0!', '#DIV/0!', '#DIV/0!'), ('505618', 7, 'VCP_PTSY2.6_SAT_OFF', 'Tran Anh', 'None', '16:30', 'https://docs.google.com/spreadsheets/d/1CScjTehiMCwVYFK4joVBHLaKbe16ZbBBM2SZvBqrX8I/edit?usp=sharing', 'Vinhomes Central Park', 1, '07.10.2023\\xa016:30', 23, '0%', 'Python Start 2020/2021 - 2 M5 L5', '25.03.2023 16:30', '09.12.2023 16:30', 4.0, 5.0, 5.0, 5.0, 4.0, 5.0, 5.0, 5.0, 5.0, 5.0, 4.0, 5.0, 5.0, 5.0, 5.0, 5.0, 5.0, 5.0, 5.0, 5.0, 5.0, 5.0, '#DIV/0!', '#DIV/0!', '#DIV/0!', '#DIV/0!', '#DIV/0!', '#DIV/0!', '#DIV/0!', '#DIV/0!', '#DIV/0!', '#DIV/0!', '#DIV/0!', '#DIV/0!', '#DIV/0!', '#DIV/0!', '#DIV/0!', '#DIV/0!'), ('501610', 8, 'VCP_VP20_SUN_OFF', 'Truong Hanie', 'None', '10:30', 'https://docs.google.com/spreadsheets/d/1-Iz3MdpCSR28uTCxulv4lfX_6uHrDGbgs-sVEqxj0MQ/edit?usp=sharing', 'Vinhomes Central Park', 4, '08.10.2023\\xa010:30', 27, '0%', 'Visual Programming 2020/2021 M5L5', '26.03.2023 10:30', '12.11.2023 10:30', 5.0, 5.0, 5.0, 4.67, 5.0, 5.0, 4.75, 4.83, 4.4, 4.75, 4.5, 4.25, 4.2, 4.4, 4.0, 4.2, 4.4, 4.2, 4.0, 4.0, 4.2, 4.5, 3.83, 4.4, 4.2, 4.0, '#DIV/0!', '#DIV/0!', '#DIV/0!', '#DIV/0!', '#DIV/0!', '#DIV/0!', '#DIV/0!', '#DIV/0!', '#DIV/0!', '#DIV/0!', '#DIV/0!', '#DIV/0!'), ('497738', 2, 'VCP_PTSY1.13_MON_ONL', 'Tran Charlotte', 'None', '19:00', 'https://docs.google.com/spreadsheets/d/1l64Vz3Ak5TDEk8Zx7NN3a0UTKm6_2KNHAjhzp3p1t48/edit?usp=sharing', 'Vinhomes Central Park', 1, '09.10.2023\\xa019:00', 29, '0%', 'Python Start 2021/2022 M6 L6', '13.03.2023 19:00', '30.10.2023 19:00', 5.0, 5.0, 5.0, 5.0, 5.0, 4.0, 4.0, 5.0, 5.0, 5.0, 5.0, 4.0, 5.0, 5.0, 5.0, 5.0, 5.0, 4.0, 5.0, 5.0, 5.0, 5.0, 5.0, 4.0, 4.0, '#DIV/0!', '#DIV/0!', '#DIV/0!', '#DIV/0!', '#DIV/0!', '#DIV/0!', '#DIV/0!', '#DIV/0!', '#DIV/0!', '#DIV/0!', '#DIV/0!', '#DIV/0!', '#DIV/0!'), ('497724', 4, 'VCP_PTSY1.12_WED_OFF', 'Garrod Matthew', 'None', '19:00', 'https://docs.google.com/spreadsheets/d/1_SWTweQYqEFb-bhVbU7Klf-AtmhdE2iPk6xJwh-Napg/edit?usp=sharing', 'Vinhomes Central Park', 4, '11.10.2023\\xa019:00', 29, '100%', 'Python Start 2021/2022 M6 L6', '08.03.2023 19:00', '01.11.2023 19:00', 4.67, 4.67, 4.5, 4.5, 4.33, 4.75, 3.75, 4.75, 4.5, 5.0, 4.5, 4.67, 3.75, 4.75, 4.5, 4.5, 4.75, 4.67, 4.67, 4.5, 4.0, 4.25, 4.5, 4.25, 4.25, 4.25, 4.75, 5.0, '#DIV/0!', '#DIV/0!', '#DIV/0!', '#DIV/0!', '#DIV/0!', '#DIV/0!', '#DIV/0!', '#DIV/0!', '#DIV/0!', '#DIV/0!'), ('493639', 5, 'VCP_VP19_THU_OFF', 'Tran Jolin', 'None', '18:30', 'https://docs.google.com/spreadsheets/d/14R8vxWpWY3NsGqVnS8d_BZgCnq-82VzmRSI_SHDcJN8/edit?usp=sharing', 'Vinhomes Central Park', 4, '05.10.2023\\xa018:30', 28, '0%', 'Visual Programming 2020/2021 M5L6', '09.03.2023 18:30', '02.11.2023 18:30', 5.0, 5.0, 5.0, 5.0, 5.0, 5.0, 5.0, 5.0, 5.0, '#DIV/0!', '#DIV/0!', 5.0, 4.0, 4.0, 5.0, 5.0, '#DIV/0!', 3.0, 5.0, 5.0, 5.0, '#DIV/0!', 4.0, 5.0, 5.0, 5.0, 4.75, '#DIV/0!', '#DIV/0!', '#DIV/0!', '#DIV/0!', '#DIV/0!', '#DIV/0!', '#DIV/0!', '#DIV/0!', '#DIV/0!', '#DIV/0!', '#DIV/0!'), ('490362', 7, 'VCP_UGD1_SAT_OFF', 'Nguyen My', 'None', '16:00', 'https://docs.google.com/spreadsheets/d/16uAq1mi5fIcrItr-QsUK-Rok1Kwc2kusjKBBt7jD5xA/edit?usp=sharing', 'Vinhomes Central Park', 1, '07.10.2023\\xa016:00', 25, '0%', 'Unity M6L1', '25.03.2023 16:00', '02.12.2023 16:00', 5.0, 5.0, 5.0, 5.0, 5.0, 5.0, 5.0, 5.0, 5.0, 5.0, 5.0, 5.0, 5.0, 5.0, 5.0, '#DIV/0!', 5.0, 5.0, '#DIV/0!', 5.0, 5.0, 5.0, 5.0, 5.0, '#DIV/0!', '#DIV/0!', '#DIV/0!', '#DIV/0!', '#DIV/0!', '#DIV/0!', '#DIV/0!', '#DIV/0!', '#DIV/0!', '#DIV/0!', '#DIV/0!', '#DIV/0!', '#DIV/0!', '#DIV/0!'), ('490344', 6, 'VCP_GD17_FRI_OFF', 'Tran Dang', 'None', '19:30', 'https://docs.google.com/spreadsheets/d/1cfrKJu4FINXJL19gkc4714sFEhgq57kfuMOZBtffRQI/edit#gid=1315893701', 'Vinhomes Central Park', 1, '06.10.2023\\xa019:30', 29, '0%', 'GD 20/21 M5L1', '24.02.2023 19:15', '03.11.2023 19:30', 5.0, 5.0, 5.0, 5.0, 5.0, 5.0, 5.0, 5.0, 5.0, 5.0, 5.0, 5.0, 5.0, 5.0, 5.0, 5.0, 3.0, 5.0, '#DIV/0!', 5.0, 5.0, 4.0, 4.0, 5.0, 4.0, 4.0, 4.0, 5.0, '#DIV/0!', '#DIV/0!', '#DIV/0!', '#DIV/0!', '#DIV/0!', '#DIV/0!', '#DIV/0!', '#DIV/0!', '#DIV/0!', '#DIV/0!'), ('487675', 5, 'VCP_PTSY1.11_THU_ONL', 'Vuong Khanh', 'None', '19:30', 'https://docs.google.com/spreadsheets/d/1U_Iy8YHYGYFMbrIfcadHG5xqRbDCaQRjyDcx1OgXch8/edit?usp=sharing', 'Vinhomes Central Park', 3, '05.10.2023\\xa019:30', 30, '0%', 'Python Start 2021/2022 M6 L7', '09.03.2023 19:30', '19.10.2023 19:30', 4.0, 4.33, 5.0, 4.25, 5.0, 5.0, 5.0, 4.25, 4.25, 4.25, 4.25, 4.0, 4.67, 4.67, 4.25, 5.0, 5.0, 4.75, 4.33, 5.0, 4.5, 4.5, 4.5, 5.0, 4.5, 4.33, 4.0, 4.5, '#DIV/0!', '#DIV/0!', '#DIV/0!', '#DIV/0!', '#DIV/0!', '#DIV/0!', '#DIV/0!', '#DIV/0!', '#DIV/0!', '#DIV/0!'), ('477196', 4, 'VCP_GD16_WED_OFF', 'Garrod Matthew', 'None', '17:15', 'https://docs.google.com/spreadsheets/d/14tJdhNgT0rZc8yK60aCAD9Taq05fVfn0I6HJhKfSakk/edit?usp=sharing', 'Vinhomes Central Park', 0, '11.10.2023\\xa017:15', 33, '100%', 'Non', '01.02.2023 17:15', '11.10.2023 17:15', 5.0, 4.5, 5.0, 5.0, 5.0, 5.0, 5.0, 5.0, 4.5, 5.0, 5.0, 5.0, 5.0, 5.0, 5.0, 5.0, 4.67, 5.0, 5.0, 5.0, 5.0, 5.0, 5.0, 5.0, 5.0, 5.0, 4.5, 4.5, 5.0, 4.0, 4.5, 5.0, '#DIV/0!', '#DIV/0!', '#DIV/0!', '#DIV/0!', '#DIV/0!', '#DIV/0!'), ('471623', 6, 'VCP_GD15_FRI_ONL', 'Nguyen My', 'None', '18:00', 'https://docs.google.com/spreadsheets/d/13To3WA-V4-WAcm6bb-dg7wrTcF2cdK9dZXlnkGQSWTY/edit?usp=sharing', 'Vinhomes Central Park', 1, '06.10.2023\\xa018:00', 33, '0%', 'Non', '03.02.2023 18:00', '06.10.2023 18:00', 5.0, 5.0, 5.0, 5.0, 5.0, 5.0, 5.0, 5.0, 5.0, 5.0, 5.0, 5.0, 5.0, 5.0, 5.0, 5.0, 5.0, 5.0, 5.0, '#DIV/0!', '#DIV/0!', 5.0, '#DIV/0!', 5.0, 5.0, 5.0, 5.0, 5.0, 5.0, 5.0, 5.0, 5.0, '#DIV/0!', '#DIV/0!', '#DIV/0!', '#DIV/0!', '#DIV/0!', '#DIV/0!'), ('466701', 8, 'VCP_DL4_SUN_OFF', 'Truong Hanie', 'None', '09:00', 'https://docs.google.com/spreadsheets/d/11szvZTrcT19wuP-ZUcRapMUjSv-BXqTX13eFKkwyuqc/edit?usp=sharing', 'Vinhomes Central Park', 2, '08.10.2023\\xa009:00', 31, '0%', 'DL M8L3', '05.02.2023 09:00', '15.10.2023 09:00', 5.0, 4.5, 4.5, 5.0, 4.5, 5.0, 5.0, 5.0, 5.0, 5.0, 5.0, 5.0, 5.0, 5.0, 5.0, 5.0, 5.0, 5.0, 4.0, 5.0, 5.0, 4.0, 4.0, 4.0, 5.0, 4.0, 4.0, 4.0, 5.0, 4.0, '#DIV/0!', '#DIV/0!', '#DIV/0!', '#DIV/0!', '#DIV/0!', '#DIV/0!', '#DIV/0!', '#DIV/0!')]\n",
            "[('1098288', 7, 'VCP_PTSY1.18_SAT_OFF', 'Bui Thomas', 'None', '10:45', 'https://docs.google.com/spreadsheets/d/1vVZN2h02O4FgC6QBzvIOXGkd46GOJB2UaOwea8JFH_8/edit?usp=sharing', 'Vinhomes Central Park', 1, '07.10.2023\\xa010:45', 2, '0%', 'Python Start 2020/2021 M1 L2', '30.09.2023 10:45', '01.06.2024 10:45', 5.0, '#DIV/0!', '#DIV/0!', '#DIV/0!', '#DIV/0!', '#DIV/0!', '#DIV/0!', '#DIV/0!', '#DIV/0!', '#DIV/0!', '#DIV/0!', '#DIV/0!', '#DIV/0!', '#DIV/0!', '#DIV/0!', '#DIV/0!', '#DIV/0!', '#DIV/0!', '#DIV/0!', '#DIV/0!', '#DIV/0!', '#DIV/0!', '#DIV/0!', '#DIV/0!', '#DIV/0!', '#DIV/0!', '#DIV/0!', '#DIV/0!', '#DIV/0!', '#DIV/0!', '#DIV/0!', '#DIV/0!', '#DIV/0!', '#DIV/0!', '#DIV/0!', '#DIV/0!', '#DIV/0!', '#DIV/0!'), ('1080627', 8, 'VCP_GD30_SUN_OFF', 'Dinh Ranz (PT)', 'None', '15:30', 'https://docs.google.com/spreadsheets/d/1NhDXKPwK1FsV-Z6kUw5t46RzLFhttBOcU3ouT5mVEnA/edit?usp=sharing', 'Vinhomes Central Park', 1, '08.10.2023\\xa015:30', 3, '0%', 'GD 20/21 M1L3', '24.09.2023 15:30', '05.05.2024 15:30', 5.0, 5.0, '#DIV/0!', '#DIV/0!', '#DIV/0!', '#DIV/0!', '#DIV/0!', '#DIV/0!', '#DIV/0!', '#DIV/0!', '#DIV/0!', '#DIV/0!', '#DIV/0!', '#DIV/0!', '#DIV/0!', '#DIV/0!', '#DIV/0!', '#DIV/0!', '#DIV/0!', '#DIV/0!', '#DIV/0!', '#DIV/0!', '#DIV/0!', '#DIV/0!', '#DIV/0!', '#DIV/0!', '#DIV/0!', '#DIV/0!', '#DIV/0!', '#DIV/0!', '#DIV/0!', '#DIV/0!', '#DIV/0!', '#DIV/0!', '#DIV/0!', '#DIV/0!', '#DIV/0!', '#DIV/0!'), ('1071295', 2, 'VCP_WDY1.9_MON_OFF', 'Nguyen Est', 'None', '18:30', 'https://docs.google.com/spreadsheets/d/1aObVgKYKvNFUw0WI8oKg5FMBL6h_naldfQx_vqDbNb8/edit?usp=sharing', 'Vinhomes Central Park', 2, '09.10.2023\\xa018:30', 2, '100%', 'Graphic Design 12-14 2021/2022 M1 L2', '02.10.2023 18:30', '06.05.2024 18:30', 4.0, '#DIV/0!', '#DIV/0!', '#DIV/0!', '#DIV/0!', '#DIV/0!', '#DIV/0!', '#DIV/0!', '#DIV/0!', '#DIV/0!', '#DIV/0!', '#DIV/0!', '#DIV/0!', '#DIV/0!', '#DIV/0!', '#DIV/0!', '#DIV/0!', '#DIV/0!', '#DIV/0!', '#DIV/0!', '#DIV/0!', '#DIV/0!', '#DIV/0!', '#DIV/0!', '#DIV/0!', '#DIV/0!', '#DIV/0!', '#DIV/0!', '#DIV/0!', '#DIV/0!', '#DIV/0!', '#DIV/0!', '#DIV/0!', '#DIV/0!', '#DIV/0!', '#DIV/0!', '#DIV/0!', '#DIV/0!'), ('990131', 4, 'VCP_PTSY1.17_WED_ONL', 'Pham Louise', 'None', '19:00', 'https://docs.google.com/spreadsheets/d/14k-hD1tGUsxk2X0USXqzSwatMk8dVwVJKc3pYPGVU5M/edit?usp=sharing', 'Vinhomes Central Park', 1, '11.10.2023\\xa019:00', 5, '100%', 'Python Start 2020/2021 M2 L1', '13.09.2023 19:00', '15.05.2024 19:00', 4.0, 3.0, 3.0, 3.0, '#DIV/0!', '#DIV/0!', '#DIV/0!', '#DIV/0!', '#DIV/0!', '#DIV/0!', '#DIV/0!', '#DIV/0!', '#DIV/0!', '#DIV/0!', '#DIV/0!', '#DIV/0!', '#DIV/0!', '#DIV/0!', '#DIV/0!', '#DIV/0!', '#DIV/0!', '#DIV/0!', '#DIV/0!', '#DIV/0!', '#DIV/0!', '#DIV/0!', '#DIV/0!', '#DIV/0!', '#DIV/0!', '#DIV/0!', '#DIV/0!', '#DIV/0!', '#DIV/0!', '#DIV/0!', '#DIV/0!', '#DIV/0!', '#DIV/0!', '#DIV/0!'), ('990128', 6, 'VCP_PTSY2.10_FRI_OFF', 'Tran Hieu', 'None', '19:00', 'https://docs.google.com/spreadsheets/d/1ytlJ35Z_0WBCJy0STY_cOIDW5E1g9Yt9WgmXln8njHQ/edit?usp=sharing', 'Vinhomes Central Park', 1, '13.10.2023\\xa019:00', 4, 'TBU', 'Python Start - 2 2020/2021. M1L3', '08.09.2023 19:00', '31.05.2024 19:00', 5.0, 5.0, 3.0, '#DIV/0!', '#DIV/0!', '#DIV/0!', '#DIV/0!', '#DIV/0!', '#DIV/0!', '#DIV/0!', '#DIV/0!', '#DIV/0!', '#DIV/0!', '#DIV/0!', '#DIV/0!', '#DIV/0!', '#DIV/0!', '#DIV/0!', '#DIV/0!', '#DIV/0!', '#DIV/0!', '#DIV/0!', '#DIV/0!', '#DIV/0!', '#DIV/0!', '#DIV/0!', '#DIV/0!', '#DIV/0!', '#DIV/0!', '#DIV/0!', '#DIV/0!', '#DIV/0!', '#DIV/0!', '#DIV/0!', '#DIV/0!', '#DIV/0!', '#DIV/0!', '#DIV/0!'), ('990126', 8, 'VCP_PTSY2.9_SUN_OFF', 'Su Aria (PT)', 'None', '09:00', 'https://docs.google.com/spreadsheets/d/169JpaYPJGfvFI49Zb86eS6TjzdkR4GRyMJATQKHvvUU/edit?usp=sharing', 'Vinhomes Central Park', 1, '08.10.2023\\xa009:00', 5, '0%', 'Python Start - 2 2020/2021 M1L4', '10.09.2023 09:00', '12.05.2024 09:00', 5.0, 5.0, 5.0, '#DIV/0!', '#DIV/0!', '#DIV/0!', '#DIV/0!', '#DIV/0!', '#DIV/0!', '#DIV/0!', '#DIV/0!', '#DIV/0!', '#DIV/0!', '#DIV/0!', '#DIV/0!', '#DIV/0!', '#DIV/0!', '#DIV/0!', '#DIV/0!', '#DIV/0!', '#DIV/0!', '#DIV/0!', '#DIV/0!', '#DIV/0!', '#DIV/0!', '#DIV/0!', '#DIV/0!', '#DIV/0!', '#DIV/0!', '#DIV/0!', '#DIV/0!', '#DIV/0!', '#DIV/0!', '#DIV/0!', '#DIV/0!', '#DIV/0!', '#DIV/0!', '#DIV/0!'), ('977762', 5, 'VCP_PTPY2.3_THU_OFF', 'Wenner Josh', 'None', '17:00', 'https://docs.google.com/spreadsheets/d/1W2GqGK7eETq6zHK3UPSu0ovOlG6-6Q9odyvjOafODoE/edit?usp=sharing', 'Vinhomes Central Park', 1, '05.10.2023\\xa017:00', 6, '100%', 'Non', '24.08.2023 17:00', '16.05.2024 17:00', 4.0, 4.0, 4.0, 4.0, 5.0, 5.0, '#DIV/0!', '#DIV/0!', '#DIV/0!', '#DIV/0!', '#DIV/0!', '#DIV/0!', '#DIV/0!', '#DIV/0!', '#DIV/0!', '#DIV/0!', '#DIV/0!', '#DIV/0!', '#DIV/0!', '#DIV/0!', '#DIV/0!', '#DIV/0!', '#DIV/0!', '#DIV/0!', '#DIV/0!', '#DIV/0!', '#DIV/0!', '#DIV/0!', '#DIV/0!', '#DIV/0!', '#DIV/0!', '#DIV/0!', '#DIV/0!', '#DIV/0!', '#DIV/0!', '#DIV/0!', '#DIV/0!', '#DIV/0!'), ('974962', 7, 'VCP_PTSY2.8_SAT_OFF', 'Trinh Hai Duong', 'None', '13:30', 'https://docs.google.com/spreadsheets/d/19_F5HxaachjOBALR2onQbtYKhNOiJ1XW6lSLx_OhNvY/edit?usp=sharing', 'Vinhomes Central Park', 1, '07.10.2023\\xa013:30', 5, '0%', 'Python Start - 2 2020/2021 M1L4', '09.09.2023 13:30', '11.05.2024 13:30', 4.0, 1.0, 4.0, 4.0, '#DIV/0!', '#DIV/0!', '#DIV/0!', '#DIV/0!', '#DIV/0!', '#DIV/0!', '#DIV/0!', '#DIV/0!', '#DIV/0!', '#DIV/0!', '#DIV/0!', '#DIV/0!', '#DIV/0!', '#DIV/0!', '#DIV/0!', '#DIV/0!', '#DIV/0!', '#DIV/0!', '#DIV/0!', '#DIV/0!', '#DIV/0!', '#DIV/0!', '#DIV/0!', '#DIV/0!', '#DIV/0!', '#DIV/0!', '#DIV/0!', '#DIV/0!', '#DIV/0!', '#DIV/0!', '#DIV/0!', '#DIV/0!', '#DIV/0!', '#DIV/0!'), ('974952', 3, 'VCP_DL6_TUE_OFF', 'Dinh Ranz (PT)', 'None', '19:30', 'https://docs.google.com/spreadsheets/d/1sUd2z_WC9qbJHjipOQTSd1_lbZVkq0qX3NJ-vetX9R8/edit?usp=sharing', 'Vinhomes Central Park', 1, '10.10.2023\\xa019:30', 3, '100%', 'DL 20/21 M1L3', '26.09.2023 19:30', '30.04.2024 19:30', 5.0, 5.0, '#DIV/0!', '#DIV/0!', '#DIV/0!', '#DIV/0!', '#DIV/0!', '#DIV/0!', '#DIV/0!', '#DIV/0!', '#DIV/0!', '#DIV/0!', '#DIV/0!', '#DIV/0!', '#DIV/0!', '#DIV/0!', '#DIV/0!', '#DIV/0!', '#DIV/0!', '#DIV/0!', '#DIV/0!', '#DIV/0!', '#DIV/0!', '#DIV/0!', '#DIV/0!', '#DIV/0!', '#DIV/0!', '#DIV/0!', '#DIV/0!', '#DIV/0!', '#DIV/0!', '#DIV/0!', '#DIV/0!', '#DIV/0!', '#DIV/0!', '#DIV/0!', '#DIV/0!', '#DIV/0!'), ('850459', 2, 'VCP_PTSY1.16_MON_OFF', 'Trinh Hai Duong', 'None', '18:30', 'https://docs.google.com/spreadsheets/d/1uaxsGxMwHHht2y5zESGkV5pSi4FfPg_m35g73MdUm-0/edit?usp=sharing', 'Vinhomes Central Park', 3, '09.10.2023\\xa018:30', 7, '100%', 'Python Start 2020/2021 M2L3', '21.08.2023 18:30', '29.04.2024 18:30', 5.0, 4.0, 4.33, 4.67, 4.67, 4.67, '#DIV/0!', '#DIV/0!', '#DIV/0!', '#DIV/0!', '#DIV/0!', '#DIV/0!', '#DIV/0!', '#DIV/0!', '#DIV/0!', '#DIV/0!', '#DIV/0!', '#DIV/0!', '#DIV/0!', '#DIV/0!', '#DIV/0!', '#DIV/0!', '#DIV/0!', '#DIV/0!', '#DIV/0!', '#DIV/0!', '#DIV/0!', '#DIV/0!', '#DIV/0!', '#DIV/0!', '#DIV/0!', '#DIV/0!', '#DIV/0!', '#DIV/0!', '#DIV/0!', '#DIV/0!', '#DIV/0!', '#DIV/0!'), ('850456', 7, 'VCP_VP26_SAT_OFF', 'Tran Jolin', 'None', '10:45', 'https://docs.google.com/spreadsheets/d/1_KS5j4-KL_4oPphsudwqM8mJhLqdyoY1L91m7AhSb0Y/edit?usp=sharing', 'Vinhomes Central Park', 3, '07.10.2023\\xa010:45', 3, '0%', 'Visual Programming 2020/2021 M1L3', '23.09.2023 10:45', '27.04.2024 10:45', 4.5, '#DIV/0!', '#DIV/0!', '#DIV/0!', '#DIV/0!', '#DIV/0!', '#DIV/0!', '#DIV/0!', '#DIV/0!', '#DIV/0!', '#DIV/0!', '#DIV/0!', '#DIV/0!', '#DIV/0!', '#DIV/0!', '#DIV/0!', '#DIV/0!', '#DIV/0!', '#DIV/0!', '#DIV/0!', '#DIV/0!', '#DIV/0!', '#DIV/0!', '#DIV/0!', '#DIV/0!', '#DIV/0!', '#DIV/0!', '#DIV/0!', '#DIV/0!', '#DIV/0!', '#DIV/0!', '#DIV/0!', '#DIV/0!', '#DIV/0!', '#DIV/0!', '#DIV/0!', '#DIV/0!', '#DIV/0!'), ('763619', 6, 'VCP_GD29_FRI_OFF', 'Tran Jolin', 'None', '17:45', 'https://docs.google.com/spreadsheets/d/1YELpSbXGyv93RmhNVIADfRz-wjrUAD03xt-lwN_Y_Xo/edit?usp=sharing', 'Vinhomes Central Park', 3, '06.10.2023\\xa017:45', 7, '0%', 'GD 20/21 M1L7', '18.08.2023 17:45', '05.04.2024 17:45', 5.0, 5.0, 5.0, 5.0, '#DIV/0!', '#DIV/0!', '#DIV/0!', '#DIV/0!', '#DIV/0!', '#DIV/0!', '#DIV/0!', '#DIV/0!', '#DIV/0!', '#DIV/0!', '#DIV/0!', '#DIV/0!', '#DIV/0!', '#DIV/0!', '#DIV/0!', '#DIV/0!', '#DIV/0!', '#DIV/0!', '#DIV/0!', '#DIV/0!', '#DIV/0!', '#DIV/0!', '#DIV/0!', '#DIV/0!', '#DIV/0!', '#DIV/0!', '#DIV/0!', '#DIV/0!', '#DIV/0!', '#DIV/0!', '#DIV/0!', '#DIV/0!', '#DIV/0!', '#DIV/0!'), ('763615', 4, 'VCP_WDY2.3_WED_OFF', 'Bui Ashley', 'None', '19:00', 'https://docs.google.com/spreadsheets/d/11rRR-UgG9TcWknC21t4k_kxNfwI9cNup0-et3gVmu0A/edit?usp=sharing', 'Vinhomes Central Park', 1, '11.10.2023\\xa019:00', 8, '100%', 'Non', '16.08.2023 19:00', '27.03.2024 19:00', 5.0, 4.0, 4.0, 4.0, 5.0, 5.0, 4.0, '#DIV/0!', '#DIV/0!', '#DIV/0!', '#DIV/0!', '#DIV/0!', '#DIV/0!', '#DIV/0!', '#DIV/0!', '#DIV/0!', '#DIV/0!', '#DIV/0!', '#DIV/0!', '#DIV/0!', '#DIV/0!', '#DIV/0!', '#DIV/0!', '#DIV/0!', '#DIV/0!', '#DIV/0!', '#DIV/0!', '#DIV/0!', '#DIV/0!', '#DIV/0!', '#DIV/0!', '#DIV/0!', '#DIV/0!', '#DIV/0!', '#DIV/0!', '#DIV/0!', '#DIV/0!', '#DIV/0!'), ('729983', 3, 'VCP_GD28_TUE_OFF', 'Dinh Ranz (PT)', 'None', '18:00', 'https://docs.google.com/spreadsheets/d/1lZ4MvcCf6AI4JHkk6UTLTahvvIT5QcO2K21_RVe2y10/edit?usp=sharing', 'Vinhomes Central Park', 4, '10.10.2023\\xa018:00', 10, '100%', 'GD 20/21 M1L10', '08.08.2023 18:00', '19.03.2024 18:00', 4.4, 4.5, 4.25, 4.67, 4.0, 5.0, 4.25, 4.25, 4.75, '#DIV/0!', '#DIV/0!', '#DIV/0!', '#DIV/0!', '#DIV/0!', '#DIV/0!', '#DIV/0!', '#DIV/0!', '#DIV/0!', '#DIV/0!', '#DIV/0!', '#DIV/0!', '#DIV/0!', '#DIV/0!', '#DIV/0!', '#DIV/0!', '#DIV/0!', '#DIV/0!', '#DIV/0!', '#DIV/0!', '#DIV/0!', '#DIV/0!', '#DIV/0!', '#DIV/0!', '#DIV/0!', '#DIV/0!', '#DIV/0!', '#DIV/0!', '#DIV/0!'), ('686312', 7, 'VCP_PTPY1.5_SAT_OFF', 'Bui Thomas', 'None', '14:30', 'https://docs.google.com/spreadsheets/d/1XtSStk9g5CvihO_UmaiMzX5IW8ainurdgGiYUUHcFfc/edit?usp=sharing', 'Vinhomes Central Park', 2, '07.10.2023\\xa014:30', 5, '0%', 'Python Pro (1 year) 2021/2022 – M2L1', '09.09.2023 14:30', '25.05.2024 14:30', 5.0, 4.67, 5.0, '#DIV/0!', '#DIV/0!', '#DIV/0!', '#DIV/0!', '#DIV/0!', '#DIV/0!', '#DIV/0!', '#DIV/0!', '#DIV/0!', '#DIV/0!', '#DIV/0!', '#DIV/0!', '#DIV/0!', '#DIV/0!', '#DIV/0!', '#DIV/0!', '#DIV/0!', '#DIV/0!', '#DIV/0!', '#DIV/0!', '#DIV/0!', '#DIV/0!', '#DIV/0!', '#DIV/0!', '#DIV/0!', '#DIV/0!', '#DIV/0!', '#DIV/0!', '#DIV/0!', '#DIV/0!', '#DIV/0!', '#DIV/0!', '#DIV/0!', '#DIV/0!', '#DIV/0!'), ('686310', 7, 'VCP_PTPY2.2_SAT_OFF', 'Bui Thomas', 'None', '08:30', 'https://docs.google.com/spreadsheets/d/1IexnSGCwkhpqzUA8X9XmfCn_ds0oRdGEx4uWA5tBfQk/edit?usp=sharing', 'Vinhomes Central Park', 1, '07.10.2023\\xa008:30', 2, '0%', 'Non', '30.09.2023 08:30', '15.06.2024 08:30', 5.0, '#DIV/0!', '#DIV/0!', '#DIV/0!', '#DIV/0!', '#DIV/0!', '#DIV/0!', '#DIV/0!', '#DIV/0!', '#DIV/0!', '#DIV/0!', '#DIV/0!', '#DIV/0!', '#DIV/0!', '#DIV/0!', '#DIV/0!', '#DIV/0!', '#DIV/0!', '#DIV/0!', '#DIV/0!', '#DIV/0!', '#DIV/0!', '#DIV/0!', '#DIV/0!', '#DIV/0!', '#DIV/0!', '#DIV/0!', '#DIV/0!', '#DIV/0!', '#DIV/0!', '#DIV/0!', '#DIV/0!', '#DIV/0!', '#DIV/0!', '#DIV/0!', '#DIV/0!', '#DIV/0!', '#DIV/0!'), ('686308', 8, 'VCP_PTPY1.4_SUN_ONL', 'Nguyen Ly', 'None', '17:00', 'https://docs.google.com/spreadsheets/d/1Dz2QXMcqenCE8-IlaAy4PzklX6mRBNNEWXnLP7GxHyA/edit?usp=sharing', 'Online Campus', 1, '08.10.2023\\xa017:00', 8, '0%', 'Python Pro (1 year) 2021/2022 – M2L4', '30.07.2023 17:00', '05.05.2024 17:00', 5.0, 5.0, 5.0, 5.0, 5.0, 5.0, 5.0, '#DIV/0!', '#DIV/0!', '#DIV/0!', '#DIV/0!', '#DIV/0!', '#DIV/0!', '#DIV/0!', '#DIV/0!', '#DIV/0!', '#DIV/0!', '#DIV/0!', '#DIV/0!', '#DIV/0!', '#DIV/0!', '#DIV/0!', '#DIV/0!', '#DIV/0!', '#DIV/0!', '#DIV/0!', '#DIV/0!', '#DIV/0!', '#DIV/0!', '#DIV/0!', '#DIV/0!', '#DIV/0!', '#DIV/0!', '#DIV/0!', '#DIV/0!', '#DIV/0!', '#DIV/0!', '#DIV/0!'), ('686024', 3, 'VCP_WDY1.7_TUE_OFF', 'Tran Jolin', 'None', '18:30', 'https://docs.google.com/spreadsheets/d/19rtRfpm_572M-AkOTn75_EhM4d-yHz1pIeyVlIrYHxE/edit?usp=sharing', 'Vinhomes Central Park', 1, '10.10.2023\\xa018:30', 10, '100%', 'Graphic Design 12-14 2021/2022 M4L1', '08.08.2023 18:30', '12.03.2024 18:30', 5.0, 5.0, 5.0, 5.0, 5.0, 5.0, '#DIV/0!', 5.0, '#DIV/0!', '#DIV/0!', '#DIV/0!', '#DIV/0!', '#DIV/0!', '#DIV/0!', '#DIV/0!', '#DIV/0!', '#DIV/0!', '#DIV/0!', '#DIV/0!', '#DIV/0!', '#DIV/0!', '#DIV/0!', '#DIV/0!', '#DIV/0!', '#DIV/0!', '#DIV/0!', '#DIV/0!', '#DIV/0!', '#DIV/0!', '#DIV/0!', '#DIV/0!', '#DIV/0!', '#DIV/0!', '#DIV/0!', '#DIV/0!', '#DIV/0!', '#DIV/0!', '#DIV/0!'), ('682318', 8, 'VCP_VP25_SUN_OFF', 'Dinh Ranz (PT)', 'None', '09:00', 'https://docs.google.com/spreadsheets/d/1B-C65cH_ykgntOJ3U1jDC-gOZckPIHN_fqY2cbi6WQc/edit?usp=sharing', 'Vinhomes Central Park', 3, '08.10.2023\\xa009:00', 10, '0%', 'Visual Programming 2020/2021  M2L5', '23.07.2023 16:30', '10.03.2024 09:00', 5.0, 5.0, 5.0, 5.0, 5.0, 5.0, 5.0, 5.0, 5.0, '#DIV/0!', '#DIV/0!', '#DIV/0!', '#DIV/0!', '#DIV/0!', '#DIV/0!', '#DIV/0!', '#DIV/0!', '#DIV/0!', '#DIV/0!', '#DIV/0!', '#DIV/0!', '#DIV/0!', '#DIV/0!', '#DIV/0!', '#DIV/0!', '#DIV/0!', '#DIV/0!', '#DIV/0!', '#DIV/0!', '#DIV/0!', '#DIV/0!', '#DIV/0!', '#DIV/0!', '#DIV/0!', '#DIV/0!', '#DIV/0!', '#DIV/0!', '#DIV/0!'), ('682314', 7, 'VCP_VP24_SAT_OFF', 'Dinh Ranz (PT)', 'None', '10:30', 'https://docs.google.com/spreadsheets/d/1Z39Z09NY-wWLWvbMzL0FftB5W5iFVvumBPbCxCtQlJg/edit?usp=sharing', 'Vinhomes Central Park', 1, '07.10.2023\\xa010:30', 10, '0%', 'Visual Programming 2020/2021  M2L5', '22.07.2023 10:30', '09.03.2024 10:30', 5.0, 5.0, 5.0, 5.0, 5.0, 5.0, 5.0, '#DIV/0!', '#DIV/0!', '#DIV/0!', '#DIV/0!', '#DIV/0!', '#DIV/0!', '#DIV/0!', '#DIV/0!', '#DIV/0!', '#DIV/0!', '#DIV/0!', '#DIV/0!', '#DIV/0!', '#DIV/0!', '#DIV/0!', '#DIV/0!', '#DIV/0!', '#DIV/0!', '#DIV/0!', '#DIV/0!', '#DIV/0!', '#DIV/0!', '#DIV/0!', '#DIV/0!', '#DIV/0!', '#DIV/0!', '#DIV/0!', '#DIV/0!', '#DIV/0!', '#DIV/0!', '#DIV/0!'), ('673050', 8, 'VCP_GD27_SUN_OFF', 'Dang Marcus', 'None', '10:30', 'https://docs.google.com/spreadsheets/d/1VgVbVtGeygvAicbLb4TVMaOYDKC2D_ItWNI9mDizgPg/edit?usp=sharing', 'Vinhomes Central Park', 2, '08.10.2023\\xa010:30', 9, '0%', 'GD 20/21 M1L9', '30.07.2023 10:30', '24.03.2024 10:30', 4.0, 4.0, 5.0, 5.0, 4.5, 4.0, 5.0, 4.5, '#DIV/0!', '#DIV/0!', '#DIV/0!', '#DIV/0!', '#DIV/0!', '#DIV/0!', '#DIV/0!', '#DIV/0!', '#DIV/0!', '#DIV/0!', '#DIV/0!', '#DIV/0!', '#DIV/0!', '#DIV/0!', '#DIV/0!', '#DIV/0!', '#DIV/0!', '#DIV/0!', '#DIV/0!', '#DIV/0!', '#DIV/0!', '#DIV/0!', '#DIV/0!', '#DIV/0!', '#DIV/0!', '#DIV/0!', '#DIV/0!', '#DIV/0!', '#DIV/0!', '#DIV/0!'), ('673049', 8, 'VCP_WDY1.6_SUN_OFF', 'Tran Jolin', 'None', '10:30', 'https://docs.google.com/spreadsheets/d/1Kcc9UCpXgJlFQ03Z_iY71h8zqoOJ3g8zOq6bwGCZKN4/edit?usp=sharing', 'Vinhomes Central Park', 2, '08.10.2023\\xa010:30', 9, '0%', 'Graphic Design 12-14 2021/2022 M3 L2', '30.07.2023 10:30', '17.03.2024 10:30', 5.0, 4.5, 4.5, 5.0, 5.0, 5.0, 5.0, '#DIV/0!', '#DIV/0!', '#DIV/0!', '#DIV/0!', '#DIV/0!', '#DIV/0!', '#DIV/0!', '#DIV/0!', '#DIV/0!', '#DIV/0!', '#DIV/0!', '#DIV/0!', '#DIV/0!', '#DIV/0!', '#DIV/0!', '#DIV/0!', '#DIV/0!', '#DIV/0!', '#DIV/0!', '#DIV/0!', '#DIV/0!', '#DIV/0!', '#DIV/0!', '#DIV/0!', '#DIV/0!', '#DIV/0!', '#DIV/0!', '#DIV/0!', '#DIV/0!', '#DIV/0!', '#DIV/0!'), ('669387', 7, 'VCP_CK14_SAT_OFF', 'Rita Vu', 'None', '14:00', 'https://docs.google.com/spreadsheets/d/19MexwuwnWfShJB9UGbNBwhF98a3eBU3v9v3jw4r1ANM/edit?usp=sharing', 'Vinhomes Central Park', 1, '07.10.2023\\xa014:00', 13, '0%', 'M4L1, The Coding Knight course, 2021-2022', '08.07.2023 14:00', '17.02.2024 14:00', 5.0, 5.0, 5.0, 5.0, 5.0, 5.0, 5.0, 5.0, 5.0, 5.0, 5.0, '#DIV/0!', '#DIV/0!', '#DIV/0!', '#DIV/0!', '#DIV/0!', '#DIV/0!', '#DIV/0!', '#DIV/0!', '#DIV/0!', '#DIV/0!', '#DIV/0!', '#DIV/0!', '#DIV/0!', '#DIV/0!', '#DIV/0!', '#DIV/0!', '#DIV/0!', '#DIV/0!', '#DIV/0!', '#DIV/0!', '#DIV/0!', '#DIV/0!', '#DIV/0!', '#DIV/0!', '#DIV/0!', '#DIV/0!', '#DIV/0!'), ('669386', 2, 'VCP_GD26_MON_OFF', 'Nguyen Eira (PT)', 'None', '17:30', 'https://docs.google.com/spreadsheets/d/1bhvn2TYkvh8TVOieR_kdj9DMY2gFEEAHOUbq5ZmCBqo/edit?usp=sharing', 'Vinhomes Central Park', 7, '09.10.2023\\xa017:30', 15, '100%', 'GD 20/21 M2L5', '19.06.2023 17:30', '12.02.2024 17:30', 5.0, 5.0, 5.0, 5.0, 4.33, 5.0, 5.0, 5.0, 5.0, 5.0, 4.0, 3.71, 4.14, 3.29, '#DIV/0!', '#DIV/0!', '#DIV/0!', '#DIV/0!', '#DIV/0!', '#DIV/0!', '#DIV/0!', '#DIV/0!', '#DIV/0!', '#DIV/0!', '#DIV/0!', '#DIV/0!', '#DIV/0!', '#DIV/0!', '#DIV/0!', '#DIV/0!', '#DIV/0!', '#DIV/0!', '#DIV/0!', '#DIV/0!', '#DIV/0!', '#DIV/0!', '#DIV/0!', '#DIV/0!'), ('669376', 6, 'VCP_WDY2.2_FRI_ONL', 'Nguyen Est', 'None', '17:15', 'https://docs.google.com/spreadsheets/d/1UAGII9mRIQoGQ4v8zlZgWFNW8GL3GDJinPlKzKdUNIU/edit?usp=sharing', 'Vinhomes Central Park', 2, '06.10.2023\\xa017:15', 14, '0%', 'Non', '30.06.2023 17:30', '09.02.2024 17:15', 5.0, 4.5, 4.5, 5.0, 4.5, 3.0, 5.0, 5.0, 5.0, 4.5, 4.5, 4.0, 4.0, '#DIV/0!', '#DIV/0!', '#DIV/0!', '#DIV/0!', '#DIV/0!', '#DIV/0!', '#DIV/0!', '#DIV/0!', '#DIV/0!', '#DIV/0!', '#DIV/0!', '#DIV/0!', '#DIV/0!', '#DIV/0!', '#DIV/0!', '#DIV/0!', '#DIV/0!', '#DIV/0!', '#DIV/0!', '#DIV/0!', '#DIV/0!', '#DIV/0!', '#DIV/0!', '#DIV/0!', '#DIV/0!'), ('669374', 3, 'VCP_WDY1.5_TUE_ONL', 'Nguyen Est', 'None', '17:30', 'https://docs.google.com/spreadsheets/d/1JgLd6HYNYA0_JWSLHliil4HU5OGBBFxQqbs2BQJugWE/edit?usp=sharing', 'Vinhomes Central Park', 1, '10.10.2023\\xa017:30', 16, '100%', 'Graphic Design 12-14 2021/2022 M5L2', '27.06.2023 17:30', '30.01.2024 17:30', 4.0, 5.0, 5.0, 5.0, 5.0, 5.0, 5.0, 5.0, 5.0, 5.0, 5.0, 5.0, 5.0, 5.0, '#DIV/0!', '#DIV/0!', '#DIV/0!', '#DIV/0!', '#DIV/0!', '#DIV/0!', '#DIV/0!', '#DIV/0!', '#DIV/0!', '#DIV/0!', '#DIV/0!', '#DIV/0!', '#DIV/0!', '#DIV/0!', '#DIV/0!', '#DIV/0!', '#DIV/0!', '#DIV/0!', '#DIV/0!', '#DIV/0!', '#DIV/0!', '#DIV/0!', '#DIV/0!', '#DIV/0!'), ('668781', 5, 'VCP_GD25_THU_OFF', 'Dinh Ranz (PT)', 'None', '16:30', 'https://docs.google.com/spreadsheets/d/1TW1FpjruZPos9Ag_4Hq-Kj0ifKF9g-McPGXu85HMeuk/edit?usp=sharing', 'Vinhomes Central Park', 1, '12.10.2023\\xa016:30', 17, '100%', 'GD 20/21 M2L7', '21.06.2023 15:30', '01.02.2024 16:30', 4.17, 4.6, 4.8, 5.0, 5.0, 5.0, 4.6, 4.5, 4.4, 4.2, 5.0, 5.0, 5.0, '#DIV/0!', '#DIV/0!', '#DIV/0!', '#DIV/0!', '#DIV/0!', '#DIV/0!', '#DIV/0!', '#DIV/0!', '#DIV/0!', '#DIV/0!', '#DIV/0!', '#DIV/0!', '#DIV/0!', '#DIV/0!', '#DIV/0!', '#DIV/0!', '#DIV/0!', '#DIV/0!', '#DIV/0!', '#DIV/0!', '#DIV/0!', '#DIV/0!', '#DIV/0!', '#DIV/0!', '#DIV/0!'), ('668778', 7, 'VCP_PTPY2.1_SAT_OFF', 'Bui Thomas', 'None', '13:00', 'https://docs.google.com/spreadsheets/d/1M5SJqVZyR0qVOnisL114U-tzSEWVIfTZyaDBLyB6Vzk/edit?usp=sharing', 'Vinhomes Central Park', 1, '07.10.2023\\xa013:00', 11, '0%', 'Non', '24.06.2023 13:00', '06.04.2024 13:00', 5.0, 4.0, 5.0, 5.0, 5.0, 5.0, 5.0, 5.0, 5.0, 5.0, '#DIV/0!', '#DIV/0!', '#DIV/0!', '#DIV/0!', '#DIV/0!', '#DIV/0!', '#DIV/0!', '#DIV/0!', '#DIV/0!', '#DIV/0!', '#DIV/0!', '#DIV/0!', '#DIV/0!', '#DIV/0!', '#DIV/0!', '#DIV/0!', '#DIV/0!', '#DIV/0!', '#DIV/0!', '#DIV/0!', '#DIV/0!', '#DIV/0!', '#DIV/0!', '#DIV/0!', '#DIV/0!', '#DIV/0!', '#DIV/0!', '#DIV/0!'), ('654781', 8, 'VCP_PTSY2.7_SUN_OFF', 'Bui Thomas', 'None', '14:00', 'https://docs.google.com/spreadsheets/d/1T7kJmMigleg9hWdmVYYd65mRyXnxR6NgJa7sBL9A8Z4/edit?usp=sharing', 'Vinhomes Central Park', 3, '08.10.2023\\xa014:00', 15, '0%', 'Python Start - 2 2020/2021 M3 L4', '25.06.2023 14:00', '25.02.2024 14:00', 3.0, 3.0, 3.0, '#DIV/0!', 3.5, 2.67, 3.33, 3.67, 2.67, 3.33, 2.67, 3.0, 3.0, 3.33, '#DIV/0!', '#DIV/0!', '#DIV/0!', '#DIV/0!', '#DIV/0!', '#DIV/0!', '#DIV/0!', '#DIV/0!', '#DIV/0!', '#DIV/0!', '#DIV/0!', '#DIV/0!', '#DIV/0!', '#DIV/0!', '#DIV/0!', '#DIV/0!', '#DIV/0!', '#DIV/0!', '#DIV/0!', '#DIV/0!', '#DIV/0!', '#DIV/0!', '#DIV/0!', '#DIV/0!'), ('654500', 7, 'VCP_WDY2.1_SAT_OFF', 'Nguyen Est', 'None', '09:00', 'https://docs.google.com/spreadsheets/d/1YtpojI6EpzjjJlyuo19e6D8DTGbXxbkQ9d8itkcc64I/edit?usp=sharing', 'Vinhomes Central Park', 1, '07.10.2023\\xa009:00', 14, '0%', 'Non', '01.07.2023 09:00', '10.02.2024 09:00', 5.0, 5.0, 5.0, 4.0, 4.0, 5.0, 5.0, 5.0, 4.0, 4.0, 5.0, '#DIV/0!', '#DIV/0!', '#DIV/0!', '#DIV/0!', '#DIV/0!', '#DIV/0!', '#DIV/0!', '#DIV/0!', '#DIV/0!', '#DIV/0!', '#DIV/0!', '#DIV/0!', '#DIV/0!', '#DIV/0!', '#DIV/0!', '#DIV/0!', '#DIV/0!', '#DIV/0!', '#DIV/0!', '#DIV/0!', '#DIV/0!', '#DIV/0!', '#DIV/0!', '#DIV/0!', '#DIV/0!', '#DIV/0!', '#DIV/0!'), ('648877', 5, 'VCP_GD24_THU_OFF', 'Tran Jolin', 'None', '16:00', 'https://docs.google.com/spreadsheets/d/1LoZGDXE1D3zKL-JHR7Z1mlAA9SykeYkqpYSC7v6Un9g/edit?usp=sharing', 'Vinhomes Central Park', 2, '12.10.2023\\xa016:00', 17, '50%', 'GD 20/21 M2L7', '22.06.2023 16:00', '01.02.2024 16:00', 5.0, 5.0, 5.0, 5.0, 4.5, 5.0, 4.5, 4.5, 4.5, 4.5, 4.0, 5.0, 4.5, 4.0, 4.0, '#DIV/0!', '#DIV/0!', '#DIV/0!', '#DIV/0!', '#DIV/0!', '#DIV/0!', '#DIV/0!', '#DIV/0!', '#DIV/0!', '#DIV/0!', '#DIV/0!', '#DIV/0!', '#DIV/0!', '#DIV/0!', '#DIV/0!', '#DIV/0!', '#DIV/0!', '#DIV/0!', '#DIV/0!', '#DIV/0!', '#DIV/0!', '#DIV/0!', '#DIV/0!'), ('648874', 4, 'VCP_GD23_WED_ONL', 'Dinh Ranz (PT)', 'None', '19:30', 'https://docs.google.com/spreadsheets/d/1jSoVQyNDAxnt86yUxQNmgiweC3jPUw-2GVMkpWH_Sr0/edit?usp=sharing', 'Vinhomes Central Park', 1, '11.10.2023\\xa019:30', 19, '100%', 'GD 20/21 M2L9', '31.05.2023 19:30', '17.01.2024 19:30', 5.0, 5.0, 5.0, 5.0, 5.0, 5.0, 5.0, 5.0, 5.0, 5.0, 5.0, 5.0, 5.0, 5.0, 5.0, 5.0, 5.0, '#DIV/0!', '#DIV/0!', '#DIV/0!', '#DIV/0!', '#DIV/0!', '#DIV/0!', '#DIV/0!', '#DIV/0!', '#DIV/0!', '#DIV/0!', '#DIV/0!', '#DIV/0!', '#DIV/0!', '#DIV/0!', '#DIV/0!', '#DIV/0!', '#DIV/0!', '#DIV/0!', '#DIV/0!', '#DIV/0!', '#DIV/0!'), ('644392', 8, 'VCP_GD22_SUN_OFF', 'Cao Nhat', 'None', '14:00', 'https://docs.google.com/spreadsheets/d/1g6mFr451e9znNkj3eJT31s9_Vpm2u6p9s3d74fLda3Q/edit?usp=sharing', 'Vinhomes Central Park', 7, '08.10.2023\\xa014:00', 19, '0%', 'GD 20/21 M2L9', '28.05.2023 14:00', '14.01.2024 14:00', 5.0, 4.8, 4.67, 4.6, 4.5, 4.75, 4.17, 4.4, 4.43, 5.0, 4.67, 4.67, 4.6, 4.5, 4.67, '#DIV/0!', 4.43, 4.5, '#DIV/0!', '#DIV/0!', '#DIV/0!', '#DIV/0!', '#DIV/0!', '#DIV/0!', '#DIV/0!', '#DIV/0!', '#DIV/0!', '#DIV/0!', '#DIV/0!', '#DIV/0!', '#DIV/0!', '#DIV/0!', '#DIV/0!', '#DIV/0!', '#DIV/0!', '#DIV/0!', '#DIV/0!', '#DIV/0!'), ('644390', 8, 'VCP_VP22_SUN_OFF', 'Dinh Ranz (PT)', 'None', '14:00', 'https://docs.google.com/spreadsheets/d/1MmwHoVWbFXqU3Rx9Z7t7aU1AGzsqFDtfQwjD1SoPdVA/edit?usp=sharing', 'Vinhomes Central Park', 1, '08.10.2023\\xa014:00', 19, '0%', 'Visual Programming 2020/2021 M4L3', '28.05.2023 14:00', '07.01.2024 14:00', 5.0, 5.0, 5.0, 5.0, 5.0, 5.0, 5.0, 5.0, 4.5, 5.0, 4.5, 4.5, 5.0, 5.0, 5.0, 5.0, 5.0, 4.0, '#DIV/0!', '#DIV/0!', '#DIV/0!', '#DIV/0!', '#DIV/0!', '#DIV/0!', '#DIV/0!', '#DIV/0!', '#DIV/0!', '#DIV/0!', '#DIV/0!', '#DIV/0!', '#DIV/0!', '#DIV/0!', '#DIV/0!', '#DIV/0!', '#DIV/0!', '#DIV/0!', '#DIV/0!', '#DIV/0!'), ('640571', 8, 'VCP_CK13_SUN_OFF', 'Rita Vu', 'None', '17:00', 'https://docs.google.com/spreadsheets/d/1igm3fPDE4Tikyh-Fhl8XPmlM490dRXA2u09X0jUURgI/edit?usp=sharing', 'Vinhomes Central Park', 1, '08.10.2023\\xa017:00', 21, '0%', 'M6L1, The Coding Knight course, 2021-2022', '07.05.2023 17:00', '24.12.2023 17:00', 5.0, '#DIV/0!', 5.0, 4.0, 4.0, 5.0, '#DIV/0!', 5.0, 5.0, 5.0, 5.0, '#DIV/0!', 5.0, 5.0, 5.0, '#DIV/0!', 5.0, '#DIV/0!', 5.0, '#DIV/0!', '#DIV/0!', '#DIV/0!', '#DIV/0!', '#DIV/0!', '#DIV/0!', '#DIV/0!', '#DIV/0!', '#DIV/0!', '#DIV/0!', '#DIV/0!', '#DIV/0!', '#DIV/0!', '#DIV/0!', '#DIV/0!', '#DIV/0!', '#DIV/0!', '#DIV/0!', '#DIV/0!'), ('637204', 7, 'VCP_GD21_SAT_OFF', 'Nguyen Anthony', 'None', '15:00', 'https://docs.google.com/spreadsheets/d/1ywVak50XEKX495VMZiwS_8QD4bLQGvqLHfFItsxuoZg/edit?usp=sharing', 'Vinhomes Central Park', 1, '07.10.2023\\xa015:00', 18, '0%', 'GD 20/21 M2L8', '13.05.2023 15:00', '20.01.2024 15:00', 5.0, 5.0, 5.0, 5.0, 4.0, 5.0, 4.0, 4.0, 4.0, 4.0, 4.0, 5.0, 4.0, 4.0, 4.0, 4.0, 4.0, '#DIV/0!', '#DIV/0!', '#DIV/0!', '#DIV/0!', '#DIV/0!', '#DIV/0!', '#DIV/0!', '#DIV/0!', '#DIV/0!', '#DIV/0!', '#DIV/0!', '#DIV/0!', '#DIV/0!', '#DIV/0!', '#DIV/0!', '#DIV/0!', '#DIV/0!', '#DIV/0!', '#DIV/0!', '#DIV/0!', '#DIV/0!'), ('634901', 7, 'VCP_GD20_SAT_OFF', 'Pham Minh Quang (David)', 'None', '09:00', 'https://docs.google.com/spreadsheets/d/1RIh9LeqmkBKLjOUBEjgEu9TLy8n6VtItWTMU19yg-QU/edit#gid=1315893701\\xa0', 'Vinhomes Central Park', 3, '07.10.2023\\xa009:00', 19, '0%', 'GD 20/21 M2L9', '27.05.2023 09:00', '13.01.2024 09:00', 5.0, 5.0, 5.0, 5.0, 5.0, 5.0, 5.0, 5.0, 5.0, 5.0, 5.0, 5.0, 5.0, 5.0, 5.0, '#DIV/0!', 5.0, 5.0, '#DIV/0!', '#DIV/0!', '#DIV/0!', '#DIV/0!', '#DIV/0!', '#DIV/0!', '#DIV/0!', '#DIV/0!', '#DIV/0!', '#DIV/0!', '#DIV/0!', '#DIV/0!', '#DIV/0!', '#DIV/0!', '#DIV/0!', '#DIV/0!', '#DIV/0!', '#DIV/0!', '#DIV/0!', '#DIV/0!'), ('605414', 8, 'VCP_VP21_SUN_OFF', 'Tran Jolin', 'None', '16:00', 'https://docs.google.com/spreadsheets/d/1jAoXZNI-Fc0gxuOq_0znskoWCh4S-dWZOLs9cGHbAoQ/edit?usp=sharing', 'Vinhomes Central Park', 2, '08.10.2023\\xa016:00', 20, '0%', 'Visual Programming 2020/2021 M4L4', '07.05.2023 16:00', '31.12.2023 16:00', 5.0, 5.0, 4.5, 5.0, 5.0, 5.0, 5.0, 5.0, 5.0, 5.0, 5.0, 5.0, 5.0, 5.0, 5.0, '#DIV/0!', 5.0, 4.5, '#DIV/0!', '#DIV/0!', '#DIV/0!', '#DIV/0!', '#DIV/0!', '#DIV/0!', '#DIV/0!', '#DIV/0!', '#DIV/0!', '#DIV/0!', '#DIV/0!', '#DIV/0!', '#DIV/0!', '#DIV/0!', '#DIV/0!', '#DIV/0!', '#DIV/0!', '#DIV/0!', '#DIV/0!', '#DIV/0!'), ('541176', 8, 'VCP_PTSY1.15_SUN_OFF', 'Nguyen Nhi', 'None', '15:30', 'https://docs.google.com/spreadsheets/d/1pt2xuU8AviwHDVWBMR0YY2st7IJZBZuFFrD-bajDhN4/edit?usp=sharing', 'Vinhomes Central Park', 2, '08.10.2023\\xa015:30', 18, '0%', 'Python Start 2020/2021 M4 L4', '23.04.2023 15:30', '11.02.2024 15:30', 3.5, 3.5, 3.5, 3.5, 4.0, 5.0, 5.0, 5.0, 5.0, 5.0, 5.0, 5.0, 4.0, 5.0, 5.0, 5.0, 5.0, 5.0, 4.0, 4.0, 5.0, '#DIV/0!', '#DIV/0!', '#DIV/0!', '#DIV/0!', '#DIV/0!', '#DIV/0!', '#DIV/0!', '#DIV/0!', '#DIV/0!', '#DIV/0!', '#DIV/0!', '#DIV/0!', '#DIV/0!', '#DIV/0!', '#DIV/0!', '#DIV/0!', '#DIV/0!'), ('522540', 7, 'VCP_DL5_SAT_OFF', 'Dinh Ranz (PT)', 'None', '15:00', 'https://docs.google.com/spreadsheets/d/1ha8vfX2Z1RjHs45oF58_hVHzyJuA4EQb4XZ19mLnK1c/edit?usp=sharing', 'Vinhomes Central Park', 3, '07.10.2023\\xa015:00', 22, '0%', 'DL M6L2', '22.04.2023 15:00', '16.12.2023 15:00', 4.0, 4.0, 4.0, 4.0, 4.0, 4.0, 4.0, 4.0, 3.5, 4.0, 4.0, 5.0, 5.0, 4.0, 4.0, 4.0, 4.0, 4.5, 5.0, 4.0, '#DIV/0!', '#DIV/0!', '#DIV/0!', '#DIV/0!', '#DIV/0!', '#DIV/0!', '#DIV/0!', '#DIV/0!', '#DIV/0!', '#DIV/0!', '#DIV/0!', '#DIV/0!', '#DIV/0!', '#DIV/0!', '#DIV/0!', '#DIV/0!', '#DIV/0!', '#DIV/0!'), ('515041', 3, 'VCP_GD19_TUE_OFF', 'Tran Sa', 'None', '19:00', 'https://docs.google.com/spreadsheets/d/1PF-3nbLBNs750BVDFuokhAam5_ioVZM80_fKpiGtfzk/edit?usp=sharing', 'Vinhomes Central Park', 3, '10.10.2023\\xa019:00', 24, '100%', 'GD 20/21 M3L4', '25.04.2023 19:00', '12.12.2023 19:00', 5.0, 5.0, 4.0, 5.0, 4.5, 4.0, 4.5, 4.0, 4.0, 5.0, 4.0, 3.0, 5.0, 4.0, 4.0, 4.0, 4.0, 4.33, 4.33, 4.33, 5.0, 5.0, 5.0, '#DIV/0!', '#DIV/0!', '#DIV/0!', '#DIV/0!', '#DIV/0!', '#DIV/0!', '#DIV/0!', '#DIV/0!', '#DIV/0!', '#DIV/0!', '#DIV/0!', '#DIV/0!', '#DIV/0!', '#DIV/0!', '#DIV/0!'), ('507883', 3, 'VCP_PTSY1.14_TUE_OFF', 'Wenner Josh', 'None', '15:30', 'https://docs.google.com/spreadsheets/d/1Ag0RdtzqFhYAbfmiPZuUKNMlJFuEN0TcquOKr_3C8vM/edit?usp=sharing', 'Vinhomes Central Park', 1, '10.10.2023\\xa015:30', 24, '100%', 'Python Start 2021/2022 M5 L5', '11.04.2023 15:30', '02.01.2024 15:30', 5.0, 5.0, 5.0, 5.0, 5.0, 5.0, 5.0, 4.0, 5.0, 5.0, 4.0, 4.0, 4.0, 5.0, 5.0, 5.0, 5.0, 5.0, 5.0, 5.0, 5.0, 5.0, 4.0, '#DIV/0!', '#DIV/0!', '#DIV/0!', '#DIV/0!', '#DIV/0!', '#DIV/0!', '#DIV/0!', '#DIV/0!', '#DIV/0!', '#DIV/0!', '#DIV/0!', '#DIV/0!', '#DIV/0!', '#DIV/0!', '#DIV/0!'), ('505620', 7, 'VCP_GD18_SAT_OFF', 'Dinh Ranz (PT)', 'None', '16:30', 'https://docs.google.com/spreadsheets/d/1_GqTADlgTRwhVEjjSlactqvRLSyBCQDs8vGhoWPCBj0/edit?usp=sharing', 'Vinhomes Central Park', 3, '07.10.2023\\xa016:30', 24, '0%', 'GD 20/21 M3L4', '08.04.2023 16:30', '09.12.2023 16:30', '#DIV/0!', 5.0, 5.0, '#DIV/0!', 5.0, 4.0, 4.0, 4.0, 4.0, 4.0, 4.0, 4.0, 5.0, 4.0, 5.0, 5.0, 5.0, 5.0, 5.0, 5.0, 5.0, 5.0, '#DIV/0!', '#DIV/0!', '#DIV/0!', '#DIV/0!', '#DIV/0!', '#DIV/0!', '#DIV/0!', '#DIV/0!', '#DIV/0!', '#DIV/0!', '#DIV/0!', '#DIV/0!', '#DIV/0!', '#DIV/0!', '#DIV/0!', '#DIV/0!'), ('505618', 7, 'VCP_PTSY2.6_SAT_OFF', 'Tran Anh', 'None', '16:30', 'https://docs.google.com/spreadsheets/d/1CScjTehiMCwVYFK4joVBHLaKbe16ZbBBM2SZvBqrX8I/edit?usp=sharing', 'Vinhomes Central Park', 1, '07.10.2023\\xa016:30', 23, '0%', 'Python Start 2020/2021 - 2 M5 L5', '25.03.2023 16:30', '09.12.2023 16:30', 4.0, 5.0, 5.0, 5.0, 4.0, 5.0, 5.0, 5.0, 5.0, 5.0, 4.0, 5.0, 5.0, 5.0, 5.0, 5.0, 5.0, 5.0, 5.0, 5.0, 5.0, 5.0, '#DIV/0!', '#DIV/0!', '#DIV/0!', '#DIV/0!', '#DIV/0!', '#DIV/0!', '#DIV/0!', '#DIV/0!', '#DIV/0!', '#DIV/0!', '#DIV/0!', '#DIV/0!', '#DIV/0!', '#DIV/0!', '#DIV/0!', '#DIV/0!'), ('501610', 8, 'VCP_VP20_SUN_OFF', 'Truong Hanie', 'None', '10:30', 'https://docs.google.com/spreadsheets/d/1-Iz3MdpCSR28uTCxulv4lfX_6uHrDGbgs-sVEqxj0MQ/edit?usp=sharing', 'Vinhomes Central Park', 4, '08.10.2023\\xa010:30', 27, '0%', 'Visual Programming 2020/2021 M5L5', '26.03.2023 10:30', '12.11.2023 10:30', 5.0, 5.0, 5.0, 4.67, 5.0, 5.0, 4.75, 4.83, 4.4, 4.75, 4.5, 4.25, 4.2, 4.4, 4.0, 4.2, 4.4, 4.2, 4.0, 4.0, 4.2, 4.5, 3.83, 4.4, 4.2, 4.0, '#DIV/0!', '#DIV/0!', '#DIV/0!', '#DIV/0!', '#DIV/0!', '#DIV/0!', '#DIV/0!', '#DIV/0!', '#DIV/0!', '#DIV/0!', '#DIV/0!', '#DIV/0!'), ('497738', 2, 'VCP_PTSY1.13_MON_ONL', 'Tran Charlotte', 'None', '19:00', 'https://docs.google.com/spreadsheets/d/1l64Vz3Ak5TDEk8Zx7NN3a0UTKm6_2KNHAjhzp3p1t48/edit?usp=sharing', 'Vinhomes Central Park', 1, '09.10.2023\\xa019:00', 29, '0%', 'Python Start 2021/2022 M6 L6', '13.03.2023 19:00', '30.10.2023 19:00', 5.0, 5.0, 5.0, 5.0, 5.0, 4.0, 4.0, 5.0, 5.0, 5.0, 5.0, 4.0, 5.0, 5.0, 5.0, 5.0, 5.0, 4.0, 5.0, 5.0, 5.0, 5.0, 5.0, 4.0, 4.0, '#DIV/0!', '#DIV/0!', '#DIV/0!', '#DIV/0!', '#DIV/0!', '#DIV/0!', '#DIV/0!', '#DIV/0!', '#DIV/0!', '#DIV/0!', '#DIV/0!', '#DIV/0!', '#DIV/0!'), ('497724', 4, 'VCP_PTSY1.12_WED_OFF', 'Garrod Matthew', 'None', '19:00', 'https://docs.google.com/spreadsheets/d/1_SWTweQYqEFb-bhVbU7Klf-AtmhdE2iPk6xJwh-Napg/edit?usp=sharing', 'Vinhomes Central Park', 4, '11.10.2023\\xa019:00', 29, '100%', 'Python Start 2021/2022 M6 L6', '08.03.2023 19:00', '01.11.2023 19:00', 4.67, 4.67, 4.5, 4.5, 4.33, 4.75, 3.75, 4.75, 4.5, 5.0, 4.5, 4.67, 3.75, 4.75, 4.5, 4.5, 4.75, 4.67, 4.67, 4.5, 4.0, 4.25, 4.5, 4.25, 4.25, 4.25, 4.75, 5.0, '#DIV/0!', '#DIV/0!', '#DIV/0!', '#DIV/0!', '#DIV/0!', '#DIV/0!', '#DIV/0!', '#DIV/0!', '#DIV/0!', '#DIV/0!'), ('493639', 5, 'VCP_VP19_THU_OFF', 'Tran Jolin', 'None', '18:30', 'https://docs.google.com/spreadsheets/d/14R8vxWpWY3NsGqVnS8d_BZgCnq-82VzmRSI_SHDcJN8/edit?usp=sharing', 'Vinhomes Central Park', 4, '05.10.2023\\xa018:30', 28, '0%', 'Visual Programming 2020/2021 M5L6', '09.03.2023 18:30', '02.11.2023 18:30', 5.0, 5.0, 5.0, 5.0, 5.0, 5.0, 5.0, 5.0, 5.0, '#DIV/0!', '#DIV/0!', 5.0, 4.0, 4.0, 5.0, 5.0, '#DIV/0!', 3.0, 5.0, 5.0, 5.0, '#DIV/0!', 4.0, 5.0, 5.0, 5.0, 4.75, '#DIV/0!', '#DIV/0!', '#DIV/0!', '#DIV/0!', '#DIV/0!', '#DIV/0!', '#DIV/0!', '#DIV/0!', '#DIV/0!', '#DIV/0!', '#DIV/0!'), ('490362', 7, 'VCP_UGD1_SAT_OFF', 'Nguyen My', 'None', '16:00', 'https://docs.google.com/spreadsheets/d/16uAq1mi5fIcrItr-QsUK-Rok1Kwc2kusjKBBt7jD5xA/edit?usp=sharing', 'Vinhomes Central Park', 1, '07.10.2023\\xa016:00', 25, '0%', 'Unity M6L1', '25.03.2023 16:00', '02.12.2023 16:00', 5.0, 5.0, 5.0, 5.0, 5.0, 5.0, 5.0, 5.0, 5.0, 5.0, 5.0, 5.0, 5.0, 5.0, 5.0, '#DIV/0!', 5.0, 5.0, '#DIV/0!', 5.0, 5.0, 5.0, 5.0, 5.0, '#DIV/0!', '#DIV/0!', '#DIV/0!', '#DIV/0!', '#DIV/0!', '#DIV/0!', '#DIV/0!', '#DIV/0!', '#DIV/0!', '#DIV/0!', '#DIV/0!', '#DIV/0!', '#DIV/0!', '#DIV/0!'), ('490344', 6, 'VCP_GD17_FRI_OFF', 'Tran Dang', 'None', '19:30', 'https://docs.google.com/spreadsheets/d/1cfrKJu4FINXJL19gkc4714sFEhgq57kfuMOZBtffRQI/edit#gid=1315893701', 'Vinhomes Central Park', 1, '06.10.2023\\xa019:30', 29, '0%', 'GD 20/21 M5L1', '24.02.2023 19:15', '03.11.2023 19:30', 5.0, 5.0, 5.0, 5.0, 5.0, 5.0, 5.0, 5.0, 5.0, 5.0, 5.0, 5.0, 5.0, 5.0, 5.0, 5.0, 3.0, 5.0, '#DIV/0!', 5.0, 5.0, 4.0, 4.0, 5.0, 4.0, 4.0, 4.0, 5.0, '#DIV/0!', '#DIV/0!', '#DIV/0!', '#DIV/0!', '#DIV/0!', '#DIV/0!', '#DIV/0!', '#DIV/0!', '#DIV/0!', '#DIV/0!'), ('487675', 5, 'VCP_PTSY1.11_THU_ONL', 'Vuong Khanh', 'None', '19:30', 'https://docs.google.com/spreadsheets/d/1U_Iy8YHYGYFMbrIfcadHG5xqRbDCaQRjyDcx1OgXch8/edit?usp=sharing', 'Vinhomes Central Park', 3, '05.10.2023\\xa019:30', 30, '0%', 'Python Start 2021/2022 M6 L7', '09.03.2023 19:30', '19.10.2023 19:30', 4.0, 4.33, 5.0, 4.25, 5.0, 5.0, 5.0, 4.25, 4.25, 4.25, 4.25, 4.0, 4.67, 4.67, 4.25, 5.0, 5.0, 4.75, 4.33, 5.0, 4.5, 4.5, 4.5, 5.0, 4.5, 4.33, 4.0, 4.5, '#DIV/0!', '#DIV/0!', '#DIV/0!', '#DIV/0!', '#DIV/0!', '#DIV/0!', '#DIV/0!', '#DIV/0!', '#DIV/0!', '#DIV/0!'), ('477196', 4, 'VCP_GD16_WED_OFF', 'Garrod Matthew', 'None', '17:15', 'https://docs.google.com/spreadsheets/d/14tJdhNgT0rZc8yK60aCAD9Taq05fVfn0I6HJhKfSakk/edit?usp=sharing', 'Vinhomes Central Park', 0, '11.10.2023\\xa017:15', 33, '100%', 'Non', '01.02.2023 17:15', '11.10.2023 17:15', 5.0, 4.5, 5.0, 5.0, 5.0, 5.0, 5.0, 5.0, 4.5, 5.0, 5.0, 5.0, 5.0, 5.0, 5.0, 5.0, 4.67, 5.0, 5.0, 5.0, 5.0, 5.0, 5.0, 5.0, 5.0, 5.0, 4.5, 4.5, 5.0, 4.0, 4.5, 5.0, '#DIV/0!', '#DIV/0!', '#DIV/0!', '#DIV/0!', '#DIV/0!', '#DIV/0!'), ('471623', 6, 'VCP_GD15_FRI_ONL', 'Nguyen My', 'None', '18:00', 'https://docs.google.com/spreadsheets/d/13To3WA-V4-WAcm6bb-dg7wrTcF2cdK9dZXlnkGQSWTY/edit?usp=sharing', 'Vinhomes Central Park', 1, '06.10.2023\\xa018:00', 33, '0%', 'Non', '03.02.2023 18:00', '06.10.2023 18:00', 5.0, 5.0, 5.0, 5.0, 5.0, 5.0, 5.0, 5.0, 5.0, 5.0, 5.0, 5.0, 5.0, 5.0, 5.0, 5.0, 5.0, 5.0, 5.0, '#DIV/0!', '#DIV/0!', 5.0, '#DIV/0!', 5.0, 5.0, 5.0, 5.0, 5.0, 5.0, 5.0, 5.0, 5.0, '#DIV/0!', '#DIV/0!', '#DIV/0!', '#DIV/0!', '#DIV/0!', '#DIV/0!'), ('466701', 8, 'VCP_DL4_SUN_OFF', 'Truong Hanie', 'None', '09:00', 'https://docs.google.com/spreadsheets/d/11szvZTrcT19wuP-ZUcRapMUjSv-BXqTX13eFKkwyuqc/edit?usp=sharing', 'Vinhomes Central Park', 2, '08.10.2023\\xa009:00', 31, '0%', 'DL M8L3', '05.02.2023 09:00', '15.10.2023 09:00', 5.0, 4.5, 4.5, 5.0, 4.5, 5.0, 5.0, 5.0, 5.0, 5.0, 5.0, 5.0, 5.0, 5.0, 5.0, 5.0, 5.0, 5.0, 4.0, 5.0, 5.0, 4.0, 4.0, 4.0, 5.0, 4.0, 4.0, 4.0, 5.0, 4.0, '#DIV/0!', '#DIV/0!', '#DIV/0!', '#DIV/0!', '#DIV/0!', '#DIV/0!', '#DIV/0!', '#DIV/0!')]\n"
          ]
        }
      ],
      "source": [
        "print(groups[:5])\n",
        "data_to_insert = [tuple(row) for row in groups]\n",
        "print(data_to_insert)\n",
        "print(data_to_insert)"
      ]
    },
    {
      "cell_type": "code",
      "execution_count": 10,
      "metadata": {},
      "outputs": [
        {
          "ename": "IntegrityError",
          "evalue": "1062 (23000): Duplicate entry '1098288' for key 'PRIMARY'",
          "output_type": "error",
          "traceback": [
            "\u001b[1;31m---------------------------------------------------------------------------\u001b[0m",
            "\u001b[1;31mMySQLInterfaceError\u001b[0m                       Traceback (most recent call last)",
            "File \u001b[1;32mc:\\Users\\hazaz\\AppData\\Local\\Programs\\Python\\Python310\\lib\\site-packages\\mysql\\connector\\connection_cext.py:633\u001b[0m, in \u001b[0;36mCMySQLConnection.cmd_query\u001b[1;34m(self, query, raw, buffered, raw_as_string)\u001b[0m\n\u001b[0;32m    632\u001b[0m         query \u001b[39m=\u001b[39m query\u001b[39m.\u001b[39mencode(\u001b[39m\"\u001b[39m\u001b[39mutf-8\u001b[39m\u001b[39m\"\u001b[39m)\n\u001b[1;32m--> 633\u001b[0m     \u001b[39mself\u001b[39;49m\u001b[39m.\u001b[39;49m_cmysql\u001b[39m.\u001b[39;49mquery(\n\u001b[0;32m    634\u001b[0m         query,\n\u001b[0;32m    635\u001b[0m         raw\u001b[39m=\u001b[39;49mraw,\n\u001b[0;32m    636\u001b[0m         buffered\u001b[39m=\u001b[39;49mbuffered,\n\u001b[0;32m    637\u001b[0m         raw_as_string\u001b[39m=\u001b[39;49mraw_as_string,\n\u001b[0;32m    638\u001b[0m         query_attrs\u001b[39m=\u001b[39;49m\u001b[39mself\u001b[39;49m\u001b[39m.\u001b[39;49mquery_attrs,\n\u001b[0;32m    639\u001b[0m     )\n\u001b[0;32m    640\u001b[0m \u001b[39mexcept\u001b[39;00m MySQLInterfaceError \u001b[39mas\u001b[39;00m err:\n",
            "\u001b[1;31mMySQLInterfaceError\u001b[0m: Duplicate entry '1098288' for key 'PRIMARY'",
            "\nThe above exception was the direct cause of the following exception:\n",
            "\u001b[1;31mIntegrityError\u001b[0m                            Traceback (most recent call last)",
            "\u001b[1;32md:\\job\\Dashboard Git version\\dasboard.ipynb Cell 17\u001b[0m line \u001b[0;36m2\n\u001b[0;32m     <a href='vscode-notebook-cell:/d%3A/job/Dashboard%20Git%20version/dasboard.ipynb#X22sZmlsZQ%3D%3D?line=19'>20</a>\u001b[0m insert_query \u001b[39m=\u001b[39m \u001b[39m\"\"\"\u001b[39m\n\u001b[0;32m     <a href='vscode-notebook-cell:/d%3A/job/Dashboard%20Git%20version/dasboard.ipynb#X22sZmlsZQ%3D%3D?line=20'>21</a>\u001b[0m \u001b[39mINSERT INTO nlb\u001b[39m\n\u001b[0;32m     <a href='vscode-notebook-cell:/d%3A/job/Dashboard%20Git%20version/dasboard.ipynb#X22sZmlsZQ%3D%3D?line=21'>22</a>\u001b[0m \u001b[39m(Id, Week_Day, Class_Code, Teacher_name, Assigned_Tutor, Time, CPR, Campus, Student, Next_Lesson, Next_Lesson_Num, Attend_Percentage, Course, Start_Date, End_Date, L1, L2, L3, L4, L5, L6, L7, L8, L9, L10, L11, L12, L13, L14, L15, L16, L17, L18, L19, L20, L21, L22, L23, L24, L25, L26, L27, L28, L29, L30, L31, L32, L33, L34, L35, L36, L37, L38)\u001b[39m\n\u001b[0;32m     <a href='vscode-notebook-cell:/d%3A/job/Dashboard%20Git%20version/dasboard.ipynb#X22sZmlsZQ%3D%3D?line=22'>23</a>\u001b[0m \u001b[39mVALUES\u001b[39m\n\u001b[0;32m     <a href='vscode-notebook-cell:/d%3A/job/Dashboard%20Git%20version/dasboard.ipynb#X22sZmlsZQ%3D%3D?line=23'>24</a>\u001b[0m \u001b[39m(\u001b[39m\u001b[39m%s\u001b[39;00m\u001b[39m, \u001b[39m\u001b[39m%s\u001b[39;00m\u001b[39m, \u001b[39m\u001b[39m%s\u001b[39;00m\u001b[39m, \u001b[39m\u001b[39m%s\u001b[39;00m\u001b[39m, \u001b[39m\u001b[39m%s\u001b[39;00m\u001b[39m, \u001b[39m\u001b[39m%s\u001b[39;00m\u001b[39m, \u001b[39m\u001b[39m%s\u001b[39;00m\u001b[39m, \u001b[39m\u001b[39m%s\u001b[39;00m\u001b[39m, \u001b[39m\u001b[39m%s\u001b[39;00m\u001b[39m, \u001b[39m\u001b[39m%s\u001b[39;00m\u001b[39m, \u001b[39m\u001b[39m%s\u001b[39;00m\u001b[39m, \u001b[39m\u001b[39m%s\u001b[39;00m\u001b[39m, \u001b[39m\u001b[39m%s\u001b[39;00m\u001b[39m, \u001b[39m\u001b[39m%s\u001b[39;00m\u001b[39m, \u001b[39m\u001b[39m%s\u001b[39;00m\u001b[39m, \u001b[39m\u001b[39m%s\u001b[39;00m\u001b[39m, \u001b[39m\u001b[39m%s\u001b[39;00m\u001b[39m, \u001b[39m\u001b[39m%s\u001b[39;00m\u001b[39m, \u001b[39m\u001b[39m%s\u001b[39;00m\u001b[39m, \u001b[39m\u001b[39m%s\u001b[39;00m\u001b[39m, \u001b[39m\u001b[39m%s\u001b[39;00m\u001b[39m, \u001b[39m\u001b[39m%s\u001b[39;00m\u001b[39m, \u001b[39m\u001b[39m%s\u001b[39;00m\u001b[39m, \u001b[39m\u001b[39m%s\u001b[39;00m\u001b[39m, \u001b[39m\u001b[39m%s\u001b[39;00m\u001b[39m, \u001b[39m\u001b[39m%s\u001b[39;00m\u001b[39m, \u001b[39m\u001b[39m%s\u001b[39;00m\u001b[39m, \u001b[39m\u001b[39m%s\u001b[39;00m\u001b[39m, \u001b[39m\u001b[39m%s\u001b[39;00m\u001b[39m, \u001b[39m\u001b[39m%s\u001b[39;00m\u001b[39m, \u001b[39m\u001b[39m%s\u001b[39;00m\u001b[39m, \u001b[39m\u001b[39m%s\u001b[39;00m\u001b[39m, \u001b[39m\u001b[39m%s\u001b[39;00m\u001b[39m, \u001b[39m\u001b[39m%s\u001b[39;00m\u001b[39m, \u001b[39m\u001b[39m%s\u001b[39;00m\u001b[39m, \u001b[39m\u001b[39m%s\u001b[39;00m\u001b[39m, \u001b[39m\u001b[39m%s\u001b[39;00m\u001b[39m, \u001b[39m\u001b[39m%s\u001b[39;00m\u001b[39m, \u001b[39m\u001b[39m%s\u001b[39;00m\u001b[39m, \u001b[39m\u001b[39m%s\u001b[39;00m\u001b[39m, \u001b[39m\u001b[39m%s\u001b[39;00m\u001b[39m, \u001b[39m\u001b[39m%s\u001b[39;00m\u001b[39m, \u001b[39m\u001b[39m%s\u001b[39;00m\u001b[39m, \u001b[39m\u001b[39m%s\u001b[39;00m\u001b[39m, \u001b[39m\u001b[39m%s\u001b[39;00m\u001b[39m, \u001b[39m\u001b[39m%s\u001b[39;00m\u001b[39m, \u001b[39m\u001b[39m%s\u001b[39;00m\u001b[39m, \u001b[39m\u001b[39m%s\u001b[39;00m\u001b[39m, \u001b[39m\u001b[39m%s\u001b[39;00m\u001b[39m, \u001b[39m\u001b[39m%s\u001b[39;00m\u001b[39m, \u001b[39m\u001b[39m%s\u001b[39;00m\u001b[39m, \u001b[39m\u001b[39m%s\u001b[39;00m\u001b[39m, \u001b[39m\u001b[39m%s\u001b[39;00m\u001b[39m)\u001b[39m\n\u001b[0;32m     <a href='vscode-notebook-cell:/d%3A/job/Dashboard%20Git%20version/dasboard.ipynb#X22sZmlsZQ%3D%3D?line=24'>25</a>\u001b[0m \u001b[39m\"\"\"\u001b[39m\n\u001b[0;32m     <a href='vscode-notebook-cell:/d%3A/job/Dashboard%20Git%20version/dasboard.ipynb#X22sZmlsZQ%3D%3D?line=26'>27</a>\u001b[0m \u001b[39m# Insert data into the table\u001b[39;00m\n\u001b[1;32m---> <a href='vscode-notebook-cell:/d%3A/job/Dashboard%20Git%20version/dasboard.ipynb#X22sZmlsZQ%3D%3D?line=27'>28</a>\u001b[0m cursor\u001b[39m.\u001b[39;49mexecutemany(insert_query, data_to_insert)\n\u001b[0;32m     <a href='vscode-notebook-cell:/d%3A/job/Dashboard%20Git%20version/dasboard.ipynb#X22sZmlsZQ%3D%3D?line=29'>30</a>\u001b[0m \u001b[39m# Commit the changes and close the cursor and connection\u001b[39;00m\n\u001b[0;32m     <a href='vscode-notebook-cell:/d%3A/job/Dashboard%20Git%20version/dasboard.ipynb#X22sZmlsZQ%3D%3D?line=30'>31</a>\u001b[0m connection\u001b[39m.\u001b[39mcommit()\n",
            "File \u001b[1;32mc:\\Users\\hazaz\\AppData\\Local\\Programs\\Python\\Python310\\lib\\site-packages\\mysql\\connector\\cursor_cext.py:455\u001b[0m, in \u001b[0;36mCMySQLCursor.executemany\u001b[1;34m(self, operation, seq_params)\u001b[0m\n\u001b[0;32m    453\u001b[0m     \u001b[39mif\u001b[39;00m stmt \u001b[39mis\u001b[39;00m \u001b[39mnot\u001b[39;00m \u001b[39mNone\u001b[39;00m:\n\u001b[0;32m    454\u001b[0m         \u001b[39mself\u001b[39m\u001b[39m.\u001b[39m_executed \u001b[39m=\u001b[39m stmt\n\u001b[1;32m--> 455\u001b[0m         \u001b[39mreturn\u001b[39;00m \u001b[39mself\u001b[39;49m\u001b[39m.\u001b[39;49mexecute(stmt)\n\u001b[0;32m    457\u001b[0m rowcnt \u001b[39m=\u001b[39m \u001b[39m0\u001b[39m\n\u001b[0;32m    458\u001b[0m \u001b[39mtry\u001b[39;00m:\n\u001b[0;32m    459\u001b[0m     \u001b[39m# When processing read ops (e.g., SELECT), rowcnt is updated\u001b[39;00m\n\u001b[0;32m    460\u001b[0m     \u001b[39m# based on self._rowcount. For write ops (e.g., INSERT) is\u001b[39;00m\n\u001b[0;32m    461\u001b[0m     \u001b[39m# updated based on self._affected_rows.\u001b[39;00m\n\u001b[0;32m    462\u001b[0m     \u001b[39m# The variable self._description is None for write ops, that's\u001b[39;00m\n\u001b[0;32m    463\u001b[0m     \u001b[39m# why we use it as indicator for updating rowcnt.\u001b[39;00m\n",
            "File \u001b[1;32mc:\\Users\\hazaz\\AppData\\Local\\Programs\\Python\\Python310\\lib\\site-packages\\mysql\\connector\\cursor_cext.py:330\u001b[0m, in \u001b[0;36mCMySQLCursor.execute\u001b[1;34m(self, operation, params, multi)\u001b[0m\n\u001b[0;32m    325\u001b[0m             \u001b[39mraise\u001b[39;00m ProgrammingError(\n\u001b[0;32m    326\u001b[0m                 \u001b[39m\"\u001b[39m\u001b[39mNot all parameters were used in the SQL statement\u001b[39m\u001b[39m\"\u001b[39m\n\u001b[0;32m    327\u001b[0m             )\n\u001b[0;32m    329\u001b[0m \u001b[39mtry\u001b[39;00m:\n\u001b[1;32m--> 330\u001b[0m     result \u001b[39m=\u001b[39m \u001b[39mself\u001b[39;49m\u001b[39m.\u001b[39;49m_cnx\u001b[39m.\u001b[39;49mcmd_query(\n\u001b[0;32m    331\u001b[0m         stmt,\n\u001b[0;32m    332\u001b[0m         raw\u001b[39m=\u001b[39;49m\u001b[39mself\u001b[39;49m\u001b[39m.\u001b[39;49m_raw,\n\u001b[0;32m    333\u001b[0m         buffered\u001b[39m=\u001b[39;49m\u001b[39mself\u001b[39;49m\u001b[39m.\u001b[39;49m_buffered,\n\u001b[0;32m    334\u001b[0m         raw_as_string\u001b[39m=\u001b[39;49m\u001b[39mself\u001b[39;49m\u001b[39m.\u001b[39;49m_raw_as_string,\n\u001b[0;32m    335\u001b[0m     )\n\u001b[0;32m    336\u001b[0m \u001b[39mexcept\u001b[39;00m MySQLInterfaceError \u001b[39mas\u001b[39;00m err:\n\u001b[0;32m    337\u001b[0m     \u001b[39mraise\u001b[39;00m get_mysql_exception(\n\u001b[0;32m    338\u001b[0m         msg\u001b[39m=\u001b[39merr\u001b[39m.\u001b[39mmsg, errno\u001b[39m=\u001b[39merr\u001b[39m.\u001b[39merrno, sqlstate\u001b[39m=\u001b[39merr\u001b[39m.\u001b[39msqlstate\n\u001b[0;32m    339\u001b[0m     ) \u001b[39mfrom\u001b[39;00m \u001b[39merr\u001b[39;00m\n",
            "File \u001b[1;32mc:\\Users\\hazaz\\AppData\\Local\\Programs\\Python\\Python310\\lib\\site-packages\\mysql\\connector\\opentelemetry\\context_propagation.py:77\u001b[0m, in \u001b[0;36mwith_context_propagation.<locals>.wrapper\u001b[1;34m(cnx, *args, **kwargs)\u001b[0m\n\u001b[0;32m     75\u001b[0m \u001b[39m\u001b[39m\u001b[39m\"\"\"Context propagation decorator.\"\"\"\u001b[39;00m\n\u001b[0;32m     76\u001b[0m \u001b[39mif\u001b[39;00m \u001b[39mnot\u001b[39;00m OTEL_ENABLED \u001b[39mor\u001b[39;00m \u001b[39mnot\u001b[39;00m cnx\u001b[39m.\u001b[39motel_context_propagation:\n\u001b[1;32m---> 77\u001b[0m     \u001b[39mreturn\u001b[39;00m method(cnx, \u001b[39m*\u001b[39margs, \u001b[39m*\u001b[39m\u001b[39m*\u001b[39mkwargs)\n\u001b[0;32m     79\u001b[0m current_span \u001b[39m=\u001b[39m trace\u001b[39m.\u001b[39mget_current_span()\n\u001b[0;32m     80\u001b[0m tp_header \u001b[39m=\u001b[39m \u001b[39mNone\u001b[39;00m\n",
            "File \u001b[1;32mc:\\Users\\hazaz\\AppData\\Local\\Programs\\Python\\Python310\\lib\\site-packages\\mysql\\connector\\connection_cext.py:641\u001b[0m, in \u001b[0;36mCMySQLConnection.cmd_query\u001b[1;34m(self, query, raw, buffered, raw_as_string)\u001b[0m\n\u001b[0;32m    633\u001b[0m     \u001b[39mself\u001b[39m\u001b[39m.\u001b[39m_cmysql\u001b[39m.\u001b[39mquery(\n\u001b[0;32m    634\u001b[0m         query,\n\u001b[0;32m    635\u001b[0m         raw\u001b[39m=\u001b[39mraw,\n\u001b[1;32m   (...)\u001b[0m\n\u001b[0;32m    638\u001b[0m         query_attrs\u001b[39m=\u001b[39m\u001b[39mself\u001b[39m\u001b[39m.\u001b[39mquery_attrs,\n\u001b[0;32m    639\u001b[0m     )\n\u001b[0;32m    640\u001b[0m \u001b[39mexcept\u001b[39;00m MySQLInterfaceError \u001b[39mas\u001b[39;00m err:\n\u001b[1;32m--> 641\u001b[0m     \u001b[39mraise\u001b[39;00m get_mysql_exception(\n\u001b[0;32m    642\u001b[0m         err\u001b[39m.\u001b[39merrno, msg\u001b[39m=\u001b[39merr\u001b[39m.\u001b[39mmsg, sqlstate\u001b[39m=\u001b[39merr\u001b[39m.\u001b[39msqlstate\n\u001b[0;32m    643\u001b[0m     ) \u001b[39mfrom\u001b[39;00m \u001b[39merr\u001b[39;00m\n\u001b[0;32m    644\u001b[0m \u001b[39mexcept\u001b[39;00m \u001b[39mAttributeError\u001b[39;00m \u001b[39mas\u001b[39;00m err:\n\u001b[0;32m    645\u001b[0m     addr \u001b[39m=\u001b[39m (\n\u001b[0;32m    646\u001b[0m         \u001b[39mself\u001b[39m\u001b[39m.\u001b[39m_unix_socket \u001b[39mif\u001b[39;00m \u001b[39mself\u001b[39m\u001b[39m.\u001b[39m_unix_socket \u001b[39melse\u001b[39;00m \u001b[39mf\u001b[39m\u001b[39m\"\u001b[39m\u001b[39m{\u001b[39;00m\u001b[39mself\u001b[39m\u001b[39m.\u001b[39m_host\u001b[39m}\u001b[39;00m\u001b[39m:\u001b[39m\u001b[39m{\u001b[39;00m\u001b[39mself\u001b[39m\u001b[39m.\u001b[39m_port\u001b[39m}\u001b[39;00m\u001b[39m\"\u001b[39m\n\u001b[0;32m    647\u001b[0m     )\n",
            "\u001b[1;31mIntegrityError\u001b[0m: 1062 (23000): Duplicate entry '1098288' for key 'PRIMARY'"
          ]
        }
      ],
      "source": [
        "# import mysql.connector\n",
        "\n",
        "# # MySQL database configuration\n",
        "# config = {\n",
        "#     'user': 'root',\n",
        "#     'password': '',\n",
        "#     'host': 'localhost',\n",
        "#     'database': 'algo_db',\n",
        "#     'raise_on_warnings': True\n",
        "# }\n",
        "\n",
        "# # List of tuples containing data to insert\n",
        "\n",
        "\n",
        "# # Create a MySQL connection and cursor\n",
        "# connection = mysql.connector.connect(**config)\n",
        "# cursor = connection.cursor()\n",
        "\n",
        "# # Insert query with placeholders for each column\n",
        "# insert_query = \"\"\"\n",
        "# INSERT INTO nlb\n",
        "# (Id, Week_Day, Class_Code, Teacher_name, Assigned_Tutor, Time, CPR, Campus, Student, Next_Lesson, Next_Lesson_Num, Attend_Percentage, Course, Start_Date, End_Date, L1, L2, L3, L4, L5, L6, L7, L8, L9, L10, L11, L12, L13, L14, L15, L16, L17, L18, L19, L20, L21, L22, L23, L24, L25, L26, L27, L28, L29, L30, L31, L32, L33, L34, L35, L36, L37, L38)\n",
        "# VALUES\n",
        "# (%s, %s, %s, %s, %s, %s, %s, %s, %s, %s, %s, %s, %s, %s, %s, %s, %s, %s, %s, %s, %s, %s, %s, %s, %s, %s, %s, %s, %s, %s, %s, %s, %s, %s, %s, %s, %s, %s, %s, %s, %s, %s, %s, %s, %s, %s, %s, %s, %s, %s, %s, %s, %s)\n",
        "# \"\"\"\n",
        "\n",
        "# # Insert data into the table\n",
        "# cursor.executemany(insert_query, data_to_insert)\n",
        "\n",
        "# # Commit the changes and close the cursor and connection\n",
        "# connection.commit()\n",
        "# cursor.close()\n",
        "# connection.close()"
      ]
    }
  ],
  "metadata": {
    "colab": {
      "private_outputs": true,
      "provenance": []
    },
    "gpuClass": "standard",
    "kernelspec": {
      "display_name": "Python 3",
      "name": "python3"
    },
    "language_info": {
      "codemirror_mode": {
        "name": "ipython",
        "version": 3
      },
      "file_extension": ".py",
      "mimetype": "text/x-python",
      "name": "python",
      "nbconvert_exporter": "python",
      "pygments_lexer": "ipython3",
      "version": "3.10.0"
    }
  },
  "nbformat": 4,
  "nbformat_minor": 0
}
