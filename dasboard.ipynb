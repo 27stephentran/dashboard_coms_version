{
  "cells": [
    {
      "attachments": {},
      "cell_type": "markdown",
      "metadata": {},
      "source": [
        "import modules"
      ]
    },
    {
      "cell_type": "code",
      "execution_count": 1,
      "metadata": {
        "id": "IDuTDwRMGKQj"
      },
      "outputs": [],
      "source": [
        "import requests\n",
        "from bs4 import BeautifulSoup\n",
        "from rich.progress import track\n",
        "from datetime import date, timedelta\n",
        "from dateutil.relativedelta import relativedelta\n",
        "import time\n",
        "from google.oauth2.credentials import Credentials\n",
        "from google_auth_oauthlib.flow import InstalledAppFlow\n",
        "from googleapiclient.discovery import build\n",
        "from googleapiclient.errors import HttpError\n",
        "import json"
      ]
    },
    {
      "attachments": {},
      "cell_type": "markdown",
      "metadata": {},
      "source": [
        "declairce must have variable and constants"
      ]
    },
    {
      "cell_type": "code",
      "execution_count": 2,
      "metadata": {
        "id": "dKGH0Dtzz15s"
      },
      "outputs": [
        {
          "name": "stdout",
          "output_type": "stream",
          "text": [
            "Please visit this URL to authorize this application: https://accounts.google.com/o/oauth2/auth?response_type=code&client_id=131924717920-92qpsrgcb7gti5dr9bj0v87hghedp625.apps.googleusercontent.com&redirect_uri=http%3A%2F%2Flocalhost%3A50212%2F&scope=https%3A%2F%2Fwww.googleapis.com%2Fauth%2Fspreadsheets&state=89ePOybo3NEK7APZB2vgRsSw6Xa5sT&access_type=offline\n"
          ]
        }
      ],
      "source": [
        "time_start = time.time()\n",
        "SCOPES =  ['https://www.googleapis.com/auth/spreadsheets']\n",
        "\n",
        "\n",
        "DOMAINS = 'https://lms.logika.asia/group?'\n",
        "CPR_DOMAINS = 'https://lms.logika.asia/group/default/schedule'\n",
        "\n",
        "date_now = date.today()\n",
        "date_start = date_now - relativedelta(years=1)\n",
        "date_end = date_now + relativedelta(years=1)\n",
        "\n",
        "s = requests.Session()\n",
        "try:\n",
        "    creds = Credentials.from_authorized_user_file('token.json', SCOPES)\n",
        "except FileNotFoundError:\n",
        "    flow = InstalledAppFlow.from_client_secrets_file(\n",
        "        'credentials.json', SCOPES)\n",
        "    creds = flow.run_local_server(port=0)\n",
        "    with open('token.json', 'w') as token:\n",
        "        token.write(creds.to_json())\n",
        "service = build('sheets', 'v4', credentials=creds)\n",
        "sheet = service.spreadsheets()\n",
        "class_report = []\n",
        "bases = ['NLB', \"NVH\", \"PXL\", \"VCP\"]\n",
        "# bases = [\"VCP\"]\n",
        "date = {\"MON\" : 2,\"TUE\" : 3,\"WED\" : 4,\"THU\" : 5,\"FRI\" : 6,\"SAT\" : 7,\"SUN\" : 8}"
      ]
    },
    {
      "attachments": {},
      "cell_type": "markdown",
      "metadata": {},
      "source": [
        "get percentage for each class happend the day before"
      ]
    },
    {
      "cell_type": "code",
      "execution_count": 3,
      "metadata": {
        "id": "03AcjDYLlC8X"
      },
      "outputs": [
        {
          "name": "stderr",
          "output_type": "stream",
          "text": [
            "C:\\Users\\hazaz\\AppData\\Local\\Packages\\PythonSoftwareFoundation.Python.3.9_qbz5n2kfra8p0\\LocalCache\\local-packages\\Python39\\site-packages\\bs4\\__init__.py:223: UserWarning: You provided Unicode markup but also provided a value for from_encoding. Your from_encoding will be ignored.\n",
            "  warnings.warn(\"You provided Unicode markup but also provided a value for from_encoding. Your from_encoding will be ignored.\")\n"
          ]
        },
        {
          "name": "stdout",
          "output_type": "stream",
          "text": [
            "{}\n"
          ]
        }
      ],
      "source": [
        "def get_percentage():\n",
        "\n",
        "  percentages = {}\n",
        "  for base in bases:\n",
        "    for i in range(1,3):\n",
        "      date = date_now.today() - timedelta(i)\n",
        "      para = f'?GroupWithLessonSearch%5BnextLessonTime%5D={date}+-+{date}&GroupWithLessonSearch%5BnextLessonNumber%5D=&GroupWithLessonSearch%5BnextLessonTitle%5D=&GroupWithLessonSearch%5Bid%5D=&GroupWithLessonSearch%5Btitle%5D={base}&GroupWithLessonSearch%5Bvenue%5D=&GroupWithLessonSearch%5Bactive_student_count%5D=&GroupWithLessonSearch%5Bweekday%5D=&GroupWithLessonSearch%5BlessonTeacherName%5D=&GroupWithLessonSearch%5Bteacher%5D=&GroupWithLessonSearch%5Bcurator%5D=&GroupWithLessonSearch%5Btype%5D=&GroupWithLessonSearch%5Bstatus%5D=&GroupWithLessonSearch%5BlessonFormat%5D=&GroupWithLessonSearch%5Bis_online%5D=&export=true&name=default&exportType=html'\n",
        "      header =  {\n",
        "          \"accept\": \"text/html,application/xhtml+xml,application/xml;q=0.9,image/avif,image/webp,image/apng,*/*;q=0.8,application/signed-exchange;v=b3;q=0.7\",\n",
        "          \"accept-language\": \"en-US,en;q=0.9,vi-VN;q=0.8,vi;q=0.7\",\n",
        "          \"cache-control\": \"max-age=0\",\n",
        "          \"sec-ch-ua\": \"\\\"Not.A/Brand\\\";v=\\\"8\\\", \\\"Chromium\\\";v=\\\"114\\\", \\\"Google Chrome\\\";v=\\\"114\\\"\",\n",
        "          \"sec-ch-ua-mobile\": \"?0\",\n",
        "          \"sec-ch-ua-platform\": \"\\\"Windows\\\"\",\n",
        "          \"sec-fetch-dest\": \"document\",\n",
        "          \"sec-fetch-mode\": \"navigate\",\n",
        "          \"sec-fetch-site\": \"same-origin\",\n",
        "          \"sec-fetch-user\": \"?1\",\n",
        "          \"upgrade-insecure-requests\": \"1\",\n",
        "          \"cookie\": \"_ym_uid=1664966280852805697; intercom-device-id-ufjpx6k3=fd3080c1-5a63-4af6-bd1f-15268d549a7e; userId=30454; _grid_page_size_schedule=35d0980fa38e2255112d0c62698773cab8aa12a81c6735caf172064b5eb6ea47a%3A2%3A%7Bi%3A0%3Bs%3A24%3A%22_grid_page_size_schedule%22%3Bi%3A1%3Bs%3A3%3A%22200%22%3B%7D; _grid_page_size=d3ebbdf9ec9235bfc4ba59572a6d3dd403a563222be148e9c705e91612194e49a%3A2%3A%7Bi%3A0%3Bs%3A15%3A%22_grid_page_size%22%3Bi%3A1%3Bs%3A3%3A%22200%22%3B%7D; _ym_d=1680775536; sidebar-state=collapsed; studentId=1700942; _gid=GA1.2.1905923590.1685501187; studentAccessToken=dd3e27ac271a880d3828bd89fc2f361690522dc8b5f30fa1e35d2696b9c18e99; studentCreatedTimestamp=1685501221; intercom-session-ufjpx6k3=bFh2a3RNN2VVODJWSG9VOEhwWnpaMmVnSFI2WG9qRmQxUEZBVXVmL2xjQk9MTjRrM2hMTUxWcm5EZ3BmOEV0Qy0tK3h2YnV1a3dlVE1BbDl3a0JydGhuUT09--d98eb2edc5949eab40241a8fa7f8657fb4991710; previousPage=%2F; SERVERID=b450; createdTimestamp=1685604612; accessToken=12cb27d08f1ecb5d6d36771de2e09462efa4e98a878216b1427e3e6dfd1ce88d; SERVERID=b520; _backendMainSessionId=773e6a790225c56332767614b932ec91; _gat_gtag_UA_122842599_49=1; _ym_isad=2; _ym_visorc=w; _ga_3QSGZBLTE3=GS1.1.1685604614.81.1.1685604623.0.0.0; _ga=GA1.1.1620969847.1664966279\",\n",
        "          \"Referer\": f\"{CPR_DOMAINS}?GroupLessonSearch%5Bstart_time%5D={date}%20-%20{date}&GroupLessonSearch%5Bnumber%5D=&GroupLessonSearch%5Blesson.title%5D=&GroupLessonSearch%5Bgroup_id%5D=&GroupLessonSearch%5Bgroup.title%5D={base}&GroupLessonSearch%5Bgroup.active_student_count%5D=&GroupLessonSearch%5Bweekday%5D=&GroupLessonSearch%5Bteacher.name%5D=&GroupLessonSearch%5Bgroup.teacher.name%5D=&GroupLessonSearch%5Bis_online%5D=\",\n",
        "          \"Referrer-Policy\": \"strict-origin-when-cross-origin\"\n",
        "      }\n",
        "      end_point = CPR_DOMAINS + para\n",
        "      res = s.get(end_point, headers = header)\n",
        "      output = res.content.decode('utf-8')\n",
        "      soup = BeautifulSoup(output, 'html.parser', from_encoding='utf-8')\n",
        "      soup.find('tbody')\n",
        "      # get data \n",
        "      all_tr = soup.find_all('tr')\n",
        "      for i in range(len(all_tr)):\n",
        "        tr = all_tr[i]\n",
        "        all_td = tr.find_all('td')\n",
        "        next_les = all_td[1]\n",
        "        next_les = next_les.string\n",
        "        group_title = all_td[4].find('a')\n",
        "        \n",
        "        id = all_td[4].find('p')\n",
        "        class_occurrences = all_td[6].find('span')\n",
        "        if class_occurrences is None:\n",
        "          continue\n",
        "        class_occurrences = class_occurrences.string\n",
        "        if group_title is None:\n",
        "          continue\n",
        "        # print(str(class_occurrences))\n",
        "        group_title = group_title.string\n",
        "        percentages[str(group_title)] = [str(class_occurrences), int(next_les)]\n",
        "  \n",
        "  return percentages \n",
        "percentages = get_percentage()\n",
        "print(percentages)"
      ]
    },
    {
      "attachments": {},
      "cell_type": "markdown",
      "metadata": {},
      "source": [
        "main function \n",
        "will get update in the future and clean up soon."
      ]
    },
    {
      "cell_type": "code",
      "execution_count": 4,
      "metadata": {
        "id": "v1INZn-czjlm"
      },
      "outputs": [
        {
          "data": {
            "application/vnd.jupyter.widget-view+json": {
              "model_id": "173c9ce4a7614cc785dd73dd86d1f0bc",
              "version_major": 2,
              "version_minor": 0
            },
            "text/plain": [
              "Output()"
            ]
          },
          "metadata": {},
          "output_type": "display_data"
        },
        {
          "data": {
            "text/html": [
              "<pre style=\"white-space:pre;overflow-x:auto;line-height:normal;font-family:Menlo,'DejaVu Sans Mono',consolas,'Courier New',monospace\">Non\n",
              "</pre>\n"
            ],
            "text/plain": [
              "Non\n"
            ]
          },
          "metadata": {},
          "output_type": "display_data"
        },
        {
          "name": "stdout",
          "output_type": "stream",
          "text": [
            "126\n"
          ]
        },
        {
          "data": {
            "text/html": [
              "<pre style=\"white-space:pre;overflow-x:auto;line-height:normal;font-family:Menlo,'DejaVu Sans Mono',consolas,'Courier New',monospace\">Non invalid literal for int() with base 10: 'S'\n",
              "</pre>\n"
            ],
            "text/plain": [
              "Non invalid literal for int() with base 10: 'S'\n"
            ]
          },
          "metadata": {},
          "output_type": "display_data"
        },
        {
          "data": {
            "text/html": [
              "<pre style=\"white-space:pre;overflow-x:auto;line-height:normal;font-family:Menlo,'DejaVu Sans Mono',consolas,'Courier New',monospace\">NLB_PTSY1.61_WED_OFF\n",
              "</pre>\n"
            ],
            "text/plain": [
              "NLB_PTSY1.61_WED_OFF\n"
            ]
          },
          "metadata": {},
          "output_type": "display_data"
        },
        {
          "data": {
            "text/html": [
              "<pre style=\"white-space:pre;overflow-x:auto;line-height:normal;font-family:Menlo,'DejaVu Sans Mono',consolas,'Courier New',monospace\">NLB_GD63_WED_OFF\n",
              "</pre>\n"
            ],
            "text/plain": [
              "NLB_GD63_WED_OFF\n"
            ]
          },
          "metadata": {},
          "output_type": "display_data"
        }
      ],
      "source": [
        "def get_data(percentages):\n",
        "  feedback_need = {}\n",
        "  # bases = [\"VCP\"]\n",
        "  wday = ''\n",
        "  name_PT = ''\n",
        "  for base in bases:\n",
        "      new_start_time = time.time()\n",
        "      para = f'GroupSearch%5Bid%5D=&GroupSearch%5Btitle%5D={base}&GroupSearch%5Bvenue%5D=&GroupSearch%5Bactive_student_count%5D=&GroupSearch%5BnextLessonTime%5D=&GroupSearch%5BnextLessonNumber%5D=&GroupSearch%5BnextLessonTitle%5D=&GroupSearch%5Bteacher%5D=&GroupSearch%5Bcurator%5D=&GroupSearch%5Btype%5D=&GroupSearch%5Btype%5D%5B%5D=regular&GroupSearch%5Btype%5D%5B%5D=intensive&GroupSearch%5Bstatus%5D=&GroupSearch%5BcourseContentType%5D=&GroupSearch%5BcourseContentType%5D%5B%5D=course&GroupSearch%5BcourseContentType%5D%5B%5D=intensive&GroupSearch%5BcourseStartTime%5D={date_start}+-+{date_now}&GroupSearch%5BcourseEndTime%5D={date_now}+-+{date_end}&presetType=active&export=true&name=default&exportType=html'\n",
        "      header = {\n",
        "            \"accept\": \"text/html,application/xhtml+xml,application/xml;q=0.9,image/avif,image/webp,image/apng,*/*;q=0.8,application/signed-exchange;v=b3;q=0.7\",\n",
        "            \"accept-language\": \"en-US,en;q=0.9,vi-VN;q=0.8,vi;q=0.7\",\n",
        "            \"cache-control\": \"max-age=0\",\n",
        "            \"sec-ch-ua\": \"\\\"Not.A/Brand\\\";v=\\\"8\\\", \\\"Chromium\\\";v=\\\"114\\\", \\\"Google Chrome\\\";v=\\\"114\\\"\",\n",
        "            \"sec-ch-ua-mobile\": \"?0\",\n",
        "            \"sec-ch-ua-platform\": \"\\\"Windows\\\"\",\n",
        "            \"sec-fetch-dest\": \"document\",\n",
        "            \"sec-fetch-mode\": \"navigate\",\n",
        "            \"sec-fetch-site\": \"same-origin\",\n",
        "            \"sec-fetch-user\": \"?1\",\n",
        "            \"upgrade-insecure-requests\": \"1\",\n",
        "            \"cookie\": \"_ym_uid=1664966280852805697; intercom-device-id-ufjpx6k3=fd3080c1-5a63-4af6-bd1f-15268d549a7e; userId=30454; _grid_page_size_schedule=35d0980fa38e2255112d0c62698773cab8aa12a81c6735caf172064b5eb6ea47a%3A2%3A%7Bi%3A0%3Bs%3A24%3A%22_grid_page_size_schedule%22%3Bi%3A1%3Bs%3A3%3A%22200%22%3B%7D; _grid_page_size=d3ebbdf9ec9235bfc4ba59572a6d3dd403a563222be148e9c705e91612194e49a%3A2%3A%7Bi%3A0%3Bs%3A15%3A%22_grid_page_size%22%3Bi%3A1%3Bs%3A3%3A%22200%22%3B%7D; _ym_d=1680775536; intercom-session-ufjpx6k3=L1A3SVBhc1ZpZDczbzMyZHdKaElydFdlY1R2UmlTeVhLOHZheVdsTjlGMFR5L0tLVktzQ2xnallyVGhhNjkyNi0tS2NjY2dvcTY4TCt1VWVOUkFUZ0s1dz09--f6830d790fcf0921934051122b736cb0fc92ef88; studentId=1700942; createdTimestamp=1688205899; accessToken=48f0f413e9f17e12a914132c584441aba1b7b3f2e4e1c0b845d1d25cfb2c9fb5; SERVERID=b430; studentAccessToken=153d2b321ef23a225c50c18e3b00c4c93b1034dbc8da411eacce40770a5c7e53; studentCreatedTimestamp=1688205924; _backendMainSessionId=bc33bc19a9cba538b016e386d2a5af7d; _gid=GA1.2.1220168023.1688301889; _ym_isad=2; _ym_visorc=w; _ga_3QSGZBLTE3=GS1.1.1688301888.151.1.1688301906.0.0.0; _ga=GA1.2.1620969847.1664966279\",\n",
        "            \"Referer\": f\"{DOMAINS}GroupSearch%5Bid%5D=&GroupSearch%5Btitle%5D={base}&GroupSearch%5Bvenue%5D=&GroupSearch%5Bactive_student_count%5D=&GroupSearch%5BnextLessonTime%5D=&GroupSearch%5BnextLessonNumber%5D=&GroupSearch%5BnextLessonTitle%5D=&GroupSearch%5Bteacher%5D=&GroupSearch%5Bcurator%5D=&GroupSearch%5Btype%5D=&GroupSearch%5Btype%5D%5B%5D=regular&GroupSearch%5Btype%5D%5B%5D=intensive&GroupSearch%5Btype%5D%5B%5D=individual&GroupSearch%5Bstatus%5D=&GroupSearch%5BcourseContentType%5D=&GroupSearch%5BcourseContentType%5D%5B%5D=course&GroupSearch%5BcourseContentType%5D%5B%5D=intensive&GroupSearch%5BcourseStartTime%5D={date_start}%20-%20{date_now}&GroupSearch%5BcourseEndTime%5D={date_now}%20-%{date_end}&presetType=active\",\n",
        "            \"Referrer-Policy\": \"strict-origin-when-cross-origin\"\n",
        "          }\n",
        "\n",
        "\n",
        "      end_point = DOMAINS + para\n",
        "      res = s.get(end_point, headers = header)\n",
        "      output = res.content.decode('utf-8')\n",
        "\n",
        "      soup = BeautifulSoup(output, 'html.parser', from_encoding='utf-8')\n",
        "      soup.find('tbody')\n",
        "\n",
        "      table_rows = soup.find_all('tr')\n",
        "      groups = []\n",
        "      feedback_need = {}\n",
        "      # table_rows = list(table_rows)\n",
        "      # print(len(table_rows))\n",
        "\n",
        "      # table_rows.remove(table_rows[0])\n",
        "      date_str = ''\n",
        "      print(len(table_rows))\n",
        "      for tr in track(table_rows, description= f\"Processing {base}...\"):\n",
        "          lessons = []\n",
        "          group = []\n",
        "          all_td = tr.find_all('td')\n",
        "          group_id = all_td[0].string\n",
        "          group_name = all_td[1].find('a')\n",
        "          group_name = str(group_name)[str(group_name).find('>')+1:str(group_name).find('</a>')]\n",
        "          teacher_name = all_td[7].find('a')\n",
        "          teacher_name = str(teacher_name)[str(teacher_name).find('>')+1:str(teacher_name).find('</a>')]\n",
        "          for key in date.keys():\n",
        "            if key in group_name:\n",
        "                date_str = key\n",
        "                break\n",
        "          if date_str:\n",
        "            wday = date[date_str]\n",
        "          all_li = all_td[1].find('p')\n",
        "          if group_name is None or str(group_name) == \"NVH_UGD2_MON/WED_OFF (PRIVATE)\":\n",
        "                continue\n",
        "          campus = all_td[2].string\n",
        "          amount_student = all_td[3].string\n",
        "          next_lesson_time = all_td[4].string\n",
        "          next_lesson_time = str(next_lesson_time)\n",
        "          next_lesson_index = all_td[5].string\n",
        "          next_lesson_index = str(next_lesson_index)\n",
        "          next_lesson_name = all_td[6].find('div')\n",
        "          next_lesson_name = str(next_lesson_name)[str(next_lesson_name).find('>')+1:str(next_lesson_name).find('</div>')]   \n",
        "          course_start_date = all_td[12].string\n",
        "          course_end_date = all_td[13].string\n",
        "          all_li = str(all_li)\n",
        "          class_time = next_lesson_time[next_lesson_time.find(\":\")-2:]\n",
        "          url = all_li[all_li.find(\"https\"):all_li.find(\"</p>\")]\n",
        "          start = url.find(\"d/\")\n",
        "          end = url.find(\"/edit\")\n",
        "          id = url[start+2:end]\n",
        "          print(group_name)\n",
        "          try:\n",
        "              result = sheet.values().get(spreadsheetId=id, range='Report!AC3:AC40').execute()\n",
        "              values = result.get('values', [])\n",
        "             \n",
        "              for j in values:\n",
        "                  if j[0] != \"#DIV/0!\":\n",
        "                      score = j[0]\n",
        "                      lessons.append(round(float(score), 2)) \n",
        "                  else:\n",
        "                      lessons.append(j[0])\n",
        "                  \n",
        "              if len(lessons) == 0:\n",
        "                  result = sheet.values().get(spreadsheetId=id, range='Report!AE3:AE40').execute()\n",
        "                  values = result.get('values', [])\n",
        "                  \n",
        "                  for j in values:\n",
        "                      if j[0] != \"#DIV/0!\":\n",
        "                          score = j[0]\n",
        "                          lessons.append(float(score)) \n",
        "                      else:\n",
        "                          lessons.append(j[0])\n",
        "              if next_lesson_index == \"2\" or next_lesson_index == \"5\" or next_lesson_index == \"9\" or next_lesson_index == \"13\" or next_lesson_index == \"21\" or next_lesson_index == \"25\" or next_lesson_index == \"29\":\n",
        "                  feedback_need[group_name] = [id,int(next_lesson_index)]\n",
        "              \n",
        "              programT_name = sheet.values().get(spreadsheetId=id, range='Report!E6:M6').execute()\n",
        "              values = programT_name.get('values', [])\n",
        "              try:\n",
        "                name_PT = str(values[0][0])\n",
        "              except:\n",
        "                name_PT = \"None\"\n",
        "          except HttpError as err:\n",
        "              time.sleep(10)\n",
        "          all_li = str(all_li)\n",
        "          \n",
        "          url = all_li[all_li.find(\"https\"):all_li.find(\"</p>\")]\n",
        "          try:\n",
        "            try:\n",
        "              group = [group_id, wday, str(group_name), str(teacher_name), name_PT , class_time, str(url), str(campus), int(amount_student[0]), next_lesson_time, int(next_lesson_index), percentages[str(group_name)][0], next_lesson_name, course_start_date, course_end_date]\n",
        "\n",
        "            except:\n",
        "              group = [group_id, wday, str(group_name), str(teacher_name), name_PT , class_time, str(url), str(campus), int(amount_student[0]), next_lesson_time, int(next_lesson_index), \"TBU\", next_lesson_name, course_start_date, course_end_date]\n",
        "            # print(group_name)\n",
        "            group.extend(lessons)\n",
        "            groups.append(group)\n",
        "            \n",
        "          except ValueError as err:\n",
        "            print(group_name, err)\n",
        "          \n",
        "      time_end = time.time()\n",
        "      resource = {\n",
        "          \"majorDimension\": \"ROWS\",\n",
        "          \"values\": groups\n",
        "      }\n",
        "      cresult = sheet.values().clear(\n",
        "          spreadsheetId=\"1D8uRbAJXBJMcF0e8tXWKe5dRbiv-EW_by-SpNAxZ3qA\",\n",
        "          range=f\"{base}!A2:ZZZ\"\n",
        "        ).execute()\n",
        "      print(f\"{base} has {len(groups)} groups  \")\n",
        "\n",
        "      # 1EzB0-CpBYUe1J8z9jjDEPIBc3tcOwyBJZyPXN6HPZgE for testing\n",
        "      # 1D8uRbAJXBJMcF0e8tXWKe5dRbiv-EW_by-SpNAxZ3qA for real data update\n",
        "\n",
        "      result1 = sheet.values().update(\n",
        "          spreadsheetId= \"1D8uRbAJXBJMcF0e8tXWKe5dRbiv-EW_by-SpNAxZ3qA\",\n",
        "          range= f\"{base}!A2\",\n",
        "          valueInputOption=\"RAW\",\n",
        "          body=resource).execute()\n",
        "  print(\"Done\")\n",
        "  return feedback_need\n",
        "get_data(percentages)"
      ]
    },
    {
      "attachments": {},
      "cell_type": "markdown",
      "metadata": {},
      "source": [
        "get the feedback from teacher use as a data point to train AI NLP model"
      ]
    },
    {
      "cell_type": "code",
      "execution_count": null,
      "metadata": {
        "id": "stuyAan09qPQ"
      },
      "outputs": [],
      "source": [
        "def get_feedback():\n",
        "  feedback_need = get_data(percentages)\n",
        "  student_sheet  = {2 : \"C36:D45\", 5 :\"C36:D45\", 9 : \"C69:D78\", 13 : \"C102:D111\", 21 : \"C168:D177\", 25 : \"C201:D210\", 29 : \"C234:D243\"}\n",
        "  feedback_sheet = {2 : \"M36:O45\", 5 :\"S36:V45\" ,9 : \"P69:S78\", 13 : \"P102:S111\", 21 : \"P168:S177\", 25 : \"P201:S210\", 29 : \"P234:S243\"}\n",
        "  # print(feedback_need)\n",
        "  class_report = []\n",
        "  \n",
        "  for group_name,value in feedback_need.items():\n",
        "  \n",
        "\n",
        "    link = value[0]\n",
        "    lesson = value[1]\n",
        "    feed = feedback_sheet[lesson]\n",
        "    student = student_sheet[lesson]\n",
        "    try:\n",
        "      result1 = sheet.values().get(spreadsheetId=link, range=f'Report!{student}').execute()\n",
        "      values1 = result1.get('values', [])\n",
        "      result2 = sheet.values().get(spreadsheetId=link, range=f'Report!{feed}').execute()\n",
        "      values2 = result2.get('values', [])\n",
        "      \n",
        "      for i in range(len(values1)):\n",
        "        try:\n",
        "          class_report.append([group_name,lesson,values1[i][0],values2[i][0].replace(\"\\n\", \" \").replace(\"\\t\", \" \")])\n",
        "        except:\n",
        "          try:\n",
        "            class_report.append([group_name,lesson,values1[i][0],\"not yet\"])\n",
        "          except:\n",
        "            pass\n",
        "    except HttpError:\n",
        "      time.sleep(60)\n",
        "\n",
        "  return class_report\n",
        "    \n",
        "# get_feedback()"
      ]
    },
    {
      "attachments": {},
      "cell_type": "markdown",
      "metadata": {},
      "source": [
        "push to Feedback Sheet "
      ]
    },
    {
      "cell_type": "code",
      "execution_count": null,
      "metadata": {
        "id": "h6zOQVWyA1Vo"
      },
      "outputs": [],
      "source": [
        "def push_to_sheet():\n",
        "  # print(data)\n",
        "  # 1EzB0-CpBYUe1J8z9jjDEPIBc3tcOwyBJZyPXN6HPZgE for testing\n",
        "  # 1D8uRbAJXBJMcF0e8tXWKe5dRbiv-EW_by-SpNAxZ3qA for real data update\n",
        "  class_report = get_feedback()\n",
        "  result = sheet.values().clear(\n",
        "          spreadsheetId=\"1D8uRbAJXBJMcF0e8tXWKe5dRbiv-EW_by-SpNAxZ3qA\",\n",
        "          range=\"Feedback Report!A1:ZZZ\"\n",
        "      ).execute()\n",
        "  resource2 = {\n",
        "        \"majorDimension\": \"ROWS\",\n",
        "        \"values\": class_report\n",
        "    }\n",
        "  result = sheet.values().update(\n",
        "            spreadsheetId= \"1D8uRbAJXBJMcF0e8tXWKe5dRbiv-EW_by-SpNAxZ3qA\",\n",
        "            range= f\"Feedback Report!A2\",\n",
        "            valueInputOption=\"RAW\",\n",
        "            body=resource2).execute()\n",
        "push_to_sheet()"
      ]
    },
    {
      "attachments": {},
      "cell_type": "markdown",
      "metadata": {},
      "source": [
        "Get the Finished classes"
      ]
    },
    {
      "cell_type": "code",
      "execution_count": null,
      "metadata": {},
      "outputs": [],
      "source": [
        "def fin_classes():\n",
        "    fin_grp = []\n",
        "    for base in bases:\n",
        "        DOMAINS_FIN = \"https://lms.logika.asia/group?\"\n",
        "\n",
        "\n",
        "        para = f\"GroupSearch%5Bid%5D=&GroupSearch%5Btitle%5D={base}&GroupSearch%5Bvenue%5D=&GroupSearch%5Bactive_student_count%5D=&GroupSearch%5BnextLessonTime%5D=&GroupSearch%5BnextLessonNumber%5D=&GroupSearch%5BnextLessonTitle%5D=&GroupSearch%5Bteacher%5D=&GroupSearch%5Bcurator%5D=&GroupSearch%5Bstatus%5D=&GroupSearch%5Bstatus%5D%5B%5D=inactive&GroupSearch%5BcourseContentType%5D=&GroupSearch%5BcourseStartTime%5D=&GroupSearch%5BcourseEndTime%5D=&export=true&name=default&exportType=html\"\n",
        "\n",
        "\n",
        "        header = {\n",
        "            \"accept\": \"text/html,application/xhtml+xml,application/xml;q=0.9,image/avif,image/webp,image/apng,*/*;q=0.8,application/signed-exchange;v=b3;q=0.7\",\n",
        "            \"accept-language\": \"en-US,en;q=0.9,vi-VN;q=0.8,vi;q=0.7\",\n",
        "            \"cache-control\": \"max-age=0\",\n",
        "            \"sec-ch-ua\": \"\\\"Not.A/Brand\\\";v=\\\"8\\\", \\\"Chromium\\\";v=\\\"114\\\", \\\"Google Chrome\\\";v=\\\"114\\\"\",\n",
        "            \"sec-ch-ua-mobile\": \"?0\",\n",
        "            \"sec-ch-ua-platform\": \"\\\"Windows\\\"\",\n",
        "            \"sec-fetch-dest\": \"document\",\n",
        "            \"sec-fetch-mode\": \"navigate\",\n",
        "            \"sec-fetch-site\": \"same-origin\",\n",
        "            \"sec-fetch-user\": \"?1\",\n",
        "            \"upgrade-insecure-requests\": \"1\",\n",
        "            \"cookie\": \"_ym_uid=1664966280852805697; intercom-device-id-ufjpx6k3=fd3080c1-5a63-4af6-bd1f-15268d549a7e; userId=30454; _grid_page_size_schedule=35d0980fa38e2255112d0c62698773cab8aa12a81c6735caf172064b5eb6ea47a%3A2%3A%7Bi%3A0%3Bs%3A24%3A%22_grid_page_size_schedule%22%3Bi%3A1%3Bs%3A3%3A%22200%22%3B%7D; _grid_page_size=d3ebbdf9ec9235bfc4ba59572a6d3dd403a563222be148e9c705e91612194e49a%3A2%3A%7Bi%3A0%3Bs%3A15%3A%22_grid_page_size%22%3Bi%3A1%3Bs%3A3%3A%22200%22%3B%7D; _ym_d=1680775536; studentId=1700942; createdTimestamp=1685604612; accessToken=12cb27d08f1ecb5d6d36771de2e09462efa4e98a878216b1427e3e6dfd1ce88d; SERVERID=b520; _gid=GA1.2.677760467.1686204931; intercom-session-ufjpx6k3=cDBLaWhYejU3NGtBUjdYKzJSbWZSekwyQ3lXbzk2dUVLR2tYZDJVcGRBcURvK1NXZEROOG93enRNMm5pY3FmZi0tdWZNdU8rSG8yL1lsTkIrV1FQMVJkUT09--c675c581cfccb0b3d88c762134b92fbd686dce14; studentAccessToken=ea5adbb380f6c6d45c9236a71fc7b825837c501d130b51d78830b1a1d838e105; studentCreatedTimestamp=1686369948; _backendMainSessionId=7e24161e304e4d308ead5826129a8c9c; SERVERID=b440; _ym_isad=2; _ym_visorc=w; _ga_3QSGZBLTE3=GS1.1.1686382171.111.1.1686383709.0.0.0; _ga=GA1.1.1620969847.1664966279\",\n",
        "            \"Referer\": f\"{DOMAINS_FIN}GroupSearch%5Bid%5D=&GroupSearch%5Btitle%5D={base}&GroupSearch%5Bvenue%5D=&GroupSearch%5Bactive_student_count%5D=&GroupSearch%5BnextLessonTime%5D=&GroupSearch%5BnextLessonNumber%5D=&GroupSearch%5BnextLessonTitle%5D=&GroupSearch%5Bteacher%5D=&GroupSearch%5Bcurator%5D=&GroupSearch%5Bstatus%5D=&GroupSearch%5Bstatus%5D%5B%5D=inactive&GroupSearch%5BcourseContentType%5D=&GroupSearch%5BcourseStartTime%5D=&GroupSearch%5BcourseEndTime%5D=\",\n",
        "            \"Referrer-Policy\": \"strict-origin-when-cross-origin\"\n",
        "        }\n",
        "\n",
        "\n",
        "\n",
        "        end_point = DOMAINS_FIN + para\n",
        "        res = s.get(end_point, headers = header)\n",
        "        output = res.content.decode('utf-8')\n",
        "        soup = BeautifulSoup(output, 'html.parser', from_encoding='utf-8')\n",
        "        soup.find('tbody')\n",
        "        table_rows = soup.find_all('tr')\n",
        "        \n",
        "        table_rows.remove(table_rows[0])\n",
        "        # print(table_rows)\n",
        "        for tr in table_rows:\n",
        "            all_td = tr.find_all('td')\n",
        "            grp_id = str(all_td[0].string)\n",
        "            grp_name = all_td[1].find(\"a\")\n",
        "            cpr_url = all_td[1].find(\"p\")\n",
        "            cpr_url = str(cpr_url)\n",
        "            url = cpr_url[cpr_url.find(\"https\"):cpr_url.find(\"</p>\")]\n",
        "            num_of_std = all_td[3].find(\"span\")       \n",
        "            num_of_std = str(num_of_std.string)[0]\n",
        "            # if num_of_std == \"N\" or num_of_std == \"0\":\n",
        "                # continue\n",
        "            num_of_std = int(num_of_std)\n",
        "            grp_name = str(grp_name.string) \n",
        "            group_status = all_td[9].string\n",
        "            class_end_date = all_td[12].string\n",
        "            if class_end_date:\n",
        "                class_end_date = str(class_end_date)\n",
        "                class_end_date = class_end_date[:class_end_date.find(\" \")]\n",
        "                # print(class_end_date)\n",
        "                # class_end_date = date.strptime(class_end_date, \"%d.%m.%Y\")\n",
        "                # class_end_date = class_end_date.strftime(\"%m.%d.%Y\")\n",
        "            else:\n",
        "                class_end_date = None\n",
        "\n",
        "            if str(group_status) == \"Finished\" and str(group_status) != \"Collapsed\" and (grp_name.find(\"Trial\") == -1 or grp_name.find(\"Demo\") != -1):\n",
        "                fin_grp.append([grp_id , grp_name, num_of_std, url, group_status, class_end_date])   \n",
        "    return fin_grp\n",
        "\n",
        "\n",
        "fin_grp = fin_classes()\n",
        "print(fin_grp)\n",
        "resource = {\n",
        "        \"majorDimension\": \"ROWS\",\n",
        "        \"values\": fin_grp\n",
        "    }\n",
        "\n",
        "result = sheet.values().update(\n",
        "    spreadsheetId= \"1D8uRbAJXBJMcF0e8tXWKe5dRbiv-EW_by-SpNAxZ3qA\",\n",
        "    range= f\"'Finished Groups'!A2\",\n",
        "    valueInputOption=\"RAW\",\n",
        "    body=resource).execute()"
      ]
    },
    {
      "attachments": {},
      "cell_type": "markdown",
      "metadata": {},
      "source": [
        "Testing with Database"
      ]
    },
    {
      "cell_type": "code",
      "execution_count": null,
      "metadata": {},
      "outputs": [],
      "source": [
        "import mysql.connector\n",
        "import rich\n",
        "# MySQL database configuration\n",
        "config = {\n",
        "    'user': 'root',\n",
        "    'password': '',\n",
        "    'host': 'localhost',\n",
        "    'database': 'algodb',\n",
        "    # 'your_table' : 'nlb',\n",
        "    'raise_on_warnings': True\n",
        "}\n",
        "\n",
        "try:\n",
        "    # Establish a connection to the MySQL server\n",
        "    connection = mysql.connector.connect(**config)\n",
        "\n",
        "    if connection.is_connected():\n",
        "        db_info = connection.get_server_info()\n",
        "        print(f\"Connected to MySQL Server version {db_info}\")\n",
        "\n",
        "        cursor = connection.cursor()\n",
        "\n",
        "        # Execute a sample query\n",
        "        cursor.execute(\"SELECT * FROM nlb\")\n",
        "\n",
        "        # Fetch and print the query results\n",
        "        rows = cursor.fetchall()\n",
        "        # for row in rows:\n",
        "        #     print(row)\n",
        "        # if connection.is_connected():\n",
        "        #     cursor.close()\n",
        "        #     connection.close()\n",
        "        #     print(\"MySQL connection is closed\")\n",
        "except mysql.connector.Error as error:\n",
        "    print(f\"Error connecting to MySQL: {error}\")"
      ]
    }
  ],
  "metadata": {
    "colab": {
      "private_outputs": true,
      "provenance": []
    },
    "gpuClass": "standard",
    "kernelspec": {
      "display_name": "Python 3",
      "name": "python3"
    },
    "language_info": {
      "codemirror_mode": {
        "name": "ipython",
        "version": 3
      },
      "file_extension": ".py",
      "mimetype": "text/x-python",
      "name": "python",
      "nbconvert_exporter": "python",
      "pygments_lexer": "ipython3",
      "version": "3.9.13"
    }
  },
  "nbformat": 4,
  "nbformat_minor": 0
}
